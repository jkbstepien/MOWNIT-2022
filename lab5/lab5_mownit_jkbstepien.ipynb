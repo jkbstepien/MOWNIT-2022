{
 "cells": [
  {
   "cell_type": "markdown",
   "id": "e3bd1ef3",
   "metadata": {},
   "source": [
    "## **MOWNIT**, Jakub Stępień"
   ]
  },
  {
   "cell_type": "markdown",
   "id": "c1ec6835",
   "metadata": {},
   "source": [
    "### Laboratorium 4 - tablice wielowymiarowe i mnożenie macierzy"
   ]
  },
  {
   "cell_type": "markdown",
   "id": "2df51b0b",
   "metadata": {},
   "source": [
    "**Instalacja potrzebnych komponentów:**"
   ]
  },
  {
   "cell_type": "code",
   "execution_count": null,
   "id": "64fc7a2f",
   "metadata": {},
   "outputs": [],
   "source": []
  },
  {
   "cell_type": "markdown",
   "id": "71ef5033",
   "metadata": {},
   "source": [
    "### **Zadanie 1:**"
   ]
  },
  {
   "cell_type": "markdown",
   "id": "103f8476",
   "metadata": {},
   "source": [
    "Uruchomić \n",
    "   - `naive_multiplication(A,B)`, \n",
    "   - `better_multiplication(A,B)` \n",
    "   - mnożenie BLAS w Julii (`A*B`) \n",
    "\n",
    "    dla coraz większych macierzy kwadratowych i zmierzyć czasy. Narysować wykres zależyności czasu od rozmiaru macierzy wraz z słupkami błędów. Wszystkie trzy metody powinny być na jednym wykresie. **(1pkt)**. Do analizy danych można użyć wybranego narzędzia (Julia, R)"
   ]
  },
  {
   "cell_type": "code",
   "execution_count": null,
   "id": "9b73607c",
   "metadata": {},
   "outputs": [],
   "source": []
  },
  {
   "cell_type": "markdown",
   "id": "7440e893",
   "metadata": {},
   "source": [
    "### **Zadanie 2:**"
   ]
  },
  {
   "cell_type": "markdown",
   "id": "94f0dbee",
   "metadata": {},
   "source": [
    "Napisać w języku C:\n",
    "   - naiwną metodę mnożenia macierzy kwadratowych (wersja 1) \n",
    "   - ulepszoną wersję za pomocą zamiany pętli metodę mnożenia macierzy(wersja 2), pamiętając, że w C macierz przechowywana jest wierszami (row major order tzn A11,A12, ..., A1m, A21, A22,...,A2m, ..Anm), inaczej niż w Julii ! \n",
    "   - skorzystać z  możliwości BLAS poziom 3 dostępnego w GSL  (przykład uzycia https://www.gnu.org/software/gsl/doc/html/blas.html#examples )\n",
    "    \n",
    "    Należy porównywać działanie tych trzech algorytmow bez włączonej opcji optymalizacji kompilatora. Przedstawić wyniki na jednym wykresie tak jak w p.1. (osobno niż p.1). **(1 pkt)**\n",
    "    \n",
    "    *(Dla chętnych)* sprawdzić, co się dzieje, jak włączymy optymalizację kompilatora i dodać do wykresu. \n",
    "Do analizy danych można użyć wybranego narzędzia (Julia, R)"
   ]
  },
  {
   "cell_type": "code",
   "execution_count": null,
   "id": "19143005",
   "metadata": {},
   "outputs": [],
   "source": []
  },
  {
   "cell_type": "markdown",
   "id": "b8486de3",
   "metadata": {},
   "source": [
    "### **Zadanie 3:**"
   ]
  },
  {
   "cell_type": "markdown",
   "id": "c74f3db8",
   "metadata": {},
   "source": [
    "Użyć aproksymacji odpowiednimi wielomianami, które najlepiej pasują do zależności czasowych każdego z algorytmów. Stopień wielomianu powinien zgadzać się z teoretyczną złożonoscią. Dodać wykresy uzyskanych wielomianów do wcześniejszych wykresów. **(1 pkt)** Do analizy danych można użyć wybranego narzędzia (Julia, R)"
   ]
  },
  {
   "cell_type": "code",
   "execution_count": null,
   "id": "d9d3d874",
   "metadata": {},
   "outputs": [],
   "source": []
  },
  {
   "cell_type": "markdown",
   "id": "05fd6334",
   "metadata": {},
   "source": [
    "### **Zadanie 4:**"
   ]
  },
  {
   "cell_type": "markdown",
   "id": "dfe55e45",
   "metadata": {},
   "source": [
    "Pokazać zniwelowanie efektu Rungego  poprzez użycie wsparcia dla wielomianów Czebyszewa w pakiecie Polynomials. Wymagany wykres. **(1 pkt)**"
   ]
  },
  {
   "cell_type": "code",
   "execution_count": null,
   "id": "a826441a",
   "metadata": {},
   "outputs": [],
   "source": []
  },
  {
   "cell_type": "markdown",
   "id": "ba68097d",
   "metadata": {},
   "source": [
    "### **Zadanie 5:**"
   ]
  },
  {
   "cell_type": "markdown",
   "id": "1826cbd3",
   "metadata": {},
   "source": [
    "Przybliżenie Pade jest często lepsze niż rozwinięcie w szereg Taylora przy aproksymowaniu funkcji, które posiadają osobliwości. Korzystając ze wsparcia dla aproksymacji Pade w pakiecie Polynomials pokazać dowolny przykład (wraz z wykresem), gdzie takie przybliżenie faktycznie jest lepsze. Można odtworzyć wykres z wykładu albo zainspirować się przykładowym artykułem https://www.hindawi.com/journals/ijcm/2014/587430/ **(1 pkt)**"
   ]
  },
  {
   "cell_type": "code",
   "execution_count": null,
   "id": "3d08d600",
   "metadata": {},
   "outputs": [],
   "source": []
  }
 ],
 "metadata": {
  "kernelspec": {
   "display_name": "Julia 1.7.2",
   "language": "julia",
   "name": "julia-1.7"
  },
  "language_info": {
   "file_extension": ".jl",
   "mimetype": "application/julia",
   "name": "julia",
   "version": "1.7.2"
  }
 },
 "nbformat": 4,
 "nbformat_minor": 5
}
