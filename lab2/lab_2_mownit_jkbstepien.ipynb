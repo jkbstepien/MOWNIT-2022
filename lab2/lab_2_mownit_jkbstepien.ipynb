{
 "cells": [
  {
   "cell_type": "markdown",
   "metadata": {},
   "source": [
    "# MOwNiT\n",
    "## Laboratorium 2\n",
    "### Analiza danych - DataFrames"
   ]
  },
  {
   "cell_type": "markdown",
   "metadata": {},
   "source": [
    "- Zaawansowany pakiet do działania na tabelkach nxm danych \n",
    "- Podobne do pandas DataFrames w Pythonie albo data.frame w R\n",
    "- Specjalistyczne funkcje do statystyki\n",
    "- W przypadku włąsnej instalacji należy zaistalować pakiet:\n",
    "\n",
    "```julia\n",
    "Pkg.add(\"DataFrames\")\n",
    "```\n",
    "\n",
    "- DataFrame to rodzaj bazy danych in-memory\n",
    "- Składa się z kolumn, do których odwołujemy się używając symboli\n",
    "- Każda z kolumn może przechowywać inny typ (inaczej niż w dwuwymiarowych tablicach )\n",
    "- od wersji 0.11 każda z kolumn jest typu Array{T,1} gdzie T jest okreslonym typem danych (np. Float64)\n",
    "- strona pakietu: https://github.com/JuliaStats/DataFrames.jl\n",
    "- dokumentacja najnowszej wersji: https://juliadata.github.io/DataFrames.jl/stable/index.html\n",
    "\n",
    "\n",
    "\n"
   ]
  },
  {
   "cell_type": "code",
   "execution_count": 57,
   "metadata": {},
   "outputs": [
    {
     "name": "stderr",
     "output_type": "stream",
     "text": [
      "\u001b[32m\u001b[1m   Resolving\u001b[22m\u001b[39m package versions...\n",
      "\u001b[32m\u001b[1m  No Changes\u001b[22m\u001b[39m to `~/.julia/environments/v1.7/Project.toml`\n",
      "\u001b[32m\u001b[1m  No Changes\u001b[22m\u001b[39m to `~/.julia/environments/v1.7/Manifest.toml`\n"
     ]
    }
   ],
   "source": [
    "# za pierwszym razem instalujemy\n",
    "using Pkg\n",
    "Pkg.add(\"DataFrames\")"
   ]
  },
  {
   "cell_type": "code",
   "execution_count": 2,
   "metadata": {},
   "outputs": [
    {
     "name": "stdout",
     "output_type": "stream",
     "text": [
      "\u001b[1m4×3 DataFrame\u001b[0m\n",
      "\u001b[1m Row \u001b[0m│\u001b[1m MojaKolumna \u001b[0m\u001b[1m x2       \u001b[0m\u001b[1m Col3  \u001b[0m\n",
      "\u001b[1m     \u001b[0m│\u001b[90m Int64       \u001b[0m\u001b[90m Float64  \u001b[0m\u001b[90m Bool  \u001b[0m\n",
      "─────┼──────────────────────────────\n",
      "   1 │           1   4.0       true\n",
      "   2 │           2   3.14159  false\n",
      "   3 │           3   1.41421   true\n",
      "   4 │           4  42.0      false"
     ]
    }
   ],
   "source": [
    "# Tworzenie DataFrame\n",
    "using DataFrames\n",
    "df1=DataFrame()\n",
    "df1.MojaKolumna= 1:4\n",
    "df1.x2= [4,pi,sqrt(2), 42]\n",
    "df1.Col3= [true,false, true, false]\n",
    "show(df1)"
   ]
  },
  {
   "cell_type": "code",
   "execution_count": 3,
   "metadata": {},
   "outputs": [
    {
     "data": {
      "text/plain": [
       "Vector{Float64} (alias for Array{Float64, 1})"
      ]
     },
     "execution_count": 3,
     "metadata": {},
     "output_type": "execute_result"
    }
   ],
   "source": [
    "# ! - nie tworzy kopii, : - tworzy kopię\n",
    "typeof(df1[!,2])"
   ]
  },
  {
   "cell_type": "code",
   "execution_count": 4,
   "metadata": {},
   "outputs": [
    {
     "data": {
      "text/plain": [
       "Vector{Float64} (alias for Array{Float64, 1})"
      ]
     },
     "execution_count": 4,
     "metadata": {},
     "output_type": "execute_result"
    }
   ],
   "source": [
    "typeof(df1[:,2])"
   ]
  },
  {
   "cell_type": "code",
   "execution_count": 5,
   "metadata": {},
   "outputs": [
    {
     "data": {
      "text/plain": [
       "Vector{Bool} (alias for Array{Bool, 1})"
      ]
     },
     "execution_count": 5,
     "metadata": {},
     "output_type": "execute_result"
    }
   ],
   "source": [
    "typeof(df1.Col3)"
   ]
  },
  {
   "cell_type": "code",
   "execution_count": 6,
   "metadata": {},
   "outputs": [
    {
     "data": {
      "text/html": [
       "<div class=\"data-frame\"><p>10 rows × 3 columns</p><table class=\"data-frame\"><thead><tr><th></th><th>MojaKolumna</th><th>Col2</th><th>Col3</th></tr><tr><th></th><th title=\"Int64\">Int64</th><th title=\"Float64\">Float64</th><th title=\"Bool\">Bool</th></tr></thead><tbody><tr><th>1</th><td>1</td><td>2.0</td><td>1</td></tr><tr><th>2</th><td>2</td><td>3.14159</td><td>1</td></tr><tr><th>3</th><td>3</td><td>1.41421</td><td>0</td></tr><tr><th>4</th><td>4</td><td>3.0</td><td>1</td></tr><tr><th>5</th><td>5</td><td>4.0</td><td>0</td></tr><tr><th>6</th><td>6</td><td>2.0</td><td>1</td></tr><tr><th>7</th><td>7</td><td>3.14159</td><td>1</td></tr><tr><th>8</th><td>8</td><td>1.41421</td><td>0</td></tr><tr><th>9</th><td>9</td><td>3.0</td><td>1</td></tr><tr><th>10</th><td>10</td><td>4.0</td><td>0</td></tr></tbody></table></div>"
      ],
      "text/latex": [
       "\\begin{tabular}{r|ccc}\n",
       "\t& MojaKolumna & Col2 & Col3\\\\\n",
       "\t\\hline\n",
       "\t& Int64 & Float64 & Bool\\\\\n",
       "\t\\hline\n",
       "\t1 & 1 & 2.0 & 1 \\\\\n",
       "\t2 & 2 & 3.14159 & 1 \\\\\n",
       "\t3 & 3 & 1.41421 & 0 \\\\\n",
       "\t4 & 4 & 3.0 & 1 \\\\\n",
       "\t5 & 5 & 4.0 & 0 \\\\\n",
       "\t6 & 6 & 2.0 & 1 \\\\\n",
       "\t7 & 7 & 3.14159 & 1 \\\\\n",
       "\t8 & 8 & 1.41421 & 0 \\\\\n",
       "\t9 & 9 & 3.0 & 1 \\\\\n",
       "\t10 & 10 & 4.0 & 0 \\\\\n",
       "\\end{tabular}\n"
      ],
      "text/plain": [
       "\u001b[1m10×3 DataFrame\u001b[0m\n",
       "\u001b[1m Row \u001b[0m│\u001b[1m MojaKolumna \u001b[0m\u001b[1m Col2    \u001b[0m\u001b[1m Col3  \u001b[0m\n",
       "\u001b[1m     \u001b[0m│\u001b[90m Int64       \u001b[0m\u001b[90m Float64 \u001b[0m\u001b[90m Bool  \u001b[0m\n",
       "─────┼─────────────────────────────\n",
       "   1 │           1  2.0       true\n",
       "   2 │           2  3.14159   true\n",
       "   3 │           3  1.41421  false\n",
       "   4 │           4  3.0       true\n",
       "   5 │           5  4.0      false\n",
       "   6 │           6  2.0       true\n",
       "   7 │           7  3.14159   true\n",
       "   8 │           8  1.41421  false\n",
       "   9 │           9  3.0       true\n",
       "  10 │          10  4.0      false"
      ]
     },
     "execution_count": 6,
     "metadata": {},
     "output_type": "execute_result"
    }
   ],
   "source": [
    "# możemy też utworzyć DataFrame używając konstruktora\n",
    "df2=DataFrame(MojaKolumna=1:10, \n",
    "    Col2=[2,pi, sqrt(2), 3, 4,2,pi, sqrt(2), 3, 4], \n",
    "    Col3=[true,true,false,true,false,true,true,false,true,false])"
   ]
  },
  {
   "cell_type": "code",
   "execution_count": 7,
   "metadata": {},
   "outputs": [
    {
     "data": {
      "text/plain": [
       "10"
      ]
     },
     "execution_count": 7,
     "metadata": {},
     "output_type": "execute_result"
    }
   ],
   "source": [
    "# ilosc wierszy\n",
    "size(df2, 1) "
   ]
  },
  {
   "cell_type": "code",
   "execution_count": 8,
   "metadata": {},
   "outputs": [
    {
     "data": {
      "text/plain": [
       "3"
      ]
     },
     "execution_count": 8,
     "metadata": {},
     "output_type": "execute_result"
    }
   ],
   "source": [
    "#ilosc kolumn\n",
    "size(df2, 2) "
   ]
  },
  {
   "cell_type": "code",
   "execution_count": 9,
   "metadata": {},
   "outputs": [
    {
     "name": "stdout",
     "output_type": "stream",
     "text": [
      "[2.0, 3.141592653589793, 1.4142135623730951, 3.0, 4.0, 2.0, 3.141592653589793, 1.4142135623730951, 3.0, 4.0]"
     ]
    }
   ],
   "source": [
    "# można odwoływać się po indeksie\n",
    "show(df2[:,2])"
   ]
  },
  {
   "cell_type": "code",
   "execution_count": 10,
   "metadata": {},
   "outputs": [
    {
     "name": "stdout",
     "output_type": "stream",
     "text": [
      "[2.0, 3.141592653589793, 1.4142135623730951, 3.0, 4.0, 2.0, 3.141592653589793, 1.4142135623730951, 3.0, 4.0]"
     ]
    }
   ],
   "source": [
    "# albo po symbolu kolumny\n",
    "show(df2[!,:Col2])"
   ]
  },
  {
   "cell_type": "code",
   "execution_count": 11,
   "metadata": {},
   "outputs": [
    {
     "name": "stdout",
     "output_type": "stream",
     "text": [
      "\u001b[1mDataFrameRow\u001b[0m\n",
      "\u001b[1m Row \u001b[0m│\u001b[1m MojaKolumna \u001b[0m\u001b[1m Col2    \u001b[0m\u001b[1m Col3  \u001b[0m\n",
      "\u001b[1m     \u001b[0m│\u001b[90m Int64       \u001b[0m\u001b[90m Float64 \u001b[0m\u001b[90m Bool  \u001b[0m\n",
      "─────┼─────────────────────────────\n",
      "   3 │           3  1.41421  false"
     ]
    }
   ],
   "source": [
    "# wiersze lub podzbiory wierszy i kolumn uzyskujemy poprzez operator (:). Wynikiem jest nowy DataFrame\n",
    "show(df2[3,:])"
   ]
  },
  {
   "cell_type": "code",
   "execution_count": 12,
   "metadata": {},
   "outputs": [
    {
     "data": {
      "text/html": [
       "<div class=\"data-frame\"><p>2 rows × 3 columns</p><table class=\"data-frame\"><thead><tr><th></th><th>MojaKolumna</th><th>Col2</th><th>Col3</th></tr><tr><th></th><th title=\"Int64\">Int64</th><th title=\"Float64\">Float64</th><th title=\"Bool\">Bool</th></tr></thead><tbody><tr><th>1</th><td>2</td><td>3.14159</td><td>1</td></tr><tr><th>2</th><td>3</td><td>1.41421</td><td>0</td></tr></tbody></table></div>"
      ],
      "text/latex": [
       "\\begin{tabular}{r|ccc}\n",
       "\t& MojaKolumna & Col2 & Col3\\\\\n",
       "\t\\hline\n",
       "\t& Int64 & Float64 & Bool\\\\\n",
       "\t\\hline\n",
       "\t1 & 2 & 3.14159 & 1 \\\\\n",
       "\t2 & 3 & 1.41421 & 0 \\\\\n",
       "\\end{tabular}\n"
      ],
      "text/plain": [
       "\u001b[1m2×3 DataFrame\u001b[0m\n",
       "\u001b[1m Row \u001b[0m│\u001b[1m MojaKolumna \u001b[0m\u001b[1m Col2    \u001b[0m\u001b[1m Col3  \u001b[0m\n",
       "\u001b[1m     \u001b[0m│\u001b[90m Int64       \u001b[0m\u001b[90m Float64 \u001b[0m\u001b[90m Bool  \u001b[0m\n",
       "─────┼─────────────────────────────\n",
       "   1 │           2  3.14159   true\n",
       "   2 │           3  1.41421  false"
      ]
     },
     "execution_count": 12,
     "metadata": {},
     "output_type": "execute_result"
    }
   ],
   "source": [
    "# drugi i trzeci wiersz\n",
    "df2[2:3, :]"
   ]
  },
  {
   "cell_type": "code",
   "execution_count": 13,
   "metadata": {},
   "outputs": [
    {
     "data": {
      "text/plain": [
       "2-element Vector{Float64}:\n",
       " 3.141592653589793\n",
       " 1.4142135623730951"
      ]
     },
     "execution_count": 13,
     "metadata": {},
     "output_type": "execute_result"
    }
   ],
   "source": [
    "# druga kolumna drugiego i trzeciego wiersza\n",
    "df2[2:3, :Col2]"
   ]
  },
  {
   "cell_type": "code",
   "execution_count": 14,
   "metadata": {},
   "outputs": [
    {
     "data": {
      "text/html": [
       "<div class=\"data-frame\"><p>2 rows × 2 columns</p><table class=\"data-frame\"><thead><tr><th></th><th>Col2</th><th>Col3</th></tr><tr><th></th><th title=\"Float64\">Float64</th><th title=\"Bool\">Bool</th></tr></thead><tbody><tr><th>1</th><td>3.14159</td><td>1</td></tr><tr><th>2</th><td>1.41421</td><td>0</td></tr></tbody></table></div>"
      ],
      "text/latex": [
       "\\begin{tabular}{r|cc}\n",
       "\t& Col2 & Col3\\\\\n",
       "\t\\hline\n",
       "\t& Float64 & Bool\\\\\n",
       "\t\\hline\n",
       "\t1 & 3.14159 & 1 \\\\\n",
       "\t2 & 1.41421 & 0 \\\\\n",
       "\\end{tabular}\n"
      ],
      "text/plain": [
       "\u001b[1m2×2 DataFrame\u001b[0m\n",
       "\u001b[1m Row \u001b[0m│\u001b[1m Col2    \u001b[0m\u001b[1m Col3  \u001b[0m\n",
       "\u001b[1m     \u001b[0m│\u001b[90m Float64 \u001b[0m\u001b[90m Bool  \u001b[0m\n",
       "─────┼────────────────\n",
       "   1 │ 3.14159   true\n",
       "   2 │ 1.41421  false"
      ]
     },
     "execution_count": 14,
     "metadata": {},
     "output_type": "execute_result"
    }
   ],
   "source": [
    "# druga i trzecia kolumna drugiego i trzeciego wiersza\n",
    "df2[2:3,[:Col2, :Col3]]"
   ]
  },
  {
   "cell_type": "code",
   "execution_count": 15,
   "metadata": {},
   "outputs": [
    {
     "data": {
      "text/html": [
       "<div class=\"data-frame\"><p>6 rows × 3 columns</p><table class=\"data-frame\"><thead><tr><th></th><th>MojaKolumna</th><th>Col2</th><th>Col3</th></tr><tr><th></th><th title=\"Int64\">Int64</th><th title=\"Float64\">Float64</th><th title=\"Bool\">Bool</th></tr></thead><tbody><tr><th>1</th><td>1</td><td>2.0</td><td>1</td></tr><tr><th>2</th><td>2</td><td>3.14159</td><td>1</td></tr><tr><th>3</th><td>3</td><td>1.41421</td><td>0</td></tr><tr><th>4</th><td>4</td><td>3.0</td><td>1</td></tr><tr><th>5</th><td>5</td><td>4.0</td><td>0</td></tr><tr><th>6</th><td>6</td><td>2.0</td><td>1</td></tr></tbody></table></div>"
      ],
      "text/latex": [
       "\\begin{tabular}{r|ccc}\n",
       "\t& MojaKolumna & Col2 & Col3\\\\\n",
       "\t\\hline\n",
       "\t& Int64 & Float64 & Bool\\\\\n",
       "\t\\hline\n",
       "\t1 & 1 & 2.0 & 1 \\\\\n",
       "\t2 & 2 & 3.14159 & 1 \\\\\n",
       "\t3 & 3 & 1.41421 & 0 \\\\\n",
       "\t4 & 4 & 3.0 & 1 \\\\\n",
       "\t5 & 5 & 4.0 & 0 \\\\\n",
       "\t6 & 6 & 2.0 & 1 \\\\\n",
       "\\end{tabular}\n"
      ],
      "text/plain": [
       "\u001b[1m6×3 DataFrame\u001b[0m\n",
       "\u001b[1m Row \u001b[0m│\u001b[1m MojaKolumna \u001b[0m\u001b[1m Col2    \u001b[0m\u001b[1m Col3  \u001b[0m\n",
       "\u001b[1m     \u001b[0m│\u001b[90m Int64       \u001b[0m\u001b[90m Float64 \u001b[0m\u001b[90m Bool  \u001b[0m\n",
       "─────┼─────────────────────────────\n",
       "   1 │           1  2.0       true\n",
       "   2 │           2  3.14159   true\n",
       "   3 │           3  1.41421  false\n",
       "   4 │           4  3.0       true\n",
       "   5 │           5  4.0      false\n",
       "   6 │           6  2.0       true"
      ]
     },
     "execution_count": 15,
     "metadata": {},
     "output_type": "execute_result"
    }
   ],
   "source": [
    "# pierwsze sześć wierszy\n",
    "DataFrames.first(df2,6)"
   ]
  },
  {
   "cell_type": "code",
   "execution_count": 16,
   "metadata": {},
   "outputs": [
    {
     "data": {
      "text/html": [
       "<div class=\"data-frame\"><p>6 rows × 3 columns</p><table class=\"data-frame\"><thead><tr><th></th><th>MojaKolumna</th><th>Col2</th><th>Col3</th></tr><tr><th></th><th title=\"Int64\">Int64</th><th title=\"Float64\">Float64</th><th title=\"Bool\">Bool</th></tr></thead><tbody><tr><th>1</th><td>5</td><td>4.0</td><td>0</td></tr><tr><th>2</th><td>6</td><td>2.0</td><td>1</td></tr><tr><th>3</th><td>7</td><td>3.14159</td><td>1</td></tr><tr><th>4</th><td>8</td><td>1.41421</td><td>0</td></tr><tr><th>5</th><td>9</td><td>3.0</td><td>1</td></tr><tr><th>6</th><td>10</td><td>4.0</td><td>0</td></tr></tbody></table></div>"
      ],
      "text/latex": [
       "\\begin{tabular}{r|ccc}\n",
       "\t& MojaKolumna & Col2 & Col3\\\\\n",
       "\t\\hline\n",
       "\t& Int64 & Float64 & Bool\\\\\n",
       "\t\\hline\n",
       "\t1 & 5 & 4.0 & 0 \\\\\n",
       "\t2 & 6 & 2.0 & 1 \\\\\n",
       "\t3 & 7 & 3.14159 & 1 \\\\\n",
       "\t4 & 8 & 1.41421 & 0 \\\\\n",
       "\t5 & 9 & 3.0 & 1 \\\\\n",
       "\t6 & 10 & 4.0 & 0 \\\\\n",
       "\\end{tabular}\n"
      ],
      "text/plain": [
       "\u001b[1m6×3 DataFrame\u001b[0m\n",
       "\u001b[1m Row \u001b[0m│\u001b[1m MojaKolumna \u001b[0m\u001b[1m Col2    \u001b[0m\u001b[1m Col3  \u001b[0m\n",
       "\u001b[1m     \u001b[0m│\u001b[90m Int64       \u001b[0m\u001b[90m Float64 \u001b[0m\u001b[90m Bool  \u001b[0m\n",
       "─────┼─────────────────────────────\n",
       "   1 │           5  4.0      false\n",
       "   2 │           6  2.0       true\n",
       "   3 │           7  3.14159   true\n",
       "   4 │           8  1.41421  false\n",
       "   5 │           9  3.0       true\n",
       "   6 │          10  4.0      false"
      ]
     },
     "execution_count": 16,
     "metadata": {},
     "output_type": "execute_result"
    }
   ],
   "source": [
    "# ostatnie sześć wierszy\n",
    "DataFrames.last(df2,6)"
   ]
  },
  {
   "cell_type": "code",
   "execution_count": 17,
   "metadata": {},
   "outputs": [
    {
     "data": {
      "text/plain": [
       "3-element Vector{String}:\n",
       " \"MojaKolumna\"\n",
       " \"Col2\"\n",
       " \"Col3\""
      ]
     },
     "execution_count": 17,
     "metadata": {},
     "output_type": "execute_result"
    }
   ],
   "source": [
    "# nazwy kolumn\n",
    "names(df2)"
   ]
  },
  {
   "cell_type": "code",
   "execution_count": 18,
   "metadata": {},
   "outputs": [
    {
     "data": {
      "text/plain": [
       "3-element Vector{DataType}:\n",
       " Int64\n",
       " Float64\n",
       " Bool"
      ]
     },
     "execution_count": 18,
     "metadata": {},
     "output_type": "execute_result"
    }
   ],
   "source": [
    "# typy kolumn\n",
    "eltype.(eachcol(df2))"
   ]
  },
  {
   "cell_type": "code",
   "execution_count": 19,
   "metadata": {},
   "outputs": [
    {
     "data": {
      "text/html": [
       "<div class=\"data-frame\"><p>3 rows × 7 columns</p><table class=\"data-frame\"><thead><tr><th></th><th>variable</th><th>mean</th><th>min</th><th>median</th><th>max</th><th>nmissing</th><th>eltype</th></tr><tr><th></th><th title=\"Symbol\">Symbol</th><th title=\"Float64\">Float64</th><th title=\"Real\">Real</th><th title=\"Float64\">Float64</th><th title=\"Real\">Real</th><th title=\"Int64\">Int64</th><th title=\"DataType\">DataType</th></tr></thead><tbody><tr><th>1</th><td>MojaKolumna</td><td>5.5</td><td>1</td><td>5.5</td><td>10</td><td>0</td><td>Int64</td></tr><tr><th>2</th><td>Col2</td><td>2.71116</td><td>1.41421</td><td>3.0</td><td>4.0</td><td>0</td><td>Float64</td></tr><tr><th>3</th><td>Col3</td><td>0.6</td><td>0</td><td>1.0</td><td>1</td><td>0</td><td>Bool</td></tr></tbody></table></div>"
      ],
      "text/latex": [
       "\\begin{tabular}{r|ccccccc}\n",
       "\t& variable & mean & min & median & max & nmissing & eltype\\\\\n",
       "\t\\hline\n",
       "\t& Symbol & Float64 & Real & Float64 & Real & Int64 & DataType\\\\\n",
       "\t\\hline\n",
       "\t1 & MojaKolumna & 5.5 & 1 & 5.5 & 10 & 0 & Int64 \\\\\n",
       "\t2 & Col2 & 2.71116 & 1.41421 & 3.0 & 4.0 & 0 & Float64 \\\\\n",
       "\t3 & Col3 & 0.6 & 0 & 1.0 & 1 & 0 & Bool \\\\\n",
       "\\end{tabular}\n"
      ],
      "text/plain": [
       "\u001b[1m3×7 DataFrame\u001b[0m\n",
       "\u001b[1m Row \u001b[0m│\u001b[1m variable    \u001b[0m\u001b[1m mean    \u001b[0m\u001b[1m min         \u001b[0m\u001b[1m median  \u001b[0m\u001b[1m max    \u001b[0m\u001b[1m nmissing \u001b[0m\u001b[1m eltype   \u001b[0m\n",
       "\u001b[1m     \u001b[0m│\u001b[90m Symbol      \u001b[0m\u001b[90m Float64 \u001b[0m\u001b[90m Real        \u001b[0m\u001b[90m Float64 \u001b[0m\u001b[90m Real   \u001b[0m\u001b[90m Int64    \u001b[0m\u001b[90m DataType \u001b[0m\n",
       "─────┼────────────────────────────────────────────────────────────────────────\n",
       "   1 │ MojaKolumna  5.5          1            5.5    10           0  Int64\n",
       "   2 │ Col2         2.71116      1.41421      3.0     4.0         0  Float64\n",
       "   3 │ Col3         0.6      false            1.0  true           0  Bool"
      ]
     },
     "execution_count": 19,
     "metadata": {},
     "output_type": "execute_result"
    }
   ],
   "source": [
    "# podstawowe dane statystyczne o wartościach w kolumnie\n",
    "describe(df2)"
   ]
  },
  {
   "cell_type": "code",
   "execution_count": 20,
   "metadata": {},
   "outputs": [
    {
     "data": {
      "text/plain": [
       "2.711161243192578"
      ]
     },
     "execution_count": 20,
     "metadata": {},
     "output_type": "execute_result"
    }
   ],
   "source": [
    "using Statistics\n",
    "mean(df2.Col2)"
   ]
  },
  {
   "cell_type": "code",
   "execution_count": 21,
   "metadata": {},
   "outputs": [
    {
     "data": {
      "text/plain": [
       "0.9150284373648316"
      ]
     },
     "execution_count": 21,
     "metadata": {},
     "output_type": "execute_result"
    }
   ],
   "source": [
    "var(df2.Col2)"
   ]
  },
  {
   "cell_type": "code",
   "execution_count": 35,
   "metadata": {},
   "outputs": [
    {
     "name": "stderr",
     "output_type": "stream",
     "text": [
      "\u001b[32m\u001b[1m   Resolving\u001b[22m\u001b[39m package versions...\n",
      "\u001b[32m\u001b[1m   Installed\u001b[22m\u001b[39m InlineStrings ────── v1.1.2\n",
      "\u001b[32m\u001b[1m   Installed\u001b[22m\u001b[39m CodecZlib ────────── v0.7.0\n",
      "\u001b[32m\u001b[1m   Installed\u001b[22m\u001b[39m WeakRefStrings ───── v1.4.2\n",
      "\u001b[32m\u001b[1m   Installed\u001b[22m\u001b[39m FilePathsBase ────── v0.9.18\n",
      "\u001b[32m\u001b[1m   Installed\u001b[22m\u001b[39m SentinelArrays ───── v1.3.12\n",
      "\u001b[32m\u001b[1m   Installed\u001b[22m\u001b[39m TranscodingStreams ─ v0.9.6\n",
      "\u001b[32m\u001b[1m   Installed\u001b[22m\u001b[39m CSV ──────────────── v0.10.3\n",
      "\u001b[32m\u001b[1m    Updating\u001b[22m\u001b[39m `~/.julia/environments/v1.7/Project.toml`\n",
      " \u001b[90m [336ed68f] \u001b[39m\u001b[92m+ CSV v0.10.3\u001b[39m\n",
      "\u001b[32m\u001b[1m    Updating\u001b[22m\u001b[39m `~/.julia/environments/v1.7/Manifest.toml`\n",
      " \u001b[90m [336ed68f] \u001b[39m\u001b[92m+ CSV v0.10.3\u001b[39m\n",
      " \u001b[90m [944b1d66] \u001b[39m\u001b[92m+ CodecZlib v0.7.0\u001b[39m\n",
      " \u001b[90m [48062228] \u001b[39m\u001b[92m+ FilePathsBase v0.9.18\u001b[39m\n",
      " \u001b[90m [842dd82b] \u001b[39m\u001b[92m+ InlineStrings v1.1.2\u001b[39m\n",
      " \u001b[90m [91c51154] \u001b[39m\u001b[92m+ SentinelArrays v1.3.12\u001b[39m\n",
      " \u001b[90m [3bb67fe8] \u001b[39m\u001b[92m+ TranscodingStreams v0.9.6\u001b[39m\n",
      " \u001b[90m [ea10d353] \u001b[39m\u001b[92m+ WeakRefStrings v1.4.2\u001b[39m\n",
      "\u001b[32m\u001b[1mPrecompiling\u001b[22m\u001b[39m project...\n",
      "\u001b[32m  ✓ \u001b[39m\u001b[90mTranscodingStreams\u001b[39m\n",
      "\u001b[32m  ✓ \u001b[39m\u001b[90mInlineStrings\u001b[39m\n",
      "\u001b[32m  ✓ \u001b[39m\u001b[90mCodecZlib\u001b[39m\n",
      "\u001b[32m  ✓ \u001b[39m\u001b[90mSentinelArrays\u001b[39m\n",
      "\u001b[32m  ✓ \u001b[39m\u001b[90mFilePathsBase\u001b[39m\n",
      "\u001b[32m  ✓ \u001b[39m\u001b[90mWeakRefStrings\u001b[39m\n",
      "\u001b[32m  ✓ \u001b[39mCSV\n",
      "  7 dependencies successfully precompiled in 6 seconds (140 already precompiled)\n"
     ]
    },
    {
     "data": {
      "text/html": [
       "<div class=\"data-frame\"><p>1,599 rows × 12 columns (omitted printing of 6 columns)</p><table class=\"data-frame\"><thead><tr><th></th><th>fixed acidity</th><th>volatile acidity</th><th>citric acid</th><th>residual sugar</th><th>chlorides</th><th>free sulfur dioxide</th></tr><tr><th></th><th title=\"Float64\">Float64</th><th title=\"Float64\">Float64</th><th title=\"Float64\">Float64</th><th title=\"Float64\">Float64</th><th title=\"Float64\">Float64</th><th title=\"Float64\">Float64</th></tr></thead><tbody><tr><th>1</th><td>7.4</td><td>0.7</td><td>0.0</td><td>1.9</td><td>0.076</td><td>11.0</td></tr><tr><th>2</th><td>7.8</td><td>0.88</td><td>0.0</td><td>2.6</td><td>0.098</td><td>25.0</td></tr><tr><th>3</th><td>7.8</td><td>0.76</td><td>0.04</td><td>2.3</td><td>0.092</td><td>15.0</td></tr><tr><th>4</th><td>11.2</td><td>0.28</td><td>0.56</td><td>1.9</td><td>0.075</td><td>17.0</td></tr><tr><th>5</th><td>7.4</td><td>0.7</td><td>0.0</td><td>1.9</td><td>0.076</td><td>11.0</td></tr><tr><th>6</th><td>7.4</td><td>0.66</td><td>0.0</td><td>1.8</td><td>0.075</td><td>13.0</td></tr><tr><th>7</th><td>7.9</td><td>0.6</td><td>0.06</td><td>1.6</td><td>0.069</td><td>15.0</td></tr><tr><th>8</th><td>7.3</td><td>0.65</td><td>0.0</td><td>1.2</td><td>0.065</td><td>15.0</td></tr><tr><th>9</th><td>7.8</td><td>0.58</td><td>0.02</td><td>2.0</td><td>0.073</td><td>9.0</td></tr><tr><th>10</th><td>7.5</td><td>0.5</td><td>0.36</td><td>6.1</td><td>0.071</td><td>17.0</td></tr><tr><th>11</th><td>6.7</td><td>0.58</td><td>0.08</td><td>1.8</td><td>0.097</td><td>15.0</td></tr><tr><th>12</th><td>7.5</td><td>0.5</td><td>0.36</td><td>6.1</td><td>0.071</td><td>17.0</td></tr><tr><th>13</th><td>5.6</td><td>0.615</td><td>0.0</td><td>1.6</td><td>0.089</td><td>16.0</td></tr><tr><th>14</th><td>7.8</td><td>0.61</td><td>0.29</td><td>1.6</td><td>0.114</td><td>9.0</td></tr><tr><th>15</th><td>8.9</td><td>0.62</td><td>0.18</td><td>3.8</td><td>0.176</td><td>52.0</td></tr><tr><th>16</th><td>8.9</td><td>0.62</td><td>0.19</td><td>3.9</td><td>0.17</td><td>51.0</td></tr><tr><th>17</th><td>8.5</td><td>0.28</td><td>0.56</td><td>1.8</td><td>0.092</td><td>35.0</td></tr><tr><th>18</th><td>8.1</td><td>0.56</td><td>0.28</td><td>1.7</td><td>0.368</td><td>16.0</td></tr><tr><th>19</th><td>7.4</td><td>0.59</td><td>0.08</td><td>4.4</td><td>0.086</td><td>6.0</td></tr><tr><th>20</th><td>7.9</td><td>0.32</td><td>0.51</td><td>1.8</td><td>0.341</td><td>17.0</td></tr><tr><th>21</th><td>8.9</td><td>0.22</td><td>0.48</td><td>1.8</td><td>0.077</td><td>29.0</td></tr><tr><th>22</th><td>7.6</td><td>0.39</td><td>0.31</td><td>2.3</td><td>0.082</td><td>23.0</td></tr><tr><th>23</th><td>7.9</td><td>0.43</td><td>0.21</td><td>1.6</td><td>0.106</td><td>10.0</td></tr><tr><th>24</th><td>8.5</td><td>0.49</td><td>0.11</td><td>2.3</td><td>0.084</td><td>9.0</td></tr><tr><th>25</th><td>6.9</td><td>0.4</td><td>0.14</td><td>2.4</td><td>0.085</td><td>21.0</td></tr><tr><th>26</th><td>6.3</td><td>0.39</td><td>0.16</td><td>1.4</td><td>0.08</td><td>11.0</td></tr><tr><th>27</th><td>7.6</td><td>0.41</td><td>0.24</td><td>1.8</td><td>0.08</td><td>4.0</td></tr><tr><th>28</th><td>7.9</td><td>0.43</td><td>0.21</td><td>1.6</td><td>0.106</td><td>10.0</td></tr><tr><th>29</th><td>7.1</td><td>0.71</td><td>0.0</td><td>1.9</td><td>0.08</td><td>14.0</td></tr><tr><th>30</th><td>7.8</td><td>0.645</td><td>0.0</td><td>2.0</td><td>0.082</td><td>8.0</td></tr><tr><th>&vellip;</th><td>&vellip;</td><td>&vellip;</td><td>&vellip;</td><td>&vellip;</td><td>&vellip;</td><td>&vellip;</td></tr></tbody></table></div>"
      ],
      "text/latex": [
       "\\begin{tabular}{r|ccccccc}\n",
       "\t& fixed acidity & volatile acidity & citric acid & residual sugar & chlorides & free sulfur dioxide & \\\\\n",
       "\t\\hline\n",
       "\t& Float64 & Float64 & Float64 & Float64 & Float64 & Float64 & \\\\\n",
       "\t\\hline\n",
       "\t1 & 7.4 & 0.7 & 0.0 & 1.9 & 0.076 & 11.0 & $\\dots$ \\\\\n",
       "\t2 & 7.8 & 0.88 & 0.0 & 2.6 & 0.098 & 25.0 & $\\dots$ \\\\\n",
       "\t3 & 7.8 & 0.76 & 0.04 & 2.3 & 0.092 & 15.0 & $\\dots$ \\\\\n",
       "\t4 & 11.2 & 0.28 & 0.56 & 1.9 & 0.075 & 17.0 & $\\dots$ \\\\\n",
       "\t5 & 7.4 & 0.7 & 0.0 & 1.9 & 0.076 & 11.0 & $\\dots$ \\\\\n",
       "\t6 & 7.4 & 0.66 & 0.0 & 1.8 & 0.075 & 13.0 & $\\dots$ \\\\\n",
       "\t7 & 7.9 & 0.6 & 0.06 & 1.6 & 0.069 & 15.0 & $\\dots$ \\\\\n",
       "\t8 & 7.3 & 0.65 & 0.0 & 1.2 & 0.065 & 15.0 & $\\dots$ \\\\\n",
       "\t9 & 7.8 & 0.58 & 0.02 & 2.0 & 0.073 & 9.0 & $\\dots$ \\\\\n",
       "\t10 & 7.5 & 0.5 & 0.36 & 6.1 & 0.071 & 17.0 & $\\dots$ \\\\\n",
       "\t11 & 6.7 & 0.58 & 0.08 & 1.8 & 0.097 & 15.0 & $\\dots$ \\\\\n",
       "\t12 & 7.5 & 0.5 & 0.36 & 6.1 & 0.071 & 17.0 & $\\dots$ \\\\\n",
       "\t13 & 5.6 & 0.615 & 0.0 & 1.6 & 0.089 & 16.0 & $\\dots$ \\\\\n",
       "\t14 & 7.8 & 0.61 & 0.29 & 1.6 & 0.114 & 9.0 & $\\dots$ \\\\\n",
       "\t15 & 8.9 & 0.62 & 0.18 & 3.8 & 0.176 & 52.0 & $\\dots$ \\\\\n",
       "\t16 & 8.9 & 0.62 & 0.19 & 3.9 & 0.17 & 51.0 & $\\dots$ \\\\\n",
       "\t17 & 8.5 & 0.28 & 0.56 & 1.8 & 0.092 & 35.0 & $\\dots$ \\\\\n",
       "\t18 & 8.1 & 0.56 & 0.28 & 1.7 & 0.368 & 16.0 & $\\dots$ \\\\\n",
       "\t19 & 7.4 & 0.59 & 0.08 & 4.4 & 0.086 & 6.0 & $\\dots$ \\\\\n",
       "\t20 & 7.9 & 0.32 & 0.51 & 1.8 & 0.341 & 17.0 & $\\dots$ \\\\\n",
       "\t21 & 8.9 & 0.22 & 0.48 & 1.8 & 0.077 & 29.0 & $\\dots$ \\\\\n",
       "\t22 & 7.6 & 0.39 & 0.31 & 2.3 & 0.082 & 23.0 & $\\dots$ \\\\\n",
       "\t23 & 7.9 & 0.43 & 0.21 & 1.6 & 0.106 & 10.0 & $\\dots$ \\\\\n",
       "\t24 & 8.5 & 0.49 & 0.11 & 2.3 & 0.084 & 9.0 & $\\dots$ \\\\\n",
       "\t25 & 6.9 & 0.4 & 0.14 & 2.4 & 0.085 & 21.0 & $\\dots$ \\\\\n",
       "\t26 & 6.3 & 0.39 & 0.16 & 1.4 & 0.08 & 11.0 & $\\dots$ \\\\\n",
       "\t27 & 7.6 & 0.41 & 0.24 & 1.8 & 0.08 & 4.0 & $\\dots$ \\\\\n",
       "\t28 & 7.9 & 0.43 & 0.21 & 1.6 & 0.106 & 10.0 & $\\dots$ \\\\\n",
       "\t29 & 7.1 & 0.71 & 0.0 & 1.9 & 0.08 & 14.0 & $\\dots$ \\\\\n",
       "\t30 & 7.8 & 0.645 & 0.0 & 2.0 & 0.082 & 8.0 & $\\dots$ \\\\\n",
       "\t$\\dots$ & $\\dots$ & $\\dots$ & $\\dots$ & $\\dots$ & $\\dots$ & $\\dots$ &  \\\\\n",
       "\\end{tabular}\n"
      ],
      "text/plain": [
       "\u001b[1m1599×12 DataFrame\u001b[0m\n",
       "\u001b[1m  Row \u001b[0m│\u001b[1m fixed acidity \u001b[0m\u001b[1m volatile acidity \u001b[0m\u001b[1m citric acid \u001b[0m\u001b[1m residual sugar \u001b[0m\u001b[1m chloride\u001b[0m ⋯\n",
       "\u001b[1m      \u001b[0m│\u001b[90m Float64       \u001b[0m\u001b[90m Float64          \u001b[0m\u001b[90m Float64     \u001b[0m\u001b[90m Float64        \u001b[0m\u001b[90m Float64 \u001b[0m ⋯\n",
       "──────┼─────────────────────────────────────────────────────────────────────────\n",
       "    1 │           7.4             0.7           0.0              1.9      0.07 ⋯\n",
       "    2 │           7.8             0.88          0.0              2.6      0.09\n",
       "    3 │           7.8             0.76          0.04             2.3      0.09\n",
       "    4 │          11.2             0.28          0.56             1.9      0.07\n",
       "    5 │           7.4             0.7           0.0              1.9      0.07 ⋯\n",
       "    6 │           7.4             0.66          0.0              1.8      0.07\n",
       "    7 │           7.9             0.6           0.06             1.6      0.06\n",
       "    8 │           7.3             0.65          0.0              1.2      0.06\n",
       "    9 │           7.8             0.58          0.02             2.0      0.07 ⋯\n",
       "   10 │           7.5             0.5           0.36             6.1      0.07\n",
       "   11 │           6.7             0.58          0.08             1.8      0.09\n",
       "  ⋮   │       ⋮               ⋮               ⋮             ⋮             ⋮    ⋱\n",
       " 1590 │           6.6             0.725         0.2              7.8      0.07\n",
       " 1591 │           6.3             0.55          0.15             1.8      0.07 ⋯\n",
       " 1592 │           5.4             0.74          0.09             1.7      0.08\n",
       " 1593 │           6.3             0.51          0.13             2.3      0.07\n",
       " 1594 │           6.8             0.62          0.08             1.9      0.06\n",
       " 1595 │           6.2             0.6           0.08             2.0      0.09 ⋯\n",
       " 1596 │           5.9             0.55          0.1              2.2      0.06\n",
       " 1597 │           6.3             0.51          0.13             2.3      0.07\n",
       " 1598 │           5.9             0.645         0.12             2.0      0.07\n",
       " 1599 │           6.0             0.31          0.47             3.6      0.06 ⋯\n",
       "\u001b[36m                                                 8 columns and 1578 rows omitted\u001b[0m"
      ]
     },
     "execution_count": 35,
     "metadata": {},
     "output_type": "execute_result"
    }
   ],
   "source": [
    "Pkg.add(\"CSV\")\n",
    "using CSV\n",
    "input=\"winequality.csv\"\n",
    "mydata=CSV.read(input, delim=\";\",DataFrame)"
   ]
  },
  {
   "cell_type": "code",
   "execution_count": 36,
   "metadata": {},
   "outputs": [
    {
     "data": {
      "text/html": [
       "<div class=\"data-frame\"><p>12 rows × 7 columns</p><table class=\"data-frame\"><thead><tr><th></th><th>variable</th><th>mean</th><th>min</th><th>median</th><th>max</th><th>nmissing</th><th>eltype</th></tr><tr><th></th><th title=\"Symbol\">Symbol</th><th title=\"Float64\">Float64</th><th title=\"Real\">Real</th><th title=\"Float64\">Float64</th><th title=\"Real\">Real</th><th title=\"Int64\">Int64</th><th title=\"DataType\">DataType</th></tr></thead><tbody><tr><th>1</th><td>fixed acidity</td><td>8.31964</td><td>4.6</td><td>7.9</td><td>15.9</td><td>0</td><td>Float64</td></tr><tr><th>2</th><td>volatile acidity</td><td>0.527821</td><td>0.12</td><td>0.52</td><td>1.58</td><td>0</td><td>Float64</td></tr><tr><th>3</th><td>citric acid</td><td>0.270976</td><td>0.0</td><td>0.26</td><td>1.0</td><td>0</td><td>Float64</td></tr><tr><th>4</th><td>residual sugar</td><td>2.53881</td><td>0.9</td><td>2.2</td><td>15.5</td><td>0</td><td>Float64</td></tr><tr><th>5</th><td>chlorides</td><td>0.0874665</td><td>0.012</td><td>0.079</td><td>0.611</td><td>0</td><td>Float64</td></tr><tr><th>6</th><td>free sulfur dioxide</td><td>15.8749</td><td>1.0</td><td>14.0</td><td>72.0</td><td>0</td><td>Float64</td></tr><tr><th>7</th><td>total sulfur dioxide</td><td>46.4678</td><td>6.0</td><td>38.0</td><td>289.0</td><td>0</td><td>Float64</td></tr><tr><th>8</th><td>density</td><td>0.996747</td><td>0.99007</td><td>0.99675</td><td>1.00369</td><td>0</td><td>Float64</td></tr><tr><th>9</th><td>pH</td><td>3.31111</td><td>2.74</td><td>3.31</td><td>4.01</td><td>0</td><td>Float64</td></tr><tr><th>10</th><td>sulphates</td><td>0.658149</td><td>0.33</td><td>0.62</td><td>2.0</td><td>0</td><td>Float64</td></tr><tr><th>11</th><td>alcohol</td><td>10.423</td><td>8.4</td><td>10.2</td><td>14.9</td><td>0</td><td>Float64</td></tr><tr><th>12</th><td>quality</td><td>5.63602</td><td>3</td><td>6.0</td><td>8</td><td>0</td><td>Int64</td></tr></tbody></table></div>"
      ],
      "text/latex": [
       "\\begin{tabular}{r|ccccccc}\n",
       "\t& variable & mean & min & median & max & nmissing & eltype\\\\\n",
       "\t\\hline\n",
       "\t& Symbol & Float64 & Real & Float64 & Real & Int64 & DataType\\\\\n",
       "\t\\hline\n",
       "\t1 & fixed acidity & 8.31964 & 4.6 & 7.9 & 15.9 & 0 & Float64 \\\\\n",
       "\t2 & volatile acidity & 0.527821 & 0.12 & 0.52 & 1.58 & 0 & Float64 \\\\\n",
       "\t3 & citric acid & 0.270976 & 0.0 & 0.26 & 1.0 & 0 & Float64 \\\\\n",
       "\t4 & residual sugar & 2.53881 & 0.9 & 2.2 & 15.5 & 0 & Float64 \\\\\n",
       "\t5 & chlorides & 0.0874665 & 0.012 & 0.079 & 0.611 & 0 & Float64 \\\\\n",
       "\t6 & free sulfur dioxide & 15.8749 & 1.0 & 14.0 & 72.0 & 0 & Float64 \\\\\n",
       "\t7 & total sulfur dioxide & 46.4678 & 6.0 & 38.0 & 289.0 & 0 & Float64 \\\\\n",
       "\t8 & density & 0.996747 & 0.99007 & 0.99675 & 1.00369 & 0 & Float64 \\\\\n",
       "\t9 & pH & 3.31111 & 2.74 & 3.31 & 4.01 & 0 & Float64 \\\\\n",
       "\t10 & sulphates & 0.658149 & 0.33 & 0.62 & 2.0 & 0 & Float64 \\\\\n",
       "\t11 & alcohol & 10.423 & 8.4 & 10.2 & 14.9 & 0 & Float64 \\\\\n",
       "\t12 & quality & 5.63602 & 3 & 6.0 & 8 & 0 & Int64 \\\\\n",
       "\\end{tabular}\n"
      ],
      "text/plain": [
       "\u001b[1m12×7 DataFrame\u001b[0m\n",
       "\u001b[1m Row \u001b[0m│\u001b[1m variable             \u001b[0m\u001b[1m mean       \u001b[0m\u001b[1m min     \u001b[0m\u001b[1m median   \u001b[0m\u001b[1m max       \u001b[0m\u001b[1m nmissin\u001b[0m ⋯\n",
       "\u001b[1m     \u001b[0m│\u001b[90m Symbol               \u001b[0m\u001b[90m Float64    \u001b[0m\u001b[90m Real    \u001b[0m\u001b[90m Float64  \u001b[0m\u001b[90m Real      \u001b[0m\u001b[90m Int64  \u001b[0m ⋯\n",
       "─────┼──────────────────────────────────────────────────────────────────────────\n",
       "   1 │ fixed acidity          8.31964    4.6       7.9       15.9              ⋯\n",
       "   2 │ volatile acidity       0.527821   0.12      0.52       1.58\n",
       "   3 │ citric acid            0.270976   0.0       0.26       1.0\n",
       "   4 │ residual sugar         2.53881    0.9       2.2       15.5\n",
       "   5 │ chlorides              0.0874665  0.012     0.079      0.611            ⋯\n",
       "   6 │ free sulfur dioxide   15.8749     1.0      14.0       72.0\n",
       "   7 │ total sulfur dioxide  46.4678     6.0      38.0      289.0\n",
       "   8 │ density                0.996747   0.99007   0.99675    1.00369\n",
       "   9 │ pH                     3.31111    2.74      3.31       4.01             ⋯\n",
       "  10 │ sulphates              0.658149   0.33      0.62       2.0\n",
       "  11 │ alcohol               10.423      8.4      10.2       14.9\n",
       "  12 │ quality                5.63602    3         6.0        8\n",
       "\u001b[36m                                                               2 columns omitted\u001b[0m"
      ]
     },
     "execution_count": 36,
     "metadata": {},
     "output_type": "execute_result"
    }
   ],
   "source": [
    "describe(mydata)"
   ]
  },
  {
   "cell_type": "code",
   "execution_count": 37,
   "metadata": {},
   "outputs": [
    {
     "data": {
      "text/plain": [
       "DataFrame"
      ]
     },
     "execution_count": 37,
     "metadata": {},
     "output_type": "execute_result"
    }
   ],
   "source": [
    "typeof(mydata)"
   ]
  },
  {
   "cell_type": "code",
   "execution_count": 38,
   "metadata": {},
   "outputs": [
    {
     "data": {
      "text/plain": [
       "(1599, 12)"
      ]
     },
     "execution_count": 38,
     "metadata": {},
     "output_type": "execute_result"
    }
   ],
   "source": [
    "size(mydata)"
   ]
  },
  {
   "cell_type": "code",
   "execution_count": 39,
   "metadata": {},
   "outputs": [
    {
     "data": {
      "text/html": [
       "<p><b>GroupedDataFrame with 6 groups based on key: quality</b></p><p><i>First Group (10 rows): quality = 3</i></p><div class=\"data-frame\"><table class=\"data-frame\"><thead><tr><th></th><th>fixed acidity</th><th>volatile acidity</th><th>citric acid</th><th>residual sugar</th><th>chlorides</th><th>free sulfur dioxide</th></tr><tr><th></th><th title=\"Float64\">Float64</th><th title=\"Float64\">Float64</th><th title=\"Float64\">Float64</th><th title=\"Float64\">Float64</th><th title=\"Float64\">Float64</th><th title=\"Float64\">Float64</th></tr></thead><tbody><tr><th>1</th><td>11.6</td><td>0.58</td><td>0.66</td><td>2.2</td><td>0.074</td><td>10.0</td></tr><tr><th>2</th><td>10.4</td><td>0.61</td><td>0.49</td><td>2.1</td><td>0.2</td><td>5.0</td></tr><tr><th>3</th><td>7.4</td><td>1.185</td><td>0.0</td><td>4.25</td><td>0.097</td><td>5.0</td></tr><tr><th>4</th><td>10.4</td><td>0.44</td><td>0.42</td><td>1.5</td><td>0.145</td><td>34.0</td></tr><tr><th>5</th><td>8.3</td><td>1.02</td><td>0.02</td><td>3.4</td><td>0.084</td><td>6.0</td></tr><tr><th>6</th><td>7.6</td><td>1.58</td><td>0.0</td><td>2.1</td><td>0.137</td><td>5.0</td></tr><tr><th>7</th><td>6.8</td><td>0.815</td><td>0.0</td><td>1.2</td><td>0.267</td><td>16.0</td></tr><tr><th>8</th><td>7.3</td><td>0.98</td><td>0.05</td><td>2.1</td><td>0.061</td><td>20.0</td></tr><tr><th>9</th><td>7.1</td><td>0.875</td><td>0.05</td><td>5.7</td><td>0.082</td><td>3.0</td></tr><tr><th>10</th><td>6.7</td><td>0.76</td><td>0.02</td><td>1.8</td><td>0.078</td><td>6.0</td></tr></tbody></table></div><p>&vellip;</p><p><i>Last Group (18 rows): quality = 8</i></p><div class=\"data-frame\"><table class=\"data-frame\"><thead><tr><th></th><th>fixed acidity</th><th>volatile acidity</th><th>citric acid</th><th>residual sugar</th><th>chlorides</th><th>free sulfur dioxide</th></tr><tr><th></th><th title=\"Float64\">Float64</th><th title=\"Float64\">Float64</th><th title=\"Float64\">Float64</th><th title=\"Float64\">Float64</th><th title=\"Float64\">Float64</th><th title=\"Float64\">Float64</th></tr></thead><tbody><tr><th>1</th><td>7.9</td><td>0.35</td><td>0.46</td><td>3.6</td><td>0.078</td><td>15.0</td></tr><tr><th>2</th><td>10.3</td><td>0.32</td><td>0.45</td><td>6.4</td><td>0.073</td><td>5.0</td></tr><tr><th>3</th><td>5.6</td><td>0.85</td><td>0.05</td><td>1.4</td><td>0.045</td><td>12.0</td></tr><tr><th>4</th><td>12.6</td><td>0.31</td><td>0.72</td><td>2.2</td><td>0.072</td><td>6.0</td></tr><tr><th>5</th><td>11.3</td><td>0.62</td><td>0.67</td><td>5.2</td><td>0.086</td><td>6.0</td></tr><tr><th>6</th><td>9.4</td><td>0.3</td><td>0.56</td><td>2.8</td><td>0.08</td><td>6.0</td></tr><tr><th>7</th><td>10.7</td><td>0.35</td><td>0.53</td><td>2.6</td><td>0.07</td><td>5.0</td></tr><tr><th>8</th><td>10.7</td><td>0.35</td><td>0.53</td><td>2.6</td><td>0.07</td><td>5.0</td></tr><tr><th>9</th><td>5.0</td><td>0.42</td><td>0.24</td><td>2.0</td><td>0.06</td><td>19.0</td></tr><tr><th>10</th><td>7.8</td><td>0.57</td><td>0.09</td><td>2.3</td><td>0.065</td><td>34.0</td></tr><tr><th>11</th><td>9.1</td><td>0.4</td><td>0.5</td><td>1.8</td><td>0.071</td><td>7.0</td></tr><tr><th>12</th><td>10.0</td><td>0.26</td><td>0.54</td><td>1.9</td><td>0.083</td><td>42.0</td></tr><tr><th>13</th><td>7.9</td><td>0.54</td><td>0.34</td><td>2.5</td><td>0.076</td><td>8.0</td></tr><tr><th>14</th><td>8.6</td><td>0.42</td><td>0.39</td><td>1.8</td><td>0.068</td><td>6.0</td></tr><tr><th>15</th><td>5.5</td><td>0.49</td><td>0.03</td><td>1.8</td><td>0.044</td><td>28.0</td></tr><tr><th>16</th><td>7.2</td><td>0.33</td><td>0.33</td><td>1.7</td><td>0.061</td><td>3.0</td></tr><tr><th>17</th><td>7.2</td><td>0.38</td><td>0.31</td><td>2.0</td><td>0.056</td><td>15.0</td></tr><tr><th>18</th><td>7.4</td><td>0.36</td><td>0.3</td><td>1.8</td><td>0.074</td><td>17.0</td></tr></tbody></table></div>"
      ],
      "text/latex": [
       "GroupedDataFrame with 6 groups based on key: quality\n",
       "\n",
       "First Group (10 rows): quality = 3\n",
       "\n",
       "\\begin{tabular}{r|ccccccc}\n",
       "\t& fixed acidity & volatile acidity & citric acid & residual sugar & chlorides & free sulfur dioxide & \\\\\n",
       "\t\\hline\n",
       "\t& Float64 & Float64 & Float64 & Float64 & Float64 & Float64 & \\\\\n",
       "\t\\hline\n",
       "\t1 & 11.6 & 0.58 & 0.66 & 2.2 & 0.074 & 10.0 & $\\dots$ \\\\\n",
       "\t2 & 10.4 & 0.61 & 0.49 & 2.1 & 0.2 & 5.0 & $\\dots$ \\\\\n",
       "\t3 & 7.4 & 1.185 & 0.0 & 4.25 & 0.097 & 5.0 & $\\dots$ \\\\\n",
       "\t4 & 10.4 & 0.44 & 0.42 & 1.5 & 0.145 & 34.0 & $\\dots$ \\\\\n",
       "\t5 & 8.3 & 1.02 & 0.02 & 3.4 & 0.084 & 6.0 & $\\dots$ \\\\\n",
       "\t6 & 7.6 & 1.58 & 0.0 & 2.1 & 0.137 & 5.0 & $\\dots$ \\\\\n",
       "\t7 & 6.8 & 0.815 & 0.0 & 1.2 & 0.267 & 16.0 & $\\dots$ \\\\\n",
       "\t8 & 7.3 & 0.98 & 0.05 & 2.1 & 0.061 & 20.0 & $\\dots$ \\\\\n",
       "\t9 & 7.1 & 0.875 & 0.05 & 5.7 & 0.082 & 3.0 & $\\dots$ \\\\\n",
       "\t10 & 6.7 & 0.76 & 0.02 & 1.8 & 0.078 & 6.0 & $\\dots$ \\\\\n",
       "\\end{tabular}\n",
       "\n",
       "$\\dots$\n",
       "\n",
       "Last Group (18 rows): quality = 8\n",
       "\n",
       "\\begin{tabular}{r|ccccccc}\n",
       "\t& fixed acidity & volatile acidity & citric acid & residual sugar & chlorides & free sulfur dioxide & \\\\\n",
       "\t\\hline\n",
       "\t& Float64 & Float64 & Float64 & Float64 & Float64 & Float64 & \\\\\n",
       "\t\\hline\n",
       "\t1 & 7.9 & 0.35 & 0.46 & 3.6 & 0.078 & 15.0 & $\\dots$ \\\\\n",
       "\t2 & 10.3 & 0.32 & 0.45 & 6.4 & 0.073 & 5.0 & $\\dots$ \\\\\n",
       "\t3 & 5.6 & 0.85 & 0.05 & 1.4 & 0.045 & 12.0 & $\\dots$ \\\\\n",
       "\t4 & 12.6 & 0.31 & 0.72 & 2.2 & 0.072 & 6.0 & $\\dots$ \\\\\n",
       "\t5 & 11.3 & 0.62 & 0.67 & 5.2 & 0.086 & 6.0 & $\\dots$ \\\\\n",
       "\t6 & 9.4 & 0.3 & 0.56 & 2.8 & 0.08 & 6.0 & $\\dots$ \\\\\n",
       "\t7 & 10.7 & 0.35 & 0.53 & 2.6 & 0.07 & 5.0 & $\\dots$ \\\\\n",
       "\t8 & 10.7 & 0.35 & 0.53 & 2.6 & 0.07 & 5.0 & $\\dots$ \\\\\n",
       "\t9 & 5.0 & 0.42 & 0.24 & 2.0 & 0.06 & 19.0 & $\\dots$ \\\\\n",
       "\t10 & 7.8 & 0.57 & 0.09 & 2.3 & 0.065 & 34.0 & $\\dots$ \\\\\n",
       "\t11 & 9.1 & 0.4 & 0.5 & 1.8 & 0.071 & 7.0 & $\\dots$ \\\\\n",
       "\t12 & 10.0 & 0.26 & 0.54 & 1.9 & 0.083 & 42.0 & $\\dots$ \\\\\n",
       "\t13 & 7.9 & 0.54 & 0.34 & 2.5 & 0.076 & 8.0 & $\\dots$ \\\\\n",
       "\t14 & 8.6 & 0.42 & 0.39 & 1.8 & 0.068 & 6.0 & $\\dots$ \\\\\n",
       "\t15 & 5.5 & 0.49 & 0.03 & 1.8 & 0.044 & 28.0 & $\\dots$ \\\\\n",
       "\t16 & 7.2 & 0.33 & 0.33 & 1.7 & 0.061 & 3.0 & $\\dots$ \\\\\n",
       "\t17 & 7.2 & 0.38 & 0.31 & 2.0 & 0.056 & 15.0 & $\\dots$ \\\\\n",
       "\t18 & 7.4 & 0.36 & 0.3 & 1.8 & 0.074 & 17.0 & $\\dots$ \\\\\n",
       "\\end{tabular}\n"
      ],
      "text/plain": [
       "GroupedDataFrame with 6 groups based on key: quality\n",
       "First Group (10 rows): quality = 3\n",
       "\u001b[1m Row \u001b[0m│\u001b[1m fixed acidity \u001b[0m\u001b[1m volatile acidity \u001b[0m\u001b[1m citric acid \u001b[0m\u001b[1m residual sugar \u001b[0m\u001b[1m chlorides\u001b[0m ⋯\n",
       "\u001b[1m     \u001b[0m│\u001b[90m Float64       \u001b[0m\u001b[90m Float64          \u001b[0m\u001b[90m Float64     \u001b[0m\u001b[90m Float64        \u001b[0m\u001b[90m Float64  \u001b[0m ⋯\n",
       "─────┼──────────────────────────────────────────────────────────────────────────\n",
       "   1 │          11.6             0.58          0.66            2.2       0.074 ⋯\n",
       "   2 │          10.4             0.61          0.49            2.1       0.2\n",
       "   3 │           7.4             1.185         0.0             4.25      0.097\n",
       "   4 │          10.4             0.44          0.42            1.5       0.145\n",
       "   5 │           8.3             1.02          0.02            3.4       0.084 ⋯\n",
       "   6 │           7.6             1.58          0.0             2.1       0.137\n",
       "   7 │           6.8             0.815         0.0             1.2       0.267\n",
       "   8 │           7.3             0.98          0.05            2.1       0.061\n",
       "   9 │           7.1             0.875         0.05            5.7       0.082 ⋯\n",
       "  10 │           6.7             0.76          0.02            1.8       0.078\n",
       "\u001b[36m                                                               7 columns omitted\u001b[0m\n",
       "⋮\n",
       "Last Group (18 rows): quality = 8\n",
       "\u001b[1m Row \u001b[0m│\u001b[1m fixed acidity \u001b[0m\u001b[1m volatile acidity \u001b[0m\u001b[1m citric acid \u001b[0m\u001b[1m residual sugar \u001b[0m\u001b[1m chlorides\u001b[0m ⋯\n",
       "\u001b[1m     \u001b[0m│\u001b[90m Float64       \u001b[0m\u001b[90m Float64          \u001b[0m\u001b[90m Float64     \u001b[0m\u001b[90m Float64        \u001b[0m\u001b[90m Float64  \u001b[0m ⋯\n",
       "─────┼──────────────────────────────────────────────────────────────────────────\n",
       "   1 │           7.9              0.35         0.46             3.6      0.078 ⋯\n",
       "   2 │          10.3              0.32         0.45             6.4      0.073\n",
       "   3 │           5.6              0.85         0.05             1.4      0.045\n",
       "   4 │          12.6              0.31         0.72             2.2      0.072\n",
       "   5 │          11.3              0.62         0.67             5.2      0.086 ⋯\n",
       "   6 │           9.4              0.3          0.56             2.8      0.08\n",
       "   7 │          10.7              0.35         0.53             2.6      0.07\n",
       "   8 │          10.7              0.35         0.53             2.6      0.07\n",
       "   9 │           5.0              0.42         0.24             2.0      0.06  ⋯\n",
       "  10 │           7.8              0.57         0.09             2.3      0.065\n",
       "  11 │           9.1              0.4          0.5              1.8      0.071\n",
       "  12 │          10.0              0.26         0.54             1.9      0.083\n",
       "  13 │           7.9              0.54         0.34             2.5      0.076 ⋯\n",
       "  14 │           8.6              0.42         0.39             1.8      0.068\n",
       "  15 │           5.5              0.49         0.03             1.8      0.044\n",
       "  16 │           7.2              0.33         0.33             1.7      0.061\n",
       "  17 │           7.2              0.38         0.31             2.0      0.056 ⋯\n",
       "  18 │           7.4              0.36         0.3              1.8      0.074\n",
       "\u001b[36m                                                               7 columns omitted\u001b[0m"
      ]
     },
     "execution_count": 39,
     "metadata": {},
     "output_type": "execute_result"
    }
   ],
   "source": [
    "# Dzielenie DataFrame na podgrupy i działania na nich\n",
    "\n",
    "# Split -Apply - Combine\n",
    "\n",
    "#https://dataframes.juliadata.org/stable/man/split_apply_combine/\n",
    "\n",
    "# rozdzielanie na podgrupy po jakości wina (quality)\n",
    "# Split\n",
    "\n",
    "wine_grouped=groupby(mydata, :quality)"
   ]
  },
  {
   "cell_type": "code",
   "execution_count": 40,
   "metadata": {},
   "outputs": [
    {
     "data": {
      "text/html": [
       "<div class=\"data-frame\"><p>6 rows × 2 columns</p><table class=\"data-frame\"><thead><tr><th></th><th>quality</th><th>nrow</th></tr><tr><th></th><th title=\"Int64\">Int64</th><th title=\"Int64\">Int64</th></tr></thead><tbody><tr><th>1</th><td>3</td><td>10</td></tr><tr><th>2</th><td>4</td><td>53</td></tr><tr><th>3</th><td>5</td><td>681</td></tr><tr><th>4</th><td>6</td><td>638</td></tr><tr><th>5</th><td>7</td><td>199</td></tr><tr><th>6</th><td>8</td><td>18</td></tr></tbody></table></div>"
      ],
      "text/latex": [
       "\\begin{tabular}{r|cc}\n",
       "\t& quality & nrow\\\\\n",
       "\t\\hline\n",
       "\t& Int64 & Int64\\\\\n",
       "\t\\hline\n",
       "\t1 & 3 & 10 \\\\\n",
       "\t2 & 4 & 53 \\\\\n",
       "\t3 & 5 & 681 \\\\\n",
       "\t4 & 6 & 638 \\\\\n",
       "\t5 & 7 & 199 \\\\\n",
       "\t6 & 8 & 18 \\\\\n",
       "\\end{tabular}\n"
      ],
      "text/plain": [
       "\u001b[1m6×2 DataFrame\u001b[0m\n",
       "\u001b[1m Row \u001b[0m│\u001b[1m quality \u001b[0m\u001b[1m nrow  \u001b[0m\n",
       "\u001b[1m     \u001b[0m│\u001b[90m Int64   \u001b[0m\u001b[90m Int64 \u001b[0m\n",
       "─────┼────────────────\n",
       "   1 │       3     10\n",
       "   2 │       4     53\n",
       "   3 │       5    681\n",
       "   4 │       6    638\n",
       "   5 │       7    199\n",
       "   6 │       8     18"
      ]
     },
     "execution_count": 40,
     "metadata": {},
     "output_type": "execute_result"
    }
   ],
   "source": [
    "\n",
    "# podsumowanie ile jest win w każdej grupie \n",
    "combine(wine_grouped, nrow)"
   ]
  },
  {
   "cell_type": "code",
   "execution_count": 41,
   "metadata": {},
   "outputs": [
    {
     "data": {
      "text/html": [
       "<div class=\"data-frame\"><p>6 rows × 2 columns</p><table class=\"data-frame\"><thead><tr><th></th><th>quality</th><th>fixed acidity_mean</th></tr><tr><th></th><th title=\"Int64\">Int64</th><th title=\"Float64\">Float64</th></tr></thead><tbody><tr><th>1</th><td>3</td><td>8.36</td></tr><tr><th>2</th><td>4</td><td>7.77925</td></tr><tr><th>3</th><td>5</td><td>8.16725</td></tr><tr><th>4</th><td>6</td><td>8.34718</td></tr><tr><th>5</th><td>7</td><td>8.87236</td></tr><tr><th>6</th><td>8</td><td>8.56667</td></tr></tbody></table></div>"
      ],
      "text/latex": [
       "\\begin{tabular}{r|cc}\n",
       "\t& quality & fixed acidity\\_mean\\\\\n",
       "\t\\hline\n",
       "\t& Int64 & Float64\\\\\n",
       "\t\\hline\n",
       "\t1 & 3 & 8.36 \\\\\n",
       "\t2 & 4 & 7.77925 \\\\\n",
       "\t3 & 5 & 8.16725 \\\\\n",
       "\t4 & 6 & 8.34718 \\\\\n",
       "\t5 & 7 & 8.87236 \\\\\n",
       "\t6 & 8 & 8.56667 \\\\\n",
       "\\end{tabular}\n"
      ],
      "text/plain": [
       "\u001b[1m6×2 DataFrame\u001b[0m\n",
       "\u001b[1m Row \u001b[0m│\u001b[1m quality \u001b[0m\u001b[1m fixed acidity_mean \u001b[0m\n",
       "\u001b[1m     \u001b[0m│\u001b[90m Int64   \u001b[0m\u001b[90m Float64            \u001b[0m\n",
       "─────┼─────────────────────────────\n",
       "   1 │       3             8.36\n",
       "   2 │       4             7.77925\n",
       "   3 │       5             8.16725\n",
       "   4 │       6             8.34718\n",
       "   5 │       7             8.87236\n",
       "   6 │       8             8.56667"
      ]
     },
     "execution_count": 41,
     "metadata": {},
     "output_type": "execute_result"
    }
   ],
   "source": [
    "combine(wine_grouped, \"fixed acidity\" => mean)"
   ]
  },
  {
   "cell_type": "code",
   "execution_count": 42,
   "metadata": {},
   "outputs": [
    {
     "data": {
      "text/html": [
       "<div class=\"data-frame\"><p>190 rows × 3 columns</p><table class=\"data-frame\"><thead><tr><th></th><th>quality</th><th>alcohol</th><th>liczba</th></tr><tr><th></th><th title=\"Int64\">Int64</th><th title=\"Float64\">Float64</th><th title=\"Int64\">Int64</th></tr></thead><tbody><tr><th>1</th><td>3</td><td>8.4</td><td>1</td></tr><tr><th>2</th><td>3</td><td>9.0</td><td>1</td></tr><tr><th>3</th><td>3</td><td>9.7</td><td>1</td></tr><tr><th>4</th><td>3</td><td>9.8</td><td>1</td></tr><tr><th>5</th><td>3</td><td>9.9</td><td>1</td></tr><tr><th>6</th><td>3</td><td>9.95</td><td>1</td></tr><tr><th>7</th><td>3</td><td>10.2</td><td>1</td></tr><tr><th>8</th><td>3</td><td>10.7</td><td>1</td></tr><tr><th>9</th><td>3</td><td>10.9</td><td>1</td></tr><tr><th>10</th><td>3</td><td>11.0</td><td>1</td></tr><tr><th>11</th><td>4</td><td>9.0</td><td>2</td></tr><tr><th>12</th><td>4</td><td>9.05</td><td>1</td></tr><tr><th>13</th><td>4</td><td>9.1</td><td>2</td></tr><tr><th>14</th><td>4</td><td>9.2</td><td>3</td></tr><tr><th>15</th><td>4</td><td>9.3</td><td>2</td></tr><tr><th>16</th><td>4</td><td>9.4</td><td>2</td></tr><tr><th>17</th><td>4</td><td>9.6</td><td>6</td></tr><tr><th>18</th><td>4</td><td>9.7</td><td>2</td></tr><tr><th>19</th><td>4</td><td>9.8</td><td>3</td></tr><tr><th>20</th><td>4</td><td>9.9</td><td>1</td></tr><tr><th>21</th><td>4</td><td>10.0</td><td>4</td></tr><tr><th>22</th><td>4</td><td>10.1</td><td>1</td></tr><tr><th>23</th><td>4</td><td>10.3</td><td>1</td></tr><tr><th>24</th><td>4</td><td>10.4</td><td>3</td></tr><tr><th>25</th><td>4</td><td>10.5</td><td>1</td></tr><tr><th>26</th><td>4</td><td>10.9</td><td>3</td></tr><tr><th>27</th><td>4</td><td>11.0</td><td>4</td></tr><tr><th>28</th><td>4</td><td>11.1</td><td>1</td></tr><tr><th>29</th><td>4</td><td>11.2</td><td>3</td></tr><tr><th>30</th><td>4</td><td>11.3</td><td>1</td></tr><tr><th>&vellip;</th><td>&vellip;</td><td>&vellip;</td><td>&vellip;</td></tr></tbody></table></div>"
      ],
      "text/latex": [
       "\\begin{tabular}{r|ccc}\n",
       "\t& quality & alcohol & liczba\\\\\n",
       "\t\\hline\n",
       "\t& Int64 & Float64 & Int64\\\\\n",
       "\t\\hline\n",
       "\t1 & 3 & 8.4 & 1 \\\\\n",
       "\t2 & 3 & 9.0 & 1 \\\\\n",
       "\t3 & 3 & 9.7 & 1 \\\\\n",
       "\t4 & 3 & 9.8 & 1 \\\\\n",
       "\t5 & 3 & 9.9 & 1 \\\\\n",
       "\t6 & 3 & 9.95 & 1 \\\\\n",
       "\t7 & 3 & 10.2 & 1 \\\\\n",
       "\t8 & 3 & 10.7 & 1 \\\\\n",
       "\t9 & 3 & 10.9 & 1 \\\\\n",
       "\t10 & 3 & 11.0 & 1 \\\\\n",
       "\t11 & 4 & 9.0 & 2 \\\\\n",
       "\t12 & 4 & 9.05 & 1 \\\\\n",
       "\t13 & 4 & 9.1 & 2 \\\\\n",
       "\t14 & 4 & 9.2 & 3 \\\\\n",
       "\t15 & 4 & 9.3 & 2 \\\\\n",
       "\t16 & 4 & 9.4 & 2 \\\\\n",
       "\t17 & 4 & 9.6 & 6 \\\\\n",
       "\t18 & 4 & 9.7 & 2 \\\\\n",
       "\t19 & 4 & 9.8 & 3 \\\\\n",
       "\t20 & 4 & 9.9 & 1 \\\\\n",
       "\t21 & 4 & 10.0 & 4 \\\\\n",
       "\t22 & 4 & 10.1 & 1 \\\\\n",
       "\t23 & 4 & 10.3 & 1 \\\\\n",
       "\t24 & 4 & 10.4 & 3 \\\\\n",
       "\t25 & 4 & 10.5 & 1 \\\\\n",
       "\t26 & 4 & 10.9 & 3 \\\\\n",
       "\t27 & 4 & 11.0 & 4 \\\\\n",
       "\t28 & 4 & 11.1 & 1 \\\\\n",
       "\t29 & 4 & 11.2 & 3 \\\\\n",
       "\t30 & 4 & 11.3 & 1 \\\\\n",
       "\t$\\dots$ & $\\dots$ & $\\dots$ & $\\dots$ \\\\\n",
       "\\end{tabular}\n"
      ],
      "text/plain": [
       "\u001b[1m190×3 DataFrame\u001b[0m\n",
       "\u001b[1m Row \u001b[0m│\u001b[1m quality \u001b[0m\u001b[1m alcohol \u001b[0m\u001b[1m liczba \u001b[0m\n",
       "\u001b[1m     \u001b[0m│\u001b[90m Int64   \u001b[0m\u001b[90m Float64 \u001b[0m\u001b[90m Int64  \u001b[0m\n",
       "─────┼──────────────────────────\n",
       "   1 │       3     8.4        1\n",
       "   2 │       3     9.0        1\n",
       "   3 │       3     9.7        1\n",
       "   4 │       3     9.8        1\n",
       "   5 │       3     9.9        1\n",
       "   6 │       3     9.95       1\n",
       "   7 │       3    10.2        1\n",
       "   8 │       3    10.7        1\n",
       "   9 │       3    10.9        1\n",
       "  10 │       3    11.0        1\n",
       "  11 │       4     9.0        2\n",
       "  ⋮  │    ⋮        ⋮       ⋮\n",
       " 181 │       8    11.7        2\n",
       " 182 │       8    11.8        1\n",
       " 183 │       8    12.5        1\n",
       " 184 │       8    12.6        1\n",
       " 185 │       8    12.7        1\n",
       " 186 │       8    12.8        1\n",
       " 187 │       8    12.9        1\n",
       " 188 │       8    13.1        1\n",
       " 189 │       8    13.4        1\n",
       " 190 │       8    14.0        2\n",
       "\u001b[36m                169 rows omitted\u001b[0m"
      ]
     },
     "execution_count": 42,
     "metadata": {},
     "output_type": "execute_result"
    }
   ],
   "source": [
    "# zliczenie liczby win o danej jakości i zawartości alkoholu, posortowane\n",
    "wine_grouped2=sort(combine(groupby(mydata, [:quality,:alcohol]),nrow=> :liczba), [:quality,:alcohol])"
   ]
  },
  {
   "cell_type": "code",
   "execution_count": 43,
   "metadata": {},
   "outputs": [
    {
     "data": {
      "text/plain": [
       "\"dataframe1.csv\""
      ]
     },
     "execution_count": 43,
     "metadata": {},
     "output_type": "execute_result"
    }
   ],
   "source": [
    "# zapis do pliku\n",
    "CSV.write(\"dataframe1.csv\", wine_grouped2)"
   ]
  },
  {
   "cell_type": "markdown",
   "metadata": {},
   "source": [
    "\n",
    "### Graficzna reprezentacja DataFrames\n",
    "\n",
    "\n"
   ]
  },
  {
   "cell_type": "code",
   "execution_count": 44,
   "metadata": {},
   "outputs": [
    {
     "data": {
      "text/html": [
       "<div class=\"data-frame\"><p>10 rows × 5 columns</p><table class=\"data-frame\"><thead><tr><th></th><th>a</th><th>b</th><th>c</th><th>d</th><th>e</th></tr><tr><th></th><th title=\"Int64\">Int64</th><th title=\"Int64\">Int64</th><th title=\"Float64\">Float64</th><th title=\"Float64\">Float64</th><th title=\"Int64\">Int64</th></tr></thead><tbody><tr><th>1</th><td>1</td><td>2</td><td>0.0</td><td>0.345554</td><td>1</td></tr><tr><th>2</th><td>2</td><td>4</td><td>0.693147</td><td>0.230384</td><td>0</td></tr><tr><th>3</th><td>3</td><td>6</td><td>1.09861</td><td>0.0945517</td><td>1</td></tr><tr><th>4</th><td>4</td><td>8</td><td>1.38629</td><td>0.935921</td><td>0</td></tr><tr><th>5</th><td>5</td><td>10</td><td>1.60944</td><td>0.533071</td><td>1</td></tr><tr><th>6</th><td>6</td><td>12</td><td>1.79176</td><td>0.506681</td><td>0</td></tr><tr><th>7</th><td>7</td><td>14</td><td>1.94591</td><td>0.112159</td><td>1</td></tr><tr><th>8</th><td>8</td><td>16</td><td>2.07944</td><td>0.339503</td><td>0</td></tr><tr><th>9</th><td>9</td><td>18</td><td>2.19722</td><td>0.0684457</td><td>1</td></tr><tr><th>10</th><td>10</td><td>20</td><td>2.30259</td><td>0.936015</td><td>0</td></tr></tbody></table></div>"
      ],
      "text/latex": [
       "\\begin{tabular}{r|ccccc}\n",
       "\t& a & b & c & d & e\\\\\n",
       "\t\\hline\n",
       "\t& Int64 & Int64 & Float64 & Float64 & Int64\\\\\n",
       "\t\\hline\n",
       "\t1 & 1 & 2 & 0.0 & 0.345554 & 1 \\\\\n",
       "\t2 & 2 & 4 & 0.693147 & 0.230384 & 0 \\\\\n",
       "\t3 & 3 & 6 & 1.09861 & 0.0945517 & 1 \\\\\n",
       "\t4 & 4 & 8 & 1.38629 & 0.935921 & 0 \\\\\n",
       "\t5 & 5 & 10 & 1.60944 & 0.533071 & 1 \\\\\n",
       "\t6 & 6 & 12 & 1.79176 & 0.506681 & 0 \\\\\n",
       "\t7 & 7 & 14 & 1.94591 & 0.112159 & 1 \\\\\n",
       "\t8 & 8 & 16 & 2.07944 & 0.339503 & 0 \\\\\n",
       "\t9 & 9 & 18 & 2.19722 & 0.0684457 & 1 \\\\\n",
       "\t10 & 10 & 20 & 2.30259 & 0.936015 & 0 \\\\\n",
       "\\end{tabular}\n"
      ],
      "text/plain": [
       "\u001b[1m10×5 DataFrame\u001b[0m\n",
       "\u001b[1m Row \u001b[0m│\u001b[1m a     \u001b[0m\u001b[1m b     \u001b[0m\u001b[1m c        \u001b[0m\u001b[1m d         \u001b[0m\u001b[1m e     \u001b[0m\n",
       "\u001b[1m     \u001b[0m│\u001b[90m Int64 \u001b[0m\u001b[90m Int64 \u001b[0m\u001b[90m Float64  \u001b[0m\u001b[90m Float64   \u001b[0m\u001b[90m Int64 \u001b[0m\n",
       "─────┼──────────────────────────────────────────\n",
       "   1 │     1      2  0.0       0.345554       1\n",
       "   2 │     2      4  0.693147  0.230384       0\n",
       "   3 │     3      6  1.09861   0.0945517      1\n",
       "   4 │     4      8  1.38629   0.935921       0\n",
       "   5 │     5     10  1.60944   0.533071       1\n",
       "   6 │     6     12  1.79176   0.506681       0\n",
       "   7 │     7     14  1.94591   0.112159       1\n",
       "   8 │     8     16  2.07944   0.339503       0\n",
       "   9 │     9     18  2.19722   0.0684457      1\n",
       "  10 │    10     20  2.30259   0.936015       0"
      ]
     },
     "execution_count": 44,
     "metadata": {},
     "output_type": "execute_result"
    }
   ],
   "source": [
    "using DataFrames\n",
    "df = DataFrame(a = 1:10, b = map(x->2x,(1:10)), c = map(x->log(x),(1:10)), d=rand(10), e=map(x->x%2,(1:10)))"
   ]
  },
  {
   "cell_type": "code",
   "execution_count": 45,
   "metadata": {},
   "outputs": [
    {
     "data": {
      "image/svg+xml": [
       "<?xml version=\"1.0\" encoding=\"utf-8\"?>\n",
       "<svg xmlns=\"http://www.w3.org/2000/svg\" xmlns:xlink=\"http://www.w3.org/1999/xlink\" width=\"600\" height=\"400\" viewBox=\"0 0 2400 1600\">\n",
       "<defs>\n",
       "  <clipPath id=\"clip330\">\n",
       "    <rect x=\"0\" y=\"0\" width=\"2400\" height=\"1600\"/>\n",
       "  </clipPath>\n",
       "</defs>\n",
       "<path clip-path=\"url(#clip330)\" d=\"\n",
       "M0 1600 L2400 1600 L2400 0 L0 0  Z\n",
       "  \" fill=\"#ffffff\" fill-rule=\"evenodd\" fill-opacity=\"1\"/>\n",
       "<defs>\n",
       "  <clipPath id=\"clip331\">\n",
       "    <rect x=\"480\" y=\"0\" width=\"1681\" height=\"1600\"/>\n",
       "  </clipPath>\n",
       "</defs>\n",
       "<path clip-path=\"url(#clip330)\" d=\"\n",
       "M140.696 1486.45 L2352.76 1486.45 L2352.76 47.2441 L140.696 47.2441  Z\n",
       "  \" fill=\"#ffffff\" fill-rule=\"evenodd\" fill-opacity=\"1\"/>\n",
       "<defs>\n",
       "  <clipPath id=\"clip332\">\n",
       "    <rect x=\"140\" y=\"47\" width=\"2213\" height=\"1440\"/>\n",
       "  </clipPath>\n",
       "</defs>\n",
       "<polyline clip-path=\"url(#clip332)\" style=\"stroke:#000000; stroke-linecap:butt; stroke-linejoin:round; stroke-width:2; stroke-opacity:0.1; fill:none\" points=\"\n",
       "  435.173,1486.45 435.173,47.2441 \n",
       "  \"/>\n",
       "<polyline clip-path=\"url(#clip332)\" style=\"stroke:#000000; stroke-linecap:butt; stroke-linejoin:round; stroke-width:2; stroke-opacity:0.1; fill:none\" points=\"\n",
       "  898.917,1486.45 898.917,47.2441 \n",
       "  \"/>\n",
       "<polyline clip-path=\"url(#clip332)\" style=\"stroke:#000000; stroke-linecap:butt; stroke-linejoin:round; stroke-width:2; stroke-opacity:0.1; fill:none\" points=\"\n",
       "  1362.66,1486.45 1362.66,47.2441 \n",
       "  \"/>\n",
       "<polyline clip-path=\"url(#clip332)\" style=\"stroke:#000000; stroke-linecap:butt; stroke-linejoin:round; stroke-width:2; stroke-opacity:0.1; fill:none\" points=\"\n",
       "  1826.41,1486.45 1826.41,47.2441 \n",
       "  \"/>\n",
       "<polyline clip-path=\"url(#clip332)\" style=\"stroke:#000000; stroke-linecap:butt; stroke-linejoin:round; stroke-width:2; stroke-opacity:0.1; fill:none\" points=\"\n",
       "  2290.15,1486.45 2290.15,47.2441 \n",
       "  \"/>\n",
       "<polyline clip-path=\"url(#clip330)\" style=\"stroke:#000000; stroke-linecap:butt; stroke-linejoin:round; stroke-width:4; stroke-opacity:1; fill:none\" points=\"\n",
       "  140.696,1486.45 2352.76,1486.45 \n",
       "  \"/>\n",
       "<polyline clip-path=\"url(#clip330)\" style=\"stroke:#000000; stroke-linecap:butt; stroke-linejoin:round; stroke-width:4; stroke-opacity:1; fill:none\" points=\"\n",
       "  435.173,1486.45 435.173,1467.55 \n",
       "  \"/>\n",
       "<polyline clip-path=\"url(#clip330)\" style=\"stroke:#000000; stroke-linecap:butt; stroke-linejoin:round; stroke-width:4; stroke-opacity:1; fill:none\" points=\"\n",
       "  898.917,1486.45 898.917,1467.55 \n",
       "  \"/>\n",
       "<polyline clip-path=\"url(#clip330)\" style=\"stroke:#000000; stroke-linecap:butt; stroke-linejoin:round; stroke-width:4; stroke-opacity:1; fill:none\" points=\"\n",
       "  1362.66,1486.45 1362.66,1467.55 \n",
       "  \"/>\n",
       "<polyline clip-path=\"url(#clip330)\" style=\"stroke:#000000; stroke-linecap:butt; stroke-linejoin:round; stroke-width:4; stroke-opacity:1; fill:none\" points=\"\n",
       "  1826.41,1486.45 1826.41,1467.55 \n",
       "  \"/>\n",
       "<polyline clip-path=\"url(#clip330)\" style=\"stroke:#000000; stroke-linecap:butt; stroke-linejoin:round; stroke-width:4; stroke-opacity:1; fill:none\" points=\"\n",
       "  2290.15,1486.45 2290.15,1467.55 \n",
       "  \"/>\n",
       "<path clip-path=\"url(#clip330)\" d=\"M429.826 1544.91 L446.145 1544.91 L446.145 1548.85 L424.201 1548.85 L424.201 1544.91 Q426.863 1542.16 431.446 1537.53 Q436.053 1532.88 437.233 1531.53 Q439.479 1529.01 440.358 1527.27 Q441.261 1525.51 441.261 1523.82 Q441.261 1521.07 439.317 1519.33 Q437.395 1517.6 434.294 1517.6 Q432.094 1517.6 429.641 1518.36 Q427.21 1519.13 424.432 1520.68 L424.432 1515.95 Q427.257 1514.82 429.71 1514.24 Q432.164 1513.66 434.201 1513.66 Q439.571 1513.66 442.766 1516.35 Q445.96 1519.03 445.96 1523.52 Q445.96 1525.65 445.15 1527.57 Q444.363 1529.47 442.256 1532.07 Q441.678 1532.74 438.576 1535.95 Q435.474 1539.15 429.826 1544.91 Z\" fill=\"#000000\" fill-rule=\"evenodd\" fill-opacity=\"1\" /><path clip-path=\"url(#clip330)\" d=\"M901.927 1518.36 L890.121 1536.81 L901.927 1536.81 L901.927 1518.36 M900.7 1514.29 L906.579 1514.29 L906.579 1536.81 L911.51 1536.81 L911.51 1540.7 L906.579 1540.7 L906.579 1548.85 L901.927 1548.85 L901.927 1540.7 L886.325 1540.7 L886.325 1536.19 L900.7 1514.29 Z\" fill=\"#000000\" fill-rule=\"evenodd\" fill-opacity=\"1\" /><path clip-path=\"url(#clip330)\" d=\"M1363.07 1529.7 Q1359.92 1529.7 1358.07 1531.86 Q1356.24 1534.01 1356.24 1537.76 Q1356.24 1541.49 1358.07 1543.66 Q1359.92 1545.82 1363.07 1545.82 Q1366.22 1545.82 1368.04 1543.66 Q1369.9 1541.49 1369.9 1537.76 Q1369.9 1534.01 1368.04 1531.86 Q1366.22 1529.7 1363.07 1529.7 M1372.35 1515.05 L1372.35 1519.31 Q1370.59 1518.48 1368.78 1518.04 Q1367 1517.6 1365.24 1517.6 Q1360.61 1517.6 1358.16 1520.72 Q1355.73 1523.85 1355.38 1530.17 Q1356.75 1528.15 1358.81 1527.09 Q1360.87 1526 1363.34 1526 Q1368.55 1526 1371.56 1529.17 Q1374.59 1532.32 1374.59 1537.76 Q1374.59 1543.08 1371.45 1546.3 Q1368.3 1549.52 1363.07 1549.52 Q1357.07 1549.52 1353.9 1544.94 Q1350.73 1540.33 1350.73 1531.6 Q1350.73 1523.41 1354.62 1518.55 Q1358.51 1513.66 1365.06 1513.66 Q1366.82 1513.66 1368.6 1514.01 Q1370.4 1514.36 1372.35 1515.05 Z\" fill=\"#000000\" fill-rule=\"evenodd\" fill-opacity=\"1\" /><path clip-path=\"url(#clip330)\" d=\"M1826.41 1532.44 Q1823.07 1532.44 1821.15 1534.22 Q1819.25 1536 1819.25 1539.13 Q1819.25 1542.25 1821.15 1544.03 Q1823.07 1545.82 1826.41 1545.82 Q1829.74 1545.82 1831.66 1544.03 Q1833.58 1542.23 1833.58 1539.13 Q1833.58 1536 1831.66 1534.22 Q1829.76 1532.44 1826.41 1532.44 M1821.73 1530.45 Q1818.72 1529.7 1817.03 1527.64 Q1815.36 1525.58 1815.36 1522.62 Q1815.36 1518.48 1818.3 1516.07 Q1821.27 1513.66 1826.41 1513.66 Q1831.57 1513.66 1834.51 1516.07 Q1837.45 1518.48 1837.45 1522.62 Q1837.45 1525.58 1835.76 1527.64 Q1834.09 1529.7 1831.11 1530.45 Q1834.48 1531.23 1836.36 1533.52 Q1838.26 1535.82 1838.26 1539.13 Q1838.26 1544.15 1835.18 1546.83 Q1832.12 1549.52 1826.41 1549.52 Q1820.69 1549.52 1817.61 1546.83 Q1814.55 1544.15 1814.55 1539.13 Q1814.55 1535.82 1816.45 1533.52 Q1818.35 1531.23 1821.73 1530.45 M1820.02 1523.06 Q1820.02 1525.75 1821.68 1527.25 Q1823.37 1528.76 1826.41 1528.76 Q1829.42 1528.76 1831.11 1527.25 Q1832.82 1525.75 1832.82 1523.06 Q1832.82 1520.38 1831.11 1518.87 Q1829.42 1517.37 1826.41 1517.37 Q1823.37 1517.37 1821.68 1518.87 Q1820.02 1520.38 1820.02 1523.06 Z\" fill=\"#000000\" fill-rule=\"evenodd\" fill-opacity=\"1\" /><path clip-path=\"url(#clip330)\" d=\"M2264.84 1544.91 L2272.48 1544.91 L2272.48 1518.55 L2264.17 1520.21 L2264.17 1515.95 L2272.43 1514.29 L2277.11 1514.29 L2277.11 1544.91 L2284.75 1544.91 L2284.75 1548.85 L2264.84 1548.85 L2264.84 1544.91 Z\" fill=\"#000000\" fill-rule=\"evenodd\" fill-opacity=\"1\" /><path clip-path=\"url(#clip330)\" d=\"M2304.19 1517.37 Q2300.58 1517.37 2298.75 1520.93 Q2296.94 1524.47 2296.94 1531.6 Q2296.94 1538.71 2298.75 1542.27 Q2300.58 1545.82 2304.19 1545.82 Q2307.82 1545.82 2309.63 1542.27 Q2311.46 1538.71 2311.46 1531.6 Q2311.46 1524.47 2309.63 1520.93 Q2307.82 1517.37 2304.19 1517.37 M2304.19 1513.66 Q2310 1513.66 2313.06 1518.27 Q2316.13 1522.85 2316.13 1531.6 Q2316.13 1540.33 2313.06 1544.94 Q2310 1549.52 2304.19 1549.52 Q2298.38 1549.52 2295.3 1544.94 Q2292.25 1540.33 2292.25 1531.6 Q2292.25 1522.85 2295.3 1518.27 Q2298.38 1513.66 2304.19 1513.66 Z\" fill=\"#000000\" fill-rule=\"evenodd\" fill-opacity=\"1\" /><polyline clip-path=\"url(#clip332)\" style=\"stroke:#000000; stroke-linecap:butt; stroke-linejoin:round; stroke-width:2; stroke-opacity:0.1; fill:none\" points=\"\n",
       "  140.696,1423.67 2352.76,1423.67 \n",
       "  \"/>\n",
       "<polyline clip-path=\"url(#clip332)\" style=\"stroke:#000000; stroke-linecap:butt; stroke-linejoin:round; stroke-width:2; stroke-opacity:0.1; fill:none\" points=\"\n",
       "  140.696,1104.68 2352.76,1104.68 \n",
       "  \"/>\n",
       "<polyline clip-path=\"url(#clip332)\" style=\"stroke:#000000; stroke-linecap:butt; stroke-linejoin:round; stroke-width:2; stroke-opacity:0.1; fill:none\" points=\"\n",
       "  140.696,785.681 2352.76,785.681 \n",
       "  \"/>\n",
       "<polyline clip-path=\"url(#clip332)\" style=\"stroke:#000000; stroke-linecap:butt; stroke-linejoin:round; stroke-width:2; stroke-opacity:0.1; fill:none\" points=\"\n",
       "  140.696,466.687 2352.76,466.687 \n",
       "  \"/>\n",
       "<polyline clip-path=\"url(#clip332)\" style=\"stroke:#000000; stroke-linecap:butt; stroke-linejoin:round; stroke-width:2; stroke-opacity:0.1; fill:none\" points=\"\n",
       "  140.696,147.693 2352.76,147.693 \n",
       "  \"/>\n",
       "<polyline clip-path=\"url(#clip330)\" style=\"stroke:#000000; stroke-linecap:butt; stroke-linejoin:round; stroke-width:4; stroke-opacity:1; fill:none\" points=\"\n",
       "  140.696,1486.45 140.696,47.2441 \n",
       "  \"/>\n",
       "<polyline clip-path=\"url(#clip330)\" style=\"stroke:#000000; stroke-linecap:butt; stroke-linejoin:round; stroke-width:4; stroke-opacity:1; fill:none\" points=\"\n",
       "  140.696,1423.67 159.593,1423.67 \n",
       "  \"/>\n",
       "<polyline clip-path=\"url(#clip330)\" style=\"stroke:#000000; stroke-linecap:butt; stroke-linejoin:round; stroke-width:4; stroke-opacity:1; fill:none\" points=\"\n",
       "  140.696,1104.68 159.593,1104.68 \n",
       "  \"/>\n",
       "<polyline clip-path=\"url(#clip330)\" style=\"stroke:#000000; stroke-linecap:butt; stroke-linejoin:round; stroke-width:4; stroke-opacity:1; fill:none\" points=\"\n",
       "  140.696,785.681 159.593,785.681 \n",
       "  \"/>\n",
       "<polyline clip-path=\"url(#clip330)\" style=\"stroke:#000000; stroke-linecap:butt; stroke-linejoin:round; stroke-width:4; stroke-opacity:1; fill:none\" points=\"\n",
       "  140.696,466.687 159.593,466.687 \n",
       "  \"/>\n",
       "<polyline clip-path=\"url(#clip330)\" style=\"stroke:#000000; stroke-linecap:butt; stroke-linejoin:round; stroke-width:4; stroke-opacity:1; fill:none\" points=\"\n",
       "  140.696,147.693 159.593,147.693 \n",
       "  \"/>\n",
       "<path clip-path=\"url(#clip330)\" d=\"M92.7512 1409.47 Q89.1401 1409.47 87.3114 1413.03 Q85.5058 1416.57 85.5058 1423.7 Q85.5058 1430.81 87.3114 1434.38 Q89.1401 1437.92 92.7512 1437.92 Q96.3854 1437.92 98.1909 1434.38 Q100.02 1430.81 100.02 1423.7 Q100.02 1416.57 98.1909 1413.03 Q96.3854 1409.47 92.7512 1409.47 M92.7512 1405.76 Q98.5613 1405.76 101.617 1410.37 Q104.696 1414.95 104.696 1423.7 Q104.696 1432.43 101.617 1437.04 Q98.5613 1441.62 92.7512 1441.62 Q86.941 1441.62 83.8623 1437.04 Q80.8068 1432.43 80.8068 1423.7 Q80.8068 1414.95 83.8623 1410.37 Q86.941 1405.76 92.7512 1405.76 Z\" fill=\"#000000\" fill-rule=\"evenodd\" fill-opacity=\"1\" /><path clip-path=\"url(#clip330)\" d=\"M83.7929 1087.4 L102.149 1087.4 L102.149 1091.33 L88.0753 1091.33 L88.0753 1099.8 Q89.0938 1099.46 90.1123 1099.29 Q91.1308 1099.11 92.1493 1099.11 Q97.9363 1099.11 101.316 1102.28 Q104.696 1105.45 104.696 1110.87 Q104.696 1116.45 101.223 1119.55 Q97.7511 1122.63 91.4317 1122.63 Q89.2558 1122.63 86.9873 1122.26 Q84.7419 1121.89 82.3346 1121.15 L82.3346 1116.45 Q84.4179 1117.58 86.6401 1118.14 Q88.8623 1118.69 91.3391 1118.69 Q95.3437 1118.69 97.6817 1116.59 Q100.02 1114.48 100.02 1110.87 Q100.02 1107.26 97.6817 1105.15 Q95.3437 1103.04 91.3391 1103.04 Q89.4641 1103.04 87.5892 1103.46 Q85.7373 1103.88 83.7929 1104.76 L83.7929 1087.4 Z\" fill=\"#000000\" fill-rule=\"evenodd\" fill-opacity=\"1\" /><path clip-path=\"url(#clip330)\" d=\"M53.3995 799.026 L61.0384 799.026 L61.0384 772.661 L52.7282 774.327 L52.7282 770.068 L60.9921 768.401 L65.668 768.401 L65.668 799.026 L73.3068 799.026 L73.3068 802.961 L53.3995 802.961 L53.3995 799.026 Z\" fill=\"#000000\" fill-rule=\"evenodd\" fill-opacity=\"1\" /><path clip-path=\"url(#clip330)\" d=\"M92.7512 771.48 Q89.1401 771.48 87.3114 775.045 Q85.5058 778.586 85.5058 785.716 Q85.5058 792.823 87.3114 796.387 Q89.1401 799.929 92.7512 799.929 Q96.3854 799.929 98.1909 796.387 Q100.02 792.823 100.02 785.716 Q100.02 778.586 98.1909 775.045 Q96.3854 771.48 92.7512 771.48 M92.7512 767.776 Q98.5613 767.776 101.617 772.383 Q104.696 776.966 104.696 785.716 Q104.696 794.443 101.617 799.049 Q98.5613 803.633 92.7512 803.633 Q86.941 803.633 83.8623 799.049 Q80.8068 794.443 80.8068 785.716 Q80.8068 776.966 83.8623 772.383 Q86.941 767.776 92.7512 767.776 Z\" fill=\"#000000\" fill-rule=\"evenodd\" fill-opacity=\"1\" /><path clip-path=\"url(#clip330)\" d=\"M54.3949 480.032 L62.0337 480.032 L62.0337 453.666 L53.7236 455.333 L53.7236 451.074 L61.9874 449.407 L66.6633 449.407 L66.6633 480.032 L74.3022 480.032 L74.3022 483.967 L54.3949 483.967 L54.3949 480.032 Z\" fill=\"#000000\" fill-rule=\"evenodd\" fill-opacity=\"1\" /><path clip-path=\"url(#clip330)\" d=\"M83.7929 449.407 L102.149 449.407 L102.149 453.342 L88.0753 453.342 L88.0753 461.814 Q89.0938 461.467 90.1123 461.305 Q91.1308 461.12 92.1493 461.12 Q97.9363 461.12 101.316 464.291 Q104.696 467.463 104.696 472.879 Q104.696 478.458 101.223 481.56 Q97.7511 484.638 91.4317 484.638 Q89.2558 484.638 86.9873 484.268 Q84.7419 483.898 82.3346 483.157 L82.3346 478.458 Q84.4179 479.592 86.6401 480.148 Q88.8623 480.703 91.3391 480.703 Q95.3437 480.703 97.6817 478.597 Q100.02 476.49 100.02 472.879 Q100.02 469.268 97.6817 467.162 Q95.3437 465.055 91.3391 465.055 Q89.4641 465.055 87.5892 465.472 Q85.7373 465.889 83.7929 466.768 L83.7929 449.407 Z\" fill=\"#000000\" fill-rule=\"evenodd\" fill-opacity=\"1\" /><path clip-path=\"url(#clip330)\" d=\"M56.6171 161.038 L72.9365 161.038 L72.9365 164.973 L50.9921 164.973 L50.9921 161.038 Q53.6541 158.283 58.2375 153.654 Q62.8439 149.001 64.0245 147.658 Q66.2698 145.135 67.1494 143.399 Q68.0522 141.64 68.0522 139.95 Q68.0522 137.195 66.1078 135.459 Q64.1865 133.723 61.0847 133.723 Q58.8856 133.723 56.4319 134.487 Q54.0014 135.251 51.2236 136.802 L51.2236 132.08 Q54.0477 130.945 56.5014 130.367 Q58.955 129.788 60.9921 129.788 Q66.3624 129.788 69.5568 132.473 Q72.7513 135.158 72.7513 139.649 Q72.7513 141.779 71.9411 143.7 Q71.1541 145.598 69.0476 148.191 Q68.4689 148.862 65.367 152.08 Q62.2652 155.274 56.6171 161.038 Z\" fill=\"#000000\" fill-rule=\"evenodd\" fill-opacity=\"1\" /><path clip-path=\"url(#clip330)\" d=\"M92.7512 133.492 Q89.1401 133.492 87.3114 137.056 Q85.5058 140.598 85.5058 147.728 Q85.5058 154.834 87.3114 158.399 Q89.1401 161.941 92.7512 161.941 Q96.3854 161.941 98.1909 158.399 Q100.02 154.834 100.02 147.728 Q100.02 140.598 98.1909 137.056 Q96.3854 133.492 92.7512 133.492 M92.7512 129.788 Q98.5613 129.788 101.617 134.394 Q104.696 138.978 104.696 147.728 Q104.696 156.454 101.617 161.061 Q98.5613 165.644 92.7512 165.644 Q86.941 165.644 83.8623 161.061 Q80.8068 156.454 80.8068 147.728 Q80.8068 138.978 83.8623 134.394 Q86.941 129.788 92.7512 129.788 Z\" fill=\"#000000\" fill-rule=\"evenodd\" fill-opacity=\"1\" /><polyline clip-path=\"url(#clip332)\" style=\"stroke:#000000; stroke-linecap:butt; stroke-linejoin:round; stroke-width:4; stroke-opacity:1; fill:none\" points=\"\n",
       "  203.301,1318.12 203.301,1274.03 \n",
       "  \"/>\n",
       "<polyline clip-path=\"url(#clip332)\" style=\"stroke:#000000; stroke-linecap:butt; stroke-linejoin:round; stroke-width:4; stroke-opacity:1; fill:none\" points=\"\n",
       "  435.173,1183.17 435.173,1153.78 \n",
       "  \"/>\n",
       "<polyline clip-path=\"url(#clip332)\" style=\"stroke:#000000; stroke-linecap:butt; stroke-linejoin:round; stroke-width:4; stroke-opacity:1; fill:none\" points=\"\n",
       "  667.045,1046.91 667.045,1034.84 \n",
       "  \"/>\n",
       "<polyline clip-path=\"url(#clip332)\" style=\"stroke:#000000; stroke-linecap:butt; stroke-linejoin:round; stroke-width:4; stroke-opacity:1; fill:none\" points=\"\n",
       "  898.917,972.99 898.917,853.568 \n",
       "  \"/>\n",
       "<polyline clip-path=\"url(#clip332)\" style=\"stroke:#000000; stroke-linecap:butt; stroke-linejoin:round; stroke-width:4; stroke-opacity:1; fill:none\" points=\"\n",
       "  1130.79,819.691 1130.79,751.672 \n",
       "  \"/>\n",
       "<polyline clip-path=\"url(#clip332)\" style=\"stroke:#000000; stroke-linecap:butt; stroke-linejoin:round; stroke-width:4; stroke-opacity:1; fill:none\" points=\"\n",
       "  1362.66,690.409 1362.66,625.758 \n",
       "  \"/>\n",
       "<polyline clip-path=\"url(#clip332)\" style=\"stroke:#000000; stroke-linecap:butt; stroke-linejoin:round; stroke-width:4; stroke-opacity:1; fill:none\" points=\"\n",
       "  1594.53,537.642 1594.53,523.33 \n",
       "  \"/>\n",
       "<polyline clip-path=\"url(#clip332)\" style=\"stroke:#000000; stroke-linecap:butt; stroke-linejoin:round; stroke-width:4; stroke-opacity:1; fill:none\" points=\"\n",
       "  1826.41,424.548 1826.41,381.228 \n",
       "  \"/>\n",
       "<polyline clip-path=\"url(#clip332)\" style=\"stroke:#000000; stroke-linecap:butt; stroke-linejoin:round; stroke-width:4; stroke-opacity:1; fill:none\" points=\"\n",
       "  2058.28,279.657 2058.28,270.924 \n",
       "  \"/>\n",
       "<polyline clip-path=\"url(#clip332)\" style=\"stroke:#000000; stroke-linecap:butt; stroke-linejoin:round; stroke-width:4; stroke-opacity:1; fill:none\" points=\"\n",
       "  2290.15,207.41 2290.15,87.9763 \n",
       "  \"/>\n",
       "<line clip-path=\"url(#clip332)\" x1=\"219.301\" y1=\"1318.12\" x2=\"187.301\" y2=\"1318.12\" style=\"stroke:#000000; stroke-width:3.2; stroke-opacity:1\"/>\n",
       "<line clip-path=\"url(#clip332)\" x1=\"219.301\" y1=\"1274.03\" x2=\"187.301\" y2=\"1274.03\" style=\"stroke:#000000; stroke-width:3.2; stroke-opacity:1\"/>\n",
       "<line clip-path=\"url(#clip332)\" x1=\"451.173\" y1=\"1183.17\" x2=\"419.173\" y2=\"1183.17\" style=\"stroke:#000000; stroke-width:3.2; stroke-opacity:1\"/>\n",
       "<line clip-path=\"url(#clip332)\" x1=\"451.173\" y1=\"1153.78\" x2=\"419.173\" y2=\"1153.78\" style=\"stroke:#000000; stroke-width:3.2; stroke-opacity:1\"/>\n",
       "<line clip-path=\"url(#clip332)\" x1=\"683.045\" y1=\"1046.91\" x2=\"651.045\" y2=\"1046.91\" style=\"stroke:#000000; stroke-width:3.2; stroke-opacity:1\"/>\n",
       "<line clip-path=\"url(#clip332)\" x1=\"683.045\" y1=\"1034.84\" x2=\"651.045\" y2=\"1034.84\" style=\"stroke:#000000; stroke-width:3.2; stroke-opacity:1\"/>\n",
       "<line clip-path=\"url(#clip332)\" x1=\"914.917\" y1=\"972.99\" x2=\"882.917\" y2=\"972.99\" style=\"stroke:#000000; stroke-width:3.2; stroke-opacity:1\"/>\n",
       "<line clip-path=\"url(#clip332)\" x1=\"914.917\" y1=\"853.568\" x2=\"882.917\" y2=\"853.568\" style=\"stroke:#000000; stroke-width:3.2; stroke-opacity:1\"/>\n",
       "<line clip-path=\"url(#clip332)\" x1=\"1146.79\" y1=\"819.691\" x2=\"1114.79\" y2=\"819.691\" style=\"stroke:#000000; stroke-width:3.2; stroke-opacity:1\"/>\n",
       "<line clip-path=\"url(#clip332)\" x1=\"1146.79\" y1=\"751.672\" x2=\"1114.79\" y2=\"751.672\" style=\"stroke:#000000; stroke-width:3.2; stroke-opacity:1\"/>\n",
       "<line clip-path=\"url(#clip332)\" x1=\"1378.66\" y1=\"690.409\" x2=\"1346.66\" y2=\"690.409\" style=\"stroke:#000000; stroke-width:3.2; stroke-opacity:1\"/>\n",
       "<line clip-path=\"url(#clip332)\" x1=\"1378.66\" y1=\"625.758\" x2=\"1346.66\" y2=\"625.758\" style=\"stroke:#000000; stroke-width:3.2; stroke-opacity:1\"/>\n",
       "<line clip-path=\"url(#clip332)\" x1=\"1610.53\" y1=\"537.642\" x2=\"1578.53\" y2=\"537.642\" style=\"stroke:#000000; stroke-width:3.2; stroke-opacity:1\"/>\n",
       "<line clip-path=\"url(#clip332)\" x1=\"1610.53\" y1=\"523.33\" x2=\"1578.53\" y2=\"523.33\" style=\"stroke:#000000; stroke-width:3.2; stroke-opacity:1\"/>\n",
       "<line clip-path=\"url(#clip332)\" x1=\"1842.41\" y1=\"424.548\" x2=\"1810.41\" y2=\"424.548\" style=\"stroke:#000000; stroke-width:3.2; stroke-opacity:1\"/>\n",
       "<line clip-path=\"url(#clip332)\" x1=\"1842.41\" y1=\"381.228\" x2=\"1810.41\" y2=\"381.228\" style=\"stroke:#000000; stroke-width:3.2; stroke-opacity:1\"/>\n",
       "<line clip-path=\"url(#clip332)\" x1=\"2074.28\" y1=\"279.657\" x2=\"2042.28\" y2=\"279.657\" style=\"stroke:#000000; stroke-width:3.2; stroke-opacity:1\"/>\n",
       "<line clip-path=\"url(#clip332)\" x1=\"2074.28\" y1=\"270.924\" x2=\"2042.28\" y2=\"270.924\" style=\"stroke:#000000; stroke-width:3.2; stroke-opacity:1\"/>\n",
       "<line clip-path=\"url(#clip332)\" x1=\"2306.15\" y1=\"207.41\" x2=\"2274.15\" y2=\"207.41\" style=\"stroke:#000000; stroke-width:3.2; stroke-opacity:1\"/>\n",
       "<line clip-path=\"url(#clip332)\" x1=\"2306.15\" y1=\"87.9763\" x2=\"2274.15\" y2=\"87.9763\" style=\"stroke:#000000; stroke-width:3.2; stroke-opacity:1\"/>\n",
       "<circle clip-path=\"url(#clip332)\" cx=\"203.301\" cy=\"1296.07\" r=\"14\" fill=\"#ff0000\" fill-rule=\"evenodd\" fill-opacity=\"1\" stroke=\"#000000\" stroke-opacity=\"1\" stroke-width=\"3.2\"/>\n",
       "<circle clip-path=\"url(#clip332)\" cx=\"435.173\" cy=\"1168.47\" r=\"14\" fill=\"#ff0000\" fill-rule=\"evenodd\" fill-opacity=\"1\" stroke=\"#000000\" stroke-opacity=\"1\" stroke-width=\"3.2\"/>\n",
       "<circle clip-path=\"url(#clip332)\" cx=\"667.045\" cy=\"1040.88\" r=\"14\" fill=\"#ff0000\" fill-rule=\"evenodd\" fill-opacity=\"1\" stroke=\"#000000\" stroke-opacity=\"1\" stroke-width=\"3.2\"/>\n",
       "<circle clip-path=\"url(#clip332)\" cx=\"898.917\" cy=\"913.279\" r=\"14\" fill=\"#ff0000\" fill-rule=\"evenodd\" fill-opacity=\"1\" stroke=\"#000000\" stroke-opacity=\"1\" stroke-width=\"3.2\"/>\n",
       "<circle clip-path=\"url(#clip332)\" cx=\"1130.79\" cy=\"785.681\" r=\"14\" fill=\"#ff0000\" fill-rule=\"evenodd\" fill-opacity=\"1\" stroke=\"#000000\" stroke-opacity=\"1\" stroke-width=\"3.2\"/>\n",
       "<circle clip-path=\"url(#clip332)\" cx=\"1362.66\" cy=\"658.084\" r=\"14\" fill=\"#ff0000\" fill-rule=\"evenodd\" fill-opacity=\"1\" stroke=\"#000000\" stroke-opacity=\"1\" stroke-width=\"3.2\"/>\n",
       "<circle clip-path=\"url(#clip332)\" cx=\"1594.53\" cy=\"530.486\" r=\"14\" fill=\"#ff0000\" fill-rule=\"evenodd\" fill-opacity=\"1\" stroke=\"#000000\" stroke-opacity=\"1\" stroke-width=\"3.2\"/>\n",
       "<circle clip-path=\"url(#clip332)\" cx=\"1826.41\" cy=\"402.888\" r=\"14\" fill=\"#ff0000\" fill-rule=\"evenodd\" fill-opacity=\"1\" stroke=\"#000000\" stroke-opacity=\"1\" stroke-width=\"3.2\"/>\n",
       "<circle clip-path=\"url(#clip332)\" cx=\"2058.28\" cy=\"275.291\" r=\"14\" fill=\"#ff0000\" fill-rule=\"evenodd\" fill-opacity=\"1\" stroke=\"#000000\" stroke-opacity=\"1\" stroke-width=\"3.2\"/>\n",
       "<circle clip-path=\"url(#clip332)\" cx=\"2290.15\" cy=\"147.693\" r=\"14\" fill=\"#ff0000\" fill-rule=\"evenodd\" fill-opacity=\"1\" stroke=\"#000000\" stroke-opacity=\"1\" stroke-width=\"3.2\"/>\n",
       "<polyline clip-path=\"url(#clip332)\" style=\"stroke:#000000; stroke-linecap:butt; stroke-linejoin:round; stroke-width:4; stroke-opacity:1; fill:none\" points=\"\n",
       "  203.301,1445.72 203.301,1401.62 \n",
       "  \"/>\n",
       "<polyline clip-path=\"url(#clip332)\" style=\"stroke:#000000; stroke-linecap:butt; stroke-linejoin:round; stroke-width:4; stroke-opacity:1; fill:none\" points=\"\n",
       "  435.173,1394.15 435.173,1364.75 \n",
       "  \"/>\n",
       "<polyline clip-path=\"url(#clip332)\" style=\"stroke:#000000; stroke-linecap:butt; stroke-linejoin:round; stroke-width:4; stroke-opacity:1; fill:none\" points=\"\n",
       "  667.045,1359.61 667.045,1347.55 \n",
       "  \"/>\n",
       "<polyline clip-path=\"url(#clip332)\" style=\"stroke:#000000; stroke-linecap:butt; stroke-linejoin:round; stroke-width:4; stroke-opacity:1; fill:none\" points=\"\n",
       "  898.917,1394.94 898.917,1275.52 \n",
       "  \"/>\n",
       "<polyline clip-path=\"url(#clip332)\" style=\"stroke:#000000; stroke-linecap:butt; stroke-linejoin:round; stroke-width:4; stroke-opacity:1; fill:none\" points=\"\n",
       "  1130.79,1355 1130.79,1286.98 \n",
       "  \"/>\n",
       "<polyline clip-path=\"url(#clip332)\" style=\"stroke:#000000; stroke-linecap:butt; stroke-linejoin:round; stroke-width:4; stroke-opacity:1; fill:none\" points=\"\n",
       "  1362.66,1341.68 1362.66,1277.03 \n",
       "  \"/>\n",
       "<polyline clip-path=\"url(#clip332)\" style=\"stroke:#000000; stroke-linecap:butt; stroke-linejoin:round; stroke-width:4; stroke-opacity:1; fill:none\" points=\"\n",
       "  1594.53,1306.68 1594.53,1292.37 \n",
       "  \"/>\n",
       "<polyline clip-path=\"url(#clip332)\" style=\"stroke:#000000; stroke-linecap:butt; stroke-linejoin:round; stroke-width:4; stroke-opacity:1; fill:none\" points=\"\n",
       "  1826.41,1312.66 1826.41,1269.34 \n",
       "  \"/>\n",
       "<polyline clip-path=\"url(#clip332)\" style=\"stroke:#000000; stroke-linecap:butt; stroke-linejoin:round; stroke-width:4; stroke-opacity:1; fill:none\" points=\"\n",
       "  2058.28,1287.86 2058.28,1279.12 \n",
       "  \"/>\n",
       "<polyline clip-path=\"url(#clip332)\" style=\"stroke:#000000; stroke-linecap:butt; stroke-linejoin:round; stroke-width:4; stroke-opacity:1; fill:none\" points=\"\n",
       "  2290.15,1336.48 2290.15,1217.05 \n",
       "  \"/>\n",
       "<line clip-path=\"url(#clip332)\" x1=\"219.301\" y1=\"1445.72\" x2=\"187.301\" y2=\"1445.72\" style=\"stroke:#000000; stroke-width:3.2; stroke-opacity:1\"/>\n",
       "<line clip-path=\"url(#clip332)\" x1=\"219.301\" y1=\"1401.62\" x2=\"187.301\" y2=\"1401.62\" style=\"stroke:#000000; stroke-width:3.2; stroke-opacity:1\"/>\n",
       "<line clip-path=\"url(#clip332)\" x1=\"451.173\" y1=\"1394.15\" x2=\"419.173\" y2=\"1394.15\" style=\"stroke:#000000; stroke-width:3.2; stroke-opacity:1\"/>\n",
       "<line clip-path=\"url(#clip332)\" x1=\"451.173\" y1=\"1364.75\" x2=\"419.173\" y2=\"1364.75\" style=\"stroke:#000000; stroke-width:3.2; stroke-opacity:1\"/>\n",
       "<line clip-path=\"url(#clip332)\" x1=\"683.045\" y1=\"1359.61\" x2=\"651.045\" y2=\"1359.61\" style=\"stroke:#000000; stroke-width:3.2; stroke-opacity:1\"/>\n",
       "<line clip-path=\"url(#clip332)\" x1=\"683.045\" y1=\"1347.55\" x2=\"651.045\" y2=\"1347.55\" style=\"stroke:#000000; stroke-width:3.2; stroke-opacity:1\"/>\n",
       "<line clip-path=\"url(#clip332)\" x1=\"914.917\" y1=\"1394.94\" x2=\"882.917\" y2=\"1394.94\" style=\"stroke:#000000; stroke-width:3.2; stroke-opacity:1\"/>\n",
       "<line clip-path=\"url(#clip332)\" x1=\"914.917\" y1=\"1275.52\" x2=\"882.917\" y2=\"1275.52\" style=\"stroke:#000000; stroke-width:3.2; stroke-opacity:1\"/>\n",
       "<line clip-path=\"url(#clip332)\" x1=\"1146.79\" y1=\"1355\" x2=\"1114.79\" y2=\"1355\" style=\"stroke:#000000; stroke-width:3.2; stroke-opacity:1\"/>\n",
       "<line clip-path=\"url(#clip332)\" x1=\"1146.79\" y1=\"1286.98\" x2=\"1114.79\" y2=\"1286.98\" style=\"stroke:#000000; stroke-width:3.2; stroke-opacity:1\"/>\n",
       "<line clip-path=\"url(#clip332)\" x1=\"1378.66\" y1=\"1341.68\" x2=\"1346.66\" y2=\"1341.68\" style=\"stroke:#000000; stroke-width:3.2; stroke-opacity:1\"/>\n",
       "<line clip-path=\"url(#clip332)\" x1=\"1378.66\" y1=\"1277.03\" x2=\"1346.66\" y2=\"1277.03\" style=\"stroke:#000000; stroke-width:3.2; stroke-opacity:1\"/>\n",
       "<line clip-path=\"url(#clip332)\" x1=\"1610.53\" y1=\"1306.68\" x2=\"1578.53\" y2=\"1306.68\" style=\"stroke:#000000; stroke-width:3.2; stroke-opacity:1\"/>\n",
       "<line clip-path=\"url(#clip332)\" x1=\"1610.53\" y1=\"1292.37\" x2=\"1578.53\" y2=\"1292.37\" style=\"stroke:#000000; stroke-width:3.2; stroke-opacity:1\"/>\n",
       "<line clip-path=\"url(#clip332)\" x1=\"1842.41\" y1=\"1312.66\" x2=\"1810.41\" y2=\"1312.66\" style=\"stroke:#000000; stroke-width:3.2; stroke-opacity:1\"/>\n",
       "<line clip-path=\"url(#clip332)\" x1=\"1842.41\" y1=\"1269.34\" x2=\"1810.41\" y2=\"1269.34\" style=\"stroke:#000000; stroke-width:3.2; stroke-opacity:1\"/>\n",
       "<line clip-path=\"url(#clip332)\" x1=\"2074.28\" y1=\"1287.86\" x2=\"2042.28\" y2=\"1287.86\" style=\"stroke:#000000; stroke-width:3.2; stroke-opacity:1\"/>\n",
       "<line clip-path=\"url(#clip332)\" x1=\"2074.28\" y1=\"1279.12\" x2=\"2042.28\" y2=\"1279.12\" style=\"stroke:#000000; stroke-width:3.2; stroke-opacity:1\"/>\n",
       "<line clip-path=\"url(#clip332)\" x1=\"2306.15\" y1=\"1336.48\" x2=\"2274.15\" y2=\"1336.48\" style=\"stroke:#000000; stroke-width:3.2; stroke-opacity:1\"/>\n",
       "<line clip-path=\"url(#clip332)\" x1=\"2306.15\" y1=\"1217.05\" x2=\"2274.15\" y2=\"1217.05\" style=\"stroke:#000000; stroke-width:3.2; stroke-opacity:1\"/>\n",
       "<circle clip-path=\"url(#clip332)\" cx=\"203.301\" cy=\"1423.67\" r=\"14\" fill=\"#0000ff\" fill-rule=\"evenodd\" fill-opacity=\"1\" stroke=\"#000000\" stroke-opacity=\"1\" stroke-width=\"3.2\"/>\n",
       "<circle clip-path=\"url(#clip332)\" cx=\"435.173\" cy=\"1379.45\" r=\"14\" fill=\"#0000ff\" fill-rule=\"evenodd\" fill-opacity=\"1\" stroke=\"#000000\" stroke-opacity=\"1\" stroke-width=\"3.2\"/>\n",
       "<circle clip-path=\"url(#clip332)\" cx=\"667.045\" cy=\"1353.58\" r=\"14\" fill=\"#0000ff\" fill-rule=\"evenodd\" fill-opacity=\"1\" stroke=\"#000000\" stroke-opacity=\"1\" stroke-width=\"3.2\"/>\n",
       "<circle clip-path=\"url(#clip332)\" cx=\"898.917\" cy=\"1335.23\" r=\"14\" fill=\"#0000ff\" fill-rule=\"evenodd\" fill-opacity=\"1\" stroke=\"#000000\" stroke-opacity=\"1\" stroke-width=\"3.2\"/>\n",
       "<circle clip-path=\"url(#clip332)\" cx=\"1130.79\" cy=\"1320.99\" r=\"14\" fill=\"#0000ff\" fill-rule=\"evenodd\" fill-opacity=\"1\" stroke=\"#000000\" stroke-opacity=\"1\" stroke-width=\"3.2\"/>\n",
       "<circle clip-path=\"url(#clip332)\" cx=\"1362.66\" cy=\"1309.36\" r=\"14\" fill=\"#0000ff\" fill-rule=\"evenodd\" fill-opacity=\"1\" stroke=\"#000000\" stroke-opacity=\"1\" stroke-width=\"3.2\"/>\n",
       "<circle clip-path=\"url(#clip332)\" cx=\"1594.53\" cy=\"1299.52\" r=\"14\" fill=\"#0000ff\" fill-rule=\"evenodd\" fill-opacity=\"1\" stroke=\"#000000\" stroke-opacity=\"1\" stroke-width=\"3.2\"/>\n",
       "<circle clip-path=\"url(#clip332)\" cx=\"1826.41\" cy=\"1291\" r=\"14\" fill=\"#0000ff\" fill-rule=\"evenodd\" fill-opacity=\"1\" stroke=\"#000000\" stroke-opacity=\"1\" stroke-width=\"3.2\"/>\n",
       "<circle clip-path=\"url(#clip332)\" cx=\"2058.28\" cy=\"1283.49\" r=\"14\" fill=\"#0000ff\" fill-rule=\"evenodd\" fill-opacity=\"1\" stroke=\"#000000\" stroke-opacity=\"1\" stroke-width=\"3.2\"/>\n",
       "<circle clip-path=\"url(#clip332)\" cx=\"2290.15\" cy=\"1276.77\" r=\"14\" fill=\"#0000ff\" fill-rule=\"evenodd\" fill-opacity=\"1\" stroke=\"#000000\" stroke-opacity=\"1\" stroke-width=\"3.2\"/>\n",
       "<path clip-path=\"url(#clip330)\" d=\"\n",
       "M1980.81 250.738 L2279.02 250.738 L2279.02 95.2176 L1980.81 95.2176  Z\n",
       "  \" fill=\"#ffffff\" fill-rule=\"evenodd\" fill-opacity=\"1\"/>\n",
       "<polyline clip-path=\"url(#clip330)\" style=\"stroke:#000000; stroke-linecap:butt; stroke-linejoin:round; stroke-width:4; stroke-opacity:1; fill:none\" points=\"\n",
       "  1980.81,250.738 2279.02,250.738 2279.02,95.2176 1980.81,95.2176 1980.81,250.738 \n",
       "  \"/>\n",
       "<circle clip-path=\"url(#clip330)\" cx=\"2079.12\" cy=\"147.058\" r=\"23\" fill=\"#ff0000\" fill-rule=\"evenodd\" fill-opacity=\"1\" stroke=\"#000000\" stroke-opacity=\"1\" stroke-width=\"5.12\"/>\n",
       "<path clip-path=\"url(#clip330)\" d=\"M2191.28 166.745 Q2189.47 171.375 2187.76 172.787 Q2186.04 174.199 2183.17 174.199 L2179.77 174.199 L2179.77 170.634 L2182.27 170.634 Q2184.03 170.634 2185 169.8 Q2185.98 168.967 2187.16 165.865 L2187.92 163.921 L2177.43 138.412 L2181.95 138.412 L2190.05 158.689 L2198.15 138.412 L2202.66 138.412 L2191.28 166.745 Z\" fill=\"#000000\" fill-rule=\"evenodd\" fill-opacity=\"1\" /><path clip-path=\"url(#clip330)\" d=\"M2209.96 160.402 L2217.6 160.402 L2217.6 134.037 L2209.29 135.703 L2209.29 131.444 L2217.55 129.778 L2222.22 129.778 L2222.22 160.402 L2229.86 160.402 L2229.86 164.338 L2209.96 164.338 L2209.96 160.402 Z\" fill=\"#000000\" fill-rule=\"evenodd\" fill-opacity=\"1\" /><circle clip-path=\"url(#clip330)\" cx=\"2079.12\" cy=\"198.898\" r=\"23\" fill=\"#0000ff\" fill-rule=\"evenodd\" fill-opacity=\"1\" stroke=\"#000000\" stroke-opacity=\"1\" stroke-width=\"5.12\"/>\n",
       "<path clip-path=\"url(#clip330)\" d=\"M2191.28 218.585 Q2189.47 223.215 2187.76 224.627 Q2186.04 226.039 2183.17 226.039 L2179.77 226.039 L2179.77 222.474 L2182.27 222.474 Q2184.03 222.474 2185 221.64 Q2185.98 220.807 2187.16 217.705 L2187.92 215.761 L2177.43 190.252 L2181.95 190.252 L2190.05 210.529 L2198.15 190.252 L2202.66 190.252 L2191.28 218.585 Z\" fill=\"#000000\" fill-rule=\"evenodd\" fill-opacity=\"1\" /><path clip-path=\"url(#clip330)\" d=\"M2213.17 212.242 L2229.49 212.242 L2229.49 216.178 L2207.55 216.178 L2207.55 212.242 Q2210.21 209.488 2214.79 204.858 Q2219.4 200.205 2220.58 198.863 Q2222.83 196.34 2223.71 194.604 Q2224.61 192.844 2224.61 191.155 Q2224.61 188.4 2222.66 186.664 Q2220.74 184.928 2217.64 184.928 Q2215.44 184.928 2212.99 185.692 Q2210.56 186.455 2207.78 188.006 L2207.78 183.284 Q2210.6 182.15 2213.06 181.571 Q2215.51 180.993 2217.55 180.993 Q2222.92 180.993 2226.11 183.678 Q2229.31 186.363 2229.31 190.854 Q2229.31 192.983 2228.5 194.905 Q2227.71 196.803 2225.6 199.395 Q2225.03 200.067 2221.92 203.284 Q2218.82 206.479 2213.17 212.242 Z\" fill=\"#000000\" fill-rule=\"evenodd\" fill-opacity=\"1\" /></svg>\n"
      ]
     },
     "execution_count": 45,
     "metadata": {},
     "output_type": "execute_result"
    }
   ],
   "source": [
    "# Mozna odwolywac sie bezposrednio do kolumn w poniższy sposób (gdyz sa typu jednowymiarowych tablic \n",
    "# Array{T,1})\n",
    "\n",
    "using Plots\n",
    "scatter(df.a, [df.b, df.c], colour = [:red :blue], yerr=df.d)\n"
   ]
  },
  {
   "cell_type": "code",
   "execution_count": 46,
   "metadata": {},
   "outputs": [
    {
     "data": {
      "image/svg+xml": [
       "<?xml version=\"1.0\" encoding=\"utf-8\"?>\n",
       "<svg xmlns=\"http://www.w3.org/2000/svg\" xmlns:xlink=\"http://www.w3.org/1999/xlink\" width=\"600\" height=\"400\" viewBox=\"0 0 2400 1600\">\n",
       "<defs>\n",
       "  <clipPath id=\"clip370\">\n",
       "    <rect x=\"0\" y=\"0\" width=\"2400\" height=\"1600\"/>\n",
       "  </clipPath>\n",
       "</defs>\n",
       "<path clip-path=\"url(#clip370)\" d=\"\n",
       "M0 1600 L2400 1600 L2400 0 L0 0  Z\n",
       "  \" fill=\"#ffffff\" fill-rule=\"evenodd\" fill-opacity=\"1\"/>\n",
       "<defs>\n",
       "  <clipPath id=\"clip371\">\n",
       "    <rect x=\"480\" y=\"0\" width=\"1681\" height=\"1600\"/>\n",
       "  </clipPath>\n",
       "</defs>\n",
       "<path clip-path=\"url(#clip370)\" d=\"\n",
       "M140.696 1486.45 L1145.05 1486.45 L1145.05 47.2441 L140.696 47.2441  Z\n",
       "  \" fill=\"#ffffff\" fill-rule=\"evenodd\" fill-opacity=\"1\"/>\n",
       "<defs>\n",
       "  <clipPath id=\"clip372\">\n",
       "    <rect x=\"140\" y=\"47\" width=\"1005\" height=\"1440\"/>\n",
       "  </clipPath>\n",
       "</defs>\n",
       "<polyline clip-path=\"url(#clip372)\" style=\"stroke:#000000; stroke-linecap:butt; stroke-linejoin:round; stroke-width:2; stroke-opacity:0.1; fill:none\" points=\"\n",
       "  274.399,1486.45 274.399,47.2441 \n",
       "  \"/>\n",
       "<polyline clip-path=\"url(#clip372)\" style=\"stroke:#000000; stroke-linecap:butt; stroke-linejoin:round; stroke-width:2; stroke-opacity:0.1; fill:none\" points=\"\n",
       "  484.955,1486.45 484.955,47.2441 \n",
       "  \"/>\n",
       "<polyline clip-path=\"url(#clip372)\" style=\"stroke:#000000; stroke-linecap:butt; stroke-linejoin:round; stroke-width:2; stroke-opacity:0.1; fill:none\" points=\"\n",
       "  695.511,1486.45 695.511,47.2441 \n",
       "  \"/>\n",
       "<polyline clip-path=\"url(#clip372)\" style=\"stroke:#000000; stroke-linecap:butt; stroke-linejoin:round; stroke-width:2; stroke-opacity:0.1; fill:none\" points=\"\n",
       "  906.067,1486.45 906.067,47.2441 \n",
       "  \"/>\n",
       "<polyline clip-path=\"url(#clip372)\" style=\"stroke:#000000; stroke-linecap:butt; stroke-linejoin:round; stroke-width:2; stroke-opacity:0.1; fill:none\" points=\"\n",
       "  1116.62,1486.45 1116.62,47.2441 \n",
       "  \"/>\n",
       "<polyline clip-path=\"url(#clip370)\" style=\"stroke:#000000; stroke-linecap:butt; stroke-linejoin:round; stroke-width:4; stroke-opacity:1; fill:none\" points=\"\n",
       "  140.696,1486.45 1145.05,1486.45 \n",
       "  \"/>\n",
       "<polyline clip-path=\"url(#clip370)\" style=\"stroke:#000000; stroke-linecap:butt; stroke-linejoin:round; stroke-width:4; stroke-opacity:1; fill:none\" points=\"\n",
       "  274.399,1486.45 274.399,1467.55 \n",
       "  \"/>\n",
       "<polyline clip-path=\"url(#clip370)\" style=\"stroke:#000000; stroke-linecap:butt; stroke-linejoin:round; stroke-width:4; stroke-opacity:1; fill:none\" points=\"\n",
       "  484.955,1486.45 484.955,1467.55 \n",
       "  \"/>\n",
       "<polyline clip-path=\"url(#clip370)\" style=\"stroke:#000000; stroke-linecap:butt; stroke-linejoin:round; stroke-width:4; stroke-opacity:1; fill:none\" points=\"\n",
       "  695.511,1486.45 695.511,1467.55 \n",
       "  \"/>\n",
       "<polyline clip-path=\"url(#clip370)\" style=\"stroke:#000000; stroke-linecap:butt; stroke-linejoin:round; stroke-width:4; stroke-opacity:1; fill:none\" points=\"\n",
       "  906.067,1486.45 906.067,1467.55 \n",
       "  \"/>\n",
       "<polyline clip-path=\"url(#clip370)\" style=\"stroke:#000000; stroke-linecap:butt; stroke-linejoin:round; stroke-width:4; stroke-opacity:1; fill:none\" points=\"\n",
       "  1116.62,1486.45 1116.62,1467.55 \n",
       "  \"/>\n",
       "<path clip-path=\"url(#clip370)\" d=\"M269.051 1544.91 L285.371 1544.91 L285.371 1548.85 L263.426 1548.85 L263.426 1544.91 Q266.088 1542.16 270.672 1537.53 Q275.278 1532.88 276.459 1531.53 Q278.704 1529.01 279.584 1527.27 Q280.487 1525.51 280.487 1523.82 Q280.487 1521.07 278.542 1519.33 Q276.621 1517.6 273.519 1517.6 Q271.32 1517.6 268.866 1518.36 Q266.436 1519.13 263.658 1520.68 L263.658 1515.95 Q266.482 1514.82 268.936 1514.24 Q271.389 1513.66 273.426 1513.66 Q278.797 1513.66 281.991 1516.35 Q285.186 1519.03 285.186 1523.52 Q285.186 1525.65 284.375 1527.57 Q283.588 1529.47 281.482 1532.07 Q280.903 1532.74 277.801 1535.95 Q274.7 1539.15 269.051 1544.91 Z\" fill=\"#000000\" fill-rule=\"evenodd\" fill-opacity=\"1\" /><path clip-path=\"url(#clip370)\" d=\"M487.964 1518.36 L476.158 1536.81 L487.964 1536.81 L487.964 1518.36 M486.737 1514.29 L492.617 1514.29 L492.617 1536.81 L497.547 1536.81 L497.547 1540.7 L492.617 1540.7 L492.617 1548.85 L487.964 1548.85 L487.964 1540.7 L472.362 1540.7 L472.362 1536.19 L486.737 1514.29 Z\" fill=\"#000000\" fill-rule=\"evenodd\" fill-opacity=\"1\" /><path clip-path=\"url(#clip370)\" d=\"M695.916 1529.7 Q692.768 1529.7 690.916 1531.86 Q689.087 1534.01 689.087 1537.76 Q689.087 1541.49 690.916 1543.66 Q692.768 1545.82 695.916 1545.82 Q699.064 1545.82 700.892 1543.66 Q702.744 1541.49 702.744 1537.76 Q702.744 1534.01 700.892 1531.86 Q699.064 1529.7 695.916 1529.7 M705.198 1515.05 L705.198 1519.31 Q703.439 1518.48 701.633 1518.04 Q699.851 1517.6 698.092 1517.6 Q693.462 1517.6 691.008 1520.72 Q688.578 1523.85 688.231 1530.17 Q689.596 1528.15 691.656 1527.09 Q693.717 1526 696.193 1526 Q701.402 1526 704.411 1529.17 Q707.443 1532.32 707.443 1537.76 Q707.443 1543.08 704.295 1546.3 Q701.147 1549.52 695.916 1549.52 Q689.92 1549.52 686.749 1544.94 Q683.578 1540.33 683.578 1531.6 Q683.578 1523.41 687.467 1518.55 Q691.356 1513.66 697.906 1513.66 Q699.666 1513.66 701.448 1514.01 Q703.254 1514.36 705.198 1515.05 Z\" fill=\"#000000\" fill-rule=\"evenodd\" fill-opacity=\"1\" /><path clip-path=\"url(#clip370)\" d=\"M906.067 1532.44 Q902.733 1532.44 900.812 1534.22 Q898.914 1536 898.914 1539.13 Q898.914 1542.25 900.812 1544.03 Q902.733 1545.82 906.067 1545.82 Q909.4 1545.82 911.321 1544.03 Q913.242 1542.23 913.242 1539.13 Q913.242 1536 911.321 1534.22 Q909.423 1532.44 906.067 1532.44 M901.391 1530.45 Q898.381 1529.7 896.692 1527.64 Q895.025 1525.58 895.025 1522.62 Q895.025 1518.48 897.965 1516.07 Q900.928 1513.66 906.067 1513.66 Q911.229 1513.66 914.168 1516.07 Q917.108 1518.48 917.108 1522.62 Q917.108 1525.58 915.418 1527.64 Q913.752 1529.7 910.766 1530.45 Q914.145 1531.23 916.02 1533.52 Q917.918 1535.82 917.918 1539.13 Q917.918 1544.15 914.84 1546.83 Q911.784 1549.52 906.067 1549.52 Q900.349 1549.52 897.27 1546.83 Q894.215 1544.15 894.215 1539.13 Q894.215 1535.82 896.113 1533.52 Q898.011 1531.23 901.391 1530.45 M899.678 1523.06 Q899.678 1525.75 901.344 1527.25 Q903.034 1528.76 906.067 1528.76 Q909.076 1528.76 910.766 1527.25 Q912.479 1525.75 912.479 1523.06 Q912.479 1520.38 910.766 1518.87 Q909.076 1517.37 906.067 1517.37 Q903.034 1517.37 901.344 1518.87 Q899.678 1520.38 899.678 1523.06 Z\" fill=\"#000000\" fill-rule=\"evenodd\" fill-opacity=\"1\" /><path clip-path=\"url(#clip370)\" d=\"M1091.31 1544.91 L1098.95 1544.91 L1098.95 1518.55 L1090.64 1520.21 L1090.64 1515.95 L1098.9 1514.29 L1103.58 1514.29 L1103.58 1544.91 L1111.22 1544.91 L1111.22 1548.85 L1091.31 1548.85 L1091.31 1544.91 Z\" fill=\"#000000\" fill-rule=\"evenodd\" fill-opacity=\"1\" /><path clip-path=\"url(#clip370)\" d=\"M1130.66 1517.37 Q1127.05 1517.37 1125.22 1520.93 Q1123.42 1524.47 1123.42 1531.6 Q1123.42 1538.71 1125.22 1542.27 Q1127.05 1545.82 1130.66 1545.82 Q1134.3 1545.82 1136.1 1542.27 Q1137.93 1538.71 1137.93 1531.6 Q1137.93 1524.47 1136.1 1520.93 Q1134.3 1517.37 1130.66 1517.37 M1130.66 1513.66 Q1136.47 1513.66 1139.53 1518.27 Q1142.61 1522.85 1142.61 1531.6 Q1142.61 1540.33 1139.53 1544.94 Q1136.47 1549.52 1130.66 1549.52 Q1124.85 1549.52 1121.77 1544.94 Q1118.72 1540.33 1118.72 1531.6 Q1118.72 1522.85 1121.77 1518.27 Q1124.85 1513.66 1130.66 1513.66 Z\" fill=\"#000000\" fill-rule=\"evenodd\" fill-opacity=\"1\" /><polyline clip-path=\"url(#clip372)\" style=\"stroke:#000000; stroke-linecap:butt; stroke-linejoin:round; stroke-width:2; stroke-opacity:0.1; fill:none\" points=\"\n",
       "  140.696,1219.43 1145.05,1219.43 \n",
       "  \"/>\n",
       "<polyline clip-path=\"url(#clip372)\" style=\"stroke:#000000; stroke-linecap:butt; stroke-linejoin:round; stroke-width:2; stroke-opacity:0.1; fill:none\" points=\"\n",
       "  140.696,842.276 1145.05,842.276 \n",
       "  \"/>\n",
       "<polyline clip-path=\"url(#clip372)\" style=\"stroke:#000000; stroke-linecap:butt; stroke-linejoin:round; stroke-width:2; stroke-opacity:0.1; fill:none\" points=\"\n",
       "  140.696,465.126 1145.05,465.126 \n",
       "  \"/>\n",
       "<polyline clip-path=\"url(#clip372)\" style=\"stroke:#000000; stroke-linecap:butt; stroke-linejoin:round; stroke-width:2; stroke-opacity:0.1; fill:none\" points=\"\n",
       "  140.696,87.9763 1145.05,87.9763 \n",
       "  \"/>\n",
       "<polyline clip-path=\"url(#clip370)\" style=\"stroke:#000000; stroke-linecap:butt; stroke-linejoin:round; stroke-width:4; stroke-opacity:1; fill:none\" points=\"\n",
       "  140.696,1486.45 140.696,47.2441 \n",
       "  \"/>\n",
       "<polyline clip-path=\"url(#clip370)\" style=\"stroke:#000000; stroke-linecap:butt; stroke-linejoin:round; stroke-width:4; stroke-opacity:1; fill:none\" points=\"\n",
       "  140.696,1219.43 159.593,1219.43 \n",
       "  \"/>\n",
       "<polyline clip-path=\"url(#clip370)\" style=\"stroke:#000000; stroke-linecap:butt; stroke-linejoin:round; stroke-width:4; stroke-opacity:1; fill:none\" points=\"\n",
       "  140.696,842.276 159.593,842.276 \n",
       "  \"/>\n",
       "<polyline clip-path=\"url(#clip370)\" style=\"stroke:#000000; stroke-linecap:butt; stroke-linejoin:round; stroke-width:4; stroke-opacity:1; fill:none\" points=\"\n",
       "  140.696,465.126 159.593,465.126 \n",
       "  \"/>\n",
       "<polyline clip-path=\"url(#clip370)\" style=\"stroke:#000000; stroke-linecap:butt; stroke-linejoin:round; stroke-width:4; stroke-opacity:1; fill:none\" points=\"\n",
       "  140.696,87.9763 159.593,87.9763 \n",
       "  \"/>\n",
       "<path clip-path=\"url(#clip370)\" d=\"M83.7929 1202.15 L102.149 1202.15 L102.149 1206.08 L88.0753 1206.08 L88.0753 1214.55 Q89.0938 1214.21 90.1123 1214.04 Q91.1308 1213.86 92.1493 1213.86 Q97.9363 1213.86 101.316 1217.03 Q104.696 1220.2 104.696 1225.62 Q104.696 1231.2 101.223 1234.3 Q97.7511 1237.38 91.4317 1237.38 Q89.2558 1237.38 86.9873 1237.01 Q84.7419 1236.64 82.3346 1235.9 L82.3346 1231.2 Q84.4179 1232.33 86.6401 1232.89 Q88.8623 1233.44 91.3391 1233.44 Q95.3437 1233.44 97.6817 1231.34 Q100.02 1229.23 100.02 1225.62 Q100.02 1222.01 97.6817 1219.9 Q95.3437 1217.79 91.3391 1217.79 Q89.4641 1217.79 87.5892 1218.21 Q85.7373 1218.63 83.7929 1219.51 L83.7929 1202.15 Z\" fill=\"#000000\" fill-rule=\"evenodd\" fill-opacity=\"1\" /><path clip-path=\"url(#clip370)\" d=\"M53.3995 855.621 L61.0384 855.621 L61.0384 829.255 L52.7282 830.922 L52.7282 826.663 L60.9921 824.996 L65.668 824.996 L65.668 855.621 L73.3068 855.621 L73.3068 859.556 L53.3995 859.556 L53.3995 855.621 Z\" fill=\"#000000\" fill-rule=\"evenodd\" fill-opacity=\"1\" /><path clip-path=\"url(#clip370)\" d=\"M92.7512 828.075 Q89.1401 828.075 87.3114 831.639 Q85.5058 835.181 85.5058 842.311 Q85.5058 849.417 87.3114 852.982 Q89.1401 856.524 92.7512 856.524 Q96.3854 856.524 98.1909 852.982 Q100.02 849.417 100.02 842.311 Q100.02 835.181 98.1909 831.639 Q96.3854 828.075 92.7512 828.075 M92.7512 824.371 Q98.5613 824.371 101.617 828.977 Q104.696 833.561 104.696 842.311 Q104.696 851.037 101.617 855.644 Q98.5613 860.227 92.7512 860.227 Q86.941 860.227 83.8623 855.644 Q80.8068 851.037 80.8068 842.311 Q80.8068 833.561 83.8623 828.977 Q86.941 824.371 92.7512 824.371 Z\" fill=\"#000000\" fill-rule=\"evenodd\" fill-opacity=\"1\" /><path clip-path=\"url(#clip370)\" d=\"M54.3949 478.471 L62.0337 478.471 L62.0337 452.105 L53.7236 453.772 L53.7236 449.513 L61.9874 447.846 L66.6633 447.846 L66.6633 478.471 L74.3022 478.471 L74.3022 482.406 L54.3949 482.406 L54.3949 478.471 Z\" fill=\"#000000\" fill-rule=\"evenodd\" fill-opacity=\"1\" /><path clip-path=\"url(#clip370)\" d=\"M83.7929 447.846 L102.149 447.846 L102.149 451.781 L88.0753 451.781 L88.0753 460.253 Q89.0938 459.906 90.1123 459.744 Q91.1308 459.559 92.1493 459.559 Q97.9363 459.559 101.316 462.73 Q104.696 465.902 104.696 471.318 Q104.696 476.897 101.223 479.999 Q97.7511 483.077 91.4317 483.077 Q89.2558 483.077 86.9873 482.707 Q84.7419 482.337 82.3346 481.596 L82.3346 476.897 Q84.4179 478.031 86.6401 478.587 Q88.8623 479.142 91.3391 479.142 Q95.3437 479.142 97.6817 477.036 Q100.02 474.929 100.02 471.318 Q100.02 467.707 97.6817 465.601 Q95.3437 463.494 91.3391 463.494 Q89.4641 463.494 87.5892 463.911 Q85.7373 464.328 83.7929 465.207 L83.7929 447.846 Z\" fill=\"#000000\" fill-rule=\"evenodd\" fill-opacity=\"1\" /><path clip-path=\"url(#clip370)\" d=\"M56.6171 101.321 L72.9365 101.321 L72.9365 105.256 L50.9921 105.256 L50.9921 101.321 Q53.6541 98.5665 58.2375 93.9369 Q62.8439 89.2841 64.0245 87.9416 Q66.2698 85.4184 67.1494 83.6823 Q68.0522 81.9231 68.0522 80.2333 Q68.0522 77.4786 66.1078 75.7425 Q64.1865 74.0064 61.0847 74.0064 Q58.8856 74.0064 56.4319 74.7703 Q54.0014 75.5342 51.2236 77.0851 L51.2236 72.3629 Q54.0477 71.2287 56.5014 70.65 Q58.955 70.0713 60.9921 70.0713 Q66.3624 70.0713 69.5568 72.7565 Q72.7513 75.4416 72.7513 79.9323 Q72.7513 82.062 71.9411 83.9832 Q71.1541 85.8814 69.0476 88.474 Q68.4689 89.1453 65.367 92.3628 Q62.2652 95.5573 56.6171 101.321 Z\" fill=\"#000000\" fill-rule=\"evenodd\" fill-opacity=\"1\" /><path clip-path=\"url(#clip370)\" d=\"M92.7512 73.775 Q89.1401 73.775 87.3114 77.3398 Q85.5058 80.8814 85.5058 88.011 Q85.5058 95.1174 87.3114 98.6822 Q89.1401 102.224 92.7512 102.224 Q96.3854 102.224 98.1909 98.6822 Q100.02 95.1174 100.02 88.011 Q100.02 80.8814 98.1909 77.3398 Q96.3854 73.775 92.7512 73.775 M92.7512 70.0713 Q98.5613 70.0713 101.617 74.6777 Q104.696 79.261 104.696 88.011 Q104.696 96.7378 101.617 101.344 Q98.5613 105.928 92.7512 105.928 Q86.941 105.928 83.8623 101.344 Q80.8068 96.7378 80.8068 88.011 Q80.8068 79.261 83.8623 74.6777 Q86.941 70.0713 92.7512 70.0713 Z\" fill=\"#000000\" fill-rule=\"evenodd\" fill-opacity=\"1\" /><circle clip-path=\"url(#clip372)\" cx=\"169.121\" cy=\"1445.72\" r=\"14\" fill=\"#ff0000\" fill-rule=\"evenodd\" fill-opacity=\"1\" stroke=\"#000000\" stroke-opacity=\"1\" stroke-width=\"3.2\"/>\n",
       "<circle clip-path=\"url(#clip372)\" cx=\"274.399\" cy=\"1294.86\" r=\"14\" fill=\"#ff0000\" fill-rule=\"evenodd\" fill-opacity=\"1\" stroke=\"#000000\" stroke-opacity=\"1\" stroke-width=\"3.2\"/>\n",
       "<circle clip-path=\"url(#clip372)\" cx=\"379.677\" cy=\"1144\" r=\"14\" fill=\"#ff0000\" fill-rule=\"evenodd\" fill-opacity=\"1\" stroke=\"#000000\" stroke-opacity=\"1\" stroke-width=\"3.2\"/>\n",
       "<circle clip-path=\"url(#clip372)\" cx=\"484.955\" cy=\"993.136\" r=\"14\" fill=\"#ff0000\" fill-rule=\"evenodd\" fill-opacity=\"1\" stroke=\"#000000\" stroke-opacity=\"1\" stroke-width=\"3.2\"/>\n",
       "<circle clip-path=\"url(#clip372)\" cx=\"590.233\" cy=\"842.276\" r=\"14\" fill=\"#ff0000\" fill-rule=\"evenodd\" fill-opacity=\"1\" stroke=\"#000000\" stroke-opacity=\"1\" stroke-width=\"3.2\"/>\n",
       "<circle clip-path=\"url(#clip372)\" cx=\"695.511\" cy=\"691.416\" r=\"14\" fill=\"#ff0000\" fill-rule=\"evenodd\" fill-opacity=\"1\" stroke=\"#000000\" stroke-opacity=\"1\" stroke-width=\"3.2\"/>\n",
       "<circle clip-path=\"url(#clip372)\" cx=\"800.789\" cy=\"540.556\" r=\"14\" fill=\"#ff0000\" fill-rule=\"evenodd\" fill-opacity=\"1\" stroke=\"#000000\" stroke-opacity=\"1\" stroke-width=\"3.2\"/>\n",
       "<circle clip-path=\"url(#clip372)\" cx=\"906.067\" cy=\"389.696\" r=\"14\" fill=\"#ff0000\" fill-rule=\"evenodd\" fill-opacity=\"1\" stroke=\"#000000\" stroke-opacity=\"1\" stroke-width=\"3.2\"/>\n",
       "<circle clip-path=\"url(#clip372)\" cx=\"1011.34\" cy=\"238.836\" r=\"14\" fill=\"#ff0000\" fill-rule=\"evenodd\" fill-opacity=\"1\" stroke=\"#000000\" stroke-opacity=\"1\" stroke-width=\"3.2\"/>\n",
       "<circle clip-path=\"url(#clip372)\" cx=\"1116.62\" cy=\"87.9763\" r=\"14\" fill=\"#ff0000\" fill-rule=\"evenodd\" fill-opacity=\"1\" stroke=\"#000000\" stroke-opacity=\"1\" stroke-width=\"3.2\"/>\n",
       "<path clip-path=\"url(#clip370)\" d=\"\n",
       "M947.544 198.898 L1111.57 198.898 L1111.57 95.2176 L947.544 95.2176  Z\n",
       "  \" fill=\"#ffffff\" fill-rule=\"evenodd\" fill-opacity=\"1\"/>\n",
       "<polyline clip-path=\"url(#clip370)\" style=\"stroke:#000000; stroke-linecap:butt; stroke-linejoin:round; stroke-width:4; stroke-opacity:1; fill:none\" points=\"\n",
       "  947.544,198.898 1111.57,198.898 1111.57,95.2176 947.544,95.2176 947.544,198.898 \n",
       "  \"/>\n",
       "<circle clip-path=\"url(#clip370)\" cx=\"992.182\" cy=\"147.058\" r=\"23\" fill=\"#ff0000\" fill-rule=\"evenodd\" fill-opacity=\"1\" stroke=\"#000000\" stroke-opacity=\"1\" stroke-width=\"5.12\"/>\n",
       "<path clip-path=\"url(#clip370)\" d=\"M1050.66 166.745 Q1048.86 171.375 1047.14 172.787 Q1045.43 174.199 1042.56 174.199 L1039.16 174.199 L1039.16 170.634 L1041.66 170.634 Q1043.42 170.634 1044.39 169.8 Q1045.36 168.967 1046.54 165.865 L1047.31 163.921 L1036.82 138.412 L1041.33 138.412 L1049.44 158.689 L1057.54 138.412 L1062.05 138.412 L1050.66 166.745 Z\" fill=\"#000000\" fill-rule=\"evenodd\" fill-opacity=\"1\" /><path clip-path=\"url(#clip370)\" d=\"M1069.34 160.402 L1076.98 160.402 L1076.98 134.037 L1068.67 135.703 L1068.67 131.444 L1076.94 129.778 L1081.61 129.778 L1081.61 160.402 L1089.25 160.402 L1089.25 164.338 L1069.34 164.338 L1069.34 160.402 Z\" fill=\"#000000\" fill-rule=\"evenodd\" fill-opacity=\"1\" /><path clip-path=\"url(#clip370)\" d=\"\n",
       "M1348.4 1486.45 L2352.76 1486.45 L2352.76 47.2441 L1348.4 47.2441  Z\n",
       "  \" fill=\"#ffffff\" fill-rule=\"evenodd\" fill-opacity=\"1\"/>\n",
       "<defs>\n",
       "  <clipPath id=\"clip373\">\n",
       "    <rect x=\"1348\" y=\"47\" width=\"1005\" height=\"1440\"/>\n",
       "  </clipPath>\n",
       "</defs>\n",
       "<polyline clip-path=\"url(#clip373)\" style=\"stroke:#000000; stroke-linecap:butt; stroke-linejoin:round; stroke-width:2; stroke-opacity:0.1; fill:none\" points=\"\n",
       "  1482.11,1486.45 1482.11,47.2441 \n",
       "  \"/>\n",
       "<polyline clip-path=\"url(#clip373)\" style=\"stroke:#000000; stroke-linecap:butt; stroke-linejoin:round; stroke-width:2; stroke-opacity:0.1; fill:none\" points=\"\n",
       "  1692.66,1486.45 1692.66,47.2441 \n",
       "  \"/>\n",
       "<polyline clip-path=\"url(#clip373)\" style=\"stroke:#000000; stroke-linecap:butt; stroke-linejoin:round; stroke-width:2; stroke-opacity:0.1; fill:none\" points=\"\n",
       "  1903.22,1486.45 1903.22,47.2441 \n",
       "  \"/>\n",
       "<polyline clip-path=\"url(#clip373)\" style=\"stroke:#000000; stroke-linecap:butt; stroke-linejoin:round; stroke-width:2; stroke-opacity:0.1; fill:none\" points=\"\n",
       "  2113.77,1486.45 2113.77,47.2441 \n",
       "  \"/>\n",
       "<polyline clip-path=\"url(#clip373)\" style=\"stroke:#000000; stroke-linecap:butt; stroke-linejoin:round; stroke-width:2; stroke-opacity:0.1; fill:none\" points=\"\n",
       "  2324.33,1486.45 2324.33,47.2441 \n",
       "  \"/>\n",
       "<polyline clip-path=\"url(#clip370)\" style=\"stroke:#000000; stroke-linecap:butt; stroke-linejoin:round; stroke-width:4; stroke-opacity:1; fill:none\" points=\"\n",
       "  1348.4,1486.45 2352.76,1486.45 \n",
       "  \"/>\n",
       "<polyline clip-path=\"url(#clip370)\" style=\"stroke:#000000; stroke-linecap:butt; stroke-linejoin:round; stroke-width:4; stroke-opacity:1; fill:none\" points=\"\n",
       "  1482.11,1486.45 1482.11,1467.55 \n",
       "  \"/>\n",
       "<polyline clip-path=\"url(#clip370)\" style=\"stroke:#000000; stroke-linecap:butt; stroke-linejoin:round; stroke-width:4; stroke-opacity:1; fill:none\" points=\"\n",
       "  1692.66,1486.45 1692.66,1467.55 \n",
       "  \"/>\n",
       "<polyline clip-path=\"url(#clip370)\" style=\"stroke:#000000; stroke-linecap:butt; stroke-linejoin:round; stroke-width:4; stroke-opacity:1; fill:none\" points=\"\n",
       "  1903.22,1486.45 1903.22,1467.55 \n",
       "  \"/>\n",
       "<polyline clip-path=\"url(#clip370)\" style=\"stroke:#000000; stroke-linecap:butt; stroke-linejoin:round; stroke-width:4; stroke-opacity:1; fill:none\" points=\"\n",
       "  2113.77,1486.45 2113.77,1467.55 \n",
       "  \"/>\n",
       "<polyline clip-path=\"url(#clip370)\" style=\"stroke:#000000; stroke-linecap:butt; stroke-linejoin:round; stroke-width:4; stroke-opacity:1; fill:none\" points=\"\n",
       "  2324.33,1486.45 2324.33,1467.55 \n",
       "  \"/>\n",
       "<path clip-path=\"url(#clip370)\" d=\"M1476.76 1544.91 L1493.08 1544.91 L1493.08 1548.85 L1471.13 1548.85 L1471.13 1544.91 Q1473.8 1542.16 1478.38 1537.53 Q1482.99 1532.88 1484.17 1531.53 Q1486.41 1529.01 1487.29 1527.27 Q1488.19 1525.51 1488.19 1523.82 Q1488.19 1521.07 1486.25 1519.33 Q1484.33 1517.6 1481.23 1517.6 Q1479.03 1517.6 1476.57 1518.36 Q1474.14 1519.13 1471.37 1520.68 L1471.37 1515.95 Q1474.19 1514.82 1476.64 1514.24 Q1479.1 1513.66 1481.13 1513.66 Q1486.51 1513.66 1489.7 1516.35 Q1492.89 1519.03 1492.89 1523.52 Q1492.89 1525.65 1492.08 1527.57 Q1491.3 1529.47 1489.19 1532.07 Q1488.61 1532.74 1485.51 1535.95 Q1482.41 1539.15 1476.76 1544.91 Z\" fill=\"#000000\" fill-rule=\"evenodd\" fill-opacity=\"1\" /><path clip-path=\"url(#clip370)\" d=\"M1695.67 1518.36 L1683.87 1536.81 L1695.67 1536.81 L1695.67 1518.36 M1694.45 1514.29 L1700.32 1514.29 L1700.32 1536.81 L1705.26 1536.81 L1705.26 1540.7 L1700.32 1540.7 L1700.32 1548.85 L1695.67 1548.85 L1695.67 1540.7 L1680.07 1540.7 L1680.07 1536.19 L1694.45 1514.29 Z\" fill=\"#000000\" fill-rule=\"evenodd\" fill-opacity=\"1\" /><path clip-path=\"url(#clip370)\" d=\"M1903.62 1529.7 Q1900.48 1529.7 1898.62 1531.86 Q1896.8 1534.01 1896.8 1537.76 Q1896.8 1541.49 1898.62 1543.66 Q1900.48 1545.82 1903.62 1545.82 Q1906.77 1545.82 1908.6 1543.66 Q1910.45 1541.49 1910.45 1537.76 Q1910.45 1534.01 1908.6 1531.86 Q1906.77 1529.7 1903.62 1529.7 M1912.91 1515.05 L1912.91 1519.31 Q1911.15 1518.48 1909.34 1518.04 Q1907.56 1517.6 1905.8 1517.6 Q1901.17 1517.6 1898.72 1520.72 Q1896.29 1523.85 1895.94 1530.17 Q1897.3 1528.15 1899.36 1527.09 Q1901.42 1526 1903.9 1526 Q1909.11 1526 1912.12 1529.17 Q1915.15 1532.32 1915.15 1537.76 Q1915.15 1543.08 1912 1546.3 Q1908.86 1549.52 1903.62 1549.52 Q1897.63 1549.52 1894.46 1544.94 Q1891.29 1540.33 1891.29 1531.6 Q1891.29 1523.41 1895.17 1518.55 Q1899.06 1513.66 1905.61 1513.66 Q1907.37 1513.66 1909.16 1514.01 Q1910.96 1514.36 1912.91 1515.05 Z\" fill=\"#000000\" fill-rule=\"evenodd\" fill-opacity=\"1\" /><path clip-path=\"url(#clip370)\" d=\"M2113.77 1532.44 Q2110.44 1532.44 2108.52 1534.22 Q2106.62 1536 2106.62 1539.13 Q2106.62 1542.25 2108.52 1544.03 Q2110.44 1545.82 2113.77 1545.82 Q2117.11 1545.82 2119.03 1544.03 Q2120.95 1542.23 2120.95 1539.13 Q2120.95 1536 2119.03 1534.22 Q2117.13 1532.44 2113.77 1532.44 M2109.1 1530.45 Q2106.09 1529.7 2104.4 1527.64 Q2102.73 1525.58 2102.73 1522.62 Q2102.73 1518.48 2105.67 1516.07 Q2108.64 1513.66 2113.77 1513.66 Q2118.94 1513.66 2121.88 1516.07 Q2124.82 1518.48 2124.82 1522.62 Q2124.82 1525.58 2123.13 1527.64 Q2121.46 1529.7 2118.47 1530.45 Q2121.85 1531.23 2123.73 1533.52 Q2125.63 1535.82 2125.63 1539.13 Q2125.63 1544.15 2122.55 1546.83 Q2119.49 1549.52 2113.77 1549.52 Q2108.06 1549.52 2104.98 1546.83 Q2101.92 1544.15 2101.92 1539.13 Q2101.92 1535.82 2103.82 1533.52 Q2105.72 1531.23 2109.1 1530.45 M2107.39 1523.06 Q2107.39 1525.75 2109.05 1527.25 Q2110.74 1528.76 2113.77 1528.76 Q2116.78 1528.76 2118.47 1527.25 Q2120.19 1525.75 2120.19 1523.06 Q2120.19 1520.38 2118.47 1518.87 Q2116.78 1517.37 2113.77 1517.37 Q2110.74 1517.37 2109.05 1518.87 Q2107.39 1520.38 2107.39 1523.06 Z\" fill=\"#000000\" fill-rule=\"evenodd\" fill-opacity=\"1\" /><path clip-path=\"url(#clip370)\" d=\"M2299.02 1544.91 L2306.66 1544.91 L2306.66 1518.55 L2298.35 1520.21 L2298.35 1515.95 L2306.61 1514.29 L2311.29 1514.29 L2311.29 1544.91 L2318.93 1544.91 L2318.93 1548.85 L2299.02 1548.85 L2299.02 1544.91 Z\" fill=\"#000000\" fill-rule=\"evenodd\" fill-opacity=\"1\" /><path clip-path=\"url(#clip370)\" d=\"M2338.37 1517.37 Q2334.76 1517.37 2332.93 1520.93 Q2331.12 1524.47 2331.12 1531.6 Q2331.12 1538.71 2332.93 1542.27 Q2334.76 1545.82 2338.37 1545.82 Q2342 1545.82 2343.81 1542.27 Q2345.64 1538.71 2345.64 1531.6 Q2345.64 1524.47 2343.81 1520.93 Q2342 1517.37 2338.37 1517.37 M2338.37 1513.66 Q2344.18 1513.66 2347.24 1518.27 Q2350.31 1522.85 2350.31 1531.6 Q2350.31 1540.33 2347.24 1544.94 Q2344.18 1549.52 2338.37 1549.52 Q2332.56 1549.52 2329.48 1544.94 Q2326.43 1540.33 2326.43 1531.6 Q2326.43 1522.85 2329.48 1518.27 Q2332.56 1513.66 2338.37 1513.66 Z\" fill=\"#000000\" fill-rule=\"evenodd\" fill-opacity=\"1\" /><polyline clip-path=\"url(#clip373)\" style=\"stroke:#000000; stroke-linecap:butt; stroke-linejoin:round; stroke-width:2; stroke-opacity:0.1; fill:none\" points=\"\n",
       "  1348.4,1445.72 2352.76,1445.72 \n",
       "  \"/>\n",
       "<polyline clip-path=\"url(#clip373)\" style=\"stroke:#000000; stroke-linecap:butt; stroke-linejoin:round; stroke-width:2; stroke-opacity:0.1; fill:none\" points=\"\n",
       "  1348.4,1150.89 2352.76,1150.89 \n",
       "  \"/>\n",
       "<polyline clip-path=\"url(#clip373)\" style=\"stroke:#000000; stroke-linecap:butt; stroke-linejoin:round; stroke-width:2; stroke-opacity:0.1; fill:none\" points=\"\n",
       "  1348.4,856.057 2352.76,856.057 \n",
       "  \"/>\n",
       "<polyline clip-path=\"url(#clip373)\" style=\"stroke:#000000; stroke-linecap:butt; stroke-linejoin:round; stroke-width:2; stroke-opacity:0.1; fill:none\" points=\"\n",
       "  1348.4,561.228 2352.76,561.228 \n",
       "  \"/>\n",
       "<polyline clip-path=\"url(#clip373)\" style=\"stroke:#000000; stroke-linecap:butt; stroke-linejoin:round; stroke-width:2; stroke-opacity:0.1; fill:none\" points=\"\n",
       "  1348.4,266.398 2352.76,266.398 \n",
       "  \"/>\n",
       "<polyline clip-path=\"url(#clip370)\" style=\"stroke:#000000; stroke-linecap:butt; stroke-linejoin:round; stroke-width:4; stroke-opacity:1; fill:none\" points=\"\n",
       "  1348.4,1486.45 1348.4,47.2441 \n",
       "  \"/>\n",
       "<polyline clip-path=\"url(#clip370)\" style=\"stroke:#000000; stroke-linecap:butt; stroke-linejoin:round; stroke-width:4; stroke-opacity:1; fill:none\" points=\"\n",
       "  1348.4,1445.72 1367.3,1445.72 \n",
       "  \"/>\n",
       "<polyline clip-path=\"url(#clip370)\" style=\"stroke:#000000; stroke-linecap:butt; stroke-linejoin:round; stroke-width:4; stroke-opacity:1; fill:none\" points=\"\n",
       "  1348.4,1150.89 1367.3,1150.89 \n",
       "  \"/>\n",
       "<polyline clip-path=\"url(#clip370)\" style=\"stroke:#000000; stroke-linecap:butt; stroke-linejoin:round; stroke-width:4; stroke-opacity:1; fill:none\" points=\"\n",
       "  1348.4,856.057 1367.3,856.057 \n",
       "  \"/>\n",
       "<polyline clip-path=\"url(#clip370)\" style=\"stroke:#000000; stroke-linecap:butt; stroke-linejoin:round; stroke-width:4; stroke-opacity:1; fill:none\" points=\"\n",
       "  1348.4,561.228 1367.3,561.228 \n",
       "  \"/>\n",
       "<polyline clip-path=\"url(#clip370)\" style=\"stroke:#000000; stroke-linecap:butt; stroke-linejoin:round; stroke-width:4; stroke-opacity:1; fill:none\" points=\"\n",
       "  1348.4,266.398 1367.3,266.398 \n",
       "  \"/>\n",
       "<path clip-path=\"url(#clip370)\" d=\"M1255.23 1431.51 Q1251.62 1431.51 1249.79 1435.08 Q1247.98 1438.62 1247.98 1445.75 Q1247.98 1452.86 1249.79 1456.42 Q1251.62 1459.96 1255.23 1459.96 Q1258.86 1459.96 1260.67 1456.42 Q1262.5 1452.86 1262.5 1445.75 Q1262.5 1438.62 1260.67 1435.08 Q1258.86 1431.51 1255.23 1431.51 M1255.23 1427.81 Q1261.04 1427.81 1264.09 1432.42 Q1267.17 1437 1267.17 1445.75 Q1267.17 1454.48 1264.09 1459.08 Q1261.04 1463.67 1255.23 1463.67 Q1249.42 1463.67 1246.34 1459.08 Q1243.28 1454.48 1243.28 1445.75 Q1243.28 1437 1246.34 1432.42 Q1249.42 1427.81 1255.23 1427.81 Z\" fill=\"#000000\" fill-rule=\"evenodd\" fill-opacity=\"1\" /><path clip-path=\"url(#clip370)\" d=\"M1275.39 1457.12 L1280.27 1457.12 L1280.27 1463 L1275.39 1463 L1275.39 1457.12 Z\" fill=\"#000000\" fill-rule=\"evenodd\" fill-opacity=\"1\" /><path clip-path=\"url(#clip370)\" d=\"M1300.46 1431.51 Q1296.85 1431.51 1295.02 1435.08 Q1293.21 1438.62 1293.21 1445.75 Q1293.21 1452.86 1295.02 1456.42 Q1296.85 1459.96 1300.46 1459.96 Q1304.09 1459.96 1305.9 1456.42 Q1307.73 1452.86 1307.73 1445.75 Q1307.73 1438.62 1305.9 1435.08 Q1304.09 1431.51 1300.46 1431.51 M1300.46 1427.81 Q1306.27 1427.81 1309.33 1432.42 Q1312.4 1437 1312.4 1445.75 Q1312.4 1454.48 1309.33 1459.08 Q1306.27 1463.67 1300.46 1463.67 Q1294.65 1463.67 1291.57 1459.08 Q1288.52 1454.48 1288.52 1445.75 Q1288.52 1437 1291.57 1432.42 Q1294.65 1427.81 1300.46 1427.81 Z\" fill=\"#000000\" fill-rule=\"evenodd\" fill-opacity=\"1\" /><path clip-path=\"url(#clip370)\" d=\"M1256.22 1136.69 Q1252.61 1136.69 1250.78 1140.25 Q1248.98 1143.79 1248.98 1150.92 Q1248.98 1158.03 1250.78 1161.59 Q1252.61 1165.13 1256.22 1165.13 Q1259.86 1165.13 1261.66 1161.59 Q1263.49 1158.03 1263.49 1150.92 Q1263.49 1143.79 1261.66 1140.25 Q1259.86 1136.69 1256.22 1136.69 M1256.22 1132.98 Q1262.03 1132.98 1265.09 1137.59 Q1268.17 1142.17 1268.17 1150.92 Q1268.17 1159.65 1265.09 1164.25 Q1262.03 1168.84 1256.22 1168.84 Q1250.41 1168.84 1247.33 1164.25 Q1244.28 1159.65 1244.28 1150.92 Q1244.28 1142.17 1247.33 1137.59 Q1250.41 1132.98 1256.22 1132.98 Z\" fill=\"#000000\" fill-rule=\"evenodd\" fill-opacity=\"1\" /><path clip-path=\"url(#clip370)\" d=\"M1276.39 1162.29 L1281.27 1162.29 L1281.27 1168.17 L1276.39 1168.17 L1276.39 1162.29 Z\" fill=\"#000000\" fill-rule=\"evenodd\" fill-opacity=\"1\" /><path clip-path=\"url(#clip370)\" d=\"M1291.5 1133.61 L1309.86 1133.61 L1309.86 1137.54 L1295.78 1137.54 L1295.78 1146.01 Q1296.8 1145.67 1297.82 1145.5 Q1298.84 1145.32 1299.86 1145.32 Q1305.64 1145.32 1309.02 1148.49 Q1312.4 1151.66 1312.4 1157.08 Q1312.4 1162.66 1308.93 1165.76 Q1305.46 1168.84 1299.14 1168.84 Q1296.96 1168.84 1294.7 1168.47 Q1292.45 1168.1 1290.04 1167.36 L1290.04 1162.66 Q1292.13 1163.79 1294.35 1164.35 Q1296.57 1164.9 1299.05 1164.9 Q1303.05 1164.9 1305.39 1162.8 Q1307.73 1160.69 1307.73 1157.08 Q1307.73 1153.47 1305.39 1151.36 Q1303.05 1149.25 1299.05 1149.25 Q1297.17 1149.25 1295.3 1149.67 Q1293.45 1150.09 1291.5 1150.97 L1291.5 1133.61 Z\" fill=\"#000000\" fill-rule=\"evenodd\" fill-opacity=\"1\" /><path clip-path=\"url(#clip370)\" d=\"M1246.04 869.402 L1253.68 869.402 L1253.68 843.036 L1245.37 844.703 L1245.37 840.444 L1253.63 838.777 L1258.31 838.777 L1258.31 869.402 L1265.95 869.402 L1265.95 873.337 L1246.04 873.337 L1246.04 869.402 Z\" fill=\"#000000\" fill-rule=\"evenodd\" fill-opacity=\"1\" /><path clip-path=\"url(#clip370)\" d=\"M1275.39 867.457 L1280.27 867.457 L1280.27 873.337 L1275.39 873.337 L1275.39 867.457 Z\" fill=\"#000000\" fill-rule=\"evenodd\" fill-opacity=\"1\" /><path clip-path=\"url(#clip370)\" d=\"M1300.46 841.856 Q1296.85 841.856 1295.02 845.42 Q1293.21 848.962 1293.21 856.092 Q1293.21 863.198 1295.02 866.763 Q1296.85 870.305 1300.46 870.305 Q1304.09 870.305 1305.9 866.763 Q1307.73 863.198 1307.73 856.092 Q1307.73 848.962 1305.9 845.42 Q1304.09 841.856 1300.46 841.856 M1300.46 838.152 Q1306.27 838.152 1309.33 842.758 Q1312.4 847.342 1312.4 856.092 Q1312.4 864.818 1309.33 869.425 Q1306.27 874.008 1300.46 874.008 Q1294.65 874.008 1291.57 869.425 Q1288.52 864.818 1288.52 856.092 Q1288.52 847.342 1291.57 842.758 Q1294.65 838.152 1300.46 838.152 Z\" fill=\"#000000\" fill-rule=\"evenodd\" fill-opacity=\"1\" /><path clip-path=\"url(#clip370)\" d=\"M1247.03 574.572 L1254.67 574.572 L1254.67 548.207 L1246.36 549.873 L1246.36 545.614 L1254.63 543.948 L1259.3 543.948 L1259.3 574.572 L1266.94 574.572 L1266.94 578.508 L1247.03 578.508 L1247.03 574.572 Z\" fill=\"#000000\" fill-rule=\"evenodd\" fill-opacity=\"1\" /><path clip-path=\"url(#clip370)\" d=\"M1276.39 572.628 L1281.27 572.628 L1281.27 578.508 L1276.39 578.508 L1276.39 572.628 Z\" fill=\"#000000\" fill-rule=\"evenodd\" fill-opacity=\"1\" /><path clip-path=\"url(#clip370)\" d=\"M1291.5 543.948 L1309.86 543.948 L1309.86 547.883 L1295.78 547.883 L1295.78 556.355 Q1296.8 556.008 1297.82 555.846 Q1298.84 555.66 1299.86 555.66 Q1305.64 555.66 1309.02 558.832 Q1312.4 562.003 1312.4 567.42 Q1312.4 572.998 1308.93 576.1 Q1305.46 579.179 1299.14 579.179 Q1296.96 579.179 1294.7 578.809 Q1292.45 578.438 1290.04 577.697 L1290.04 572.998 Q1292.13 574.133 1294.35 574.688 Q1296.57 575.244 1299.05 575.244 Q1303.05 575.244 1305.39 573.137 Q1307.73 571.031 1307.73 567.42 Q1307.73 563.809 1305.39 561.702 Q1303.05 559.596 1299.05 559.596 Q1297.17 559.596 1295.3 560.012 Q1293.45 560.429 1291.5 561.309 L1291.5 543.948 Z\" fill=\"#000000\" fill-rule=\"evenodd\" fill-opacity=\"1\" /><path clip-path=\"url(#clip370)\" d=\"M1249.26 279.743 L1265.58 279.743 L1265.58 283.678 L1243.63 283.678 L1243.63 279.743 Q1246.29 276.988 1250.88 272.359 Q1255.48 267.706 1256.66 266.363 Q1258.91 263.84 1259.79 262.104 Q1260.69 260.345 1260.69 258.655 Q1260.69 255.901 1258.75 254.164 Q1256.83 252.428 1253.72 252.428 Q1251.52 252.428 1249.07 253.192 Q1246.64 253.956 1243.86 255.507 L1243.86 250.785 Q1246.69 249.651 1249.14 249.072 Q1251.59 248.493 1253.63 248.493 Q1259 248.493 1262.2 251.178 Q1265.39 253.864 1265.39 258.354 Q1265.39 260.484 1264.58 262.405 Q1263.79 264.303 1261.69 266.896 Q1261.11 267.567 1258.01 270.785 Q1254.9 273.979 1249.26 279.743 Z\" fill=\"#000000\" fill-rule=\"evenodd\" fill-opacity=\"1\" /><path clip-path=\"url(#clip370)\" d=\"M1275.39 277.799 L1280.27 277.799 L1280.27 283.678 L1275.39 283.678 L1275.39 277.799 Z\" fill=\"#000000\" fill-rule=\"evenodd\" fill-opacity=\"1\" /><path clip-path=\"url(#clip370)\" d=\"M1300.46 252.197 Q1296.85 252.197 1295.02 255.762 Q1293.21 259.303 1293.21 266.433 Q1293.21 273.539 1295.02 277.104 Q1296.85 280.646 1300.46 280.646 Q1304.09 280.646 1305.9 277.104 Q1307.73 273.539 1307.73 266.433 Q1307.73 259.303 1305.9 255.762 Q1304.09 252.197 1300.46 252.197 M1300.46 248.493 Q1306.27 248.493 1309.33 253.1 Q1312.4 257.683 1312.4 266.433 Q1312.4 275.16 1309.33 279.766 Q1306.27 284.35 1300.46 284.35 Q1294.65 284.35 1291.57 279.766 Q1288.52 275.16 1288.52 266.433 Q1288.52 257.683 1291.57 253.1 Q1294.65 248.493 1300.46 248.493 Z\" fill=\"#000000\" fill-rule=\"evenodd\" fill-opacity=\"1\" /><circle clip-path=\"url(#clip373)\" cx=\"1376.83\" cy=\"1445.72\" r=\"14\" fill=\"#0000ff\" fill-rule=\"evenodd\" fill-opacity=\"1\" stroke=\"#000000\" stroke-opacity=\"1\" stroke-width=\"3.2\"/>\n",
       "<circle clip-path=\"url(#clip373)\" cx=\"1482.11\" cy=\"1037\" r=\"14\" fill=\"#0000ff\" fill-rule=\"evenodd\" fill-opacity=\"1\" stroke=\"#000000\" stroke-opacity=\"1\" stroke-width=\"3.2\"/>\n",
       "<circle clip-path=\"url(#clip373)\" cx=\"1587.38\" cy=\"797.909\" r=\"14\" fill=\"#0000ff\" fill-rule=\"evenodd\" fill-opacity=\"1\" stroke=\"#000000\" stroke-opacity=\"1\" stroke-width=\"3.2\"/>\n",
       "<circle clip-path=\"url(#clip373)\" cx=\"1692.66\" cy=\"628.275\" r=\"14\" fill=\"#0000ff\" fill-rule=\"evenodd\" fill-opacity=\"1\" stroke=\"#000000\" stroke-opacity=\"1\" stroke-width=\"3.2\"/>\n",
       "<circle clip-path=\"url(#clip373)\" cx=\"1797.94\" cy=\"496.697\" r=\"14\" fill=\"#0000ff\" fill-rule=\"evenodd\" fill-opacity=\"1\" stroke=\"#000000\" stroke-opacity=\"1\" stroke-width=\"3.2\"/>\n",
       "<circle clip-path=\"url(#clip373)\" cx=\"1903.22\" cy=\"389.189\" r=\"14\" fill=\"#0000ff\" fill-rule=\"evenodd\" fill-opacity=\"1\" stroke=\"#000000\" stroke-opacity=\"1\" stroke-width=\"3.2\"/>\n",
       "<circle clip-path=\"url(#clip373)\" cx=\"2008.5\" cy=\"298.293\" r=\"14\" fill=\"#0000ff\" fill-rule=\"evenodd\" fill-opacity=\"1\" stroke=\"#000000\" stroke-opacity=\"1\" stroke-width=\"3.2\"/>\n",
       "<circle clip-path=\"url(#clip373)\" cx=\"2113.77\" cy=\"219.555\" r=\"14\" fill=\"#0000ff\" fill-rule=\"evenodd\" fill-opacity=\"1\" stroke=\"#000000\" stroke-opacity=\"1\" stroke-width=\"3.2\"/>\n",
       "<circle clip-path=\"url(#clip373)\" cx=\"2219.05\" cy=\"150.103\" r=\"14\" fill=\"#0000ff\" fill-rule=\"evenodd\" fill-opacity=\"1\" stroke=\"#000000\" stroke-opacity=\"1\" stroke-width=\"3.2\"/>\n",
       "<circle clip-path=\"url(#clip373)\" cx=\"2324.33\" cy=\"87.9763\" r=\"14\" fill=\"#0000ff\" fill-rule=\"evenodd\" fill-opacity=\"1\" stroke=\"#000000\" stroke-opacity=\"1\" stroke-width=\"3.2\"/>\n",
       "<path clip-path=\"url(#clip370)\" d=\"\n",
       "M2155.62 198.898 L2319.28 198.898 L2319.28 95.2176 L2155.62 95.2176  Z\n",
       "  \" fill=\"#ffffff\" fill-rule=\"evenodd\" fill-opacity=\"1\"/>\n",
       "<polyline clip-path=\"url(#clip370)\" style=\"stroke:#000000; stroke-linecap:butt; stroke-linejoin:round; stroke-width:4; stroke-opacity:1; fill:none\" points=\"\n",
       "  2155.62,198.898 2319.28,198.898 2319.28,95.2176 2155.62,95.2176 2155.62,198.898 \n",
       "  \"/>\n",
       "<circle clip-path=\"url(#clip370)\" cx=\"2200.26\" cy=\"147.058\" r=\"23\" fill=\"#0000ff\" fill-rule=\"evenodd\" fill-opacity=\"1\" stroke=\"#000000\" stroke-opacity=\"1\" stroke-width=\"5.12\"/>\n",
       "<path clip-path=\"url(#clip370)\" d=\"M2258.74 166.745 Q2256.94 171.375 2255.22 172.787 Q2253.51 174.199 2250.64 174.199 L2247.24 174.199 L2247.24 170.634 L2249.74 170.634 Q2251.5 170.634 2252.47 169.8 Q2253.44 168.967 2254.62 165.865 L2255.38 163.921 L2244.9 138.412 L2249.41 138.412 L2257.51 158.689 L2265.62 138.412 L2270.13 138.412 L2258.74 166.745 Z\" fill=\"#000000\" fill-rule=\"evenodd\" fill-opacity=\"1\" /><path clip-path=\"url(#clip370)\" d=\"M2280.64 160.402 L2296.96 160.402 L2296.96 164.338 L2275.01 164.338 L2275.01 160.402 Q2277.68 157.648 2282.26 153.018 Q2286.87 148.365 2288.05 147.023 Q2290.29 144.5 2291.17 142.764 Q2292.07 141.004 2292.07 139.315 Q2292.07 136.56 2290.13 134.824 Q2288.21 133.088 2285.11 133.088 Q2282.91 133.088 2280.45 133.852 Q2278.02 134.615 2275.25 136.166 L2275.25 131.444 Q2278.07 130.31 2280.52 129.731 Q2282.98 129.153 2285.01 129.153 Q2290.38 129.153 2293.58 131.838 Q2296.77 134.523 2296.77 139.014 Q2296.77 141.143 2295.96 143.065 Q2295.18 144.963 2293.07 147.555 Q2292.49 148.227 2289.39 151.444 Q2286.29 154.639 2280.64 160.402 Z\" fill=\"#000000\" fill-rule=\"evenodd\" fill-opacity=\"1\" /></svg>\n"
      ]
     },
     "execution_count": 46,
     "metadata": {},
     "output_type": "execute_result"
    }
   ],
   "source": [
    "# użycie opcji layout\n",
    "scatter(df.a, [df.b, df.c],  colour = [:red :blue ], layout=2)"
   ]
  },
  {
   "cell_type": "code",
   "execution_count": 47,
   "metadata": {},
   "outputs": [
    {
     "data": {
      "image/svg+xml": [
       "<?xml version=\"1.0\" encoding=\"utf-8\"?>\n",
       "<svg xmlns=\"http://www.w3.org/2000/svg\" xmlns:xlink=\"http://www.w3.org/1999/xlink\" width=\"600\" height=\"400\" viewBox=\"0 0 2400 1600\">\n",
       "<defs>\n",
       "  <clipPath id=\"clip410\">\n",
       "    <rect x=\"0\" y=\"0\" width=\"2400\" height=\"1600\"/>\n",
       "  </clipPath>\n",
       "</defs>\n",
       "<path clip-path=\"url(#clip410)\" d=\"\n",
       "M0 1600 L2400 1600 L2400 0 L0 0  Z\n",
       "  \" fill=\"#ffffff\" fill-rule=\"evenodd\" fill-opacity=\"1\"/>\n",
       "<defs>\n",
       "  <clipPath id=\"clip411\">\n",
       "    <rect x=\"480\" y=\"0\" width=\"1681\" height=\"1600\"/>\n",
       "  </clipPath>\n",
       "</defs>\n",
       "<path clip-path=\"url(#clip410)\" d=\"\n",
       "M140.696 1486.45 L1145.05 1486.45 L1145.05 47.2441 L140.696 47.2441  Z\n",
       "  \" fill=\"#ffffff\" fill-rule=\"evenodd\" fill-opacity=\"1\"/>\n",
       "<defs>\n",
       "  <clipPath id=\"clip412\">\n",
       "    <rect x=\"140\" y=\"47\" width=\"1005\" height=\"1440\"/>\n",
       "  </clipPath>\n",
       "</defs>\n",
       "<polyline clip-path=\"url(#clip412)\" style=\"stroke:#000000; stroke-linecap:butt; stroke-linejoin:round; stroke-width:2; stroke-opacity:0.1; fill:none\" points=\"\n",
       "  274.399,1486.45 274.399,47.2441 \n",
       "  \"/>\n",
       "<polyline clip-path=\"url(#clip412)\" style=\"stroke:#000000; stroke-linecap:butt; stroke-linejoin:round; stroke-width:2; stroke-opacity:0.1; fill:none\" points=\"\n",
       "  484.955,1486.45 484.955,47.2441 \n",
       "  \"/>\n",
       "<polyline clip-path=\"url(#clip412)\" style=\"stroke:#000000; stroke-linecap:butt; stroke-linejoin:round; stroke-width:2; stroke-opacity:0.1; fill:none\" points=\"\n",
       "  695.511,1486.45 695.511,47.2441 \n",
       "  \"/>\n",
       "<polyline clip-path=\"url(#clip412)\" style=\"stroke:#000000; stroke-linecap:butt; stroke-linejoin:round; stroke-width:2; stroke-opacity:0.1; fill:none\" points=\"\n",
       "  906.067,1486.45 906.067,47.2441 \n",
       "  \"/>\n",
       "<polyline clip-path=\"url(#clip412)\" style=\"stroke:#000000; stroke-linecap:butt; stroke-linejoin:round; stroke-width:2; stroke-opacity:0.1; fill:none\" points=\"\n",
       "  1116.62,1486.45 1116.62,47.2441 \n",
       "  \"/>\n",
       "<polyline clip-path=\"url(#clip410)\" style=\"stroke:#000000; stroke-linecap:butt; stroke-linejoin:round; stroke-width:4; stroke-opacity:1; fill:none\" points=\"\n",
       "  140.696,1486.45 1145.05,1486.45 \n",
       "  \"/>\n",
       "<polyline clip-path=\"url(#clip410)\" style=\"stroke:#000000; stroke-linecap:butt; stroke-linejoin:round; stroke-width:4; stroke-opacity:1; fill:none\" points=\"\n",
       "  274.399,1486.45 274.399,1467.55 \n",
       "  \"/>\n",
       "<polyline clip-path=\"url(#clip410)\" style=\"stroke:#000000; stroke-linecap:butt; stroke-linejoin:round; stroke-width:4; stroke-opacity:1; fill:none\" points=\"\n",
       "  484.955,1486.45 484.955,1467.55 \n",
       "  \"/>\n",
       "<polyline clip-path=\"url(#clip410)\" style=\"stroke:#000000; stroke-linecap:butt; stroke-linejoin:round; stroke-width:4; stroke-opacity:1; fill:none\" points=\"\n",
       "  695.511,1486.45 695.511,1467.55 \n",
       "  \"/>\n",
       "<polyline clip-path=\"url(#clip410)\" style=\"stroke:#000000; stroke-linecap:butt; stroke-linejoin:round; stroke-width:4; stroke-opacity:1; fill:none\" points=\"\n",
       "  906.067,1486.45 906.067,1467.55 \n",
       "  \"/>\n",
       "<polyline clip-path=\"url(#clip410)\" style=\"stroke:#000000; stroke-linecap:butt; stroke-linejoin:round; stroke-width:4; stroke-opacity:1; fill:none\" points=\"\n",
       "  1116.62,1486.45 1116.62,1467.55 \n",
       "  \"/>\n",
       "<path clip-path=\"url(#clip410)\" d=\"M269.051 1544.91 L285.371 1544.91 L285.371 1548.85 L263.426 1548.85 L263.426 1544.91 Q266.088 1542.16 270.672 1537.53 Q275.278 1532.88 276.459 1531.53 Q278.704 1529.01 279.584 1527.27 Q280.487 1525.51 280.487 1523.82 Q280.487 1521.07 278.542 1519.33 Q276.621 1517.6 273.519 1517.6 Q271.32 1517.6 268.866 1518.36 Q266.436 1519.13 263.658 1520.68 L263.658 1515.95 Q266.482 1514.82 268.936 1514.24 Q271.389 1513.66 273.426 1513.66 Q278.797 1513.66 281.991 1516.35 Q285.186 1519.03 285.186 1523.52 Q285.186 1525.65 284.375 1527.57 Q283.588 1529.47 281.482 1532.07 Q280.903 1532.74 277.801 1535.95 Q274.7 1539.15 269.051 1544.91 Z\" fill=\"#000000\" fill-rule=\"evenodd\" fill-opacity=\"1\" /><path clip-path=\"url(#clip410)\" d=\"M487.964 1518.36 L476.158 1536.81 L487.964 1536.81 L487.964 1518.36 M486.737 1514.29 L492.617 1514.29 L492.617 1536.81 L497.547 1536.81 L497.547 1540.7 L492.617 1540.7 L492.617 1548.85 L487.964 1548.85 L487.964 1540.7 L472.362 1540.7 L472.362 1536.19 L486.737 1514.29 Z\" fill=\"#000000\" fill-rule=\"evenodd\" fill-opacity=\"1\" /><path clip-path=\"url(#clip410)\" d=\"M695.916 1529.7 Q692.768 1529.7 690.916 1531.86 Q689.087 1534.01 689.087 1537.76 Q689.087 1541.49 690.916 1543.66 Q692.768 1545.82 695.916 1545.82 Q699.064 1545.82 700.892 1543.66 Q702.744 1541.49 702.744 1537.76 Q702.744 1534.01 700.892 1531.86 Q699.064 1529.7 695.916 1529.7 M705.198 1515.05 L705.198 1519.31 Q703.439 1518.48 701.633 1518.04 Q699.851 1517.6 698.092 1517.6 Q693.462 1517.6 691.008 1520.72 Q688.578 1523.85 688.231 1530.17 Q689.596 1528.15 691.656 1527.09 Q693.717 1526 696.193 1526 Q701.402 1526 704.411 1529.17 Q707.443 1532.32 707.443 1537.76 Q707.443 1543.08 704.295 1546.3 Q701.147 1549.52 695.916 1549.52 Q689.92 1549.52 686.749 1544.94 Q683.578 1540.33 683.578 1531.6 Q683.578 1523.41 687.467 1518.55 Q691.356 1513.66 697.906 1513.66 Q699.666 1513.66 701.448 1514.01 Q703.254 1514.36 705.198 1515.05 Z\" fill=\"#000000\" fill-rule=\"evenodd\" fill-opacity=\"1\" /><path clip-path=\"url(#clip410)\" d=\"M906.067 1532.44 Q902.733 1532.44 900.812 1534.22 Q898.914 1536 898.914 1539.13 Q898.914 1542.25 900.812 1544.03 Q902.733 1545.82 906.067 1545.82 Q909.4 1545.82 911.321 1544.03 Q913.242 1542.23 913.242 1539.13 Q913.242 1536 911.321 1534.22 Q909.423 1532.44 906.067 1532.44 M901.391 1530.45 Q898.381 1529.7 896.692 1527.64 Q895.025 1525.58 895.025 1522.62 Q895.025 1518.48 897.965 1516.07 Q900.928 1513.66 906.067 1513.66 Q911.229 1513.66 914.168 1516.07 Q917.108 1518.48 917.108 1522.62 Q917.108 1525.58 915.418 1527.64 Q913.752 1529.7 910.766 1530.45 Q914.145 1531.23 916.02 1533.52 Q917.918 1535.82 917.918 1539.13 Q917.918 1544.15 914.84 1546.83 Q911.784 1549.52 906.067 1549.52 Q900.349 1549.52 897.27 1546.83 Q894.215 1544.15 894.215 1539.13 Q894.215 1535.82 896.113 1533.52 Q898.011 1531.23 901.391 1530.45 M899.678 1523.06 Q899.678 1525.75 901.344 1527.25 Q903.034 1528.76 906.067 1528.76 Q909.076 1528.76 910.766 1527.25 Q912.479 1525.75 912.479 1523.06 Q912.479 1520.38 910.766 1518.87 Q909.076 1517.37 906.067 1517.37 Q903.034 1517.37 901.344 1518.87 Q899.678 1520.38 899.678 1523.06 Z\" fill=\"#000000\" fill-rule=\"evenodd\" fill-opacity=\"1\" /><path clip-path=\"url(#clip410)\" d=\"M1091.31 1544.91 L1098.95 1544.91 L1098.95 1518.55 L1090.64 1520.21 L1090.64 1515.95 L1098.9 1514.29 L1103.58 1514.29 L1103.58 1544.91 L1111.22 1544.91 L1111.22 1548.85 L1091.31 1548.85 L1091.31 1544.91 Z\" fill=\"#000000\" fill-rule=\"evenodd\" fill-opacity=\"1\" /><path clip-path=\"url(#clip410)\" d=\"M1130.66 1517.37 Q1127.05 1517.37 1125.22 1520.93 Q1123.42 1524.47 1123.42 1531.6 Q1123.42 1538.71 1125.22 1542.27 Q1127.05 1545.82 1130.66 1545.82 Q1134.3 1545.82 1136.1 1542.27 Q1137.93 1538.71 1137.93 1531.6 Q1137.93 1524.47 1136.1 1520.93 Q1134.3 1517.37 1130.66 1517.37 M1130.66 1513.66 Q1136.47 1513.66 1139.53 1518.27 Q1142.61 1522.85 1142.61 1531.6 Q1142.61 1540.33 1139.53 1544.94 Q1136.47 1549.52 1130.66 1549.52 Q1124.85 1549.52 1121.77 1544.94 Q1118.72 1540.33 1118.72 1531.6 Q1118.72 1522.85 1121.77 1518.27 Q1124.85 1513.66 1130.66 1513.66 Z\" fill=\"#000000\" fill-rule=\"evenodd\" fill-opacity=\"1\" /><polyline clip-path=\"url(#clip412)\" style=\"stroke:#000000; stroke-linecap:butt; stroke-linejoin:round; stroke-width:2; stroke-opacity:0.1; fill:none\" points=\"\n",
       "  140.696,1219.43 1145.05,1219.43 \n",
       "  \"/>\n",
       "<polyline clip-path=\"url(#clip412)\" style=\"stroke:#000000; stroke-linecap:butt; stroke-linejoin:round; stroke-width:2; stroke-opacity:0.1; fill:none\" points=\"\n",
       "  140.696,842.276 1145.05,842.276 \n",
       "  \"/>\n",
       "<polyline clip-path=\"url(#clip412)\" style=\"stroke:#000000; stroke-linecap:butt; stroke-linejoin:round; stroke-width:2; stroke-opacity:0.1; fill:none\" points=\"\n",
       "  140.696,465.126 1145.05,465.126 \n",
       "  \"/>\n",
       "<polyline clip-path=\"url(#clip412)\" style=\"stroke:#000000; stroke-linecap:butt; stroke-linejoin:round; stroke-width:2; stroke-opacity:0.1; fill:none\" points=\"\n",
       "  140.696,87.9763 1145.05,87.9763 \n",
       "  \"/>\n",
       "<polyline clip-path=\"url(#clip410)\" style=\"stroke:#000000; stroke-linecap:butt; stroke-linejoin:round; stroke-width:4; stroke-opacity:1; fill:none\" points=\"\n",
       "  140.696,1486.45 140.696,47.2441 \n",
       "  \"/>\n",
       "<polyline clip-path=\"url(#clip410)\" style=\"stroke:#000000; stroke-linecap:butt; stroke-linejoin:round; stroke-width:4; stroke-opacity:1; fill:none\" points=\"\n",
       "  140.696,1219.43 159.593,1219.43 \n",
       "  \"/>\n",
       "<polyline clip-path=\"url(#clip410)\" style=\"stroke:#000000; stroke-linecap:butt; stroke-linejoin:round; stroke-width:4; stroke-opacity:1; fill:none\" points=\"\n",
       "  140.696,842.276 159.593,842.276 \n",
       "  \"/>\n",
       "<polyline clip-path=\"url(#clip410)\" style=\"stroke:#000000; stroke-linecap:butt; stroke-linejoin:round; stroke-width:4; stroke-opacity:1; fill:none\" points=\"\n",
       "  140.696,465.126 159.593,465.126 \n",
       "  \"/>\n",
       "<polyline clip-path=\"url(#clip410)\" style=\"stroke:#000000; stroke-linecap:butt; stroke-linejoin:round; stroke-width:4; stroke-opacity:1; fill:none\" points=\"\n",
       "  140.696,87.9763 159.593,87.9763 \n",
       "  \"/>\n",
       "<path clip-path=\"url(#clip410)\" d=\"M83.7929 1202.15 L102.149 1202.15 L102.149 1206.08 L88.0753 1206.08 L88.0753 1214.55 Q89.0938 1214.21 90.1123 1214.04 Q91.1308 1213.86 92.1493 1213.86 Q97.9363 1213.86 101.316 1217.03 Q104.696 1220.2 104.696 1225.62 Q104.696 1231.2 101.223 1234.3 Q97.7511 1237.38 91.4317 1237.38 Q89.2558 1237.38 86.9873 1237.01 Q84.7419 1236.64 82.3346 1235.9 L82.3346 1231.2 Q84.4179 1232.33 86.6401 1232.89 Q88.8623 1233.44 91.3391 1233.44 Q95.3437 1233.44 97.6817 1231.34 Q100.02 1229.23 100.02 1225.62 Q100.02 1222.01 97.6817 1219.9 Q95.3437 1217.79 91.3391 1217.79 Q89.4641 1217.79 87.5892 1218.21 Q85.7373 1218.63 83.7929 1219.51 L83.7929 1202.15 Z\" fill=\"#000000\" fill-rule=\"evenodd\" fill-opacity=\"1\" /><path clip-path=\"url(#clip410)\" d=\"M53.3995 855.621 L61.0384 855.621 L61.0384 829.255 L52.7282 830.922 L52.7282 826.663 L60.9921 824.996 L65.668 824.996 L65.668 855.621 L73.3068 855.621 L73.3068 859.556 L53.3995 859.556 L53.3995 855.621 Z\" fill=\"#000000\" fill-rule=\"evenodd\" fill-opacity=\"1\" /><path clip-path=\"url(#clip410)\" d=\"M92.7512 828.075 Q89.1401 828.075 87.3114 831.639 Q85.5058 835.181 85.5058 842.311 Q85.5058 849.417 87.3114 852.982 Q89.1401 856.524 92.7512 856.524 Q96.3854 856.524 98.1909 852.982 Q100.02 849.417 100.02 842.311 Q100.02 835.181 98.1909 831.639 Q96.3854 828.075 92.7512 828.075 M92.7512 824.371 Q98.5613 824.371 101.617 828.977 Q104.696 833.561 104.696 842.311 Q104.696 851.037 101.617 855.644 Q98.5613 860.227 92.7512 860.227 Q86.941 860.227 83.8623 855.644 Q80.8068 851.037 80.8068 842.311 Q80.8068 833.561 83.8623 828.977 Q86.941 824.371 92.7512 824.371 Z\" fill=\"#000000\" fill-rule=\"evenodd\" fill-opacity=\"1\" /><path clip-path=\"url(#clip410)\" d=\"M54.3949 478.471 L62.0337 478.471 L62.0337 452.105 L53.7236 453.772 L53.7236 449.513 L61.9874 447.846 L66.6633 447.846 L66.6633 478.471 L74.3022 478.471 L74.3022 482.406 L54.3949 482.406 L54.3949 478.471 Z\" fill=\"#000000\" fill-rule=\"evenodd\" fill-opacity=\"1\" /><path clip-path=\"url(#clip410)\" d=\"M83.7929 447.846 L102.149 447.846 L102.149 451.781 L88.0753 451.781 L88.0753 460.253 Q89.0938 459.906 90.1123 459.744 Q91.1308 459.559 92.1493 459.559 Q97.9363 459.559 101.316 462.73 Q104.696 465.902 104.696 471.318 Q104.696 476.897 101.223 479.999 Q97.7511 483.077 91.4317 483.077 Q89.2558 483.077 86.9873 482.707 Q84.7419 482.337 82.3346 481.596 L82.3346 476.897 Q84.4179 478.031 86.6401 478.587 Q88.8623 479.142 91.3391 479.142 Q95.3437 479.142 97.6817 477.036 Q100.02 474.929 100.02 471.318 Q100.02 467.707 97.6817 465.601 Q95.3437 463.494 91.3391 463.494 Q89.4641 463.494 87.5892 463.911 Q85.7373 464.328 83.7929 465.207 L83.7929 447.846 Z\" fill=\"#000000\" fill-rule=\"evenodd\" fill-opacity=\"1\" /><path clip-path=\"url(#clip410)\" d=\"M56.6171 101.321 L72.9365 101.321 L72.9365 105.256 L50.9921 105.256 L50.9921 101.321 Q53.6541 98.5665 58.2375 93.9369 Q62.8439 89.2841 64.0245 87.9416 Q66.2698 85.4184 67.1494 83.6823 Q68.0522 81.9231 68.0522 80.2333 Q68.0522 77.4786 66.1078 75.7425 Q64.1865 74.0064 61.0847 74.0064 Q58.8856 74.0064 56.4319 74.7703 Q54.0014 75.5342 51.2236 77.0851 L51.2236 72.3629 Q54.0477 71.2287 56.5014 70.65 Q58.955 70.0713 60.9921 70.0713 Q66.3624 70.0713 69.5568 72.7565 Q72.7513 75.4416 72.7513 79.9323 Q72.7513 82.062 71.9411 83.9832 Q71.1541 85.8814 69.0476 88.474 Q68.4689 89.1453 65.367 92.3628 Q62.2652 95.5573 56.6171 101.321 Z\" fill=\"#000000\" fill-rule=\"evenodd\" fill-opacity=\"1\" /><path clip-path=\"url(#clip410)\" d=\"M92.7512 73.775 Q89.1401 73.775 87.3114 77.3398 Q85.5058 80.8814 85.5058 88.011 Q85.5058 95.1174 87.3114 98.6822 Q89.1401 102.224 92.7512 102.224 Q96.3854 102.224 98.1909 98.6822 Q100.02 95.1174 100.02 88.011 Q100.02 80.8814 98.1909 77.3398 Q96.3854 73.775 92.7512 73.775 M92.7512 70.0713 Q98.5613 70.0713 101.617 74.6777 Q104.696 79.261 104.696 88.011 Q104.696 96.7378 101.617 101.344 Q98.5613 105.928 92.7512 105.928 Q86.941 105.928 83.8623 101.344 Q80.8068 96.7378 80.8068 88.011 Q80.8068 79.261 83.8623 74.6777 Q86.941 70.0713 92.7512 70.0713 Z\" fill=\"#000000\" fill-rule=\"evenodd\" fill-opacity=\"1\" /><circle clip-path=\"url(#clip412)\" cx=\"274.399\" cy=\"1294.86\" r=\"14\" fill=\"#ff0000\" fill-rule=\"evenodd\" fill-opacity=\"1\" stroke=\"#000000\" stroke-opacity=\"1\" stroke-width=\"3.2\"/>\n",
       "<circle clip-path=\"url(#clip412)\" cx=\"484.955\" cy=\"993.136\" r=\"14\" fill=\"#ff0000\" fill-rule=\"evenodd\" fill-opacity=\"1\" stroke=\"#000000\" stroke-opacity=\"1\" stroke-width=\"3.2\"/>\n",
       "<circle clip-path=\"url(#clip412)\" cx=\"695.511\" cy=\"691.416\" r=\"14\" fill=\"#ff0000\" fill-rule=\"evenodd\" fill-opacity=\"1\" stroke=\"#000000\" stroke-opacity=\"1\" stroke-width=\"3.2\"/>\n",
       "<circle clip-path=\"url(#clip412)\" cx=\"906.067\" cy=\"389.696\" r=\"14\" fill=\"#ff0000\" fill-rule=\"evenodd\" fill-opacity=\"1\" stroke=\"#000000\" stroke-opacity=\"1\" stroke-width=\"3.2\"/>\n",
       "<circle clip-path=\"url(#clip412)\" cx=\"1116.62\" cy=\"87.9763\" r=\"14\" fill=\"#ff0000\" fill-rule=\"evenodd\" fill-opacity=\"1\" stroke=\"#000000\" stroke-opacity=\"1\" stroke-width=\"3.2\"/>\n",
       "<circle clip-path=\"url(#clip412)\" cx=\"169.121\" cy=\"1445.72\" r=\"14\" fill=\"#008000\" fill-rule=\"evenodd\" fill-opacity=\"1\" stroke=\"#000000\" stroke-opacity=\"1\" stroke-width=\"3.2\"/>\n",
       "<circle clip-path=\"url(#clip412)\" cx=\"379.677\" cy=\"1144\" r=\"14\" fill=\"#008000\" fill-rule=\"evenodd\" fill-opacity=\"1\" stroke=\"#000000\" stroke-opacity=\"1\" stroke-width=\"3.2\"/>\n",
       "<circle clip-path=\"url(#clip412)\" cx=\"590.233\" cy=\"842.276\" r=\"14\" fill=\"#008000\" fill-rule=\"evenodd\" fill-opacity=\"1\" stroke=\"#000000\" stroke-opacity=\"1\" stroke-width=\"3.2\"/>\n",
       "<circle clip-path=\"url(#clip412)\" cx=\"800.789\" cy=\"540.556\" r=\"14\" fill=\"#008000\" fill-rule=\"evenodd\" fill-opacity=\"1\" stroke=\"#000000\" stroke-opacity=\"1\" stroke-width=\"3.2\"/>\n",
       "<circle clip-path=\"url(#clip412)\" cx=\"1011.34\" cy=\"238.836\" r=\"14\" fill=\"#008000\" fill-rule=\"evenodd\" fill-opacity=\"1\" stroke=\"#000000\" stroke-opacity=\"1\" stroke-width=\"3.2\"/>\n",
       "<path clip-path=\"url(#clip410)\" d=\"\n",
       "M976.086 250.738 L1111.57 250.738 L1111.57 95.2176 L976.086 95.2176  Z\n",
       "  \" fill=\"#ffffff\" fill-rule=\"evenodd\" fill-opacity=\"1\"/>\n",
       "<polyline clip-path=\"url(#clip410)\" style=\"stroke:#000000; stroke-linecap:butt; stroke-linejoin:round; stroke-width:4; stroke-opacity:1; fill:none\" points=\"\n",
       "  976.086,250.738 1111.57,250.738 1111.57,95.2176 976.086,95.2176 976.086,250.738 \n",
       "  \"/>\n",
       "<circle clip-path=\"url(#clip410)\" cx=\"1020.72\" cy=\"147.058\" r=\"23\" fill=\"#ff0000\" fill-rule=\"evenodd\" fill-opacity=\"1\" stroke=\"#000000\" stroke-opacity=\"1\" stroke-width=\"5.12\"/>\n",
       "<path clip-path=\"url(#clip410)\" d=\"M1077.31 132.856 Q1073.69 132.856 1071.87 136.421 Q1070.06 139.963 1070.06 147.092 Q1070.06 154.199 1071.87 157.764 Q1073.69 161.305 1077.31 161.305 Q1080.94 161.305 1082.75 157.764 Q1084.57 154.199 1084.57 147.092 Q1084.57 139.963 1082.75 136.421 Q1080.94 132.856 1077.31 132.856 M1077.31 129.153 Q1083.12 129.153 1086.17 133.759 Q1089.25 138.342 1089.25 147.092 Q1089.25 155.819 1086.17 160.426 Q1083.12 165.009 1077.31 165.009 Q1071.5 165.009 1068.42 160.426 Q1065.36 155.819 1065.36 147.092 Q1065.36 138.342 1068.42 133.759 Q1071.5 129.153 1077.31 129.153 Z\" fill=\"#000000\" fill-rule=\"evenodd\" fill-opacity=\"1\" /><circle clip-path=\"url(#clip410)\" cx=\"1020.72\" cy=\"198.898\" r=\"23\" fill=\"#008000\" fill-rule=\"evenodd\" fill-opacity=\"1\" stroke=\"#000000\" stroke-opacity=\"1\" stroke-width=\"5.12\"/>\n",
       "<path clip-path=\"url(#clip410)\" d=\"M1066.03 212.242 L1073.67 212.242 L1073.67 185.877 L1065.36 187.543 L1065.36 183.284 L1073.63 181.618 L1078.3 181.618 L1078.3 212.242 L1085.94 212.242 L1085.94 216.178 L1066.03 216.178 L1066.03 212.242 Z\" fill=\"#000000\" fill-rule=\"evenodd\" fill-opacity=\"1\" /><path clip-path=\"url(#clip410)\" d=\"\n",
       "M1348.4 1486.45 L2352.76 1486.45 L2352.76 47.2441 L1348.4 47.2441  Z\n",
       "  \" fill=\"#ffffff\" fill-rule=\"evenodd\" fill-opacity=\"1\"/>\n",
       "<defs>\n",
       "  <clipPath id=\"clip413\">\n",
       "    <rect x=\"1348\" y=\"47\" width=\"1005\" height=\"1440\"/>\n",
       "  </clipPath>\n",
       "</defs>\n",
       "<polyline clip-path=\"url(#clip413)\" style=\"stroke:#000000; stroke-linecap:butt; stroke-linejoin:round; stroke-width:2; stroke-opacity:0.1; fill:none\" points=\"\n",
       "  1482.11,1486.45 1482.11,47.2441 \n",
       "  \"/>\n",
       "<polyline clip-path=\"url(#clip413)\" style=\"stroke:#000000; stroke-linecap:butt; stroke-linejoin:round; stroke-width:2; stroke-opacity:0.1; fill:none\" points=\"\n",
       "  1692.66,1486.45 1692.66,47.2441 \n",
       "  \"/>\n",
       "<polyline clip-path=\"url(#clip413)\" style=\"stroke:#000000; stroke-linecap:butt; stroke-linejoin:round; stroke-width:2; stroke-opacity:0.1; fill:none\" points=\"\n",
       "  1903.22,1486.45 1903.22,47.2441 \n",
       "  \"/>\n",
       "<polyline clip-path=\"url(#clip413)\" style=\"stroke:#000000; stroke-linecap:butt; stroke-linejoin:round; stroke-width:2; stroke-opacity:0.1; fill:none\" points=\"\n",
       "  2113.77,1486.45 2113.77,47.2441 \n",
       "  \"/>\n",
       "<polyline clip-path=\"url(#clip413)\" style=\"stroke:#000000; stroke-linecap:butt; stroke-linejoin:round; stroke-width:2; stroke-opacity:0.1; fill:none\" points=\"\n",
       "  2324.33,1486.45 2324.33,47.2441 \n",
       "  \"/>\n",
       "<polyline clip-path=\"url(#clip410)\" style=\"stroke:#000000; stroke-linecap:butt; stroke-linejoin:round; stroke-width:4; stroke-opacity:1; fill:none\" points=\"\n",
       "  1348.4,1486.45 2352.76,1486.45 \n",
       "  \"/>\n",
       "<polyline clip-path=\"url(#clip410)\" style=\"stroke:#000000; stroke-linecap:butt; stroke-linejoin:round; stroke-width:4; stroke-opacity:1; fill:none\" points=\"\n",
       "  1482.11,1486.45 1482.11,1467.55 \n",
       "  \"/>\n",
       "<polyline clip-path=\"url(#clip410)\" style=\"stroke:#000000; stroke-linecap:butt; stroke-linejoin:round; stroke-width:4; stroke-opacity:1; fill:none\" points=\"\n",
       "  1692.66,1486.45 1692.66,1467.55 \n",
       "  \"/>\n",
       "<polyline clip-path=\"url(#clip410)\" style=\"stroke:#000000; stroke-linecap:butt; stroke-linejoin:round; stroke-width:4; stroke-opacity:1; fill:none\" points=\"\n",
       "  1903.22,1486.45 1903.22,1467.55 \n",
       "  \"/>\n",
       "<polyline clip-path=\"url(#clip410)\" style=\"stroke:#000000; stroke-linecap:butt; stroke-linejoin:round; stroke-width:4; stroke-opacity:1; fill:none\" points=\"\n",
       "  2113.77,1486.45 2113.77,1467.55 \n",
       "  \"/>\n",
       "<polyline clip-path=\"url(#clip410)\" style=\"stroke:#000000; stroke-linecap:butt; stroke-linejoin:round; stroke-width:4; stroke-opacity:1; fill:none\" points=\"\n",
       "  2324.33,1486.45 2324.33,1467.55 \n",
       "  \"/>\n",
       "<path clip-path=\"url(#clip410)\" d=\"M1476.76 1544.91 L1493.08 1544.91 L1493.08 1548.85 L1471.13 1548.85 L1471.13 1544.91 Q1473.8 1542.16 1478.38 1537.53 Q1482.99 1532.88 1484.17 1531.53 Q1486.41 1529.01 1487.29 1527.27 Q1488.19 1525.51 1488.19 1523.82 Q1488.19 1521.07 1486.25 1519.33 Q1484.33 1517.6 1481.23 1517.6 Q1479.03 1517.6 1476.57 1518.36 Q1474.14 1519.13 1471.37 1520.68 L1471.37 1515.95 Q1474.19 1514.82 1476.64 1514.24 Q1479.1 1513.66 1481.13 1513.66 Q1486.51 1513.66 1489.7 1516.35 Q1492.89 1519.03 1492.89 1523.52 Q1492.89 1525.65 1492.08 1527.57 Q1491.3 1529.47 1489.19 1532.07 Q1488.61 1532.74 1485.51 1535.95 Q1482.41 1539.15 1476.76 1544.91 Z\" fill=\"#000000\" fill-rule=\"evenodd\" fill-opacity=\"1\" /><path clip-path=\"url(#clip410)\" d=\"M1695.67 1518.36 L1683.87 1536.81 L1695.67 1536.81 L1695.67 1518.36 M1694.45 1514.29 L1700.32 1514.29 L1700.32 1536.81 L1705.26 1536.81 L1705.26 1540.7 L1700.32 1540.7 L1700.32 1548.85 L1695.67 1548.85 L1695.67 1540.7 L1680.07 1540.7 L1680.07 1536.19 L1694.45 1514.29 Z\" fill=\"#000000\" fill-rule=\"evenodd\" fill-opacity=\"1\" /><path clip-path=\"url(#clip410)\" d=\"M1903.62 1529.7 Q1900.48 1529.7 1898.62 1531.86 Q1896.8 1534.01 1896.8 1537.76 Q1896.8 1541.49 1898.62 1543.66 Q1900.48 1545.82 1903.62 1545.82 Q1906.77 1545.82 1908.6 1543.66 Q1910.45 1541.49 1910.45 1537.76 Q1910.45 1534.01 1908.6 1531.86 Q1906.77 1529.7 1903.62 1529.7 M1912.91 1515.05 L1912.91 1519.31 Q1911.15 1518.48 1909.34 1518.04 Q1907.56 1517.6 1905.8 1517.6 Q1901.17 1517.6 1898.72 1520.72 Q1896.29 1523.85 1895.94 1530.17 Q1897.3 1528.15 1899.36 1527.09 Q1901.42 1526 1903.9 1526 Q1909.11 1526 1912.12 1529.17 Q1915.15 1532.32 1915.15 1537.76 Q1915.15 1543.08 1912 1546.3 Q1908.86 1549.52 1903.62 1549.52 Q1897.63 1549.52 1894.46 1544.94 Q1891.29 1540.33 1891.29 1531.6 Q1891.29 1523.41 1895.17 1518.55 Q1899.06 1513.66 1905.61 1513.66 Q1907.37 1513.66 1909.16 1514.01 Q1910.96 1514.36 1912.91 1515.05 Z\" fill=\"#000000\" fill-rule=\"evenodd\" fill-opacity=\"1\" /><path clip-path=\"url(#clip410)\" d=\"M2113.77 1532.44 Q2110.44 1532.44 2108.52 1534.22 Q2106.62 1536 2106.62 1539.13 Q2106.62 1542.25 2108.52 1544.03 Q2110.44 1545.82 2113.77 1545.82 Q2117.11 1545.82 2119.03 1544.03 Q2120.95 1542.23 2120.95 1539.13 Q2120.95 1536 2119.03 1534.22 Q2117.13 1532.44 2113.77 1532.44 M2109.1 1530.45 Q2106.09 1529.7 2104.4 1527.64 Q2102.73 1525.58 2102.73 1522.62 Q2102.73 1518.48 2105.67 1516.07 Q2108.64 1513.66 2113.77 1513.66 Q2118.94 1513.66 2121.88 1516.07 Q2124.82 1518.48 2124.82 1522.62 Q2124.82 1525.58 2123.13 1527.64 Q2121.46 1529.7 2118.47 1530.45 Q2121.85 1531.23 2123.73 1533.52 Q2125.63 1535.82 2125.63 1539.13 Q2125.63 1544.15 2122.55 1546.83 Q2119.49 1549.52 2113.77 1549.52 Q2108.06 1549.52 2104.98 1546.83 Q2101.92 1544.15 2101.92 1539.13 Q2101.92 1535.82 2103.82 1533.52 Q2105.72 1531.23 2109.1 1530.45 M2107.39 1523.06 Q2107.39 1525.75 2109.05 1527.25 Q2110.74 1528.76 2113.77 1528.76 Q2116.78 1528.76 2118.47 1527.25 Q2120.19 1525.75 2120.19 1523.06 Q2120.19 1520.38 2118.47 1518.87 Q2116.78 1517.37 2113.77 1517.37 Q2110.74 1517.37 2109.05 1518.87 Q2107.39 1520.38 2107.39 1523.06 Z\" fill=\"#000000\" fill-rule=\"evenodd\" fill-opacity=\"1\" /><path clip-path=\"url(#clip410)\" d=\"M2299.02 1544.91 L2306.66 1544.91 L2306.66 1518.55 L2298.35 1520.21 L2298.35 1515.95 L2306.61 1514.29 L2311.29 1514.29 L2311.29 1544.91 L2318.93 1544.91 L2318.93 1548.85 L2299.02 1548.85 L2299.02 1544.91 Z\" fill=\"#000000\" fill-rule=\"evenodd\" fill-opacity=\"1\" /><path clip-path=\"url(#clip410)\" d=\"M2338.37 1517.37 Q2334.76 1517.37 2332.93 1520.93 Q2331.12 1524.47 2331.12 1531.6 Q2331.12 1538.71 2332.93 1542.27 Q2334.76 1545.82 2338.37 1545.82 Q2342 1545.82 2343.81 1542.27 Q2345.64 1538.71 2345.64 1531.6 Q2345.64 1524.47 2343.81 1520.93 Q2342 1517.37 2338.37 1517.37 M2338.37 1513.66 Q2344.18 1513.66 2347.24 1518.27 Q2350.31 1522.85 2350.31 1531.6 Q2350.31 1540.33 2347.24 1544.94 Q2344.18 1549.52 2338.37 1549.52 Q2332.56 1549.52 2329.48 1544.94 Q2326.43 1540.33 2326.43 1531.6 Q2326.43 1522.85 2329.48 1518.27 Q2332.56 1513.66 2338.37 1513.66 Z\" fill=\"#000000\" fill-rule=\"evenodd\" fill-opacity=\"1\" /><polyline clip-path=\"url(#clip413)\" style=\"stroke:#000000; stroke-linecap:butt; stroke-linejoin:round; stroke-width:2; stroke-opacity:0.1; fill:none\" points=\"\n",
       "  1348.4,1445.72 2352.76,1445.72 \n",
       "  \"/>\n",
       "<polyline clip-path=\"url(#clip413)\" style=\"stroke:#000000; stroke-linecap:butt; stroke-linejoin:round; stroke-width:2; stroke-opacity:0.1; fill:none\" points=\"\n",
       "  1348.4,1150.89 2352.76,1150.89 \n",
       "  \"/>\n",
       "<polyline clip-path=\"url(#clip413)\" style=\"stroke:#000000; stroke-linecap:butt; stroke-linejoin:round; stroke-width:2; stroke-opacity:0.1; fill:none\" points=\"\n",
       "  1348.4,856.057 2352.76,856.057 \n",
       "  \"/>\n",
       "<polyline clip-path=\"url(#clip413)\" style=\"stroke:#000000; stroke-linecap:butt; stroke-linejoin:round; stroke-width:2; stroke-opacity:0.1; fill:none\" points=\"\n",
       "  1348.4,561.228 2352.76,561.228 \n",
       "  \"/>\n",
       "<polyline clip-path=\"url(#clip413)\" style=\"stroke:#000000; stroke-linecap:butt; stroke-linejoin:round; stroke-width:2; stroke-opacity:0.1; fill:none\" points=\"\n",
       "  1348.4,266.398 2352.76,266.398 \n",
       "  \"/>\n",
       "<polyline clip-path=\"url(#clip410)\" style=\"stroke:#000000; stroke-linecap:butt; stroke-linejoin:round; stroke-width:4; stroke-opacity:1; fill:none\" points=\"\n",
       "  1348.4,1486.45 1348.4,47.2441 \n",
       "  \"/>\n",
       "<polyline clip-path=\"url(#clip410)\" style=\"stroke:#000000; stroke-linecap:butt; stroke-linejoin:round; stroke-width:4; stroke-opacity:1; fill:none\" points=\"\n",
       "  1348.4,1445.72 1367.3,1445.72 \n",
       "  \"/>\n",
       "<polyline clip-path=\"url(#clip410)\" style=\"stroke:#000000; stroke-linecap:butt; stroke-linejoin:round; stroke-width:4; stroke-opacity:1; fill:none\" points=\"\n",
       "  1348.4,1150.89 1367.3,1150.89 \n",
       "  \"/>\n",
       "<polyline clip-path=\"url(#clip410)\" style=\"stroke:#000000; stroke-linecap:butt; stroke-linejoin:round; stroke-width:4; stroke-opacity:1; fill:none\" points=\"\n",
       "  1348.4,856.057 1367.3,856.057 \n",
       "  \"/>\n",
       "<polyline clip-path=\"url(#clip410)\" style=\"stroke:#000000; stroke-linecap:butt; stroke-linejoin:round; stroke-width:4; stroke-opacity:1; fill:none\" points=\"\n",
       "  1348.4,561.228 1367.3,561.228 \n",
       "  \"/>\n",
       "<polyline clip-path=\"url(#clip410)\" style=\"stroke:#000000; stroke-linecap:butt; stroke-linejoin:round; stroke-width:4; stroke-opacity:1; fill:none\" points=\"\n",
       "  1348.4,266.398 1367.3,266.398 \n",
       "  \"/>\n",
       "<path clip-path=\"url(#clip410)\" d=\"M1255.23 1431.51 Q1251.62 1431.51 1249.79 1435.08 Q1247.98 1438.62 1247.98 1445.75 Q1247.98 1452.86 1249.79 1456.42 Q1251.62 1459.96 1255.23 1459.96 Q1258.86 1459.96 1260.67 1456.42 Q1262.5 1452.86 1262.5 1445.75 Q1262.5 1438.62 1260.67 1435.08 Q1258.86 1431.51 1255.23 1431.51 M1255.23 1427.81 Q1261.04 1427.81 1264.09 1432.42 Q1267.17 1437 1267.17 1445.75 Q1267.17 1454.48 1264.09 1459.08 Q1261.04 1463.67 1255.23 1463.67 Q1249.42 1463.67 1246.34 1459.08 Q1243.28 1454.48 1243.28 1445.75 Q1243.28 1437 1246.34 1432.42 Q1249.42 1427.81 1255.23 1427.81 Z\" fill=\"#000000\" fill-rule=\"evenodd\" fill-opacity=\"1\" /><path clip-path=\"url(#clip410)\" d=\"M1275.39 1457.12 L1280.27 1457.12 L1280.27 1463 L1275.39 1463 L1275.39 1457.12 Z\" fill=\"#000000\" fill-rule=\"evenodd\" fill-opacity=\"1\" /><path clip-path=\"url(#clip410)\" d=\"M1300.46 1431.51 Q1296.85 1431.51 1295.02 1435.08 Q1293.21 1438.62 1293.21 1445.75 Q1293.21 1452.86 1295.02 1456.42 Q1296.85 1459.96 1300.46 1459.96 Q1304.09 1459.96 1305.9 1456.42 Q1307.73 1452.86 1307.73 1445.75 Q1307.73 1438.62 1305.9 1435.08 Q1304.09 1431.51 1300.46 1431.51 M1300.46 1427.81 Q1306.27 1427.81 1309.33 1432.42 Q1312.4 1437 1312.4 1445.75 Q1312.4 1454.48 1309.33 1459.08 Q1306.27 1463.67 1300.46 1463.67 Q1294.65 1463.67 1291.57 1459.08 Q1288.52 1454.48 1288.52 1445.75 Q1288.52 1437 1291.57 1432.42 Q1294.65 1427.81 1300.46 1427.81 Z\" fill=\"#000000\" fill-rule=\"evenodd\" fill-opacity=\"1\" /><path clip-path=\"url(#clip410)\" d=\"M1256.22 1136.69 Q1252.61 1136.69 1250.78 1140.25 Q1248.98 1143.79 1248.98 1150.92 Q1248.98 1158.03 1250.78 1161.59 Q1252.61 1165.13 1256.22 1165.13 Q1259.86 1165.13 1261.66 1161.59 Q1263.49 1158.03 1263.49 1150.92 Q1263.49 1143.79 1261.66 1140.25 Q1259.86 1136.69 1256.22 1136.69 M1256.22 1132.98 Q1262.03 1132.98 1265.09 1137.59 Q1268.17 1142.17 1268.17 1150.92 Q1268.17 1159.65 1265.09 1164.25 Q1262.03 1168.84 1256.22 1168.84 Q1250.41 1168.84 1247.33 1164.25 Q1244.28 1159.65 1244.28 1150.92 Q1244.28 1142.17 1247.33 1137.59 Q1250.41 1132.98 1256.22 1132.98 Z\" fill=\"#000000\" fill-rule=\"evenodd\" fill-opacity=\"1\" /><path clip-path=\"url(#clip410)\" d=\"M1276.39 1162.29 L1281.27 1162.29 L1281.27 1168.17 L1276.39 1168.17 L1276.39 1162.29 Z\" fill=\"#000000\" fill-rule=\"evenodd\" fill-opacity=\"1\" /><path clip-path=\"url(#clip410)\" d=\"M1291.5 1133.61 L1309.86 1133.61 L1309.86 1137.54 L1295.78 1137.54 L1295.78 1146.01 Q1296.8 1145.67 1297.82 1145.5 Q1298.84 1145.32 1299.86 1145.32 Q1305.64 1145.32 1309.02 1148.49 Q1312.4 1151.66 1312.4 1157.08 Q1312.4 1162.66 1308.93 1165.76 Q1305.46 1168.84 1299.14 1168.84 Q1296.96 1168.84 1294.7 1168.47 Q1292.45 1168.1 1290.04 1167.36 L1290.04 1162.66 Q1292.13 1163.79 1294.35 1164.35 Q1296.57 1164.9 1299.05 1164.9 Q1303.05 1164.9 1305.39 1162.8 Q1307.73 1160.69 1307.73 1157.08 Q1307.73 1153.47 1305.39 1151.36 Q1303.05 1149.25 1299.05 1149.25 Q1297.17 1149.25 1295.3 1149.67 Q1293.45 1150.09 1291.5 1150.97 L1291.5 1133.61 Z\" fill=\"#000000\" fill-rule=\"evenodd\" fill-opacity=\"1\" /><path clip-path=\"url(#clip410)\" d=\"M1246.04 869.402 L1253.68 869.402 L1253.68 843.036 L1245.37 844.703 L1245.37 840.444 L1253.63 838.777 L1258.31 838.777 L1258.31 869.402 L1265.95 869.402 L1265.95 873.337 L1246.04 873.337 L1246.04 869.402 Z\" fill=\"#000000\" fill-rule=\"evenodd\" fill-opacity=\"1\" /><path clip-path=\"url(#clip410)\" d=\"M1275.39 867.457 L1280.27 867.457 L1280.27 873.337 L1275.39 873.337 L1275.39 867.457 Z\" fill=\"#000000\" fill-rule=\"evenodd\" fill-opacity=\"1\" /><path clip-path=\"url(#clip410)\" d=\"M1300.46 841.856 Q1296.85 841.856 1295.02 845.42 Q1293.21 848.962 1293.21 856.092 Q1293.21 863.198 1295.02 866.763 Q1296.85 870.305 1300.46 870.305 Q1304.09 870.305 1305.9 866.763 Q1307.73 863.198 1307.73 856.092 Q1307.73 848.962 1305.9 845.42 Q1304.09 841.856 1300.46 841.856 M1300.46 838.152 Q1306.27 838.152 1309.33 842.758 Q1312.4 847.342 1312.4 856.092 Q1312.4 864.818 1309.33 869.425 Q1306.27 874.008 1300.46 874.008 Q1294.65 874.008 1291.57 869.425 Q1288.52 864.818 1288.52 856.092 Q1288.52 847.342 1291.57 842.758 Q1294.65 838.152 1300.46 838.152 Z\" fill=\"#000000\" fill-rule=\"evenodd\" fill-opacity=\"1\" /><path clip-path=\"url(#clip410)\" d=\"M1247.03 574.572 L1254.67 574.572 L1254.67 548.207 L1246.36 549.873 L1246.36 545.614 L1254.63 543.948 L1259.3 543.948 L1259.3 574.572 L1266.94 574.572 L1266.94 578.508 L1247.03 578.508 L1247.03 574.572 Z\" fill=\"#000000\" fill-rule=\"evenodd\" fill-opacity=\"1\" /><path clip-path=\"url(#clip410)\" d=\"M1276.39 572.628 L1281.27 572.628 L1281.27 578.508 L1276.39 578.508 L1276.39 572.628 Z\" fill=\"#000000\" fill-rule=\"evenodd\" fill-opacity=\"1\" /><path clip-path=\"url(#clip410)\" d=\"M1291.5 543.948 L1309.86 543.948 L1309.86 547.883 L1295.78 547.883 L1295.78 556.355 Q1296.8 556.008 1297.82 555.846 Q1298.84 555.66 1299.86 555.66 Q1305.64 555.66 1309.02 558.832 Q1312.4 562.003 1312.4 567.42 Q1312.4 572.998 1308.93 576.1 Q1305.46 579.179 1299.14 579.179 Q1296.96 579.179 1294.7 578.809 Q1292.45 578.438 1290.04 577.697 L1290.04 572.998 Q1292.13 574.133 1294.35 574.688 Q1296.57 575.244 1299.05 575.244 Q1303.05 575.244 1305.39 573.137 Q1307.73 571.031 1307.73 567.42 Q1307.73 563.809 1305.39 561.702 Q1303.05 559.596 1299.05 559.596 Q1297.17 559.596 1295.3 560.012 Q1293.45 560.429 1291.5 561.309 L1291.5 543.948 Z\" fill=\"#000000\" fill-rule=\"evenodd\" fill-opacity=\"1\" /><path clip-path=\"url(#clip410)\" d=\"M1249.26 279.743 L1265.58 279.743 L1265.58 283.678 L1243.63 283.678 L1243.63 279.743 Q1246.29 276.988 1250.88 272.359 Q1255.48 267.706 1256.66 266.363 Q1258.91 263.84 1259.79 262.104 Q1260.69 260.345 1260.69 258.655 Q1260.69 255.901 1258.75 254.164 Q1256.83 252.428 1253.72 252.428 Q1251.52 252.428 1249.07 253.192 Q1246.64 253.956 1243.86 255.507 L1243.86 250.785 Q1246.69 249.651 1249.14 249.072 Q1251.59 248.493 1253.63 248.493 Q1259 248.493 1262.2 251.178 Q1265.39 253.864 1265.39 258.354 Q1265.39 260.484 1264.58 262.405 Q1263.79 264.303 1261.69 266.896 Q1261.11 267.567 1258.01 270.785 Q1254.9 273.979 1249.26 279.743 Z\" fill=\"#000000\" fill-rule=\"evenodd\" fill-opacity=\"1\" /><path clip-path=\"url(#clip410)\" d=\"M1275.39 277.799 L1280.27 277.799 L1280.27 283.678 L1275.39 283.678 L1275.39 277.799 Z\" fill=\"#000000\" fill-rule=\"evenodd\" fill-opacity=\"1\" /><path clip-path=\"url(#clip410)\" d=\"M1300.46 252.197 Q1296.85 252.197 1295.02 255.762 Q1293.21 259.303 1293.21 266.433 Q1293.21 273.539 1295.02 277.104 Q1296.85 280.646 1300.46 280.646 Q1304.09 280.646 1305.9 277.104 Q1307.73 273.539 1307.73 266.433 Q1307.73 259.303 1305.9 255.762 Q1304.09 252.197 1300.46 252.197 M1300.46 248.493 Q1306.27 248.493 1309.33 253.1 Q1312.4 257.683 1312.4 266.433 Q1312.4 275.16 1309.33 279.766 Q1306.27 284.35 1300.46 284.35 Q1294.65 284.35 1291.57 279.766 Q1288.52 275.16 1288.52 266.433 Q1288.52 257.683 1291.57 253.1 Q1294.65 248.493 1300.46 248.493 Z\" fill=\"#000000\" fill-rule=\"evenodd\" fill-opacity=\"1\" /><circle clip-path=\"url(#clip413)\" cx=\"1482.11\" cy=\"1037\" r=\"14\" fill=\"#0000ff\" fill-rule=\"evenodd\" fill-opacity=\"1\" stroke=\"#000000\" stroke-opacity=\"1\" stroke-width=\"3.2\"/>\n",
       "<circle clip-path=\"url(#clip413)\" cx=\"1692.66\" cy=\"628.275\" r=\"14\" fill=\"#0000ff\" fill-rule=\"evenodd\" fill-opacity=\"1\" stroke=\"#000000\" stroke-opacity=\"1\" stroke-width=\"3.2\"/>\n",
       "<circle clip-path=\"url(#clip413)\" cx=\"1903.22\" cy=\"389.189\" r=\"14\" fill=\"#0000ff\" fill-rule=\"evenodd\" fill-opacity=\"1\" stroke=\"#000000\" stroke-opacity=\"1\" stroke-width=\"3.2\"/>\n",
       "<circle clip-path=\"url(#clip413)\" cx=\"2113.77\" cy=\"219.555\" r=\"14\" fill=\"#0000ff\" fill-rule=\"evenodd\" fill-opacity=\"1\" stroke=\"#000000\" stroke-opacity=\"1\" stroke-width=\"3.2\"/>\n",
       "<circle clip-path=\"url(#clip413)\" cx=\"2324.33\" cy=\"87.9763\" r=\"14\" fill=\"#0000ff\" fill-rule=\"evenodd\" fill-opacity=\"1\" stroke=\"#000000\" stroke-opacity=\"1\" stroke-width=\"3.2\"/>\n",
       "<circle clip-path=\"url(#clip413)\" cx=\"1376.83\" cy=\"1445.72\" r=\"14\" fill=\"#000000\" fill-rule=\"evenodd\" fill-opacity=\"1\" stroke=\"none\"/>\n",
       "<circle clip-path=\"url(#clip413)\" cx=\"1587.38\" cy=\"797.909\" r=\"14\" fill=\"#000000\" fill-rule=\"evenodd\" fill-opacity=\"1\" stroke=\"none\"/>\n",
       "<circle clip-path=\"url(#clip413)\" cx=\"1797.94\" cy=\"496.697\" r=\"14\" fill=\"#000000\" fill-rule=\"evenodd\" fill-opacity=\"1\" stroke=\"none\"/>\n",
       "<circle clip-path=\"url(#clip413)\" cx=\"2008.5\" cy=\"298.293\" r=\"14\" fill=\"#000000\" fill-rule=\"evenodd\" fill-opacity=\"1\" stroke=\"none\"/>\n",
       "<circle clip-path=\"url(#clip413)\" cx=\"2219.05\" cy=\"150.103\" r=\"14\" fill=\"#000000\" fill-rule=\"evenodd\" fill-opacity=\"1\" stroke=\"none\"/>\n",
       "<path clip-path=\"url(#clip410)\" d=\"\n",
       "M2183.79 250.738 L2319.28 250.738 L2319.28 95.2176 L2183.79 95.2176  Z\n",
       "  \" fill=\"#ffffff\" fill-rule=\"evenodd\" fill-opacity=\"1\"/>\n",
       "<polyline clip-path=\"url(#clip410)\" style=\"stroke:#000000; stroke-linecap:butt; stroke-linejoin:round; stroke-width:4; stroke-opacity:1; fill:none\" points=\"\n",
       "  2183.79,250.738 2319.28,250.738 2319.28,95.2176 2183.79,95.2176 2183.79,250.738 \n",
       "  \"/>\n",
       "<circle clip-path=\"url(#clip410)\" cx=\"2228.43\" cy=\"147.058\" r=\"23\" fill=\"#0000ff\" fill-rule=\"evenodd\" fill-opacity=\"1\" stroke=\"#000000\" stroke-opacity=\"1\" stroke-width=\"5.12\"/>\n",
       "<path clip-path=\"url(#clip410)\" d=\"M2285.01 132.856 Q2281.4 132.856 2279.57 136.421 Q2277.77 139.963 2277.77 147.092 Q2277.77 154.199 2279.57 157.764 Q2281.4 161.305 2285.01 161.305 Q2288.65 161.305 2290.45 157.764 Q2292.28 154.199 2292.28 147.092 Q2292.28 139.963 2290.45 136.421 Q2288.65 132.856 2285.01 132.856 M2285.01 129.153 Q2290.82 129.153 2293.88 133.759 Q2296.96 138.342 2296.96 147.092 Q2296.96 155.819 2293.88 160.426 Q2290.82 165.009 2285.01 165.009 Q2279.2 165.009 2276.13 160.426 Q2273.07 155.819 2273.07 147.092 Q2273.07 138.342 2276.13 133.759 Q2279.2 129.153 2285.01 129.153 Z\" fill=\"#000000\" fill-rule=\"evenodd\" fill-opacity=\"1\" /><circle clip-path=\"url(#clip410)\" cx=\"2228.43\" cy=\"198.898\" r=\"23\" fill=\"#000000\" fill-rule=\"evenodd\" fill-opacity=\"1\" stroke=\"none\"/>\n",
       "<path clip-path=\"url(#clip410)\" d=\"M2273.74 212.242 L2281.38 212.242 L2281.38 185.877 L2273.07 187.543 L2273.07 183.284 L2281.33 181.618 L2286.01 181.618 L2286.01 212.242 L2293.65 212.242 L2293.65 216.178 L2273.74 216.178 L2273.74 212.242 Z\" fill=\"#000000\" fill-rule=\"evenodd\" fill-opacity=\"1\" /></svg>\n"
      ]
     },
     "execution_count": 47,
     "metadata": {},
     "output_type": "execute_result"
    }
   ],
   "source": [
    "# użycie opcji layout i grup\n",
    "scatter(df.a, [df.b, df.c], group=df.e,  colour = [:red :blue :green :black], layout=2)"
   ]
  },
  {
   "cell_type": "markdown",
   "metadata": {},
   "source": [
    "Uwaga: Ze względu na specyfikę języka Julia pomiar czasu wykonania należy brać pod uwagę dopiero od drugiego wywołania danej funkcji\n",
    "(za pierwszym razem mierzymy również czas kompilacji)\n",
    "\n",
    "Makro @time - zwraca wartość funkcji i wypisuje czas jej trwania.\n",
    "Makro @elapsed zwraca czas trwania (może być wygodniejsze w użyciu). \n",
    "Warto też oglądnąć działanie makr @timev, @timed, i @allocated\n",
    "\n",
    "https://docs.julialang.org/en/v1/base/base/#Base.@time\n",
    "\n",
    "Rand(10) - wylosuj 10-elementową tablicę Float64 z przedziału [0,1)\n",
    "\n",
    "https://docs.julialang.org/en/v1/stdlib/Random/#Base.rand"
   ]
  },
  {
   "cell_type": "markdown",
   "metadata": {
    "tags": []
   },
   "source": [
    "### Zadanie \n",
    "- Napisać program w języku Julia do obliczania iloczynu skalarnego wektorów (<a href=\"https://docs.julialang.org/en/v1/stdlib/LinearAlgebra/#LinearAlgebra.dot\">LinearAlgebra.dot</a>) i mnożenia macierzy kwadratowej przez wektor z użyciem \n",
    "<a href=\"https://docs.julialang.org/en/v1/stdlib/LinearAlgebra/#Elementary-operations-1\">operatora *</a>.\n",
    "- Uruchomić i zmierzyć czasy działania obydwu funkcji - każdej dla różnych rozmiarów wektorów.  Dokonać 10 pomiarów dla każdego rozmiaru wektora.\n",
    "- Czasy działania powinny  być zapisywane do <b>jednego</b> pliku CSV. Należy zaplanować odpowiednią strukturę kolumn takiego pliku.\n",
    "- Wczytać dane z w/w pliku do <b>jednego</b> DataFrame w języku Julia. \n",
    "- Korzystająć z mechanizmów DataFrame w języku Julia obliczyć średnią i odchylenie standardowe, w taki sposób, aby narysować wykresy średnich czasów obliczenia operacji w zależności od rozmiaru wektora. Dodać słupki błędów do obydwu wykresów uzyskanych z obliczenia odchylenia standardowego. \n",
    "- Proszę poukładac wykresy  w tabelkę za pomocą  opcji layouts: https://docs.juliaplots.org/latest/layouts/#Simple-Layouts-1.\n",
    "- Należy zadbać o staranne podpisanie osi i wykresów."
   ]
  },
  {
   "cell_type": "markdown",
   "metadata": {},
   "source": [
    "**Funkcje obliczające iloczyn skalarny wektorów oraz mnożące macierz przez wektor:**"
   ]
  },
  {
   "cell_type": "code",
   "execution_count": 49,
   "metadata": {},
   "outputs": [],
   "source": [
    "using LinearAlgebra"
   ]
  },
  {
   "cell_type": "code",
   "execution_count": 70,
   "metadata": {},
   "outputs": [
    {
     "data": {
      "text/plain": [
       "measure_dot_operation (generic function with 1 method)"
      ]
     },
     "execution_count": 70,
     "metadata": {},
     "output_type": "execute_result"
    }
   ],
   "source": [
    "function measure_dot_operation(n)\n",
    "    vector = map(x -> x + 0.1, rand(n))\n",
    "    return @elapsed dot(vector, vector)\n",
    "end"
   ]
  },
  {
   "cell_type": "code",
   "execution_count": 71,
   "metadata": {},
   "outputs": [
    {
     "data": {
      "text/plain": [
       "measure_multiplication_time (generic function with 1 method)"
      ]
     },
     "execution_count": 71,
     "metadata": {},
     "output_type": "execute_result"
    }
   ],
   "source": [
    "function measure_multiplication_time(n)\n",
    "    matrix = map(x -> x + 0.1, rand(n, n))\n",
    "    vector = map(x -> x + 0.1, rand(n))\n",
    "    return @elapsed matrix * vector\n",
    "end"
   ]
  },
  {
   "cell_type": "markdown",
   "metadata": {},
   "source": [
    "**Wczytywanie danych do DataFrame oraz pliku CSV:**"
   ]
  },
  {
   "cell_type": "code",
   "execution_count": 72,
   "metadata": {},
   "outputs": [],
   "source": [
    "using DataFrames\n",
    "using CSV"
   ]
  },
  {
   "cell_type": "code",
   "execution_count": 82,
   "metadata": {},
   "outputs": [
    {
     "data": {
      "text/plain": [
       "\"time.csv\""
      ]
     },
     "execution_count": 82,
     "metadata": {},
     "output_type": "execute_result"
    }
   ],
   "source": [
    "diff_lengths = 10\n",
    "repetitions = 10\n",
    "\n",
    "f(x, repetitions) = (div(x, repetitions) + 1) * 1000\n",
    "\n",
    "df = DataFrame(\n",
    "    n = map(x -> f(x, repetitions), 0:(diff_lengths * repetitions - 1)),\n",
    "    times_dot = map(x -> measure_dot_operation(f(x, repetitions)), 0:(diff_lengths * repetitions - 1)), \n",
    "    times_m = map(x -> measure_multiplication_time(f(x, repetitions)), 0:(diff_lengths * repetitions - 1))\n",
    ")\n",
    "\n",
    "CSV.write(\"time.csv\", df)"
   ]
  },
  {
   "cell_type": "code",
   "execution_count": 83,
   "metadata": {},
   "outputs": [
    {
     "data": {
      "text/html": [
       "<div class=\"data-frame\"><p>100 rows × 3 columns</p><table class=\"data-frame\"><thead><tr><th></th><th>n</th><th>times_dot</th><th>times_m</th></tr><tr><th></th><th title=\"Int64\">Int64</th><th title=\"Float64\">Float64</th><th title=\"Float64\">Float64</th></tr></thead><tbody><tr><th>1</th><td>1000</td><td>2.177e-6</td><td>0.000601304</td></tr><tr><th>2</th><td>1000</td><td>1.94e-7</td><td>0.000575422</td></tr><tr><th>3</th><td>1000</td><td>2.43e-7</td><td>0.000558586</td></tr><tr><th>4</th><td>1000</td><td>2.55e-7</td><td>0.000583577</td></tr><tr><th>5</th><td>1000</td><td>2.13e-7</td><td>0.000597401</td></tr><tr><th>6</th><td>1000</td><td>3.33e-7</td><td>0.000581045</td></tr><tr><th>7</th><td>1000</td><td>1.8e-7</td><td>0.000576414</td></tr><tr><th>8</th><td>1000</td><td>1.74e-7</td><td>0.000572772</td></tr><tr><th>9</th><td>1000</td><td>1.87e-7</td><td>0.000557893</td></tr><tr><th>10</th><td>1000</td><td>2.51e-7</td><td>0.000583243</td></tr><tr><th>11</th><td>2000</td><td>3.52e-7</td><td>0.00254501</td></tr><tr><th>12</th><td>2000</td><td>3.35e-7</td><td>0.0024814</td></tr><tr><th>13</th><td>2000</td><td>3.33e-7</td><td>0.00256865</td></tr><tr><th>14</th><td>2000</td><td>3.1e-7</td><td>0.00248303</td></tr><tr><th>15</th><td>2000</td><td>3.26e-7</td><td>0.00251669</td></tr><tr><th>16</th><td>2000</td><td>3.15e-7</td><td>0.00231991</td></tr><tr><th>17</th><td>2000</td><td>3.23e-7</td><td>0.00239829</td></tr><tr><th>18</th><td>2000</td><td>3.09e-7</td><td>0.00254478</td></tr><tr><th>19</th><td>2000</td><td>3.51e-7</td><td>0.00254435</td></tr><tr><th>20</th><td>2000</td><td>3.83e-7</td><td>0.00227595</td></tr><tr><th>21</th><td>3000</td><td>6.77e-7</td><td>0.00543453</td></tr><tr><th>22</th><td>3000</td><td>6.11e-7</td><td>0.00546395</td></tr><tr><th>23</th><td>3000</td><td>6.04e-7</td><td>0.00499743</td></tr><tr><th>24</th><td>3000</td><td>5.77e-7</td><td>0.00534946</td></tr><tr><th>25</th><td>3000</td><td>8.17e-7</td><td>0.0134339</td></tr><tr><th>26</th><td>3000</td><td>7.15e-7</td><td>0.0053087</td></tr><tr><th>27</th><td>3000</td><td>7.17e-7</td><td>0.00555495</td></tr><tr><th>28</th><td>3000</td><td>7.22e-7</td><td>0.00536631</td></tr><tr><th>29</th><td>3000</td><td>6.14e-7</td><td>0.00535315</td></tr><tr><th>30</th><td>3000</td><td>7.3e-7</td><td>0.00521924</td></tr><tr><th>&vellip;</th><td>&vellip;</td><td>&vellip;</td><td>&vellip;</td></tr></tbody></table></div>"
      ],
      "text/latex": [
       "\\begin{tabular}{r|ccc}\n",
       "\t& n & times\\_dot & times\\_m\\\\\n",
       "\t\\hline\n",
       "\t& Int64 & Float64 & Float64\\\\\n",
       "\t\\hline\n",
       "\t1 & 1000 & 2.177e-6 & 0.000601304 \\\\\n",
       "\t2 & 1000 & 1.94e-7 & 0.000575422 \\\\\n",
       "\t3 & 1000 & 2.43e-7 & 0.000558586 \\\\\n",
       "\t4 & 1000 & 2.55e-7 & 0.000583577 \\\\\n",
       "\t5 & 1000 & 2.13e-7 & 0.000597401 \\\\\n",
       "\t6 & 1000 & 3.33e-7 & 0.000581045 \\\\\n",
       "\t7 & 1000 & 1.8e-7 & 0.000576414 \\\\\n",
       "\t8 & 1000 & 1.74e-7 & 0.000572772 \\\\\n",
       "\t9 & 1000 & 1.87e-7 & 0.000557893 \\\\\n",
       "\t10 & 1000 & 2.51e-7 & 0.000583243 \\\\\n",
       "\t11 & 2000 & 3.52e-7 & 0.00254501 \\\\\n",
       "\t12 & 2000 & 3.35e-7 & 0.0024814 \\\\\n",
       "\t13 & 2000 & 3.33e-7 & 0.00256865 \\\\\n",
       "\t14 & 2000 & 3.1e-7 & 0.00248303 \\\\\n",
       "\t15 & 2000 & 3.26e-7 & 0.00251669 \\\\\n",
       "\t16 & 2000 & 3.15e-7 & 0.00231991 \\\\\n",
       "\t17 & 2000 & 3.23e-7 & 0.00239829 \\\\\n",
       "\t18 & 2000 & 3.09e-7 & 0.00254478 \\\\\n",
       "\t19 & 2000 & 3.51e-7 & 0.00254435 \\\\\n",
       "\t20 & 2000 & 3.83e-7 & 0.00227595 \\\\\n",
       "\t21 & 3000 & 6.77e-7 & 0.00543453 \\\\\n",
       "\t22 & 3000 & 6.11e-7 & 0.00546395 \\\\\n",
       "\t23 & 3000 & 6.04e-7 & 0.00499743 \\\\\n",
       "\t24 & 3000 & 5.77e-7 & 0.00534946 \\\\\n",
       "\t25 & 3000 & 8.17e-7 & 0.0134339 \\\\\n",
       "\t26 & 3000 & 7.15e-7 & 0.0053087 \\\\\n",
       "\t27 & 3000 & 7.17e-7 & 0.00555495 \\\\\n",
       "\t28 & 3000 & 7.22e-7 & 0.00536631 \\\\\n",
       "\t29 & 3000 & 6.14e-7 & 0.00535315 \\\\\n",
       "\t30 & 3000 & 7.3e-7 & 0.00521924 \\\\\n",
       "\t$\\dots$ & $\\dots$ & $\\dots$ & $\\dots$ \\\\\n",
       "\\end{tabular}\n"
      ],
      "text/plain": [
       "\u001b[1m100×3 DataFrame\u001b[0m\n",
       "\u001b[1m Row \u001b[0m│\u001b[1m n     \u001b[0m\u001b[1m times_dot \u001b[0m\u001b[1m times_m     \u001b[0m\n",
       "\u001b[1m     \u001b[0m│\u001b[90m Int64 \u001b[0m\u001b[90m Float64   \u001b[0m\u001b[90m Float64     \u001b[0m\n",
       "─────┼───────────────────────────────\n",
       "   1 │  1000   2.177e-6  0.000601304\n",
       "   2 │  1000   1.94e-7   0.000575422\n",
       "   3 │  1000   2.43e-7   0.000558586\n",
       "   4 │  1000   2.55e-7   0.000583577\n",
       "   5 │  1000   2.13e-7   0.000597401\n",
       "   6 │  1000   3.33e-7   0.000581045\n",
       "   7 │  1000   1.8e-7    0.000576414\n",
       "   8 │  1000   1.74e-7   0.000572772\n",
       "   9 │  1000   1.87e-7   0.000557893\n",
       "  10 │  1000   2.51e-7   0.000583243\n",
       "  11 │  2000   3.52e-7   0.00254501\n",
       "  ⋮  │   ⋮        ⋮           ⋮\n",
       "  91 │ 10000   2.571e-6  0.0701187\n",
       "  92 │ 10000   2.441e-6  0.0651785\n",
       "  93 │ 10000   2.414e-6  0.0528496\n",
       "  94 │ 10000   2.315e-6  0.0734472\n",
       "  95 │ 10000   2.35e-6   0.053325\n",
       "  96 │ 10000   2.373e-6  0.0526056\n",
       "  97 │ 10000   2.354e-6  0.0533279\n",
       "  98 │ 10000   2.492e-6  0.052579\n",
       "  99 │ 10000   2.516e-6  0.0517775\n",
       " 100 │ 10000   2.312e-6  0.0536747\n",
       "\u001b[36m                      79 rows omitted\u001b[0m"
      ]
     },
     "execution_count": 83,
     "metadata": {},
     "output_type": "execute_result"
    }
   ],
   "source": [
    "input = CSV.read(\"time.csv\", delim=\",\", DataFrame)"
   ]
  },
  {
   "cell_type": "markdown",
   "metadata": {},
   "source": [
    "**Obliczenie średniej i odchylenia standardowego:**"
   ]
  },
  {
   "cell_type": "code",
   "execution_count": 80,
   "metadata": {},
   "outputs": [],
   "source": [
    "using Statistics"
   ]
  },
  {
   "cell_type": "code",
   "execution_count": 81,
   "metadata": {},
   "outputs": [
    {
     "data": {
      "text/html": [
       "<div class=\"data-frame\"><p>10 rows × 5 columns</p><table class=\"data-frame\"><thead><tr><th></th><th>n</th><th>times_dot_mean</th><th>times_m_mean</th><th>times_dot_std</th><th>times_m_std</th></tr><tr><th></th><th title=\"Int64\">Int64</th><th title=\"Float64\">Float64</th><th title=\"Float64\">Float64</th><th title=\"Float64\">Float64</th><th title=\"Float64\">Float64</th></tr></thead><tbody><tr><th>1</th><td>1000</td><td>3.873e-7</td><td>0.00226873</td><td>6.08181e-7</td><td>0.00400832</td></tr><tr><th>2</th><td>2000</td><td>3.268e-7</td><td>0.00246523</td><td>4.12251e-8</td><td>0.000164745</td></tr><tr><th>3</th><td>3000</td><td>6.023e-7</td><td>0.0068542</td><td>6.37688e-8</td><td>0.00503308</td></tr><tr><th>4</th><td>4000</td><td>8.71e-7</td><td>0.00944959</td><td>8.73473e-8</td><td>0.00145039</td></tr><tr><th>5</th><td>5000</td><td>1.0904e-6</td><td>0.0144468</td><td>2.11985e-8</td><td>0.00134954</td></tr><tr><th>6</th><td>6000</td><td>1.2716e-6</td><td>0.0197243</td><td>2.76132e-8</td><td>0.000247265</td></tr><tr><th>7</th><td>7000</td><td>1.5504e-6</td><td>0.0268774</td><td>1.20372e-7</td><td>0.00174874</td></tr><tr><th>8</th><td>8000</td><td>1.7442e-6</td><td>0.0323268</td><td>6.85643e-8</td><td>0.000317058</td></tr><tr><th>9</th><td>9000</td><td>1.9287e-6</td><td>0.0423901</td><td>9.14124e-8</td><td>0.000713462</td></tr><tr><th>10</th><td>10000</td><td>2.1591e-6</td><td>0.0532076</td><td>7.84311e-8</td><td>0.00123825</td></tr></tbody></table></div>"
      ],
      "text/latex": [
       "\\begin{tabular}{r|ccccc}\n",
       "\t& n & times\\_dot\\_mean & times\\_m\\_mean & times\\_dot\\_std & times\\_m\\_std\\\\\n",
       "\t\\hline\n",
       "\t& Int64 & Float64 & Float64 & Float64 & Float64\\\\\n",
       "\t\\hline\n",
       "\t1 & 1000 & 3.873e-7 & 0.00226873 & 6.08181e-7 & 0.00400832 \\\\\n",
       "\t2 & 2000 & 3.268e-7 & 0.00246523 & 4.12251e-8 & 0.000164745 \\\\\n",
       "\t3 & 3000 & 6.023e-7 & 0.0068542 & 6.37688e-8 & 0.00503308 \\\\\n",
       "\t4 & 4000 & 8.71e-7 & 0.00944959 & 8.73473e-8 & 0.00145039 \\\\\n",
       "\t5 & 5000 & 1.0904e-6 & 0.0144468 & 2.11985e-8 & 0.00134954 \\\\\n",
       "\t6 & 6000 & 1.2716e-6 & 0.0197243 & 2.76132e-8 & 0.000247265 \\\\\n",
       "\t7 & 7000 & 1.5504e-6 & 0.0268774 & 1.20372e-7 & 0.00174874 \\\\\n",
       "\t8 & 8000 & 1.7442e-6 & 0.0323268 & 6.85643e-8 & 0.000317058 \\\\\n",
       "\t9 & 9000 & 1.9287e-6 & 0.0423901 & 9.14124e-8 & 0.000713462 \\\\\n",
       "\t10 & 10000 & 2.1591e-6 & 0.0532076 & 7.84311e-8 & 0.00123825 \\\\\n",
       "\\end{tabular}\n"
      ],
      "text/plain": [
       "\u001b[1m10×5 DataFrame\u001b[0m\n",
       "\u001b[1m Row \u001b[0m│\u001b[1m n     \u001b[0m\u001b[1m times_dot_mean \u001b[0m\u001b[1m times_m_mean \u001b[0m\u001b[1m times_dot_std \u001b[0m\u001b[1m times_m_std \u001b[0m\n",
       "\u001b[1m     \u001b[0m│\u001b[90m Int64 \u001b[0m\u001b[90m Float64        \u001b[0m\u001b[90m Float64      \u001b[0m\u001b[90m Float64       \u001b[0m\u001b[90m Float64     \u001b[0m\n",
       "─────┼─────────────────────────────────────────────────────────────────\n",
       "   1 │  1000       3.873e-7     0.00226873     6.08181e-7  0.00400832\n",
       "   2 │  2000       3.268e-7     0.00246523     4.12251e-8  0.000164745\n",
       "   3 │  3000       6.023e-7     0.0068542      6.37688e-8  0.00503308\n",
       "   4 │  4000       8.71e-7      0.00944959     8.73473e-8  0.00145039\n",
       "   5 │  5000       1.0904e-6    0.0144468      2.11985e-8  0.00134954\n",
       "   6 │  6000       1.2716e-6    0.0197243      2.76132e-8  0.000247265\n",
       "   7 │  7000       1.5504e-6    0.0268774      1.20372e-7  0.00174874\n",
       "   8 │  8000       1.7442e-6    0.0323268      6.85643e-8  0.000317058\n",
       "   9 │  9000       1.9287e-6    0.0423901      9.14124e-8  0.000713462\n",
       "  10 │ 10000       2.1591e-6    0.0532076      7.84311e-8  0.00123825"
      ]
     },
     "execution_count": 81,
     "metadata": {},
     "output_type": "execute_result"
    }
   ],
   "source": [
    "stats = combine(\n",
    "    groupby(input, :n),\n",
    "    \"times_dot\" => mean,\n",
    "    \"times_m\" => mean,\n",
    "    \"times_dot\" => std,\n",
    "    \"times_m\" => std\n",
    ")"
   ]
  },
  {
   "cell_type": "markdown",
   "metadata": {},
   "source": [
    "**Wykresy:**"
   ]
  },
  {
   "cell_type": "code",
   "execution_count": 92,
   "metadata": {},
   "outputs": [
    {
     "data": {
      "image/svg+xml": [
       "<?xml version=\"1.0\" encoding=\"utf-8\"?>\n",
       "<svg xmlns=\"http://www.w3.org/2000/svg\" xmlns:xlink=\"http://www.w3.org/1999/xlink\" width=\"600\" height=\"400\" viewBox=\"0 0 2400 1600\">\n",
       "<defs>\n",
       "  <clipPath id=\"clip730\">\n",
       "    <rect x=\"0\" y=\"0\" width=\"2400\" height=\"1600\"/>\n",
       "  </clipPath>\n",
       "</defs>\n",
       "<path clip-path=\"url(#clip730)\" d=\"\n",
       "M0 1600 L2400 1600 L2400 0 L0 0  Z\n",
       "  \" fill=\"#ffffff\" fill-rule=\"evenodd\" fill-opacity=\"1\"/>\n",
       "<defs>\n",
       "  <clipPath id=\"clip731\">\n",
       "    <rect x=\"480\" y=\"0\" width=\"1681\" height=\"1600\"/>\n",
       "  </clipPath>\n",
       "</defs>\n",
       "<path clip-path=\"url(#clip730)\" d=\"\n",
       "M250.028 1423.18 L2352.76 1423.18 L2352.76 123.472 L250.028 123.472  Z\n",
       "  \" fill=\"#ffffff\" fill-rule=\"evenodd\" fill-opacity=\"1\"/>\n",
       "<defs>\n",
       "  <clipPath id=\"clip732\">\n",
       "    <rect x=\"250\" y=\"123\" width=\"2104\" height=\"1301\"/>\n",
       "  </clipPath>\n",
       "</defs>\n",
       "<polyline clip-path=\"url(#clip732)\" style=\"stroke:#000000; stroke-linecap:butt; stroke-linejoin:round; stroke-width:2; stroke-opacity:0.1; fill:none\" points=\"\n",
       "  529.951,1423.18 529.951,123.472 \n",
       "  \"/>\n",
       "<polyline clip-path=\"url(#clip732)\" style=\"stroke:#000000; stroke-linecap:butt; stroke-linejoin:round; stroke-width:2; stroke-opacity:0.1; fill:none\" points=\"\n",
       "  970.774,1423.18 970.774,123.472 \n",
       "  \"/>\n",
       "<polyline clip-path=\"url(#clip732)\" style=\"stroke:#000000; stroke-linecap:butt; stroke-linejoin:round; stroke-width:2; stroke-opacity:0.1; fill:none\" points=\"\n",
       "  1411.6,1423.18 1411.6,123.472 \n",
       "  \"/>\n",
       "<polyline clip-path=\"url(#clip732)\" style=\"stroke:#000000; stroke-linecap:butt; stroke-linejoin:round; stroke-width:2; stroke-opacity:0.1; fill:none\" points=\"\n",
       "  1852.42,1423.18 1852.42,123.472 \n",
       "  \"/>\n",
       "<polyline clip-path=\"url(#clip732)\" style=\"stroke:#000000; stroke-linecap:butt; stroke-linejoin:round; stroke-width:2; stroke-opacity:0.1; fill:none\" points=\"\n",
       "  2293.24,1423.18 2293.24,123.472 \n",
       "  \"/>\n",
       "<polyline clip-path=\"url(#clip730)\" style=\"stroke:#000000; stroke-linecap:butt; stroke-linejoin:round; stroke-width:4; stroke-opacity:1; fill:none\" points=\"\n",
       "  250.028,1423.18 2352.76,1423.18 \n",
       "  \"/>\n",
       "<polyline clip-path=\"url(#clip730)\" style=\"stroke:#000000; stroke-linecap:butt; stroke-linejoin:round; stroke-width:4; stroke-opacity:1; fill:none\" points=\"\n",
       "  529.951,1423.18 529.951,1404.28 \n",
       "  \"/>\n",
       "<polyline clip-path=\"url(#clip730)\" style=\"stroke:#000000; stroke-linecap:butt; stroke-linejoin:round; stroke-width:4; stroke-opacity:1; fill:none\" points=\"\n",
       "  970.774,1423.18 970.774,1404.28 \n",
       "  \"/>\n",
       "<polyline clip-path=\"url(#clip730)\" style=\"stroke:#000000; stroke-linecap:butt; stroke-linejoin:round; stroke-width:4; stroke-opacity:1; fill:none\" points=\"\n",
       "  1411.6,1423.18 1411.6,1404.28 \n",
       "  \"/>\n",
       "<polyline clip-path=\"url(#clip730)\" style=\"stroke:#000000; stroke-linecap:butt; stroke-linejoin:round; stroke-width:4; stroke-opacity:1; fill:none\" points=\"\n",
       "  1852.42,1423.18 1852.42,1404.28 \n",
       "  \"/>\n",
       "<polyline clip-path=\"url(#clip730)\" style=\"stroke:#000000; stroke-linecap:butt; stroke-linejoin:round; stroke-width:4; stroke-opacity:1; fill:none\" points=\"\n",
       "  2293.24,1423.18 2293.24,1404.28 \n",
       "  \"/>\n",
       "<path clip-path=\"url(#clip730)\" d=\"M478.562 1481.64 L494.882 1481.64 L494.882 1485.58 L472.937 1485.58 L472.937 1481.64 Q475.599 1478.89 480.183 1474.26 Q484.789 1469.61 485.97 1468.27 Q488.215 1465.74 489.095 1464.01 Q489.998 1462.25 489.998 1460.56 Q489.998 1457.8 488.053 1456.07 Q486.132 1454.33 483.03 1454.33 Q480.831 1454.33 478.377 1455.09 Q475.947 1455.86 473.169 1457.41 L473.169 1452.69 Q475.993 1451.55 478.447 1450.97 Q480.9 1450.39 482.937 1450.39 Q488.308 1450.39 491.502 1453.08 Q494.697 1455.77 494.697 1460.26 Q494.697 1462.39 493.886 1464.31 Q493.099 1466.2 490.993 1468.8 Q490.414 1469.47 487.312 1472.69 Q484.211 1475.88 478.562 1481.64 Z\" fill=\"#000000\" fill-rule=\"evenodd\" fill-opacity=\"1\" /><path clip-path=\"url(#clip730)\" d=\"M514.696 1454.1 Q511.085 1454.1 509.257 1457.66 Q507.451 1461.2 507.451 1468.33 Q507.451 1475.44 509.257 1479.01 Q511.085 1482.55 514.696 1482.55 Q518.331 1482.55 520.136 1479.01 Q521.965 1475.44 521.965 1468.33 Q521.965 1461.2 520.136 1457.66 Q518.331 1454.1 514.696 1454.1 M514.696 1450.39 Q520.507 1450.39 523.562 1455 Q526.641 1459.58 526.641 1468.33 Q526.641 1477.06 523.562 1481.67 Q520.507 1486.25 514.696 1486.25 Q508.886 1486.25 505.808 1481.67 Q502.752 1477.06 502.752 1468.33 Q502.752 1459.58 505.808 1455 Q508.886 1450.39 514.696 1450.39 Z\" fill=\"#000000\" fill-rule=\"evenodd\" fill-opacity=\"1\" /><path clip-path=\"url(#clip730)\" d=\"M544.858 1454.1 Q541.247 1454.1 539.419 1457.66 Q537.613 1461.2 537.613 1468.33 Q537.613 1475.44 539.419 1479.01 Q541.247 1482.55 544.858 1482.55 Q548.493 1482.55 550.298 1479.01 Q552.127 1475.44 552.127 1468.33 Q552.127 1461.2 550.298 1457.66 Q548.493 1454.1 544.858 1454.1 M544.858 1450.39 Q550.669 1450.39 553.724 1455 Q556.803 1459.58 556.803 1468.33 Q556.803 1477.06 553.724 1481.67 Q550.669 1486.25 544.858 1486.25 Q539.048 1486.25 535.97 1481.67 Q532.914 1477.06 532.914 1468.33 Q532.914 1459.58 535.97 1455 Q539.048 1450.39 544.858 1450.39 Z\" fill=\"#000000\" fill-rule=\"evenodd\" fill-opacity=\"1\" /><path clip-path=\"url(#clip730)\" d=\"M575.02 1454.1 Q571.409 1454.1 569.58 1457.66 Q567.775 1461.2 567.775 1468.33 Q567.775 1475.44 569.58 1479.01 Q571.409 1482.55 575.02 1482.55 Q578.654 1482.55 580.46 1479.01 Q582.289 1475.44 582.289 1468.33 Q582.289 1461.2 580.46 1457.66 Q578.654 1454.1 575.02 1454.1 M575.02 1450.39 Q580.83 1450.39 583.886 1455 Q586.965 1459.58 586.965 1468.33 Q586.965 1477.06 583.886 1481.67 Q580.83 1486.25 575.02 1486.25 Q569.21 1486.25 566.131 1481.67 Q563.076 1477.06 563.076 1468.33 Q563.076 1459.58 566.131 1455 Q569.21 1450.39 575.02 1450.39 Z\" fill=\"#000000\" fill-rule=\"evenodd\" fill-opacity=\"1\" /><path clip-path=\"url(#clip730)\" d=\"M928.784 1455.09 L916.978 1473.54 L928.784 1473.54 L928.784 1455.09 M927.557 1451.02 L933.437 1451.02 L933.437 1473.54 L938.367 1473.54 L938.367 1477.43 L933.437 1477.43 L933.437 1485.58 L928.784 1485.58 L928.784 1477.43 L913.182 1477.43 L913.182 1472.92 L927.557 1451.02 Z\" fill=\"#000000\" fill-rule=\"evenodd\" fill-opacity=\"1\" /><path clip-path=\"url(#clip730)\" d=\"M956.099 1454.1 Q952.488 1454.1 950.659 1457.66 Q948.853 1461.2 948.853 1468.33 Q948.853 1475.44 950.659 1479.01 Q952.488 1482.55 956.099 1482.55 Q959.733 1482.55 961.538 1479.01 Q963.367 1475.44 963.367 1468.33 Q963.367 1461.2 961.538 1457.66 Q959.733 1454.1 956.099 1454.1 M956.099 1450.39 Q961.909 1450.39 964.964 1455 Q968.043 1459.58 968.043 1468.33 Q968.043 1477.06 964.964 1481.67 Q961.909 1486.25 956.099 1486.25 Q950.288 1486.25 947.21 1481.67 Q944.154 1477.06 944.154 1468.33 Q944.154 1459.58 947.21 1455 Q950.288 1450.39 956.099 1450.39 Z\" fill=\"#000000\" fill-rule=\"evenodd\" fill-opacity=\"1\" /><path clip-path=\"url(#clip730)\" d=\"M986.26 1454.1 Q982.649 1454.1 980.821 1457.66 Q979.015 1461.2 979.015 1468.33 Q979.015 1475.44 980.821 1479.01 Q982.649 1482.55 986.26 1482.55 Q989.895 1482.55 991.7 1479.01 Q993.529 1475.44 993.529 1468.33 Q993.529 1461.2 991.7 1457.66 Q989.895 1454.1 986.26 1454.1 M986.26 1450.39 Q992.071 1450.39 995.126 1455 Q998.205 1459.58 998.205 1468.33 Q998.205 1477.06 995.126 1481.67 Q992.071 1486.25 986.26 1486.25 Q980.45 1486.25 977.372 1481.67 Q974.316 1477.06 974.316 1468.33 Q974.316 1459.58 977.372 1455 Q980.45 1450.39 986.26 1450.39 Z\" fill=\"#000000\" fill-rule=\"evenodd\" fill-opacity=\"1\" /><path clip-path=\"url(#clip730)\" d=\"M1016.42 1454.1 Q1012.81 1454.1 1010.98 1457.66 Q1009.18 1461.2 1009.18 1468.33 Q1009.18 1475.44 1010.98 1479.01 Q1012.81 1482.55 1016.42 1482.55 Q1020.06 1482.55 1021.86 1479.01 Q1023.69 1475.44 1023.69 1468.33 Q1023.69 1461.2 1021.86 1457.66 Q1020.06 1454.1 1016.42 1454.1 M1016.42 1450.39 Q1022.23 1450.39 1025.29 1455 Q1028.37 1459.58 1028.37 1468.33 Q1028.37 1477.06 1025.29 1481.67 Q1022.23 1486.25 1016.42 1486.25 Q1010.61 1486.25 1007.53 1481.67 Q1004.48 1477.06 1004.48 1468.33 Q1004.48 1459.58 1007.53 1455 Q1010.61 1450.39 1016.42 1450.39 Z\" fill=\"#000000\" fill-rule=\"evenodd\" fill-opacity=\"1\" /><path clip-path=\"url(#clip730)\" d=\"M1366.84 1466.44 Q1363.69 1466.44 1361.84 1468.59 Q1360.01 1470.74 1360.01 1474.49 Q1360.01 1478.22 1361.84 1480.39 Q1363.69 1482.55 1366.84 1482.55 Q1369.99 1482.55 1371.82 1480.39 Q1373.67 1478.22 1373.67 1474.49 Q1373.67 1470.74 1371.82 1468.59 Q1369.99 1466.44 1366.84 1466.44 M1376.12 1451.78 L1376.12 1456.04 Q1374.36 1455.21 1372.56 1454.77 Q1370.78 1454.33 1369.02 1454.33 Q1364.39 1454.33 1361.93 1457.45 Q1359.5 1460.58 1359.16 1466.9 Q1360.52 1464.89 1362.58 1463.82 Q1364.64 1462.73 1367.12 1462.73 Q1372.33 1462.73 1375.34 1465.9 Q1378.37 1469.05 1378.37 1474.49 Q1378.37 1479.82 1375.22 1483.03 Q1372.07 1486.25 1366.84 1486.25 Q1360.85 1486.25 1357.67 1481.67 Q1354.5 1477.06 1354.5 1468.33 Q1354.5 1460.14 1358.39 1455.28 Q1362.28 1450.39 1368.83 1450.39 Q1370.59 1450.39 1372.37 1450.74 Q1374.18 1451.09 1376.12 1451.78 Z\" fill=\"#000000\" fill-rule=\"evenodd\" fill-opacity=\"1\" /><path clip-path=\"url(#clip730)\" d=\"M1396.42 1454.1 Q1392.81 1454.1 1390.98 1457.66 Q1389.18 1461.2 1389.18 1468.33 Q1389.18 1475.44 1390.98 1479.01 Q1392.81 1482.55 1396.42 1482.55 Q1400.06 1482.55 1401.86 1479.01 Q1403.69 1475.44 1403.69 1468.33 Q1403.69 1461.2 1401.86 1457.66 Q1400.06 1454.1 1396.42 1454.1 M1396.42 1450.39 Q1402.23 1450.39 1405.29 1455 Q1408.37 1459.58 1408.37 1468.33 Q1408.37 1477.06 1405.29 1481.67 Q1402.23 1486.25 1396.42 1486.25 Q1390.61 1486.25 1387.54 1481.67 Q1384.48 1477.06 1384.48 1468.33 Q1384.48 1459.58 1387.54 1455 Q1390.61 1450.39 1396.42 1450.39 Z\" fill=\"#000000\" fill-rule=\"evenodd\" fill-opacity=\"1\" /><path clip-path=\"url(#clip730)\" d=\"M1426.59 1454.1 Q1422.98 1454.1 1421.15 1457.66 Q1419.34 1461.2 1419.34 1468.33 Q1419.34 1475.44 1421.15 1479.01 Q1422.98 1482.55 1426.59 1482.55 Q1430.22 1482.55 1432.03 1479.01 Q1433.85 1475.44 1433.85 1468.33 Q1433.85 1461.2 1432.03 1457.66 Q1430.22 1454.1 1426.59 1454.1 M1426.59 1450.39 Q1432.4 1450.39 1435.45 1455 Q1438.53 1459.58 1438.53 1468.33 Q1438.53 1477.06 1435.45 1481.67 Q1432.4 1486.25 1426.59 1486.25 Q1420.78 1486.25 1417.7 1481.67 Q1414.64 1477.06 1414.64 1468.33 Q1414.64 1459.58 1417.7 1455 Q1420.78 1450.39 1426.59 1450.39 Z\" fill=\"#000000\" fill-rule=\"evenodd\" fill-opacity=\"1\" /><path clip-path=\"url(#clip730)\" d=\"M1456.75 1454.1 Q1453.14 1454.1 1451.31 1457.66 Q1449.5 1461.2 1449.5 1468.33 Q1449.5 1475.44 1451.31 1479.01 Q1453.14 1482.55 1456.75 1482.55 Q1460.38 1482.55 1462.19 1479.01 Q1464.02 1475.44 1464.02 1468.33 Q1464.02 1461.2 1462.19 1457.66 Q1460.38 1454.1 1456.75 1454.1 M1456.75 1450.39 Q1462.56 1450.39 1465.61 1455 Q1468.69 1459.58 1468.69 1468.33 Q1468.69 1477.06 1465.61 1481.67 Q1462.56 1486.25 1456.75 1486.25 Q1450.94 1486.25 1447.86 1481.67 Q1444.8 1477.06 1444.8 1468.33 Q1444.8 1459.58 1447.86 1455 Q1450.94 1450.39 1456.75 1450.39 Z\" fill=\"#000000\" fill-rule=\"evenodd\" fill-opacity=\"1\" /><path clip-path=\"url(#clip730)\" d=\"M1807.13 1469.17 Q1803.8 1469.17 1801.88 1470.95 Q1799.98 1472.73 1799.98 1475.86 Q1799.98 1478.98 1801.88 1480.77 Q1803.8 1482.55 1807.13 1482.55 Q1810.47 1482.55 1812.39 1480.77 Q1814.31 1478.96 1814.31 1475.86 Q1814.31 1472.73 1812.39 1470.95 Q1810.49 1469.17 1807.13 1469.17 M1802.46 1467.18 Q1799.45 1466.44 1797.76 1464.38 Q1796.09 1462.32 1796.09 1459.35 Q1796.09 1455.21 1799.03 1452.8 Q1801.99 1450.39 1807.13 1450.39 Q1812.29 1450.39 1815.23 1452.8 Q1818.17 1455.21 1818.17 1459.35 Q1818.17 1462.32 1816.48 1464.38 Q1814.82 1466.44 1811.83 1467.18 Q1815.21 1467.96 1817.09 1470.26 Q1818.98 1472.55 1818.98 1475.86 Q1818.98 1480.88 1815.91 1483.57 Q1812.85 1486.25 1807.13 1486.25 Q1801.41 1486.25 1798.34 1483.57 Q1795.28 1480.88 1795.28 1475.86 Q1795.28 1472.55 1797.18 1470.26 Q1799.08 1467.96 1802.46 1467.18 M1800.74 1459.79 Q1800.74 1462.48 1802.41 1463.98 Q1804.1 1465.49 1807.13 1465.49 Q1810.14 1465.49 1811.83 1463.98 Q1813.54 1462.48 1813.54 1459.79 Q1813.54 1457.11 1811.83 1455.6 Q1810.14 1454.1 1807.13 1454.1 Q1804.1 1454.1 1802.41 1455.6 Q1800.74 1457.11 1800.74 1459.79 Z\" fill=\"#000000\" fill-rule=\"evenodd\" fill-opacity=\"1\" /><path clip-path=\"url(#clip730)\" d=\"M1837.29 1454.1 Q1833.68 1454.1 1831.85 1457.66 Q1830.05 1461.2 1830.05 1468.33 Q1830.05 1475.44 1831.85 1479.01 Q1833.68 1482.55 1837.29 1482.55 Q1840.93 1482.55 1842.73 1479.01 Q1844.56 1475.44 1844.56 1468.33 Q1844.56 1461.2 1842.73 1457.66 Q1840.93 1454.1 1837.29 1454.1 M1837.29 1450.39 Q1843.1 1450.39 1846.16 1455 Q1849.24 1459.58 1849.24 1468.33 Q1849.24 1477.06 1846.16 1481.67 Q1843.1 1486.25 1837.29 1486.25 Q1831.48 1486.25 1828.41 1481.67 Q1825.35 1477.06 1825.35 1468.33 Q1825.35 1459.58 1828.41 1455 Q1831.48 1450.39 1837.29 1450.39 Z\" fill=\"#000000\" fill-rule=\"evenodd\" fill-opacity=\"1\" /><path clip-path=\"url(#clip730)\" d=\"M1867.46 1454.1 Q1863.84 1454.1 1862.02 1457.66 Q1860.21 1461.2 1860.21 1468.33 Q1860.21 1475.44 1862.02 1479.01 Q1863.84 1482.55 1867.46 1482.55 Q1871.09 1482.55 1872.9 1479.01 Q1874.72 1475.44 1874.72 1468.33 Q1874.72 1461.2 1872.9 1457.66 Q1871.09 1454.1 1867.46 1454.1 M1867.46 1450.39 Q1873.27 1450.39 1876.32 1455 Q1879.4 1459.58 1879.4 1468.33 Q1879.4 1477.06 1876.32 1481.67 Q1873.27 1486.25 1867.46 1486.25 Q1861.65 1486.25 1858.57 1481.67 Q1855.51 1477.06 1855.51 1468.33 Q1855.51 1459.58 1858.57 1455 Q1861.65 1450.39 1867.46 1450.39 Z\" fill=\"#000000\" fill-rule=\"evenodd\" fill-opacity=\"1\" /><path clip-path=\"url(#clip730)\" d=\"M1897.62 1454.1 Q1894.01 1454.1 1892.18 1457.66 Q1890.37 1461.2 1890.37 1468.33 Q1890.37 1475.44 1892.18 1479.01 Q1894.01 1482.55 1897.62 1482.55 Q1901.25 1482.55 1903.06 1479.01 Q1904.89 1475.44 1904.89 1468.33 Q1904.89 1461.2 1903.06 1457.66 Q1901.25 1454.1 1897.62 1454.1 M1897.62 1450.39 Q1903.43 1450.39 1906.48 1455 Q1909.56 1459.58 1909.56 1468.33 Q1909.56 1477.06 1906.48 1481.67 Q1903.43 1486.25 1897.62 1486.25 Q1891.81 1486.25 1888.73 1481.67 Q1885.67 1477.06 1885.67 1468.33 Q1885.67 1459.58 1888.73 1455 Q1891.81 1450.39 1897.62 1450.39 Z\" fill=\"#000000\" fill-rule=\"evenodd\" fill-opacity=\"1\" /><path clip-path=\"url(#clip730)\" d=\"M2222.69 1481.64 L2230.33 1481.64 L2230.33 1455.28 L2222.02 1456.95 L2222.02 1452.69 L2230.28 1451.02 L2234.96 1451.02 L2234.96 1481.64 L2242.6 1481.64 L2242.6 1485.58 L2222.69 1485.58 L2222.69 1481.64 Z\" fill=\"#000000\" fill-rule=\"evenodd\" fill-opacity=\"1\" /><path clip-path=\"url(#clip730)\" d=\"M2262.04 1454.1 Q2258.43 1454.1 2256.6 1457.66 Q2254.8 1461.2 2254.8 1468.33 Q2254.8 1475.44 2256.6 1479.01 Q2258.43 1482.55 2262.04 1482.55 Q2265.68 1482.55 2267.48 1479.01 Q2269.31 1475.44 2269.31 1468.33 Q2269.31 1461.2 2267.48 1457.66 Q2265.68 1454.1 2262.04 1454.1 M2262.04 1450.39 Q2267.85 1450.39 2270.91 1455 Q2273.99 1459.58 2273.99 1468.33 Q2273.99 1477.06 2270.91 1481.67 Q2267.85 1486.25 2262.04 1486.25 Q2256.23 1486.25 2253.15 1481.67 Q2250.1 1477.06 2250.1 1468.33 Q2250.1 1459.58 2253.15 1455 Q2256.23 1450.39 2262.04 1450.39 Z\" fill=\"#000000\" fill-rule=\"evenodd\" fill-opacity=\"1\" /><path clip-path=\"url(#clip730)\" d=\"M2292.2 1454.1 Q2288.59 1454.1 2286.76 1457.66 Q2284.96 1461.2 2284.96 1468.33 Q2284.96 1475.44 2286.76 1479.01 Q2288.59 1482.55 2292.2 1482.55 Q2295.84 1482.55 2297.64 1479.01 Q2299.47 1475.44 2299.47 1468.33 Q2299.47 1461.2 2297.64 1457.66 Q2295.84 1454.1 2292.2 1454.1 M2292.2 1450.39 Q2298.01 1450.39 2301.07 1455 Q2304.15 1459.58 2304.15 1468.33 Q2304.15 1477.06 2301.07 1481.67 Q2298.01 1486.25 2292.2 1486.25 Q2286.39 1486.25 2283.31 1481.67 Q2280.26 1477.06 2280.26 1468.33 Q2280.26 1459.58 2283.31 1455 Q2286.39 1450.39 2292.2 1450.39 Z\" fill=\"#000000\" fill-rule=\"evenodd\" fill-opacity=\"1\" /><path clip-path=\"url(#clip730)\" d=\"M2322.36 1454.1 Q2318.75 1454.1 2316.93 1457.66 Q2315.12 1461.2 2315.12 1468.33 Q2315.12 1475.44 2316.93 1479.01 Q2318.75 1482.55 2322.36 1482.55 Q2326 1482.55 2327.8 1479.01 Q2329.63 1475.44 2329.63 1468.33 Q2329.63 1461.2 2327.8 1457.66 Q2326 1454.1 2322.36 1454.1 M2322.36 1450.39 Q2328.18 1450.39 2331.23 1455 Q2334.31 1459.58 2334.31 1468.33 Q2334.31 1477.06 2331.23 1481.67 Q2328.18 1486.25 2322.36 1486.25 Q2316.55 1486.25 2313.48 1481.67 Q2310.42 1477.06 2310.42 1468.33 Q2310.42 1459.58 2313.48 1455 Q2316.55 1450.39 2322.36 1450.39 Z\" fill=\"#000000\" fill-rule=\"evenodd\" fill-opacity=\"1\" /><path clip-path=\"url(#clip730)\" d=\"M2352.53 1454.1 Q2348.92 1454.1 2347.09 1457.66 Q2345.28 1461.2 2345.28 1468.33 Q2345.28 1475.44 2347.09 1479.01 Q2348.92 1482.55 2352.53 1482.55 Q2356.16 1482.55 2357.97 1479.01 Q2359.8 1475.44 2359.8 1468.33 Q2359.8 1461.2 2357.97 1457.66 Q2356.16 1454.1 2352.53 1454.1 M2352.53 1450.39 Q2358.34 1450.39 2361.39 1455 Q2364.47 1459.58 2364.47 1468.33 Q2364.47 1477.06 2361.39 1481.67 Q2358.34 1486.25 2352.53 1486.25 Q2346.72 1486.25 2343.64 1481.67 Q2340.58 1477.06 2340.58 1468.33 Q2340.58 1459.58 2343.64 1455 Q2346.72 1450.39 2352.53 1450.39 Z\" fill=\"#000000\" fill-rule=\"evenodd\" fill-opacity=\"1\" /><path clip-path=\"url(#clip730)\" d=\"M1316.32 1546.53 L1316.32 1568.04 L1310.46 1568.04 L1310.46 1546.72 Q1310.46 1541.66 1308.49 1539.14 Q1306.52 1536.63 1302.57 1536.63 Q1297.83 1536.63 1295.09 1539.65 Q1292.35 1542.68 1292.35 1547.9 L1292.35 1568.04 L1286.46 1568.04 L1286.46 1532.4 L1292.35 1532.4 L1292.35 1537.93 Q1294.45 1534.72 1297.29 1533.13 Q1300.15 1531.54 1303.87 1531.54 Q1310.02 1531.54 1313.17 1535.36 Q1316.32 1539.14 1316.32 1546.53 Z\" fill=\"#000000\" fill-rule=\"evenodd\" fill-opacity=\"1\" /><polyline clip-path=\"url(#clip732)\" style=\"stroke:#000000; stroke-linecap:butt; stroke-linejoin:round; stroke-width:2; stroke-opacity:0.1; fill:none\" points=\"\n",
       "  250.028,1348.43 2352.76,1348.43 \n",
       "  \"/>\n",
       "<polyline clip-path=\"url(#clip732)\" style=\"stroke:#000000; stroke-linecap:butt; stroke-linejoin:round; stroke-width:2; stroke-opacity:0.1; fill:none\" points=\"\n",
       "  250.028,1130.2 2352.76,1130.2 \n",
       "  \"/>\n",
       "<polyline clip-path=\"url(#clip732)\" style=\"stroke:#000000; stroke-linecap:butt; stroke-linejoin:round; stroke-width:2; stroke-opacity:0.1; fill:none\" points=\"\n",
       "  250.028,911.971 2352.76,911.971 \n",
       "  \"/>\n",
       "<polyline clip-path=\"url(#clip732)\" style=\"stroke:#000000; stroke-linecap:butt; stroke-linejoin:round; stroke-width:2; stroke-opacity:0.1; fill:none\" points=\"\n",
       "  250.028,693.74 2352.76,693.74 \n",
       "  \"/>\n",
       "<polyline clip-path=\"url(#clip732)\" style=\"stroke:#000000; stroke-linecap:butt; stroke-linejoin:round; stroke-width:2; stroke-opacity:0.1; fill:none\" points=\"\n",
       "  250.028,475.509 2352.76,475.509 \n",
       "  \"/>\n",
       "<polyline clip-path=\"url(#clip732)\" style=\"stroke:#000000; stroke-linecap:butt; stroke-linejoin:round; stroke-width:2; stroke-opacity:0.1; fill:none\" points=\"\n",
       "  250.028,257.278 2352.76,257.278 \n",
       "  \"/>\n",
       "<polyline clip-path=\"url(#clip730)\" style=\"stroke:#000000; stroke-linecap:butt; stroke-linejoin:round; stroke-width:4; stroke-opacity:1; fill:none\" points=\"\n",
       "  250.028,1423.18 250.028,123.472 \n",
       "  \"/>\n",
       "<polyline clip-path=\"url(#clip730)\" style=\"stroke:#000000; stroke-linecap:butt; stroke-linejoin:round; stroke-width:4; stroke-opacity:1; fill:none\" points=\"\n",
       "  250.028,1348.43 268.926,1348.43 \n",
       "  \"/>\n",
       "<polyline clip-path=\"url(#clip730)\" style=\"stroke:#000000; stroke-linecap:butt; stroke-linejoin:round; stroke-width:4; stroke-opacity:1; fill:none\" points=\"\n",
       "  250.028,1130.2 268.926,1130.2 \n",
       "  \"/>\n",
       "<polyline clip-path=\"url(#clip730)\" style=\"stroke:#000000; stroke-linecap:butt; stroke-linejoin:round; stroke-width:4; stroke-opacity:1; fill:none\" points=\"\n",
       "  250.028,911.971 268.926,911.971 \n",
       "  \"/>\n",
       "<polyline clip-path=\"url(#clip730)\" style=\"stroke:#000000; stroke-linecap:butt; stroke-linejoin:round; stroke-width:4; stroke-opacity:1; fill:none\" points=\"\n",
       "  250.028,693.74 268.926,693.74 \n",
       "  \"/>\n",
       "<polyline clip-path=\"url(#clip730)\" style=\"stroke:#000000; stroke-linecap:butt; stroke-linejoin:round; stroke-width:4; stroke-opacity:1; fill:none\" points=\"\n",
       "  250.028,475.509 268.926,475.509 \n",
       "  \"/>\n",
       "<polyline clip-path=\"url(#clip730)\" style=\"stroke:#000000; stroke-linecap:butt; stroke-linejoin:round; stroke-width:4; stroke-opacity:1; fill:none\" points=\"\n",
       "  250.028,257.278 268.926,257.278 \n",
       "  \"/>\n",
       "<path clip-path=\"url(#clip730)\" d=\"M126.691 1334.23 Q123.08 1334.23 121.251 1337.8 Q119.445 1341.34 119.445 1348.47 Q119.445 1355.57 121.251 1359.14 Q123.08 1362.68 126.691 1362.68 Q130.325 1362.68 132.13 1359.14 Q133.959 1355.57 133.959 1348.47 Q133.959 1341.34 132.13 1337.8 Q130.325 1334.23 126.691 1334.23 M126.691 1330.53 Q132.501 1330.53 135.556 1335.13 Q138.635 1339.72 138.635 1348.47 Q138.635 1357.19 135.556 1361.8 Q132.501 1366.38 126.691 1366.38 Q120.88 1366.38 117.802 1361.8 Q114.746 1357.19 114.746 1348.47 Q114.746 1339.72 117.802 1335.13 Q120.88 1330.53 126.691 1330.53 Z\" fill=\"#000000\" fill-rule=\"evenodd\" fill-opacity=\"1\" /><path clip-path=\"url(#clip730)\" d=\"M146.853 1359.83 L151.737 1359.83 L151.737 1365.71 L146.853 1365.71 L146.853 1359.83 Z\" fill=\"#000000\" fill-rule=\"evenodd\" fill-opacity=\"1\" /><path clip-path=\"url(#clip730)\" d=\"M171.922 1334.23 Q168.311 1334.23 166.482 1337.8 Q164.677 1341.34 164.677 1348.47 Q164.677 1355.57 166.482 1359.14 Q168.311 1362.68 171.922 1362.68 Q175.556 1362.68 177.362 1359.14 Q179.19 1355.57 179.19 1348.47 Q179.19 1341.34 177.362 1337.8 Q175.556 1334.23 171.922 1334.23 M171.922 1330.53 Q177.732 1330.53 180.788 1335.13 Q183.866 1339.72 183.866 1348.47 Q183.866 1357.19 180.788 1361.8 Q177.732 1366.38 171.922 1366.38 Q166.112 1366.38 163.033 1361.8 Q159.978 1357.19 159.978 1348.47 Q159.978 1339.72 163.033 1335.13 Q166.112 1330.53 171.922 1330.53 Z\" fill=\"#000000\" fill-rule=\"evenodd\" fill-opacity=\"1\" /><path clip-path=\"url(#clip730)\" d=\"M202.084 1334.23 Q198.473 1334.23 196.644 1337.8 Q194.838 1341.34 194.838 1348.47 Q194.838 1355.57 196.644 1359.14 Q198.473 1362.68 202.084 1362.68 Q205.718 1362.68 207.524 1359.14 Q209.352 1355.57 209.352 1348.47 Q209.352 1341.34 207.524 1337.8 Q205.718 1334.23 202.084 1334.23 M202.084 1330.53 Q207.894 1330.53 210.949 1335.13 Q214.028 1339.72 214.028 1348.47 Q214.028 1357.19 210.949 1361.8 Q207.894 1366.38 202.084 1366.38 Q196.274 1366.38 193.195 1361.8 Q190.139 1357.19 190.139 1348.47 Q190.139 1339.72 193.195 1335.13 Q196.274 1330.53 202.084 1330.53 Z\" fill=\"#000000\" fill-rule=\"evenodd\" fill-opacity=\"1\" /><path clip-path=\"url(#clip730)\" d=\"M127.917 1116 Q124.306 1116 122.478 1119.57 Q120.672 1123.11 120.672 1130.24 Q120.672 1137.34 122.478 1140.91 Q124.306 1144.45 127.917 1144.45 Q131.552 1144.45 133.357 1140.91 Q135.186 1137.34 135.186 1130.24 Q135.186 1123.11 133.357 1119.57 Q131.552 1116 127.917 1116 M127.917 1112.3 Q133.728 1112.3 136.783 1116.9 Q139.862 1121.49 139.862 1130.24 Q139.862 1138.96 136.783 1143.57 Q133.728 1148.15 127.917 1148.15 Q122.107 1148.15 119.029 1143.57 Q115.973 1138.96 115.973 1130.24 Q115.973 1121.49 119.029 1116.9 Q122.107 1112.3 127.917 1112.3 Z\" fill=\"#000000\" fill-rule=\"evenodd\" fill-opacity=\"1\" /><path clip-path=\"url(#clip730)\" d=\"M148.079 1141.6 L152.964 1141.6 L152.964 1147.48 L148.079 1147.48 L148.079 1141.6 Z\" fill=\"#000000\" fill-rule=\"evenodd\" fill-opacity=\"1\" /><path clip-path=\"url(#clip730)\" d=\"M173.149 1116 Q169.538 1116 167.709 1119.57 Q165.903 1123.11 165.903 1130.24 Q165.903 1137.34 167.709 1140.91 Q169.538 1144.45 173.149 1144.45 Q176.783 1144.45 178.589 1140.91 Q180.417 1137.34 180.417 1130.24 Q180.417 1123.11 178.589 1119.57 Q176.783 1116 173.149 1116 M173.149 1112.3 Q178.959 1112.3 182.014 1116.9 Q185.093 1121.49 185.093 1130.24 Q185.093 1138.96 182.014 1143.57 Q178.959 1148.15 173.149 1148.15 Q167.339 1148.15 164.26 1143.57 Q161.204 1138.96 161.204 1130.24 Q161.204 1121.49 164.26 1116.9 Q167.339 1112.3 173.149 1112.3 Z\" fill=\"#000000\" fill-rule=\"evenodd\" fill-opacity=\"1\" /><path clip-path=\"url(#clip730)\" d=\"M194.121 1143.55 L201.76 1143.55 L201.76 1117.18 L193.45 1118.85 L193.45 1114.59 L201.713 1112.92 L206.389 1112.92 L206.389 1143.55 L214.028 1143.55 L214.028 1147.48 L194.121 1147.48 L194.121 1143.55 Z\" fill=\"#000000\" fill-rule=\"evenodd\" fill-opacity=\"1\" /><path clip-path=\"url(#clip730)\" d=\"M128.288 897.769 Q124.677 897.769 122.848 901.334 Q121.043 904.876 121.043 912.005 Q121.043 919.112 122.848 922.677 Q124.677 926.218 128.288 926.218 Q131.922 926.218 133.728 922.677 Q135.556 919.112 135.556 912.005 Q135.556 904.876 133.728 901.334 Q131.922 897.769 128.288 897.769 M128.288 894.066 Q134.098 894.066 137.154 898.672 Q140.232 903.256 140.232 912.005 Q140.232 920.732 137.154 925.339 Q134.098 929.922 128.288 929.922 Q122.478 929.922 119.399 925.339 Q116.343 920.732 116.343 912.005 Q116.343 903.256 119.399 898.672 Q122.478 894.066 128.288 894.066 Z\" fill=\"#000000\" fill-rule=\"evenodd\" fill-opacity=\"1\" /><path clip-path=\"url(#clip730)\" d=\"M148.45 923.371 L153.334 923.371 L153.334 929.251 L148.45 929.251 L148.45 923.371 Z\" fill=\"#000000\" fill-rule=\"evenodd\" fill-opacity=\"1\" /><path clip-path=\"url(#clip730)\" d=\"M173.519 897.769 Q169.908 897.769 168.079 901.334 Q166.274 904.876 166.274 912.005 Q166.274 919.112 168.079 922.677 Q169.908 926.218 173.519 926.218 Q177.153 926.218 178.959 922.677 Q180.788 919.112 180.788 912.005 Q180.788 904.876 178.959 901.334 Q177.153 897.769 173.519 897.769 M173.519 894.066 Q179.329 894.066 182.385 898.672 Q185.463 903.256 185.463 912.005 Q185.463 920.732 182.385 925.339 Q179.329 929.922 173.519 929.922 Q167.709 929.922 164.63 925.339 Q161.575 920.732 161.575 912.005 Q161.575 903.256 164.63 898.672 Q167.709 894.066 173.519 894.066 Z\" fill=\"#000000\" fill-rule=\"evenodd\" fill-opacity=\"1\" /><path clip-path=\"url(#clip730)\" d=\"M197.709 925.316 L214.028 925.316 L214.028 929.251 L192.084 929.251 L192.084 925.316 Q194.746 922.561 199.329 917.931 Q203.936 913.279 205.116 911.936 Q207.362 909.413 208.241 907.677 Q209.144 905.918 209.144 904.228 Q209.144 901.473 207.199 899.737 Q205.278 898.001 202.176 898.001 Q199.977 898.001 197.524 898.765 Q195.093 899.529 192.315 901.08 L192.315 896.357 Q195.139 895.223 197.593 894.644 Q200.047 894.066 202.084 894.066 Q207.454 894.066 210.649 896.751 Q213.843 899.436 213.843 903.927 Q213.843 906.056 213.033 907.978 Q212.246 909.876 210.139 912.468 Q209.561 913.14 206.459 916.357 Q203.357 919.552 197.709 925.316 Z\" fill=\"#000000\" fill-rule=\"evenodd\" fill-opacity=\"1\" /><path clip-path=\"url(#clip730)\" d=\"M127.339 679.539 Q123.728 679.539 121.899 683.103 Q120.093 686.645 120.093 693.775 Q120.093 700.881 121.899 704.446 Q123.728 707.988 127.339 707.988 Q130.973 707.988 132.779 704.446 Q134.607 700.881 134.607 693.775 Q134.607 686.645 132.779 683.103 Q130.973 679.539 127.339 679.539 M127.339 675.835 Q133.149 675.835 136.204 680.441 Q139.283 685.025 139.283 693.775 Q139.283 702.501 136.204 707.108 Q133.149 711.691 127.339 711.691 Q121.529 711.691 118.45 707.108 Q115.394 702.501 115.394 693.775 Q115.394 685.025 118.45 680.441 Q121.529 675.835 127.339 675.835 Z\" fill=\"#000000\" fill-rule=\"evenodd\" fill-opacity=\"1\" /><path clip-path=\"url(#clip730)\" d=\"M147.501 705.14 L152.385 705.14 L152.385 711.02 L147.501 711.02 L147.501 705.14 Z\" fill=\"#000000\" fill-rule=\"evenodd\" fill-opacity=\"1\" /><path clip-path=\"url(#clip730)\" d=\"M172.57 679.539 Q168.959 679.539 167.13 683.103 Q165.325 686.645 165.325 693.775 Q165.325 700.881 167.13 704.446 Q168.959 707.988 172.57 707.988 Q176.204 707.988 178.01 704.446 Q179.839 700.881 179.839 693.775 Q179.839 686.645 178.01 683.103 Q176.204 679.539 172.57 679.539 M172.57 675.835 Q178.38 675.835 181.436 680.441 Q184.514 685.025 184.514 693.775 Q184.514 702.501 181.436 707.108 Q178.38 711.691 172.57 711.691 Q166.76 711.691 163.681 707.108 Q160.626 702.501 160.626 693.775 Q160.626 685.025 163.681 680.441 Q166.76 675.835 172.57 675.835 Z\" fill=\"#000000\" fill-rule=\"evenodd\" fill-opacity=\"1\" /><path clip-path=\"url(#clip730)\" d=\"M206.899 692.386 Q210.255 693.103 212.13 695.372 Q214.028 697.64 214.028 700.974 Q214.028 706.089 210.51 708.89 Q206.991 711.691 200.51 711.691 Q198.334 711.691 196.019 711.251 Q193.727 710.835 191.274 709.978 L191.274 705.464 Q193.218 706.599 195.533 707.177 Q197.848 707.756 200.371 707.756 Q204.769 707.756 207.061 706.02 Q209.375 704.284 209.375 700.974 Q209.375 697.918 207.223 696.205 Q205.093 694.469 201.274 694.469 L197.246 694.469 L197.246 690.627 L201.459 690.627 Q204.908 690.627 206.737 689.261 Q208.565 687.872 208.565 685.279 Q208.565 682.617 206.667 681.205 Q204.792 679.77 201.274 679.77 Q199.352 679.77 197.153 680.187 Q194.954 680.603 192.315 681.483 L192.315 677.316 Q194.977 676.576 197.292 676.205 Q199.63 675.835 201.69 675.835 Q207.014 675.835 210.116 678.265 Q213.218 680.673 213.218 684.793 Q213.218 687.664 211.574 689.654 Q209.931 691.622 206.899 692.386 Z\" fill=\"#000000\" fill-rule=\"evenodd\" fill-opacity=\"1\" /><path clip-path=\"url(#clip730)\" d=\"M126.205 461.308 Q122.593 461.308 120.765 464.873 Q118.959 468.414 118.959 475.544 Q118.959 482.65 120.765 486.215 Q122.593 489.757 126.205 489.757 Q129.839 489.757 131.644 486.215 Q133.473 482.65 133.473 475.544 Q133.473 468.414 131.644 464.873 Q129.839 461.308 126.205 461.308 M126.205 457.604 Q132.015 457.604 135.07 462.211 Q138.149 466.794 138.149 475.544 Q138.149 484.271 135.07 488.877 Q132.015 493.46 126.205 493.46 Q120.394 493.46 117.316 488.877 Q114.26 484.271 114.26 475.544 Q114.26 466.794 117.316 462.211 Q120.394 457.604 126.205 457.604 Z\" fill=\"#000000\" fill-rule=\"evenodd\" fill-opacity=\"1\" /><path clip-path=\"url(#clip730)\" d=\"M146.366 486.91 L151.251 486.91 L151.251 492.789 L146.366 492.789 L146.366 486.91 Z\" fill=\"#000000\" fill-rule=\"evenodd\" fill-opacity=\"1\" /><path clip-path=\"url(#clip730)\" d=\"M171.436 461.308 Q167.825 461.308 165.996 464.873 Q164.19 468.414 164.19 475.544 Q164.19 482.65 165.996 486.215 Q167.825 489.757 171.436 489.757 Q175.07 489.757 176.876 486.215 Q178.704 482.65 178.704 475.544 Q178.704 468.414 176.876 464.873 Q175.07 461.308 171.436 461.308 M171.436 457.604 Q177.246 457.604 180.301 462.211 Q183.38 466.794 183.38 475.544 Q183.38 484.271 180.301 488.877 Q177.246 493.46 171.436 493.46 Q165.626 493.46 162.547 488.877 Q159.491 484.271 159.491 475.544 Q159.491 466.794 162.547 462.211 Q165.626 457.604 171.436 457.604 Z\" fill=\"#000000\" fill-rule=\"evenodd\" fill-opacity=\"1\" /><path clip-path=\"url(#clip730)\" d=\"M204.445 462.303 L192.639 480.752 L204.445 480.752 L204.445 462.303 M203.218 458.229 L209.098 458.229 L209.098 480.752 L214.028 480.752 L214.028 484.641 L209.098 484.641 L209.098 492.789 L204.445 492.789 L204.445 484.641 L188.843 484.641 L188.843 480.127 L203.218 458.229 Z\" fill=\"#000000\" fill-rule=\"evenodd\" fill-opacity=\"1\" /><path clip-path=\"url(#clip730)\" d=\"M127.686 243.077 Q124.075 243.077 122.246 246.642 Q120.441 250.183 120.441 257.313 Q120.441 264.419 122.246 267.984 Q124.075 271.526 127.686 271.526 Q131.32 271.526 133.126 267.984 Q134.954 264.419 134.954 257.313 Q134.954 250.183 133.126 246.642 Q131.32 243.077 127.686 243.077 M127.686 239.373 Q133.496 239.373 136.552 243.98 Q139.63 248.563 139.63 257.313 Q139.63 266.04 136.552 270.646 Q133.496 275.23 127.686 275.23 Q121.876 275.23 118.797 270.646 Q115.742 266.04 115.742 257.313 Q115.742 248.563 118.797 243.98 Q121.876 239.373 127.686 239.373 Z\" fill=\"#000000\" fill-rule=\"evenodd\" fill-opacity=\"1\" /><path clip-path=\"url(#clip730)\" d=\"M147.848 268.679 L152.732 268.679 L152.732 274.558 L147.848 274.558 L147.848 268.679 Z\" fill=\"#000000\" fill-rule=\"evenodd\" fill-opacity=\"1\" /><path clip-path=\"url(#clip730)\" d=\"M172.917 243.077 Q169.306 243.077 167.477 246.642 Q165.672 250.183 165.672 257.313 Q165.672 264.419 167.477 267.984 Q169.306 271.526 172.917 271.526 Q176.551 271.526 178.357 267.984 Q180.186 264.419 180.186 257.313 Q180.186 250.183 178.357 246.642 Q176.551 243.077 172.917 243.077 M172.917 239.373 Q178.727 239.373 181.783 243.98 Q184.862 248.563 184.862 257.313 Q184.862 266.04 181.783 270.646 Q178.727 275.23 172.917 275.23 Q167.107 275.23 164.028 270.646 Q160.973 266.04 160.973 257.313 Q160.973 248.563 164.028 243.98 Q167.107 239.373 172.917 239.373 Z\" fill=\"#000000\" fill-rule=\"evenodd\" fill-opacity=\"1\" /><path clip-path=\"url(#clip730)\" d=\"M193.125 239.998 L211.482 239.998 L211.482 243.933 L197.408 243.933 L197.408 252.406 Q198.426 252.058 199.445 251.896 Q200.463 251.711 201.482 251.711 Q207.269 251.711 210.649 254.882 Q214.028 258.054 214.028 263.47 Q214.028 269.049 210.556 272.151 Q207.084 275.23 200.764 275.23 Q198.588 275.23 196.32 274.859 Q194.075 274.489 191.667 273.748 L191.667 269.049 Q193.75 270.183 195.973 270.739 Q198.195 271.294 200.672 271.294 Q204.676 271.294 207.014 269.188 Q209.352 267.081 209.352 263.47 Q209.352 259.859 207.014 257.753 Q204.676 255.646 200.672 255.646 Q198.797 255.646 196.922 256.063 Q195.07 256.48 193.125 257.359 L193.125 239.998 Z\" fill=\"#000000\" fill-rule=\"evenodd\" fill-opacity=\"1\" /><path clip-path=\"url(#clip730)\" d=\"M29.4065 877.851 L34.9447 877.851 Q33.6716 880.334 33.035 883.007 Q32.3984 885.681 32.3984 888.545 Q32.3984 892.906 33.7352 895.102 Q35.072 897.266 37.7456 897.266 Q39.7826 897.266 40.9603 895.707 Q42.1061 894.147 43.1565 889.436 L43.6021 887.431 Q44.9389 881.193 47.3897 878.583 Q49.8086 875.941 54.1691 875.941 Q59.1344 875.941 62.0308 879.888 Q64.9272 883.803 64.9272 890.678 Q64.9272 893.542 64.3543 896.662 Q63.8132 899.749 62.6992 903.186 L56.6518 903.186 Q58.3387 899.94 59.198 896.789 Q60.0256 893.638 60.0256 890.55 Q60.0256 886.413 58.6251 884.185 Q57.1929 881.957 54.6147 881.957 Q52.2276 881.957 50.9545 883.58 Q49.6813 885.171 48.5037 890.614 L48.0262 892.651 Q46.8804 898.094 44.5251 900.513 Q42.138 902.932 38.0002 902.932 Q32.9713 902.932 30.2341 899.367 Q27.4968 895.802 27.4968 889.246 Q27.4968 885.999 27.9743 883.134 Q28.4517 880.27 29.4065 877.851 Z\" fill=\"#000000\" fill-rule=\"evenodd\" fill-opacity=\"1\" /><path clip-path=\"url(#clip730)\" d=\"M44.7161 836.124 L47.5806 836.124 L47.5806 863.051 Q53.6281 862.669 56.8109 859.422 Q59.9619 856.144 59.9619 850.319 Q59.9619 846.945 59.1344 843.794 Q58.3069 840.612 56.6518 837.492 L62.1899 837.492 Q63.5267 840.643 64.227 843.953 Q64.9272 847.264 64.9272 850.669 Q64.9272 859.199 59.9619 864.196 Q54.9967 869.162 46.5303 869.162 Q37.7774 869.162 32.6531 864.451 Q27.4968 859.709 27.4968 851.688 Q27.4968 844.495 32.1438 840.325 Q36.7589 836.124 44.7161 836.124 M42.9973 841.98 Q38.1912 842.044 35.3266 844.686 Q32.4621 847.295 32.4621 851.624 Q32.4621 856.526 35.2312 859.486 Q38.0002 862.414 43.0292 862.86 L42.9973 841.98 Z\" fill=\"#000000\" fill-rule=\"evenodd\" fill-opacity=\"1\" /><path clip-path=\"url(#clip730)\" d=\"M29.7248 800.858 L35.1993 800.858 Q33.8307 803.34 33.1623 805.855 Q32.4621 808.337 32.4621 810.884 Q32.4621 816.581 36.0905 819.732 Q39.6872 822.883 46.212 822.883 Q52.7369 822.883 56.3653 819.732 Q59.9619 816.581 59.9619 810.884 Q59.9619 808.337 59.2935 805.855 Q58.5933 803.34 57.2247 800.858 L62.6355 800.858 Q63.7814 803.308 64.3543 805.95 Q64.9272 808.56 64.9272 811.52 Q64.9272 819.573 59.8664 824.315 Q54.8057 829.058 46.212 829.058 Q37.491 829.058 32.4939 824.283 Q27.4968 819.477 27.4968 811.138 Q27.4968 808.433 28.0697 805.855 Q28.6108 803.277 29.7248 800.858 Z\" fill=\"#000000\" fill-rule=\"evenodd\" fill-opacity=\"1\" /><path clip-path=\"url(#clip730)\" d=\"M32.4621 776.859 Q32.4621 781.57 36.1542 784.307 Q39.8145 787.044 46.212 787.044 Q52.6095 787.044 56.3017 784.339 Q59.9619 781.601 59.9619 776.859 Q59.9619 772.18 56.2698 769.443 Q52.5777 766.706 46.212 766.706 Q39.8781 766.706 36.186 769.443 Q32.4621 772.18 32.4621 776.859 M27.4968 776.859 Q27.4968 769.22 32.4621 764.86 Q37.4273 760.499 46.212 760.499 Q54.9649 760.499 59.9619 764.86 Q64.9272 769.22 64.9272 776.859 Q64.9272 784.53 59.9619 788.89 Q54.9649 793.219 46.212 793.219 Q37.4273 793.219 32.4621 788.89 Q27.4968 784.53 27.4968 776.859 Z\" fill=\"#000000\" fill-rule=\"evenodd\" fill-opacity=\"1\" /><path clip-path=\"url(#clip730)\" d=\"M42.4881 721.159 L64.0042 721.159 L64.0042 727.015 L42.679 727.015 Q37.6183 727.015 35.1038 728.989 Q32.5894 730.962 32.5894 734.909 Q32.5894 739.651 35.6131 742.389 Q38.6368 745.126 43.8567 745.126 L64.0042 745.126 L64.0042 751.014 L28.3562 751.014 L28.3562 745.126 L33.8944 745.126 Q30.6797 743.025 29.0883 740.192 Q27.4968 737.328 27.4968 733.604 Q27.4968 727.461 31.3163 724.31 Q35.1038 721.159 42.4881 721.159 Z\" fill=\"#000000\" fill-rule=\"evenodd\" fill-opacity=\"1\" /><path clip-path=\"url(#clip730)\" d=\"M33.7671 686.02 L14.479 686.02 L14.479 680.164 L64.0042 680.164 L64.0042 686.02 L58.657 686.02 Q61.8398 687.866 63.3994 690.699 Q64.9272 693.5 64.9272 697.447 Q64.9272 703.908 59.771 707.982 Q54.6147 712.024 46.212 712.024 Q37.8093 712.024 32.6531 707.982 Q27.4968 703.908 27.4968 697.447 Q27.4968 693.5 29.0564 690.699 Q30.5842 687.866 33.7671 686.02 M46.212 705.977 Q52.6732 705.977 56.3653 703.335 Q60.0256 700.661 60.0256 696.014 Q60.0256 691.368 56.3653 688.694 Q52.6732 686.02 46.212 686.02 Q39.7508 686.02 36.0905 688.694 Q32.3984 691.368 32.3984 696.014 Q32.3984 700.661 36.0905 703.335 Q39.7508 705.977 46.212 705.977 Z\" fill=\"#000000\" fill-rule=\"evenodd\" fill-opacity=\"1\" /><path clip-path=\"url(#clip730)\" d=\"M29.4065 645.375 L34.9447 645.375 Q33.6716 647.858 33.035 650.532 Q32.3984 653.205 32.3984 656.07 Q32.3984 660.43 33.7352 662.626 Q35.072 664.791 37.7456 664.791 Q39.7826 664.791 40.9603 663.231 Q42.1061 661.671 43.1565 656.961 L43.6021 654.956 Q44.9389 648.717 47.3897 646.107 Q49.8086 643.466 54.1691 643.466 Q59.1344 643.466 62.0308 647.412 Q64.9272 651.327 64.9272 658.202 Q64.9272 661.067 64.3543 664.186 Q63.8132 667.273 62.6992 670.711 L56.6518 670.711 Q58.3387 667.464 59.198 664.313 Q60.0256 661.162 60.0256 658.075 Q60.0256 653.937 58.6251 651.709 Q57.1929 649.481 54.6147 649.481 Q52.2276 649.481 50.9545 651.104 Q49.6813 652.696 48.5037 658.139 L48.0262 660.176 Q46.8804 665.618 44.5251 668.037 Q42.138 670.456 38.0002 670.456 Q32.9713 670.456 30.2341 666.891 Q27.4968 663.327 27.4968 656.77 Q27.4968 653.523 27.9743 650.659 Q28.4517 647.794 29.4065 645.375 Z\" fill=\"#000000\" fill-rule=\"evenodd\" fill-opacity=\"1\" /><path clip-path=\"url(#clip730)\" d=\"M930.471 12.096 L942.664 12.096 L958.098 53.2532 L973.613 12.096 L985.806 12.096 L985.806 72.576 L977.826 72.576 L977.826 19.4686 L962.23 60.9499 L954.007 60.9499 L938.411 19.4686 L938.411 72.576 L930.471 72.576 L930.471 12.096 Z\" fill=\"#000000\" fill-rule=\"evenodd\" fill-opacity=\"1\" /><path clip-path=\"url(#clip730)\" d=\"M1022.35 49.7694 Q1013.31 49.7694 1009.83 51.8354 Q1006.34 53.9013 1006.34 58.8839 Q1006.34 62.8538 1008.94 65.2034 Q1011.57 67.5124 1016.07 67.5124 Q1022.26 67.5124 1025.99 63.1374 Q1029.76 58.7219 1029.76 51.4303 L1029.76 49.7694 L1022.35 49.7694 M1037.21 46.6907 L1037.21 72.576 L1029.76 72.576 L1029.76 65.6895 Q1027.21 69.8214 1023.4 71.8063 Q1019.59 73.7508 1014.08 73.7508 Q1007.11 73.7508 1002.98 69.8619 Q998.891 65.9325 998.891 59.3701 Q998.891 51.7138 1003.99 47.825 Q1009.14 43.9361 1019.31 43.9361 L1029.76 43.9361 L1029.76 43.2069 Q1029.76 38.0623 1026.36 35.2672 Q1022.99 32.4315 1016.88 32.4315 Q1012.99 32.4315 1009.3 33.3632 Q1005.62 34.295 1002.21 36.1584 L1002.21 29.2718 Q1006.3 27.692 1010.15 26.9223 Q1014 26.1121 1017.65 26.1121 Q1027.49 26.1121 1032.35 31.2163 Q1037.21 36.3204 1037.21 46.6907 Z\" fill=\"#000000\" fill-rule=\"evenodd\" fill-opacity=\"1\" /><path clip-path=\"url(#clip730)\" d=\"M1059.94 14.324 L1059.94 27.2059 L1075.29 27.2059 L1075.29 32.9987 L1059.94 32.9987 L1059.94 57.6282 Q1059.94 63.1779 1061.44 64.7578 Q1062.98 66.3376 1067.63 66.3376 L1075.29 66.3376 L1075.29 72.576 L1067.63 72.576 Q1059.01 72.576 1055.72 69.3758 Q1052.44 66.1351 1052.44 57.6282 L1052.44 32.9987 L1046.97 32.9987 L1046.97 27.2059 L1052.44 27.2059 L1052.44 14.324 L1059.94 14.324 Z\" fill=\"#000000\" fill-rule=\"evenodd\" fill-opacity=\"1\" /><path clip-path=\"url(#clip730)\" d=\"M1111.38 34.1734 Q1110.13 33.4443 1108.63 33.1202 Q1107.17 32.7556 1105.39 32.7556 Q1099.07 32.7556 1095.67 36.8875 Q1092.3 40.9789 1092.3 48.6757 L1092.3 72.576 L1084.81 72.576 L1084.81 27.2059 L1092.3 27.2059 L1092.3 34.2544 Q1094.65 30.1225 1098.42 28.1376 Q1102.19 26.1121 1107.58 26.1121 Q1108.35 26.1121 1109.28 26.2337 Q1110.21 26.3147 1111.34 26.5172 L1111.38 34.1734 Z\" fill=\"#000000\" fill-rule=\"evenodd\" fill-opacity=\"1\" /><path clip-path=\"url(#clip730)\" d=\"M1119.2 27.2059 L1126.66 27.2059 L1126.66 72.576 L1119.2 72.576 L1119.2 27.2059 M1119.2 9.54393 L1126.66 9.54393 L1126.66 18.9825 L1119.2 18.9825 L1119.2 9.54393 Z\" fill=\"#000000\" fill-rule=\"evenodd\" fill-opacity=\"1\" /><path clip-path=\"url(#clip730)\" d=\"M1179.97 27.2059 L1163.56 49.2833 L1180.82 72.576 L1172.03 72.576 L1158.82 54.752 L1145.61 72.576 L1136.82 72.576 L1154.45 48.8377 L1138.32 27.2059 L1147.11 27.2059 L1159.14 43.369 L1171.18 27.2059 L1179.97 27.2059 Z\" fill=\"#000000\" fill-rule=\"evenodd\" fill-opacity=\"1\" /><path clip-path=\"url(#clip730)\" d=\"M1238.34 49.7694 Q1229.31 49.7694 1225.82 51.8354 Q1222.34 53.9013 1222.34 58.8839 Q1222.34 62.8538 1224.93 65.2034 Q1227.56 67.5124 1232.06 67.5124 Q1238.26 67.5124 1241.99 63.1374 Q1245.75 58.7219 1245.75 51.4303 L1245.75 49.7694 L1238.34 49.7694 M1253.21 46.6907 L1253.21 72.576 L1245.75 72.576 L1245.75 65.6895 Q1243.2 69.8214 1239.39 71.8063 Q1235.59 73.7508 1230.08 73.7508 Q1223.11 73.7508 1218.98 69.8619 Q1214.88 65.9325 1214.88 59.3701 Q1214.88 51.7138 1219.99 47.825 Q1225.13 43.9361 1235.3 43.9361 L1245.75 43.9361 L1245.75 43.2069 Q1245.75 38.0623 1242.35 35.2672 Q1238.99 32.4315 1232.87 32.4315 Q1228.98 32.4315 1225.3 33.3632 Q1221.61 34.295 1218.21 36.1584 L1218.21 29.2718 Q1222.3 27.692 1226.15 26.9223 Q1229.99 26.1121 1233.64 26.1121 Q1243.48 26.1121 1248.35 31.2163 Q1253.21 36.3204 1253.21 46.6907 Z\" fill=\"#000000\" fill-rule=\"evenodd\" fill-opacity=\"1\" /><path clip-path=\"url(#clip730)\" d=\"M1306.27 45.1919 L1306.27 72.576 L1298.82 72.576 L1298.82 45.4349 Q1298.82 38.994 1296.31 35.7938 Q1293.8 32.5936 1288.77 32.5936 Q1282.74 32.5936 1279.25 36.4419 Q1275.77 40.2903 1275.77 46.9338 L1275.77 72.576 L1268.28 72.576 L1268.28 27.2059 L1275.77 27.2059 L1275.77 34.2544 Q1278.44 30.163 1282.05 28.1376 Q1285.69 26.1121 1290.43 26.1121 Q1298.25 26.1121 1302.26 30.9732 Q1306.27 35.7938 1306.27 45.1919 Z\" fill=\"#000000\" fill-rule=\"evenodd\" fill-opacity=\"1\" /><path clip-path=\"url(#clip730)\" d=\"M1351 34.0924 L1351 9.54393 L1358.45 9.54393 L1358.45 72.576 L1351 72.576 L1351 65.7705 Q1348.65 69.8214 1345.04 71.8063 Q1341.48 73.7508 1336.45 73.7508 Q1328.23 73.7508 1323.04 67.1883 Q1317.9 60.6258 1317.9 49.9314 Q1317.9 39.2371 1323.04 32.6746 Q1328.23 26.1121 1336.45 26.1121 Q1341.48 26.1121 1345.04 28.0971 Q1348.65 30.0415 1351 34.0924 M1325.6 49.9314 Q1325.6 58.1548 1328.96 62.8538 Q1332.36 67.5124 1338.28 67.5124 Q1344.19 67.5124 1347.59 62.8538 Q1351 58.1548 1351 49.9314 Q1351 41.7081 1347.59 37.0496 Q1344.19 32.3505 1338.28 32.3505 Q1332.36 32.3505 1328.96 37.0496 Q1325.6 41.7081 1325.6 49.9314 Z\" fill=\"#000000\" fill-rule=\"evenodd\" fill-opacity=\"1\" /><path clip-path=\"url(#clip730)\" d=\"M1394.83 27.2059 L1402.73 27.2059 L1416.9 65.2844 L1431.08 27.2059 L1438.98 27.2059 L1421.97 72.576 L1411.84 72.576 L1394.83 27.2059 Z\" fill=\"#000000\" fill-rule=\"evenodd\" fill-opacity=\"1\" /><path clip-path=\"url(#clip730)\" d=\"M1488.08 48.0275 L1488.08 51.6733 L1453.81 51.6733 Q1454.29 59.3701 1458.43 63.421 Q1462.6 67.4314 1470.01 67.4314 Q1474.3 67.4314 1478.32 66.3781 Q1482.37 65.3249 1486.34 63.2184 L1486.34 70.267 Q1482.33 71.9684 1478.11 72.8596 Q1473.9 73.7508 1469.57 73.7508 Q1458.71 73.7508 1452.35 67.4314 Q1446.03 61.1119 1446.03 50.3365 Q1446.03 39.1965 1452.02 32.6746 Q1458.06 26.1121 1468.27 26.1121 Q1477.42 26.1121 1482.73 32.0264 Q1488.08 37.9003 1488.08 48.0275 M1480.62 45.84 Q1480.54 39.7232 1477.18 36.0774 Q1473.86 32.4315 1468.35 32.4315 Q1462.11 32.4315 1458.34 35.9558 Q1454.62 39.4801 1454.05 45.8805 L1480.62 45.84 Z\" fill=\"#000000\" fill-rule=\"evenodd\" fill-opacity=\"1\" /><path clip-path=\"url(#clip730)\" d=\"M1532.96 28.9478 L1532.96 35.9153 Q1529.8 34.1734 1526.6 33.3227 Q1523.44 32.4315 1520.2 32.4315 Q1512.95 32.4315 1508.94 37.0496 Q1504.93 41.6271 1504.93 49.9314 Q1504.93 58.2358 1508.94 62.8538 Q1512.95 67.4314 1520.2 67.4314 Q1523.44 67.4314 1526.6 66.5807 Q1529.8 65.6895 1532.96 63.9476 L1532.96 70.8341 Q1529.84 72.2924 1526.48 73.0216 Q1523.16 73.7508 1519.39 73.7508 Q1509.14 73.7508 1503.11 67.3098 Q1497.07 60.8689 1497.07 49.9314 Q1497.07 38.832 1503.15 32.472 Q1509.26 26.1121 1519.88 26.1121 Q1523.32 26.1121 1526.6 26.8413 Q1529.88 27.5299 1532.96 28.9478 Z\" fill=\"#000000\" fill-rule=\"evenodd\" fill-opacity=\"1\" /><path clip-path=\"url(#clip730)\" d=\"M1553.3 14.324 L1553.3 27.2059 L1568.65 27.2059 L1568.65 32.9987 L1553.3 32.9987 L1553.3 57.6282 Q1553.3 63.1779 1554.8 64.7578 Q1556.34 66.3376 1560.99 66.3376 L1568.65 66.3376 L1568.65 72.576 L1560.99 72.576 Q1552.37 72.576 1549.08 69.3758 Q1545.8 66.1351 1545.8 57.6282 L1545.8 32.9987 L1540.33 32.9987 L1540.33 27.2059 L1545.8 27.2059 L1545.8 14.324 L1553.3 14.324 Z\" fill=\"#000000\" fill-rule=\"evenodd\" fill-opacity=\"1\" /><path clip-path=\"url(#clip730)\" d=\"M1596.03 32.4315 Q1590.04 32.4315 1586.56 37.1306 Q1583.07 41.7891 1583.07 49.9314 Q1583.07 58.0738 1586.51 62.7728 Q1590 67.4314 1596.03 67.4314 Q1601.99 67.4314 1605.47 62.7323 Q1608.96 58.0333 1608.96 49.9314 Q1608.96 41.8701 1605.47 37.1711 Q1601.99 32.4315 1596.03 32.4315 M1596.03 26.1121 Q1605.76 26.1121 1611.31 32.4315 Q1616.86 38.7509 1616.86 49.9314 Q1616.86 61.0714 1611.31 67.4314 Q1605.76 73.7508 1596.03 73.7508 Q1586.27 73.7508 1580.72 67.4314 Q1575.21 61.0714 1575.21 49.9314 Q1575.21 38.7509 1580.72 32.4315 Q1586.27 26.1121 1596.03 26.1121 Z\" fill=\"#000000\" fill-rule=\"evenodd\" fill-opacity=\"1\" /><path clip-path=\"url(#clip730)\" d=\"M1655.5 34.1734 Q1654.25 33.4443 1652.75 33.1202 Q1651.29 32.7556 1649.51 32.7556 Q1643.19 32.7556 1639.78 36.8875 Q1636.42 40.9789 1636.42 48.6757 L1636.42 72.576 L1628.93 72.576 L1628.93 27.2059 L1636.42 27.2059 L1636.42 34.2544 Q1638.77 30.1225 1642.54 28.1376 Q1646.31 26.1121 1651.69 26.1121 Q1652.46 26.1121 1653.4 26.2337 Q1654.33 26.3147 1655.46 26.5172 L1655.5 34.1734 Z\" fill=\"#000000\" fill-rule=\"evenodd\" fill-opacity=\"1\" /><path clip-path=\"url(#clip730)\" d=\"M1663.77 62.2867 L1672.31 62.2867 L1672.31 72.576 L1663.77 72.576 L1663.77 62.2867 M1663.77 29.6769 L1672.31 29.6769 L1672.31 39.9662 L1663.77 39.9662 L1663.77 29.6769 Z\" fill=\"#000000\" fill-rule=\"evenodd\" fill-opacity=\"1\" /><polyline clip-path=\"url(#clip732)\" style=\"stroke:#000000; stroke-linecap:butt; stroke-linejoin:round; stroke-width:4; stroke-opacity:1; fill:none\" points=\"\n",
       "  309.539,1386.4 309.539,1211.45 \n",
       "  \"/>\n",
       "<polyline clip-path=\"url(#clip732)\" style=\"stroke:#000000; stroke-linecap:butt; stroke-linejoin:round; stroke-width:4; stroke-opacity:1; fill:none\" points=\"\n",
       "  529.951,1298.23 529.951,1291.04 \n",
       "  \"/>\n",
       "<polyline clip-path=\"url(#clip732)\" style=\"stroke:#000000; stroke-linecap:butt; stroke-linejoin:round; stroke-width:4; stroke-opacity:1; fill:none\" points=\"\n",
       "  750.363,1308.69 750.363,1089.02 \n",
       "  \"/>\n",
       "<polyline clip-path=\"url(#clip732)\" style=\"stroke:#000000; stroke-linecap:butt; stroke-linejoin:round; stroke-width:4; stroke-opacity:1; fill:none\" points=\"\n",
       "  970.774,1173.87 970.774,1110.56 \n",
       "  \"/>\n",
       "<polyline clip-path=\"url(#clip732)\" style=\"stroke:#000000; stroke-linecap:butt; stroke-linejoin:round; stroke-width:4; stroke-opacity:1; fill:none\" points=\"\n",
       "  1191.19,1062.61 1191.19,1003.71 \n",
       "  \"/>\n",
       "<polyline clip-path=\"url(#clip732)\" style=\"stroke:#000000; stroke-linecap:butt; stroke-linejoin:round; stroke-width:4; stroke-opacity:1; fill:none\" points=\"\n",
       "  1411.6,923.383 1411.6,912.591 \n",
       "  \"/>\n",
       "<polyline clip-path=\"url(#clip732)\" style=\"stroke:#000000; stroke-linecap:butt; stroke-linejoin:round; stroke-width:4; stroke-opacity:1; fill:none\" points=\"\n",
       "  1632.01,800.048 1632.01,723.722 \n",
       "  \"/>\n",
       "<polyline clip-path=\"url(#clip732)\" style=\"stroke:#000000; stroke-linecap:butt; stroke-linejoin:round; stroke-width:4; stroke-opacity:1; fill:none\" points=\"\n",
       "  1852.42,649.88 1852.42,636.042 \n",
       "  \"/>\n",
       "<polyline clip-path=\"url(#clip732)\" style=\"stroke:#000000; stroke-linecap:butt; stroke-linejoin:round; stroke-width:4; stroke-opacity:1; fill:none\" points=\"\n",
       "  2072.83,438.919 2072.83,407.779 \n",
       "  \"/>\n",
       "<polyline clip-path=\"url(#clip732)\" style=\"stroke:#000000; stroke-linecap:butt; stroke-linejoin:round; stroke-width:4; stroke-opacity:1; fill:none\" points=\"\n",
       "  2293.24,214.301 2293.24,160.256 \n",
       "  \"/>\n",
       "<line clip-path=\"url(#clip732)\" x1=\"325.539\" y1=\"1386.4\" x2=\"293.539\" y2=\"1386.4\" style=\"stroke:#000000; stroke-width:3.2; stroke-opacity:1\"/>\n",
       "<line clip-path=\"url(#clip732)\" x1=\"325.539\" y1=\"1211.45\" x2=\"293.539\" y2=\"1211.45\" style=\"stroke:#000000; stroke-width:3.2; stroke-opacity:1\"/>\n",
       "<line clip-path=\"url(#clip732)\" x1=\"545.951\" y1=\"1298.23\" x2=\"513.951\" y2=\"1298.23\" style=\"stroke:#000000; stroke-width:3.2; stroke-opacity:1\"/>\n",
       "<line clip-path=\"url(#clip732)\" x1=\"545.951\" y1=\"1291.04\" x2=\"513.951\" y2=\"1291.04\" style=\"stroke:#000000; stroke-width:3.2; stroke-opacity:1\"/>\n",
       "<line clip-path=\"url(#clip732)\" x1=\"766.363\" y1=\"1308.69\" x2=\"734.363\" y2=\"1308.69\" style=\"stroke:#000000; stroke-width:3.2; stroke-opacity:1\"/>\n",
       "<line clip-path=\"url(#clip732)\" x1=\"766.363\" y1=\"1089.02\" x2=\"734.363\" y2=\"1089.02\" style=\"stroke:#000000; stroke-width:3.2; stroke-opacity:1\"/>\n",
       "<line clip-path=\"url(#clip732)\" x1=\"986.774\" y1=\"1173.87\" x2=\"954.774\" y2=\"1173.87\" style=\"stroke:#000000; stroke-width:3.2; stroke-opacity:1\"/>\n",
       "<line clip-path=\"url(#clip732)\" x1=\"986.774\" y1=\"1110.56\" x2=\"954.774\" y2=\"1110.56\" style=\"stroke:#000000; stroke-width:3.2; stroke-opacity:1\"/>\n",
       "<line clip-path=\"url(#clip732)\" x1=\"1207.19\" y1=\"1062.61\" x2=\"1175.19\" y2=\"1062.61\" style=\"stroke:#000000; stroke-width:3.2; stroke-opacity:1\"/>\n",
       "<line clip-path=\"url(#clip732)\" x1=\"1207.19\" y1=\"1003.71\" x2=\"1175.19\" y2=\"1003.71\" style=\"stroke:#000000; stroke-width:3.2; stroke-opacity:1\"/>\n",
       "<line clip-path=\"url(#clip732)\" x1=\"1427.6\" y1=\"923.383\" x2=\"1395.6\" y2=\"923.383\" style=\"stroke:#000000; stroke-width:3.2; stroke-opacity:1\"/>\n",
       "<line clip-path=\"url(#clip732)\" x1=\"1427.6\" y1=\"912.591\" x2=\"1395.6\" y2=\"912.591\" style=\"stroke:#000000; stroke-width:3.2; stroke-opacity:1\"/>\n",
       "<line clip-path=\"url(#clip732)\" x1=\"1648.01\" y1=\"800.048\" x2=\"1616.01\" y2=\"800.048\" style=\"stroke:#000000; stroke-width:3.2; stroke-opacity:1\"/>\n",
       "<line clip-path=\"url(#clip732)\" x1=\"1648.01\" y1=\"723.722\" x2=\"1616.01\" y2=\"723.722\" style=\"stroke:#000000; stroke-width:3.2; stroke-opacity:1\"/>\n",
       "<line clip-path=\"url(#clip732)\" x1=\"1868.42\" y1=\"649.88\" x2=\"1836.42\" y2=\"649.88\" style=\"stroke:#000000; stroke-width:3.2; stroke-opacity:1\"/>\n",
       "<line clip-path=\"url(#clip732)\" x1=\"1868.42\" y1=\"636.042\" x2=\"1836.42\" y2=\"636.042\" style=\"stroke:#000000; stroke-width:3.2; stroke-opacity:1\"/>\n",
       "<line clip-path=\"url(#clip732)\" x1=\"2088.83\" y1=\"438.919\" x2=\"2056.83\" y2=\"438.919\" style=\"stroke:#000000; stroke-width:3.2; stroke-opacity:1\"/>\n",
       "<line clip-path=\"url(#clip732)\" x1=\"2088.83\" y1=\"407.779\" x2=\"2056.83\" y2=\"407.779\" style=\"stroke:#000000; stroke-width:3.2; stroke-opacity:1\"/>\n",
       "<line clip-path=\"url(#clip732)\" x1=\"2309.24\" y1=\"214.301\" x2=\"2277.24\" y2=\"214.301\" style=\"stroke:#000000; stroke-width:3.2; stroke-opacity:1\"/>\n",
       "<line clip-path=\"url(#clip732)\" x1=\"2309.24\" y1=\"160.256\" x2=\"2277.24\" y2=\"160.256\" style=\"stroke:#000000; stroke-width:3.2; stroke-opacity:1\"/>\n",
       "<circle clip-path=\"url(#clip732)\" cx=\"309.539\" cy=\"1298.92\" r=\"14\" fill=\"#009af9\" fill-rule=\"evenodd\" fill-opacity=\"1\" stroke=\"#000000\" stroke-opacity=\"1\" stroke-width=\"3.2\"/>\n",
       "<circle clip-path=\"url(#clip732)\" cx=\"529.951\" cy=\"1294.63\" r=\"14\" fill=\"#009af9\" fill-rule=\"evenodd\" fill-opacity=\"1\" stroke=\"#000000\" stroke-opacity=\"1\" stroke-width=\"3.2\"/>\n",
       "<circle clip-path=\"url(#clip732)\" cx=\"750.363\" cy=\"1198.85\" r=\"14\" fill=\"#009af9\" fill-rule=\"evenodd\" fill-opacity=\"1\" stroke=\"#000000\" stroke-opacity=\"1\" stroke-width=\"3.2\"/>\n",
       "<circle clip-path=\"url(#clip732)\" cx=\"970.774\" cy=\"1142.21\" r=\"14\" fill=\"#009af9\" fill-rule=\"evenodd\" fill-opacity=\"1\" stroke=\"#000000\" stroke-opacity=\"1\" stroke-width=\"3.2\"/>\n",
       "<circle clip-path=\"url(#clip732)\" cx=\"1191.19\" cy=\"1033.16\" r=\"14\" fill=\"#009af9\" fill-rule=\"evenodd\" fill-opacity=\"1\" stroke=\"#000000\" stroke-opacity=\"1\" stroke-width=\"3.2\"/>\n",
       "<circle clip-path=\"url(#clip732)\" cx=\"1411.6\" cy=\"917.987\" r=\"14\" fill=\"#009af9\" fill-rule=\"evenodd\" fill-opacity=\"1\" stroke=\"#000000\" stroke-opacity=\"1\" stroke-width=\"3.2\"/>\n",
       "<circle clip-path=\"url(#clip732)\" cx=\"1632.01\" cy=\"761.885\" r=\"14\" fill=\"#009af9\" fill-rule=\"evenodd\" fill-opacity=\"1\" stroke=\"#000000\" stroke-opacity=\"1\" stroke-width=\"3.2\"/>\n",
       "<circle clip-path=\"url(#clip732)\" cx=\"1852.42\" cy=\"642.961\" r=\"14\" fill=\"#009af9\" fill-rule=\"evenodd\" fill-opacity=\"1\" stroke=\"#000000\" stroke-opacity=\"1\" stroke-width=\"3.2\"/>\n",
       "<circle clip-path=\"url(#clip732)\" cx=\"2072.83\" cy=\"423.349\" r=\"14\" fill=\"#009af9\" fill-rule=\"evenodd\" fill-opacity=\"1\" stroke=\"#000000\" stroke-opacity=\"1\" stroke-width=\"3.2\"/>\n",
       "<circle clip-path=\"url(#clip732)\" cx=\"2293.24\" cy=\"187.279\" r=\"14\" fill=\"#009af9\" fill-rule=\"evenodd\" fill-opacity=\"1\" stroke=\"#000000\" stroke-opacity=\"1\" stroke-width=\"3.2\"/>\n",
       "</svg>\n"
      ]
     },
     "execution_count": 92,
     "metadata": {},
     "output_type": "execute_result"
    }
   ],
   "source": [
    "plot1 = scatter(\n",
    "    title=\"Two vectors:\",\n",
    "    xaxis=\"n\",\n",
    "    yaxis=\"seconds\",\n",
    "    label=\"\",\n",
    "    stats.n,\n",
    "    stats.times_dot_mean,\n",
    "    yerr=stats.times_dot_std\n",
    ")\n",
    "plot2 = scatter(\n",
    "    title=\"Matrix and vector:\",\n",
    "    xaxis=\"n\",\n",
    "    yaxis=\"seconds\",\n",
    "    label=\"\",\n",
    "    stats.n,\n",
    "    stats.times_m_mean,\n",
    "    yerr=stats.times_m_std\n",
    ")"
   ]
  },
  {
   "cell_type": "code",
   "execution_count": 93,
   "metadata": {},
   "outputs": [
    {
     "data": {
      "image/svg+xml": [
       "<?xml version=\"1.0\" encoding=\"utf-8\"?>\n",
       "<svg xmlns=\"http://www.w3.org/2000/svg\" xmlns:xlink=\"http://www.w3.org/1999/xlink\" width=\"600\" height=\"400\" viewBox=\"0 0 2400 1600\">\n",
       "<defs>\n",
       "  <clipPath id=\"clip770\">\n",
       "    <rect x=\"0\" y=\"0\" width=\"2400\" height=\"1600\"/>\n",
       "  </clipPath>\n",
       "</defs>\n",
       "<path clip-path=\"url(#clip770)\" d=\"\n",
       "M0 1600 L2400 1600 L2400 0 L0 0  Z\n",
       "  \" fill=\"#ffffff\" fill-rule=\"evenodd\" fill-opacity=\"1\"/>\n",
       "<defs>\n",
       "  <clipPath id=\"clip771\">\n",
       "    <rect x=\"480\" y=\"0\" width=\"1681\" height=\"1600\"/>\n",
       "  </clipPath>\n",
       "</defs>\n",
       "<path clip-path=\"url(#clip770)\" d=\"\n",
       "M399.514 1423.18 L1227.5 1423.18 L1227.5 123.472 L399.514 123.472  Z\n",
       "  \" fill=\"#ffffff\" fill-rule=\"evenodd\" fill-opacity=\"1\"/>\n",
       "<defs>\n",
       "  <clipPath id=\"clip772\">\n",
       "    <rect x=\"399\" y=\"123\" width=\"829\" height=\"1301\"/>\n",
       "  </clipPath>\n",
       "</defs>\n",
       "<polyline clip-path=\"url(#clip772)\" style=\"stroke:#000000; stroke-linecap:butt; stroke-linejoin:round; stroke-width:2; stroke-opacity:0.1; fill:none\" points=\"\n",
       "  509.738,1423.18 509.738,123.472 \n",
       "  \"/>\n",
       "<polyline clip-path=\"url(#clip772)\" style=\"stroke:#000000; stroke-linecap:butt; stroke-linejoin:round; stroke-width:2; stroke-opacity:0.1; fill:none\" points=\"\n",
       "  683.32,1423.18 683.32,123.472 \n",
       "  \"/>\n",
       "<polyline clip-path=\"url(#clip772)\" style=\"stroke:#000000; stroke-linecap:butt; stroke-linejoin:round; stroke-width:2; stroke-opacity:0.1; fill:none\" points=\"\n",
       "  856.902,1423.18 856.902,123.472 \n",
       "  \"/>\n",
       "<polyline clip-path=\"url(#clip772)\" style=\"stroke:#000000; stroke-linecap:butt; stroke-linejoin:round; stroke-width:2; stroke-opacity:0.1; fill:none\" points=\"\n",
       "  1030.48,1423.18 1030.48,123.472 \n",
       "  \"/>\n",
       "<polyline clip-path=\"url(#clip772)\" style=\"stroke:#000000; stroke-linecap:butt; stroke-linejoin:round; stroke-width:2; stroke-opacity:0.1; fill:none\" points=\"\n",
       "  1204.07,1423.18 1204.07,123.472 \n",
       "  \"/>\n",
       "<polyline clip-path=\"url(#clip770)\" style=\"stroke:#000000; stroke-linecap:butt; stroke-linejoin:round; stroke-width:4; stroke-opacity:1; fill:none\" points=\"\n",
       "  399.514,1423.18 1227.5,1423.18 \n",
       "  \"/>\n",
       "<polyline clip-path=\"url(#clip770)\" style=\"stroke:#000000; stroke-linecap:butt; stroke-linejoin:round; stroke-width:4; stroke-opacity:1; fill:none\" points=\"\n",
       "  509.738,1423.18 509.738,1404.28 \n",
       "  \"/>\n",
       "<polyline clip-path=\"url(#clip770)\" style=\"stroke:#000000; stroke-linecap:butt; stroke-linejoin:round; stroke-width:4; stroke-opacity:1; fill:none\" points=\"\n",
       "  683.32,1423.18 683.32,1404.28 \n",
       "  \"/>\n",
       "<polyline clip-path=\"url(#clip770)\" style=\"stroke:#000000; stroke-linecap:butt; stroke-linejoin:round; stroke-width:4; stroke-opacity:1; fill:none\" points=\"\n",
       "  856.902,1423.18 856.902,1404.28 \n",
       "  \"/>\n",
       "<polyline clip-path=\"url(#clip770)\" style=\"stroke:#000000; stroke-linecap:butt; stroke-linejoin:round; stroke-width:4; stroke-opacity:1; fill:none\" points=\"\n",
       "  1030.48,1423.18 1030.48,1404.28 \n",
       "  \"/>\n",
       "<polyline clip-path=\"url(#clip770)\" style=\"stroke:#000000; stroke-linecap:butt; stroke-linejoin:round; stroke-width:4; stroke-opacity:1; fill:none\" points=\"\n",
       "  1204.07,1423.18 1204.07,1404.28 \n",
       "  \"/>\n",
       "<path clip-path=\"url(#clip770)\" d=\"M458.35 1481.64 L474.669 1481.64 L474.669 1485.58 L452.725 1485.58 L452.725 1481.64 Q455.387 1478.89 459.97 1474.26 Q464.576 1469.61 465.757 1468.27 Q468.002 1465.74 468.882 1464.01 Q469.785 1462.25 469.785 1460.56 Q469.785 1457.8 467.84 1456.07 Q465.919 1454.33 462.817 1454.33 Q460.618 1454.33 458.164 1455.09 Q455.734 1455.86 452.956 1457.41 L452.956 1452.69 Q455.78 1451.55 458.234 1450.97 Q460.687 1450.39 462.725 1450.39 Q468.095 1450.39 471.289 1453.08 Q474.484 1455.77 474.484 1460.26 Q474.484 1462.39 473.674 1464.31 Q472.886 1466.2 470.78 1468.8 Q470.201 1469.47 467.099 1472.69 Q463.998 1475.88 458.35 1481.64 Z\" fill=\"#000000\" fill-rule=\"evenodd\" fill-opacity=\"1\" /><path clip-path=\"url(#clip770)\" d=\"M494.484 1454.1 Q490.873 1454.1 489.044 1457.66 Q487.238 1461.2 487.238 1468.33 Q487.238 1475.44 489.044 1479.01 Q490.873 1482.55 494.484 1482.55 Q498.118 1482.55 499.923 1479.01 Q501.752 1475.44 501.752 1468.33 Q501.752 1461.2 499.923 1457.66 Q498.118 1454.1 494.484 1454.1 M494.484 1450.39 Q500.294 1450.39 503.349 1455 Q506.428 1459.58 506.428 1468.33 Q506.428 1477.06 503.349 1481.67 Q500.294 1486.25 494.484 1486.25 Q488.673 1486.25 485.595 1481.67 Q482.539 1477.06 482.539 1468.33 Q482.539 1459.58 485.595 1455 Q488.673 1450.39 494.484 1450.39 Z\" fill=\"#000000\" fill-rule=\"evenodd\" fill-opacity=\"1\" /><path clip-path=\"url(#clip770)\" d=\"M524.645 1454.1 Q521.034 1454.1 519.206 1457.66 Q517.4 1461.2 517.4 1468.33 Q517.4 1475.44 519.206 1479.01 Q521.034 1482.55 524.645 1482.55 Q528.28 1482.55 530.085 1479.01 Q531.914 1475.44 531.914 1468.33 Q531.914 1461.2 530.085 1457.66 Q528.28 1454.1 524.645 1454.1 M524.645 1450.39 Q530.456 1450.39 533.511 1455 Q536.59 1459.58 536.59 1468.33 Q536.59 1477.06 533.511 1481.67 Q530.456 1486.25 524.645 1486.25 Q518.835 1486.25 515.757 1481.67 Q512.701 1477.06 512.701 1468.33 Q512.701 1459.58 515.757 1455 Q518.835 1450.39 524.645 1450.39 Z\" fill=\"#000000\" fill-rule=\"evenodd\" fill-opacity=\"1\" /><path clip-path=\"url(#clip770)\" d=\"M554.807 1454.1 Q551.196 1454.1 549.368 1457.66 Q547.562 1461.2 547.562 1468.33 Q547.562 1475.44 549.368 1479.01 Q551.196 1482.55 554.807 1482.55 Q558.442 1482.55 560.247 1479.01 Q562.076 1475.44 562.076 1468.33 Q562.076 1461.2 560.247 1457.66 Q558.442 1454.1 554.807 1454.1 M554.807 1450.39 Q560.618 1450.39 563.673 1455 Q566.752 1459.58 566.752 1468.33 Q566.752 1477.06 563.673 1481.67 Q560.618 1486.25 554.807 1486.25 Q548.997 1486.25 545.919 1481.67 Q542.863 1477.06 542.863 1468.33 Q542.863 1459.58 545.919 1455 Q548.997 1450.39 554.807 1450.39 Z\" fill=\"#000000\" fill-rule=\"evenodd\" fill-opacity=\"1\" /><path clip-path=\"url(#clip770)\" d=\"M641.329 1455.09 L629.524 1473.54 L641.329 1473.54 L641.329 1455.09 M640.103 1451.02 L645.982 1451.02 L645.982 1473.54 L650.913 1473.54 L650.913 1477.43 L645.982 1477.43 L645.982 1485.58 L641.329 1485.58 L641.329 1477.43 L625.728 1477.43 L625.728 1472.92 L640.103 1451.02 Z\" fill=\"#000000\" fill-rule=\"evenodd\" fill-opacity=\"1\" /><path clip-path=\"url(#clip770)\" d=\"M668.644 1454.1 Q665.033 1454.1 663.204 1457.66 Q661.399 1461.2 661.399 1468.33 Q661.399 1475.44 663.204 1479.01 Q665.033 1482.55 668.644 1482.55 Q672.278 1482.55 674.084 1479.01 Q675.913 1475.44 675.913 1468.33 Q675.913 1461.2 674.084 1457.66 Q672.278 1454.1 668.644 1454.1 M668.644 1450.39 Q674.454 1450.39 677.51 1455 Q680.588 1459.58 680.588 1468.33 Q680.588 1477.06 677.51 1481.67 Q674.454 1486.25 668.644 1486.25 Q662.834 1486.25 659.755 1481.67 Q656.7 1477.06 656.7 1468.33 Q656.7 1459.58 659.755 1455 Q662.834 1450.39 668.644 1450.39 Z\" fill=\"#000000\" fill-rule=\"evenodd\" fill-opacity=\"1\" /><path clip-path=\"url(#clip770)\" d=\"M698.806 1454.1 Q695.195 1454.1 693.366 1457.66 Q691.561 1461.2 691.561 1468.33 Q691.561 1475.44 693.366 1479.01 Q695.195 1482.55 698.806 1482.55 Q702.44 1482.55 704.246 1479.01 Q706.074 1475.44 706.074 1468.33 Q706.074 1461.2 704.246 1457.66 Q702.44 1454.1 698.806 1454.1 M698.806 1450.39 Q704.616 1450.39 707.672 1455 Q710.75 1459.58 710.75 1468.33 Q710.75 1477.06 707.672 1481.67 Q704.616 1486.25 698.806 1486.25 Q692.996 1486.25 689.917 1481.67 Q686.862 1477.06 686.862 1468.33 Q686.862 1459.58 689.917 1455 Q692.996 1450.39 698.806 1450.39 Z\" fill=\"#000000\" fill-rule=\"evenodd\" fill-opacity=\"1\" /><path clip-path=\"url(#clip770)\" d=\"M728.968 1454.1 Q725.357 1454.1 723.528 1457.66 Q721.722 1461.2 721.722 1468.33 Q721.722 1475.44 723.528 1479.01 Q725.357 1482.55 728.968 1482.55 Q732.602 1482.55 734.408 1479.01 Q736.236 1475.44 736.236 1468.33 Q736.236 1461.2 734.408 1457.66 Q732.602 1454.1 728.968 1454.1 M728.968 1450.39 Q734.778 1450.39 737.834 1455 Q740.912 1459.58 740.912 1468.33 Q740.912 1477.06 737.834 1481.67 Q734.778 1486.25 728.968 1486.25 Q723.158 1486.25 720.079 1481.67 Q717.023 1477.06 717.023 1468.33 Q717.023 1459.58 720.079 1455 Q723.158 1450.39 728.968 1450.39 Z\" fill=\"#000000\" fill-rule=\"evenodd\" fill-opacity=\"1\" /><path clip-path=\"url(#clip770)\" d=\"M812.145 1466.44 Q808.997 1466.44 807.145 1468.59 Q805.316 1470.74 805.316 1474.49 Q805.316 1478.22 807.145 1480.39 Q808.997 1482.55 812.145 1482.55 Q815.293 1482.55 817.122 1480.39 Q818.974 1478.22 818.974 1474.49 Q818.974 1470.74 817.122 1468.59 Q815.293 1466.44 812.145 1466.44 M821.427 1451.78 L821.427 1456.04 Q819.668 1455.21 817.863 1454.77 Q816.08 1454.33 814.321 1454.33 Q809.691 1454.33 807.238 1457.45 Q804.807 1460.58 804.46 1466.9 Q805.826 1464.89 807.886 1463.82 Q809.946 1462.73 812.423 1462.73 Q817.631 1462.73 820.64 1465.9 Q823.673 1469.05 823.673 1474.49 Q823.673 1479.82 820.525 1483.03 Q817.376 1486.25 812.145 1486.25 Q806.15 1486.25 802.978 1481.67 Q799.807 1477.06 799.807 1468.33 Q799.807 1460.14 803.696 1455.28 Q807.585 1450.39 814.136 1450.39 Q815.895 1450.39 817.677 1450.74 Q819.483 1451.09 821.427 1451.78 Z\" fill=\"#000000\" fill-rule=\"evenodd\" fill-opacity=\"1\" /><path clip-path=\"url(#clip770)\" d=\"M841.728 1454.1 Q838.117 1454.1 836.288 1457.66 Q834.483 1461.2 834.483 1468.33 Q834.483 1475.44 836.288 1479.01 Q838.117 1482.55 841.728 1482.55 Q845.362 1482.55 847.168 1479.01 Q848.997 1475.44 848.997 1468.33 Q848.997 1461.2 847.168 1457.66 Q845.362 1454.1 841.728 1454.1 M841.728 1450.39 Q847.538 1450.39 850.594 1455 Q853.673 1459.58 853.673 1468.33 Q853.673 1477.06 850.594 1481.67 Q847.538 1486.25 841.728 1486.25 Q835.918 1486.25 832.839 1481.67 Q829.784 1477.06 829.784 1468.33 Q829.784 1459.58 832.839 1455 Q835.918 1450.39 841.728 1450.39 Z\" fill=\"#000000\" fill-rule=\"evenodd\" fill-opacity=\"1\" /><path clip-path=\"url(#clip770)\" d=\"M871.89 1454.1 Q868.279 1454.1 866.45 1457.66 Q864.645 1461.2 864.645 1468.33 Q864.645 1475.44 866.45 1479.01 Q868.279 1482.55 871.89 1482.55 Q875.524 1482.55 877.33 1479.01 Q879.158 1475.44 879.158 1468.33 Q879.158 1461.2 877.33 1457.66 Q875.524 1454.1 871.89 1454.1 M871.89 1450.39 Q877.7 1450.39 880.756 1455 Q883.834 1459.58 883.834 1468.33 Q883.834 1477.06 880.756 1481.67 Q877.7 1486.25 871.89 1486.25 Q866.08 1486.25 863.001 1481.67 Q859.946 1477.06 859.946 1468.33 Q859.946 1459.58 863.001 1455 Q866.08 1450.39 871.89 1450.39 Z\" fill=\"#000000\" fill-rule=\"evenodd\" fill-opacity=\"1\" /><path clip-path=\"url(#clip770)\" d=\"M902.052 1454.1 Q898.441 1454.1 896.612 1457.66 Q894.807 1461.2 894.807 1468.33 Q894.807 1475.44 896.612 1479.01 Q898.441 1482.55 902.052 1482.55 Q905.686 1482.55 907.492 1479.01 Q909.32 1475.44 909.32 1468.33 Q909.32 1461.2 907.492 1457.66 Q905.686 1454.1 902.052 1454.1 M902.052 1450.39 Q907.862 1450.39 910.918 1455 Q913.996 1459.58 913.996 1468.33 Q913.996 1477.06 910.918 1481.67 Q907.862 1486.25 902.052 1486.25 Q896.242 1486.25 893.163 1481.67 Q890.108 1477.06 890.108 1468.33 Q890.108 1459.58 893.163 1455 Q896.242 1450.39 902.052 1450.39 Z\" fill=\"#000000\" fill-rule=\"evenodd\" fill-opacity=\"1\" /><path clip-path=\"url(#clip770)\" d=\"M985.194 1469.17 Q981.861 1469.17 979.94 1470.95 Q978.042 1472.73 978.042 1475.86 Q978.042 1478.98 979.94 1480.77 Q981.861 1482.55 985.194 1482.55 Q988.528 1482.55 990.449 1480.77 Q992.37 1478.96 992.37 1475.86 Q992.37 1472.73 990.449 1470.95 Q988.551 1469.17 985.194 1469.17 M980.518 1467.18 Q977.509 1466.44 975.819 1464.38 Q974.153 1462.32 974.153 1459.35 Q974.153 1455.21 977.092 1452.8 Q980.055 1450.39 985.194 1450.39 Q990.356 1450.39 993.296 1452.8 Q996.236 1455.21 996.236 1459.35 Q996.236 1462.32 994.546 1464.38 Q992.879 1466.44 989.893 1467.18 Q993.273 1467.96 995.148 1470.26 Q997.046 1472.55 997.046 1475.86 Q997.046 1480.88 993.967 1483.57 Q990.912 1486.25 985.194 1486.25 Q979.477 1486.25 976.398 1483.57 Q973.343 1480.88 973.343 1475.86 Q973.343 1472.55 975.241 1470.26 Q977.139 1467.96 980.518 1467.18 M978.805 1459.79 Q978.805 1462.48 980.472 1463.98 Q982.162 1465.49 985.194 1465.49 Q988.204 1465.49 989.893 1463.98 Q991.606 1462.48 991.606 1459.79 Q991.606 1457.11 989.893 1455.6 Q988.204 1454.1 985.194 1454.1 Q982.162 1454.1 980.472 1455.6 Q978.805 1457.11 978.805 1459.79 Z\" fill=\"#000000\" fill-rule=\"evenodd\" fill-opacity=\"1\" /><path clip-path=\"url(#clip770)\" d=\"M1015.36 1454.1 Q1011.75 1454.1 1009.92 1457.66 Q1008.11 1461.2 1008.11 1468.33 Q1008.11 1475.44 1009.92 1479.01 Q1011.75 1482.55 1015.36 1482.55 Q1018.99 1482.55 1020.8 1479.01 Q1022.62 1475.44 1022.62 1468.33 Q1022.62 1461.2 1020.8 1457.66 Q1018.99 1454.1 1015.36 1454.1 M1015.36 1450.39 Q1021.17 1450.39 1024.22 1455 Q1027.3 1459.58 1027.3 1468.33 Q1027.3 1477.06 1024.22 1481.67 Q1021.17 1486.25 1015.36 1486.25 Q1009.55 1486.25 1006.47 1481.67 Q1003.41 1477.06 1003.41 1468.33 Q1003.41 1459.58 1006.47 1455 Q1009.55 1450.39 1015.36 1450.39 Z\" fill=\"#000000\" fill-rule=\"evenodd\" fill-opacity=\"1\" /><path clip-path=\"url(#clip770)\" d=\"M1045.52 1454.1 Q1041.91 1454.1 1040.08 1457.66 Q1038.27 1461.2 1038.27 1468.33 Q1038.27 1475.44 1040.08 1479.01 Q1041.91 1482.55 1045.52 1482.55 Q1049.15 1482.55 1050.96 1479.01 Q1052.79 1475.44 1052.79 1468.33 Q1052.79 1461.2 1050.96 1457.66 Q1049.15 1454.1 1045.52 1454.1 M1045.52 1450.39 Q1051.33 1450.39 1054.38 1455 Q1057.46 1459.58 1057.46 1468.33 Q1057.46 1477.06 1054.38 1481.67 Q1051.33 1486.25 1045.52 1486.25 Q1039.71 1486.25 1036.63 1481.67 Q1033.57 1477.06 1033.57 1468.33 Q1033.57 1459.58 1036.63 1455 Q1039.71 1450.39 1045.52 1450.39 Z\" fill=\"#000000\" fill-rule=\"evenodd\" fill-opacity=\"1\" /><path clip-path=\"url(#clip770)\" d=\"M1075.68 1454.1 Q1072.07 1454.1 1070.24 1457.66 Q1068.43 1461.2 1068.43 1468.33 Q1068.43 1475.44 1070.24 1479.01 Q1072.07 1482.55 1075.68 1482.55 Q1079.31 1482.55 1081.12 1479.01 Q1082.95 1475.44 1082.95 1468.33 Q1082.95 1461.2 1081.12 1457.66 Q1079.31 1454.1 1075.68 1454.1 M1075.68 1450.39 Q1081.49 1450.39 1084.55 1455 Q1087.62 1459.58 1087.62 1468.33 Q1087.62 1477.06 1084.55 1481.67 Q1081.49 1486.25 1075.68 1486.25 Q1069.87 1486.25 1066.79 1481.67 Q1063.74 1477.06 1063.74 1468.33 Q1063.74 1459.58 1066.79 1455 Q1069.87 1450.39 1075.68 1450.39 Z\" fill=\"#000000\" fill-rule=\"evenodd\" fill-opacity=\"1\" /><path clip-path=\"url(#clip770)\" d=\"M1133.51 1481.64 L1141.15 1481.64 L1141.15 1455.28 L1132.84 1456.95 L1132.84 1452.69 L1141.1 1451.02 L1145.78 1451.02 L1145.78 1481.64 L1153.42 1481.64 L1153.42 1485.58 L1133.51 1485.58 L1133.51 1481.64 Z\" fill=\"#000000\" fill-rule=\"evenodd\" fill-opacity=\"1\" /><path clip-path=\"url(#clip770)\" d=\"M1172.86 1454.1 Q1169.25 1454.1 1167.42 1457.66 Q1165.62 1461.2 1165.62 1468.33 Q1165.62 1475.44 1167.42 1479.01 Q1169.25 1482.55 1172.86 1482.55 Q1176.5 1482.55 1178.3 1479.01 Q1180.13 1475.44 1180.13 1468.33 Q1180.13 1461.2 1178.3 1457.66 Q1176.5 1454.1 1172.86 1454.1 M1172.86 1450.39 Q1178.67 1450.39 1181.73 1455 Q1184.81 1459.58 1184.81 1468.33 Q1184.81 1477.06 1181.73 1481.67 Q1178.67 1486.25 1172.86 1486.25 Q1167.05 1486.25 1163.97 1481.67 Q1160.92 1477.06 1160.92 1468.33 Q1160.92 1459.58 1163.97 1455 Q1167.05 1450.39 1172.86 1450.39 Z\" fill=\"#000000\" fill-rule=\"evenodd\" fill-opacity=\"1\" /><path clip-path=\"url(#clip770)\" d=\"M1203.02 1454.1 Q1199.41 1454.1 1197.58 1457.66 Q1195.78 1461.2 1195.78 1468.33 Q1195.78 1475.44 1197.58 1479.01 Q1199.41 1482.55 1203.02 1482.55 Q1206.66 1482.55 1208.46 1479.01 Q1210.29 1475.44 1210.29 1468.33 Q1210.29 1461.2 1208.46 1457.66 Q1206.66 1454.1 1203.02 1454.1 M1203.02 1450.39 Q1208.83 1450.39 1211.89 1455 Q1214.97 1459.58 1214.97 1468.33 Q1214.97 1477.06 1211.89 1481.67 Q1208.83 1486.25 1203.02 1486.25 Q1197.21 1486.25 1194.13 1481.67 Q1191.08 1477.06 1191.08 1468.33 Q1191.08 1459.58 1194.13 1455 Q1197.21 1450.39 1203.02 1450.39 Z\" fill=\"#000000\" fill-rule=\"evenodd\" fill-opacity=\"1\" /><path clip-path=\"url(#clip770)\" d=\"M1233.19 1454.1 Q1229.57 1454.1 1227.75 1457.66 Q1225.94 1461.2 1225.94 1468.33 Q1225.94 1475.44 1227.75 1479.01 Q1229.57 1482.55 1233.19 1482.55 Q1236.82 1482.55 1238.63 1479.01 Q1240.45 1475.44 1240.45 1468.33 Q1240.45 1461.2 1238.63 1457.66 Q1236.82 1454.1 1233.19 1454.1 M1233.19 1450.39 Q1239 1450.39 1242.05 1455 Q1245.13 1459.58 1245.13 1468.33 Q1245.13 1477.06 1242.05 1481.67 Q1239 1486.25 1233.19 1486.25 Q1227.38 1486.25 1224.3 1481.67 Q1221.24 1477.06 1221.24 1468.33 Q1221.24 1459.58 1224.3 1455 Q1227.38 1450.39 1233.19 1450.39 Z\" fill=\"#000000\" fill-rule=\"evenodd\" fill-opacity=\"1\" /><path clip-path=\"url(#clip770)\" d=\"M1263.35 1454.1 Q1259.74 1454.1 1257.91 1457.66 Q1256.1 1461.2 1256.1 1468.33 Q1256.1 1475.44 1257.91 1479.01 Q1259.74 1482.55 1263.35 1482.55 Q1266.98 1482.55 1268.79 1479.01 Q1270.62 1475.44 1270.62 1468.33 Q1270.62 1461.2 1268.79 1457.66 Q1266.98 1454.1 1263.35 1454.1 M1263.35 1450.39 Q1269.16 1450.39 1272.21 1455 Q1275.29 1459.58 1275.29 1468.33 Q1275.29 1477.06 1272.21 1481.67 Q1269.16 1486.25 1263.35 1486.25 Q1257.54 1486.25 1254.46 1481.67 Q1251.4 1477.06 1251.4 1468.33 Q1251.4 1459.58 1254.46 1455 Q1257.54 1450.39 1263.35 1450.39 Z\" fill=\"#000000\" fill-rule=\"evenodd\" fill-opacity=\"1\" /><path clip-path=\"url(#clip770)\" d=\"M828.434 1546.53 L828.434 1568.04 L822.577 1568.04 L822.577 1546.72 Q822.577 1541.66 820.604 1539.14 Q818.631 1536.63 814.684 1536.63 Q809.941 1536.63 807.204 1539.65 Q804.467 1542.68 804.467 1547.9 L804.467 1568.04 L798.579 1568.04 L798.579 1532.4 L804.467 1532.4 L804.467 1537.93 Q806.568 1534.72 809.4 1533.13 Q812.265 1531.54 815.989 1531.54 Q822.132 1531.54 825.283 1535.36 Q828.434 1539.14 828.434 1546.53 Z\" fill=\"#000000\" fill-rule=\"evenodd\" fill-opacity=\"1\" /><polyline clip-path=\"url(#clip772)\" style=\"stroke:#000000; stroke-linecap:butt; stroke-linejoin:round; stroke-width:2; stroke-opacity:0.1; fill:none\" points=\"\n",
       "  399.514,1276.23 1227.5,1276.23 \n",
       "  \"/>\n",
       "<polyline clip-path=\"url(#clip772)\" style=\"stroke:#000000; stroke-linecap:butt; stroke-linejoin:round; stroke-width:2; stroke-opacity:0.1; fill:none\" points=\"\n",
       "  399.514,1026.85 1227.5,1026.85 \n",
       "  \"/>\n",
       "<polyline clip-path=\"url(#clip772)\" style=\"stroke:#000000; stroke-linecap:butt; stroke-linejoin:round; stroke-width:2; stroke-opacity:0.1; fill:none\" points=\"\n",
       "  399.514,777.478 1227.5,777.478 \n",
       "  \"/>\n",
       "<polyline clip-path=\"url(#clip772)\" style=\"stroke:#000000; stroke-linecap:butt; stroke-linejoin:round; stroke-width:2; stroke-opacity:0.1; fill:none\" points=\"\n",
       "  399.514,528.102 1227.5,528.102 \n",
       "  \"/>\n",
       "<polyline clip-path=\"url(#clip772)\" style=\"stroke:#000000; stroke-linecap:butt; stroke-linejoin:round; stroke-width:2; stroke-opacity:0.1; fill:none\" points=\"\n",
       "  399.514,278.726 1227.5,278.726 \n",
       "  \"/>\n",
       "<polyline clip-path=\"url(#clip770)\" style=\"stroke:#000000; stroke-linecap:butt; stroke-linejoin:round; stroke-width:4; stroke-opacity:1; fill:none\" points=\"\n",
       "  399.514,1423.18 399.514,123.472 \n",
       "  \"/>\n",
       "<polyline clip-path=\"url(#clip770)\" style=\"stroke:#000000; stroke-linecap:butt; stroke-linejoin:round; stroke-width:4; stroke-opacity:1; fill:none\" points=\"\n",
       "  399.514,1276.23 418.411,1276.23 \n",
       "  \"/>\n",
       "<polyline clip-path=\"url(#clip770)\" style=\"stroke:#000000; stroke-linecap:butt; stroke-linejoin:round; stroke-width:4; stroke-opacity:1; fill:none\" points=\"\n",
       "  399.514,1026.85 418.411,1026.85 \n",
       "  \"/>\n",
       "<polyline clip-path=\"url(#clip770)\" style=\"stroke:#000000; stroke-linecap:butt; stroke-linejoin:round; stroke-width:4; stroke-opacity:1; fill:none\" points=\"\n",
       "  399.514,777.478 418.411,777.478 \n",
       "  \"/>\n",
       "<polyline clip-path=\"url(#clip770)\" style=\"stroke:#000000; stroke-linecap:butt; stroke-linejoin:round; stroke-width:4; stroke-opacity:1; fill:none\" points=\"\n",
       "  399.514,528.102 418.411,528.102 \n",
       "  \"/>\n",
       "<polyline clip-path=\"url(#clip770)\" style=\"stroke:#000000; stroke-linecap:butt; stroke-linejoin:round; stroke-width:4; stroke-opacity:1; fill:none\" points=\"\n",
       "  399.514,278.726 418.411,278.726 \n",
       "  \"/>\n",
       "<path clip-path=\"url(#clip770)\" d=\"M351.569 1262.03 Q347.958 1262.03 346.13 1265.59 Q344.324 1269.14 344.324 1276.27 Q344.324 1283.37 346.13 1286.94 Q347.958 1290.48 351.569 1290.48 Q355.204 1290.48 357.009 1286.94 Q358.838 1283.37 358.838 1276.27 Q358.838 1269.14 357.009 1265.59 Q355.204 1262.03 351.569 1262.03 M351.569 1258.33 Q357.38 1258.33 360.435 1262.93 Q363.514 1267.52 363.514 1276.27 Q363.514 1284.99 360.435 1289.6 Q357.38 1294.18 351.569 1294.18 Q345.759 1294.18 342.681 1289.6 Q339.625 1284.99 339.625 1276.27 Q339.625 1267.52 342.681 1262.93 Q345.759 1258.33 351.569 1258.33 Z\" fill=\"#000000\" fill-rule=\"evenodd\" fill-opacity=\"1\" /><path clip-path=\"url(#clip770)\" d=\"M116.769 1016.02 L135.125 1016.02 L135.125 1019.96 L121.051 1019.96 L121.051 1028.43 Q122.07 1028.08 123.088 1027.92 Q124.107 1027.73 125.125 1027.73 Q130.912 1027.73 134.292 1030.91 Q137.671 1034.08 137.671 1039.49 Q137.671 1045.07 134.199 1048.17 Q130.727 1051.25 124.408 1051.25 Q122.232 1051.25 119.963 1050.88 Q117.718 1050.51 115.31 1049.77 L115.31 1045.07 Q117.394 1046.21 119.616 1046.76 Q121.838 1047.32 124.315 1047.32 Q128.32 1047.32 130.658 1045.21 Q132.996 1043.11 132.996 1039.49 Q132.996 1035.88 130.658 1033.78 Q128.32 1031.67 124.315 1031.67 Q122.44 1031.67 120.565 1032.09 Q118.713 1032.5 116.769 1033.38 L116.769 1016.02 Z\" fill=\"#000000\" fill-rule=\"evenodd\" fill-opacity=\"1\" /><path clip-path=\"url(#clip770)\" d=\"M146.884 1044.7 L151.769 1044.7 L151.769 1050.58 L146.884 1050.58 L146.884 1044.7 Z\" fill=\"#000000\" fill-rule=\"evenodd\" fill-opacity=\"1\" /><path clip-path=\"url(#clip770)\" d=\"M171.954 1019.1 Q168.343 1019.1 166.514 1022.67 Q164.708 1026.21 164.708 1033.34 Q164.708 1040.44 166.514 1044.01 Q168.343 1047.55 171.954 1047.55 Q175.588 1047.55 177.393 1044.01 Q179.222 1040.44 179.222 1033.34 Q179.222 1026.21 177.393 1022.67 Q175.588 1019.1 171.954 1019.1 M171.954 1015.4 Q177.764 1015.4 180.819 1020 Q183.898 1024.59 183.898 1033.34 Q183.898 1042.06 180.819 1046.67 Q177.764 1051.25 171.954 1051.25 Q166.144 1051.25 163.065 1046.67 Q160.009 1042.06 160.009 1033.34 Q160.009 1024.59 163.065 1020 Q166.144 1015.4 171.954 1015.4 Z\" fill=\"#000000\" fill-rule=\"evenodd\" fill-opacity=\"1\" /><path clip-path=\"url(#clip770)\" d=\"M202.116 1019.1 Q198.504 1019.1 196.676 1022.67 Q194.87 1026.21 194.87 1033.34 Q194.87 1040.44 196.676 1044.01 Q198.504 1047.55 202.116 1047.55 Q205.75 1047.55 207.555 1044.01 Q209.384 1040.44 209.384 1033.34 Q209.384 1026.21 207.555 1022.67 Q205.75 1019.1 202.116 1019.1 M202.116 1015.4 Q207.926 1015.4 210.981 1020 Q214.06 1024.59 214.06 1033.34 Q214.06 1042.06 210.981 1046.67 Q207.926 1051.25 202.116 1051.25 Q196.305 1051.25 193.227 1046.67 Q190.171 1042.06 190.171 1033.34 Q190.171 1024.59 193.227 1020 Q196.305 1015.4 202.116 1015.4 Z\" fill=\"#000000\" fill-rule=\"evenodd\" fill-opacity=\"1\" /><path clip-path=\"url(#clip770)\" d=\"M250.449 1025.12 L239.87 1035.74 L250.449 1046.32 L247.694 1049.12 L237.069 1038.5 L226.444 1049.12 L223.713 1046.32 L234.268 1035.74 L223.713 1025.12 L226.444 1022.32 L237.069 1032.94 L247.694 1022.32 L250.449 1025.12 Z\" fill=\"#000000\" fill-rule=\"evenodd\" fill-opacity=\"1\" /><path clip-path=\"url(#clip770)\" d=\"M262.81 1046.65 L270.449 1046.65 L270.449 1020.28 L262.138 1021.95 L262.138 1017.69 L270.402 1016.02 L275.078 1016.02 L275.078 1046.65 L282.717 1046.65 L282.717 1050.58 L262.81 1050.58 L262.81 1046.65 Z\" fill=\"#000000\" fill-rule=\"evenodd\" fill-opacity=\"1\" /><path clip-path=\"url(#clip770)\" d=\"M302.161 1019.1 Q298.55 1019.1 296.722 1022.67 Q294.916 1026.21 294.916 1033.34 Q294.916 1040.44 296.722 1044.01 Q298.55 1047.55 302.161 1047.55 Q305.796 1047.55 307.601 1044.01 Q309.43 1040.44 309.43 1033.34 Q309.43 1026.21 307.601 1022.67 Q305.796 1019.1 302.161 1019.1 M302.161 1015.4 Q307.972 1015.4 311.027 1020 Q314.106 1024.59 314.106 1033.34 Q314.106 1042.06 311.027 1046.67 Q307.972 1051.25 302.161 1051.25 Q296.351 1051.25 293.273 1046.67 Q290.217 1042.06 290.217 1033.34 Q290.217 1024.59 293.273 1020 Q296.351 1015.4 302.161 1015.4 Z\" fill=\"#000000\" fill-rule=\"evenodd\" fill-opacity=\"1\" /><path clip-path=\"url(#clip770)\" d=\"M314.106 1009.5 L338.217 1009.5 L338.217 1012.7 L314.106 1012.7 L314.106 1009.5 Z\" fill=\"#000000\" fill-rule=\"evenodd\" fill-opacity=\"1\" /><path clip-path=\"url(#clip770)\" d=\"M345.458 995.092 L363.514 995.092 L363.514 996.709 L353.32 1023.17 L349.351 1023.17 L358.943 998.289 L345.458 998.289 L345.458 995.092 Z\" fill=\"#000000\" fill-rule=\"evenodd\" fill-opacity=\"1\" /><path clip-path=\"url(#clip770)\" d=\"M116.668 797.27 L124.306 797.27 L124.306 770.905 L115.996 772.572 L115.996 768.312 L124.26 766.646 L128.936 766.646 L128.936 797.27 L136.575 797.27 L136.575 801.206 L116.668 801.206 L116.668 797.27 Z\" fill=\"#000000\" fill-rule=\"evenodd\" fill-opacity=\"1\" /><path clip-path=\"url(#clip770)\" d=\"M146.019 795.326 L150.903 795.326 L150.903 801.206 L146.019 801.206 L146.019 795.326 Z\" fill=\"#000000\" fill-rule=\"evenodd\" fill-opacity=\"1\" /><path clip-path=\"url(#clip770)\" d=\"M171.089 769.724 Q167.477 769.724 165.649 773.289 Q163.843 776.831 163.843 783.96 Q163.843 791.067 165.649 794.632 Q167.477 798.173 171.089 798.173 Q174.723 798.173 176.528 794.632 Q178.357 791.067 178.357 783.96 Q178.357 776.831 176.528 773.289 Q174.723 769.724 171.089 769.724 M171.089 766.021 Q176.899 766.021 179.954 770.627 Q183.033 775.21 183.033 783.96 Q183.033 792.687 179.954 797.294 Q176.899 801.877 171.089 801.877 Q165.278 801.877 162.2 797.294 Q159.144 792.687 159.144 783.96 Q159.144 775.21 162.2 770.627 Q165.278 766.021 171.089 766.021 Z\" fill=\"#000000\" fill-rule=\"evenodd\" fill-opacity=\"1\" /><path clip-path=\"url(#clip770)\" d=\"M201.25 769.724 Q197.639 769.724 195.811 773.289 Q194.005 776.831 194.005 783.96 Q194.005 791.067 195.811 794.632 Q197.639 798.173 201.25 798.173 Q204.885 798.173 206.69 794.632 Q208.519 791.067 208.519 783.96 Q208.519 776.831 206.69 773.289 Q204.885 769.724 201.25 769.724 M201.25 766.021 Q207.061 766.021 210.116 770.627 Q213.195 775.21 213.195 783.96 Q213.195 792.687 210.116 797.294 Q207.061 801.877 201.25 801.877 Q195.44 801.877 192.362 797.294 Q189.306 792.687 189.306 783.96 Q189.306 775.21 192.362 770.627 Q195.44 766.021 201.25 766.021 Z\" fill=\"#000000\" fill-rule=\"evenodd\" fill-opacity=\"1\" /><path clip-path=\"url(#clip770)\" d=\"M249.584 775.743 L239.005 786.368 L249.584 796.946 L246.829 799.747 L236.204 789.122 L225.579 799.747 L222.848 796.946 L233.403 786.368 L222.848 775.743 L225.579 772.942 L236.204 783.567 L246.829 772.942 L249.584 775.743 Z\" fill=\"#000000\" fill-rule=\"evenodd\" fill-opacity=\"1\" /><path clip-path=\"url(#clip770)\" d=\"M261.945 797.27 L269.583 797.27 L269.583 770.905 L261.273 772.572 L261.273 768.312 L269.537 766.646 L274.213 766.646 L274.213 797.27 L281.852 797.27 L281.852 801.206 L261.945 801.206 L261.945 797.27 Z\" fill=\"#000000\" fill-rule=\"evenodd\" fill-opacity=\"1\" /><path clip-path=\"url(#clip770)\" d=\"M301.296 769.724 Q297.685 769.724 295.856 773.289 Q294.051 776.831 294.051 783.96 Q294.051 791.067 295.856 794.632 Q297.685 798.173 301.296 798.173 Q304.93 798.173 306.736 794.632 Q308.565 791.067 308.565 783.96 Q308.565 776.831 306.736 773.289 Q304.93 769.724 301.296 769.724 M301.296 766.021 Q307.106 766.021 310.162 770.627 Q313.241 775.21 313.241 783.96 Q313.241 792.687 310.162 797.294 Q307.106 801.877 301.296 801.877 Q295.486 801.877 292.407 797.294 Q289.352 792.687 289.352 783.96 Q289.352 775.21 292.407 770.627 Q295.486 766.021 301.296 766.021 Z\" fill=\"#000000\" fill-rule=\"evenodd\" fill-opacity=\"1\" /><path clip-path=\"url(#clip770)\" d=\"M313.241 760.122 L337.352 760.122 L337.352 763.319 L313.241 763.319 L313.241 760.122 Z\" fill=\"#000000\" fill-rule=\"evenodd\" fill-opacity=\"1\" /><path clip-path=\"url(#clip770)\" d=\"M354.147 758.241 Q351.59 758.241 350.085 759.99 Q348.599 761.739 348.599 764.786 Q348.599 767.814 350.085 769.582 Q351.59 771.331 354.147 771.331 Q356.705 771.331 358.191 769.582 Q359.696 767.814 359.696 764.786 Q359.696 761.739 358.191 759.99 Q356.705 758.241 354.147 758.241 M361.689 746.336 L361.689 749.797 Q360.26 749.119 358.793 748.762 Q357.345 748.405 355.915 748.405 Q352.154 748.405 350.16 750.944 Q348.185 753.483 347.903 758.617 Q349.013 756.981 350.687 756.116 Q352.361 755.232 354.373 755.232 Q358.605 755.232 361.05 757.809 Q363.514 760.367 363.514 764.786 Q363.514 769.112 360.956 771.726 Q358.398 774.341 354.147 774.341 Q349.276 774.341 346.7 770.617 Q344.123 766.874 344.123 759.783 Q344.123 753.126 347.283 749.176 Q350.442 745.207 355.765 745.207 Q357.194 745.207 358.643 745.49 Q360.11 745.772 361.689 746.336 Z\" fill=\"#000000\" fill-rule=\"evenodd\" fill-opacity=\"1\" /><path clip-path=\"url(#clip770)\" d=\"M116.668 547.894 L124.306 547.894 L124.306 521.529 L115.996 523.195 L115.996 518.936 L124.26 517.269 L128.936 517.269 L128.936 547.894 L136.575 547.894 L136.575 551.829 L116.668 551.829 L116.668 547.894 Z\" fill=\"#000000\" fill-rule=\"evenodd\" fill-opacity=\"1\" /><path clip-path=\"url(#clip770)\" d=\"M146.019 545.95 L150.903 545.95 L150.903 551.829 L146.019 551.829 L146.019 545.95 Z\" fill=\"#000000\" fill-rule=\"evenodd\" fill-opacity=\"1\" /><path clip-path=\"url(#clip770)\" d=\"M161.135 517.269 L179.491 517.269 L179.491 521.205 L165.417 521.205 L165.417 529.677 Q166.436 529.33 167.454 529.167 Q168.473 528.982 169.491 528.982 Q175.278 528.982 178.658 532.154 Q182.038 535.325 182.038 540.741 Q182.038 546.32 178.565 549.422 Q175.093 552.501 168.774 552.501 Q166.598 552.501 164.329 552.13 Q162.084 551.76 159.677 551.019 L159.677 546.32 Q161.76 547.454 163.982 548.01 Q166.204 548.566 168.681 548.566 Q172.686 548.566 175.024 546.459 Q177.362 544.353 177.362 540.741 Q177.362 537.13 175.024 535.024 Q172.686 532.917 168.681 532.917 Q166.806 532.917 164.931 533.334 Q163.079 533.751 161.135 534.63 L161.135 517.269 Z\" fill=\"#000000\" fill-rule=\"evenodd\" fill-opacity=\"1\" /><path clip-path=\"url(#clip770)\" d=\"M201.25 520.348 Q197.639 520.348 195.811 523.913 Q194.005 527.455 194.005 534.584 Q194.005 541.691 195.811 545.255 Q197.639 548.797 201.25 548.797 Q204.885 548.797 206.69 545.255 Q208.519 541.691 208.519 534.584 Q208.519 527.455 206.69 523.913 Q204.885 520.348 201.25 520.348 M201.25 516.644 Q207.061 516.644 210.116 521.251 Q213.195 525.834 213.195 534.584 Q213.195 543.311 210.116 547.917 Q207.061 552.501 201.25 552.501 Q195.44 552.501 192.362 547.917 Q189.306 543.311 189.306 534.584 Q189.306 525.834 192.362 521.251 Q195.44 516.644 201.25 516.644 Z\" fill=\"#000000\" fill-rule=\"evenodd\" fill-opacity=\"1\" /><path clip-path=\"url(#clip770)\" d=\"M249.584 526.367 L239.005 536.992 L249.584 547.57 L246.829 550.371 L236.204 539.746 L225.579 550.371 L222.848 547.57 L233.403 536.992 L222.848 526.367 L225.579 523.566 L236.204 534.191 L246.829 523.566 L249.584 526.367 Z\" fill=\"#000000\" fill-rule=\"evenodd\" fill-opacity=\"1\" /><path clip-path=\"url(#clip770)\" d=\"M261.945 547.894 L269.583 547.894 L269.583 521.529 L261.273 523.195 L261.273 518.936 L269.537 517.269 L274.213 517.269 L274.213 547.894 L281.852 547.894 L281.852 551.829 L261.945 551.829 L261.945 547.894 Z\" fill=\"#000000\" fill-rule=\"evenodd\" fill-opacity=\"1\" /><path clip-path=\"url(#clip770)\" d=\"M301.296 520.348 Q297.685 520.348 295.856 523.913 Q294.051 527.455 294.051 534.584 Q294.051 541.691 295.856 545.255 Q297.685 548.797 301.296 548.797 Q304.93 548.797 306.736 545.255 Q308.565 541.691 308.565 534.584 Q308.565 527.455 306.736 523.913 Q304.93 520.348 301.296 520.348 M301.296 516.644 Q307.106 516.644 310.162 521.251 Q313.241 525.834 313.241 534.584 Q313.241 543.311 310.162 547.917 Q307.106 552.501 301.296 552.501 Q295.486 552.501 292.407 547.917 Q289.352 543.311 289.352 534.584 Q289.352 525.834 292.407 521.251 Q295.486 516.644 301.296 516.644 Z\" fill=\"#000000\" fill-rule=\"evenodd\" fill-opacity=\"1\" /><path clip-path=\"url(#clip770)\" d=\"M313.241 510.746 L337.352 510.746 L337.352 513.943 L313.241 513.943 L313.241 510.746 Z\" fill=\"#000000\" fill-rule=\"evenodd\" fill-opacity=\"1\" /><path clip-path=\"url(#clip770)\" d=\"M354.147 508.865 Q351.59 508.865 350.085 510.614 Q348.599 512.363 348.599 515.41 Q348.599 518.438 350.085 520.206 Q351.59 521.955 354.147 521.955 Q356.705 521.955 358.191 520.206 Q359.696 518.438 359.696 515.41 Q359.696 512.363 358.191 510.614 Q356.705 508.865 354.147 508.865 M361.689 496.96 L361.689 500.42 Q360.26 499.743 358.793 499.386 Q357.345 499.029 355.915 499.029 Q352.154 499.029 350.16 501.568 Q348.185 504.107 347.903 509.241 Q349.013 507.605 350.687 506.74 Q352.361 505.856 354.373 505.856 Q358.605 505.856 361.05 508.432 Q363.514 510.99 363.514 515.41 Q363.514 519.736 360.956 522.35 Q358.398 524.964 354.147 524.964 Q349.276 524.964 346.7 521.24 Q344.123 517.498 344.123 510.407 Q344.123 503.749 347.283 499.8 Q350.442 495.831 355.765 495.831 Q357.194 495.831 358.643 496.113 Q360.11 496.395 361.689 496.96 Z\" fill=\"#000000\" fill-rule=\"evenodd\" fill-opacity=\"1\" /><path clip-path=\"url(#clip770)\" d=\"M119.885 298.518 L136.204 298.518 L136.204 302.453 L114.26 302.453 L114.26 298.518 Q116.922 295.763 121.505 291.134 Q126.112 286.481 127.292 285.138 Q129.538 282.615 130.417 280.879 Q131.32 279.12 131.32 277.43 Q131.32 274.675 129.376 272.939 Q127.455 271.203 124.353 271.203 Q122.154 271.203 119.7 271.967 Q117.269 272.731 114.492 274.282 L114.492 269.56 Q117.316 268.426 119.769 267.847 Q122.223 267.268 124.26 267.268 Q129.63 267.268 132.825 269.953 Q136.019 272.638 136.019 277.129 Q136.019 279.259 135.209 281.18 Q134.422 283.078 132.316 285.671 Q131.737 286.342 128.635 289.56 Q125.533 292.754 119.885 298.518 Z\" fill=\"#000000\" fill-rule=\"evenodd\" fill-opacity=\"1\" /><path clip-path=\"url(#clip770)\" d=\"M146.019 296.574 L150.903 296.574 L150.903 302.453 L146.019 302.453 L146.019 296.574 Z\" fill=\"#000000\" fill-rule=\"evenodd\" fill-opacity=\"1\" /><path clip-path=\"url(#clip770)\" d=\"M171.089 270.972 Q167.477 270.972 165.649 274.537 Q163.843 278.078 163.843 285.208 Q163.843 292.314 165.649 295.879 Q167.477 299.421 171.089 299.421 Q174.723 299.421 176.528 295.879 Q178.357 292.314 178.357 285.208 Q178.357 278.078 176.528 274.537 Q174.723 270.972 171.089 270.972 M171.089 267.268 Q176.899 267.268 179.954 271.875 Q183.033 276.458 183.033 285.208 Q183.033 293.935 179.954 298.541 Q176.899 303.124 171.089 303.124 Q165.278 303.124 162.2 298.541 Q159.144 293.935 159.144 285.208 Q159.144 276.458 162.2 271.875 Q165.278 267.268 171.089 267.268 Z\" fill=\"#000000\" fill-rule=\"evenodd\" fill-opacity=\"1\" /><path clip-path=\"url(#clip770)\" d=\"M201.25 270.972 Q197.639 270.972 195.811 274.537 Q194.005 278.078 194.005 285.208 Q194.005 292.314 195.811 295.879 Q197.639 299.421 201.25 299.421 Q204.885 299.421 206.69 295.879 Q208.519 292.314 208.519 285.208 Q208.519 278.078 206.69 274.537 Q204.885 270.972 201.25 270.972 M201.25 267.268 Q207.061 267.268 210.116 271.875 Q213.195 276.458 213.195 285.208 Q213.195 293.935 210.116 298.541 Q207.061 303.124 201.25 303.124 Q195.44 303.124 192.362 298.541 Q189.306 293.935 189.306 285.208 Q189.306 276.458 192.362 271.875 Q195.44 267.268 201.25 267.268 Z\" fill=\"#000000\" fill-rule=\"evenodd\" fill-opacity=\"1\" /><path clip-path=\"url(#clip770)\" d=\"M249.584 276.99 L239.005 287.615 L249.584 298.194 L246.829 300.995 L236.204 290.37 L225.579 300.995 L222.848 298.194 L233.403 287.615 L222.848 276.99 L225.579 274.189 L236.204 284.814 L246.829 274.189 L249.584 276.99 Z\" fill=\"#000000\" fill-rule=\"evenodd\" fill-opacity=\"1\" /><path clip-path=\"url(#clip770)\" d=\"M261.945 298.518 L269.583 298.518 L269.583 272.152 L261.273 273.819 L261.273 269.56 L269.537 267.893 L274.213 267.893 L274.213 298.518 L281.852 298.518 L281.852 302.453 L261.945 302.453 L261.945 298.518 Z\" fill=\"#000000\" fill-rule=\"evenodd\" fill-opacity=\"1\" /><path clip-path=\"url(#clip770)\" d=\"M301.296 270.972 Q297.685 270.972 295.856 274.537 Q294.051 278.078 294.051 285.208 Q294.051 292.314 295.856 295.879 Q297.685 299.421 301.296 299.421 Q304.93 299.421 306.736 295.879 Q308.565 292.314 308.565 285.208 Q308.565 278.078 306.736 274.537 Q304.93 270.972 301.296 270.972 M301.296 267.268 Q307.106 267.268 310.162 271.875 Q313.241 276.458 313.241 285.208 Q313.241 293.935 310.162 298.541 Q307.106 303.124 301.296 303.124 Q295.486 303.124 292.407 298.541 Q289.352 293.935 289.352 285.208 Q289.352 276.458 292.407 271.875 Q295.486 267.268 301.296 267.268 Z\" fill=\"#000000\" fill-rule=\"evenodd\" fill-opacity=\"1\" /><path clip-path=\"url(#clip770)\" d=\"M313.241 261.369 L337.352 261.369 L337.352 264.567 L313.241 264.567 L313.241 261.369 Z\" fill=\"#000000\" fill-rule=\"evenodd\" fill-opacity=\"1\" /><path clip-path=\"url(#clip770)\" d=\"M354.147 259.489 Q351.59 259.489 350.085 261.238 Q348.599 262.987 348.599 266.034 Q348.599 269.062 350.085 270.83 Q351.59 272.579 354.147 272.579 Q356.705 272.579 358.191 270.83 Q359.696 269.062 359.696 266.034 Q359.696 262.987 358.191 261.238 Q356.705 259.489 354.147 259.489 M361.689 247.583 L361.689 251.044 Q360.26 250.367 358.793 250.01 Q357.345 249.652 355.915 249.652 Q352.154 249.652 350.16 252.191 Q348.185 254.73 347.903 259.865 Q349.013 258.229 350.687 257.363 Q352.361 256.479 354.373 256.479 Q358.605 256.479 361.05 259.056 Q363.514 261.614 363.514 266.034 Q363.514 270.36 360.956 272.974 Q358.398 275.588 354.147 275.588 Q349.276 275.588 346.7 271.864 Q344.123 268.121 344.123 261.031 Q344.123 254.373 347.283 250.423 Q350.442 246.455 355.765 246.455 Q357.194 246.455 358.643 246.737 Q360.11 247.019 361.689 247.583 Z\" fill=\"#000000\" fill-rule=\"evenodd\" fill-opacity=\"1\" /><path clip-path=\"url(#clip770)\" d=\"M29.4065 877.851 L34.9447 877.851 Q33.6716 880.334 33.035 883.007 Q32.3984 885.681 32.3984 888.545 Q32.3984 892.906 33.7352 895.102 Q35.072 897.266 37.7456 897.266 Q39.7826 897.266 40.9603 895.707 Q42.1061 894.147 43.1565 889.436 L43.6021 887.431 Q44.9389 881.193 47.3897 878.583 Q49.8086 875.941 54.1691 875.941 Q59.1344 875.941 62.0308 879.888 Q64.9272 883.803 64.9272 890.678 Q64.9272 893.542 64.3543 896.662 Q63.8132 899.749 62.6992 903.186 L56.6518 903.186 Q58.3387 899.94 59.198 896.789 Q60.0256 893.638 60.0256 890.55 Q60.0256 886.413 58.6251 884.185 Q57.1929 881.957 54.6147 881.957 Q52.2276 881.957 50.9545 883.58 Q49.6813 885.171 48.5037 890.614 L48.0262 892.651 Q46.8804 898.094 44.5251 900.513 Q42.138 902.932 38.0002 902.932 Q32.9713 902.932 30.2341 899.367 Q27.4968 895.802 27.4968 889.246 Q27.4968 885.999 27.9743 883.134 Q28.4517 880.27 29.4065 877.851 Z\" fill=\"#000000\" fill-rule=\"evenodd\" fill-opacity=\"1\" /><path clip-path=\"url(#clip770)\" d=\"M44.7161 836.124 L47.5806 836.124 L47.5806 863.051 Q53.6281 862.669 56.8109 859.422 Q59.9619 856.144 59.9619 850.319 Q59.9619 846.945 59.1344 843.794 Q58.3069 840.612 56.6518 837.492 L62.1899 837.492 Q63.5267 840.643 64.227 843.953 Q64.9272 847.264 64.9272 850.669 Q64.9272 859.199 59.9619 864.196 Q54.9967 869.162 46.5303 869.162 Q37.7774 869.162 32.6531 864.451 Q27.4968 859.709 27.4968 851.688 Q27.4968 844.495 32.1438 840.325 Q36.7589 836.124 44.7161 836.124 M42.9973 841.98 Q38.1912 842.044 35.3266 844.686 Q32.4621 847.295 32.4621 851.624 Q32.4621 856.526 35.2312 859.486 Q38.0002 862.414 43.0292 862.86 L42.9973 841.98 Z\" fill=\"#000000\" fill-rule=\"evenodd\" fill-opacity=\"1\" /><path clip-path=\"url(#clip770)\" d=\"M29.7248 800.858 L35.1993 800.858 Q33.8307 803.34 33.1623 805.855 Q32.4621 808.337 32.4621 810.884 Q32.4621 816.581 36.0905 819.732 Q39.6872 822.883 46.212 822.883 Q52.7369 822.883 56.3653 819.732 Q59.9619 816.581 59.9619 810.884 Q59.9619 808.337 59.2935 805.855 Q58.5933 803.34 57.2247 800.858 L62.6355 800.858 Q63.7814 803.308 64.3543 805.95 Q64.9272 808.56 64.9272 811.52 Q64.9272 819.573 59.8664 824.315 Q54.8057 829.058 46.212 829.058 Q37.491 829.058 32.4939 824.283 Q27.4968 819.477 27.4968 811.138 Q27.4968 808.433 28.0697 805.855 Q28.6108 803.277 29.7248 800.858 Z\" fill=\"#000000\" fill-rule=\"evenodd\" fill-opacity=\"1\" /><path clip-path=\"url(#clip770)\" d=\"M32.4621 776.859 Q32.4621 781.57 36.1542 784.307 Q39.8145 787.044 46.212 787.044 Q52.6095 787.044 56.3017 784.339 Q59.9619 781.601 59.9619 776.859 Q59.9619 772.18 56.2698 769.443 Q52.5777 766.706 46.212 766.706 Q39.8781 766.706 36.186 769.443 Q32.4621 772.18 32.4621 776.859 M27.4968 776.859 Q27.4968 769.22 32.4621 764.86 Q37.4273 760.499 46.212 760.499 Q54.9649 760.499 59.9619 764.86 Q64.9272 769.22 64.9272 776.859 Q64.9272 784.53 59.9619 788.89 Q54.9649 793.219 46.212 793.219 Q37.4273 793.219 32.4621 788.89 Q27.4968 784.53 27.4968 776.859 Z\" fill=\"#000000\" fill-rule=\"evenodd\" fill-opacity=\"1\" /><path clip-path=\"url(#clip770)\" d=\"M42.4881 721.159 L64.0042 721.159 L64.0042 727.015 L42.679 727.015 Q37.6183 727.015 35.1038 728.989 Q32.5894 730.962 32.5894 734.909 Q32.5894 739.651 35.6131 742.389 Q38.6368 745.126 43.8567 745.126 L64.0042 745.126 L64.0042 751.014 L28.3562 751.014 L28.3562 745.126 L33.8944 745.126 Q30.6797 743.025 29.0883 740.192 Q27.4968 737.328 27.4968 733.604 Q27.4968 727.461 31.3163 724.31 Q35.1038 721.159 42.4881 721.159 Z\" fill=\"#000000\" fill-rule=\"evenodd\" fill-opacity=\"1\" /><path clip-path=\"url(#clip770)\" d=\"M33.7671 686.02 L14.479 686.02 L14.479 680.164 L64.0042 680.164 L64.0042 686.02 L58.657 686.02 Q61.8398 687.866 63.3994 690.699 Q64.9272 693.5 64.9272 697.447 Q64.9272 703.908 59.771 707.982 Q54.6147 712.024 46.212 712.024 Q37.8093 712.024 32.6531 707.982 Q27.4968 703.908 27.4968 697.447 Q27.4968 693.5 29.0564 690.699 Q30.5842 687.866 33.7671 686.02 M46.212 705.977 Q52.6732 705.977 56.3653 703.335 Q60.0256 700.661 60.0256 696.014 Q60.0256 691.368 56.3653 688.694 Q52.6732 686.02 46.212 686.02 Q39.7508 686.02 36.0905 688.694 Q32.3984 691.368 32.3984 696.014 Q32.3984 700.661 36.0905 703.335 Q39.7508 705.977 46.212 705.977 Z\" fill=\"#000000\" fill-rule=\"evenodd\" fill-opacity=\"1\" /><path clip-path=\"url(#clip770)\" d=\"M29.4065 645.375 L34.9447 645.375 Q33.6716 647.858 33.035 650.532 Q32.3984 653.205 32.3984 656.07 Q32.3984 660.43 33.7352 662.626 Q35.072 664.791 37.7456 664.791 Q39.7826 664.791 40.9603 663.231 Q42.1061 661.671 43.1565 656.961 L43.6021 654.956 Q44.9389 648.717 47.3897 646.107 Q49.8086 643.466 54.1691 643.466 Q59.1344 643.466 62.0308 647.412 Q64.9272 651.327 64.9272 658.202 Q64.9272 661.067 64.3543 664.186 Q63.8132 667.273 62.6992 670.711 L56.6518 670.711 Q58.3387 667.464 59.198 664.313 Q60.0256 661.162 60.0256 658.075 Q60.0256 653.937 58.6251 651.709 Q57.1929 649.481 54.6147 649.481 Q52.2276 649.481 50.9545 651.104 Q49.6813 652.696 48.5037 658.139 L48.0262 660.176 Q46.8804 665.618 44.5251 668.037 Q42.138 670.456 38.0002 670.456 Q32.9713 670.456 30.2341 666.891 Q27.4968 663.327 27.4968 656.77 Q27.4968 653.523 27.9743 650.659 Q28.4517 647.794 29.4065 645.375 Z\" fill=\"#000000\" fill-rule=\"evenodd\" fill-opacity=\"1\" /><path clip-path=\"url(#clip770)\" d=\"M560.102 12.096 L611.265 12.096 L611.265 18.9825 L589.795 18.9825 L589.795 72.576 L581.572 72.576 L581.572 18.9825 L560.102 18.9825 L560.102 12.096 Z\" fill=\"#000000\" fill-rule=\"evenodd\" fill-opacity=\"1\" /><path clip-path=\"url(#clip770)\" d=\"M600.773 27.2059 L608.227 27.2059 L617.544 62.6108 L626.82 27.2059 L635.611 27.2059 L644.928 62.6108 L654.204 27.2059 L661.658 27.2059 L649.789 72.576 L640.998 72.576 L631.236 35.3887 L621.433 72.576 L612.642 72.576 L600.773 27.2059 Z\" fill=\"#000000\" fill-rule=\"evenodd\" fill-opacity=\"1\" /><path clip-path=\"url(#clip770)\" d=\"M690.541 32.4315 Q684.546 32.4315 681.062 37.1306 Q677.578 41.7891 677.578 49.9314 Q677.578 58.0738 681.021 62.7728 Q684.505 67.4314 690.541 67.4314 Q696.496 67.4314 699.98 62.7323 Q703.463 58.0333 703.463 49.9314 Q703.463 41.8701 699.98 37.1711 Q696.496 32.4315 690.541 32.4315 M690.541 26.1121 Q700.263 26.1121 705.813 32.4315 Q711.363 38.7509 711.363 49.9314 Q711.363 61.0714 705.813 67.4314 Q700.263 73.7508 690.541 73.7508 Q680.778 73.7508 675.229 67.4314 Q669.719 61.0714 669.719 49.9314 Q669.719 38.7509 675.229 32.4315 Q680.778 26.1121 690.541 26.1121 Z\" fill=\"#000000\" fill-rule=\"evenodd\" fill-opacity=\"1\" /><path clip-path=\"url(#clip770)\" d=\"M744.742 27.2059 L752.641 27.2059 L766.82 65.2844 L780.998 27.2059 L788.897 27.2059 L771.883 72.576 L761.756 72.576 L744.742 27.2059 Z\" fill=\"#000000\" fill-rule=\"evenodd\" fill-opacity=\"1\" /><path clip-path=\"url(#clip770)\" d=\"M837.994 48.0275 L837.994 51.6733 L803.723 51.6733 Q804.209 59.3701 808.341 63.421 Q812.514 67.4314 819.927 67.4314 Q824.221 67.4314 828.231 66.3781 Q832.282 65.3249 836.252 63.2184 L836.252 70.267 Q832.242 71.9684 828.029 72.8596 Q823.816 73.7508 819.481 73.7508 Q808.625 73.7508 802.265 67.4314 Q795.946 61.1119 795.946 50.3365 Q795.946 39.1965 801.941 32.6746 Q807.977 26.1121 818.185 26.1121 Q827.34 26.1121 832.647 32.0264 Q837.994 37.9003 837.994 48.0275 M830.54 45.84 Q830.459 39.7232 827.097 36.0774 Q823.775 32.4315 818.266 32.4315 Q812.028 32.4315 808.26 35.9558 Q804.533 39.4801 803.966 45.8805 L830.54 45.84 Z\" fill=\"#000000\" fill-rule=\"evenodd\" fill-opacity=\"1\" /><path clip-path=\"url(#clip770)\" d=\"M882.878 28.9478 L882.878 35.9153 Q879.718 34.1734 876.518 33.3227 Q873.358 32.4315 870.118 32.4315 Q862.866 32.4315 858.856 37.0496 Q854.846 41.6271 854.846 49.9314 Q854.846 58.2358 858.856 62.8538 Q862.866 67.4314 870.118 67.4314 Q873.358 67.4314 876.518 66.5807 Q879.718 65.6895 882.878 63.9476 L882.878 70.8341 Q879.759 72.2924 876.397 73.0216 Q873.075 73.7508 869.307 73.7508 Q859.059 73.7508 853.023 67.3098 Q846.987 60.8689 846.987 49.9314 Q846.987 38.832 853.063 32.472 Q859.18 26.1121 869.794 26.1121 Q873.237 26.1121 876.518 26.8413 Q879.799 27.5299 882.878 28.9478 Z\" fill=\"#000000\" fill-rule=\"evenodd\" fill-opacity=\"1\" /><path clip-path=\"url(#clip770)\" d=\"M903.213 14.324 L903.213 27.2059 L918.566 27.2059 L918.566 32.9987 L903.213 32.9987 L903.213 57.6282 Q903.213 63.1779 904.712 64.7578 Q906.252 66.3376 910.91 66.3376 L918.566 66.3376 L918.566 72.576 L910.91 72.576 Q902.282 72.576 899.001 69.3758 Q895.719 66.1351 895.719 57.6282 L895.719 32.9987 L890.251 32.9987 L890.251 27.2059 L895.719 27.2059 L895.719 14.324 L903.213 14.324 Z\" fill=\"#000000\" fill-rule=\"evenodd\" fill-opacity=\"1\" /><path clip-path=\"url(#clip770)\" d=\"M945.951 32.4315 Q939.955 32.4315 936.471 37.1306 Q932.988 41.7891 932.988 49.9314 Q932.988 58.0738 936.431 62.7728 Q939.915 67.4314 945.951 67.4314 Q951.905 67.4314 955.389 62.7323 Q958.873 58.0333 958.873 49.9314 Q958.873 41.8701 955.389 37.1711 Q951.905 32.4315 945.951 32.4315 M945.951 26.1121 Q955.673 26.1121 961.222 32.4315 Q966.772 38.7509 966.772 49.9314 Q966.772 61.0714 961.222 67.4314 Q955.673 73.7508 945.951 73.7508 Q936.188 73.7508 930.638 67.4314 Q925.129 61.0714 925.129 49.9314 Q925.129 38.7509 930.638 32.4315 Q936.188 26.1121 945.951 26.1121 Z\" fill=\"#000000\" fill-rule=\"evenodd\" fill-opacity=\"1\" /><path clip-path=\"url(#clip770)\" d=\"M1005.42 34.1734 Q1004.16 33.4443 1002.66 33.1202 Q1001.2 32.7556 999.422 32.7556 Q993.103 32.7556 989.7 36.8875 Q986.338 40.9789 986.338 48.6757 L986.338 72.576 L978.844 72.576 L978.844 27.2059 L986.338 27.2059 L986.338 34.2544 Q988.688 30.1225 992.455 28.1376 Q996.222 26.1121 1001.61 26.1121 Q1002.38 26.1121 1003.31 26.2337 Q1004.24 26.3147 1005.38 26.5172 L1005.42 34.1734 Z\" fill=\"#000000\" fill-rule=\"evenodd\" fill-opacity=\"1\" /><path clip-path=\"url(#clip770)\" d=\"M1042.16 28.5427 L1042.16 35.5912 Q1039 33.9709 1035.6 33.1607 Q1032.19 32.3505 1028.55 32.3505 Q1023 32.3505 1020.2 34.0519 Q1017.45 35.7533 1017.45 39.156 Q1017.45 41.7486 1019.43 43.2475 Q1021.42 44.7058 1027.41 46.0426 L1029.97 46.6097 Q1037.91 48.3111 1041.23 51.4303 Q1044.59 54.509 1044.59 60.0587 Q1044.59 66.3781 1039.57 70.0644 Q1034.58 73.7508 1025.83 73.7508 Q1022.19 73.7508 1018.22 73.0216 Q1014.29 72.3329 1009.91 70.9151 L1009.91 63.2184 Q1014.05 65.3654 1018.06 66.4591 Q1022.07 67.5124 1026 67.5124 Q1031.26 67.5124 1034.1 65.73 Q1036.93 63.9071 1036.93 60.6258 Q1036.93 57.5877 1034.87 55.9673 Q1032.84 54.3469 1025.92 52.8481 L1023.32 52.2405 Q1016.4 50.7821 1013.32 47.7845 Q1010.24 44.7463 1010.24 39.4801 Q1010.24 33.0797 1014.78 29.5959 Q1019.31 26.1121 1027.66 26.1121 Q1031.79 26.1121 1035.44 26.7198 Q1039.08 27.3274 1042.16 28.5427 Z\" fill=\"#000000\" fill-rule=\"evenodd\" fill-opacity=\"1\" /><path clip-path=\"url(#clip770)\" d=\"M1058.36 62.2867 L1066.91 62.2867 L1066.91 72.576 L1058.36 72.576 L1058.36 62.2867 M1058.36 29.6769 L1066.91 29.6769 L1066.91 39.9662 L1058.36 39.9662 L1058.36 29.6769 Z\" fill=\"#000000\" fill-rule=\"evenodd\" fill-opacity=\"1\" /><polyline clip-path=\"url(#clip772)\" style=\"stroke:#000000; stroke-linecap:butt; stroke-linejoin:round; stroke-width:4; stroke-opacity:1; fill:none\" points=\"\n",
       "  422.947,1386.4 422.947,779.732 \n",
       "  \"/>\n",
       "<polyline clip-path=\"url(#clip772)\" style=\"stroke:#000000; stroke-linecap:butt; stroke-linejoin:round; stroke-width:4; stroke-opacity:1; fill:none\" points=\"\n",
       "  509.738,1133.8 509.738,1092.68 \n",
       "  \"/>\n",
       "<polyline clip-path=\"url(#clip772)\" style=\"stroke:#000000; stroke-linecap:butt; stroke-linejoin:round; stroke-width:4; stroke-opacity:1; fill:none\" points=\"\n",
       "  596.529,1007.64 596.529,944.027 \n",
       "  \"/>\n",
       "<polyline clip-path=\"url(#clip772)\" style=\"stroke:#000000; stroke-linecap:butt; stroke-linejoin:round; stroke-width:4; stroke-opacity:1; fill:none\" points=\"\n",
       "  683.32,885.382 683.32,798.252 \n",
       "  \"/>\n",
       "<polyline clip-path=\"url(#clip772)\" style=\"stroke:#000000; stroke-linecap:butt; stroke-linejoin:round; stroke-width:4; stroke-opacity:1; fill:none\" points=\"\n",
       "  770.111,742.964 770.111,721.818 \n",
       "  \"/>\n",
       "<polyline clip-path=\"url(#clip772)\" style=\"stroke:#000000; stroke-linecap:butt; stroke-linejoin:round; stroke-width:4; stroke-opacity:1; fill:none\" points=\"\n",
       "  856.902,655.789 856.902,628.245 \n",
       "  \"/>\n",
       "<polyline clip-path=\"url(#clip772)\" style=\"stroke:#000000; stroke-linecap:butt; stroke-linejoin:round; stroke-width:4; stroke-opacity:1; fill:none\" points=\"\n",
       "  943.693,563 943.693,442.929 \n",
       "  \"/>\n",
       "<polyline clip-path=\"url(#clip772)\" style=\"stroke:#000000; stroke-linecap:butt; stroke-linejoin:round; stroke-width:4; stroke-opacity:1; fill:none\" points=\"\n",
       "  1030.48,440.503 1030.48,372.11 \n",
       "  \"/>\n",
       "<polyline clip-path=\"url(#clip772)\" style=\"stroke:#000000; stroke-linecap:butt; stroke-linejoin:round; stroke-width:4; stroke-opacity:1; fill:none\" points=\"\n",
       "  1117.27,359.879 1117.27,268.694 \n",
       "  \"/>\n",
       "<polyline clip-path=\"url(#clip772)\" style=\"stroke:#000000; stroke-linecap:butt; stroke-linejoin:round; stroke-width:4; stroke-opacity:1; fill:none\" points=\"\n",
       "  1204.07,238.492 1204.07,160.256 \n",
       "  \"/>\n",
       "<line clip-path=\"url(#clip772)\" x1=\"438.947\" y1=\"1386.4\" x2=\"406.947\" y2=\"1386.4\" style=\"stroke:#000000; stroke-width:3.2; stroke-opacity:1\"/>\n",
       "<line clip-path=\"url(#clip772)\" x1=\"438.947\" y1=\"779.732\" x2=\"406.947\" y2=\"779.732\" style=\"stroke:#000000; stroke-width:3.2; stroke-opacity:1\"/>\n",
       "<line clip-path=\"url(#clip772)\" x1=\"525.738\" y1=\"1133.8\" x2=\"493.738\" y2=\"1133.8\" style=\"stroke:#000000; stroke-width:3.2; stroke-opacity:1\"/>\n",
       "<line clip-path=\"url(#clip772)\" x1=\"525.738\" y1=\"1092.68\" x2=\"493.738\" y2=\"1092.68\" style=\"stroke:#000000; stroke-width:3.2; stroke-opacity:1\"/>\n",
       "<line clip-path=\"url(#clip772)\" x1=\"612.529\" y1=\"1007.64\" x2=\"580.529\" y2=\"1007.64\" style=\"stroke:#000000; stroke-width:3.2; stroke-opacity:1\"/>\n",
       "<line clip-path=\"url(#clip772)\" x1=\"612.529\" y1=\"944.027\" x2=\"580.529\" y2=\"944.027\" style=\"stroke:#000000; stroke-width:3.2; stroke-opacity:1\"/>\n",
       "<line clip-path=\"url(#clip772)\" x1=\"699.32\" y1=\"885.382\" x2=\"667.32\" y2=\"885.382\" style=\"stroke:#000000; stroke-width:3.2; stroke-opacity:1\"/>\n",
       "<line clip-path=\"url(#clip772)\" x1=\"699.32\" y1=\"798.252\" x2=\"667.32\" y2=\"798.252\" style=\"stroke:#000000; stroke-width:3.2; stroke-opacity:1\"/>\n",
       "<line clip-path=\"url(#clip772)\" x1=\"786.111\" y1=\"742.964\" x2=\"754.111\" y2=\"742.964\" style=\"stroke:#000000; stroke-width:3.2; stroke-opacity:1\"/>\n",
       "<line clip-path=\"url(#clip772)\" x1=\"786.111\" y1=\"721.818\" x2=\"754.111\" y2=\"721.818\" style=\"stroke:#000000; stroke-width:3.2; stroke-opacity:1\"/>\n",
       "<line clip-path=\"url(#clip772)\" x1=\"872.902\" y1=\"655.789\" x2=\"840.902\" y2=\"655.789\" style=\"stroke:#000000; stroke-width:3.2; stroke-opacity:1\"/>\n",
       "<line clip-path=\"url(#clip772)\" x1=\"872.902\" y1=\"628.245\" x2=\"840.902\" y2=\"628.245\" style=\"stroke:#000000; stroke-width:3.2; stroke-opacity:1\"/>\n",
       "<line clip-path=\"url(#clip772)\" x1=\"959.693\" y1=\"563\" x2=\"927.693\" y2=\"563\" style=\"stroke:#000000; stroke-width:3.2; stroke-opacity:1\"/>\n",
       "<line clip-path=\"url(#clip772)\" x1=\"959.693\" y1=\"442.929\" x2=\"927.693\" y2=\"442.929\" style=\"stroke:#000000; stroke-width:3.2; stroke-opacity:1\"/>\n",
       "<line clip-path=\"url(#clip772)\" x1=\"1046.48\" y1=\"440.503\" x2=\"1014.48\" y2=\"440.503\" style=\"stroke:#000000; stroke-width:3.2; stroke-opacity:1\"/>\n",
       "<line clip-path=\"url(#clip772)\" x1=\"1046.48\" y1=\"372.11\" x2=\"1014.48\" y2=\"372.11\" style=\"stroke:#000000; stroke-width:3.2; stroke-opacity:1\"/>\n",
       "<line clip-path=\"url(#clip772)\" x1=\"1133.27\" y1=\"359.879\" x2=\"1101.27\" y2=\"359.879\" style=\"stroke:#000000; stroke-width:3.2; stroke-opacity:1\"/>\n",
       "<line clip-path=\"url(#clip772)\" x1=\"1133.27\" y1=\"268.694\" x2=\"1101.27\" y2=\"268.694\" style=\"stroke:#000000; stroke-width:3.2; stroke-opacity:1\"/>\n",
       "<line clip-path=\"url(#clip772)\" x1=\"1220.07\" y1=\"238.492\" x2=\"1188.07\" y2=\"238.492\" style=\"stroke:#000000; stroke-width:3.2; stroke-opacity:1\"/>\n",
       "<line clip-path=\"url(#clip772)\" x1=\"1220.07\" y1=\"160.256\" x2=\"1188.07\" y2=\"160.256\" style=\"stroke:#000000; stroke-width:3.2; stroke-opacity:1\"/>\n",
       "<circle clip-path=\"url(#clip772)\" cx=\"422.947\" cy=\"1083.06\" r=\"14\" fill=\"#009af9\" fill-rule=\"evenodd\" fill-opacity=\"1\" stroke=\"#000000\" stroke-opacity=\"1\" stroke-width=\"3.2\"/>\n",
       "<circle clip-path=\"url(#clip772)\" cx=\"509.738\" cy=\"1113.24\" r=\"14\" fill=\"#009af9\" fill-rule=\"evenodd\" fill-opacity=\"1\" stroke=\"#000000\" stroke-opacity=\"1\" stroke-width=\"3.2\"/>\n",
       "<circle clip-path=\"url(#clip772)\" cx=\"596.529\" cy=\"975.832\" r=\"14\" fill=\"#009af9\" fill-rule=\"evenodd\" fill-opacity=\"1\" stroke=\"#000000\" stroke-opacity=\"1\" stroke-width=\"3.2\"/>\n",
       "<circle clip-path=\"url(#clip772)\" cx=\"683.32\" cy=\"841.817\" r=\"14\" fill=\"#009af9\" fill-rule=\"evenodd\" fill-opacity=\"1\" stroke=\"#000000\" stroke-opacity=\"1\" stroke-width=\"3.2\"/>\n",
       "<circle clip-path=\"url(#clip772)\" cx=\"770.111\" cy=\"732.391\" r=\"14\" fill=\"#009af9\" fill-rule=\"evenodd\" fill-opacity=\"1\" stroke=\"#000000\" stroke-opacity=\"1\" stroke-width=\"3.2\"/>\n",
       "<circle clip-path=\"url(#clip772)\" cx=\"856.902\" cy=\"642.017\" r=\"14\" fill=\"#009af9\" fill-rule=\"evenodd\" fill-opacity=\"1\" stroke=\"#000000\" stroke-opacity=\"1\" stroke-width=\"3.2\"/>\n",
       "<circle clip-path=\"url(#clip772)\" cx=\"943.693\" cy=\"502.965\" r=\"14\" fill=\"#009af9\" fill-rule=\"evenodd\" fill-opacity=\"1\" stroke=\"#000000\" stroke-opacity=\"1\" stroke-width=\"3.2\"/>\n",
       "<circle clip-path=\"url(#clip772)\" cx=\"1030.48\" cy=\"406.306\" r=\"14\" fill=\"#009af9\" fill-rule=\"evenodd\" fill-opacity=\"1\" stroke=\"#000000\" stroke-opacity=\"1\" stroke-width=\"3.2\"/>\n",
       "<circle clip-path=\"url(#clip772)\" cx=\"1117.27\" cy=\"314.287\" r=\"14\" fill=\"#009af9\" fill-rule=\"evenodd\" fill-opacity=\"1\" stroke=\"#000000\" stroke-opacity=\"1\" stroke-width=\"3.2\"/>\n",
       "<circle clip-path=\"url(#clip772)\" cx=\"1204.07\" cy=\"199.374\" r=\"14\" fill=\"#009af9\" fill-rule=\"evenodd\" fill-opacity=\"1\" stroke=\"#000000\" stroke-opacity=\"1\" stroke-width=\"3.2\"/>\n",
       "<path clip-path=\"url(#clip770)\" d=\"\n",
       "M1524.77 1423.18 L2352.76 1423.18 L2352.76 123.472 L1524.77 123.472  Z\n",
       "  \" fill=\"#ffffff\" fill-rule=\"evenodd\" fill-opacity=\"1\"/>\n",
       "<defs>\n",
       "  <clipPath id=\"clip773\">\n",
       "    <rect x=\"1524\" y=\"123\" width=\"829\" height=\"1301\"/>\n",
       "  </clipPath>\n",
       "</defs>\n",
       "<polyline clip-path=\"url(#clip773)\" style=\"stroke:#000000; stroke-linecap:butt; stroke-linejoin:round; stroke-width:2; stroke-opacity:0.1; fill:none\" points=\"\n",
       "  1635,1423.18 1635,123.472 \n",
       "  \"/>\n",
       "<polyline clip-path=\"url(#clip773)\" style=\"stroke:#000000; stroke-linecap:butt; stroke-linejoin:round; stroke-width:2; stroke-opacity:0.1; fill:none\" points=\"\n",
       "  1808.58,1423.18 1808.58,123.472 \n",
       "  \"/>\n",
       "<polyline clip-path=\"url(#clip773)\" style=\"stroke:#000000; stroke-linecap:butt; stroke-linejoin:round; stroke-width:2; stroke-opacity:0.1; fill:none\" points=\"\n",
       "  1982.16,1423.18 1982.16,123.472 \n",
       "  \"/>\n",
       "<polyline clip-path=\"url(#clip773)\" style=\"stroke:#000000; stroke-linecap:butt; stroke-linejoin:round; stroke-width:2; stroke-opacity:0.1; fill:none\" points=\"\n",
       "  2155.74,1423.18 2155.74,123.472 \n",
       "  \"/>\n",
       "<polyline clip-path=\"url(#clip773)\" style=\"stroke:#000000; stroke-linecap:butt; stroke-linejoin:round; stroke-width:2; stroke-opacity:0.1; fill:none\" points=\"\n",
       "  2329.32,1423.18 2329.32,123.472 \n",
       "  \"/>\n",
       "<polyline clip-path=\"url(#clip770)\" style=\"stroke:#000000; stroke-linecap:butt; stroke-linejoin:round; stroke-width:4; stroke-opacity:1; fill:none\" points=\"\n",
       "  1524.77,1423.18 2352.76,1423.18 \n",
       "  \"/>\n",
       "<polyline clip-path=\"url(#clip770)\" style=\"stroke:#000000; stroke-linecap:butt; stroke-linejoin:round; stroke-width:4; stroke-opacity:1; fill:none\" points=\"\n",
       "  1635,1423.18 1635,1404.28 \n",
       "  \"/>\n",
       "<polyline clip-path=\"url(#clip770)\" style=\"stroke:#000000; stroke-linecap:butt; stroke-linejoin:round; stroke-width:4; stroke-opacity:1; fill:none\" points=\"\n",
       "  1808.58,1423.18 1808.58,1404.28 \n",
       "  \"/>\n",
       "<polyline clip-path=\"url(#clip770)\" style=\"stroke:#000000; stroke-linecap:butt; stroke-linejoin:round; stroke-width:4; stroke-opacity:1; fill:none\" points=\"\n",
       "  1982.16,1423.18 1982.16,1404.28 \n",
       "  \"/>\n",
       "<polyline clip-path=\"url(#clip770)\" style=\"stroke:#000000; stroke-linecap:butt; stroke-linejoin:round; stroke-width:4; stroke-opacity:1; fill:none\" points=\"\n",
       "  2155.74,1423.18 2155.74,1404.28 \n",
       "  \"/>\n",
       "<polyline clip-path=\"url(#clip770)\" style=\"stroke:#000000; stroke-linecap:butt; stroke-linejoin:round; stroke-width:4; stroke-opacity:1; fill:none\" points=\"\n",
       "  2329.32,1423.18 2329.32,1404.28 \n",
       "  \"/>\n",
       "<path clip-path=\"url(#clip770)\" d=\"M1583.61 1481.64 L1599.93 1481.64 L1599.93 1485.58 L1577.98 1485.58 L1577.98 1481.64 Q1580.64 1478.89 1585.23 1474.26 Q1589.83 1469.61 1591.01 1468.27 Q1593.26 1465.74 1594.14 1464.01 Q1595.04 1462.25 1595.04 1460.56 Q1595.04 1457.8 1593.1 1456.07 Q1591.18 1454.33 1588.07 1454.33 Q1585.88 1454.33 1583.42 1455.09 Q1580.99 1455.86 1578.21 1457.41 L1578.21 1452.69 Q1581.04 1451.55 1583.49 1450.97 Q1585.94 1450.39 1587.98 1450.39 Q1593.35 1450.39 1596.55 1453.08 Q1599.74 1455.77 1599.74 1460.26 Q1599.74 1462.39 1598.93 1464.31 Q1598.14 1466.2 1596.04 1468.8 Q1595.46 1469.47 1592.36 1472.69 Q1589.25 1475.88 1583.61 1481.64 Z\" fill=\"#000000\" fill-rule=\"evenodd\" fill-opacity=\"1\" /><path clip-path=\"url(#clip770)\" d=\"M1619.74 1454.1 Q1616.13 1454.1 1614.3 1457.66 Q1612.5 1461.2 1612.5 1468.33 Q1612.5 1475.44 1614.3 1479.01 Q1616.13 1482.55 1619.74 1482.55 Q1623.38 1482.55 1625.18 1479.01 Q1627.01 1475.44 1627.01 1468.33 Q1627.01 1461.2 1625.18 1457.66 Q1623.38 1454.1 1619.74 1454.1 M1619.74 1450.39 Q1625.55 1450.39 1628.61 1455 Q1631.69 1459.58 1631.69 1468.33 Q1631.69 1477.06 1628.61 1481.67 Q1625.55 1486.25 1619.74 1486.25 Q1613.93 1486.25 1610.85 1481.67 Q1607.8 1477.06 1607.8 1468.33 Q1607.8 1459.58 1610.85 1455 Q1613.93 1450.39 1619.74 1450.39 Z\" fill=\"#000000\" fill-rule=\"evenodd\" fill-opacity=\"1\" /><path clip-path=\"url(#clip770)\" d=\"M1649.9 1454.1 Q1646.29 1454.1 1644.46 1457.66 Q1642.66 1461.2 1642.66 1468.33 Q1642.66 1475.44 1644.46 1479.01 Q1646.29 1482.55 1649.9 1482.55 Q1653.54 1482.55 1655.34 1479.01 Q1657.17 1475.44 1657.17 1468.33 Q1657.17 1461.2 1655.34 1457.66 Q1653.54 1454.1 1649.9 1454.1 M1649.9 1450.39 Q1655.71 1450.39 1658.77 1455 Q1661.85 1459.58 1661.85 1468.33 Q1661.85 1477.06 1658.77 1481.67 Q1655.71 1486.25 1649.9 1486.25 Q1644.09 1486.25 1641.01 1481.67 Q1637.96 1477.06 1637.96 1468.33 Q1637.96 1459.58 1641.01 1455 Q1644.09 1450.39 1649.9 1450.39 Z\" fill=\"#000000\" fill-rule=\"evenodd\" fill-opacity=\"1\" /><path clip-path=\"url(#clip770)\" d=\"M1680.06 1454.1 Q1676.45 1454.1 1674.62 1457.66 Q1672.82 1461.2 1672.82 1468.33 Q1672.82 1475.44 1674.62 1479.01 Q1676.45 1482.55 1680.06 1482.55 Q1683.7 1482.55 1685.5 1479.01 Q1687.33 1475.44 1687.33 1468.33 Q1687.33 1461.2 1685.5 1457.66 Q1683.7 1454.1 1680.06 1454.1 M1680.06 1450.39 Q1685.87 1450.39 1688.93 1455 Q1692.01 1459.58 1692.01 1468.33 Q1692.01 1477.06 1688.93 1481.67 Q1685.87 1486.25 1680.06 1486.25 Q1674.25 1486.25 1671.18 1481.67 Q1668.12 1477.06 1668.12 1468.33 Q1668.12 1459.58 1671.18 1455 Q1674.25 1450.39 1680.06 1450.39 Z\" fill=\"#000000\" fill-rule=\"evenodd\" fill-opacity=\"1\" /><path clip-path=\"url(#clip770)\" d=\"M1766.59 1455.09 L1754.78 1473.54 L1766.59 1473.54 L1766.59 1455.09 M1765.36 1451.02 L1771.24 1451.02 L1771.24 1473.54 L1776.17 1473.54 L1776.17 1477.43 L1771.24 1477.43 L1771.24 1485.58 L1766.59 1485.58 L1766.59 1477.43 L1750.98 1477.43 L1750.98 1472.92 L1765.36 1451.02 Z\" fill=\"#000000\" fill-rule=\"evenodd\" fill-opacity=\"1\" /><path clip-path=\"url(#clip770)\" d=\"M1793.9 1454.1 Q1790.29 1454.1 1788.46 1457.66 Q1786.66 1461.2 1786.66 1468.33 Q1786.66 1475.44 1788.46 1479.01 Q1790.29 1482.55 1793.9 1482.55 Q1797.54 1482.55 1799.34 1479.01 Q1801.17 1475.44 1801.17 1468.33 Q1801.17 1461.2 1799.34 1457.66 Q1797.54 1454.1 1793.9 1454.1 M1793.9 1450.39 Q1799.71 1450.39 1802.77 1455 Q1805.85 1459.58 1805.85 1468.33 Q1805.85 1477.06 1802.77 1481.67 Q1799.71 1486.25 1793.9 1486.25 Q1788.09 1486.25 1785.01 1481.67 Q1781.96 1477.06 1781.96 1468.33 Q1781.96 1459.58 1785.01 1455 Q1788.09 1450.39 1793.9 1450.39 Z\" fill=\"#000000\" fill-rule=\"evenodd\" fill-opacity=\"1\" /><path clip-path=\"url(#clip770)\" d=\"M1824.06 1454.1 Q1820.45 1454.1 1818.62 1457.66 Q1816.82 1461.2 1816.82 1468.33 Q1816.82 1475.44 1818.62 1479.01 Q1820.45 1482.55 1824.06 1482.55 Q1827.7 1482.55 1829.5 1479.01 Q1831.33 1475.44 1831.33 1468.33 Q1831.33 1461.2 1829.5 1457.66 Q1827.7 1454.1 1824.06 1454.1 M1824.06 1450.39 Q1829.87 1450.39 1832.93 1455 Q1836.01 1459.58 1836.01 1468.33 Q1836.01 1477.06 1832.93 1481.67 Q1829.87 1486.25 1824.06 1486.25 Q1818.25 1486.25 1815.17 1481.67 Q1812.12 1477.06 1812.12 1468.33 Q1812.12 1459.58 1815.17 1455 Q1818.25 1450.39 1824.06 1450.39 Z\" fill=\"#000000\" fill-rule=\"evenodd\" fill-opacity=\"1\" /><path clip-path=\"url(#clip770)\" d=\"M1854.23 1454.1 Q1850.61 1454.1 1848.79 1457.66 Q1846.98 1461.2 1846.98 1468.33 Q1846.98 1475.44 1848.79 1479.01 Q1850.61 1482.55 1854.23 1482.55 Q1857.86 1482.55 1859.66 1479.01 Q1861.49 1475.44 1861.49 1468.33 Q1861.49 1461.2 1859.66 1457.66 Q1857.86 1454.1 1854.23 1454.1 M1854.23 1450.39 Q1860.04 1450.39 1863.09 1455 Q1866.17 1459.58 1866.17 1468.33 Q1866.17 1477.06 1863.09 1481.67 Q1860.04 1486.25 1854.23 1486.25 Q1848.41 1486.25 1845.34 1481.67 Q1842.28 1477.06 1842.28 1468.33 Q1842.28 1459.58 1845.34 1455 Q1848.41 1450.39 1854.23 1450.39 Z\" fill=\"#000000\" fill-rule=\"evenodd\" fill-opacity=\"1\" /><path clip-path=\"url(#clip770)\" d=\"M1937.4 1466.44 Q1934.25 1466.44 1932.4 1468.59 Q1930.57 1470.74 1930.57 1474.49 Q1930.57 1478.22 1932.4 1480.39 Q1934.25 1482.55 1937.4 1482.55 Q1940.55 1482.55 1942.38 1480.39 Q1944.23 1478.22 1944.23 1474.49 Q1944.23 1470.74 1942.38 1468.59 Q1940.55 1466.44 1937.4 1466.44 M1946.68 1451.78 L1946.68 1456.04 Q1944.93 1455.21 1943.12 1454.77 Q1941.34 1454.33 1939.58 1454.33 Q1934.95 1454.33 1932.49 1457.45 Q1930.06 1460.58 1929.72 1466.9 Q1931.08 1464.89 1933.14 1463.82 Q1935.2 1462.73 1937.68 1462.73 Q1942.89 1462.73 1945.9 1465.9 Q1948.93 1469.05 1948.93 1474.49 Q1948.93 1479.82 1945.78 1483.03 Q1942.63 1486.25 1937.4 1486.25 Q1931.41 1486.25 1928.24 1481.67 Q1925.06 1477.06 1925.06 1468.33 Q1925.06 1460.14 1928.95 1455.28 Q1932.84 1450.39 1939.39 1450.39 Q1941.15 1450.39 1942.93 1450.74 Q1944.74 1451.09 1946.68 1451.78 Z\" fill=\"#000000\" fill-rule=\"evenodd\" fill-opacity=\"1\" /><path clip-path=\"url(#clip770)\" d=\"M1966.99 1454.1 Q1963.37 1454.1 1961.55 1457.66 Q1959.74 1461.2 1959.74 1468.33 Q1959.74 1475.44 1961.55 1479.01 Q1963.37 1482.55 1966.99 1482.55 Q1970.62 1482.55 1972.43 1479.01 Q1974.25 1475.44 1974.25 1468.33 Q1974.25 1461.2 1972.43 1457.66 Q1970.62 1454.1 1966.99 1454.1 M1966.99 1450.39 Q1972.8 1450.39 1975.85 1455 Q1978.93 1459.58 1978.93 1468.33 Q1978.93 1477.06 1975.85 1481.67 Q1972.8 1486.25 1966.99 1486.25 Q1961.18 1486.25 1958.1 1481.67 Q1955.04 1477.06 1955.04 1468.33 Q1955.04 1459.58 1958.1 1455 Q1961.18 1450.39 1966.99 1450.39 Z\" fill=\"#000000\" fill-rule=\"evenodd\" fill-opacity=\"1\" /><path clip-path=\"url(#clip770)\" d=\"M1997.15 1454.1 Q1993.54 1454.1 1991.71 1457.66 Q1989.9 1461.2 1989.9 1468.33 Q1989.9 1475.44 1991.71 1479.01 Q1993.54 1482.55 1997.15 1482.55 Q2000.78 1482.55 2002.59 1479.01 Q2004.42 1475.44 2004.42 1468.33 Q2004.42 1461.2 2002.59 1457.66 Q2000.78 1454.1 1997.15 1454.1 M1997.15 1450.39 Q2002.96 1450.39 2006.01 1455 Q2009.09 1459.58 2009.09 1468.33 Q2009.09 1477.06 2006.01 1481.67 Q2002.96 1486.25 1997.15 1486.25 Q1991.34 1486.25 1988.26 1481.67 Q1985.2 1477.06 1985.2 1468.33 Q1985.2 1459.58 1988.26 1455 Q1991.34 1450.39 1997.15 1450.39 Z\" fill=\"#000000\" fill-rule=\"evenodd\" fill-opacity=\"1\" /><path clip-path=\"url(#clip770)\" d=\"M2027.31 1454.1 Q2023.7 1454.1 2021.87 1457.66 Q2020.06 1461.2 2020.06 1468.33 Q2020.06 1475.44 2021.87 1479.01 Q2023.7 1482.55 2027.31 1482.55 Q2030.94 1482.55 2032.75 1479.01 Q2034.58 1475.44 2034.58 1468.33 Q2034.58 1461.2 2032.75 1457.66 Q2030.94 1454.1 2027.31 1454.1 M2027.31 1450.39 Q2033.12 1450.39 2036.17 1455 Q2039.25 1459.58 2039.25 1468.33 Q2039.25 1477.06 2036.17 1481.67 Q2033.12 1486.25 2027.31 1486.25 Q2021.5 1486.25 2018.42 1481.67 Q2015.36 1477.06 2015.36 1468.33 Q2015.36 1459.58 2018.42 1455 Q2021.5 1450.39 2027.31 1450.39 Z\" fill=\"#000000\" fill-rule=\"evenodd\" fill-opacity=\"1\" /><path clip-path=\"url(#clip770)\" d=\"M2110.45 1469.17 Q2107.12 1469.17 2105.2 1470.95 Q2103.3 1472.73 2103.3 1475.86 Q2103.3 1478.98 2105.2 1480.77 Q2107.12 1482.55 2110.45 1482.55 Q2113.78 1482.55 2115.71 1480.77 Q2117.63 1478.96 2117.63 1475.86 Q2117.63 1472.73 2115.71 1470.95 Q2113.81 1469.17 2110.45 1469.17 M2105.78 1467.18 Q2102.77 1466.44 2101.08 1464.38 Q2099.41 1462.32 2099.41 1459.35 Q2099.41 1455.21 2102.35 1452.8 Q2105.31 1450.39 2110.45 1450.39 Q2115.61 1450.39 2118.55 1452.8 Q2121.49 1455.21 2121.49 1459.35 Q2121.49 1462.32 2119.8 1464.38 Q2118.14 1466.44 2115.15 1467.18 Q2118.53 1467.96 2120.41 1470.26 Q2122.3 1472.55 2122.3 1475.86 Q2122.3 1480.88 2119.22 1483.57 Q2116.17 1486.25 2110.45 1486.25 Q2104.73 1486.25 2101.66 1483.57 Q2098.6 1480.88 2098.6 1475.86 Q2098.6 1472.55 2100.5 1470.26 Q2102.4 1467.96 2105.78 1467.18 M2104.06 1459.79 Q2104.06 1462.48 2105.73 1463.98 Q2107.42 1465.49 2110.45 1465.49 Q2113.46 1465.49 2115.15 1463.98 Q2116.86 1462.48 2116.86 1459.79 Q2116.86 1457.11 2115.15 1455.6 Q2113.46 1454.1 2110.45 1454.1 Q2107.42 1454.1 2105.73 1455.6 Q2104.06 1457.11 2104.06 1459.79 Z\" fill=\"#000000\" fill-rule=\"evenodd\" fill-opacity=\"1\" /><path clip-path=\"url(#clip770)\" d=\"M2140.61 1454.1 Q2137 1454.1 2135.17 1457.66 Q2133.37 1461.2 2133.37 1468.33 Q2133.37 1475.44 2135.17 1479.01 Q2137 1482.55 2140.61 1482.55 Q2144.25 1482.55 2146.05 1479.01 Q2147.88 1475.44 2147.88 1468.33 Q2147.88 1461.2 2146.05 1457.66 Q2144.25 1454.1 2140.61 1454.1 M2140.61 1450.39 Q2146.42 1450.39 2149.48 1455 Q2152.56 1459.58 2152.56 1468.33 Q2152.56 1477.06 2149.48 1481.67 Q2146.42 1486.25 2140.61 1486.25 Q2134.8 1486.25 2131.72 1481.67 Q2128.67 1477.06 2128.67 1468.33 Q2128.67 1459.58 2131.72 1455 Q2134.8 1450.39 2140.61 1450.39 Z\" fill=\"#000000\" fill-rule=\"evenodd\" fill-opacity=\"1\" /><path clip-path=\"url(#clip770)\" d=\"M2170.78 1454.1 Q2167.16 1454.1 2165.34 1457.66 Q2163.53 1461.2 2163.53 1468.33 Q2163.53 1475.44 2165.34 1479.01 Q2167.16 1482.55 2170.78 1482.55 Q2174.41 1482.55 2176.22 1479.01 Q2178.04 1475.44 2178.04 1468.33 Q2178.04 1461.2 2176.22 1457.66 Q2174.41 1454.1 2170.78 1454.1 M2170.78 1450.39 Q2176.59 1450.39 2179.64 1455 Q2182.72 1459.58 2182.72 1468.33 Q2182.72 1477.06 2179.64 1481.67 Q2176.59 1486.25 2170.78 1486.25 Q2164.97 1486.25 2161.89 1481.67 Q2158.83 1477.06 2158.83 1468.33 Q2158.83 1459.58 2161.89 1455 Q2164.97 1450.39 2170.78 1450.39 Z\" fill=\"#000000\" fill-rule=\"evenodd\" fill-opacity=\"1\" /><path clip-path=\"url(#clip770)\" d=\"M2200.94 1454.1 Q2197.33 1454.1 2195.5 1457.66 Q2193.69 1461.2 2193.69 1468.33 Q2193.69 1475.44 2195.5 1479.01 Q2197.33 1482.55 2200.94 1482.55 Q2204.57 1482.55 2206.38 1479.01 Q2208.21 1475.44 2208.21 1468.33 Q2208.21 1461.2 2206.38 1457.66 Q2204.57 1454.1 2200.94 1454.1 M2200.94 1450.39 Q2206.75 1450.39 2209.8 1455 Q2212.88 1459.58 2212.88 1468.33 Q2212.88 1477.06 2209.8 1481.67 Q2206.75 1486.25 2200.94 1486.25 Q2195.13 1486.25 2192.05 1481.67 Q2188.99 1477.06 2188.99 1468.33 Q2188.99 1459.58 2192.05 1455 Q2195.13 1450.39 2200.94 1450.39 Z\" fill=\"#000000\" fill-rule=\"evenodd\" fill-opacity=\"1\" /><path clip-path=\"url(#clip770)\" d=\"M2258.77 1481.64 L2266.41 1481.64 L2266.41 1455.28 L2258.1 1456.95 L2258.1 1452.69 L2266.36 1451.02 L2271.04 1451.02 L2271.04 1481.64 L2278.67 1481.64 L2278.67 1485.58 L2258.77 1485.58 L2258.77 1481.64 Z\" fill=\"#000000\" fill-rule=\"evenodd\" fill-opacity=\"1\" /><path clip-path=\"url(#clip770)\" d=\"M2298.12 1454.1 Q2294.51 1454.1 2292.68 1457.66 Q2290.87 1461.2 2290.87 1468.33 Q2290.87 1475.44 2292.68 1479.01 Q2294.51 1482.55 2298.12 1482.55 Q2301.75 1482.55 2303.56 1479.01 Q2305.39 1475.44 2305.39 1468.33 Q2305.39 1461.2 2303.56 1457.66 Q2301.75 1454.1 2298.12 1454.1 M2298.12 1450.39 Q2303.93 1450.39 2306.98 1455 Q2310.06 1459.58 2310.06 1468.33 Q2310.06 1477.06 2306.98 1481.67 Q2303.93 1486.25 2298.12 1486.25 Q2292.31 1486.25 2289.23 1481.67 Q2286.17 1477.06 2286.17 1468.33 Q2286.17 1459.58 2289.23 1455 Q2292.31 1450.39 2298.12 1450.39 Z\" fill=\"#000000\" fill-rule=\"evenodd\" fill-opacity=\"1\" /><path clip-path=\"url(#clip770)\" d=\"M2328.28 1454.1 Q2324.67 1454.1 2322.84 1457.66 Q2321.04 1461.2 2321.04 1468.33 Q2321.04 1475.44 2322.84 1479.01 Q2324.67 1482.55 2328.28 1482.55 Q2331.91 1482.55 2333.72 1479.01 Q2335.55 1475.44 2335.55 1468.33 Q2335.55 1461.2 2333.72 1457.66 Q2331.91 1454.1 2328.28 1454.1 M2328.28 1450.39 Q2334.09 1450.39 2337.15 1455 Q2340.23 1459.58 2340.23 1468.33 Q2340.23 1477.06 2337.15 1481.67 Q2334.09 1486.25 2328.28 1486.25 Q2322.47 1486.25 2319.39 1481.67 Q2316.34 1477.06 2316.34 1468.33 Q2316.34 1459.58 2319.39 1455 Q2322.47 1450.39 2328.28 1450.39 Z\" fill=\"#000000\" fill-rule=\"evenodd\" fill-opacity=\"1\" /><path clip-path=\"url(#clip770)\" d=\"M2358.44 1454.1 Q2354.83 1454.1 2353 1457.66 Q2351.2 1461.2 2351.2 1468.33 Q2351.2 1475.44 2353 1479.01 Q2354.83 1482.55 2358.44 1482.55 Q2362.08 1482.55 2363.88 1479.01 Q2365.71 1475.44 2365.71 1468.33 Q2365.71 1461.2 2363.88 1457.66 Q2362.08 1454.1 2358.44 1454.1 M2358.44 1450.39 Q2364.25 1450.39 2367.31 1455 Q2370.39 1459.58 2370.39 1468.33 Q2370.39 1477.06 2367.31 1481.67 Q2364.25 1486.25 2358.44 1486.25 Q2352.63 1486.25 2349.55 1481.67 Q2346.5 1477.06 2346.5 1468.33 Q2346.5 1459.58 2349.55 1455 Q2352.63 1450.39 2358.44 1450.39 Z\" fill=\"#000000\" fill-rule=\"evenodd\" fill-opacity=\"1\" /><path clip-path=\"url(#clip770)\" d=\"M2388.6 1454.1 Q2384.99 1454.1 2383.16 1457.66 Q2381.36 1461.2 2381.36 1468.33 Q2381.36 1475.44 2383.16 1479.01 Q2384.99 1482.55 2388.6 1482.55 Q2392.24 1482.55 2394.04 1479.01 Q2395.87 1475.44 2395.87 1468.33 Q2395.87 1461.2 2394.04 1457.66 Q2392.24 1454.1 2388.6 1454.1 M2388.6 1450.39 Q2394.41 1450.39 2397.47 1455 Q2400.55 1459.58 2400.55 1468.33 Q2400.55 1477.06 2397.47 1481.67 Q2394.41 1486.25 2388.6 1486.25 Q2382.79 1486.25 2379.72 1481.67 Q2376.66 1477.06 2376.66 1468.33 Q2376.66 1459.58 2379.72 1455 Q2382.79 1450.39 2388.6 1450.39 Z\" fill=\"#000000\" fill-rule=\"evenodd\" fill-opacity=\"1\" /><path clip-path=\"url(#clip770)\" d=\"M1953.69 1546.53 L1953.69 1568.04 L1947.83 1568.04 L1947.83 1546.72 Q1947.83 1541.66 1945.86 1539.14 Q1943.89 1536.63 1939.94 1536.63 Q1935.2 1536.63 1932.46 1539.65 Q1929.72 1542.68 1929.72 1547.9 L1929.72 1568.04 L1923.84 1568.04 L1923.84 1532.4 L1929.72 1532.4 L1929.72 1537.93 Q1931.82 1534.72 1934.66 1533.13 Q1937.52 1531.54 1941.25 1531.54 Q1947.39 1531.54 1950.54 1535.36 Q1953.69 1539.14 1953.69 1546.53 Z\" fill=\"#000000\" fill-rule=\"evenodd\" fill-opacity=\"1\" /><polyline clip-path=\"url(#clip773)\" style=\"stroke:#000000; stroke-linecap:butt; stroke-linejoin:round; stroke-width:2; stroke-opacity:0.1; fill:none\" points=\"\n",
       "  1524.77,1348.43 2352.76,1348.43 \n",
       "  \"/>\n",
       "<polyline clip-path=\"url(#clip773)\" style=\"stroke:#000000; stroke-linecap:butt; stroke-linejoin:round; stroke-width:2; stroke-opacity:0.1; fill:none\" points=\"\n",
       "  1524.77,1130.2 2352.76,1130.2 \n",
       "  \"/>\n",
       "<polyline clip-path=\"url(#clip773)\" style=\"stroke:#000000; stroke-linecap:butt; stroke-linejoin:round; stroke-width:2; stroke-opacity:0.1; fill:none\" points=\"\n",
       "  1524.77,911.971 2352.76,911.971 \n",
       "  \"/>\n",
       "<polyline clip-path=\"url(#clip773)\" style=\"stroke:#000000; stroke-linecap:butt; stroke-linejoin:round; stroke-width:2; stroke-opacity:0.1; fill:none\" points=\"\n",
       "  1524.77,693.74 2352.76,693.74 \n",
       "  \"/>\n",
       "<polyline clip-path=\"url(#clip773)\" style=\"stroke:#000000; stroke-linecap:butt; stroke-linejoin:round; stroke-width:2; stroke-opacity:0.1; fill:none\" points=\"\n",
       "  1524.77,475.509 2352.76,475.509 \n",
       "  \"/>\n",
       "<polyline clip-path=\"url(#clip773)\" style=\"stroke:#000000; stroke-linecap:butt; stroke-linejoin:round; stroke-width:2; stroke-opacity:0.1; fill:none\" points=\"\n",
       "  1524.77,257.278 2352.76,257.278 \n",
       "  \"/>\n",
       "<polyline clip-path=\"url(#clip770)\" style=\"stroke:#000000; stroke-linecap:butt; stroke-linejoin:round; stroke-width:4; stroke-opacity:1; fill:none\" points=\"\n",
       "  1524.77,1423.18 1524.77,123.472 \n",
       "  \"/>\n",
       "<polyline clip-path=\"url(#clip770)\" style=\"stroke:#000000; stroke-linecap:butt; stroke-linejoin:round; stroke-width:4; stroke-opacity:1; fill:none\" points=\"\n",
       "  1524.77,1348.43 1543.67,1348.43 \n",
       "  \"/>\n",
       "<polyline clip-path=\"url(#clip770)\" style=\"stroke:#000000; stroke-linecap:butt; stroke-linejoin:round; stroke-width:4; stroke-opacity:1; fill:none\" points=\"\n",
       "  1524.77,1130.2 1543.67,1130.2 \n",
       "  \"/>\n",
       "<polyline clip-path=\"url(#clip770)\" style=\"stroke:#000000; stroke-linecap:butt; stroke-linejoin:round; stroke-width:4; stroke-opacity:1; fill:none\" points=\"\n",
       "  1524.77,911.971 1543.67,911.971 \n",
       "  \"/>\n",
       "<polyline clip-path=\"url(#clip770)\" style=\"stroke:#000000; stroke-linecap:butt; stroke-linejoin:round; stroke-width:4; stroke-opacity:1; fill:none\" points=\"\n",
       "  1524.77,693.74 1543.67,693.74 \n",
       "  \"/>\n",
       "<polyline clip-path=\"url(#clip770)\" style=\"stroke:#000000; stroke-linecap:butt; stroke-linejoin:round; stroke-width:4; stroke-opacity:1; fill:none\" points=\"\n",
       "  1524.77,475.509 1543.67,475.509 \n",
       "  \"/>\n",
       "<polyline clip-path=\"url(#clip770)\" style=\"stroke:#000000; stroke-linecap:butt; stroke-linejoin:round; stroke-width:4; stroke-opacity:1; fill:none\" points=\"\n",
       "  1524.77,257.278 1543.67,257.278 \n",
       "  \"/>\n",
       "<path clip-path=\"url(#clip770)\" d=\"M1401.43 1334.23 Q1397.82 1334.23 1395.99 1337.8 Q1394.19 1341.34 1394.19 1348.47 Q1394.19 1355.57 1395.99 1359.14 Q1397.82 1362.68 1401.43 1362.68 Q1405.07 1362.68 1406.87 1359.14 Q1408.7 1355.57 1408.7 1348.47 Q1408.7 1341.34 1406.87 1337.8 Q1405.07 1334.23 1401.43 1334.23 M1401.43 1330.53 Q1407.24 1330.53 1410.3 1335.13 Q1413.38 1339.72 1413.38 1348.47 Q1413.38 1357.19 1410.3 1361.8 Q1407.24 1366.38 1401.43 1366.38 Q1395.62 1366.38 1392.54 1361.8 Q1389.49 1357.19 1389.49 1348.47 Q1389.49 1339.72 1392.54 1335.13 Q1395.62 1330.53 1401.43 1330.53 Z\" fill=\"#000000\" fill-rule=\"evenodd\" fill-opacity=\"1\" /><path clip-path=\"url(#clip770)\" d=\"M1421.6 1359.83 L1426.48 1359.83 L1426.48 1365.71 L1421.6 1365.71 L1421.6 1359.83 Z\" fill=\"#000000\" fill-rule=\"evenodd\" fill-opacity=\"1\" /><path clip-path=\"url(#clip770)\" d=\"M1446.66 1334.23 Q1443.05 1334.23 1441.22 1337.8 Q1439.42 1341.34 1439.42 1348.47 Q1439.42 1355.57 1441.22 1359.14 Q1443.05 1362.68 1446.66 1362.68 Q1450.3 1362.68 1452.1 1359.14 Q1453.93 1355.57 1453.93 1348.47 Q1453.93 1341.34 1452.1 1337.8 Q1450.3 1334.23 1446.66 1334.23 M1446.66 1330.53 Q1452.47 1330.53 1455.53 1335.13 Q1458.61 1339.72 1458.61 1348.47 Q1458.61 1357.19 1455.53 1361.8 Q1452.47 1366.38 1446.66 1366.38 Q1440.85 1366.38 1437.78 1361.8 Q1434.72 1357.19 1434.72 1348.47 Q1434.72 1339.72 1437.78 1335.13 Q1440.85 1330.53 1446.66 1330.53 Z\" fill=\"#000000\" fill-rule=\"evenodd\" fill-opacity=\"1\" /><path clip-path=\"url(#clip770)\" d=\"M1476.83 1334.23 Q1473.22 1334.23 1471.39 1337.8 Q1469.58 1341.34 1469.58 1348.47 Q1469.58 1355.57 1471.39 1359.14 Q1473.22 1362.68 1476.83 1362.68 Q1480.46 1362.68 1482.27 1359.14 Q1484.1 1355.57 1484.1 1348.47 Q1484.1 1341.34 1482.27 1337.8 Q1480.46 1334.23 1476.83 1334.23 M1476.83 1330.53 Q1482.64 1330.53 1485.69 1335.13 Q1488.77 1339.72 1488.77 1348.47 Q1488.77 1357.19 1485.69 1361.8 Q1482.64 1366.38 1476.83 1366.38 Q1471.02 1366.38 1467.94 1361.8 Q1464.88 1357.19 1464.88 1348.47 Q1464.88 1339.72 1467.94 1335.13 Q1471.02 1330.53 1476.83 1330.53 Z\" fill=\"#000000\" fill-rule=\"evenodd\" fill-opacity=\"1\" /><path clip-path=\"url(#clip770)\" d=\"M1402.66 1116 Q1399.05 1116 1397.22 1119.57 Q1395.41 1123.11 1395.41 1130.24 Q1395.41 1137.34 1397.22 1140.91 Q1399.05 1144.45 1402.66 1144.45 Q1406.29 1144.45 1408.1 1140.91 Q1409.93 1137.34 1409.93 1130.24 Q1409.93 1123.11 1408.1 1119.57 Q1406.29 1116 1402.66 1116 M1402.66 1112.3 Q1408.47 1112.3 1411.53 1116.9 Q1414.6 1121.49 1414.6 1130.24 Q1414.6 1138.96 1411.53 1143.57 Q1408.47 1148.15 1402.66 1148.15 Q1396.85 1148.15 1393.77 1143.57 Q1390.72 1138.96 1390.72 1130.24 Q1390.72 1121.49 1393.77 1116.9 Q1396.85 1112.3 1402.66 1112.3 Z\" fill=\"#000000\" fill-rule=\"evenodd\" fill-opacity=\"1\" /><path clip-path=\"url(#clip770)\" d=\"M1422.82 1141.6 L1427.71 1141.6 L1427.71 1147.48 L1422.82 1147.48 L1422.82 1141.6 Z\" fill=\"#000000\" fill-rule=\"evenodd\" fill-opacity=\"1\" /><path clip-path=\"url(#clip770)\" d=\"M1447.89 1116 Q1444.28 1116 1442.45 1119.57 Q1440.65 1123.11 1440.65 1130.24 Q1440.65 1137.34 1442.45 1140.91 Q1444.28 1144.45 1447.89 1144.45 Q1451.53 1144.45 1453.33 1140.91 Q1455.16 1137.34 1455.16 1130.24 Q1455.16 1123.11 1453.33 1119.57 Q1451.53 1116 1447.89 1116 M1447.89 1112.3 Q1453.7 1112.3 1456.76 1116.9 Q1459.84 1121.49 1459.84 1130.24 Q1459.84 1138.96 1456.76 1143.57 Q1453.7 1148.15 1447.89 1148.15 Q1442.08 1148.15 1439 1143.57 Q1435.95 1138.96 1435.95 1130.24 Q1435.95 1121.49 1439 1116.9 Q1442.08 1112.3 1447.89 1112.3 Z\" fill=\"#000000\" fill-rule=\"evenodd\" fill-opacity=\"1\" /><path clip-path=\"url(#clip770)\" d=\"M1468.86 1143.55 L1476.5 1143.55 L1476.5 1117.18 L1468.19 1118.85 L1468.19 1114.59 L1476.46 1112.92 L1481.13 1112.92 L1481.13 1143.55 L1488.77 1143.55 L1488.77 1147.48 L1468.86 1147.48 L1468.86 1143.55 Z\" fill=\"#000000\" fill-rule=\"evenodd\" fill-opacity=\"1\" /><path clip-path=\"url(#clip770)\" d=\"M1403.03 897.769 Q1399.42 897.769 1397.59 901.334 Q1395.79 904.876 1395.79 912.005 Q1395.79 919.112 1397.59 922.677 Q1399.42 926.218 1403.03 926.218 Q1406.66 926.218 1408.47 922.677 Q1410.3 919.112 1410.3 912.005 Q1410.3 904.876 1408.47 901.334 Q1406.66 897.769 1403.03 897.769 M1403.03 894.066 Q1408.84 894.066 1411.9 898.672 Q1414.98 903.256 1414.98 912.005 Q1414.98 920.732 1411.9 925.339 Q1408.84 929.922 1403.03 929.922 Q1397.22 929.922 1394.14 925.339 Q1391.09 920.732 1391.09 912.005 Q1391.09 903.256 1394.14 898.672 Q1397.22 894.066 1403.03 894.066 Z\" fill=\"#000000\" fill-rule=\"evenodd\" fill-opacity=\"1\" /><path clip-path=\"url(#clip770)\" d=\"M1423.19 923.371 L1428.08 923.371 L1428.08 929.251 L1423.19 929.251 L1423.19 923.371 Z\" fill=\"#000000\" fill-rule=\"evenodd\" fill-opacity=\"1\" /><path clip-path=\"url(#clip770)\" d=\"M1448.26 897.769 Q1444.65 897.769 1442.82 901.334 Q1441.02 904.876 1441.02 912.005 Q1441.02 919.112 1442.82 922.677 Q1444.65 926.218 1448.26 926.218 Q1451.9 926.218 1453.7 922.677 Q1455.53 919.112 1455.53 912.005 Q1455.53 904.876 1453.7 901.334 Q1451.9 897.769 1448.26 897.769 M1448.26 894.066 Q1454.07 894.066 1457.13 898.672 Q1460.21 903.256 1460.21 912.005 Q1460.21 920.732 1457.13 925.339 Q1454.07 929.922 1448.26 929.922 Q1442.45 929.922 1439.37 925.339 Q1436.32 920.732 1436.32 912.005 Q1436.32 903.256 1439.37 898.672 Q1442.45 894.066 1448.26 894.066 Z\" fill=\"#000000\" fill-rule=\"evenodd\" fill-opacity=\"1\" /><path clip-path=\"url(#clip770)\" d=\"M1472.45 925.316 L1488.77 925.316 L1488.77 929.251 L1466.83 929.251 L1466.83 925.316 Q1469.49 922.561 1474.07 917.931 Q1478.68 913.279 1479.86 911.936 Q1482.1 909.413 1482.98 907.677 Q1483.89 905.918 1483.89 904.228 Q1483.89 901.473 1481.94 899.737 Q1480.02 898.001 1476.92 898.001 Q1474.72 898.001 1472.27 898.765 Q1469.84 899.529 1467.06 901.08 L1467.06 896.357 Q1469.88 895.223 1472.34 894.644 Q1474.79 894.066 1476.83 894.066 Q1482.2 894.066 1485.39 896.751 Q1488.59 899.436 1488.59 903.927 Q1488.59 906.056 1487.78 907.978 Q1486.99 909.876 1484.88 912.468 Q1484.3 913.14 1481.2 916.357 Q1478.1 919.552 1472.45 925.316 Z\" fill=\"#000000\" fill-rule=\"evenodd\" fill-opacity=\"1\" /><path clip-path=\"url(#clip770)\" d=\"M1402.08 679.539 Q1398.47 679.539 1396.64 683.103 Q1394.84 686.645 1394.84 693.775 Q1394.84 700.881 1396.64 704.446 Q1398.47 707.988 1402.08 707.988 Q1405.72 707.988 1407.52 704.446 Q1409.35 700.881 1409.35 693.775 Q1409.35 686.645 1407.52 683.103 Q1405.72 679.539 1402.08 679.539 M1402.08 675.835 Q1407.89 675.835 1410.95 680.441 Q1414.03 685.025 1414.03 693.775 Q1414.03 702.501 1410.95 707.108 Q1407.89 711.691 1402.08 711.691 Q1396.27 711.691 1393.19 707.108 Q1390.14 702.501 1390.14 693.775 Q1390.14 685.025 1393.19 680.441 Q1396.27 675.835 1402.08 675.835 Z\" fill=\"#000000\" fill-rule=\"evenodd\" fill-opacity=\"1\" /><path clip-path=\"url(#clip770)\" d=\"M1422.24 705.14 L1427.13 705.14 L1427.13 711.02 L1422.24 711.02 L1422.24 705.14 Z\" fill=\"#000000\" fill-rule=\"evenodd\" fill-opacity=\"1\" /><path clip-path=\"url(#clip770)\" d=\"M1447.31 679.539 Q1443.7 679.539 1441.87 683.103 Q1440.07 686.645 1440.07 693.775 Q1440.07 700.881 1441.87 704.446 Q1443.7 707.988 1447.31 707.988 Q1450.95 707.988 1452.75 704.446 Q1454.58 700.881 1454.58 693.775 Q1454.58 686.645 1452.75 683.103 Q1450.95 679.539 1447.31 679.539 M1447.31 675.835 Q1453.12 675.835 1456.18 680.441 Q1459.26 685.025 1459.26 693.775 Q1459.26 702.501 1456.18 707.108 Q1453.12 711.691 1447.31 711.691 Q1441.5 711.691 1438.42 707.108 Q1435.37 702.501 1435.37 693.775 Q1435.37 685.025 1438.42 680.441 Q1441.5 675.835 1447.31 675.835 Z\" fill=\"#000000\" fill-rule=\"evenodd\" fill-opacity=\"1\" /><path clip-path=\"url(#clip770)\" d=\"M1481.64 692.386 Q1485 693.103 1486.87 695.372 Q1488.77 697.64 1488.77 700.974 Q1488.77 706.089 1485.25 708.89 Q1481.73 711.691 1475.25 711.691 Q1473.08 711.691 1470.76 711.251 Q1468.47 710.835 1466.02 709.978 L1466.02 705.464 Q1467.96 706.599 1470.28 707.177 Q1472.59 707.756 1475.11 707.756 Q1479.51 707.756 1481.8 706.02 Q1484.12 704.284 1484.12 700.974 Q1484.12 697.918 1481.97 696.205 Q1479.84 694.469 1476.02 694.469 L1471.99 694.469 L1471.99 690.627 L1476.2 690.627 Q1479.65 690.627 1481.48 689.261 Q1483.31 687.872 1483.31 685.279 Q1483.31 682.617 1481.41 681.205 Q1479.53 679.77 1476.02 679.77 Q1474.1 679.77 1471.9 680.187 Q1469.7 680.603 1467.06 681.483 L1467.06 677.316 Q1469.72 676.576 1472.03 676.205 Q1474.37 675.835 1476.43 675.835 Q1481.76 675.835 1484.86 678.265 Q1487.96 680.673 1487.96 684.793 Q1487.96 687.664 1486.32 689.654 Q1484.67 691.622 1481.64 692.386 Z\" fill=\"#000000\" fill-rule=\"evenodd\" fill-opacity=\"1\" /><path clip-path=\"url(#clip770)\" d=\"M1400.95 461.308 Q1397.34 461.308 1395.51 464.873 Q1393.7 468.414 1393.7 475.544 Q1393.7 482.65 1395.51 486.215 Q1397.34 489.757 1400.95 489.757 Q1404.58 489.757 1406.39 486.215 Q1408.22 482.65 1408.22 475.544 Q1408.22 468.414 1406.39 464.873 Q1404.58 461.308 1400.95 461.308 M1400.95 457.604 Q1406.76 457.604 1409.81 462.211 Q1412.89 466.794 1412.89 475.544 Q1412.89 484.271 1409.81 488.877 Q1406.76 493.46 1400.95 493.46 Q1395.14 493.46 1392.06 488.877 Q1389 484.271 1389 475.544 Q1389 466.794 1392.06 462.211 Q1395.14 457.604 1400.95 457.604 Z\" fill=\"#000000\" fill-rule=\"evenodd\" fill-opacity=\"1\" /><path clip-path=\"url(#clip770)\" d=\"M1421.11 486.91 L1425.99 486.91 L1425.99 492.789 L1421.11 492.789 L1421.11 486.91 Z\" fill=\"#000000\" fill-rule=\"evenodd\" fill-opacity=\"1\" /><path clip-path=\"url(#clip770)\" d=\"M1446.18 461.308 Q1442.57 461.308 1440.74 464.873 Q1438.93 468.414 1438.93 475.544 Q1438.93 482.65 1440.74 486.215 Q1442.57 489.757 1446.18 489.757 Q1449.81 489.757 1451.62 486.215 Q1453.45 482.65 1453.45 475.544 Q1453.45 468.414 1451.62 464.873 Q1449.81 461.308 1446.18 461.308 M1446.18 457.604 Q1451.99 457.604 1455.04 462.211 Q1458.12 466.794 1458.12 475.544 Q1458.12 484.271 1455.04 488.877 Q1451.99 493.46 1446.18 493.46 Q1440.37 493.46 1437.29 488.877 Q1434.23 484.271 1434.23 475.544 Q1434.23 466.794 1437.29 462.211 Q1440.37 457.604 1446.18 457.604 Z\" fill=\"#000000\" fill-rule=\"evenodd\" fill-opacity=\"1\" /><path clip-path=\"url(#clip770)\" d=\"M1479.19 462.303 L1467.38 480.752 L1479.19 480.752 L1479.19 462.303 M1477.96 458.229 L1483.84 458.229 L1483.84 480.752 L1488.77 480.752 L1488.77 484.641 L1483.84 484.641 L1483.84 492.789 L1479.19 492.789 L1479.19 484.641 L1463.59 484.641 L1463.59 480.127 L1477.96 458.229 Z\" fill=\"#000000\" fill-rule=\"evenodd\" fill-opacity=\"1\" /><path clip-path=\"url(#clip770)\" d=\"M1402.43 243.077 Q1398.82 243.077 1396.99 246.642 Q1395.18 250.183 1395.18 257.313 Q1395.18 264.419 1396.99 267.984 Q1398.82 271.526 1402.43 271.526 Q1406.06 271.526 1407.87 267.984 Q1409.7 264.419 1409.7 257.313 Q1409.7 250.183 1407.87 246.642 Q1406.06 243.077 1402.43 243.077 M1402.43 239.373 Q1408.24 239.373 1411.29 243.98 Q1414.37 248.563 1414.37 257.313 Q1414.37 266.04 1411.29 270.646 Q1408.24 275.23 1402.43 275.23 Q1396.62 275.23 1393.54 270.646 Q1390.48 266.04 1390.48 257.313 Q1390.48 248.563 1393.54 243.98 Q1396.62 239.373 1402.43 239.373 Z\" fill=\"#000000\" fill-rule=\"evenodd\" fill-opacity=\"1\" /><path clip-path=\"url(#clip770)\" d=\"M1422.59 268.679 L1427.47 268.679 L1427.47 274.558 L1422.59 274.558 L1422.59 268.679 Z\" fill=\"#000000\" fill-rule=\"evenodd\" fill-opacity=\"1\" /><path clip-path=\"url(#clip770)\" d=\"M1447.66 243.077 Q1444.05 243.077 1442.22 246.642 Q1440.41 250.183 1440.41 257.313 Q1440.41 264.419 1442.22 267.984 Q1444.05 271.526 1447.66 271.526 Q1451.29 271.526 1453.1 267.984 Q1454.93 264.419 1454.93 257.313 Q1454.93 250.183 1453.1 246.642 Q1451.29 243.077 1447.66 243.077 M1447.66 239.373 Q1453.47 239.373 1456.53 243.98 Q1459.6 248.563 1459.6 257.313 Q1459.6 266.04 1456.53 270.646 Q1453.47 275.23 1447.66 275.23 Q1441.85 275.23 1438.77 270.646 Q1435.72 266.04 1435.72 257.313 Q1435.72 248.563 1438.77 243.98 Q1441.85 239.373 1447.66 239.373 Z\" fill=\"#000000\" fill-rule=\"evenodd\" fill-opacity=\"1\" /><path clip-path=\"url(#clip770)\" d=\"M1467.87 239.998 L1486.22 239.998 L1486.22 243.933 L1472.15 243.933 L1472.15 252.406 Q1473.17 252.058 1474.19 251.896 Q1475.21 251.711 1476.22 251.711 Q1482.01 251.711 1485.39 254.882 Q1488.77 258.054 1488.77 263.47 Q1488.77 269.049 1485.3 272.151 Q1481.83 275.23 1475.51 275.23 Q1473.33 275.23 1471.06 274.859 Q1468.82 274.489 1466.41 273.748 L1466.41 269.049 Q1468.49 270.183 1470.72 270.739 Q1472.94 271.294 1475.41 271.294 Q1479.42 271.294 1481.76 269.188 Q1484.1 267.081 1484.1 263.47 Q1484.1 259.859 1481.76 257.753 Q1479.42 255.646 1475.41 255.646 Q1473.54 255.646 1471.66 256.063 Q1469.81 256.48 1467.87 257.359 L1467.87 239.998 Z\" fill=\"#000000\" fill-rule=\"evenodd\" fill-opacity=\"1\" /><path clip-path=\"url(#clip770)\" d=\"M1304.15 877.851 L1309.69 877.851 Q1308.41 880.334 1307.78 883.007 Q1307.14 885.681 1307.14 888.545 Q1307.14 892.906 1308.48 895.102 Q1309.81 897.266 1312.49 897.266 Q1314.53 897.266 1315.7 895.707 Q1316.85 894.147 1317.9 889.436 L1318.34 887.431 Q1319.68 881.193 1322.13 878.583 Q1324.55 875.941 1328.91 875.941 Q1333.88 875.941 1336.77 879.888 Q1339.67 883.803 1339.67 890.678 Q1339.67 893.542 1339.1 896.662 Q1338.56 899.749 1337.44 903.186 L1331.39 903.186 Q1333.08 899.94 1333.94 896.789 Q1334.77 893.638 1334.77 890.55 Q1334.77 886.413 1333.37 884.185 Q1331.94 881.957 1329.36 881.957 Q1326.97 881.957 1325.7 883.58 Q1324.42 885.171 1323.25 890.614 L1322.77 892.651 Q1321.62 898.094 1319.27 900.513 Q1316.88 902.932 1312.74 902.932 Q1307.71 902.932 1304.98 899.367 Q1302.24 895.802 1302.24 889.246 Q1302.24 885.999 1302.72 883.134 Q1303.19 880.27 1304.15 877.851 Z\" fill=\"#000000\" fill-rule=\"evenodd\" fill-opacity=\"1\" /><path clip-path=\"url(#clip770)\" d=\"M1319.46 836.124 L1322.32 836.124 L1322.32 863.051 Q1328.37 862.669 1331.55 859.422 Q1334.7 856.144 1334.7 850.319 Q1334.7 846.945 1333.88 843.794 Q1333.05 840.612 1331.39 837.492 L1336.93 837.492 Q1338.27 840.643 1338.97 843.953 Q1339.67 847.264 1339.67 850.669 Q1339.67 859.199 1334.7 864.196 Q1329.74 869.162 1321.27 869.162 Q1312.52 869.162 1307.4 864.451 Q1302.24 859.709 1302.24 851.688 Q1302.24 844.495 1306.89 840.325 Q1311.5 836.124 1319.46 836.124 M1317.74 841.98 Q1312.93 842.044 1310.07 844.686 Q1307.2 847.295 1307.2 851.624 Q1307.2 856.526 1309.97 859.486 Q1312.74 862.414 1317.77 862.86 L1317.74 841.98 Z\" fill=\"#000000\" fill-rule=\"evenodd\" fill-opacity=\"1\" /><path clip-path=\"url(#clip770)\" d=\"M1304.47 800.858 L1309.94 800.858 Q1308.57 803.34 1307.91 805.855 Q1307.2 808.337 1307.2 810.884 Q1307.2 816.581 1310.83 819.732 Q1314.43 822.883 1320.95 822.883 Q1327.48 822.883 1331.11 819.732 Q1334.7 816.581 1334.7 810.884 Q1334.7 808.337 1334.04 805.855 Q1333.34 803.34 1331.97 800.858 L1337.38 800.858 Q1338.52 803.308 1339.1 805.95 Q1339.67 808.56 1339.67 811.52 Q1339.67 819.573 1334.61 824.315 Q1329.55 829.058 1320.95 829.058 Q1312.23 829.058 1307.24 824.283 Q1302.24 819.477 1302.24 811.138 Q1302.24 808.433 1302.81 805.855 Q1303.35 803.277 1304.47 800.858 Z\" fill=\"#000000\" fill-rule=\"evenodd\" fill-opacity=\"1\" /><path clip-path=\"url(#clip770)\" d=\"M1307.2 776.859 Q1307.2 781.57 1310.9 784.307 Q1314.56 787.044 1320.95 787.044 Q1327.35 787.044 1331.04 784.339 Q1334.7 781.601 1334.7 776.859 Q1334.7 772.18 1331.01 769.443 Q1327.32 766.706 1320.95 766.706 Q1314.62 766.706 1310.93 769.443 Q1307.2 772.18 1307.2 776.859 M1302.24 776.859 Q1302.24 769.22 1307.2 764.86 Q1312.17 760.499 1320.95 760.499 Q1329.71 760.499 1334.7 764.86 Q1339.67 769.22 1339.67 776.859 Q1339.67 784.53 1334.7 788.89 Q1329.71 793.219 1320.95 793.219 Q1312.17 793.219 1307.2 788.89 Q1302.24 784.53 1302.24 776.859 Z\" fill=\"#000000\" fill-rule=\"evenodd\" fill-opacity=\"1\" /><path clip-path=\"url(#clip770)\" d=\"M1317.23 721.159 L1338.75 721.159 L1338.75 727.015 L1317.42 727.015 Q1312.36 727.015 1309.85 728.989 Q1307.33 730.962 1307.33 734.909 Q1307.33 739.651 1310.36 742.389 Q1313.38 745.126 1318.6 745.126 L1338.75 745.126 L1338.75 751.014 L1303.1 751.014 L1303.1 745.126 L1308.64 745.126 Q1305.42 743.025 1303.83 740.192 Q1302.24 737.328 1302.24 733.604 Q1302.24 727.461 1306.06 724.31 Q1309.85 721.159 1317.23 721.159 Z\" fill=\"#000000\" fill-rule=\"evenodd\" fill-opacity=\"1\" /><path clip-path=\"url(#clip770)\" d=\"M1308.51 686.02 L1289.22 686.02 L1289.22 680.164 L1338.75 680.164 L1338.75 686.02 L1333.4 686.02 Q1336.58 687.866 1338.14 690.699 Q1339.67 693.5 1339.67 697.447 Q1339.67 703.908 1334.51 707.982 Q1329.36 712.024 1320.95 712.024 Q1312.55 712.024 1307.4 707.982 Q1302.24 703.908 1302.24 697.447 Q1302.24 693.5 1303.8 690.699 Q1305.33 687.866 1308.51 686.02 M1320.95 705.977 Q1327.42 705.977 1331.11 703.335 Q1334.77 700.661 1334.77 696.014 Q1334.77 691.368 1331.11 688.694 Q1327.42 686.02 1320.95 686.02 Q1314.49 686.02 1310.83 688.694 Q1307.14 691.368 1307.14 696.014 Q1307.14 700.661 1310.83 703.335 Q1314.49 705.977 1320.95 705.977 Z\" fill=\"#000000\" fill-rule=\"evenodd\" fill-opacity=\"1\" /><path clip-path=\"url(#clip770)\" d=\"M1304.15 645.375 L1309.69 645.375 Q1308.41 647.858 1307.78 650.532 Q1307.14 653.205 1307.14 656.07 Q1307.14 660.43 1308.48 662.626 Q1309.81 664.791 1312.49 664.791 Q1314.53 664.791 1315.7 663.231 Q1316.85 661.671 1317.9 656.961 L1318.34 654.956 Q1319.68 648.717 1322.13 646.107 Q1324.55 643.466 1328.91 643.466 Q1333.88 643.466 1336.77 647.412 Q1339.67 651.327 1339.67 658.202 Q1339.67 661.067 1339.1 664.186 Q1338.56 667.273 1337.44 670.711 L1331.39 670.711 Q1333.08 667.464 1333.94 664.313 Q1334.77 661.162 1334.77 658.075 Q1334.77 653.937 1333.37 651.709 Q1331.94 649.481 1329.36 649.481 Q1326.97 649.481 1325.7 651.104 Q1324.42 652.696 1323.25 658.139 L1322.77 660.176 Q1321.62 665.618 1319.27 668.037 Q1316.88 670.456 1312.74 670.456 Q1307.71 670.456 1304.98 666.891 Q1302.24 663.327 1302.24 656.77 Q1302.24 653.523 1302.72 650.659 Q1303.19 647.794 1304.15 645.375 Z\" fill=\"#000000\" fill-rule=\"evenodd\" fill-opacity=\"1\" /><path clip-path=\"url(#clip770)\" d=\"M1567.84 12.096 L1580.04 12.096 L1595.47 53.2532 L1610.98 12.096 L1623.18 12.096 L1623.18 72.576 L1615.2 72.576 L1615.2 19.4686 L1599.6 60.9499 L1591.38 60.9499 L1575.78 19.4686 L1575.78 72.576 L1567.84 72.576 L1567.84 12.096 Z\" fill=\"#000000\" fill-rule=\"evenodd\" fill-opacity=\"1\" /><path clip-path=\"url(#clip770)\" d=\"M1659.72 49.7694 Q1650.68 49.7694 1647.2 51.8354 Q1643.72 53.9013 1643.72 58.8839 Q1643.72 62.8538 1646.31 65.2034 Q1648.94 67.5124 1653.44 67.5124 Q1659.64 67.5124 1663.36 63.1374 Q1667.13 58.7219 1667.13 51.4303 L1667.13 49.7694 L1659.72 49.7694 M1674.58 46.6907 L1674.58 72.576 L1667.13 72.576 L1667.13 65.6895 Q1664.58 69.8214 1660.77 71.8063 Q1656.96 73.7508 1651.45 73.7508 Q1644.49 73.7508 1640.35 69.8619 Q1636.26 65.9325 1636.26 59.3701 Q1636.26 51.7138 1641.37 47.825 Q1646.51 43.9361 1656.68 43.9361 L1667.13 43.9361 L1667.13 43.2069 Q1667.13 38.0623 1663.73 35.2672 Q1660.37 32.4315 1654.25 32.4315 Q1650.36 32.4315 1646.67 33.3632 Q1642.99 34.295 1639.58 36.1584 L1639.58 29.2718 Q1643.68 27.692 1647.52 26.9223 Q1651.37 26.1121 1655.02 26.1121 Q1664.86 26.1121 1669.72 31.2163 Q1674.58 36.3204 1674.58 46.6907 Z\" fill=\"#000000\" fill-rule=\"evenodd\" fill-opacity=\"1\" /><path clip-path=\"url(#clip770)\" d=\"M1697.31 14.324 L1697.31 27.2059 L1712.66 27.2059 L1712.66 32.9987 L1697.31 32.9987 L1697.31 57.6282 Q1697.31 63.1779 1698.81 64.7578 Q1700.35 66.3376 1705.01 66.3376 L1712.66 66.3376 L1712.66 72.576 L1705.01 72.576 Q1696.38 72.576 1693.1 69.3758 Q1689.82 66.1351 1689.82 57.6282 L1689.82 32.9987 L1684.35 32.9987 L1684.35 27.2059 L1689.82 27.2059 L1689.82 14.324 L1697.31 14.324 Z\" fill=\"#000000\" fill-rule=\"evenodd\" fill-opacity=\"1\" /><path clip-path=\"url(#clip770)\" d=\"M1748.76 34.1734 Q1747.5 33.4443 1746 33.1202 Q1744.54 32.7556 1742.76 32.7556 Q1736.44 32.7556 1733.04 36.8875 Q1729.68 40.9789 1729.68 48.6757 L1729.68 72.576 L1722.18 72.576 L1722.18 27.2059 L1729.68 27.2059 L1729.68 34.2544 Q1732.03 30.1225 1735.79 28.1376 Q1739.56 26.1121 1744.95 26.1121 Q1745.72 26.1121 1746.65 26.2337 Q1747.58 26.3147 1748.72 26.5172 L1748.76 34.1734 Z\" fill=\"#000000\" fill-rule=\"evenodd\" fill-opacity=\"1\" /><path clip-path=\"url(#clip770)\" d=\"M1756.57 27.2059 L1764.03 27.2059 L1764.03 72.576 L1756.57 72.576 L1756.57 27.2059 M1756.57 9.54393 L1764.03 9.54393 L1764.03 18.9825 L1756.57 18.9825 L1756.57 9.54393 Z\" fill=\"#000000\" fill-rule=\"evenodd\" fill-opacity=\"1\" /><path clip-path=\"url(#clip770)\" d=\"M1817.34 27.2059 L1800.93 49.2833 L1818.19 72.576 L1809.4 72.576 L1796.19 54.752 L1782.99 72.576 L1774.2 72.576 L1791.82 48.8377 L1775.69 27.2059 L1784.48 27.2059 L1796.52 43.369 L1808.55 27.2059 L1817.34 27.2059 Z\" fill=\"#000000\" fill-rule=\"evenodd\" fill-opacity=\"1\" /><path clip-path=\"url(#clip770)\" d=\"M1875.71 49.7694 Q1866.68 49.7694 1863.19 51.8354 Q1859.71 53.9013 1859.71 58.8839 Q1859.71 62.8538 1862.3 65.2034 Q1864.94 67.5124 1869.43 67.5124 Q1875.63 67.5124 1879.36 63.1374 Q1883.12 58.7219 1883.12 51.4303 L1883.12 49.7694 L1875.71 49.7694 M1890.58 46.6907 L1890.58 72.576 L1883.12 72.576 L1883.12 65.6895 Q1880.57 69.8214 1876.76 71.8063 Q1872.96 73.7508 1867.45 73.7508 Q1860.48 73.7508 1856.35 69.8619 Q1852.26 65.9325 1852.26 59.3701 Q1852.26 51.7138 1857.36 47.825 Q1862.51 43.9361 1872.67 43.9361 L1883.12 43.9361 L1883.12 43.2069 Q1883.12 38.0623 1879.72 35.2672 Q1876.36 32.4315 1870.24 32.4315 Q1866.35 32.4315 1862.67 33.3632 Q1858.98 34.295 1855.58 36.1584 L1855.58 29.2718 Q1859.67 27.692 1863.52 26.9223 Q1867.37 26.1121 1871.01 26.1121 Q1880.86 26.1121 1885.72 31.2163 Q1890.58 36.3204 1890.58 46.6907 Z\" fill=\"#000000\" fill-rule=\"evenodd\" fill-opacity=\"1\" /><path clip-path=\"url(#clip770)\" d=\"M1943.64 45.1919 L1943.64 72.576 L1936.19 72.576 L1936.19 45.4349 Q1936.19 38.994 1933.68 35.7938 Q1931.17 32.5936 1926.14 32.5936 Q1920.11 32.5936 1916.63 36.4419 Q1913.14 40.2903 1913.14 46.9338 L1913.14 72.576 L1905.65 72.576 L1905.65 27.2059 L1913.14 27.2059 L1913.14 34.2544 Q1915.82 30.163 1919.42 28.1376 Q1923.07 26.1121 1927.81 26.1121 Q1935.62 26.1121 1939.63 30.9732 Q1943.64 35.7938 1943.64 45.1919 Z\" fill=\"#000000\" fill-rule=\"evenodd\" fill-opacity=\"1\" /><path clip-path=\"url(#clip770)\" d=\"M1988.37 34.0924 L1988.37 9.54393 L1995.82 9.54393 L1995.82 72.576 L1988.37 72.576 L1988.37 65.7705 Q1986.02 69.8214 1982.41 71.8063 Q1978.85 73.7508 1973.82 73.7508 Q1965.6 73.7508 1960.42 67.1883 Q1955.27 60.6258 1955.27 49.9314 Q1955.27 39.2371 1960.42 32.6746 Q1965.6 26.1121 1973.82 26.1121 Q1978.85 26.1121 1982.41 28.0971 Q1986.02 30.0415 1988.37 34.0924 M1962.97 49.9314 Q1962.97 58.1548 1966.33 62.8538 Q1969.73 67.5124 1975.65 67.5124 Q1981.56 67.5124 1984.96 62.8538 Q1988.37 58.1548 1988.37 49.9314 Q1988.37 41.7081 1984.96 37.0496 Q1981.56 32.3505 1975.65 32.3505 Q1969.73 32.3505 1966.33 37.0496 Q1962.97 41.7081 1962.97 49.9314 Z\" fill=\"#000000\" fill-rule=\"evenodd\" fill-opacity=\"1\" /><path clip-path=\"url(#clip770)\" d=\"M2032.2 27.2059 L2040.1 27.2059 L2054.27 65.2844 L2068.45 27.2059 L2076.35 27.2059 L2059.34 72.576 L2049.21 72.576 L2032.2 27.2059 Z\" fill=\"#000000\" fill-rule=\"evenodd\" fill-opacity=\"1\" /><path clip-path=\"url(#clip770)\" d=\"M2125.45 48.0275 L2125.45 51.6733 L2091.18 51.6733 Q2091.66 59.3701 2095.8 63.421 Q2099.97 67.4314 2107.38 67.4314 Q2111.68 67.4314 2115.69 66.3781 Q2119.74 65.3249 2123.71 63.2184 L2123.71 70.267 Q2119.7 71.9684 2115.48 72.8596 Q2111.27 73.7508 2106.94 73.7508 Q2096.08 73.7508 2089.72 67.4314 Q2083.4 61.1119 2083.4 50.3365 Q2083.4 39.1965 2089.4 32.6746 Q2095.43 26.1121 2105.64 26.1121 Q2114.8 26.1121 2120.1 32.0264 Q2125.45 37.9003 2125.45 48.0275 M2118 45.84 Q2117.91 39.7232 2114.55 36.0774 Q2111.23 32.4315 2105.72 32.4315 Q2099.48 32.4315 2095.72 35.9558 Q2091.99 39.4801 2091.42 45.8805 L2118 45.84 Z\" fill=\"#000000\" fill-rule=\"evenodd\" fill-opacity=\"1\" /><path clip-path=\"url(#clip770)\" d=\"M2170.33 28.9478 L2170.33 35.9153 Q2167.17 34.1734 2163.97 33.3227 Q2160.81 32.4315 2157.57 32.4315 Q2150.32 32.4315 2146.31 37.0496 Q2142.3 41.6271 2142.3 49.9314 Q2142.3 58.2358 2146.31 62.8538 Q2150.32 67.4314 2157.57 67.4314 Q2160.81 67.4314 2163.97 66.5807 Q2167.17 65.6895 2170.33 63.9476 L2170.33 70.8341 Q2167.21 72.2924 2163.85 73.0216 Q2160.53 73.7508 2156.76 73.7508 Q2146.51 73.7508 2140.48 67.3098 Q2134.44 60.8689 2134.44 49.9314 Q2134.44 38.832 2140.52 32.472 Q2146.64 26.1121 2157.25 26.1121 Q2160.69 26.1121 2163.97 26.8413 Q2167.25 27.5299 2170.33 28.9478 Z\" fill=\"#000000\" fill-rule=\"evenodd\" fill-opacity=\"1\" /><path clip-path=\"url(#clip770)\" d=\"M2190.67 14.324 L2190.67 27.2059 L2206.02 27.2059 L2206.02 32.9987 L2190.67 32.9987 L2190.67 57.6282 Q2190.67 63.1779 2192.17 64.7578 Q2193.71 66.3376 2198.37 66.3376 L2206.02 66.3376 L2206.02 72.576 L2198.37 72.576 Q2189.74 72.576 2186.46 69.3758 Q2183.17 66.1351 2183.17 57.6282 L2183.17 32.9987 L2177.71 32.9987 L2177.71 27.2059 L2183.17 27.2059 L2183.17 14.324 L2190.67 14.324 Z\" fill=\"#000000\" fill-rule=\"evenodd\" fill-opacity=\"1\" /><path clip-path=\"url(#clip770)\" d=\"M2233.41 32.4315 Q2227.41 32.4315 2223.93 37.1306 Q2220.44 41.7891 2220.44 49.9314 Q2220.44 58.0738 2223.89 62.7728 Q2227.37 67.4314 2233.41 67.4314 Q2239.36 67.4314 2242.84 62.7323 Q2246.33 58.0333 2246.33 49.9314 Q2246.33 41.8701 2242.84 37.1711 Q2239.36 32.4315 2233.41 32.4315 M2233.41 26.1121 Q2243.13 26.1121 2248.68 32.4315 Q2254.23 38.7509 2254.23 49.9314 Q2254.23 61.0714 2248.68 67.4314 Q2243.13 73.7508 2233.41 73.7508 Q2223.64 73.7508 2218.09 67.4314 Q2212.58 61.0714 2212.58 49.9314 Q2212.58 38.7509 2218.09 32.4315 Q2223.64 26.1121 2233.41 26.1121 Z\" fill=\"#000000\" fill-rule=\"evenodd\" fill-opacity=\"1\" /><path clip-path=\"url(#clip770)\" d=\"M2292.87 34.1734 Q2291.62 33.4443 2290.12 33.1202 Q2288.66 32.7556 2286.88 32.7556 Q2280.56 32.7556 2277.16 36.8875 Q2273.79 40.9789 2273.79 48.6757 L2273.79 72.576 L2266.3 72.576 L2266.3 27.2059 L2273.79 27.2059 L2273.79 34.2544 Q2276.14 30.1225 2279.91 28.1376 Q2283.68 26.1121 2289.07 26.1121 Q2289.84 26.1121 2290.77 26.2337 Q2291.7 26.3147 2292.83 26.5172 L2292.87 34.1734 Z\" fill=\"#000000\" fill-rule=\"evenodd\" fill-opacity=\"1\" /><path clip-path=\"url(#clip770)\" d=\"M2301.14 62.2867 L2309.68 62.2867 L2309.68 72.576 L2301.14 72.576 L2301.14 62.2867 M2301.14 29.6769 L2309.68 29.6769 L2309.68 39.9662 L2301.14 39.9662 L2301.14 29.6769 Z\" fill=\"#000000\" fill-rule=\"evenodd\" fill-opacity=\"1\" /><polyline clip-path=\"url(#clip773)\" style=\"stroke:#000000; stroke-linecap:butt; stroke-linejoin:round; stroke-width:4; stroke-opacity:1; fill:none\" points=\"\n",
       "  1548.2,1386.4 1548.2,1211.45 \n",
       "  \"/>\n",
       "<polyline clip-path=\"url(#clip773)\" style=\"stroke:#000000; stroke-linecap:butt; stroke-linejoin:round; stroke-width:4; stroke-opacity:1; fill:none\" points=\"\n",
       "  1635,1298.23 1635,1291.04 \n",
       "  \"/>\n",
       "<polyline clip-path=\"url(#clip773)\" style=\"stroke:#000000; stroke-linecap:butt; stroke-linejoin:round; stroke-width:4; stroke-opacity:1; fill:none\" points=\"\n",
       "  1721.79,1308.69 1721.79,1089.02 \n",
       "  \"/>\n",
       "<polyline clip-path=\"url(#clip773)\" style=\"stroke:#000000; stroke-linecap:butt; stroke-linejoin:round; stroke-width:4; stroke-opacity:1; fill:none\" points=\"\n",
       "  1808.58,1173.87 1808.58,1110.56 \n",
       "  \"/>\n",
       "<polyline clip-path=\"url(#clip773)\" style=\"stroke:#000000; stroke-linecap:butt; stroke-linejoin:round; stroke-width:4; stroke-opacity:1; fill:none\" points=\"\n",
       "  1895.37,1062.61 1895.37,1003.71 \n",
       "  \"/>\n",
       "<polyline clip-path=\"url(#clip773)\" style=\"stroke:#000000; stroke-linecap:butt; stroke-linejoin:round; stroke-width:4; stroke-opacity:1; fill:none\" points=\"\n",
       "  1982.16,923.383 1982.16,912.591 \n",
       "  \"/>\n",
       "<polyline clip-path=\"url(#clip773)\" style=\"stroke:#000000; stroke-linecap:butt; stroke-linejoin:round; stroke-width:4; stroke-opacity:1; fill:none\" points=\"\n",
       "  2068.95,800.048 2068.95,723.722 \n",
       "  \"/>\n",
       "<polyline clip-path=\"url(#clip773)\" style=\"stroke:#000000; stroke-linecap:butt; stroke-linejoin:round; stroke-width:4; stroke-opacity:1; fill:none\" points=\"\n",
       "  2155.74,649.88 2155.74,636.042 \n",
       "  \"/>\n",
       "<polyline clip-path=\"url(#clip773)\" style=\"stroke:#000000; stroke-linecap:butt; stroke-linejoin:round; stroke-width:4; stroke-opacity:1; fill:none\" points=\"\n",
       "  2242.53,438.919 2242.53,407.779 \n",
       "  \"/>\n",
       "<polyline clip-path=\"url(#clip773)\" style=\"stroke:#000000; stroke-linecap:butt; stroke-linejoin:round; stroke-width:4; stroke-opacity:1; fill:none\" points=\"\n",
       "  2329.32,214.301 2329.32,160.256 \n",
       "  \"/>\n",
       "<line clip-path=\"url(#clip773)\" x1=\"1564.2\" y1=\"1386.4\" x2=\"1532.2\" y2=\"1386.4\" style=\"stroke:#000000; stroke-width:3.2; stroke-opacity:1\"/>\n",
       "<line clip-path=\"url(#clip773)\" x1=\"1564.2\" y1=\"1211.45\" x2=\"1532.2\" y2=\"1211.45\" style=\"stroke:#000000; stroke-width:3.2; stroke-opacity:1\"/>\n",
       "<line clip-path=\"url(#clip773)\" x1=\"1651\" y1=\"1298.23\" x2=\"1619\" y2=\"1298.23\" style=\"stroke:#000000; stroke-width:3.2; stroke-opacity:1\"/>\n",
       "<line clip-path=\"url(#clip773)\" x1=\"1651\" y1=\"1291.04\" x2=\"1619\" y2=\"1291.04\" style=\"stroke:#000000; stroke-width:3.2; stroke-opacity:1\"/>\n",
       "<line clip-path=\"url(#clip773)\" x1=\"1737.79\" y1=\"1308.69\" x2=\"1705.79\" y2=\"1308.69\" style=\"stroke:#000000; stroke-width:3.2; stroke-opacity:1\"/>\n",
       "<line clip-path=\"url(#clip773)\" x1=\"1737.79\" y1=\"1089.02\" x2=\"1705.79\" y2=\"1089.02\" style=\"stroke:#000000; stroke-width:3.2; stroke-opacity:1\"/>\n",
       "<line clip-path=\"url(#clip773)\" x1=\"1824.58\" y1=\"1173.87\" x2=\"1792.58\" y2=\"1173.87\" style=\"stroke:#000000; stroke-width:3.2; stroke-opacity:1\"/>\n",
       "<line clip-path=\"url(#clip773)\" x1=\"1824.58\" y1=\"1110.56\" x2=\"1792.58\" y2=\"1110.56\" style=\"stroke:#000000; stroke-width:3.2; stroke-opacity:1\"/>\n",
       "<line clip-path=\"url(#clip773)\" x1=\"1911.37\" y1=\"1062.61\" x2=\"1879.37\" y2=\"1062.61\" style=\"stroke:#000000; stroke-width:3.2; stroke-opacity:1\"/>\n",
       "<line clip-path=\"url(#clip773)\" x1=\"1911.37\" y1=\"1003.71\" x2=\"1879.37\" y2=\"1003.71\" style=\"stroke:#000000; stroke-width:3.2; stroke-opacity:1\"/>\n",
       "<line clip-path=\"url(#clip773)\" x1=\"1998.16\" y1=\"923.383\" x2=\"1966.16\" y2=\"923.383\" style=\"stroke:#000000; stroke-width:3.2; stroke-opacity:1\"/>\n",
       "<line clip-path=\"url(#clip773)\" x1=\"1998.16\" y1=\"912.591\" x2=\"1966.16\" y2=\"912.591\" style=\"stroke:#000000; stroke-width:3.2; stroke-opacity:1\"/>\n",
       "<line clip-path=\"url(#clip773)\" x1=\"2084.95\" y1=\"800.048\" x2=\"2052.95\" y2=\"800.048\" style=\"stroke:#000000; stroke-width:3.2; stroke-opacity:1\"/>\n",
       "<line clip-path=\"url(#clip773)\" x1=\"2084.95\" y1=\"723.722\" x2=\"2052.95\" y2=\"723.722\" style=\"stroke:#000000; stroke-width:3.2; stroke-opacity:1\"/>\n",
       "<line clip-path=\"url(#clip773)\" x1=\"2171.74\" y1=\"649.88\" x2=\"2139.74\" y2=\"649.88\" style=\"stroke:#000000; stroke-width:3.2; stroke-opacity:1\"/>\n",
       "<line clip-path=\"url(#clip773)\" x1=\"2171.74\" y1=\"636.042\" x2=\"2139.74\" y2=\"636.042\" style=\"stroke:#000000; stroke-width:3.2; stroke-opacity:1\"/>\n",
       "<line clip-path=\"url(#clip773)\" x1=\"2258.53\" y1=\"438.919\" x2=\"2226.53\" y2=\"438.919\" style=\"stroke:#000000; stroke-width:3.2; stroke-opacity:1\"/>\n",
       "<line clip-path=\"url(#clip773)\" x1=\"2258.53\" y1=\"407.779\" x2=\"2226.53\" y2=\"407.779\" style=\"stroke:#000000; stroke-width:3.2; stroke-opacity:1\"/>\n",
       "<line clip-path=\"url(#clip773)\" x1=\"2345.32\" y1=\"214.301\" x2=\"2313.32\" y2=\"214.301\" style=\"stroke:#000000; stroke-width:3.2; stroke-opacity:1\"/>\n",
       "<line clip-path=\"url(#clip773)\" x1=\"2345.32\" y1=\"160.256\" x2=\"2313.32\" y2=\"160.256\" style=\"stroke:#000000; stroke-width:3.2; stroke-opacity:1\"/>\n",
       "<circle clip-path=\"url(#clip773)\" cx=\"1548.2\" cy=\"1298.92\" r=\"14\" fill=\"#009af9\" fill-rule=\"evenodd\" fill-opacity=\"1\" stroke=\"#000000\" stroke-opacity=\"1\" stroke-width=\"3.2\"/>\n",
       "<circle clip-path=\"url(#clip773)\" cx=\"1635\" cy=\"1294.63\" r=\"14\" fill=\"#009af9\" fill-rule=\"evenodd\" fill-opacity=\"1\" stroke=\"#000000\" stroke-opacity=\"1\" stroke-width=\"3.2\"/>\n",
       "<circle clip-path=\"url(#clip773)\" cx=\"1721.79\" cy=\"1198.85\" r=\"14\" fill=\"#009af9\" fill-rule=\"evenodd\" fill-opacity=\"1\" stroke=\"#000000\" stroke-opacity=\"1\" stroke-width=\"3.2\"/>\n",
       "<circle clip-path=\"url(#clip773)\" cx=\"1808.58\" cy=\"1142.21\" r=\"14\" fill=\"#009af9\" fill-rule=\"evenodd\" fill-opacity=\"1\" stroke=\"#000000\" stroke-opacity=\"1\" stroke-width=\"3.2\"/>\n",
       "<circle clip-path=\"url(#clip773)\" cx=\"1895.37\" cy=\"1033.16\" r=\"14\" fill=\"#009af9\" fill-rule=\"evenodd\" fill-opacity=\"1\" stroke=\"#000000\" stroke-opacity=\"1\" stroke-width=\"3.2\"/>\n",
       "<circle clip-path=\"url(#clip773)\" cx=\"1982.16\" cy=\"917.987\" r=\"14\" fill=\"#009af9\" fill-rule=\"evenodd\" fill-opacity=\"1\" stroke=\"#000000\" stroke-opacity=\"1\" stroke-width=\"3.2\"/>\n",
       "<circle clip-path=\"url(#clip773)\" cx=\"2068.95\" cy=\"761.885\" r=\"14\" fill=\"#009af9\" fill-rule=\"evenodd\" fill-opacity=\"1\" stroke=\"#000000\" stroke-opacity=\"1\" stroke-width=\"3.2\"/>\n",
       "<circle clip-path=\"url(#clip773)\" cx=\"2155.74\" cy=\"642.961\" r=\"14\" fill=\"#009af9\" fill-rule=\"evenodd\" fill-opacity=\"1\" stroke=\"#000000\" stroke-opacity=\"1\" stroke-width=\"3.2\"/>\n",
       "<circle clip-path=\"url(#clip773)\" cx=\"2242.53\" cy=\"423.349\" r=\"14\" fill=\"#009af9\" fill-rule=\"evenodd\" fill-opacity=\"1\" stroke=\"#000000\" stroke-opacity=\"1\" stroke-width=\"3.2\"/>\n",
       "<circle clip-path=\"url(#clip773)\" cx=\"2329.32\" cy=\"187.279\" r=\"14\" fill=\"#009af9\" fill-rule=\"evenodd\" fill-opacity=\"1\" stroke=\"#000000\" stroke-opacity=\"1\" stroke-width=\"3.2\"/>\n",
       "</svg>\n"
      ]
     },
     "execution_count": 93,
     "metadata": {},
     "output_type": "execute_result"
    }
   ],
   "source": [
    "plot(plot1, plot2, layout=2)"
   ]
  }
 ],
 "metadata": {
  "kernelspec": {
   "display_name": "Julia 1.7.2",
   "language": "julia",
   "name": "julia-1.7"
  },
  "language_info": {
   "file_extension": ".jl",
   "mimetype": "application/julia",
   "name": "julia",
   "version": "1.7.2"
  }
 },
 "nbformat": 4,
 "nbformat_minor": 4
}
