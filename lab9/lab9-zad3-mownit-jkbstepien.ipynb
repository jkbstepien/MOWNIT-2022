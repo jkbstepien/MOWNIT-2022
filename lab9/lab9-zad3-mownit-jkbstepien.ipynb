{
 "cells": [
  {
   "cell_type": "markdown",
   "id": "501bdd75",
   "metadata": {},
   "source": [
    "# MOWNIT - Laboratorium 9 by Jakub Stępień"
   ]
  },
  {
   "cell_type": "markdown",
   "id": "8c34dc93",
   "metadata": {},
   "source": [
    "## Wybrane zagadnienia z algebry liniowej, faktoryzacja"
   ]
  },
  {
   "cell_type": "markdown",
   "id": "78b4ebf5",
   "metadata": {},
   "source": [
    "### Zastosowanie faktoryzacji SVD"
   ]
  },
  {
   "cell_type": "markdown",
   "id": "1868d53e",
   "metadata": {},
   "source": [
    "**NOTES:**\n",
    "- Thinking about SVD as data reduction tool. Big pictures, videos etc..\n",
    "- SVD helps to reduce this data into the key features that are necessary to understand/describe this data. This factorization is usually the first step in many dimensionality-reducing ML techniques.\n",
    "- SVD can be thought of as data-driven generalization of a Fourier transform (FFT).\n",
    "- SVD helps to compute linear equations Ax=b for non square A.\n",
    "- This is mostly used in linear regression models."
   ]
  },
  {
   "cell_type": "markdown",
   "id": "8ee465f9",
   "metadata": {},
   "source": [
    "### C"
   ]
  },
  {
   "cell_type": "code",
   "execution_count": null,
   "id": "8297eed2",
   "metadata": {},
   "outputs": [],
   "source": []
  },
  {
   "cell_type": "code",
   "execution_count": null,
   "id": "f6ce191e",
   "metadata": {},
   "outputs": [],
   "source": []
  },
  {
   "cell_type": "code",
   "execution_count": null,
   "id": "8778e9fe",
   "metadata": {},
   "outputs": [],
   "source": []
  },
  {
   "cell_type": "code",
   "execution_count": null,
   "id": "8b78b816",
   "metadata": {},
   "outputs": [],
   "source": []
  },
  {
   "cell_type": "code",
   "execution_count": null,
   "id": "5a07db30",
   "metadata": {},
   "outputs": [],
   "source": []
  },
  {
   "cell_type": "code",
   "execution_count": null,
   "id": "148d0c28",
   "metadata": {},
   "outputs": [],
   "source": []
  },
  {
   "cell_type": "code",
   "execution_count": null,
   "id": "9f3cb73d",
   "metadata": {},
   "outputs": [],
   "source": []
  }
 ],
 "metadata": {
  "kernelspec": {
   "display_name": "Python 3 (ipykernel)",
   "language": "python",
   "name": "python3"
  },
  "language_info": {
   "codemirror_mode": {
    "name": "ipython",
    "version": 3
   },
   "file_extension": ".py",
   "mimetype": "text/x-python",
   "name": "python",
   "nbconvert_exporter": "python",
   "pygments_lexer": "ipython3",
   "version": "3.8.10"
  }
 },
 "nbformat": 4,
 "nbformat_minor": 5
}
