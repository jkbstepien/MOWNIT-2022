{
 "cells": [
  {
   "cell_type": "markdown",
   "metadata": {},
   "source": [
    "# MOwNiT \n",
    "## Laboratorium\n",
    "## Wybrane zagadnienia algebry liniowej, faktoryzacja\n",
    "### Algebra liniowa w Julii\n",
    "https://docs.julialang.org/en/v1.7/stdlib/LinearAlgebra/index.html\n"
   ]
  },
  {
   "cell_type": "code",
   "execution_count": 1,
   "metadata": {},
   "outputs": [],
   "source": [
    "using(LinearAlgebra)"
   ]
  },
  {
   "cell_type": "code",
   "execution_count": 2,
   "metadata": {
    "scrolled": true
   },
   "outputs": [
    {
     "data": {
      "text/html": [
       "# 11 methods for generic function <b>factorize</b>:<ul><li> factorize(A::<b>StridedMatrix{T}</b>)<i> where T</i> in LinearAlgebra at <a href=\"file://C:/buildbot/worker/package_win64/build/usr/share/julia/stdlib/v1.7/LinearAlgebra/src/dense.jl\" target=\"_blank\">C:\\Users\\kzaja\\AppData\\Local\\Programs\\Julia-1.7.2\\share\\julia\\stdlib\\v1.7\\LinearAlgebra\\src\\dense.jl:1302</a></li> <li> factorize(A::<b>Adjoint</b>) in LinearAlgebra at <a href=\"file://C:/buildbot/worker/package_win64/build/usr/share/julia/stdlib/v1.7/LinearAlgebra/src/dense.jl\" target=\"_blank\">C:\\Users\\kzaja\\AppData\\Local\\Programs\\Julia-1.7.2\\share\\julia\\stdlib\\v1.7\\LinearAlgebra\\src\\dense.jl:1376</a></li> <li> factorize(A::<b>Transpose</b>) in LinearAlgebra at <a href=\"file://C:/buildbot/worker/package_win64/build/usr/share/julia/stdlib/v1.7/LinearAlgebra/src/dense.jl\" target=\"_blank\">C:\\Users\\kzaja\\AppData\\Local\\Programs\\Julia-1.7.2\\share\\julia\\stdlib\\v1.7\\LinearAlgebra\\src\\dense.jl:1377</a></li> <li> factorize(A::<b>LinearAlgebra.AbstractTriangular</b>) in LinearAlgebra at <a href=\"file://C:/buildbot/worker/package_win64/build/usr/share/julia/stdlib/v1.7/LinearAlgebra/src/triangular.jl\" target=\"_blank\">C:\\Users\\kzaja\\AppData\\Local\\Programs\\Julia-1.7.2\\share\\julia\\stdlib\\v1.7\\LinearAlgebra\\src\\triangular.jl:2569</a></li> <li> factorize(A::<b>Tridiagonal</b>) in LinearAlgebra at <a href=\"file://C:/buildbot/worker/package_win64/build/usr/share/julia/stdlib/v1.7/LinearAlgebra/src/lu.jl\" target=\"_blank\">C:\\Users\\kzaja\\AppData\\Local\\Programs\\Julia-1.7.2\\share\\julia\\stdlib\\v1.7\\LinearAlgebra\\src\\lu.jl:567</a></li> <li> factorize(D::<b>Diagonal</b>) in LinearAlgebra at <a href=\"file://C:/buildbot/worker/package_win64/build/usr/share/julia/stdlib/v1.7/LinearAlgebra/src/diagonal.jl\" target=\"_blank\">C:\\Users\\kzaja\\AppData\\Local\\Programs\\Julia-1.7.2\\share\\julia\\stdlib\\v1.7\\LinearAlgebra\\src\\diagonal.jl:137</a></li> <li> factorize(A::<b>Bidiagonal</b>) in LinearAlgebra at <a href=\"file://C:/buildbot/worker/package_win64/build/usr/share/julia/stdlib/v1.7/LinearAlgebra/src/bidiag.jl\" target=\"_blank\">C:\\Users\\kzaja\\AppData\\Local\\Programs\\Julia-1.7.2\\share\\julia\\stdlib\\v1.7\\LinearAlgebra\\src\\bidiag.jl:845</a></li> <li> factorize(S::<b>SymTridiagonal</b>) in LinearAlgebra at <a href=\"file://C:/buildbot/worker/package_win64/build/usr/share/julia/stdlib/v1.7/LinearAlgebra/src/ldlt.jl\" target=\"_blank\">C:\\Users\\kzaja\\AppData\\Local\\Programs\\Julia-1.7.2\\share\\julia\\stdlib\\v1.7\\LinearAlgebra\\src\\ldlt.jl:170</a></li> <li> factorize(A::<b>SparseArrays.AbstractSparseMatrixCSC</b>) in SparseArrays at <a href=\"file://C:/buildbot/worker/package_win64/build/usr/share/julia/stdlib/v1.7/SparseArrays/src/linalg.jl\" target=\"_blank\">C:\\Users\\kzaja\\AppData\\Local\\Programs\\Julia-1.7.2\\share\\julia\\stdlib\\v1.7\\SparseArrays\\src\\linalg.jl:1586</a></li> <li> factorize(A::<b>Union{Hermitian{ComplexF64, var\"#s859\"}, Hermitian{Float64, var\"#s859\"}, Symmetric{Float64, var\"#s859\"}} where var\"#s859\"<:SparseArrays.AbstractSparseMatrixCSC</b>) in SparseArrays at <a href=\"file://C:/buildbot/worker/package_win64/build/usr/share/julia/stdlib/v1.7/SparseArrays/src/linalg.jl\" target=\"_blank\">C:\\Users\\kzaja\\AppData\\Local\\Programs\\Julia-1.7.2\\share\\julia\\stdlib\\v1.7\\SparseArrays\\src\\linalg.jl:1616</a></li> <li> factorize(A::<b>Union{Hermitian{T, S}, Symmetric{T, S}} where {T, S}</b>) in LinearAlgebra at <a href=\"file://C:/buildbot/worker/package_win64/build/usr/share/julia/stdlib/v1.7/LinearAlgebra/src/symmetric.jl\" target=\"_blank\">C:\\Users\\kzaja\\AppData\\Local\\Programs\\Julia-1.7.2\\share\\julia\\stdlib\\v1.7\\LinearAlgebra\\src\\symmetric.jl:641</a></li> </ul>"
      ],
      "text/plain": [
       "# 11 methods for generic function \"factorize\":\n",
       "[1] factorize(A::StridedMatrix{T}) where T in LinearAlgebra at C:\\Users\\kzaja\\AppData\\Local\\Programs\\Julia-1.7.2\\share\\julia\\stdlib\\v1.7\\LinearAlgebra\\src\\dense.jl:1302\n",
       "[2] factorize(A::Adjoint) in LinearAlgebra at C:\\Users\\kzaja\\AppData\\Local\\Programs\\Julia-1.7.2\\share\\julia\\stdlib\\v1.7\\LinearAlgebra\\src\\dense.jl:1376\n",
       "[3] factorize(A::Transpose) in LinearAlgebra at C:\\Users\\kzaja\\AppData\\Local\\Programs\\Julia-1.7.2\\share\\julia\\stdlib\\v1.7\\LinearAlgebra\\src\\dense.jl:1377\n",
       "[4] factorize(A::LinearAlgebra.AbstractTriangular) in LinearAlgebra at C:\\Users\\kzaja\\AppData\\Local\\Programs\\Julia-1.7.2\\share\\julia\\stdlib\\v1.7\\LinearAlgebra\\src\\triangular.jl:2569\n",
       "[5] factorize(A::Tridiagonal) in LinearAlgebra at C:\\Users\\kzaja\\AppData\\Local\\Programs\\Julia-1.7.2\\share\\julia\\stdlib\\v1.7\\LinearAlgebra\\src\\lu.jl:567\n",
       "[6] factorize(D::Diagonal) in LinearAlgebra at C:\\Users\\kzaja\\AppData\\Local\\Programs\\Julia-1.7.2\\share\\julia\\stdlib\\v1.7\\LinearAlgebra\\src\\diagonal.jl:137\n",
       "[7] factorize(A::Bidiagonal) in LinearAlgebra at C:\\Users\\kzaja\\AppData\\Local\\Programs\\Julia-1.7.2\\share\\julia\\stdlib\\v1.7\\LinearAlgebra\\src\\bidiag.jl:845\n",
       "[8] factorize(S::SymTridiagonal) in LinearAlgebra at C:\\Users\\kzaja\\AppData\\Local\\Programs\\Julia-1.7.2\\share\\julia\\stdlib\\v1.7\\LinearAlgebra\\src\\ldlt.jl:170\n",
       "[9] factorize(A::SparseArrays.AbstractSparseMatrixCSC) in SparseArrays at C:\\Users\\kzaja\\AppData\\Local\\Programs\\Julia-1.7.2\\share\\julia\\stdlib\\v1.7\\SparseArrays\\src\\linalg.jl:1586\n",
       "[10] factorize(A::Union{Hermitian{ComplexF64, var\"#s859\"}, Hermitian{Float64, var\"#s859\"}, Symmetric{Float64, var\"#s859\"}} where var\"#s859\"<:SparseArrays.AbstractSparseMatrixCSC) in SparseArrays at C:\\Users\\kzaja\\AppData\\Local\\Programs\\Julia-1.7.2\\share\\julia\\stdlib\\v1.7\\SparseArrays\\src\\linalg.jl:1616\n",
       "[11] factorize(A::Union{Hermitian{T, S}, Symmetric{T, S}} where {T, S}) in LinearAlgebra at C:\\Users\\kzaja\\AppData\\Local\\Programs\\Julia-1.7.2\\share\\julia\\stdlib\\v1.7\\LinearAlgebra\\src\\symmetric.jl:641"
      ]
     },
     "execution_count": 2,
     "metadata": {},
     "output_type": "execute_result"
    }
   ],
   "source": [
    "methods(factorize)"
   ]
  },
  {
   "cell_type": "code",
   "execution_count": 3,
   "metadata": {},
   "outputs": [
    {
     "data": {
      "text/plain": [
       "1×3 Matrix{Int64}:\n",
       " 1  2  2"
      ]
     },
     "execution_count": 3,
     "metadata": {},
     "output_type": "execute_result"
    }
   ],
   "source": [
    "#wiersze vs kolumny\n",
    "x1=[1 2 2]"
   ]
  },
  {
   "cell_type": "code",
   "execution_count": 4,
   "metadata": {},
   "outputs": [
    {
     "data": {
      "text/plain": [
       "3-element Vector{Int64}:\n",
       " 1\n",
       " 2\n",
       " 3"
      ]
     },
     "execution_count": 4,
     "metadata": {},
     "output_type": "execute_result"
    }
   ],
   "source": [
    "y1=[1 ;2 ;3]"
   ]
  },
  {
   "cell_type": "code",
   "execution_count": 5,
   "metadata": {},
   "outputs": [
    {
     "data": {
      "text/plain": [
       "3×1 transpose(::Matrix{Int64}) with eltype Int64:\n",
       " 1\n",
       " 2\n",
       " 2"
      ]
     },
     "execution_count": 5,
     "metadata": {},
     "output_type": "execute_result"
    }
   ],
   "source": [
    "transpose(x1)"
   ]
  },
  {
   "cell_type": "code",
   "execution_count": 6,
   "metadata": {},
   "outputs": [
    {
     "data": {
      "text/plain": [
       "11"
      ]
     },
     "execution_count": 6,
     "metadata": {},
     "output_type": "execute_result"
    }
   ],
   "source": [
    "#iloczyn skalarny\n",
    "dot(x1,y1)"
   ]
  },
  {
   "cell_type": "markdown",
   "metadata": {},
   "source": [
    " Długość wektora liczymy jako pierwiastek z jego iloczynu skalarnego \n",
    "$$ \\lVert\\mathbf{v}\\rVert = \\sqrt{\\mathbf{v}\\cdot \\mathbf{v}}=\\sqrt{\\sum_{i=1}^nv_i^2}$$\n",
    "\n"
   ]
  },
  {
   "cell_type": "markdown",
   "metadata": {},
   "source": [
    "#### Przykładowe dane"
   ]
  },
  {
   "cell_type": "code",
   "execution_count": 7,
   "metadata": {},
   "outputs": [
    {
     "data": {
      "text/plain": [
       "3×3 Matrix{Float64}:\n",
       " 0.201333  0.730256   0.874181\n",
       " 0.962293  0.61645    0.253017\n",
       " 0.591243  0.0279556  0.208219"
      ]
     },
     "execution_count": 7,
     "metadata": {},
     "output_type": "execute_result"
    }
   ],
   "source": [
    "#losujemy macierz 3x3\n",
    "A=rand(3,3)"
   ]
  },
  {
   "cell_type": "code",
   "execution_count": 8,
   "metadata": {},
   "outputs": [
    {
     "data": {
      "text/plain": [
       "3-element Vector{Float64}:\n",
       " 0.6494978713049762\n",
       " 0.46570721507453183\n",
       " 0.48760751497651733"
      ]
     },
     "execution_count": 8,
     "metadata": {},
     "output_type": "execute_result"
    }
   ],
   "source": [
    "#losujemy wektor x\n",
    "x=rand(3)"
   ]
  },
  {
   "cell_type": "code",
   "execution_count": 9,
   "metadata": {},
   "outputs": [
    {
     "data": {
      "text/plain": [
       "3-element Vector{Float64}:\n",
       " 0.897107931693224\n",
       " 1.03546539325556\n",
       " 0.49855914678814334"
      ]
     },
     "execution_count": 9,
     "metadata": {},
     "output_type": "execute_result"
    }
   ],
   "source": [
    "# wyliczamy b\n",
    "b=A*x"
   ]
  },
  {
   "cell_type": "markdown",
   "metadata": {},
   "source": [
    "### Sposoby rozwiązania Ax=b"
   ]
  },
  {
   "cell_type": "code",
   "execution_count": 10,
   "metadata": {},
   "outputs": [
    {
     "data": {
      "text/plain": [
       "3-element Vector{Float64}:\n",
       " 0.6494978713049763\n",
       " 0.4657072150745318\n",
       " 0.4876075149765174"
      ]
     },
     "execution_count": 10,
     "metadata": {},
     "output_type": "execute_result"
    }
   ],
   "source": [
    "#mozemy policzyc odwrotność macierzy i wymnożyć\n",
    "# uwaga: nieefektywne!\n",
    "inv(A) * b"
   ]
  },
  {
   "cell_type": "code",
   "execution_count": 11,
   "metadata": {},
   "outputs": [
    {
     "data": {
      "text/plain": [
       "3-element Vector{Float64}:\n",
       " 0.6494978713049762\n",
       " 0.4657072150745318\n",
       " 0.48760751497651744"
      ]
     },
     "execution_count": 11,
     "metadata": {},
     "output_type": "execute_result"
    }
   ],
   "source": [
    "#najlepiej używać zoptymalizowanego operatora \"\\\"\"\n",
    "x=A\\b"
   ]
  },
  {
   "cell_type": "markdown",
   "metadata": {},
   "source": [
    " operator \"\\\\\" wybiera odpowiednią faktoryzację:\n",
    "- https://docs.julialang.org/en/v1.2/stdlib/LinearAlgebra/#LinearAlgebra.factorize\n",
    "- https://docs.julialang.org/en/v1.2/stdlib/LinearAlgebra/#man-linalg-factorizations-1\n",
    " \n"
   ]
  },
  {
   "cell_type": "markdown",
   "metadata": {},
   "source": [
    "### Faktoryzacja LU"
   ]
  },
  {
   "cell_type": "code",
   "execution_count": 12,
   "metadata": {},
   "outputs": [
    {
     "data": {
      "text/plain": [
       "LU{Float64, Matrix{Float64}}\n",
       "L factor:\n",
       "3×3 Matrix{Float64}:\n",
       " 1.0        0.0       0.0\n",
       " 0.209222   1.0       0.0\n",
       " 0.61441   -0.583416  1.0\n",
       "U factor:\n",
       "3×3 Matrix{Float64}:\n",
       " 0.962293  0.61645   0.253017\n",
       " 0.0       0.601281  0.821245\n",
       " 0.0       0.0       0.531891"
      ]
     },
     "execution_count": 12,
     "metadata": {},
     "output_type": "execute_result"
    }
   ],
   "source": [
    "# W przypadku ogólnej macierzy kwadratowej jest to faktoryzacja LU z pivotem\n",
    "Af=factorize(A)"
   ]
  },
  {
   "cell_type": "code",
   "execution_count": 13,
   "metadata": {},
   "outputs": [
    {
     "data": {
      "text/plain": [
       "3×3 Matrix{Float64}:\n",
       " 1.0        0.0       0.0\n",
       " 0.209222   1.0       0.0\n",
       " 0.61441   -0.583416  1.0"
      ]
     },
     "execution_count": 13,
     "metadata": {},
     "output_type": "execute_result"
    }
   ],
   "source": [
    "# Macierz L\n",
    "Af.L"
   ]
  },
  {
   "cell_type": "code",
   "execution_count": 14,
   "metadata": {},
   "outputs": [
    {
     "data": {
      "text/plain": [
       "3×3 Matrix{Float64}:\n",
       " 0.962293  0.61645   0.253017\n",
       " 0.0       0.601281  0.821245\n",
       " 0.0       0.0       0.531891"
      ]
     },
     "execution_count": 14,
     "metadata": {},
     "output_type": "execute_result"
    }
   ],
   "source": [
    "#Macierz U\n",
    "Af.U"
   ]
  },
  {
   "cell_type": "code",
   "execution_count": 15,
   "metadata": {},
   "outputs": [
    {
     "data": {
      "text/plain": [
       "3-element Vector{Int64}:\n",
       " 2\n",
       " 1\n",
       " 3"
      ]
     },
     "execution_count": 15,
     "metadata": {},
     "output_type": "execute_result"
    }
   ],
   "source": [
    "# wektor permulatacji wierszy \n",
    "Af.p"
   ]
  },
  {
   "cell_type": "code",
   "execution_count": 16,
   "metadata": {},
   "outputs": [
    {
     "data": {
      "text/plain": [
       "LU{Float64, Matrix{Float64}}\n",
       "L factor:\n",
       "3×3 Matrix{Float64}:\n",
       " 1.0        0.0       0.0\n",
       " 0.209222   1.0       0.0\n",
       " 0.61441   -0.583416  1.0\n",
       "U factor:\n",
       "3×3 Matrix{Float64}:\n",
       " 0.962293  0.61645   0.253017\n",
       " 0.0       0.601281  0.821245\n",
       " 0.0       0.0       0.531891"
      ]
     },
     "execution_count": 16,
     "metadata": {},
     "output_type": "execute_result"
    }
   ],
   "source": [
    "# mozemy zamienic macierz A na postać zfaktoryzowaną\n",
    "A=factorize(A)"
   ]
  },
  {
   "cell_type": "code",
   "execution_count": 17,
   "metadata": {},
   "outputs": [
    {
     "data": {
      "text/plain": [
       "3-element Vector{Float64}:\n",
       " 0.6494978713049762\n",
       " 0.4657072150745318\n",
       " 0.48760751497651744"
      ]
     },
     "execution_count": 17,
     "metadata": {},
     "output_type": "execute_result"
    }
   ],
   "source": [
    "# i działać na niej operatorem \\\n",
    "# operator ten będzie wykorzytywał raz utworzony wynik faktoryzacji\n",
    "A\\b"
   ]
  },
  {
   "cell_type": "code",
   "execution_count": 18,
   "metadata": {},
   "outputs": [
    {
     "data": {
      "text/plain": [
       "3-element Vector{Float64}:\n",
       " 0.46028506974417727\n",
       " 0.8374221118633624\n",
       " 0.020357928999785613"
      ]
     },
     "execution_count": 18,
     "metadata": {},
     "output_type": "execute_result"
    }
   ],
   "source": [
    "# dla różnych prawych stron równania z tą samą macierzą\n",
    "c=rand(3);\n",
    "A\\c"
   ]
  },
  {
   "cell_type": "markdown",
   "metadata": {},
   "source": [
    "### Faktoryzacja QR\n"
   ]
  },
  {
   "cell_type": "code",
   "execution_count": 19,
   "metadata": {},
   "outputs": [
    {
     "data": {
      "text/plain": [
       "10×5 Matrix{Float64}:\n",
       " 0.413965   0.00524901  0.963826   0.632963  0.329576\n",
       " 0.455467   0.410653    0.138445   0.867344  0.391937\n",
       " 0.0478521  0.342658    0.592005   0.166132  0.729935\n",
       " 0.595275   0.568469    0.959588   0.846336  0.28413\n",
       " 0.254104   0.322546    0.632214   0.60233   0.340109\n",
       " 0.661588   0.314318    0.0998852  0.288977  0.85628\n",
       " 0.0989537  0.882192    0.644475   0.905718  0.894542\n",
       " 0.469139   0.264447    0.952984   0.67456   0.413944\n",
       " 0.399162   0.942584    0.103219   0.294836  0.266671\n",
       " 0.770202   0.662923    0.24402    0.311711  0.877025"
      ]
     },
     "execution_count": 19,
     "metadata": {},
     "output_type": "execute_result"
    }
   ],
   "source": [
    "B=rand(10,5)"
   ]
  },
  {
   "cell_type": "code",
   "execution_count": 20,
   "metadata": {},
   "outputs": [
    {
     "data": {
      "text/plain": [
       "QRPivoted{Float64, Matrix{Float64}}\n",
       "Q factor:\n",
       "10×10 LinearAlgebra.QRPackedQ{Float64, Matrix{Float64}}:\n",
       " -0.480545    0.212773   -0.308719   …  -0.467789    -0.290149   -0.111893\n",
       " -0.069026   -0.221479    0.128279       0.0388043    0.174901   -0.175904\n",
       " -0.295162   -0.255131   -0.222705      -0.0666513    0.380218   -0.308677\n",
       " -0.478432    0.244019    0.306051      -0.255056     0.0138046  -0.15605\n",
       " -0.31521     0.0489261   0.0368137     -0.0782618    0.645647    0.624244\n",
       " -0.0498008  -0.579262   -0.305746   …  -0.0182322    0.199475   -0.32256\n",
       " -0.321323   -0.35082     0.210526      -0.0130101   -0.400169    0.07429\n",
       " -0.47514     0.145961   -0.101646       0.837935    -0.0915234  -0.0504201\n",
       " -0.0514632  -0.146444    0.771172       0.00011523   0.11606    -0.246299\n",
       " -0.121663   -0.526568    0.0278857     -0.0375557   -0.319117    0.523885\n",
       "R factor:\n",
       "5×5 Matrix{Float64}:\n",
       " -2.00569  -1.29121  -1.05958   -1.01128   -1.68687\n",
       "  0.0      -1.36722  -0.962833  -0.680804  -0.457807\n",
       "  0.0       0.0       0.968724   0.211679   0.429871\n",
       "  0.0       0.0       0.0       -0.830153  -0.202776\n",
       "  0.0       0.0       0.0        0.0       -0.722173\n",
       "permutation:\n",
       "5-element Vector{Int64}:\n",
       " 3\n",
       " 5\n",
       " 2\n",
       " 1\n",
       " 4"
      ]
     },
     "execution_count": 20,
     "metadata": {},
     "output_type": "execute_result"
    }
   ],
   "source": [
    "# W przypadku ogólnej macierzy prostokątnej wybierana jest faktoryzacja QR z pivotem\n",
    "factorize(B)"
   ]
  },
  {
   "cell_type": "markdown",
   "metadata": {},
   "source": [
    "- $Q$ to macierz  ortogonalna mxm, co oznacza, że  $Q^T*Q=Q*Q^T=I$ czyli $Q^{-1}=Q^T$ (odwracanie takich macierzy jest szybkie i nie generuje dodatkowych błędów !)\n",
    "- $R$ to macierz postaci $\\begin{pmatrix} Rfactor \\\\ 0 \\end{pmatrix} $ , gdzie $Rfactor$ jest macierzą trójkątną górną, a 0 to macierz zer o wymierze nx(m-n)"
   ]
  },
  {
   "cell_type": "markdown",
   "metadata": {},
   "source": [
    "### Zastosowanie faktoryzacji do metody najmniejszych kwadratów\n",
    "\n",
    "Jednym z zastosowań faktoryzacji QR jest użycie jej do metody najmniejszych kwadratów.\n",
    "\n",
    "Przykład:\n",
    "\n",
    "Obliczmy dopasowanie wielomianu $$f(x)=wsp_2*x^2+wsp_1*x+wsp_0$$ do punktów (1,1) (2,2) (3,4) (4, 4) (5,3) (6,0)\n",
    "\n",
    "- Budujemy układ równań wg wzoru $$wsp_2x_i^2+wsp_1x_i+wsp_0=y_i$$:\n",
    "$$wsp_2*1^2+wsp_1*1+wsp_0=1$$\n",
    "$$wsp_2*2^2+wsp_1*2+wsp_0=2$$\n",
    "$$wsp_2*3^2+wsp_1*3+wsp_0=4$$\n",
    "$$wsp_2*4^2+wsp_1*4+wsp_0=4$$\n",
    "$$wsp_2*5^2+wsp_1*5+wsp_0=3$$\n",
    "$$wsp_2*6^2+wsp_1*6+wsp_0=0$$\n",
    "\n",
    "- Układ ten  nie ma dokładnego rozwiązania. Możemy jednak znaleźć najlepsze przybliżenie, czyli takie $wsp_i$, które minimalizują odległość:\n",
    "\n",
    "$$\\sqrt{\\sum_{i=1}^{6}{(y_i-f(x_i))^2}}=\\lVert y-A*wsp\\rVert$$\n",
    "\n",
    "\n",
    "\n"
   ]
  },
  {
   "cell_type": "markdown",
   "metadata": {},
   "source": [
    "Jak użyć do tej mimalizacji faktoryzacji QR:\n",
    "\n",
    "#### 1. Tworzymy macierz A na postawie $(x_i,y_i)$"
   ]
  },
  {
   "cell_type": "code",
   "execution_count": 21,
   "metadata": {},
   "outputs": [
    {
     "data": {
      "text/plain": [
       "6×3 Matrix{Float64}:\n",
       " 0.0  0.0  0.0\n",
       " 0.0  0.0  0.0\n",
       " 0.0  0.0  0.0\n",
       " 0.0  0.0  0.0\n",
       " 0.0  0.0  0.0\n",
       " 0.0  0.0  0.0"
      ]
     },
     "execution_count": 21,
     "metadata": {},
     "output_type": "execute_result"
    }
   ],
   "source": [
    "A=zeros(6,3) "
   ]
  },
  {
   "cell_type": "markdown",
   "metadata": {},
   "source": [
    " punkty $(x_i,y_i)$\n"
   ]
  },
  {
   "cell_type": "code",
   "execution_count": 22,
   "metadata": {},
   "outputs": [
    {
     "data": {
      "text/plain": [
       "6-element Vector{Int64}:\n",
       " 1\n",
       " 2\n",
       " 4\n",
       " 4\n",
       " 3\n",
       " 0"
      ]
     },
     "execution_count": 22,
     "metadata": {},
     "output_type": "execute_result"
    }
   ],
   "source": [
    "x=[1; 2 ;3 ;4 ;5 ;6]\n",
    "y=[1; 2; 4; 4; 3; 0]"
   ]
  },
  {
   "cell_type": "code",
   "execution_count": 23,
   "metadata": {},
   "outputs": [
    {
     "data": {
      "text/plain": [
       "6-element Vector{Int64}:\n",
       "  1\n",
       "  4\n",
       "  9\n",
       " 16\n",
       " 25\n",
       " 36"
      ]
     },
     "execution_count": 23,
     "metadata": {},
     "output_type": "execute_result"
    }
   ],
   "source": [
    "A[:,1]=x.^2"
   ]
  },
  {
   "cell_type": "code",
   "execution_count": 24,
   "metadata": {},
   "outputs": [
    {
     "data": {
      "text/plain": [
       "6-element Vector{Int64}:\n",
       " 1\n",
       " 2\n",
       " 3\n",
       " 4\n",
       " 5\n",
       " 6"
      ]
     },
     "execution_count": 24,
     "metadata": {},
     "output_type": "execute_result"
    }
   ],
   "source": [
    "A[:,2]=x"
   ]
  },
  {
   "cell_type": "code",
   "execution_count": 25,
   "metadata": {},
   "outputs": [
    {
     "data": {
      "text/plain": [
       "6-element Vector{Float64}:\n",
       " 1.0\n",
       " 1.0\n",
       " 1.0\n",
       " 1.0\n",
       " 1.0\n",
       " 1.0"
      ]
     },
     "execution_count": 25,
     "metadata": {},
     "output_type": "execute_result"
    }
   ],
   "source": [
    "A[:,3]=ones(6)"
   ]
  },
  {
   "cell_type": "code",
   "execution_count": 26,
   "metadata": {},
   "outputs": [
    {
     "data": {
      "text/plain": [
       "6×3 Matrix{Float64}:\n",
       "  1.0  1.0  1.0\n",
       "  4.0  2.0  1.0\n",
       "  9.0  3.0  1.0\n",
       " 16.0  4.0  1.0\n",
       " 25.0  5.0  1.0\n",
       " 36.0  6.0  1.0"
      ]
     },
     "execution_count": 26,
     "metadata": {},
     "output_type": "execute_result"
    }
   ],
   "source": [
    "A"
   ]
  },
  {
   "cell_type": "markdown",
   "metadata": {},
   "source": [
    "#### 2. Dokonujemy faktoryzacji QR macierzy A "
   ]
  },
  {
   "cell_type": "code",
   "execution_count": 27,
   "metadata": {},
   "outputs": [
    {
     "data": {
      "text/plain": [
       "QRPivoted{Float64, Matrix{Float64}}\n",
       "Q factor:\n",
       "6×6 LinearAlgebra.QRPackedQ{Float64, Matrix{Float64}}:\n",
       " -0.0209657  -0.343313    0.838525   0.112335    -0.0400677  -0.405397\n",
       " -0.0838628  -0.521522    0.167705  -0.00636667   0.34634     0.756879\n",
       " -0.188691   -0.534625   -0.223607  -0.612934    -0.487947   -0.121617\n",
       " -0.335451   -0.382624   -0.33541    0.753648    -0.213523   -0.122449\n",
       " -0.524142   -0.0655178  -0.167705  -0.204705     0.705864   -0.390779\n",
       " -0.754765    0.416693    0.279508  -0.0419783   -0.310667    0.283364\n",
       "R factor:\n",
       "3×3 Matrix{Float64}:\n",
       " -47.697  -9.24587  -1.90788\n",
       "   0.0    -2.34816  -1.43091\n",
       "   0.0     0.0       0.559017\n",
       "permutation:\n",
       "3-element Vector{Int64}:\n",
       " 1\n",
       " 2\n",
       " 3"
      ]
     },
     "execution_count": 27,
     "metadata": {},
     "output_type": "execute_result"
    }
   ],
   "source": [
    " AF=factorize(A)"
   ]
  },
  {
   "cell_type": "code",
   "execution_count": 28,
   "metadata": {},
   "outputs": [
    {
     "data": {
      "text/plain": [
       "6×6 Matrix{Float64}:\n",
       "  1.0           0.0           1.66533e-16  …   2.77556e-17  -2.77556e-17\n",
       "  0.0           1.0           5.55112e-17      8.32667e-17  -9.71445e-17\n",
       "  1.66533e-16   5.55112e-17   1.0             -6.93889e-17  -2.77556e-17\n",
       " -2.08167e-17  -4.85723e-17  -7.97973e-17     -6.59195e-17  -3.1225e-17\n",
       "  2.77556e-17   8.32667e-17  -6.93889e-17      1.0          -2.77556e-17\n",
       " -2.77556e-17  -9.71445e-17  -2.77556e-17  …  -2.77556e-17   1.0"
      ]
     },
     "execution_count": 28,
     "metadata": {},
     "output_type": "execute_result"
    }
   ],
   "source": [
    "# można przetestować ortogonalność:\n",
    "Transpose(AF.Q)*AF.Q"
   ]
  },
  {
   "cell_type": "markdown",
   "metadata": {},
   "source": [
    "Mamy równanie:\n",
    "$$A*wsp=y$$\n",
    "Dla $A=QR$:\n",
    "$$QR*wsp =y$$\n",
    "Możemy obydwie strony wymnożyć z lewej przez $Q^T$:\n",
    "$$R*wsp =Q^T y$$\n",
    "$$\\begin{pmatrix} Rfactor \\\\ 0 \\end{pmatrix} wsp= Q^T y$$\n",
    "\n",
    "Poszukiwanym rozwiązaniem jest rozwiązanie równania będącego górną niezerową częścią:\n",
    "$$Rfactor * wsp= Q^T y[1:n]$$\n",
    "$$wsp=Rfactor \\setminus Q^T y[1:n]$$"
   ]
  },
  {
   "cell_type": "code",
   "execution_count": 29,
   "metadata": {},
   "outputs": [
    {
     "data": {
      "text/plain": [
       "3-element Vector{Float64}:\n",
       " -0.5714285714285724\n",
       "  3.94285714285715\n",
       " -2.8000000000000145"
      ]
     },
     "execution_count": 29,
     "metadata": {},
     "output_type": "execute_result"
    }
   ],
   "source": [
    "# implementacja powyższego (uwaga: w tym przykladzie nie jest potrzebna permutacja,\n",
    "# bo wektor permutacji wynosi[1 2 3])\n",
    "AF.R\\((Transpose(AF.Q)*y)[1:3])"
   ]
  },
  {
   "cell_type": "markdown",
   "metadata": {},
   "source": [
    "Więcej informacji:\n",
    "- http://www.math.uconn.edu/~leykekhman/courses/MATH3795/Lectures/Lecture_8_Linear_least_squares_orthogonal_matrices.pdf\n",
    "- http://www.seas.ucla.edu/~vandenbe/133A/lectures/qr.pdf"
   ]
  },
  {
   "cell_type": "markdown",
   "metadata": {},
   "source": [
    "W praktyce używamy tego algorytmu poprzez operator \"\\\\\", za którym jest on \"schowany\"."
   ]
  },
  {
   "cell_type": "code",
   "execution_count": 30,
   "metadata": {},
   "outputs": [
    {
     "data": {
      "text/plain": [
       "3-element Vector{Float64}:\n",
       " -0.5714285714285723\n",
       "  3.9428571428571493\n",
       " -2.8000000000000136"
      ]
     },
     "execution_count": 30,
     "metadata": {},
     "output_type": "execute_result"
    }
   ],
   "source": [
    "A \\ y"
   ]
  },
  {
   "cell_type": "code",
   "execution_count": 31,
   "metadata": {},
   "outputs": [
    {
     "data": {
      "text/html": [
       "&#45;2.8000000000000136 &#43; 3.9428571428571493&#8729;x &#45; 0.5714285714285723&#8729;x<sup>2</sup>"
      ],
      "text/latex": [
       "$-2.8000000000000136 + 3.9428571428571493\\cdot x - 0.5714285714285723\\cdot x^{2}$"
      ],
      "text/plain": [
       "Polynomial(-2.8000000000000136 + 3.9428571428571493*x - 0.5714285714285723*x^2)"
      ]
     },
     "execution_count": 31,
     "metadata": {},
     "output_type": "execute_result"
    }
   ],
   "source": [
    "#sprawdzamy czy dostaliśmy dobre wspólczynniki\n",
    "using Polynomials\n",
    "fit(x,y, 2)"
   ]
  },
  {
   "cell_type": "code",
   "execution_count": 15,
   "metadata": {},
   "outputs": [
    {
     "ename": "LoadError",
     "evalue": "\"fit\" is not defined in module Main",
     "output_type": "error",
     "traceback": [
      "\"fit\" is not defined in module Main",
      "",
      "Stacktrace:",
      " [1] error(s::String)",
      "   @ Base ./error.jl:33",
      " [2] which(m::Module, s::Symbol)",
      "   @ Base ./reflection.jl:1343",
      " [3] top-level scope",
      "   @ In[15]:1",
      " [4] eval",
      "   @ ./boot.jl:373 [inlined]",
      " [5] include_string(mapexpr::typeof(REPL.softscope), mod::Module, code::String, filename::String)",
      "   @ Base ./loading.jl:1196"
     ]
    }
   ],
   "source": [
    "@which fit"
   ]
  },
  {
   "cell_type": "markdown",
   "metadata": {},
   "source": [
    "### Zadania"
   ]
  },
  {
   "cell_type": "code",
   "execution_count": 18,
   "metadata": {},
   "outputs": [
    {
     "data": {
      "text/plain": [
       "100"
      ]
     },
     "execution_count": 18,
     "metadata": {},
     "output_type": "execute_result"
    }
   ],
   "source": [
    "ENV[\"COLUMNS\"] = 100"
   ]
  },
  {
   "cell_type": "markdown",
   "metadata": {},
   "source": [
    "### Wykorzystywane importy:"
   ]
  },
  {
   "cell_type": "code",
   "execution_count": 59,
   "metadata": {},
   "outputs": [],
   "source": [
    "using LinearAlgebra\n",
    "using Plots\n",
    "using Statistics\n",
    "using DataFrames\n",
    "using CSV\n",
    "using Printf\n",
    "using Polynomials"
   ]
  },
  {
   "cell_type": "markdown",
   "metadata": {},
   "source": [
    "#### Zadanie 1 (1pkt)\n",
    "Ustal losowe (referencyjne) x rozmiaru 1000 oraz losowe A rozmiaru 1000x1000, policz b=A*x.\n",
    "Nastepnie rozwiąż równanie Ax=b trzema metodami:\n",
    "- inv()\n",
    "- \\\n",
    "- factorize()\n",
    "\n",
    "Porównaj jakość wyniku (zmierzoną jako długość różnicy wektorów wyniku oraz referencyjnego x) oraz czas wykonania (@time). UWAGA: pierwsze wykonanie funkcji w Julii zawiera czas kompilacji tej funkcji, dlatego czas mierzymy  od drugiego wywołania !"
   ]
  },
  {
   "cell_type": "code",
   "execution_count": 20,
   "metadata": {},
   "outputs": [
    {
     "data": {
      "text/plain": [
       "1000×1000 Matrix{Float64}:\n",
       " 0.788629   0.333147   0.0481984  0.522106   …  0.220189   0.0435112   0.188875    0.730207\n",
       " 0.471046   0.578151   0.709583   0.338884      0.989991   0.889979    0.778592    0.0682957\n",
       " 0.329317   0.377308   0.339426   0.118304      0.122249   0.338603    0.764461    0.522668\n",
       " 0.976029   0.353132   0.531671   0.900156      0.307162   0.203615    0.217228    0.8068\n",
       " 0.936355   0.239926   0.23591    0.189156      0.833787   0.504067    0.710337    0.511516\n",
       " 0.15105    0.472135   0.831559   0.325856   …  0.630176   0.0462225   0.264523    0.434431\n",
       " 0.625435   0.772676   0.804979   0.95451       0.134284   0.434432    0.372751    0.335875\n",
       " 0.778099   0.319824   0.599807   0.717908      0.637869   0.674478    0.998297    0.799212\n",
       " 0.560664   0.421746   0.405401   0.132803      0.791535   0.842071    0.83084     0.515638\n",
       " 0.242885   0.180293   0.819394   0.964021      0.236202   0.868522    0.243395    0.848679\n",
       " 0.610286   0.151486   0.0112341  0.357083   …  0.37918    0.83159     0.546317    0.187985\n",
       " 0.192864   0.0517692  0.709506   0.954573      0.207066   0.579385    0.971221    0.674519\n",
       " 0.57893    0.611992   0.348765   0.118931      0.685027   0.00096627  0.111799    0.815531\n",
       " ⋮                                           ⋱                                     \n",
       " 0.0523925  0.136775   0.593117   0.878289      0.893866   0.591687    0.797246    0.834259\n",
       " 0.564359   0.32359    0.11968    0.927288      0.541749   0.154971    0.598592    0.0266699\n",
       " 0.719823   0.19956    0.76836    0.510738   …  0.927548   0.0564542   0.245667    0.562408\n",
       " 0.662755   0.562354   0.127874   0.791893      0.695768   0.941832    0.599338    0.91149\n",
       " 0.226168   0.483719   0.99814    0.152297      0.386224   0.891938    0.0946809   0.226632\n",
       " 0.472927   0.353873   0.588973   0.997851      0.0970381  0.60496     0.407652    0.852641\n",
       " 0.79524    0.614208   0.250424   0.0772896     0.139125   0.371084    0.397797    0.217299\n",
       " 0.346726   0.970913   0.675987   0.864836   …  0.863604   0.801056    0.702353    0.516396\n",
       " 0.705061   0.214484   0.770791   0.64887       0.755664   0.397417    0.0730792   0.386491\n",
       " 0.686679   0.146153   0.232514   0.428744      0.230655   0.261826    0.721623    0.385112\n",
       " 0.392322   0.2825     0.535513   0.718359      0.576583   0.701758    0.55782     0.185499\n",
       " 0.830573   0.105085   0.809663   0.0784597     0.619156   0.921288    0.00729454  0.311964"
      ]
     },
     "execution_count": 20,
     "metadata": {},
     "output_type": "execute_result"
    }
   ],
   "source": [
    "x = rand(1000)\n",
    "A = rand(1000, 1000)"
   ]
  },
  {
   "cell_type": "code",
   "execution_count": 21,
   "metadata": {},
   "outputs": [
    {
     "data": {
      "text/plain": [
       "1000-element Vector{Float64}:\n",
       " 253.80366878575873\n",
       " 249.66531832874588\n",
       " 260.1411050544734\n",
       " 260.24585862681977\n",
       " 258.2764994848483\n",
       " 254.2920162550386\n",
       " 252.11071272067483\n",
       " 255.08184186829038\n",
       " 257.16761465872173\n",
       " 263.34518742391737\n",
       " 247.14595773258688\n",
       " 258.2049084218831\n",
       " 246.9448708070962\n",
       "   ⋮\n",
       " 246.36927900533254\n",
       " 253.99575457400474\n",
       " 253.91948351445382\n",
       " 262.9591771344516\n",
       " 251.16761031082237\n",
       " 246.79617098272192\n",
       " 250.1238427035777\n",
       " 258.56090863510065\n",
       " 256.2180937152455\n",
       " 250.98074792220004\n",
       " 249.3506447203309\n",
       " 257.24709713133313"
      ]
     },
     "execution_count": 21,
     "metadata": {},
     "output_type": "execute_result"
    }
   ],
   "source": [
    "b = A * x"
   ]
  },
  {
   "cell_type": "code",
   "execution_count": 22,
   "metadata": {},
   "outputs": [
    {
     "data": {
      "text/plain": [
       "get_result_quality (generic function with 1 method)"
      ]
     },
     "execution_count": 22,
     "metadata": {},
     "output_type": "execute_result"
    }
   ],
   "source": [
    "get_result_quality(y) = reduce((o1, o2) -> o1 + abs(o2), y - x)"
   ]
  },
  {
   "cell_type": "code",
   "execution_count": 23,
   "metadata": {},
   "outputs": [
    {
     "data": {
      "text/plain": [
       "Any[]"
      ]
     },
     "execution_count": 23,
     "metadata": {},
     "output_type": "execute_result"
    }
   ],
   "source": [
    "time1 = []\n",
    "time2 = []\n",
    "time3 = []\n",
    "q_res1 = []\n",
    "q_res2 = []\n",
    "q_res3 = []"
   ]
  },
  {
   "cell_type": "code",
   "execution_count": 24,
   "metadata": {},
   "outputs": [],
   "source": [
    "for i in 1:20\n",
    "    append!(q_res1, get_result_quality(inv(A) * b))      # compilation\n",
    "    append!(q_res2, get_result_quality(A \\ b))           # compilation\n",
    "    append!(q_res3, get_result_quality(factorize(A) \\ b)) # compilation\n",
    "    \n",
    "    append!(time1, @elapsed (inv(A) * b))\n",
    "    append!(time2, @elapsed (A \\ b))\n",
    "    append!(time3, @elapsed (factorize(A) \\ b))\n",
    "end"
   ]
  },
  {
   "cell_type": "code",
   "execution_count": 34,
   "metadata": {},
   "outputs": [
    {
     "data": {
      "text/html": [
       "<div class=\"data-frame\"><p>20 rows × 6 columns</p><table class=\"data-frame\"><thead><tr><th></th><th>inverse_quality</th><th>division_quality</th><th>factorize_quality</th><th>inverse_time</th><th>division_time</th><th>factorize_time</th></tr><tr><th></th><th title=\"Any\">Any</th><th title=\"Any\">Any</th><th title=\"Any\">Any</th><th title=\"Any\">Any</th><th title=\"Any\">Any</th><th title=\"Any\">Any</th></tr></thead><tbody><tr><th>1</th><td>2.48034e-9</td><td>8.30932e-10</td><td>8.30932e-10</td><td>0.0206453</td><td>0.00912555</td><td>0.0152049</td></tr><tr><th>2</th><td>2.48034e-9</td><td>8.30932e-10</td><td>8.30932e-10</td><td>0.019177</td><td>0.00773096</td><td>0.00847069</td></tr><tr><th>3</th><td>2.48034e-9</td><td>8.30932e-10</td><td>8.30932e-10</td><td>0.0187287</td><td>0.00757284</td><td>0.00772526</td></tr><tr><th>4</th><td>2.48034e-9</td><td>8.30932e-10</td><td>8.30932e-10</td><td>0.0225496</td><td>0.0103542</td><td>0.00746578</td></tr><tr><th>5</th><td>2.48034e-9</td><td>8.30932e-10</td><td>8.30932e-10</td><td>0.0191145</td><td>0.00746502</td><td>0.00732516</td></tr><tr><th>6</th><td>2.48034e-9</td><td>8.30932e-10</td><td>8.30932e-10</td><td>0.0186567</td><td>0.00740182</td><td>0.00726198</td></tr><tr><th>7</th><td>2.48034e-9</td><td>8.30932e-10</td><td>8.30932e-10</td><td>0.0185821</td><td>0.00790205</td><td>0.00727025</td></tr><tr><th>8</th><td>2.48034e-9</td><td>8.30932e-10</td><td>8.30932e-10</td><td>0.0192917</td><td>0.00989596</td><td>0.00755497</td></tr><tr><th>9</th><td>2.48034e-9</td><td>8.30932e-10</td><td>8.30932e-10</td><td>0.0185034</td><td>0.00738115</td><td>0.00747597</td></tr><tr><th>10</th><td>2.48034e-9</td><td>8.30932e-10</td><td>8.30932e-10</td><td>0.0186314</td><td>0.00737686</td><td>0.00728916</td></tr><tr><th>11</th><td>2.48034e-9</td><td>8.30932e-10</td><td>8.30932e-10</td><td>0.0184035</td><td>0.0075145</td><td>0.00753317</td></tr><tr><th>12</th><td>2.48034e-9</td><td>8.30932e-10</td><td>8.30932e-10</td><td>0.0185338</td><td>0.00908589</td><td>0.0073688</td></tr><tr><th>13</th><td>2.48034e-9</td><td>8.30932e-10</td><td>8.30932e-10</td><td>0.0313523</td><td>0.0110558</td><td>0.00946042</td></tr><tr><th>14</th><td>2.48034e-9</td><td>8.30932e-10</td><td>8.30932e-10</td><td>0.0309145</td><td>0.0100722</td><td>0.0140524</td></tr><tr><th>15</th><td>2.48034e-9</td><td>8.30932e-10</td><td>8.30932e-10</td><td>0.0323637</td><td>0.0140494</td><td>0.014148</td></tr><tr><th>16</th><td>2.48034e-9</td><td>8.30932e-10</td><td>8.30932e-10</td><td>0.020539</td><td>0.016794</td><td>0.00735097</td></tr><tr><th>17</th><td>2.48034e-9</td><td>8.30932e-10</td><td>8.30932e-10</td><td>0.0182941</td><td>0.0074443</td><td>0.00764745</td></tr><tr><th>18</th><td>2.48034e-9</td><td>8.30932e-10</td><td>8.30932e-10</td><td>0.0189934</td><td>0.00735947</td><td>0.00726367</td></tr><tr><th>19</th><td>2.48034e-9</td><td>8.30932e-10</td><td>8.30932e-10</td><td>0.0182558</td><td>0.00763538</td><td>0.00734525</td></tr><tr><th>20</th><td>2.48034e-9</td><td>8.30932e-10</td><td>8.30932e-10</td><td>0.0254522</td><td>0.0108687</td><td>0.00753377</td></tr></tbody></table></div>"
      ],
      "text/latex": [
       "\\begin{tabular}{r|cccccc}\n",
       "\t& inverse\\_quality & division\\_quality & factorize\\_quality & inverse\\_time & division\\_time & factorize\\_time\\\\\n",
       "\t\\hline\n",
       "\t& Any & Any & Any & Any & Any & Any\\\\\n",
       "\t\\hline\n",
       "\t1 & 2.48034e-9 & 8.30932e-10 & 8.30932e-10 & 0.0206453 & 0.00912555 & 0.0152049 \\\\\n",
       "\t2 & 2.48034e-9 & 8.30932e-10 & 8.30932e-10 & 0.019177 & 0.00773096 & 0.00847069 \\\\\n",
       "\t3 & 2.48034e-9 & 8.30932e-10 & 8.30932e-10 & 0.0187287 & 0.00757284 & 0.00772526 \\\\\n",
       "\t4 & 2.48034e-9 & 8.30932e-10 & 8.30932e-10 & 0.0225496 & 0.0103542 & 0.00746578 \\\\\n",
       "\t5 & 2.48034e-9 & 8.30932e-10 & 8.30932e-10 & 0.0191145 & 0.00746502 & 0.00732516 \\\\\n",
       "\t6 & 2.48034e-9 & 8.30932e-10 & 8.30932e-10 & 0.0186567 & 0.00740182 & 0.00726198 \\\\\n",
       "\t7 & 2.48034e-9 & 8.30932e-10 & 8.30932e-10 & 0.0185821 & 0.00790205 & 0.00727025 \\\\\n",
       "\t8 & 2.48034e-9 & 8.30932e-10 & 8.30932e-10 & 0.0192917 & 0.00989596 & 0.00755497 \\\\\n",
       "\t9 & 2.48034e-9 & 8.30932e-10 & 8.30932e-10 & 0.0185034 & 0.00738115 & 0.00747597 \\\\\n",
       "\t10 & 2.48034e-9 & 8.30932e-10 & 8.30932e-10 & 0.0186314 & 0.00737686 & 0.00728916 \\\\\n",
       "\t11 & 2.48034e-9 & 8.30932e-10 & 8.30932e-10 & 0.0184035 & 0.0075145 & 0.00753317 \\\\\n",
       "\t12 & 2.48034e-9 & 8.30932e-10 & 8.30932e-10 & 0.0185338 & 0.00908589 & 0.0073688 \\\\\n",
       "\t13 & 2.48034e-9 & 8.30932e-10 & 8.30932e-10 & 0.0313523 & 0.0110558 & 0.00946042 \\\\\n",
       "\t14 & 2.48034e-9 & 8.30932e-10 & 8.30932e-10 & 0.0309145 & 0.0100722 & 0.0140524 \\\\\n",
       "\t15 & 2.48034e-9 & 8.30932e-10 & 8.30932e-10 & 0.0323637 & 0.0140494 & 0.014148 \\\\\n",
       "\t16 & 2.48034e-9 & 8.30932e-10 & 8.30932e-10 & 0.020539 & 0.016794 & 0.00735097 \\\\\n",
       "\t17 & 2.48034e-9 & 8.30932e-10 & 8.30932e-10 & 0.0182941 & 0.0074443 & 0.00764745 \\\\\n",
       "\t18 & 2.48034e-9 & 8.30932e-10 & 8.30932e-10 & 0.0189934 & 0.00735947 & 0.00726367 \\\\\n",
       "\t19 & 2.48034e-9 & 8.30932e-10 & 8.30932e-10 & 0.0182558 & 0.00763538 & 0.00734525 \\\\\n",
       "\t20 & 2.48034e-9 & 8.30932e-10 & 8.30932e-10 & 0.0254522 & 0.0108687 & 0.00753377 \\\\\n",
       "\\end{tabular}\n"
      ],
      "text/plain": [
       "\u001b[1m20×6 DataFrame\u001b[0m\n",
       "\u001b[1m Row \u001b[0m│\u001b[1m inverse_quality \u001b[0m\u001b[1m division_quality \u001b[0m\u001b[1m factorize_quality \u001b[0m\u001b[1m inverse_time \u001b[0m\u001b[1m division_time \u001b[0m\u001b[1m factoriz\u001b[0m ⋯\n",
       "\u001b[1m     \u001b[0m│\u001b[90m Any             \u001b[0m\u001b[90m Any              \u001b[0m\u001b[90m Any               \u001b[0m\u001b[90m Any          \u001b[0m\u001b[90m Any           \u001b[0m\u001b[90m Any     \u001b[0m ⋯\n",
       "─────┼──────────────────────────────────────────────────────────────────────────────────────────────\n",
       "   1 │ 2.48034e-9       8.30932e-10       8.30932e-10        0.0206453     0.00912555     0.015204 ⋯\n",
       "   2 │ 2.48034e-9       8.30932e-10       8.30932e-10        0.019177      0.00773096     0.008470\n",
       "   3 │ 2.48034e-9       8.30932e-10       8.30932e-10        0.0187287     0.00757284     0.007725\n",
       "   4 │ 2.48034e-9       8.30932e-10       8.30932e-10        0.0225496     0.0103542      0.007465\n",
       "   5 │ 2.48034e-9       8.30932e-10       8.30932e-10        0.0191145     0.00746502     0.007325 ⋯\n",
       "   6 │ 2.48034e-9       8.30932e-10       8.30932e-10        0.0186567     0.00740182     0.007261\n",
       "   7 │ 2.48034e-9       8.30932e-10       8.30932e-10        0.0185821     0.00790205     0.007270\n",
       "   8 │ 2.48034e-9       8.30932e-10       8.30932e-10        0.0192917     0.00989596     0.007554\n",
       "   9 │ 2.48034e-9       8.30932e-10       8.30932e-10        0.0185034     0.00738115     0.007475 ⋯\n",
       "  10 │ 2.48034e-9       8.30932e-10       8.30932e-10        0.0186314     0.00737686     0.007289\n",
       "  11 │ 2.48034e-9       8.30932e-10       8.30932e-10        0.0184035     0.0075145      0.007533\n",
       "  12 │ 2.48034e-9       8.30932e-10       8.30932e-10        0.0185338     0.00908589     0.007368\n",
       "  13 │ 2.48034e-9       8.30932e-10       8.30932e-10        0.0313523     0.0110558      0.009460 ⋯\n",
       "  14 │ 2.48034e-9       8.30932e-10       8.30932e-10        0.0309145     0.0100722      0.014052\n",
       "  15 │ 2.48034e-9       8.30932e-10       8.30932e-10        0.0323637     0.0140494      0.014148\n",
       "  16 │ 2.48034e-9       8.30932e-10       8.30932e-10        0.020539      0.016794       0.007350\n",
       "  17 │ 2.48034e-9       8.30932e-10       8.30932e-10        0.0182941     0.0074443      0.007647 ⋯\n",
       "  18 │ 2.48034e-9       8.30932e-10       8.30932e-10        0.0189934     0.00735947     0.007263\n",
       "  19 │ 2.48034e-9       8.30932e-10       8.30932e-10        0.0182558     0.00763538     0.007345\n",
       "  20 │ 2.48034e-9       8.30932e-10       8.30932e-10        0.0254522     0.0108687      0.007533\n",
       "\u001b[36m                                                                                    1 column omitted\u001b[0m"
      ]
     },
     "execution_count": 34,
     "metadata": {},
     "output_type": "execute_result"
    }
   ],
   "source": [
    "df = DataFrame(\n",
    "    inverse_quality = q_res1,\n",
    "    division_quality = q_res2,\n",
    "    factorize_quality = q_res3,\n",
    "    inverse_time = time1,\n",
    "    division_time = time2,\n",
    "    factorize_time = time3,\n",
    ")"
   ]
  },
  {
   "cell_type": "code",
   "execution_count": 38,
   "metadata": {},
   "outputs": [
    {
     "data": {
      "text/html": [
       "<div class=\"data-frame\"><p>1 rows × 3 columns</p><table class=\"data-frame\"><thead><tr><th></th><th>inverse_mean_time</th><th>division_time</th><th>factorize_mean_time</th></tr><tr><th></th><th title=\"Float64\">Float64</th><th title=\"Float64\">Float64</th><th title=\"Float64\">Float64</th></tr></thead><tbody><tr><th>1</th><td>0.0213491</td><td>0.0092043</td><td>0.0086374</td></tr></tbody></table></div>"
      ],
      "text/latex": [
       "\\begin{tabular}{r|ccc}\n",
       "\t& inverse\\_mean\\_time & division\\_time & factorize\\_mean\\_time\\\\\n",
       "\t\\hline\n",
       "\t& Float64 & Float64 & Float64\\\\\n",
       "\t\\hline\n",
       "\t1 & 0.0213491 & 0.0092043 & 0.0086374 \\\\\n",
       "\\end{tabular}\n"
      ],
      "text/plain": [
       "\u001b[1m1×3 DataFrame\u001b[0m\n",
       "\u001b[1m Row \u001b[0m│\u001b[1m inverse_mean_time \u001b[0m\u001b[1m division_time \u001b[0m\u001b[1m factorize_mean_time \u001b[0m\n",
       "\u001b[1m     \u001b[0m│\u001b[90m Float64           \u001b[0m\u001b[90m Float64       \u001b[0m\u001b[90m Float64             \u001b[0m\n",
       "─────┼───────────────────────────────────────────────────────\n",
       "   1 │         0.0213491      0.0092043            0.0086374"
      ]
     },
     "execution_count": 38,
     "metadata": {},
     "output_type": "execute_result"
    }
   ],
   "source": [
    "result_df = combine(\n",
    "    df,\n",
    "    :inverse_time => mean => :inverse_mean_time,\n",
    "    :division_time => mean => :division_time,\n",
    "    :factorize_time => mean => :factorize_mean_time\n",
    ")"
   ]
  },
  {
   "cell_type": "markdown",
   "metadata": {},
   "source": [
    "#### Zadanie 2 (1pkt)\n",
    "Policz współczynniki wielomianu aproksymującego dowolne dane z poprzednich laboratoriów tworząc wprost układ równań i rozwiązujac go (metoda z użyciem faktoryzacji QR zaprezentowana na tym laboratorium).\n",
    "Porównaj wyniki z tymi otrzymanymi poprzednio."
   ]
  },
  {
   "cell_type": "code",
   "execution_count": 40,
   "metadata": {},
   "outputs": [
    {
     "data": {
      "text/html": [
       "<div class=\"data-frame\"><p>9 rows × 7 columns</p><table class=\"data-frame\"><thead><tr><th></th><th>rep</th><th>gsl_mean</th><th>gsl_std</th><th>better_mean</th><th>better_std</th><th>naive_mean</th><th>naive_std</th></tr><tr><th></th><th title=\"Int64\">Int64</th><th title=\"Float64\">Float64</th><th title=\"Float64\">Float64</th><th title=\"Float64\">Float64</th><th title=\"Float64\">Float64</th><th title=\"Float64\">Float64</th><th title=\"Float64\">Float64</th></tr></thead><tbody><tr><th>1</th><td>100</td><td>0.0007115</td><td>2.47801e-5</td><td>0.0044901</td><td>0.00017191</td><td>0.003538</td><td>0.00015482</td></tr><tr><th>2</th><td>150</td><td>0.0020371</td><td>3.421e-5</td><td>0.0133261</td><td>0.000107486</td><td>0.0105641</td><td>0.000140158</td></tr><tr><th>3</th><td>200</td><td>0.0049279</td><td>8.89562e-5</td><td>0.0314471</td><td>0.000313478</td><td>0.0287062</td><td>0.000203274</td></tr><tr><th>4</th><td>250</td><td>0.0095744</td><td>0.000151814</td><td>0.0611521</td><td>0.000448047</td><td>0.0553567</td><td>0.000567858</td></tr><tr><th>5</th><td>300</td><td>0.0163468</td><td>0.000281024</td><td>0.104382</td><td>0.000786254</td><td>0.101328</td><td>0.00123124</td></tr><tr><th>6</th><td>350</td><td>0.0258364</td><td>0.000194061</td><td>0.166991</td><td>0.000646983</td><td>0.165872</td><td>0.00307208</td></tr><tr><th>7</th><td>400</td><td>0.0386743</td><td>0.000259816</td><td>0.250914</td><td>0.00331126</td><td>0.249307</td><td>0.00224613</td></tr><tr><th>8</th><td>450</td><td>0.0552321</td><td>0.000310424</td><td>0.354636</td><td>0.00213787</td><td>0.34589</td><td>0.00347847</td></tr><tr><th>9</th><td>500</td><td>0.0762577</td><td>0.000810262</td><td>0.487278</td><td>0.00365006</td><td>0.511725</td><td>0.00427824</td></tr></tbody></table></div>"
      ],
      "text/latex": [
       "\\begin{tabular}{r|ccccccc}\n",
       "\t& rep & gsl\\_mean & gsl\\_std & better\\_mean & better\\_std & naive\\_mean & naive\\_std\\\\\n",
       "\t\\hline\n",
       "\t& Int64 & Float64 & Float64 & Float64 & Float64 & Float64 & Float64\\\\\n",
       "\t\\hline\n",
       "\t1 & 100 & 0.0007115 & 2.47801e-5 & 0.0044901 & 0.00017191 & 0.003538 & 0.00015482 \\\\\n",
       "\t2 & 150 & 0.0020371 & 3.421e-5 & 0.0133261 & 0.000107486 & 0.0105641 & 0.000140158 \\\\\n",
       "\t3 & 200 & 0.0049279 & 8.89562e-5 & 0.0314471 & 0.000313478 & 0.0287062 & 0.000203274 \\\\\n",
       "\t4 & 250 & 0.0095744 & 0.000151814 & 0.0611521 & 0.000448047 & 0.0553567 & 0.000567858 \\\\\n",
       "\t5 & 300 & 0.0163468 & 0.000281024 & 0.104382 & 0.000786254 & 0.101328 & 0.00123124 \\\\\n",
       "\t6 & 350 & 0.0258364 & 0.000194061 & 0.166991 & 0.000646983 & 0.165872 & 0.00307208 \\\\\n",
       "\t7 & 400 & 0.0386743 & 0.000259816 & 0.250914 & 0.00331126 & 0.249307 & 0.00224613 \\\\\n",
       "\t8 & 450 & 0.0552321 & 0.000310424 & 0.354636 & 0.00213787 & 0.34589 & 0.00347847 \\\\\n",
       "\t9 & 500 & 0.0762577 & 0.000810262 & 0.487278 & 0.00365006 & 0.511725 & 0.00427824 \\\\\n",
       "\\end{tabular}\n"
      ],
      "text/plain": [
       "\u001b[1m9×7 DataFrame\u001b[0m\n",
       "\u001b[1m Row \u001b[0m│\u001b[1m rep   \u001b[0m\u001b[1m gsl_mean  \u001b[0m\u001b[1m gsl_std     \u001b[0m\u001b[1m better_mean \u001b[0m\u001b[1m better_std  \u001b[0m\u001b[1m naive_mean \u001b[0m\u001b[1m naive_std   \u001b[0m\n",
       "\u001b[1m     \u001b[0m│\u001b[90m Int64 \u001b[0m\u001b[90m Float64   \u001b[0m\u001b[90m Float64     \u001b[0m\u001b[90m Float64     \u001b[0m\u001b[90m Float64     \u001b[0m\u001b[90m Float64    \u001b[0m\u001b[90m Float64     \u001b[0m\n",
       "─────┼──────────────────────────────────────────────────────────────────────────────────\n",
       "   1 │   100  0.0007115  2.47801e-5     0.0044901  0.00017191    0.003538   0.00015482\n",
       "   2 │   150  0.0020371  3.421e-5       0.0133261  0.000107486   0.0105641  0.000140158\n",
       "   3 │   200  0.0049279  8.89562e-5     0.0314471  0.000313478   0.0287062  0.000203274\n",
       "   4 │   250  0.0095744  0.000151814    0.0611521  0.000448047   0.0553567  0.000567858\n",
       "   5 │   300  0.0163468  0.000281024    0.104382   0.000786254   0.101328   0.00123124\n",
       "   6 │   350  0.0258364  0.000194061    0.166991   0.000646983   0.165872   0.00307208\n",
       "   7 │   400  0.0386743  0.000259816    0.250914   0.00331126    0.249307   0.00224613\n",
       "   8 │   450  0.0552321  0.000310424    0.354636   0.00213787    0.34589    0.00347847\n",
       "   9 │   500  0.0762577  0.000810262    0.487278   0.00365006    0.511725   0.00427824"
      ]
     },
     "execution_count": 40,
     "metadata": {},
     "output_type": "execute_result"
    }
   ],
   "source": [
    "filename = \"results.csv\"\n",
    "\n",
    "df = CSV.read(filename, delim=\";\", DataFrame)\n",
    "rf = combine(\n",
    "    groupby(df, :rep),\n",
    "    \"gsl\" => mean,\n",
    "    \"gsl\" => std,\n",
    "    \"better\" => mean,\n",
    "    \"better\" => std,\n",
    "    \"naive\" => mean,\n",
    "    \"naive\" => std\n",
    ")"
   ]
  },
  {
   "cell_type": "markdown",
   "metadata": {},
   "source": [
    "**Rozwiązanie układu:**"
   ]
  },
  {
   "cell_type": "code",
   "execution_count": 41,
   "metadata": {},
   "outputs": [
    {
     "data": {
      "text/plain": [
       "9×4 Matrix{Float64}:\n",
       " 0.0  0.0  0.0  0.0\n",
       " 0.0  0.0  0.0  0.0\n",
       " 0.0  0.0  0.0  0.0\n",
       " 0.0  0.0  0.0  0.0\n",
       " 0.0  0.0  0.0  0.0\n",
       " 0.0  0.0  0.0  0.0\n",
       " 0.0  0.0  0.0  0.0\n",
       " 0.0  0.0  0.0  0.0\n",
       " 0.0  0.0  0.0  0.0"
      ]
     },
     "execution_count": 41,
     "metadata": {},
     "output_type": "execute_result"
    }
   ],
   "source": [
    "A = zeros(9, 4)"
   ]
  },
  {
   "cell_type": "markdown",
   "metadata": {},
   "source": [
    "**Punkty $(x, y)$:**"
   ]
  },
  {
   "cell_type": "code",
   "execution_count": 44,
   "metadata": {},
   "outputs": [
    {
     "data": {
      "text/plain": [
       "9-element Vector{Int64}:\n",
       " 100\n",
       " 150\n",
       " 200\n",
       " 250\n",
       " 300\n",
       " 350\n",
       " 400\n",
       " 450\n",
       " 500"
      ]
     },
     "execution_count": 44,
     "metadata": {},
     "output_type": "execute_result"
    }
   ],
   "source": [
    "y_gsl = rf[:, 2]\n",
    "y_better = rf[:, 4]\n",
    "y_naive = rf[:, 6]\n",
    "x = rf[:, 1]"
   ]
  },
  {
   "cell_type": "code",
   "execution_count": 47,
   "metadata": {},
   "outputs": [
    {
     "data": {
      "text/plain": [
       "9×4 Matrix{Float64}:\n",
       " 1.0e6      10000.0  100.0  1.0\n",
       " 3.375e6    22500.0  150.0  1.0\n",
       " 8.0e6      40000.0  200.0  1.0\n",
       " 1.5625e7   62500.0  250.0  1.0\n",
       " 2.7e7      90000.0  300.0  1.0\n",
       " 4.2875e7  122500.0  350.0  1.0\n",
       " 6.4e7     160000.0  400.0  1.0\n",
       " 9.1125e7  202500.0  450.0  1.0\n",
       " 1.25e8    250000.0  500.0  1.0"
      ]
     },
     "execution_count": 47,
     "metadata": {},
     "output_type": "execute_result"
    }
   ],
   "source": [
    "A[:, 1] = x.^3\n",
    "A[:, 2] = x.^2\n",
    "A[:, 3] = x\n",
    "A[:, 4] = ones(9)\n",
    "A"
   ]
  },
  {
   "cell_type": "code",
   "execution_count": 48,
   "metadata": {},
   "outputs": [
    {
     "data": {
      "text/plain": [
       "QRPivoted{Float64, Matrix{Float64}}\n",
       "Q factor:\n",
       "9×9 LinearAlgebra.QRPackedQ{Float64, Matrix{Float64}}:\n",
       " -0.00568765  -0.118781   -0.561563   0.727387   …   0.0674281  -0.0577123  -0.185632  -0.276661\n",
       " -0.0191958   -0.228854   -0.522342  -0.0519562     -0.249654   -0.0981256   0.19839    0.6852\n",
       " -0.0455012   -0.338579   -0.355826  -0.358127       0.426542    0.510199    0.334855  -0.200074\n",
       " -0.0888695   -0.422353   -0.126549  -0.334004      -0.314288   -0.224694   -0.263395  -0.527304\n",
       " -0.153566    -0.454574    0.10096   -0.122468      -0.27675    -0.243579   -0.113343   0.142465\n",
       " -0.243858    -0.409639    0.262169   0.133602   …   0.680947   -0.316439   -0.158047   0.215683\n",
       " -0.364009    -0.261947    0.292546   0.291326      -0.28285     0.681327   -0.203173   0.129619\n",
       " -0.518287     0.0141055   0.12756    0.207825      -0.149802   -0.228168    0.73803   -0.222297\n",
       " -0.710956     0.44412    -0.297319  -0.259781       0.0984266  -0.0228082  -0.347685   0.0533681\n",
       "R factor:\n",
       "4×4 Matrix{Float64}:\n",
       " -1.7582e8      -3.9249e5  -900.496   -2.14993\n",
       "  0.0       -65394.7       -375.627   -1.7765\n",
       "  0.0            0.0        -89.5017  -1.08036\n",
       "  0.0            0.0          0.0      0.233803\n",
       "permutation:\n",
       "4-element Vector{Int64}:\n",
       " 1\n",
       " 2\n",
       " 3\n",
       " 4"
      ]
     },
     "execution_count": 48,
     "metadata": {},
     "output_type": "execute_result"
    }
   ],
   "source": [
    "AF = factorize(A)"
   ]
  },
  {
   "cell_type": "markdown",
   "metadata": {},
   "source": [
    "Poszukiwanym rozwiązaniem jest: $$wsp=Rfactor \\setminus Q^T y[1:n]$$"
   ]
  },
  {
   "cell_type": "code",
   "execution_count": 63,
   "metadata": {},
   "outputs": [
    {
     "name": "stdout",
     "output_type": "stream",
     "text": [
      "GSL:\n",
      "[6.748861952861983e-10, -5.402753246753515e-8, 1.212963732563806e-5, -0.0007102634920635519]\\n\n",
      "\n",
      "Better:\n",
      "[3.799618181818194e-9, 9.561545454544187e-8, -2.8736818181814397e-5, 0.002684399999999681]\n",
      "\n",
      "Naive:\n",
      "[6.093503703703711e-9, -1.6265797835497928e-6, 0.00034775794420394737, -0.023165250793651088]"
     ]
    }
   ],
   "source": [
    "@printf(\"GSL:\\n%s\\\\n\", AF.R \\ (Transpose(AF.Q) * y_gsl)[1:4])\n",
    "@printf(\"\\n\\nBetter:\\n%s\\n\", AF.R \\ (Transpose(AF.Q) * y_better)[1:4])\n",
    "@printf(\"\\nNaive:\\n%s\", AF.R \\ (Transpose(AF.Q) * y_naive)[1:4])"
   ]
  },
  {
   "cell_type": "code",
   "execution_count": 64,
   "metadata": {},
   "outputs": [
    {
     "name": "stdout",
     "output_type": "stream",
     "text": [
      "GSL using fit:\n",
      "-0.000710263 + 1.21296e-5*x - 5.40275e-8*x^2 + 6.74886e-10*x^3\n",
      "\n",
      "\n",
      "Better using fit:\n",
      "0.0026844 - 2.87368e-5*x + 9.56155e-8*x^2 + 3.79962e-9*x^3\n",
      "\n",
      "\n",
      "Naive using fit:\n",
      "-0.0231653 + 0.000347758*x - 1.62658e-6*x^2 + 6.0935e-9*x^3\n"
     ]
    }
   ],
   "source": [
    "@printf(\"GSL using fit:\\n%s\\n\", fit(x, y_gsl, 3))\n",
    "@printf(\"\\n\\nBetter using fit:\\n%s\\n\", fit(x, y_better, 3))\n",
    "@printf(\"\\n\\nNaive using fit:\\n%s\\n\", fit(x, y_naive, 3))"
   ]
  },
  {
   "cell_type": "markdown",
   "metadata": {},
   "source": [
    "#### Zadanie 3 (2 pkt)\n",
    "\n",
    "Znajdź i zaprezentuj działanie innego zastosowania wybranej faktoryzacji. Przykładowe (ale nie jedyne!) tematy:\n",
    "\n",
    "-    tworzenie pseudoinversji macierzy (http://buzzard.ups.edu/courses/2014spring/420projects/math420-UPS-spring-2014-macausland-pseudo-inverse-present.pdf).\n",
    "\n",
    "-   uzycie faktoryzacji QR do znajdowania wartości własnych (https://en.wikipedia.org/wiki/QR_algorithm)\n",
    "\n",
    "-  zastosowanie faktoryzacji SVD - np. zastosowania w uczeniu maszynowym"
   ]
  },
  {
   "cell_type": "markdown",
   "metadata": {},
   "source": [
    "Ad. Rozwiązanie do zadania 3 jest przedstawione w oddzielnym pliku."
   ]
  }
 ],
 "metadata": {
  "kernelspec": {
   "display_name": "Julia 1.7.2",
   "language": "julia",
   "name": "julia-1.7"
  },
  "language_info": {
   "file_extension": ".jl",
   "mimetype": "application/julia",
   "name": "julia",
   "version": "1.7.2"
  }
 },
 "nbformat": 4,
 "nbformat_minor": 2
}
