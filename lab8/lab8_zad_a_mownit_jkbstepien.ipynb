{
 "cells": [
  {
   "cell_type": "markdown",
   "metadata": {},
   "source": [
    "# MOwNiT \n",
    "## Laboratorium\n",
    "### Znajdowanie pierwiastków"
   ]
  },
  {
   "cell_type": "markdown",
   "metadata": {},
   "source": [
    "Do poszukiwania pierwiastków funkcji w Julii używamy pakietu Roots"
   ]
  },
  {
   "cell_type": "markdown",
   "metadata": {},
   "source": [
    "```julia\n",
    "Pkg.add(\"Roots\")\n",
    "Pkg.add(\"ForwardDiff\")\n",
    "```"
   ]
  },
  {
   "cell_type": "code",
   "execution_count": 1,
   "metadata": {},
   "outputs": [],
   "source": [
    "using Pkg\n",
    "#Pkg.add(\"Roots\")\n",
    "#Pkg.add(\"ForwardDiff\")\n",
    "using Roots  \n",
    "using Plots\n",
    "using ForwardDiff"
   ]
  },
  {
   "cell_type": "code",
   "execution_count": 2,
   "metadata": {},
   "outputs": [
    {
     "data": {
      "image/svg+xml": [
       "<?xml version=\"1.0\" encoding=\"utf-8\"?>\n",
       "<svg xmlns=\"http://www.w3.org/2000/svg\" xmlns:xlink=\"http://www.w3.org/1999/xlink\" width=\"600\" height=\"400\" viewBox=\"0 0 2400 1600\">\n",
       "<defs>\n",
       "  <clipPath id=\"clip390\">\n",
       "    <rect x=\"0\" y=\"0\" width=\"2400\" height=\"1600\"/>\n",
       "  </clipPath>\n",
       "</defs>\n",
       "<path clip-path=\"url(#clip390)\" d=\"\n",
       "M0 1600 L2400 1600 L2400 0 L0 0  Z\n",
       "  \" fill=\"#ffffff\" fill-rule=\"evenodd\" fill-opacity=\"1\"/>\n",
       "<defs>\n",
       "  <clipPath id=\"clip391\">\n",
       "    <rect x=\"480\" y=\"0\" width=\"1681\" height=\"1600\"/>\n",
       "  </clipPath>\n",
       "</defs>\n",
       "<path clip-path=\"url(#clip390)\" d=\"\n",
       "M147.478 1486.45 L2352.76 1486.45 L2352.76 47.2441 L147.478 47.2441  Z\n",
       "  \" fill=\"#ffffff\" fill-rule=\"evenodd\" fill-opacity=\"1\"/>\n",
       "<defs>\n",
       "  <clipPath id=\"clip392\">\n",
       "    <rect x=\"147\" y=\"47\" width=\"2206\" height=\"1440\"/>\n",
       "  </clipPath>\n",
       "</defs>\n",
       "<polyline clip-path=\"url(#clip392)\" style=\"stroke:#000000; stroke-linecap:butt; stroke-linejoin:round; stroke-width:2; stroke-opacity:0.1; fill:none\" points=\"\n",
       "  209.891,1486.45 209.891,47.2441 \n",
       "  \"/>\n",
       "<polyline clip-path=\"url(#clip392)\" style=\"stroke:#000000; stroke-linecap:butt; stroke-linejoin:round; stroke-width:2; stroke-opacity:0.1; fill:none\" points=\"\n",
       "  730.004,1486.45 730.004,47.2441 \n",
       "  \"/>\n",
       "<polyline clip-path=\"url(#clip392)\" style=\"stroke:#000000; stroke-linecap:butt; stroke-linejoin:round; stroke-width:2; stroke-opacity:0.1; fill:none\" points=\"\n",
       "  1250.12,1486.45 1250.12,47.2441 \n",
       "  \"/>\n",
       "<polyline clip-path=\"url(#clip392)\" style=\"stroke:#000000; stroke-linecap:butt; stroke-linejoin:round; stroke-width:2; stroke-opacity:0.1; fill:none\" points=\"\n",
       "  1770.23,1486.45 1770.23,47.2441 \n",
       "  \"/>\n",
       "<polyline clip-path=\"url(#clip392)\" style=\"stroke:#000000; stroke-linecap:butt; stroke-linejoin:round; stroke-width:2; stroke-opacity:0.1; fill:none\" points=\"\n",
       "  2290.34,1486.45 2290.34,47.2441 \n",
       "  \"/>\n",
       "<polyline clip-path=\"url(#clip390)\" style=\"stroke:#000000; stroke-linecap:butt; stroke-linejoin:round; stroke-width:4; stroke-opacity:1; fill:none\" points=\"\n",
       "  147.478,1486.45 2352.76,1486.45 \n",
       "  \"/>\n",
       "<polyline clip-path=\"url(#clip390)\" style=\"stroke:#000000; stroke-linecap:butt; stroke-linejoin:round; stroke-width:4; stroke-opacity:1; fill:none\" points=\"\n",
       "  209.891,1486.45 209.891,1467.55 \n",
       "  \"/>\n",
       "<polyline clip-path=\"url(#clip390)\" style=\"stroke:#000000; stroke-linecap:butt; stroke-linejoin:round; stroke-width:4; stroke-opacity:1; fill:none\" points=\"\n",
       "  730.004,1486.45 730.004,1467.55 \n",
       "  \"/>\n",
       "<polyline clip-path=\"url(#clip390)\" style=\"stroke:#000000; stroke-linecap:butt; stroke-linejoin:round; stroke-width:4; stroke-opacity:1; fill:none\" points=\"\n",
       "  1250.12,1486.45 1250.12,1467.55 \n",
       "  \"/>\n",
       "<polyline clip-path=\"url(#clip390)\" style=\"stroke:#000000; stroke-linecap:butt; stroke-linejoin:round; stroke-width:4; stroke-opacity:1; fill:none\" points=\"\n",
       "  1770.23,1486.45 1770.23,1467.55 \n",
       "  \"/>\n",
       "<polyline clip-path=\"url(#clip390)\" style=\"stroke:#000000; stroke-linecap:butt; stroke-linejoin:round; stroke-width:4; stroke-opacity:1; fill:none\" points=\"\n",
       "  2290.34,1486.45 2290.34,1467.55 \n",
       "  \"/>\n",
       "<path clip-path=\"url(#clip390)\" d=\"M179.834 1532.02 L209.509 1532.02 L209.509 1535.95 L179.834 1535.95 L179.834 1532.02 Z\" fill=\"#000000\" fill-rule=\"evenodd\" fill-opacity=\"1\" /><path clip-path=\"url(#clip390)\" d=\"M223.63 1544.91 L239.949 1544.91 L239.949 1548.85 L218.005 1548.85 L218.005 1544.91 Q220.667 1542.16 225.25 1537.53 Q229.857 1532.88 231.037 1531.53 Q233.283 1529.01 234.162 1527.27 Q235.065 1525.51 235.065 1523.82 Q235.065 1521.07 233.12 1519.33 Q231.199 1517.6 228.097 1517.6 Q225.898 1517.6 223.445 1518.36 Q221.014 1519.13 218.236 1520.68 L218.236 1515.95 Q221.06 1514.82 223.514 1514.24 Q225.968 1513.66 228.005 1513.66 Q233.375 1513.66 236.57 1516.35 Q239.764 1519.03 239.764 1523.52 Q239.764 1525.65 238.954 1527.57 Q238.167 1529.47 236.06 1532.07 Q235.482 1532.74 232.38 1535.95 Q229.278 1539.15 223.63 1544.91 Z\" fill=\"#000000\" fill-rule=\"evenodd\" fill-opacity=\"1\" /><path clip-path=\"url(#clip390)\" d=\"M699.761 1532.02 L729.437 1532.02 L729.437 1535.95 L699.761 1535.95 L699.761 1532.02 Z\" fill=\"#000000\" fill-rule=\"evenodd\" fill-opacity=\"1\" /><path clip-path=\"url(#clip390)\" d=\"M740.34 1544.91 L747.979 1544.91 L747.979 1518.55 L739.668 1520.21 L739.668 1515.95 L747.932 1514.29 L752.608 1514.29 L752.608 1544.91 L760.247 1544.91 L760.247 1548.85 L740.34 1548.85 L740.34 1544.91 Z\" fill=\"#000000\" fill-rule=\"evenodd\" fill-opacity=\"1\" /><path clip-path=\"url(#clip390)\" d=\"M1250.12 1517.37 Q1246.51 1517.37 1244.68 1520.93 Q1242.87 1524.47 1242.87 1531.6 Q1242.87 1538.71 1244.68 1542.27 Q1246.51 1545.82 1250.12 1545.82 Q1253.75 1545.82 1255.56 1542.27 Q1257.39 1538.71 1257.39 1531.6 Q1257.39 1524.47 1255.56 1520.93 Q1253.75 1517.37 1250.12 1517.37 M1250.12 1513.66 Q1255.93 1513.66 1258.98 1518.27 Q1262.06 1522.85 1262.06 1531.6 Q1262.06 1540.33 1258.98 1544.94 Q1255.93 1549.52 1250.12 1549.52 Q1244.31 1549.52 1241.23 1544.94 Q1238.17 1540.33 1238.17 1531.6 Q1238.17 1522.85 1241.23 1518.27 Q1244.31 1513.66 1250.12 1513.66 Z\" fill=\"#000000\" fill-rule=\"evenodd\" fill-opacity=\"1\" /><path clip-path=\"url(#clip390)\" d=\"M1760.61 1544.91 L1768.25 1544.91 L1768.25 1518.55 L1759.94 1520.21 L1759.94 1515.95 L1768.2 1514.29 L1772.88 1514.29 L1772.88 1544.91 L1780.52 1544.91 L1780.52 1548.85 L1760.61 1548.85 L1760.61 1544.91 Z\" fill=\"#000000\" fill-rule=\"evenodd\" fill-opacity=\"1\" /><path clip-path=\"url(#clip390)\" d=\"M2285 1544.91 L2301.31 1544.91 L2301.31 1548.85 L2279.37 1548.85 L2279.37 1544.91 Q2282.03 1542.16 2286.62 1537.53 Q2291.22 1532.88 2292.4 1531.53 Q2294.65 1529.01 2295.53 1527.27 Q2296.43 1525.51 2296.43 1523.82 Q2296.43 1521.07 2294.49 1519.33 Q2292.56 1517.6 2289.46 1517.6 Q2287.26 1517.6 2284.81 1518.36 Q2282.38 1519.13 2279.6 1520.68 L2279.6 1515.95 Q2282.43 1514.82 2284.88 1514.24 Q2287.33 1513.66 2289.37 1513.66 Q2294.74 1513.66 2297.93 1516.35 Q2301.13 1519.03 2301.13 1523.52 Q2301.13 1525.65 2300.32 1527.57 Q2299.53 1529.47 2297.43 1532.07 Q2296.85 1532.74 2293.75 1535.95 Q2290.64 1539.15 2285 1544.91 Z\" fill=\"#000000\" fill-rule=\"evenodd\" fill-opacity=\"1\" /><polyline clip-path=\"url(#clip392)\" style=\"stroke:#000000; stroke-linecap:butt; stroke-linejoin:round; stroke-width:2; stroke-opacity:0.1; fill:none\" points=\"\n",
       "  147.478,1304.46 2352.76,1304.46 \n",
       "  \"/>\n",
       "<polyline clip-path=\"url(#clip392)\" style=\"stroke:#000000; stroke-linecap:butt; stroke-linejoin:round; stroke-width:2; stroke-opacity:0.1; fill:none\" points=\"\n",
       "  147.478,965.026 2352.76,965.026 \n",
       "  \"/>\n",
       "<polyline clip-path=\"url(#clip392)\" style=\"stroke:#000000; stroke-linecap:butt; stroke-linejoin:round; stroke-width:2; stroke-opacity:0.1; fill:none\" points=\"\n",
       "  147.478,625.591 2352.76,625.591 \n",
       "  \"/>\n",
       "<polyline clip-path=\"url(#clip392)\" style=\"stroke:#000000; stroke-linecap:butt; stroke-linejoin:round; stroke-width:2; stroke-opacity:0.1; fill:none\" points=\"\n",
       "  147.478,286.156 2352.76,286.156 \n",
       "  \"/>\n",
       "<polyline clip-path=\"url(#clip390)\" style=\"stroke:#000000; stroke-linecap:butt; stroke-linejoin:round; stroke-width:4; stroke-opacity:1; fill:none\" points=\"\n",
       "  147.478,1486.45 147.478,47.2441 \n",
       "  \"/>\n",
       "<polyline clip-path=\"url(#clip390)\" style=\"stroke:#000000; stroke-linecap:butt; stroke-linejoin:round; stroke-width:4; stroke-opacity:1; fill:none\" points=\"\n",
       "  147.478,1304.46 166.376,1304.46 \n",
       "  \"/>\n",
       "<polyline clip-path=\"url(#clip390)\" style=\"stroke:#000000; stroke-linecap:butt; stroke-linejoin:round; stroke-width:4; stroke-opacity:1; fill:none\" points=\"\n",
       "  147.478,965.026 166.376,965.026 \n",
       "  \"/>\n",
       "<polyline clip-path=\"url(#clip390)\" style=\"stroke:#000000; stroke-linecap:butt; stroke-linejoin:round; stroke-width:4; stroke-opacity:1; fill:none\" points=\"\n",
       "  147.478,625.591 166.376,625.591 \n",
       "  \"/>\n",
       "<polyline clip-path=\"url(#clip390)\" style=\"stroke:#000000; stroke-linecap:butt; stroke-linejoin:round; stroke-width:4; stroke-opacity:1; fill:none\" points=\"\n",
       "  147.478,286.156 166.376,286.156 \n",
       "  \"/>\n",
       "<path clip-path=\"url(#clip390)\" d=\"M51.3625 1304.91 L81.0383 1304.91 L81.0383 1308.85 L51.3625 1308.85 L51.3625 1304.91 Z\" fill=\"#000000\" fill-rule=\"evenodd\" fill-opacity=\"1\" /><path clip-path=\"url(#clip390)\" d=\"M95.1586 1317.81 L111.478 1317.81 L111.478 1321.74 L89.5336 1321.74 L89.5336 1317.81 Q92.1956 1315.05 96.7789 1310.42 Q101.385 1305.77 102.566 1304.43 Q104.811 1301.9 105.691 1300.17 Q106.594 1298.41 106.594 1296.72 Q106.594 1293.96 104.649 1292.23 Q102.728 1290.49 99.6261 1290.49 Q97.4271 1290.49 94.9734 1291.26 Q92.5428 1292.02 89.7651 1293.57 L89.7651 1288.85 Q92.5891 1287.71 95.0428 1287.13 Q97.4965 1286.56 99.5335 1286.56 Q104.904 1286.56 108.098 1289.24 Q111.293 1291.93 111.293 1296.42 Q111.293 1298.55 110.483 1300.47 Q109.696 1302.37 107.589 1304.96 Q107.01 1305.63 103.909 1308.85 Q100.807 1312.04 95.1586 1317.81 Z\" fill=\"#000000\" fill-rule=\"evenodd\" fill-opacity=\"1\" /><path clip-path=\"url(#clip390)\" d=\"M50.9921 965.477 L80.6679 965.477 L80.6679 969.413 L50.9921 969.413 L50.9921 965.477 Z\" fill=\"#000000\" fill-rule=\"evenodd\" fill-opacity=\"1\" /><path clip-path=\"url(#clip390)\" d=\"M91.5706 978.371 L99.2095 978.371 L99.2095 952.005 L90.8993 953.672 L90.8993 949.413 L99.1632 947.746 L103.839 947.746 L103.839 978.371 L111.478 978.371 L111.478 982.306 L91.5706 982.306 L91.5706 978.371 Z\" fill=\"#000000\" fill-rule=\"evenodd\" fill-opacity=\"1\" /><path clip-path=\"url(#clip390)\" d=\"M99.5335 611.39 Q95.9224 611.39 94.0937 614.955 Q92.2882 618.496 92.2882 625.626 Q92.2882 632.732 94.0937 636.297 Q95.9224 639.839 99.5335 639.839 Q103.168 639.839 104.973 636.297 Q106.802 632.732 106.802 625.626 Q106.802 618.496 104.973 614.955 Q103.168 611.39 99.5335 611.39 M99.5335 607.686 Q105.344 607.686 108.399 612.293 Q111.478 616.876 111.478 625.626 Q111.478 634.353 108.399 638.959 Q105.344 643.543 99.5335 643.543 Q93.7234 643.543 90.6447 638.959 Q87.5892 634.353 87.5892 625.626 Q87.5892 616.876 90.6447 612.293 Q93.7234 607.686 99.5335 607.686 Z\" fill=\"#000000\" fill-rule=\"evenodd\" fill-opacity=\"1\" /><path clip-path=\"url(#clip390)\" d=\"M91.5706 299.501 L99.2095 299.501 L99.2095 273.136 L90.8993 274.802 L90.8993 270.543 L99.1632 268.876 L103.839 268.876 L103.839 299.501 L111.478 299.501 L111.478 303.436 L91.5706 303.436 L91.5706 299.501 Z\" fill=\"#000000\" fill-rule=\"evenodd\" fill-opacity=\"1\" /><polyline clip-path=\"url(#clip392)\" style=\"stroke:#009af9; stroke-linecap:butt; stroke-linejoin:round; stroke-width:4; stroke-opacity:1; fill:none\" points=\"\n",
       "  209.891,87.9763 223.436,88.7311 348.678,92.1664 423.943,92.4079 487.579,92.4731 556.705,93.1649 620.434,95.0334 688.757,99.0442 767.917,107.187 803.09,112.26 \n",
       "  838.264,118.346 869.108,124.578 899.953,131.697 933.581,140.523 967.21,150.514 1001.04,161.788 1034.87,174.336 1072.27,189.741 1109.67,206.798 1145.26,224.598 \n",
       "  1180.84,243.953 1217.84,265.748 1254.85,289.257 1285.99,310.378 1317.14,332.713 1355.17,361.616 1393.2,392.296 1428.03,421.934 1462.87,453.006 1495.04,482.945 \n",
       "  1527.22,514.041 1559.81,546.68 1592.4,580.422 1628.92,619.488 1665.45,659.803 1698.55,697.345 1731.64,735.781 1807.43,826.791 1877.61,914.149 1946.79,1002.43 \n",
       "  2013.96,1089.47 2082.82,1179.28 2158.27,1277.45 2267.86,1417.57 2290.34,1445.72 \n",
       "  \"/>\n",
       "<path clip-path=\"url(#clip390)\" d=\"\n",
       "M1981.79 198.898 L2279.25 198.898 L2279.25 95.2176 L1981.79 95.2176  Z\n",
       "  \" fill=\"#ffffff\" fill-rule=\"evenodd\" fill-opacity=\"1\"/>\n",
       "<polyline clip-path=\"url(#clip390)\" style=\"stroke:#000000; stroke-linecap:butt; stroke-linejoin:round; stroke-width:4; stroke-opacity:1; fill:none\" points=\"\n",
       "  1981.79,198.898 2279.25,198.898 2279.25,95.2176 1981.79,95.2176 1981.79,198.898 \n",
       "  \"/>\n",
       "<polyline clip-path=\"url(#clip390)\" style=\"stroke:#009af9; stroke-linecap:butt; stroke-linejoin:round; stroke-width:4; stroke-opacity:1; fill:none\" points=\"\n",
       "  2006.29,147.058 2153.31,147.058 \n",
       "  \"/>\n",
       "<path clip-path=\"url(#clip390)\" d=\"M2191.65 166.745 Q2189.85 171.375 2188.13 172.787 Q2186.42 174.199 2183.55 174.199 L2180.15 174.199 L2180.15 170.634 L2182.65 170.634 Q2184.41 170.634 2185.38 169.8 Q2186.35 168.967 2187.53 165.865 L2188.3 163.921 L2177.81 138.412 L2182.32 138.412 L2190.43 158.689 L2198.53 138.412 L2203.04 138.412 L2191.65 166.745 Z\" fill=\"#000000\" fill-rule=\"evenodd\" fill-opacity=\"1\" /><path clip-path=\"url(#clip390)\" d=\"M2210.33 160.402 L2217.97 160.402 L2217.97 134.037 L2209.66 135.703 L2209.66 131.444 L2217.93 129.778 L2222.6 129.778 L2222.6 160.402 L2230.24 160.402 L2230.24 164.338 L2210.33 164.338 L2210.33 160.402 Z\" fill=\"#000000\" fill-rule=\"evenodd\" fill-opacity=\"1\" /></svg>\n"
      ]
     },
     "execution_count": 2,
     "metadata": {},
     "output_type": "execute_result"
    }
   ],
   "source": [
    "# przykładowa funkcja do testów\n",
    "f(x) = cos(x) - x\n",
    "plot(f, -2, 2)"
   ]
  },
  {
   "cell_type": "markdown",
   "metadata": {},
   "source": [
    "Funkcja <i> find_zero</i>  dobiera odpowiedni algorytm w zależności od sposobu wywołania.\n"
   ]
  },
  {
   "cell_type": "markdown",
   "metadata": {},
   "source": [
    "### 1. Metody wykorzytujące  przedział i zmianę znaku"
   ]
  },
  {
   "cell_type": "markdown",
   "metadata": {},
   "source": [
    "#### 1.1 Metoda bisekcji - jesli wywołamy fzero z podaniem  przedziału (tutaj (0,1))"
   ]
  },
  {
   "cell_type": "code",
   "execution_count": 3,
   "metadata": {},
   "outputs": [
    {
     "data": {
      "text/plain": [
       "Results of univariate zero finding:\n",
       "\n",
       "* Converged to: 0.7390851332151607\n",
       "* Algorithm: Bisection()\n",
       "* iterations: 60\n",
       "* function evaluations ≈ 63\n",
       "* stopped as f(x_n) = 0\n",
       "\n",
       "Trace:\n",
       "(a₀, b₀) = ( 1.118751109680031e-154, 1 )\n",
       "(a₁, b₁) = ( 1.0795210693868056e-77, 1 )\n",
       "(a₂, b₂) = ( 3.3060778616876836e-39, 1 )\n",
       "(a₃, b₃) = ( 5.7598240413292423e-20, 1 )\n",
       "(a₄, b₄) = ( 2.4010660126805305e-10, 1 )\n",
       "(a₅, b₅) = ( 1.5497207641601562e-05, 1 )\n",
       "(a₆, b₆) = ( 0.003936767578125, 1 )\n",
       "(a₇, b₇) = ( 0.062744140625, 1 )\n",
       "(a₈, b₈) = ( 0.25048828125, 1 )\n",
       "(a₉, b₉) = ( 0.50048828125, 1 )\n",
       "(a₁₀, b₁₀) = ( 0.50048828125, 0.750244140625 )\n",
       "(a₁₁, b₁₁) = ( 0.6253662109375, 0.750244140625 )\n",
       "(a₁₂, b₁₂) = ( 0.68780517578125, 0.750244140625 )\n",
       "(a₁₃, b₁₃) = ( 0.719024658203125, 0.750244140625 )\n",
       "(a₁₄, b₁₄) = ( 0.7346343994140625, 0.750244140625 )\n",
       "(a₁₅, b₁₅) = ( 0.7346343994140625, 0.74243927001953125 )\n",
       "(a₁₆, b₁₆) = ( 0.73853683471679688, 0.74243927001953125 )\n",
       "(a₁₇, b₁₇) = ( 0.73853683471679688, 0.74048805236816406 )\n",
       "(a₁₈, b₁₈) = ( 0.73853683471679688, 0.73951244354248047 )\n",
       "(a₁₉, b₁₉) = ( 0.73902463912963867, 0.73951244354248047 )\n",
       "(a₂₀, b₂₀) = ( 0.73902463912963867, 0.73926854133605957 )\n",
       "(a₂₁, b₂₁) = ( 0.73902463912963867, 0.73914659023284912 )\n",
       "(a₂₂, b₂₂) = ( 0.73902463912963867, 0.7390856146812439 )\n",
       "(a₂₃, b₂₃) = ( 0.73905512690544128, 0.7390856146812439 )\n",
       "(a₂₄, b₂₄) = ( 0.73907037079334259, 0.7390856146812439 )\n",
       "(a₂₅, b₂₅) = ( 0.73907799273729324, 0.7390856146812439 )\n",
       "(a₂₆, b₂₆) = ( 0.73908180370926857, 0.7390856146812439 )\n",
       "(a₂₇, b₂₇) = ( 0.73908370919525623, 0.7390856146812439 )\n",
       "(a₂₈, b₂₈) = ( 0.73908466193825006, 0.7390856146812439 )\n",
       "(a₂₉, b₂₉) = ( 0.73908466193825006, 0.73908513830974698 )\n",
       "(a₃₀, b₃₀) = ( 0.73908490012399852, 0.73908513830974698 )\n",
       "(a₃₁, b₃₁) = ( 0.73908501921687275, 0.73908513830974698 )\n",
       "(a₃₂, b₃₂) = ( 0.73908507876330987, 0.73908513830974698 )\n",
       "(a₃₃, b₃₃) = ( 0.73908510853652842, 0.73908513830974698 )\n",
       "(a₃₄, b₃₄) = ( 0.7390851234231377, 0.73908513830974698 )\n",
       "(a₃₅, b₃₅) = ( 0.73908513086644234, 0.73908513830974698 )\n",
       "(a₃₆, b₃₆) = ( 0.73908513086644234, 0.73908513458809466 )\n",
       "(a₃₇, b₃₇) = ( 0.7390851327272685, 0.73908513458809466 )\n",
       "(a₃₈, b₃₈) = ( 0.7390851327272685, 0.73908513365768158 )\n",
       "(a₃₉, b₃₉) = ( 0.73908513319247504, 0.73908513365768158 )\n",
       "(a₄₀, b₄₀) = ( 0.73908513319247504, 0.73908513342507831 )\n",
       "(a₄₁, b₄₁) = ( 0.73908513319247504, 0.73908513330877668 )\n",
       "(a₄₂, b₄₂) = ( 0.73908513319247504, 0.73908513325062586 )\n",
       "(a₄₃, b₄₃) = ( 0.73908513319247504, 0.73908513322155045 )\n",
       "(a₄₄, b₄₄) = ( 0.73908513320701275, 0.73908513322155045 )\n",
       "(a₄₅, b₄₅) = ( 0.7390851332142816, 0.73908513322155045 )\n",
       "(a₄₆, b₄₆) = ( 0.7390851332142816, 0.73908513321791602 )\n",
       "(a₄₇, b₄₇) = ( 0.7390851332142816, 0.73908513321609881 )\n",
       "(a₄₈, b₄₈) = ( 0.7390851332142816, 0.7390851332151902 )\n",
       "(a₄₉, b₄₉) = ( 0.7390851332147359, 0.7390851332151902 )\n",
       "(a₅₀, b₅₀) = ( 0.73908513321496305, 0.7390851332151902 )\n",
       "(a₅₁, b₅₁) = ( 0.73908513321507663, 0.7390851332151902 )\n",
       "(a₅₂, b₅₂) = ( 0.73908513321513336, 0.7390851332151902 )\n",
       "(a₅₃, b₅₃) = ( 0.73908513321513336, 0.73908513321516178 )\n",
       "(a₅₄, b₅₄) = ( 0.73908513321514757, 0.73908513321516178 )\n",
       "(a₅₅, b₅₅) = ( 0.73908513321515468, 0.73908513321516178 )\n",
       "(a₅₆, b₅₆) = ( 0.73908513321515823, 0.73908513321516178 )\n",
       "(a₅₇, b₅₇) = ( 0.73908513321516001, 0.73908513321516178 )\n",
       "(a₅₈, b₅₈) = ( 0.73908513321516001, 0.73908513321516089 )\n",
       "(a₅₉, b₅₉) = ( 0.73908513321516045, 0.73908513321516089 )\n",
       "(a₆₀, b₆₀) = ( 0.73908513321516067, 0.73908513321516089 )\n",
       "\n"
      ]
     },
     "metadata": {},
     "output_type": "display_data"
    },
    {
     "data": {
      "text/plain": [
       "0.7390851332151607"
      ]
     },
     "execution_count": 3,
     "metadata": {},
     "output_type": "execute_result"
    }
   ],
   "source": [
    "x = find_zero(f, (0, 1),verbose=true)  "
   ]
  },
  {
   "cell_type": "code",
   "execution_count": 4,
   "metadata": {},
   "outputs": [
    {
     "data": {
      "text/plain": [
       "Results of univariate zero finding:\n",
       "\n",
       "* Converged to: 0.7390851332151607\n",
       "* Algorithm: Bisection()\n",
       "* iterations: 60\n",
       "* function evaluations ≈ 63\n",
       "* stopped as f(x_n) = 0\n",
       "\n",
       "Trace:\n",
       "(a₀, b₀) = ( 1.118751109680031e-154, 1 )\n",
       "(a₁, b₁) = ( 1.0795210693868056e-77, 1 )\n",
       "(a₂, b₂) = ( 3.3060778616876836e-39, 1 )\n",
       "(a₃, b₃) = ( 5.7598240413292423e-20, 1 )\n",
       "(a₄, b₄) = ( 2.4010660126805305e-10, 1 )\n",
       "(a₅, b₅) = ( 1.5497207641601562e-05, 1 )\n",
       "(a₆, b₆) = ( 0.003936767578125, 1 )\n",
       "(a₇, b₇) = ( 0.062744140625, 1 )\n",
       "(a₈, b₈) = ( 0.25048828125, 1 )\n",
       "(a₉, b₉) = ( 0.50048828125, 1 )\n",
       "(a₁₀, b₁₀) = ( 0.50048828125, 0.750244140625 )\n",
       "(a₁₁, b₁₁) = ( 0.6253662109375, 0.750244140625 )\n",
       "(a₁₂, b₁₂) = ( 0.68780517578125, 0.750244140625 )\n",
       "(a₁₃, b₁₃) = ( 0.719024658203125, 0.750244140625 )\n",
       "(a₁₄, b₁₄) = ( 0.7346343994140625, 0.750244140625 )\n",
       "(a₁₅, b₁₅) = ( 0.7346343994140625, 0.74243927001953125 )\n",
       "(a₁₆, b₁₆) = ( 0.73853683471679688, 0.74243927001953125 )\n",
       "(a₁₇, b₁₇) = ( 0.73853683471679688, 0.74048805236816406 )\n",
       "(a₁₈, b₁₈) = ( 0.73853683471679688, 0.73951244354248047 )\n",
       "(a₁₉, b₁₉) = ( 0.73902463912963867, 0.73951244354248047 )\n",
       "(a₂₀, b₂₀) = ( 0.73902463912963867, 0.73926854133605957 )\n",
       "(a₂₁, b₂₁) = ( 0.73902463912963867, 0.73914659023284912 )\n",
       "(a₂₂, b₂₂) = ( 0.73902463912963867, 0.7390856146812439 )\n",
       "(a₂₃, b₂₃) = ( 0.73905512690544128, 0.7390856146812439 )\n",
       "(a₂₄, b₂₄) = ( 0.73907037079334259, 0.7390856146812439 )\n",
       "(a₂₅, b₂₅) = ( 0.73907799273729324, 0.7390856146812439 )\n",
       "(a₂₆, b₂₆) = ( 0.73908180370926857, 0.7390856146812439 )\n",
       "(a₂₇, b₂₇) = ( 0.73908370919525623, 0.7390856146812439 )\n",
       "(a₂₈, b₂₈) = ( 0.73908466193825006, 0.7390856146812439 )\n",
       "(a₂₉, b₂₉) = ( 0.73908466193825006, 0.73908513830974698 )\n",
       "(a₃₀, b₃₀) = ( 0.73908490012399852, 0.73908513830974698 )\n",
       "(a₃₁, b₃₁) = ( 0.73908501921687275, 0.73908513830974698 )\n",
       "(a₃₂, b₃₂) = ( 0.73908507876330987, 0.73908513830974698 )\n",
       "(a₃₃, b₃₃) = ( 0.73908510853652842, 0.73908513830974698 )\n",
       "(a₃₄, b₃₄) = ( 0.7390851234231377, 0.73908513830974698 )\n",
       "(a₃₅, b₃₅) = ( 0.73908513086644234, 0.73908513830974698 )\n",
       "(a₃₆, b₃₆) = ( 0.73908513086644234, 0.73908513458809466 )\n",
       "(a₃₇, b₃₇) = ( 0.7390851327272685, 0.73908513458809466 )\n",
       "(a₃₈, b₃₈) = ( 0.7390851327272685, 0.73908513365768158 )\n",
       "(a₃₉, b₃₉) = ( 0.73908513319247504, 0.73908513365768158 )\n",
       "(a₄₀, b₄₀) = ( 0.73908513319247504, 0.73908513342507831 )\n",
       "(a₄₁, b₄₁) = ( 0.73908513319247504, 0.73908513330877668 )\n",
       "(a₄₂, b₄₂) = ( 0.73908513319247504, 0.73908513325062586 )\n",
       "(a₄₃, b₄₃) = ( 0.73908513319247504, 0.73908513322155045 )\n",
       "(a₄₄, b₄₄) = ( 0.73908513320701275, 0.73908513322155045 )\n",
       "(a₄₅, b₄₅) = ( 0.7390851332142816, 0.73908513322155045 )\n",
       "(a₄₆, b₄₆) = ( 0.7390851332142816, 0.73908513321791602 )\n",
       "(a₄₇, b₄₇) = ( 0.7390851332142816, 0.73908513321609881 )\n",
       "(a₄₈, b₄₈) = ( 0.7390851332142816, 0.7390851332151902 )\n",
       "(a₄₉, b₄₉) = ( 0.7390851332147359, 0.7390851332151902 )\n",
       "(a₅₀, b₅₀) = ( 0.73908513321496305, 0.7390851332151902 )\n",
       "(a₅₁, b₅₁) = ( 0.73908513321507663, 0.7390851332151902 )\n",
       "(a₅₂, b₅₂) = ( 0.73908513321513336, 0.7390851332151902 )\n",
       "(a₅₃, b₅₃) = ( 0.73908513321513336, 0.73908513321516178 )\n",
       "(a₅₄, b₅₄) = ( 0.73908513321514757, 0.73908513321516178 )\n",
       "(a₅₅, b₅₅) = ( 0.73908513321515468, 0.73908513321516178 )\n",
       "(a₅₆, b₅₆) = ( 0.73908513321515823, 0.73908513321516178 )\n",
       "(a₅₇, b₅₇) = ( 0.73908513321516001, 0.73908513321516178 )\n",
       "(a₅₈, b₅₈) = ( 0.73908513321516001, 0.73908513321516089 )\n",
       "(a₅₉, b₅₉) = ( 0.73908513321516045, 0.73908513321516089 )\n",
       "(a₆₀, b₆₀) = ( 0.73908513321516067, 0.73908513321516089 )\n",
       "\n"
      ]
     },
     "metadata": {},
     "output_type": "display_data"
    },
    {
     "data": {
      "text/plain": [
       "0.7390851332151607"
      ]
     },
     "execution_count": 4,
     "metadata": {},
     "output_type": "execute_result"
    }
   ],
   "source": [
    "# mozna wyspecyfikowac wprost\n",
    "x = find_zero(f, (0, 1), Bisection(),verbose=true)  "
   ]
  },
  {
   "cell_type": "markdown",
   "metadata": {},
   "source": [
    "#### Sprawdzanie, czy znaleźliśmy 0"
   ]
  },
  {
   "cell_type": "code",
   "execution_count": 5,
   "metadata": {},
   "outputs": [
    {
     "data": {
      "text/plain": [
       "true"
      ]
     },
     "execution_count": 5,
     "metadata": {},
     "output_type": "execute_result"
    }
   ],
   "source": [
    "#Sprawdzamy czy znaleźliśmy 0\n",
    "iszero(f(x))"
   ]
  },
  {
   "cell_type": "code",
   "execution_count": 6,
   "metadata": {},
   "outputs": [
    {
     "data": {
      "text/plain": [
       "-1.0"
      ]
     },
     "execution_count": 6,
     "metadata": {},
     "output_type": "execute_result"
    }
   ],
   "source": [
    "# można też sprawdzić, czy funkcja zmienia znak dla lewego i prawego sąsiada miejsca zerowego.\n",
    "sign(f(prevfloat(x))) *sign(f(nextfloat(x))) "
   ]
  },
  {
   "cell_type": "code",
   "execution_count": 7,
   "metadata": {},
   "outputs": [
    {
     "data": {
      "text/plain": [
       "(3.141592653589793, 1.2246467991473532e-16)"
      ]
     },
     "execution_count": 7,
     "metadata": {},
     "output_type": "execute_result"
    }
   ],
   "source": [
    "# czasem algorytm znajduje najlepsze przybliżenie 0\n",
    "g(x) = sin(x)\n",
    "x = find_zero(g, (pi/2, 3pi/2))\n",
    "x, g(x)"
   ]
  },
  {
   "cell_type": "code",
   "execution_count": 8,
   "metadata": {},
   "outputs": [
    {
     "data": {
      "text/plain": [
       "false"
      ]
     },
     "execution_count": 8,
     "metadata": {},
     "output_type": "execute_result"
    }
   ],
   "source": [
    "# nie jest to dokładnie 0, ale ...\n",
    "iszero(g(x))"
   ]
  },
  {
   "cell_type": "code",
   "execution_count": 9,
   "metadata": {},
   "outputs": [
    {
     "data": {
      "text/plain": [
       "true"
      ]
     },
     "execution_count": 9,
     "metadata": {},
     "output_type": "execute_result"
    }
   ],
   "source": [
    "#... najbliższy lewy albo prawy sąsiad leży po przeciwnej stronie osi x  niż nasze 0.\n",
    "g(prevfloat(x)) * g(x) < 0.0 || g(x) * g(nextfloat(x)) < 0.0"
   ]
  },
  {
   "cell_type": "markdown",
   "metadata": {},
   "source": [
    "#### 1.2 Metoda regula falsi"
   ]
  },
  {
   "cell_type": "code",
   "execution_count": 10,
   "metadata": {},
   "outputs": [
    {
     "data": {
      "text/plain": [
       "Results of univariate zero finding:\n",
       "\n",
       "* Converged to: 0.7390851332151607\n",
       "* Algorithm: FalsePosition{:anderson_bjork}()\n",
       "* iterations: 6\n",
       "* function evaluations ≈ 8\n",
       "* stopped as f(x_n) = 0\n",
       "\n",
       "Trace:\n",
       "x₁ = 1.118751109680031e-154,\t fx₁ = 1\n",
       "x₂ = 1,\t fx₂ = -0.45969769413186023\n",
       "x₃ = 0.68507335732604513,\t fx₃ = 0.089299276481859979\n",
       "x₄ = 0.73629899761365403,\t fx₄ = 0.0046600390381426049\n",
       "x₅ = 0.7390895164441823,\t fx₅ = -7.3358319172545094e-06\n",
       "x₆ = 0.73908513051468816,\t fx₆ = 4.5195431841449363e-09\n",
       "x₇ = 0.73908513321515801,\t fx₇ = 4.4408920985006262e-15\n",
       "x₈ = 0.73908513321516067,\t fx₈ = 0\n",
       "\n"
      ]
     },
     "metadata": {},
     "output_type": "display_data"
    },
    {
     "data": {
      "text/plain": [
       "0.7390851332151607"
      ]
     },
     "execution_count": 10,
     "metadata": {},
     "output_type": "execute_result"
    }
   ],
   "source": [
    "find_zero(f, (0, 1), FalsePosition(), verbose=true) "
   ]
  },
  {
   "cell_type": "code",
   "execution_count": 11,
   "metadata": {},
   "outputs": [
    {
     "data": {
      "text/plain": [
       "Results of univariate zero finding:\n",
       "\n",
       "* Converged to: 0.7390851332151607\n",
       "* Algorithm: FalsePosition{12}()\n",
       "* iterations: 6\n",
       "* function evaluations ≈ 8\n",
       "* stopped as f(x_n) = 0\n",
       "\n",
       "Trace:\n",
       "x₁ = 1.118751109680031e-154,\t fx₁ = 1\n",
       "x₂ = 1,\t fx₂ = -0.45969769413186023\n",
       "x₃ = 0.68507335732604513,\t fx₃ = 0.089299276481859979\n",
       "x₄ = 0.73629899761365403,\t fx₄ = 0.0046600390381426049\n",
       "x₅ = 0.7390895164441823,\t fx₅ = -7.3358319172545094e-06\n",
       "x₆ = 0.73908513051468816,\t fx₆ = 4.5195431841449363e-09\n",
       "x₇ = 0.73908513321515801,\t fx₇ = 4.4408920985006262e-15\n",
       "x₈ = 0.73908513321516067,\t fx₈ = 0\n",
       "\n"
      ]
     },
     "metadata": {},
     "output_type": "display_data"
    },
    {
     "data": {
      "text/plain": [
       "0.7390851332151607"
      ]
     },
     "execution_count": 11,
     "metadata": {},
     "output_type": "execute_result"
    }
   ],
   "source": [
    "# do dyspozycji mamy  12 wersji algorytmu regula falsi\n",
    "find_zero(f, (0, 1), FalsePosition(12), verbose=true)"
   ]
  },
  {
   "cell_type": "markdown",
   "metadata": {},
   "source": [
    "### 2. Metody korzystające z pochodnych\n",
    "\n",
    "#### 2.1 Metoda Newtona, potrzebuje punktu startowego i wykorzystuje pochodną funkcji."
   ]
  },
  {
   "cell_type": "markdown",
   "metadata": {},
   "source": [
    "Aby użyć Metody Newtona, można skorzystać z pakietu ForwardDiff, aby obliczyć pochodną funkcji. "
   ]
  },
  {
   "cell_type": "code",
   "execution_count": 12,
   "metadata": {},
   "outputs": [
    {
     "data": {
      "text/plain": [
       "D (generic function with 1 method)"
      ]
     },
     "execution_count": 12,
     "metadata": {},
     "output_type": "execute_result"
    }
   ],
   "source": [
    "# definujemy D(f) obliczającą  funkcje pochodną \n",
    "D(f) = x->ForwardDiff.derivative(f, float(x))"
   ]
  },
  {
   "cell_type": "code",
   "execution_count": 13,
   "metadata": {},
   "outputs": [
    {
     "data": {
      "image/svg+xml": [
       "<?xml version=\"1.0\" encoding=\"utf-8\"?>\n",
       "<svg xmlns=\"http://www.w3.org/2000/svg\" xmlns:xlink=\"http://www.w3.org/1999/xlink\" width=\"600\" height=\"400\" viewBox=\"0 0 2400 1600\">\n",
       "<defs>\n",
       "  <clipPath id=\"clip430\">\n",
       "    <rect x=\"0\" y=\"0\" width=\"2400\" height=\"1600\"/>\n",
       "  </clipPath>\n",
       "</defs>\n",
       "<path clip-path=\"url(#clip430)\" d=\"\n",
       "M0 1600 L2400 1600 L2400 0 L0 0  Z\n",
       "  \" fill=\"#ffffff\" fill-rule=\"evenodd\" fill-opacity=\"1\"/>\n",
       "<defs>\n",
       "  <clipPath id=\"clip431\">\n",
       "    <rect x=\"480\" y=\"0\" width=\"1681\" height=\"1600\"/>\n",
       "  </clipPath>\n",
       "</defs>\n",
       "<path clip-path=\"url(#clip430)\" d=\"\n",
       "M193.936 1486.45 L2352.76 1486.45 L2352.76 47.2441 L193.936 47.2441  Z\n",
       "  \" fill=\"#ffffff\" fill-rule=\"evenodd\" fill-opacity=\"1\"/>\n",
       "<defs>\n",
       "  <clipPath id=\"clip432\">\n",
       "    <rect x=\"193\" y=\"47\" width=\"2160\" height=\"1440\"/>\n",
       "  </clipPath>\n",
       "</defs>\n",
       "<polyline clip-path=\"url(#clip432)\" style=\"stroke:#000000; stroke-linecap:butt; stroke-linejoin:round; stroke-width:2; stroke-opacity:0.1; fill:none\" points=\"\n",
       "  255.035,1486.45 255.035,47.2441 \n",
       "  \"/>\n",
       "<polyline clip-path=\"url(#clip432)\" style=\"stroke:#000000; stroke-linecap:butt; stroke-linejoin:round; stroke-width:2; stroke-opacity:0.1; fill:none\" points=\"\n",
       "  764.19,1486.45 764.19,47.2441 \n",
       "  \"/>\n",
       "<polyline clip-path=\"url(#clip432)\" style=\"stroke:#000000; stroke-linecap:butt; stroke-linejoin:round; stroke-width:2; stroke-opacity:0.1; fill:none\" points=\"\n",
       "  1273.35,1486.45 1273.35,47.2441 \n",
       "  \"/>\n",
       "<polyline clip-path=\"url(#clip432)\" style=\"stroke:#000000; stroke-linecap:butt; stroke-linejoin:round; stroke-width:2; stroke-opacity:0.1; fill:none\" points=\"\n",
       "  1782.5,1486.45 1782.5,47.2441 \n",
       "  \"/>\n",
       "<polyline clip-path=\"url(#clip432)\" style=\"stroke:#000000; stroke-linecap:butt; stroke-linejoin:round; stroke-width:2; stroke-opacity:0.1; fill:none\" points=\"\n",
       "  2291.66,1486.45 2291.66,47.2441 \n",
       "  \"/>\n",
       "<polyline clip-path=\"url(#clip430)\" style=\"stroke:#000000; stroke-linecap:butt; stroke-linejoin:round; stroke-width:4; stroke-opacity:1; fill:none\" points=\"\n",
       "  193.936,1486.45 2352.76,1486.45 \n",
       "  \"/>\n",
       "<polyline clip-path=\"url(#clip430)\" style=\"stroke:#000000; stroke-linecap:butt; stroke-linejoin:round; stroke-width:4; stroke-opacity:1; fill:none\" points=\"\n",
       "  255.035,1486.45 255.035,1467.55 \n",
       "  \"/>\n",
       "<polyline clip-path=\"url(#clip430)\" style=\"stroke:#000000; stroke-linecap:butt; stroke-linejoin:round; stroke-width:4; stroke-opacity:1; fill:none\" points=\"\n",
       "  764.19,1486.45 764.19,1467.55 \n",
       "  \"/>\n",
       "<polyline clip-path=\"url(#clip430)\" style=\"stroke:#000000; stroke-linecap:butt; stroke-linejoin:round; stroke-width:4; stroke-opacity:1; fill:none\" points=\"\n",
       "  1273.35,1486.45 1273.35,1467.55 \n",
       "  \"/>\n",
       "<polyline clip-path=\"url(#clip430)\" style=\"stroke:#000000; stroke-linecap:butt; stroke-linejoin:round; stroke-width:4; stroke-opacity:1; fill:none\" points=\"\n",
       "  1782.5,1486.45 1782.5,1467.55 \n",
       "  \"/>\n",
       "<polyline clip-path=\"url(#clip430)\" style=\"stroke:#000000; stroke-linecap:butt; stroke-linejoin:round; stroke-width:4; stroke-opacity:1; fill:none\" points=\"\n",
       "  2291.66,1486.45 2291.66,1467.55 \n",
       "  \"/>\n",
       "<path clip-path=\"url(#clip430)\" d=\"M224.977 1532.02 L254.653 1532.02 L254.653 1535.95 L224.977 1535.95 L224.977 1532.02 Z\" fill=\"#000000\" fill-rule=\"evenodd\" fill-opacity=\"1\" /><path clip-path=\"url(#clip430)\" d=\"M268.773 1544.91 L285.092 1544.91 L285.092 1548.85 L263.148 1548.85 L263.148 1544.91 Q265.81 1542.16 270.393 1537.53 Q275 1532.88 276.18 1531.53 Q278.426 1529.01 279.305 1527.27 Q280.208 1525.51 280.208 1523.82 Q280.208 1521.07 278.264 1519.33 Q276.342 1517.6 273.241 1517.6 Q271.042 1517.6 268.588 1518.36 Q266.157 1519.13 263.38 1520.68 L263.38 1515.95 Q266.204 1514.82 268.657 1514.24 Q271.111 1513.66 273.148 1513.66 Q278.518 1513.66 281.713 1516.35 Q284.907 1519.03 284.907 1523.52 Q284.907 1525.65 284.097 1527.57 Q283.31 1529.47 281.204 1532.07 Q280.625 1532.74 277.523 1535.95 Q274.421 1539.15 268.773 1544.91 Z\" fill=\"#000000\" fill-rule=\"evenodd\" fill-opacity=\"1\" /><path clip-path=\"url(#clip430)\" d=\"M733.947 1532.02 L763.623 1532.02 L763.623 1535.95 L733.947 1535.95 L733.947 1532.02 Z\" fill=\"#000000\" fill-rule=\"evenodd\" fill-opacity=\"1\" /><path clip-path=\"url(#clip430)\" d=\"M774.526 1544.91 L782.165 1544.91 L782.165 1518.55 L773.855 1520.21 L773.855 1515.95 L782.118 1514.29 L786.794 1514.29 L786.794 1544.91 L794.433 1544.91 L794.433 1548.85 L774.526 1548.85 L774.526 1544.91 Z\" fill=\"#000000\" fill-rule=\"evenodd\" fill-opacity=\"1\" /><path clip-path=\"url(#clip430)\" d=\"M1273.35 1517.37 Q1269.73 1517.37 1267.91 1520.93 Q1266.1 1524.47 1266.1 1531.6 Q1266.1 1538.71 1267.91 1542.27 Q1269.73 1545.82 1273.35 1545.82 Q1276.98 1545.82 1278.79 1542.27 Q1280.61 1538.71 1280.61 1531.6 Q1280.61 1524.47 1278.79 1520.93 Q1276.98 1517.37 1273.35 1517.37 M1273.35 1513.66 Q1279.16 1513.66 1282.21 1518.27 Q1285.29 1522.85 1285.29 1531.6 Q1285.29 1540.33 1282.21 1544.94 Q1279.16 1549.52 1273.35 1549.52 Q1267.54 1549.52 1264.46 1544.94 Q1261.4 1540.33 1261.4 1531.6 Q1261.4 1522.85 1264.46 1518.27 Q1267.54 1513.66 1273.35 1513.66 Z\" fill=\"#000000\" fill-rule=\"evenodd\" fill-opacity=\"1\" /><path clip-path=\"url(#clip430)\" d=\"M1772.88 1544.91 L1780.52 1544.91 L1780.52 1518.55 L1772.21 1520.21 L1772.21 1515.95 L1780.48 1514.29 L1785.15 1514.29 L1785.15 1544.91 L1792.79 1544.91 L1792.79 1548.85 L1772.88 1548.85 L1772.88 1544.91 Z\" fill=\"#000000\" fill-rule=\"evenodd\" fill-opacity=\"1\" /><path clip-path=\"url(#clip430)\" d=\"M2286.31 1544.91 L2302.63 1544.91 L2302.63 1548.85 L2280.69 1548.85 L2280.69 1544.91 Q2283.35 1542.16 2287.93 1537.53 Q2292.54 1532.88 2293.72 1531.53 Q2295.96 1529.01 2296.84 1527.27 Q2297.75 1525.51 2297.75 1523.82 Q2297.75 1521.07 2295.8 1519.33 Q2293.88 1517.6 2290.78 1517.6 Q2288.58 1517.6 2286.12 1518.36 Q2283.69 1519.13 2280.92 1520.68 L2280.92 1515.95 Q2283.74 1514.82 2286.19 1514.24 Q2288.65 1513.66 2290.69 1513.66 Q2296.06 1513.66 2299.25 1516.35 Q2302.44 1519.03 2302.44 1523.52 Q2302.44 1525.65 2301.63 1527.57 Q2300.85 1529.47 2298.74 1532.07 Q2298.16 1532.74 2295.06 1535.95 Q2291.96 1539.15 2286.31 1544.91 Z\" fill=\"#000000\" fill-rule=\"evenodd\" fill-opacity=\"1\" /><polyline clip-path=\"url(#clip432)\" style=\"stroke:#000000; stroke-linecap:butt; stroke-linejoin:round; stroke-width:2; stroke-opacity:0.1; fill:none\" points=\"\n",
       "  193.936,1446.03 2352.76,1446.03 \n",
       "  \"/>\n",
       "<polyline clip-path=\"url(#clip432)\" style=\"stroke:#000000; stroke-linecap:butt; stroke-linejoin:round; stroke-width:2; stroke-opacity:0.1; fill:none\" points=\"\n",
       "  193.936,1106.49 2352.76,1106.49 \n",
       "  \"/>\n",
       "<polyline clip-path=\"url(#clip432)\" style=\"stroke:#000000; stroke-linecap:butt; stroke-linejoin:round; stroke-width:2; stroke-opacity:0.1; fill:none\" points=\"\n",
       "  193.936,766.948 2352.76,766.948 \n",
       "  \"/>\n",
       "<polyline clip-path=\"url(#clip432)\" style=\"stroke:#000000; stroke-linecap:butt; stroke-linejoin:round; stroke-width:2; stroke-opacity:0.1; fill:none\" points=\"\n",
       "  193.936,427.409 2352.76,427.409 \n",
       "  \"/>\n",
       "<polyline clip-path=\"url(#clip432)\" style=\"stroke:#000000; stroke-linecap:butt; stroke-linejoin:round; stroke-width:2; stroke-opacity:0.1; fill:none\" points=\"\n",
       "  193.936,87.8705 2352.76,87.8705 \n",
       "  \"/>\n",
       "<polyline clip-path=\"url(#clip430)\" style=\"stroke:#000000; stroke-linecap:butt; stroke-linejoin:round; stroke-width:4; stroke-opacity:1; fill:none\" points=\"\n",
       "  193.936,1486.45 193.936,47.2441 \n",
       "  \"/>\n",
       "<polyline clip-path=\"url(#clip430)\" style=\"stroke:#000000; stroke-linecap:butt; stroke-linejoin:round; stroke-width:4; stroke-opacity:1; fill:none\" points=\"\n",
       "  193.936,1446.03 212.834,1446.03 \n",
       "  \"/>\n",
       "<polyline clip-path=\"url(#clip430)\" style=\"stroke:#000000; stroke-linecap:butt; stroke-linejoin:round; stroke-width:4; stroke-opacity:1; fill:none\" points=\"\n",
       "  193.936,1106.49 212.834,1106.49 \n",
       "  \"/>\n",
       "<polyline clip-path=\"url(#clip430)\" style=\"stroke:#000000; stroke-linecap:butt; stroke-linejoin:round; stroke-width:4; stroke-opacity:1; fill:none\" points=\"\n",
       "  193.936,766.948 212.834,766.948 \n",
       "  \"/>\n",
       "<polyline clip-path=\"url(#clip430)\" style=\"stroke:#000000; stroke-linecap:butt; stroke-linejoin:round; stroke-width:4; stroke-opacity:1; fill:none\" points=\"\n",
       "  193.936,427.409 212.834,427.409 \n",
       "  \"/>\n",
       "<polyline clip-path=\"url(#clip430)\" style=\"stroke:#000000; stroke-linecap:butt; stroke-linejoin:round; stroke-width:4; stroke-opacity:1; fill:none\" points=\"\n",
       "  193.936,87.8705 212.834,87.8705 \n",
       "  \"/>\n",
       "<path clip-path=\"url(#clip430)\" d=\"M50.9921 1446.48 L80.6679 1446.48 L80.6679 1450.41 L50.9921 1450.41 L50.9921 1446.48 Z\" fill=\"#000000\" fill-rule=\"evenodd\" fill-opacity=\"1\" /><path clip-path=\"url(#clip430)\" d=\"M94.7882 1459.37 L111.108 1459.37 L111.108 1463.31 L89.1632 1463.31 L89.1632 1459.37 Q91.8252 1456.62 96.4085 1451.99 Q101.015 1447.33 102.196 1445.99 Q104.441 1443.47 105.321 1441.73 Q106.223 1439.97 106.223 1438.28 Q106.223 1435.53 104.279 1433.79 Q102.358 1432.06 99.2558 1432.06 Q97.0567 1432.06 94.603 1432.82 Q92.1725 1433.58 89.3947 1435.13 L89.3947 1430.41 Q92.2188 1429.28 94.6724 1428.7 Q97.1261 1428.12 99.1632 1428.12 Q104.534 1428.12 107.728 1430.81 Q110.922 1433.49 110.922 1437.98 Q110.922 1440.11 110.112 1442.03 Q109.325 1443.93 107.219 1446.52 Q106.64 1447.19 103.538 1450.41 Q100.436 1453.61 94.7882 1459.37 Z\" fill=\"#000000\" fill-rule=\"evenodd\" fill-opacity=\"1\" /><path clip-path=\"url(#clip430)\" d=\"M120.922 1457.43 L125.807 1457.43 L125.807 1463.31 L120.922 1463.31 L120.922 1457.43 Z\" fill=\"#000000\" fill-rule=\"evenodd\" fill-opacity=\"1\" /><path clip-path=\"url(#clip430)\" d=\"M145.992 1431.82 Q142.381 1431.82 140.552 1435.39 Q138.746 1438.93 138.746 1446.06 Q138.746 1453.17 140.552 1456.73 Q142.381 1460.27 145.992 1460.27 Q149.626 1460.27 151.431 1456.73 Q153.26 1453.17 153.26 1446.06 Q153.26 1438.93 151.431 1435.39 Q149.626 1431.82 145.992 1431.82 M145.992 1428.12 Q151.802 1428.12 154.857 1432.73 Q157.936 1437.31 157.936 1446.06 Q157.936 1454.79 154.857 1459.39 Q151.802 1463.98 145.992 1463.98 Q140.181 1463.98 137.103 1459.39 Q134.047 1454.79 134.047 1446.06 Q134.047 1437.31 137.103 1432.73 Q140.181 1428.12 145.992 1428.12 Z\" fill=\"#000000\" fill-rule=\"evenodd\" fill-opacity=\"1\" /><path clip-path=\"url(#clip430)\" d=\"M51.9875 1106.94 L81.6633 1106.94 L81.6633 1110.87 L51.9875 1110.87 L51.9875 1106.94 Z\" fill=\"#000000\" fill-rule=\"evenodd\" fill-opacity=\"1\" /><path clip-path=\"url(#clip430)\" d=\"M92.566 1119.83 L100.205 1119.83 L100.205 1093.47 L91.8947 1095.13 L91.8947 1090.87 L100.159 1089.21 L104.834 1089.21 L104.834 1119.83 L112.473 1119.83 L112.473 1123.77 L92.566 1123.77 L92.566 1119.83 Z\" fill=\"#000000\" fill-rule=\"evenodd\" fill-opacity=\"1\" /><path clip-path=\"url(#clip430)\" d=\"M121.918 1117.89 L126.802 1117.89 L126.802 1123.77 L121.918 1123.77 L121.918 1117.89 Z\" fill=\"#000000\" fill-rule=\"evenodd\" fill-opacity=\"1\" /><path clip-path=\"url(#clip430)\" d=\"M137.033 1089.21 L155.39 1089.21 L155.39 1093.14 L141.316 1093.14 L141.316 1101.61 Q142.334 1101.27 143.353 1101.1 Q144.371 1100.92 145.39 1100.92 Q151.177 1100.92 154.556 1104.09 Q157.936 1107.26 157.936 1112.68 Q157.936 1118.26 154.464 1121.36 Q150.992 1124.44 144.672 1124.44 Q142.496 1124.44 140.228 1124.07 Q137.982 1123.7 135.575 1122.96 L135.575 1118.26 Q137.658 1119.39 139.881 1119.95 Q142.103 1120.5 144.58 1120.5 Q148.584 1120.5 150.922 1118.4 Q153.26 1116.29 153.26 1112.68 Q153.26 1109.07 150.922 1106.96 Q148.584 1104.85 144.58 1104.85 Q142.705 1104.85 140.83 1105.27 Q138.978 1105.69 137.033 1106.57 L137.033 1089.21 Z\" fill=\"#000000\" fill-rule=\"evenodd\" fill-opacity=\"1\" /><path clip-path=\"url(#clip430)\" d=\"M50.9921 767.399 L80.6679 767.399 L80.6679 771.335 L50.9921 771.335 L50.9921 767.399 Z\" fill=\"#000000\" fill-rule=\"evenodd\" fill-opacity=\"1\" /><path clip-path=\"url(#clip430)\" d=\"M91.5706 780.293 L99.2095 780.293 L99.2095 753.927 L90.8993 755.594 L90.8993 751.335 L99.1632 749.668 L103.839 749.668 L103.839 780.293 L111.478 780.293 L111.478 784.228 L91.5706 784.228 L91.5706 780.293 Z\" fill=\"#000000\" fill-rule=\"evenodd\" fill-opacity=\"1\" /><path clip-path=\"url(#clip430)\" d=\"M120.922 778.348 L125.807 778.348 L125.807 784.228 L120.922 784.228 L120.922 778.348 Z\" fill=\"#000000\" fill-rule=\"evenodd\" fill-opacity=\"1\" /><path clip-path=\"url(#clip430)\" d=\"M145.992 752.747 Q142.381 752.747 140.552 756.312 Q138.746 759.853 138.746 766.983 Q138.746 774.089 140.552 777.654 Q142.381 781.196 145.992 781.196 Q149.626 781.196 151.431 777.654 Q153.26 774.089 153.26 766.983 Q153.26 759.853 151.431 756.312 Q149.626 752.747 145.992 752.747 M145.992 749.043 Q151.802 749.043 154.857 753.649 Q157.936 758.233 157.936 766.983 Q157.936 775.71 154.857 780.316 Q151.802 784.899 145.992 784.899 Q140.181 784.899 137.103 780.316 Q134.047 775.71 134.047 766.983 Q134.047 758.233 137.103 753.649 Q140.181 749.043 145.992 749.043 Z\" fill=\"#000000\" fill-rule=\"evenodd\" fill-opacity=\"1\" /><path clip-path=\"url(#clip430)\" d=\"M51.9875 427.861 L81.6633 427.861 L81.6633 431.796 L51.9875 431.796 L51.9875 427.861 Z\" fill=\"#000000\" fill-rule=\"evenodd\" fill-opacity=\"1\" /><path clip-path=\"url(#clip430)\" d=\"M101.756 413.208 Q98.1447 413.208 96.316 416.773 Q94.5104 420.314 94.5104 427.444 Q94.5104 434.55 96.316 438.115 Q98.1447 441.657 101.756 441.657 Q105.39 441.657 107.196 438.115 Q109.024 434.55 109.024 427.444 Q109.024 420.314 107.196 416.773 Q105.39 413.208 101.756 413.208 M101.756 409.504 Q107.566 409.504 110.621 414.111 Q113.7 418.694 113.7 427.444 Q113.7 436.171 110.621 440.777 Q107.566 445.361 101.756 445.361 Q95.9456 445.361 92.8669 440.777 Q89.8114 436.171 89.8114 427.444 Q89.8114 418.694 92.8669 414.111 Q95.9456 409.504 101.756 409.504 Z\" fill=\"#000000\" fill-rule=\"evenodd\" fill-opacity=\"1\" /><path clip-path=\"url(#clip430)\" d=\"M121.918 438.81 L126.802 438.81 L126.802 444.689 L121.918 444.689 L121.918 438.81 Z\" fill=\"#000000\" fill-rule=\"evenodd\" fill-opacity=\"1\" /><path clip-path=\"url(#clip430)\" d=\"M137.033 410.129 L155.39 410.129 L155.39 414.064 L141.316 414.064 L141.316 422.537 Q142.334 422.189 143.353 422.027 Q144.371 421.842 145.39 421.842 Q151.177 421.842 154.556 425.013 Q157.936 428.185 157.936 433.601 Q157.936 439.18 154.464 442.282 Q150.992 445.361 144.672 445.361 Q142.496 445.361 140.228 444.99 Q137.982 444.62 135.575 443.879 L135.575 439.18 Q137.658 440.314 139.881 440.87 Q142.103 441.425 144.58 441.425 Q148.584 441.425 150.922 439.319 Q153.26 437.212 153.26 433.601 Q153.26 429.99 150.922 427.884 Q148.584 425.777 144.58 425.777 Q142.705 425.777 140.83 426.194 Q138.978 426.611 137.033 427.49 L137.033 410.129 Z\" fill=\"#000000\" fill-rule=\"evenodd\" fill-opacity=\"1\" /><path clip-path=\"url(#clip430)\" d=\"M100.76 73.6691 Q97.1493 73.6691 95.3206 77.2339 Q93.515 80.7756 93.515 87.9052 Q93.515 95.0116 95.3206 98.5764 Q97.1493 102.118 100.76 102.118 Q104.395 102.118 106.2 98.5764 Q108.029 95.0116 108.029 87.9052 Q108.029 80.7756 106.2 77.2339 Q104.395 73.6691 100.76 73.6691 M100.76 69.9655 Q106.571 69.9655 109.626 74.5719 Q112.705 79.1552 112.705 87.9052 Q112.705 96.632 109.626 101.238 Q106.571 105.822 100.76 105.822 Q94.9502 105.822 91.8715 101.238 Q88.816 96.632 88.816 87.9052 Q88.816 79.1552 91.8715 74.5719 Q94.9502 69.9655 100.76 69.9655 Z\" fill=\"#000000\" fill-rule=\"evenodd\" fill-opacity=\"1\" /><path clip-path=\"url(#clip430)\" d=\"M120.922 99.2709 L125.807 99.2709 L125.807 105.15 L120.922 105.15 L120.922 99.2709 Z\" fill=\"#000000\" fill-rule=\"evenodd\" fill-opacity=\"1\" /><path clip-path=\"url(#clip430)\" d=\"M145.992 73.6691 Q142.381 73.6691 140.552 77.2339 Q138.746 80.7756 138.746 87.9052 Q138.746 95.0116 140.552 98.5764 Q142.381 102.118 145.992 102.118 Q149.626 102.118 151.431 98.5764 Q153.26 95.0116 153.26 87.9052 Q153.26 80.7756 151.431 77.2339 Q149.626 73.6691 145.992 73.6691 M145.992 69.9655 Q151.802 69.9655 154.857 74.5719 Q157.936 79.1552 157.936 87.9052 Q157.936 96.632 154.857 101.238 Q151.802 105.822 145.992 105.822 Q140.181 105.822 137.103 101.238 Q134.047 96.632 134.047 87.9052 Q134.047 79.1552 137.103 74.5719 Q140.181 69.9655 145.992 69.9655 Z\" fill=\"#000000\" fill-rule=\"evenodd\" fill-opacity=\"1\" /><polyline clip-path=\"url(#clip432)\" style=\"stroke:#009af9; stroke-linecap:butt; stroke-linejoin:round; stroke-width:4; stroke-opacity:1; fill:none\" points=\"\n",
       "  255.035,149.465 258.35,147.638 261.664,145.837 264.979,144.063 268.294,142.315 298.945,127.418 329.596,114.838 360.247,104.62 390.898,96.8017 409.318,93.2698 \n",
       "  427.737,90.6194 446.157,88.8542 464.577,87.9763 495.725,88.5134 526.872,91.5888 560.707,97.7919 594.542,106.949 625.735,117.973 656.928,131.432 690.37,148.509 \n",
       "  723.812,168.253 762.558,194.351 801.304,223.762 835.737,252.544 870.17,283.678 900.364,312.803 930.558,343.524 963.478,378.711 996.398,415.521 1029.51,454.03 \n",
       "  1062.63,493.863 1135.86,585.795 1205.53,676.768 1277.98,773.123 1338.96,854.216 1413.41,951.412 1481.62,1037.04 1513.11,1075.04 1544.61,1111.86 1576.51,1147.82 \n",
       "  1608.42,1182.28 1644.17,1218.95 1679.93,1253.4 1712.33,1282.55 1744.73,1309.61 1781.83,1337.88 1818.92,1363.13 1853.27,1383.69 1887.62,1401.45 1921.48,1416.13 \n",
       "  1955.34,1427.94 1988.22,1436.61 2021.1,1442.48 2054.8,1445.59 2088.51,1445.72 2106.97,1444.53 2125.44,1442.44 2143.9,1439.48 2162.36,1435.62 2189.18,1428.46 \n",
       "  2216,1419.46 2242.83,1408.66 2269.65,1396.07 2275.15,1393.27 2280.65,1390.39 2286.15,1387.45 2291.66,1384.43 \n",
       "  \"/>\n",
       "<path clip-path=\"url(#clip430)\" d=\"\n",
       "M1988.5 198.898 L2280.8 198.898 L2280.8 95.2176 L1988.5 95.2176  Z\n",
       "  \" fill=\"#ffffff\" fill-rule=\"evenodd\" fill-opacity=\"1\"/>\n",
       "<polyline clip-path=\"url(#clip430)\" style=\"stroke:#000000; stroke-linecap:butt; stroke-linejoin:round; stroke-width:4; stroke-opacity:1; fill:none\" points=\"\n",
       "  1988.5,198.898 2280.8,198.898 2280.8,95.2176 1988.5,95.2176 1988.5,198.898 \n",
       "  \"/>\n",
       "<polyline clip-path=\"url(#clip430)\" style=\"stroke:#009af9; stroke-linecap:butt; stroke-linejoin:round; stroke-width:4; stroke-opacity:1; fill:none\" points=\"\n",
       "  2012.48,147.058 2156.4,147.058 \n",
       "  \"/>\n",
       "<path clip-path=\"url(#clip430)\" d=\"M2194.23 166.745 Q2192.43 171.375 2190.72 172.787 Q2189 174.199 2186.13 174.199 L2182.73 174.199 L2182.73 170.634 L2185.23 170.634 Q2186.99 170.634 2187.96 169.8 Q2188.93 168.967 2190.11 165.865 L2190.88 163.921 L2180.39 138.412 L2184.91 138.412 L2193.01 158.689 L2201.11 138.412 L2205.62 138.412 L2194.23 166.745 Z\" fill=\"#000000\" fill-rule=\"evenodd\" fill-opacity=\"1\" /><path clip-path=\"url(#clip430)\" d=\"M2212.91 160.402 L2220.55 160.402 L2220.55 134.037 L2212.24 135.703 L2212.24 131.444 L2220.51 129.778 L2225.18 129.778 L2225.18 160.402 L2232.82 160.402 L2232.82 164.338 L2212.91 164.338 L2212.91 160.402 Z\" fill=\"#000000\" fill-rule=\"evenodd\" fill-opacity=\"1\" /></svg>\n"
      ]
     },
     "execution_count": 13,
     "metadata": {},
     "output_type": "execute_result"
    }
   ],
   "source": [
    "plot(D(f), -2,2)"
   ]
  },
  {
   "cell_type": "code",
   "execution_count": 14,
   "metadata": {},
   "outputs": [
    {
     "data": {
      "text/plain": [
       "Results of univariate zero finding:\n",
       "\n",
       "* Converged to: 0.7390851332151607\n",
       "* Algorithm: Roots.Newton()\n",
       "* iterations: 5\n",
       "* function evaluations ≈ 10\n",
       "* stopped as f(x_n) = 0\n",
       "\n",
       "Trace:\n",
       "x₁ = 0,\t fx₁ = 1\n",
       "x₂ = 1,\t fx₂ = -0.45969769413186023\n",
       "x₃ = 0.75036386784024389,\t fx₃ = -0.018923073822117442\n",
       "x₄ = 0.73911289091136168,\t fx₄ = -4.6455898990771516e-05\n",
       "x₅ = 0.73908513338528403,\t fx₅ = -2.8472058044570758e-10\n",
       "x₆ = 0.73908513321516067,\t fx₆ = 0\n",
       "\n"
      ]
     },
     "metadata": {},
     "output_type": "display_data"
    },
    {
     "data": {
      "text/plain": [
       "0.7390851332151607"
      ]
     },
     "execution_count": 14,
     "metadata": {},
     "output_type": "execute_result"
    }
   ],
   "source": [
    "#wywolanie metody Newtona\n",
    "find_zero((f, D(f)),0, Roots.Newton(),verbose=true)"
   ]
  },
  {
   "cell_type": "markdown",
   "metadata": {},
   "source": [
    "#### 2.2 Metoda Halleya (potrzebuje pierwszej i drugiej pochodnej)"
   ]
  },
  {
   "cell_type": "code",
   "execution_count": 15,
   "metadata": {},
   "outputs": [
    {
     "data": {
      "text/plain": [
       "Results of univariate zero finding:\n",
       "\n",
       "* Converged to: 0.7390851332151606\n",
       "* Algorithm: Roots.Halley()\n",
       "* iterations: 4\n",
       "* function evaluations ≈ 15\n",
       "* stopped as |f(x_n)| ≤ max(δ, |x|⋅ϵ) using δ = atol, ϵ = rtol\n",
       "\n",
       "Trace:\n",
       "x₁ = 0,\t fx₁ = 1\n",
       "x₂ = 0.66666666666666663,\t fx₂ = 0.11922059411028141\n",
       "x₃ = 0.73903926244631024,\t fx₃ = 7.6769092960393692e-05\n",
       "x₄ = 0.73908513321514946,\t fx₄ = 1.865174681370263e-14\n",
       "x₅ = 0.73908513321516056,\t fx₅ = 1.1102230246251565e-16\n",
       "\n"
      ]
     },
     "metadata": {},
     "output_type": "display_data"
    },
    {
     "data": {
      "text/plain": [
       "0.7390851332151606"
      ]
     },
     "execution_count": 15,
     "metadata": {},
     "output_type": "execute_result"
    }
   ],
   "source": [
    "DD(f) = x->ForwardDiff.derivative(D(f), float(x))\n",
    "find_zero((f, D(f), DD(f)), 0.0, Roots.Halley(), verbose=true) "
   ]
  },
  {
   "cell_type": "markdown",
   "metadata": {},
   "source": [
    "### 3. Metody korzystające z przybliżenia pochodnej"
   ]
  },
  {
   "cell_type": "markdown",
   "metadata": {},
   "source": [
    "#### 3.1 Domyślna metoda bazuje na metodzie z <a href=\"http://www.hpl.hp.com/hpjournal/pdfs/IssuePDFs/1979-12.pdf\"> kalkulatorów HP-34</a> , używa metody siecznych\n",
    "oraz metody bazującej na przedziale wg artykułu:\n",
    "\n",
    "<a href=\"http://na.math.kit.edu/alefeld/download/1995_Algorithm_748_Enclosing_Zeros_of_Continuous_Functions.pdf\">G. E. Alefeld, F. A. Potra, and\n",
    "Y. Shi, \"Algorithm 748: enclosing zeros of continuous functions,\" ACM\n",
    "Trans. Math. Softw. 21, 327–344 (1995), DOI: 10.1145/210089.210111. </a>"
   ]
  },
  {
   "cell_type": "code",
   "execution_count": 16,
   "metadata": {},
   "outputs": [
    {
     "data": {
      "text/plain": [
       "Results of univariate zero finding:\n",
       "\n",
       "* Converged to: 0.7390851332151607\n",
       "* Algorithm: Secant(); finished with bracketing method AlefeldPotraShi()\n",
       "* iterations: 4\n",
       "* function evaluations ≈ 10\n",
       "* stopped as f(x_n) = 0\n",
       "* Note: Used bracketing method AlefeldPotraShi() on  [0.0,0.9999969722835389]\n",
       "\n",
       "Trace:\n",
       "x₁ = 6.0554544523933395e-06,\t fx₁ = 0.99999394452721335\n",
       "x₂ = 0,\t fx₂ = 1\n",
       "x₃ = 0.9999969722835389,\t fx₃ = -0.4596921186823234\n",
       "(a₃, b₃) = ( 0, 0.9999969722835389 )\n",
       "(a₄, b₄) = ( 1.1187488515059306e-154, 0.9999969722835389 )\n",
       "(a₅, b₅) = ( 0.73848198557107825, 0.73967384145392068 )\n",
       "(a₆, b₆) = ( 0.73848198557107825, 0.73908513321516067 )\n",
       "\n"
      ]
     },
     "metadata": {},
     "output_type": "display_data"
    },
    {
     "data": {
      "text/plain": [
       "0.7390851332151607"
      ]
     },
     "execution_count": 16,
     "metadata": {},
     "output_type": "execute_result"
    }
   ],
   "source": [
    "x = find_zero(f, 0,   verbose=true)"
   ]
  },
  {
   "cell_type": "markdown",
   "metadata": {},
   "source": [
    "Metody find_zero dla wyzszych rzędów to wariacje metody Newtona, które nie korzystaja z pochodnej, ale ja przyblizają.\n"
   ]
  },
  {
   "cell_type": "markdown",
   "metadata": {},
   "source": [
    "#### 3.2 Metoda siecznych"
   ]
  },
  {
   "cell_type": "code",
   "execution_count": 17,
   "metadata": {},
   "outputs": [
    {
     "data": {
      "text/plain": [
       "Results of univariate zero finding:\n",
       "\n",
       "* Converged to: 0.7390851332151607\n",
       "* Algorithm: Secant()\n",
       "* iterations: 7\n",
       "* function evaluations ≈ 9\n",
       "* stopped as f(x_n) = 0\n",
       "\n",
       "Trace:\n",
       "x₁ = 6.0554544523933395e-06,\t fx₁ = 0.99999394452721335\n",
       "x₂ = 0,\t fx₂ = 1\n",
       "x₃ = 0.9999969722835389,\t fx₃ = -0.4596921186823234\n",
       "x₄ = 0.68507389982090516,\t fx₄ = 0.089298390734211308\n",
       "x₅ = 0.73629905416077657,\t fx₅ = 0.0046599445167858633\n",
       "x₆ = 0.7391193608624661,\t fx₆ = -5.7284235187471388e-05\n",
       "x₇ = 0.73908511212853889,\t fx₇ = 3.5290823707789798e-08\n",
       "x₈ = 0.73908513321500136,\t fx₈ = 2.6656454821250009e-13\n",
       "x₉ = 0.73908513321516067,\t fx₉ = 0\n",
       "\n"
      ]
     },
     "metadata": {},
     "output_type": "display_data"
    },
    {
     "data": {
      "text/plain": [
       "0.7390851332151607"
      ]
     },
     "execution_count": 17,
     "metadata": {},
     "output_type": "execute_result"
    }
   ],
   "source": [
    "# wywołanie find_zero używając punktu startowego (a nie przedziału) \n",
    "# oraz opcji order=1   wykorzystuje metodę siecznych  \n",
    "x = find_zero(f, 0, Order1(),  verbose=true) "
   ]
  },
  {
   "cell_type": "code",
   "execution_count": 18,
   "metadata": {},
   "outputs": [
    {
     "data": {
      "text/plain": [
       "0.7390851332151607"
      ]
     },
     "execution_count": 18,
     "metadata": {},
     "output_type": "execute_result"
    }
   ],
   "source": [
    "# metoda siecznych może być wywołana bezpośrednio \n",
    "# implementacja taka sama jak find_zero(f, 0, Order1()), ale bez\n",
    "# narzutów frameworku oraz mniejsza ilość sprawdzanych warunków zbieżności - szybsza\n",
    "Roots.secant_method(f, 0)"
   ]
  },
  {
   "cell_type": "code",
   "execution_count": 19,
   "metadata": {},
   "outputs": [
    {
     "data": {
      "text/plain": [
       "0.7390851332151607"
      ]
     },
     "execution_count": 19,
     "metadata": {},
     "output_type": "execute_result"
    }
   ],
   "source": [
    "# mozemy podać przedział\n",
    "Roots.secant_method(f, (0,1))"
   ]
  },
  {
   "cell_type": "markdown",
   "metadata": {},
   "source": [
    "#### 3.3 Metoda Steffensena \n",
    "przybliża pochodną poprzez  (f(x + f(x)) - f(x))/f(x)  \n",
    "aby ja wywołać podajemy punkt startowy oraz order 2"
   ]
  },
  {
   "cell_type": "code",
   "execution_count": 20,
   "metadata": {},
   "outputs": [
    {
     "data": {
      "text/plain": [
       "Results of univariate zero finding:\n",
       "\n",
       "* Converged to: 0.7390851332151607\n",
       "* Algorithm: Order2()\n",
       "* iterations: 6\n",
       "* function evaluations ≈ 10\n",
       "* stopped as f(x_n) = 0\n",
       "\n",
       "Trace:\n",
       "x₁ = 6.0554544523933395e-06,\t fx₁ = 0.99999394452721335\n",
       "x₂ = 0,\t fx₂ = 1\n",
       "x₃ = 0.9999969722835389,\t fx₃ = -0.4596921186823234\n",
       "x₄ = 0.68507389982090516,\t fx₄ = 0.089298390734211308\n",
       "x₅ = 0.73629905416077657,\t fx₅ = 0.0046599445167858633\n",
       "x₆ = 0.7391193608624661,\t fx₆ = -5.7284235187471388e-05\n",
       "x₇ = 0.73908513304090806,\t fx₇ = 2.9163127468478933e-10\n",
       "x₈ = 0.73908513321516067,\t fx₈ = 0\n",
       "\n"
      ]
     },
     "metadata": {},
     "output_type": "display_data"
    },
    {
     "data": {
      "text/plain": [
       "0.7390851332151607"
      ]
     },
     "execution_count": 20,
     "metadata": {},
     "output_type": "execute_result"
    }
   ],
   "source": [
    "x = find_zero(f, 0, Order2(), verbose=true) "
   ]
  },
  {
   "cell_type": "code",
   "execution_count": 21,
   "metadata": {},
   "outputs": [
    {
     "data": {
      "text/plain": [
       "Results of univariate zero finding:\n",
       "\n",
       "* Converged to: 0.7390851332151607\n",
       "* Algorithm: Order8()\n",
       "* iterations: 5\n",
       "* function evaluations ≈ 10\n",
       "* stopped as f(x_n) = 0\n",
       "\n",
       "Trace:\n",
       "x₁ = 6.0554544523933395e-06,\t fx₁ = 0.99999394452721335\n",
       "x₂ = 0,\t fx₂ = 1\n",
       "x₃ = 0.9999969722835389,\t fx₃ = -0.4596921186823234\n",
       "x₄ = 0.68507389982090516,\t fx₄ = 0.089298390734211308\n",
       "x₅ = 0.73629905416077657,\t fx₅ = 0.0046599445167858633\n",
       "x₆ = 0.7391193608624661,\t fx₆ = -5.7284235187471388e-05\n",
       "x₇ = 0.73908513321516067,\t fx₇ = 0\n",
       "\n"
      ]
     },
     "metadata": {},
     "output_type": "display_data"
    },
    {
     "data": {
      "text/plain": [
       "0.7390851332151607"
      ]
     },
     "execution_count": 21,
     "metadata": {},
     "output_type": "execute_result"
    }
   ],
   "source": [
    "# mozliwe sa jeszcze rzędy 5, 8 i 16\n",
    "x = find_zero(f, 0, Order8(), verbose=true) "
   ]
  },
  {
   "cell_type": "markdown",
   "metadata": {},
   "source": [
    "Można użyć funkcji fzero do znajdowania nieciagłości"
   ]
  },
  {
   "cell_type": "code",
   "execution_count": 22,
   "metadata": {},
   "outputs": [
    {
     "data": {
      "image/svg+xml": [
       "<?xml version=\"1.0\" encoding=\"utf-8\"?>\n",
       "<svg xmlns=\"http://www.w3.org/2000/svg\" xmlns:xlink=\"http://www.w3.org/1999/xlink\" width=\"600\" height=\"400\" viewBox=\"0 0 2400 1600\">\n",
       "<defs>\n",
       "  <clipPath id=\"clip470\">\n",
       "    <rect x=\"0\" y=\"0\" width=\"2400\" height=\"1600\"/>\n",
       "  </clipPath>\n",
       "</defs>\n",
       "<path clip-path=\"url(#clip470)\" d=\"\n",
       "M0 1600 L2400 1600 L2400 0 L0 0  Z\n",
       "  \" fill=\"#ffffff\" fill-rule=\"evenodd\" fill-opacity=\"1\"/>\n",
       "<defs>\n",
       "  <clipPath id=\"clip471\">\n",
       "    <rect x=\"480\" y=\"0\" width=\"1681\" height=\"1600\"/>\n",
       "  </clipPath>\n",
       "</defs>\n",
       "<path clip-path=\"url(#clip470)\" d=\"\n",
       "M209.029 1486.45 L2352.76 1486.45 L2352.76 47.2441 L209.029 47.2441  Z\n",
       "  \" fill=\"#ffffff\" fill-rule=\"evenodd\" fill-opacity=\"1\"/>\n",
       "<defs>\n",
       "  <clipPath id=\"clip472\">\n",
       "    <rect x=\"209\" y=\"47\" width=\"2145\" height=\"1440\"/>\n",
       "  </clipPath>\n",
       "</defs>\n",
       "<polyline clip-path=\"url(#clip472)\" style=\"stroke:#000000; stroke-linecap:butt; stroke-linejoin:round; stroke-width:2; stroke-opacity:0.1; fill:none\" points=\"\n",
       "  471.938,1486.45 471.938,47.2441 \n",
       "  \"/>\n",
       "<polyline clip-path=\"url(#clip472)\" style=\"stroke:#000000; stroke-linecap:butt; stroke-linejoin:round; stroke-width:2; stroke-opacity:0.1; fill:none\" points=\"\n",
       "  876.415,1486.45 876.415,47.2441 \n",
       "  \"/>\n",
       "<polyline clip-path=\"url(#clip472)\" style=\"stroke:#000000; stroke-linecap:butt; stroke-linejoin:round; stroke-width:2; stroke-opacity:0.1; fill:none\" points=\"\n",
       "  1280.89,1486.45 1280.89,47.2441 \n",
       "  \"/>\n",
       "<polyline clip-path=\"url(#clip472)\" style=\"stroke:#000000; stroke-linecap:butt; stroke-linejoin:round; stroke-width:2; stroke-opacity:0.1; fill:none\" points=\"\n",
       "  1685.37,1486.45 1685.37,47.2441 \n",
       "  \"/>\n",
       "<polyline clip-path=\"url(#clip472)\" style=\"stroke:#000000; stroke-linecap:butt; stroke-linejoin:round; stroke-width:2; stroke-opacity:0.1; fill:none\" points=\"\n",
       "  2089.85,1486.45 2089.85,47.2441 \n",
       "  \"/>\n",
       "<polyline clip-path=\"url(#clip470)\" style=\"stroke:#000000; stroke-linecap:butt; stroke-linejoin:round; stroke-width:4; stroke-opacity:1; fill:none\" points=\"\n",
       "  209.029,1486.45 2352.76,1486.45 \n",
       "  \"/>\n",
       "<polyline clip-path=\"url(#clip470)\" style=\"stroke:#000000; stroke-linecap:butt; stroke-linejoin:round; stroke-width:4; stroke-opacity:1; fill:none\" points=\"\n",
       "  471.938,1486.45 471.938,1467.55 \n",
       "  \"/>\n",
       "<polyline clip-path=\"url(#clip470)\" style=\"stroke:#000000; stroke-linecap:butt; stroke-linejoin:round; stroke-width:4; stroke-opacity:1; fill:none\" points=\"\n",
       "  876.415,1486.45 876.415,1467.55 \n",
       "  \"/>\n",
       "<polyline clip-path=\"url(#clip470)\" style=\"stroke:#000000; stroke-linecap:butt; stroke-linejoin:round; stroke-width:4; stroke-opacity:1; fill:none\" points=\"\n",
       "  1280.89,1486.45 1280.89,1467.55 \n",
       "  \"/>\n",
       "<polyline clip-path=\"url(#clip470)\" style=\"stroke:#000000; stroke-linecap:butt; stroke-linejoin:round; stroke-width:4; stroke-opacity:1; fill:none\" points=\"\n",
       "  1685.37,1486.45 1685.37,1467.55 \n",
       "  \"/>\n",
       "<polyline clip-path=\"url(#clip470)\" style=\"stroke:#000000; stroke-linecap:butt; stroke-linejoin:round; stroke-width:4; stroke-opacity:1; fill:none\" points=\"\n",
       "  2089.85,1486.45 2089.85,1467.55 \n",
       "  \"/>\n",
       "<path clip-path=\"url(#clip470)\" d=\"M440.839 1532.02 L470.515 1532.02 L470.515 1535.95 L440.839 1535.95 L440.839 1532.02 Z\" fill=\"#000000\" fill-rule=\"evenodd\" fill-opacity=\"1\" /><path clip-path=\"url(#clip470)\" d=\"M493.455 1518.36 L481.649 1536.81 L493.455 1536.81 L493.455 1518.36 M492.228 1514.29 L498.107 1514.29 L498.107 1536.81 L503.038 1536.81 L503.038 1540.7 L498.107 1540.7 L498.107 1548.85 L493.455 1548.85 L493.455 1540.7 L477.853 1540.7 L477.853 1536.19 L492.228 1514.29 Z\" fill=\"#000000\" fill-rule=\"evenodd\" fill-opacity=\"1\" /><path clip-path=\"url(#clip470)\" d=\"M846.358 1532.02 L876.033 1532.02 L876.033 1535.95 L846.358 1535.95 L846.358 1532.02 Z\" fill=\"#000000\" fill-rule=\"evenodd\" fill-opacity=\"1\" /><path clip-path=\"url(#clip470)\" d=\"M890.154 1544.91 L906.473 1544.91 L906.473 1548.85 L884.529 1548.85 L884.529 1544.91 Q887.191 1542.16 891.774 1537.53 Q896.381 1532.88 897.561 1531.53 Q899.806 1529.01 900.686 1527.27 Q901.589 1525.51 901.589 1523.82 Q901.589 1521.07 899.644 1519.33 Q897.723 1517.6 894.621 1517.6 Q892.422 1517.6 889.969 1518.36 Q887.538 1519.13 884.76 1520.68 L884.76 1515.95 Q887.584 1514.82 890.038 1514.24 Q892.492 1513.66 894.529 1513.66 Q899.899 1513.66 903.093 1516.35 Q906.288 1519.03 906.288 1523.52 Q906.288 1525.65 905.478 1527.57 Q904.691 1529.47 902.584 1532.07 Q902.005 1532.74 898.904 1535.95 Q895.802 1539.15 890.154 1544.91 Z\" fill=\"#000000\" fill-rule=\"evenodd\" fill-opacity=\"1\" /><path clip-path=\"url(#clip470)\" d=\"M1280.89 1517.37 Q1277.28 1517.37 1275.45 1520.93 Q1273.65 1524.47 1273.65 1531.6 Q1273.65 1538.71 1275.45 1542.27 Q1277.28 1545.82 1280.89 1545.82 Q1284.53 1545.82 1286.33 1542.27 Q1288.16 1538.71 1288.16 1531.6 Q1288.16 1524.47 1286.33 1520.93 Q1284.53 1517.37 1280.89 1517.37 M1280.89 1513.66 Q1286.7 1513.66 1289.76 1518.27 Q1292.84 1522.85 1292.84 1531.6 Q1292.84 1540.33 1289.76 1544.94 Q1286.7 1549.52 1280.89 1549.52 Q1275.08 1549.52 1272 1544.94 Q1268.95 1540.33 1268.95 1531.6 Q1268.95 1522.85 1272 1518.27 Q1275.08 1513.66 1280.89 1513.66 Z\" fill=\"#000000\" fill-rule=\"evenodd\" fill-opacity=\"1\" /><path clip-path=\"url(#clip470)\" d=\"M1680.02 1544.91 L1696.34 1544.91 L1696.34 1548.85 L1674.4 1548.85 L1674.4 1544.91 Q1677.06 1542.16 1681.64 1537.53 Q1686.25 1532.88 1687.43 1531.53 Q1689.67 1529.01 1690.55 1527.27 Q1691.46 1525.51 1691.46 1523.82 Q1691.46 1521.07 1689.51 1519.33 Q1687.59 1517.6 1684.49 1517.6 Q1682.29 1517.6 1679.84 1518.36 Q1677.41 1519.13 1674.63 1520.68 L1674.63 1515.95 Q1677.45 1514.82 1679.91 1514.24 Q1682.36 1513.66 1684.4 1513.66 Q1689.77 1513.66 1692.96 1516.35 Q1696.16 1519.03 1696.16 1523.52 Q1696.16 1525.65 1695.35 1527.57 Q1694.56 1529.47 1692.45 1532.07 Q1691.87 1532.74 1688.77 1535.95 Q1685.67 1539.15 1680.02 1544.91 Z\" fill=\"#000000\" fill-rule=\"evenodd\" fill-opacity=\"1\" /><path clip-path=\"url(#clip470)\" d=\"M2092.86 1518.36 L2081.05 1536.81 L2092.86 1536.81 L2092.86 1518.36 M2091.63 1514.29 L2097.51 1514.29 L2097.51 1536.81 L2102.44 1536.81 L2102.44 1540.7 L2097.51 1540.7 L2097.51 1548.85 L2092.86 1548.85 L2092.86 1540.7 L2077.25 1540.7 L2077.25 1536.19 L2091.63 1514.29 Z\" fill=\"#000000\" fill-rule=\"evenodd\" fill-opacity=\"1\" /><polyline clip-path=\"url(#clip472)\" style=\"stroke:#000000; stroke-linecap:butt; stroke-linejoin:round; stroke-width:2; stroke-opacity:0.1; fill:none\" points=\"\n",
       "  209.029,1479.73 2352.76,1479.73 \n",
       "  \"/>\n",
       "<polyline clip-path=\"url(#clip472)\" style=\"stroke:#000000; stroke-linecap:butt; stroke-linejoin:round; stroke-width:2; stroke-opacity:0.1; fill:none\" points=\"\n",
       "  209.029,1200.9 2352.76,1200.9 \n",
       "  \"/>\n",
       "<polyline clip-path=\"url(#clip472)\" style=\"stroke:#000000; stroke-linecap:butt; stroke-linejoin:round; stroke-width:2; stroke-opacity:0.1; fill:none\" points=\"\n",
       "  209.029,922.068 2352.76,922.068 \n",
       "  \"/>\n",
       "<polyline clip-path=\"url(#clip472)\" style=\"stroke:#000000; stroke-linecap:butt; stroke-linejoin:round; stroke-width:2; stroke-opacity:0.1; fill:none\" points=\"\n",
       "  209.029,643.236 2352.76,643.236 \n",
       "  \"/>\n",
       "<polyline clip-path=\"url(#clip472)\" style=\"stroke:#000000; stroke-linecap:butt; stroke-linejoin:round; stroke-width:2; stroke-opacity:0.1; fill:none\" points=\"\n",
       "  209.029,364.403 2352.76,364.403 \n",
       "  \"/>\n",
       "<polyline clip-path=\"url(#clip472)\" style=\"stroke:#000000; stroke-linecap:butt; stroke-linejoin:round; stroke-width:2; stroke-opacity:0.1; fill:none\" points=\"\n",
       "  209.029,85.571 2352.76,85.571 \n",
       "  \"/>\n",
       "<polyline clip-path=\"url(#clip470)\" style=\"stroke:#000000; stroke-linecap:butt; stroke-linejoin:round; stroke-width:4; stroke-opacity:1; fill:none\" points=\"\n",
       "  209.029,1486.45 209.029,47.2441 \n",
       "  \"/>\n",
       "<polyline clip-path=\"url(#clip470)\" style=\"stroke:#000000; stroke-linecap:butt; stroke-linejoin:round; stroke-width:4; stroke-opacity:1; fill:none\" points=\"\n",
       "  209.029,1479.73 227.926,1479.73 \n",
       "  \"/>\n",
       "<polyline clip-path=\"url(#clip470)\" style=\"stroke:#000000; stroke-linecap:butt; stroke-linejoin:round; stroke-width:4; stroke-opacity:1; fill:none\" points=\"\n",
       "  209.029,1200.9 227.926,1200.9 \n",
       "  \"/>\n",
       "<polyline clip-path=\"url(#clip470)\" style=\"stroke:#000000; stroke-linecap:butt; stroke-linejoin:round; stroke-width:4; stroke-opacity:1; fill:none\" points=\"\n",
       "  209.029,922.068 227.926,922.068 \n",
       "  \"/>\n",
       "<polyline clip-path=\"url(#clip470)\" style=\"stroke:#000000; stroke-linecap:butt; stroke-linejoin:round; stroke-width:4; stroke-opacity:1; fill:none\" points=\"\n",
       "  209.029,643.236 227.926,643.236 \n",
       "  \"/>\n",
       "<polyline clip-path=\"url(#clip470)\" style=\"stroke:#000000; stroke-linecap:butt; stroke-linejoin:round; stroke-width:4; stroke-opacity:1; fill:none\" points=\"\n",
       "  209.029,364.403 227.926,364.403 \n",
       "  \"/>\n",
       "<polyline clip-path=\"url(#clip470)\" style=\"stroke:#000000; stroke-linecap:butt; stroke-linejoin:round; stroke-width:4; stroke-opacity:1; fill:none\" points=\"\n",
       "  209.029,85.571 227.926,85.571 \n",
       "  \"/>\n",
       "<path clip-path=\"url(#clip470)\" d=\"M50.9921 1480.18 L80.6679 1480.18 L80.6679 1484.12 L50.9921 1484.12 L50.9921 1480.18 Z\" fill=\"#000000\" fill-rule=\"evenodd\" fill-opacity=\"1\" /><path clip-path=\"url(#clip470)\" d=\"M90.8067 1462.45 L109.163 1462.45 L109.163 1466.39 L95.0891 1466.39 L95.0891 1474.86 Q96.1076 1474.51 97.1261 1474.35 Q98.1447 1474.17 99.1632 1474.17 Q104.95 1474.17 108.33 1477.34 Q111.709 1480.51 111.709 1485.93 Q111.709 1491.5 108.237 1494.61 Q104.765 1497.68 98.4456 1497.68 Q96.2697 1497.68 94.0012 1497.31 Q91.7558 1496.94 89.3484 1496.2 L89.3484 1491.5 Q91.4317 1492.64 93.6539 1493.19 Q95.8761 1493.75 98.353 1493.75 Q102.358 1493.75 104.696 1491.64 Q107.033 1489.54 107.033 1485.93 Q107.033 1482.31 104.696 1480.21 Q102.358 1478.1 98.353 1478.1 Q96.478 1478.1 94.603 1478.52 Q92.7512 1478.93 90.8067 1479.81 L90.8067 1462.45 Z\" fill=\"#000000\" fill-rule=\"evenodd\" fill-opacity=\"1\" /><path clip-path=\"url(#clip470)\" d=\"M130.922 1465.53 Q127.311 1465.53 125.482 1469.1 Q123.677 1472.64 123.677 1479.77 Q123.677 1486.87 125.482 1490.44 Q127.311 1493.98 130.922 1493.98 Q134.556 1493.98 136.362 1490.44 Q138.191 1486.87 138.191 1479.77 Q138.191 1472.64 136.362 1469.1 Q134.556 1465.53 130.922 1465.53 M130.922 1461.83 Q136.732 1461.83 139.788 1466.43 Q142.867 1471.02 142.867 1479.77 Q142.867 1488.49 139.788 1493.1 Q136.732 1497.68 130.922 1497.68 Q125.112 1497.68 122.033 1493.1 Q118.978 1488.49 118.978 1479.77 Q118.978 1471.02 122.033 1466.43 Q125.112 1461.83 130.922 1461.83 Z\" fill=\"#000000\" fill-rule=\"evenodd\" fill-opacity=\"1\" /><path clip-path=\"url(#clip470)\" d=\"M161.084 1465.53 Q157.473 1465.53 155.644 1469.1 Q153.839 1472.64 153.839 1479.77 Q153.839 1486.87 155.644 1490.44 Q157.473 1493.98 161.084 1493.98 Q164.718 1493.98 166.524 1490.44 Q168.353 1486.87 168.353 1479.77 Q168.353 1472.64 166.524 1469.1 Q164.718 1465.53 161.084 1465.53 M161.084 1461.83 Q166.894 1461.83 169.95 1466.43 Q173.029 1471.02 173.029 1479.77 Q173.029 1488.49 169.95 1493.1 Q166.894 1497.68 161.084 1497.68 Q155.274 1497.68 152.195 1493.1 Q149.14 1488.49 149.14 1479.77 Q149.14 1471.02 152.195 1466.43 Q155.274 1461.83 161.084 1461.83 Z\" fill=\"#000000\" fill-rule=\"evenodd\" fill-opacity=\"1\" /><path clip-path=\"url(#clip470)\" d=\"M161.084 1186.7 Q157.473 1186.7 155.644 1190.26 Q153.839 1193.81 153.839 1200.94 Q153.839 1208.04 155.644 1211.61 Q157.473 1215.15 161.084 1215.15 Q164.718 1215.15 166.524 1211.61 Q168.353 1208.04 168.353 1200.94 Q168.353 1193.81 166.524 1190.26 Q164.718 1186.7 161.084 1186.7 M161.084 1183 Q166.894 1183 169.95 1187.6 Q173.029 1192.19 173.029 1200.94 Q173.029 1209.66 169.95 1214.27 Q166.894 1218.85 161.084 1218.85 Q155.274 1218.85 152.195 1214.27 Q149.14 1209.66 149.14 1200.94 Q149.14 1192.19 152.195 1187.6 Q155.274 1183 161.084 1183 Z\" fill=\"#000000\" fill-rule=\"evenodd\" fill-opacity=\"1\" /><path clip-path=\"url(#clip470)\" d=\"M90.8067 904.788 L109.163 904.788 L109.163 908.724 L95.0891 908.724 L95.0891 917.196 Q96.1076 916.848 97.1261 916.686 Q98.1447 916.501 99.1632 916.501 Q104.95 916.501 108.33 919.673 Q111.709 922.844 111.709 928.26 Q111.709 933.839 108.237 936.941 Q104.765 940.02 98.4456 940.02 Q96.2697 940.02 94.0012 939.649 Q91.7558 939.279 89.3484 938.538 L89.3484 933.839 Q91.4317 934.973 93.6539 935.529 Q95.8761 936.084 98.353 936.084 Q102.358 936.084 104.696 933.978 Q107.033 931.872 107.033 928.26 Q107.033 924.649 104.696 922.543 Q102.358 920.436 98.353 920.436 Q96.478 920.436 94.603 920.853 Q92.7512 921.27 90.8067 922.149 L90.8067 904.788 Z\" fill=\"#000000\" fill-rule=\"evenodd\" fill-opacity=\"1\" /><path clip-path=\"url(#clip470)\" d=\"M130.922 907.867 Q127.311 907.867 125.482 911.432 Q123.677 914.973 123.677 922.103 Q123.677 929.21 125.482 932.774 Q127.311 936.316 130.922 936.316 Q134.556 936.316 136.362 932.774 Q138.191 929.21 138.191 922.103 Q138.191 914.973 136.362 911.432 Q134.556 907.867 130.922 907.867 M130.922 904.163 Q136.732 904.163 139.788 908.77 Q142.867 913.353 142.867 922.103 Q142.867 930.83 139.788 935.436 Q136.732 940.02 130.922 940.02 Q125.112 940.02 122.033 935.436 Q118.978 930.83 118.978 922.103 Q118.978 913.353 122.033 908.77 Q125.112 904.163 130.922 904.163 Z\" fill=\"#000000\" fill-rule=\"evenodd\" fill-opacity=\"1\" /><path clip-path=\"url(#clip470)\" d=\"M161.084 907.867 Q157.473 907.867 155.644 911.432 Q153.839 914.973 153.839 922.103 Q153.839 929.21 155.644 932.774 Q157.473 936.316 161.084 936.316 Q164.718 936.316 166.524 932.774 Q168.353 929.21 168.353 922.103 Q168.353 914.973 166.524 911.432 Q164.718 907.867 161.084 907.867 M161.084 904.163 Q166.894 904.163 169.95 908.77 Q173.029 913.353 173.029 922.103 Q173.029 930.83 169.95 935.436 Q166.894 940.02 161.084 940.02 Q155.274 940.02 152.195 935.436 Q149.14 930.83 149.14 922.103 Q149.14 913.353 152.195 908.77 Q155.274 904.163 161.084 904.163 Z\" fill=\"#000000\" fill-rule=\"evenodd\" fill-opacity=\"1\" /><path clip-path=\"url(#clip470)\" d=\"M61.4087 656.581 L69.0476 656.581 L69.0476 630.215 L60.7374 631.882 L60.7374 627.623 L69.0013 625.956 L73.6772 625.956 L73.6772 656.581 L81.316 656.581 L81.316 660.516 L61.4087 660.516 L61.4087 656.581 Z\" fill=\"#000000\" fill-rule=\"evenodd\" fill-opacity=\"1\" /><path clip-path=\"url(#clip470)\" d=\"M100.76 629.035 Q97.1493 629.035 95.3206 632.599 Q93.515 636.141 93.515 643.271 Q93.515 650.377 95.3206 653.942 Q97.1493 657.484 100.76 657.484 Q104.395 657.484 106.2 653.942 Q108.029 650.377 108.029 643.271 Q108.029 636.141 106.2 632.599 Q104.395 629.035 100.76 629.035 M100.76 625.331 Q106.571 625.331 109.626 629.937 Q112.705 634.521 112.705 643.271 Q112.705 651.997 109.626 656.604 Q106.571 661.187 100.76 661.187 Q94.9502 661.187 91.8715 656.604 Q88.816 651.997 88.816 643.271 Q88.816 634.521 91.8715 629.937 Q94.9502 625.331 100.76 625.331 Z\" fill=\"#000000\" fill-rule=\"evenodd\" fill-opacity=\"1\" /><path clip-path=\"url(#clip470)\" d=\"M130.922 629.035 Q127.311 629.035 125.482 632.599 Q123.677 636.141 123.677 643.271 Q123.677 650.377 125.482 653.942 Q127.311 657.484 130.922 657.484 Q134.556 657.484 136.362 653.942 Q138.191 650.377 138.191 643.271 Q138.191 636.141 136.362 632.599 Q134.556 629.035 130.922 629.035 M130.922 625.331 Q136.732 625.331 139.788 629.937 Q142.867 634.521 142.867 643.271 Q142.867 651.997 139.788 656.604 Q136.732 661.187 130.922 661.187 Q125.112 661.187 122.033 656.604 Q118.978 651.997 118.978 643.271 Q118.978 634.521 122.033 629.937 Q125.112 625.331 130.922 625.331 Z\" fill=\"#000000\" fill-rule=\"evenodd\" fill-opacity=\"1\" /><path clip-path=\"url(#clip470)\" d=\"M161.084 629.035 Q157.473 629.035 155.644 632.599 Q153.839 636.141 153.839 643.271 Q153.839 650.377 155.644 653.942 Q157.473 657.484 161.084 657.484 Q164.718 657.484 166.524 653.942 Q168.353 650.377 168.353 643.271 Q168.353 636.141 166.524 632.599 Q164.718 629.035 161.084 629.035 M161.084 625.331 Q166.894 625.331 169.95 629.937 Q173.029 634.521 173.029 643.271 Q173.029 651.997 169.95 656.604 Q166.894 661.187 161.084 661.187 Q155.274 661.187 152.195 656.604 Q149.14 651.997 149.14 643.271 Q149.14 634.521 152.195 629.937 Q155.274 625.331 161.084 625.331 Z\" fill=\"#000000\" fill-rule=\"evenodd\" fill-opacity=\"1\" /><path clip-path=\"url(#clip470)\" d=\"M61.4087 377.748 L69.0476 377.748 L69.0476 351.383 L60.7374 353.049 L60.7374 348.79 L69.0013 347.123 L73.6772 347.123 L73.6772 377.748 L81.316 377.748 L81.316 381.683 L61.4087 381.683 L61.4087 377.748 Z\" fill=\"#000000\" fill-rule=\"evenodd\" fill-opacity=\"1\" /><path clip-path=\"url(#clip470)\" d=\"M90.8067 347.123 L109.163 347.123 L109.163 351.059 L95.0891 351.059 L95.0891 359.531 Q96.1076 359.184 97.1261 359.022 Q98.1447 358.836 99.1632 358.836 Q104.95 358.836 108.33 362.008 Q111.709 365.179 111.709 370.596 Q111.709 376.174 108.237 379.276 Q104.765 382.355 98.4456 382.355 Q96.2697 382.355 94.0012 381.984 Q91.7558 381.614 89.3484 380.873 L89.3484 376.174 Q91.4317 377.309 93.6539 377.864 Q95.8761 378.42 98.353 378.42 Q102.358 378.42 104.696 376.313 Q107.033 374.207 107.033 370.596 Q107.033 366.984 104.696 364.878 Q102.358 362.772 98.353 362.772 Q96.478 362.772 94.603 363.188 Q92.7512 363.605 90.8067 364.484 L90.8067 347.123 Z\" fill=\"#000000\" fill-rule=\"evenodd\" fill-opacity=\"1\" /><path clip-path=\"url(#clip470)\" d=\"M130.922 350.202 Q127.311 350.202 125.482 353.767 Q123.677 357.309 123.677 364.438 Q123.677 371.545 125.482 375.109 Q127.311 378.651 130.922 378.651 Q134.556 378.651 136.362 375.109 Q138.191 371.545 138.191 364.438 Q138.191 357.309 136.362 353.767 Q134.556 350.202 130.922 350.202 M130.922 346.498 Q136.732 346.498 139.788 351.105 Q142.867 355.688 142.867 364.438 Q142.867 373.165 139.788 377.771 Q136.732 382.355 130.922 382.355 Q125.112 382.355 122.033 377.771 Q118.978 373.165 118.978 364.438 Q118.978 355.688 122.033 351.105 Q125.112 346.498 130.922 346.498 Z\" fill=\"#000000\" fill-rule=\"evenodd\" fill-opacity=\"1\" /><path clip-path=\"url(#clip470)\" d=\"M161.084 350.202 Q157.473 350.202 155.644 353.767 Q153.839 357.309 153.839 364.438 Q153.839 371.545 155.644 375.109 Q157.473 378.651 161.084 378.651 Q164.718 378.651 166.524 375.109 Q168.353 371.545 168.353 364.438 Q168.353 357.309 166.524 353.767 Q164.718 350.202 161.084 350.202 M161.084 346.498 Q166.894 346.498 169.95 351.105 Q173.029 355.688 173.029 364.438 Q173.029 373.165 169.95 377.771 Q166.894 382.355 161.084 382.355 Q155.274 382.355 152.195 377.771 Q149.14 373.165 149.14 364.438 Q149.14 355.688 152.195 351.105 Q155.274 346.498 161.084 346.498 Z\" fill=\"#000000\" fill-rule=\"evenodd\" fill-opacity=\"1\" /><path clip-path=\"url(#clip470)\" d=\"M64.6263 98.9159 L80.9457 98.9159 L80.9457 102.851 L59.0013 102.851 L59.0013 98.9159 Q61.6634 96.1613 66.2467 91.5317 Q70.8531 86.8789 72.0337 85.5363 Q74.279 83.0132 75.1587 81.2771 Q76.0614 79.5178 76.0614 77.828 Q76.0614 75.0734 74.117 73.3373 Q72.1957 71.6012 69.0939 71.6012 Q66.8948 71.6012 64.4411 72.3651 Q62.0106 73.129 59.2328 74.6799 L59.2328 69.9577 Q62.0569 68.8235 64.5106 68.2448 Q66.9643 67.6661 69.0013 67.6661 Q74.3716 67.6661 77.5661 70.3512 Q80.7605 73.0364 80.7605 77.5271 Q80.7605 79.6567 79.9503 81.578 Q79.1633 83.4762 77.0568 86.0687 Q76.4781 86.74 73.3763 89.9576 Q70.2744 93.152 64.6263 98.9159 Z\" fill=\"#000000\" fill-rule=\"evenodd\" fill-opacity=\"1\" /><path clip-path=\"url(#clip470)\" d=\"M100.76 71.3697 Q97.1493 71.3697 95.3206 74.9345 Q93.515 78.4762 93.515 85.6058 Q93.515 92.7122 95.3206 96.277 Q97.1493 99.8187 100.76 99.8187 Q104.395 99.8187 106.2 96.277 Q108.029 92.7122 108.029 85.6058 Q108.029 78.4762 106.2 74.9345 Q104.395 71.3697 100.76 71.3697 M100.76 67.6661 Q106.571 67.6661 109.626 72.2725 Q112.705 76.8558 112.705 85.6058 Q112.705 94.3326 109.626 98.939 Q106.571 103.522 100.76 103.522 Q94.9502 103.522 91.8715 98.939 Q88.816 94.3326 88.816 85.6058 Q88.816 76.8558 91.8715 72.2725 Q94.9502 67.6661 100.76 67.6661 Z\" fill=\"#000000\" fill-rule=\"evenodd\" fill-opacity=\"1\" /><path clip-path=\"url(#clip470)\" d=\"M130.922 71.3697 Q127.311 71.3697 125.482 74.9345 Q123.677 78.4762 123.677 85.6058 Q123.677 92.7122 125.482 96.277 Q127.311 99.8187 130.922 99.8187 Q134.556 99.8187 136.362 96.277 Q138.191 92.7122 138.191 85.6058 Q138.191 78.4762 136.362 74.9345 Q134.556 71.3697 130.922 71.3697 M130.922 67.6661 Q136.732 67.6661 139.788 72.2725 Q142.867 76.8558 142.867 85.6058 Q142.867 94.3326 139.788 98.939 Q136.732 103.522 130.922 103.522 Q125.112 103.522 122.033 98.939 Q118.978 94.3326 118.978 85.6058 Q118.978 76.8558 122.033 72.2725 Q125.112 67.6661 130.922 67.6661 Z\" fill=\"#000000\" fill-rule=\"evenodd\" fill-opacity=\"1\" /><path clip-path=\"url(#clip470)\" d=\"M161.084 71.3697 Q157.473 71.3697 155.644 74.9345 Q153.839 78.4762 153.839 85.6058 Q153.839 92.7122 155.644 96.277 Q157.473 99.8187 161.084 99.8187 Q164.718 99.8187 166.524 96.277 Q168.353 92.7122 168.353 85.6058 Q168.353 78.4762 166.524 74.9345 Q164.718 71.3697 161.084 71.3697 M161.084 67.6661 Q166.894 67.6661 169.95 72.2725 Q173.029 76.8558 173.029 85.6058 Q173.029 94.3326 169.95 98.939 Q166.894 103.522 161.084 103.522 Q155.274 103.522 152.195 98.939 Q149.14 94.3326 149.14 85.6058 Q149.14 76.8558 152.195 72.2725 Q155.274 67.6661 161.084 67.6661 Z\" fill=\"#000000\" fill-rule=\"evenodd\" fill-opacity=\"1\" /><polyline clip-path=\"url(#clip472)\" style=\"stroke:#009af9; stroke-linecap:butt; stroke-linejoin:round; stroke-width:4; stroke-opacity:1; fill:none\" points=\"\n",
       "  269.7,1201.01 282.867,1201.01 404.613,1201.03 477.778,1201.04 539.637,1201.05 606.834,1201.07 668.784,1201.09 735.2,1201.11 812.15,1201.14 880.534,1201.18 \n",
       "  940.501,1201.23 1005.88,1201.31 1071.65,1201.44 1089.83,1201.49 1108.01,1201.55 1126.19,1201.63 1144.36,1201.73 1161.66,1201.85 1178.96,1202.01 1187.61,1202.11 \n",
       "  1196.25,1202.23 1204.9,1202.38 1213.55,1202.58 1222.54,1202.83 1231.54,1203.19 1236.03,1203.41 1240.53,1203.69 1245.02,1204.05 1249.52,1204.5 1254.02,1205.1 \n",
       "  1258.51,1205.94 1263.01,1207.21 1267.51,1209.33 1269.75,1211.03 1272,1213.59 1273.13,1215.42 1274.25,1217.88 1275.37,1221.34 1276.5,1226.56 1277.06,1230.33 \n",
       "  1277.62,1235.38 1278.18,1242.54 1278.75,1253.44 1279.31,1272.07 1279.87,1311.18 1280.43,1445.72 1280.99,87.9763 1281.56,1030.88 1282.12,1108.86 1282.68,1137.8 \n",
       "  1283.24,1152.9 1283.8,1162.16 1284.37,1168.43 1284.93,1172.95 1285.49,1176.37 1286.44,1180.56 1287.38,1183.52 1288.33,1185.73 1289.27,1187.45 1291.17,1189.92 \n",
       "  1293.06,1191.63 1296.84,1193.83 1300.63,1195.19 1304.41,1196.11 1308.2,1196.77 1311.98,1197.27 1315.77,1197.67 1319.55,1197.98 1323.34,1198.24 1327.12,1198.46 \n",
       "  1330.91,1198.65 1338.48,1198.94 1346.05,1199.17 1355.29,1199.38 1364.53,1199.55 1373.77,1199.69 1383.01,1199.8 1401.5,1199.97 1419.98,1200.09 1453.84,1200.25 \n",
       "  1487.71,1200.36 1550.26,1200.48 1613.62,1200.56 1684.63,1200.62 1748.98,1200.66 1822.65,1200.69 1890.87,1200.72 1958.12,1200.73 2023.42,1200.75 2090.36,1200.76 \n",
       "  2163.69,1200.77 2270.23,1200.79 2292.08,1200.79 \n",
       "  \"/>\n",
       "<path clip-path=\"url(#clip470)\" d=\"\n",
       "M1990.68 198.898 L2281.3 198.898 L2281.3 95.2176 L1990.68 95.2176  Z\n",
       "  \" fill=\"#ffffff\" fill-rule=\"evenodd\" fill-opacity=\"1\"/>\n",
       "<polyline clip-path=\"url(#clip470)\" style=\"stroke:#000000; stroke-linecap:butt; stroke-linejoin:round; stroke-width:4; stroke-opacity:1; fill:none\" points=\"\n",
       "  1990.68,198.898 2281.3,198.898 2281.3,95.2176 1990.68,95.2176 1990.68,198.898 \n",
       "  \"/>\n",
       "<polyline clip-path=\"url(#clip470)\" style=\"stroke:#009af9; stroke-linecap:butt; stroke-linejoin:round; stroke-width:4; stroke-opacity:1; fill:none\" points=\"\n",
       "  2014.5,147.058 2157.41,147.058 \n",
       "  \"/>\n",
       "<path clip-path=\"url(#clip470)\" d=\"M2195.07 166.745 Q2193.27 171.375 2191.55 172.787 Q2189.84 174.199 2186.97 174.199 L2183.57 174.199 L2183.57 170.634 L2186.07 170.634 Q2187.83 170.634 2188.8 169.8 Q2189.77 168.967 2190.95 165.865 L2191.72 163.921 L2181.23 138.412 L2185.74 138.412 L2193.85 158.689 L2201.95 138.412 L2206.46 138.412 L2195.07 166.745 Z\" fill=\"#000000\" fill-rule=\"evenodd\" fill-opacity=\"1\" /><path clip-path=\"url(#clip470)\" d=\"M2213.75 160.402 L2221.39 160.402 L2221.39 134.037 L2213.08 135.703 L2213.08 131.444 L2221.35 129.778 L2226.02 129.778 L2226.02 160.402 L2233.66 160.402 L2233.66 164.338 L2213.75 164.338 L2213.75 160.402 Z\" fill=\"#000000\" fill-rule=\"evenodd\" fill-opacity=\"1\" /></svg>\n"
      ]
     },
     "execution_count": 22,
     "metadata": {},
     "output_type": "execute_result"
    }
   ],
   "source": [
    "plot(x -> 1/x)"
   ]
  },
  {
   "cell_type": "code",
   "execution_count": 23,
   "metadata": {},
   "outputs": [
    {
     "data": {
      "text/plain": [
       "Results of univariate zero finding:\n",
       "\n",
       "* Converged to: 0.0\n",
       "* Algorithm: Bisection()\n",
       "* iterations: 61\n",
       "* function evaluations ≈ 64\n",
       "* stopped as x_n ≈ x_{n-1} using atol=xatol, rtol=xrtol\n",
       "\n",
       "Trace:\n",
       "(a₀, b₀) = ( -1, 0 )\n",
       "(a₁, b₁) = ( -1.118751109680031e-154, 0 )\n",
       "(a₂, b₂) = ( -1.1272010346794983e-231, 0 )\n",
       "(a₃, b₃) = ( -3.5491565585003241e-270, 0 )\n",
       "(a₄, b₄) = ( -1.988135013128901e-289, 0 )\n",
       "(a₅, b₅) = ( -4.7036486372562232e-299, 0 )\n",
       "(a₆, b₆) = ( -7.2341601287786131e-304, 0 )\n",
       "(a₇, b₇) = ( -2.8369691695966818e-306, 0 )\n",
       "(a₈, b₈) = ( -1.7765824089018436e-307, 0 )\n",
       "(a₉, b₉) = ( -4.4458018696345059e-308, 0 )\n",
       "(a₁₀, b₁₀) = ( -2.2229009348172529e-308, 0 )\n",
       "(a₁₁, b₁₁) = ( -1.1114504674086265e-308, 0 )\n",
       "(a₁₂, b₁₂) = ( -5.5572523370431324e-309, 0 )\n",
       "(a₁₃, b₁₃) = ( -2.7786261685215662e-309, 0 )\n",
       "(a₁₄, b₁₄) = ( -1.3893130842607831e-309, 0 )\n",
       "(a₁₅, b₁₅) = ( -6.9465654213039155e-310, 0 )\n",
       "(a₁₆, b₁₆) = ( -3.4732827106519577e-310, 0 )\n",
       "(a₁₇, b₁₇) = ( -1.7366413553259789e-310, 0 )\n",
       "(a₁₈, b₁₈) = ( -8.6832067766298943e-311, 0 )\n",
       "(a₁₉, b₁₉) = ( -4.3416033883149472e-311, 0 )\n",
       "(a₂₀, b₂₀) = ( -2.1708016941574736e-311, 0 )\n",
       "(a₂₁, b₂₁) = ( -1.0854008470787368e-311, 0 )\n",
       "(a₂₂, b₂₂) = ( -5.4270042353936839e-312, 0 )\n",
       "(a₂₃, b₂₃) = ( -2.713502117696842e-312, 0 )\n",
       "(a₂₄, b₂₄) = ( -1.356751058848421e-312, 0 )\n",
       "(a₂₅, b₂₅) = ( -6.7837552942421049e-313, 0 )\n",
       "(a₂₆, b₂₆) = ( -3.3918776471210525e-313, 0 )\n",
       "(a₂₇, b₂₇) = ( -1.6959388235605262e-313, 0 )\n",
       "(a₂₈, b₂₈) = ( -8.4796941178026312e-314, 0 )\n",
       "(a₂₉, b₂₉) = ( -4.2398470589013156e-314, 0 )\n",
       "(a₃₀, b₃₀) = ( -2.1199235294506578e-314, 0 )\n",
       "(a₃₁, b₃₁) = ( -1.0599617647253289e-314, 0 )\n",
       "(a₃₂, b₃₂) = ( -5.2998088236266445e-315, 0 )\n",
       "(a₃₃, b₃₃) = ( -2.6499044118133222e-315, 0 )\n",
       "(a₃₄, b₃₄) = ( -1.3249522059066611e-315, 0 )\n",
       "(a₃₅, b₃₅) = ( -6.6247610295333056e-316, 0 )\n",
       "(a₃₆, b₃₆) = ( -3.3123805147666528e-316, 0 )\n",
       "(a₃₇, b₃₇) = ( -1.6561902573833264e-316, 0 )\n",
       "(a₃₈, b₃₈) = ( -8.280951286916632e-317, 0 )\n",
       "(a₃₉, b₃₉) = ( -4.140475643458316e-317, 0 )\n",
       "(a₄₀, b₄₀) = ( -2.070237821729158e-317, 0 )\n",
       "(a₄₁, b₄₁) = ( -1.035118910864579e-317, 0 )\n",
       "(a₄₂, b₄₂) = ( -5.175594554322895e-318, 0 )\n",
       "(a₄₃, b₄₃) = ( -2.5877972771614475e-318, 0 )\n",
       "(a₄₄, b₄₄) = ( -1.2938986385807237e-318, 0 )\n",
       "(a₄₅, b₄₅) = ( -6.4694931929036187e-319, 0 )\n",
       "(a₄₆, b₄₆) = ( -3.2347465964518094e-319, 0 )\n",
       "(a₄₇, b₄₇) = ( -1.6173732982259047e-319, 0 )\n",
       "(a₄₈, b₄₈) = ( -8.0868664911295234e-320, 0 )\n",
       "(a₄₉, b₄₉) = ( -4.0434332455647617e-320, 0 )\n",
       "(a₅₀, b₅₀) = ( -2.0217166227823809e-320, 0 )\n",
       "(a₅₁, b₅₁) = ( -1.0108583113911904e-320, 0 )\n",
       "(a₅₂, b₅₂) = ( -5.0542915569559521e-321, 0 )\n",
       "(a₅₃, b₅₃) = ( -2.5246754502487698e-321, 0 )\n",
       "(a₅₄, b₅₄) = ( -1.2598673968951787e-321, 0 )\n",
       "(a₅₅, b₅₅) = ( -6.2746337021838311e-322, 0 )\n",
       "(a₅₆, b₅₆) = ( -3.1126135687998532e-322, 0 )\n",
       "(a₅₇, b₅₇) = ( -1.5316035021078643e-322, 0 )\n",
       "(a₅₈, b₅₈) = ( -7.4109846876186982e-323, 0 )\n",
       "(a₅₉, b₅₉) = ( -3.4584595208887258e-323, 0 )\n",
       "(a₆₀, b₆₀) = ( -1.4821969375237396e-323, 0 )\n",
       "(a₆₁, b₆₁) = ( -4.9406564584124654e-324, 0 )\n",
       "\n"
      ]
     },
     "metadata": {},
     "output_type": "display_data"
    },
    {
     "data": {
      "text/plain": [
       "0.0"
      ]
     },
     "execution_count": 23,
     "metadata": {},
     "output_type": "execute_result"
    }
   ],
   "source": [
    "find_zero(x -> 1/x, (-1, 1), verbose=true)"
   ]
  },
  {
   "cell_type": "markdown",
   "metadata": {},
   "source": [
    "find_zeros - szukanie więcej niż jednego pierwiastka. Wykorzystuje podział przedziału na mniejsze podprzedziały"
   ]
  },
  {
   "cell_type": "code",
   "execution_count": 24,
   "metadata": {},
   "outputs": [
    {
     "data": {
      "text/plain": [
       "2-element Vector{Float64}:\n",
       " 0.0\n",
       " 3.0"
      ]
     },
     "execution_count": 24,
     "metadata": {},
     "output_type": "execute_result"
    }
   ],
   "source": [
    "find_zeros(x ->(x-3)*x, -10, 10)"
   ]
  },
  {
   "cell_type": "code",
   "execution_count": 25,
   "metadata": {
    "scrolled": true
   },
   "outputs": [
    {
     "data": {
      "image/svg+xml": [
       "<?xml version=\"1.0\" encoding=\"utf-8\"?>\n",
       "<svg xmlns=\"http://www.w3.org/2000/svg\" xmlns:xlink=\"http://www.w3.org/1999/xlink\" width=\"600\" height=\"400\" viewBox=\"0 0 2400 1600\">\n",
       "<defs>\n",
       "  <clipPath id=\"clip510\">\n",
       "    <rect x=\"0\" y=\"0\" width=\"2400\" height=\"1600\"/>\n",
       "  </clipPath>\n",
       "</defs>\n",
       "<path clip-path=\"url(#clip510)\" d=\"\n",
       "M0 1600 L2400 1600 L2400 0 L0 0  Z\n",
       "  \" fill=\"#ffffff\" fill-rule=\"evenodd\" fill-opacity=\"1\"/>\n",
       "<defs>\n",
       "  <clipPath id=\"clip511\">\n",
       "    <rect x=\"480\" y=\"0\" width=\"1681\" height=\"1600\"/>\n",
       "  </clipPath>\n",
       "</defs>\n",
       "<path clip-path=\"url(#clip510)\" d=\"\n",
       "M147.478 1486.45 L2352.76 1486.45 L2352.76 47.2441 L147.478 47.2441  Z\n",
       "  \" fill=\"#ffffff\" fill-rule=\"evenodd\" fill-opacity=\"1\"/>\n",
       "<defs>\n",
       "  <clipPath id=\"clip512\">\n",
       "    <rect x=\"147\" y=\"47\" width=\"2206\" height=\"1440\"/>\n",
       "  </clipPath>\n",
       "</defs>\n",
       "<polyline clip-path=\"url(#clip512)\" style=\"stroke:#000000; stroke-linecap:butt; stroke-linejoin:round; stroke-width:2; stroke-opacity:0.1; fill:none\" points=\"\n",
       "  209.891,1486.45 209.891,47.2441 \n",
       "  \"/>\n",
       "<polyline clip-path=\"url(#clip512)\" style=\"stroke:#000000; stroke-linecap:butt; stroke-linejoin:round; stroke-width:2; stroke-opacity:0.1; fill:none\" points=\"\n",
       "  625.982,1486.45 625.982,47.2441 \n",
       "  \"/>\n",
       "<polyline clip-path=\"url(#clip512)\" style=\"stroke:#000000; stroke-linecap:butt; stroke-linejoin:round; stroke-width:2; stroke-opacity:0.1; fill:none\" points=\"\n",
       "  1042.07,1486.45 1042.07,47.2441 \n",
       "  \"/>\n",
       "<polyline clip-path=\"url(#clip512)\" style=\"stroke:#000000; stroke-linecap:butt; stroke-linejoin:round; stroke-width:2; stroke-opacity:0.1; fill:none\" points=\"\n",
       "  1458.16,1486.45 1458.16,47.2441 \n",
       "  \"/>\n",
       "<polyline clip-path=\"url(#clip512)\" style=\"stroke:#000000; stroke-linecap:butt; stroke-linejoin:round; stroke-width:2; stroke-opacity:0.1; fill:none\" points=\"\n",
       "  1874.25,1486.45 1874.25,47.2441 \n",
       "  \"/>\n",
       "<polyline clip-path=\"url(#clip512)\" style=\"stroke:#000000; stroke-linecap:butt; stroke-linejoin:round; stroke-width:2; stroke-opacity:0.1; fill:none\" points=\"\n",
       "  2290.34,1486.45 2290.34,47.2441 \n",
       "  \"/>\n",
       "<polyline clip-path=\"url(#clip510)\" style=\"stroke:#000000; stroke-linecap:butt; stroke-linejoin:round; stroke-width:4; stroke-opacity:1; fill:none\" points=\"\n",
       "  147.478,1486.45 2352.76,1486.45 \n",
       "  \"/>\n",
       "<polyline clip-path=\"url(#clip510)\" style=\"stroke:#000000; stroke-linecap:butt; stroke-linejoin:round; stroke-width:4; stroke-opacity:1; fill:none\" points=\"\n",
       "  209.891,1486.45 209.891,1467.55 \n",
       "  \"/>\n",
       "<polyline clip-path=\"url(#clip510)\" style=\"stroke:#000000; stroke-linecap:butt; stroke-linejoin:round; stroke-width:4; stroke-opacity:1; fill:none\" points=\"\n",
       "  625.982,1486.45 625.982,1467.55 \n",
       "  \"/>\n",
       "<polyline clip-path=\"url(#clip510)\" style=\"stroke:#000000; stroke-linecap:butt; stroke-linejoin:round; stroke-width:4; stroke-opacity:1; fill:none\" points=\"\n",
       "  1042.07,1486.45 1042.07,1467.55 \n",
       "  \"/>\n",
       "<polyline clip-path=\"url(#clip510)\" style=\"stroke:#000000; stroke-linecap:butt; stroke-linejoin:round; stroke-width:4; stroke-opacity:1; fill:none\" points=\"\n",
       "  1458.16,1486.45 1458.16,1467.55 \n",
       "  \"/>\n",
       "<polyline clip-path=\"url(#clip510)\" style=\"stroke:#000000; stroke-linecap:butt; stroke-linejoin:round; stroke-width:4; stroke-opacity:1; fill:none\" points=\"\n",
       "  1874.25,1486.45 1874.25,1467.55 \n",
       "  \"/>\n",
       "<polyline clip-path=\"url(#clip510)\" style=\"stroke:#000000; stroke-linecap:butt; stroke-linejoin:round; stroke-width:4; stroke-opacity:1; fill:none\" points=\"\n",
       "  2290.34,1486.45 2290.34,1467.55 \n",
       "  \"/>\n",
       "<path clip-path=\"url(#clip510)\" d=\"M179.649 1532.02 L209.324 1532.02 L209.324 1535.95 L179.649 1535.95 L179.649 1532.02 Z\" fill=\"#000000\" fill-rule=\"evenodd\" fill-opacity=\"1\" /><path clip-path=\"url(#clip510)\" d=\"M220.227 1544.91 L227.866 1544.91 L227.866 1518.55 L219.556 1520.21 L219.556 1515.95 L227.82 1514.29 L232.495 1514.29 L232.495 1544.91 L240.134 1544.91 L240.134 1548.85 L220.227 1548.85 L220.227 1544.91 Z\" fill=\"#000000\" fill-rule=\"evenodd\" fill-opacity=\"1\" /><path clip-path=\"url(#clip510)\" d=\"M625.982 1517.37 Q622.371 1517.37 620.542 1520.93 Q618.736 1524.47 618.736 1531.6 Q618.736 1538.71 620.542 1542.27 Q622.371 1545.82 625.982 1545.82 Q629.616 1545.82 631.421 1542.27 Q633.25 1538.71 633.25 1531.6 Q633.25 1524.47 631.421 1520.93 Q629.616 1517.37 625.982 1517.37 M625.982 1513.66 Q631.792 1513.66 634.847 1518.27 Q637.926 1522.85 637.926 1531.6 Q637.926 1540.33 634.847 1544.94 Q631.792 1549.52 625.982 1549.52 Q620.171 1549.52 617.093 1544.94 Q614.037 1540.33 614.037 1531.6 Q614.037 1522.85 617.093 1518.27 Q620.171 1513.66 625.982 1513.66 Z\" fill=\"#000000\" fill-rule=\"evenodd\" fill-opacity=\"1\" /><path clip-path=\"url(#clip510)\" d=\"M1032.45 1544.91 L1040.09 1544.91 L1040.09 1518.55 L1031.78 1520.21 L1031.78 1515.95 L1040.05 1514.29 L1044.72 1514.29 L1044.72 1544.91 L1052.36 1544.91 L1052.36 1548.85 L1032.45 1548.85 L1032.45 1544.91 Z\" fill=\"#000000\" fill-rule=\"evenodd\" fill-opacity=\"1\" /><path clip-path=\"url(#clip510)\" d=\"M1452.81 1544.91 L1469.13 1544.91 L1469.13 1548.85 L1447.19 1548.85 L1447.19 1544.91 Q1449.85 1542.16 1454.44 1537.53 Q1459.04 1532.88 1460.22 1531.53 Q1462.47 1529.01 1463.35 1527.27 Q1464.25 1525.51 1464.25 1523.82 Q1464.25 1521.07 1462.31 1519.33 Q1460.38 1517.6 1457.28 1517.6 Q1455.08 1517.6 1452.63 1518.36 Q1450.2 1519.13 1447.42 1520.68 L1447.42 1515.95 Q1450.25 1514.82 1452.7 1514.24 Q1455.15 1513.66 1457.19 1513.66 Q1462.56 1513.66 1465.75 1516.35 Q1468.95 1519.03 1468.95 1523.52 Q1468.95 1525.65 1468.14 1527.57 Q1467.35 1529.47 1465.25 1532.07 Q1464.67 1532.74 1461.56 1535.95 Q1458.46 1539.15 1452.81 1544.91 Z\" fill=\"#000000\" fill-rule=\"evenodd\" fill-opacity=\"1\" /><path clip-path=\"url(#clip510)\" d=\"M1878.5 1530.21 Q1881.86 1530.93 1883.73 1533.2 Q1885.63 1535.47 1885.63 1538.8 Q1885.63 1543.92 1882.11 1546.72 Q1878.59 1549.52 1872.11 1549.52 Q1869.94 1549.52 1867.62 1549.08 Q1865.33 1548.66 1862.87 1547.81 L1862.87 1543.29 Q1864.82 1544.43 1867.13 1545.01 Q1869.45 1545.58 1871.97 1545.58 Q1876.37 1545.58 1878.66 1543.85 Q1880.98 1542.11 1880.98 1538.8 Q1880.98 1535.75 1878.82 1534.03 Q1876.69 1532.3 1872.87 1532.3 L1868.85 1532.3 L1868.85 1528.45 L1873.06 1528.45 Q1876.51 1528.45 1878.34 1527.09 Q1880.17 1525.7 1880.17 1523.11 Q1880.17 1520.45 1878.27 1519.03 Q1876.39 1517.6 1872.87 1517.6 Q1870.95 1517.6 1868.75 1518.01 Q1866.56 1518.43 1863.92 1519.31 L1863.92 1515.14 Q1866.58 1514.4 1868.89 1514.03 Q1871.23 1513.66 1873.29 1513.66 Q1878.62 1513.66 1881.72 1516.09 Q1884.82 1518.5 1884.82 1522.62 Q1884.82 1525.49 1883.18 1527.48 Q1881.53 1529.45 1878.5 1530.21 Z\" fill=\"#000000\" fill-rule=\"evenodd\" fill-opacity=\"1\" /><path clip-path=\"url(#clip510)\" d=\"M2293.35 1518.36 L2281.55 1536.81 L2293.35 1536.81 L2293.35 1518.36 M2292.12 1514.29 L2298 1514.29 L2298 1536.81 L2302.93 1536.81 L2302.93 1540.7 L2298 1540.7 L2298 1548.85 L2293.35 1548.85 L2293.35 1540.7 L2277.75 1540.7 L2277.75 1536.19 L2292.12 1514.29 Z\" fill=\"#000000\" fill-rule=\"evenodd\" fill-opacity=\"1\" /><polyline clip-path=\"url(#clip512)\" style=\"stroke:#000000; stroke-linecap:butt; stroke-linejoin:round; stroke-width:2; stroke-opacity:0.1; fill:none\" points=\"\n",
       "  147.478,1391.43 2352.76,1391.43 \n",
       "  \"/>\n",
       "<polyline clip-path=\"url(#clip512)\" style=\"stroke:#000000; stroke-linecap:butt; stroke-linejoin:round; stroke-width:2; stroke-opacity:0.1; fill:none\" points=\"\n",
       "  147.478,1174.19 2352.76,1174.19 \n",
       "  \"/>\n",
       "<polyline clip-path=\"url(#clip512)\" style=\"stroke:#000000; stroke-linecap:butt; stroke-linejoin:round; stroke-width:2; stroke-opacity:0.1; fill:none\" points=\"\n",
       "  147.478,956.947 2352.76,956.947 \n",
       "  \"/>\n",
       "<polyline clip-path=\"url(#clip512)\" style=\"stroke:#000000; stroke-linecap:butt; stroke-linejoin:round; stroke-width:2; stroke-opacity:0.1; fill:none\" points=\"\n",
       "  147.478,739.705 2352.76,739.705 \n",
       "  \"/>\n",
       "<polyline clip-path=\"url(#clip512)\" style=\"stroke:#000000; stroke-linecap:butt; stroke-linejoin:round; stroke-width:2; stroke-opacity:0.1; fill:none\" points=\"\n",
       "  147.478,522.462 2352.76,522.462 \n",
       "  \"/>\n",
       "<polyline clip-path=\"url(#clip512)\" style=\"stroke:#000000; stroke-linecap:butt; stroke-linejoin:round; stroke-width:2; stroke-opacity:0.1; fill:none\" points=\"\n",
       "  147.478,305.219 2352.76,305.219 \n",
       "  \"/>\n",
       "<polyline clip-path=\"url(#clip512)\" style=\"stroke:#000000; stroke-linecap:butt; stroke-linejoin:round; stroke-width:2; stroke-opacity:0.1; fill:none\" points=\"\n",
       "  147.478,87.9763 2352.76,87.9763 \n",
       "  \"/>\n",
       "<polyline clip-path=\"url(#clip510)\" style=\"stroke:#000000; stroke-linecap:butt; stroke-linejoin:round; stroke-width:4; stroke-opacity:1; fill:none\" points=\"\n",
       "  147.478,1486.45 147.478,47.2441 \n",
       "  \"/>\n",
       "<polyline clip-path=\"url(#clip510)\" style=\"stroke:#000000; stroke-linecap:butt; stroke-linejoin:round; stroke-width:4; stroke-opacity:1; fill:none\" points=\"\n",
       "  147.478,1391.43 166.376,1391.43 \n",
       "  \"/>\n",
       "<polyline clip-path=\"url(#clip510)\" style=\"stroke:#000000; stroke-linecap:butt; stroke-linejoin:round; stroke-width:4; stroke-opacity:1; fill:none\" points=\"\n",
       "  147.478,1174.19 166.376,1174.19 \n",
       "  \"/>\n",
       "<polyline clip-path=\"url(#clip510)\" style=\"stroke:#000000; stroke-linecap:butt; stroke-linejoin:round; stroke-width:4; stroke-opacity:1; fill:none\" points=\"\n",
       "  147.478,956.947 166.376,956.947 \n",
       "  \"/>\n",
       "<polyline clip-path=\"url(#clip510)\" style=\"stroke:#000000; stroke-linecap:butt; stroke-linejoin:round; stroke-width:4; stroke-opacity:1; fill:none\" points=\"\n",
       "  147.478,739.705 166.376,739.705 \n",
       "  \"/>\n",
       "<polyline clip-path=\"url(#clip510)\" style=\"stroke:#000000; stroke-linecap:butt; stroke-linejoin:round; stroke-width:4; stroke-opacity:1; fill:none\" points=\"\n",
       "  147.478,522.462 166.376,522.462 \n",
       "  \"/>\n",
       "<polyline clip-path=\"url(#clip510)\" style=\"stroke:#000000; stroke-linecap:butt; stroke-linejoin:round; stroke-width:4; stroke-opacity:1; fill:none\" points=\"\n",
       "  147.478,305.219 166.376,305.219 \n",
       "  \"/>\n",
       "<polyline clip-path=\"url(#clip510)\" style=\"stroke:#000000; stroke-linecap:butt; stroke-linejoin:round; stroke-width:4; stroke-opacity:1; fill:none\" points=\"\n",
       "  147.478,87.9763 166.376,87.9763 \n",
       "  \"/>\n",
       "<path clip-path=\"url(#clip510)\" d=\"M51.3625 1391.88 L81.0383 1391.88 L81.0383 1395.82 L51.3625 1395.82 L51.3625 1391.88 Z\" fill=\"#000000\" fill-rule=\"evenodd\" fill-opacity=\"1\" /><path clip-path=\"url(#clip510)\" d=\"M95.1586 1404.78 L111.478 1404.78 L111.478 1408.71 L89.5336 1408.71 L89.5336 1404.78 Q92.1956 1402.02 96.7789 1397.39 Q101.385 1392.74 102.566 1391.4 Q104.811 1388.88 105.691 1387.14 Q106.594 1385.38 106.594 1383.69 Q106.594 1380.94 104.649 1379.2 Q102.728 1377.46 99.6261 1377.46 Q97.4271 1377.46 94.9734 1378.23 Q92.5428 1378.99 89.7651 1380.54 L89.7651 1375.82 Q92.5891 1374.69 95.0428 1374.11 Q97.4965 1373.53 99.5335 1373.53 Q104.904 1373.53 108.098 1376.21 Q111.293 1378.9 111.293 1383.39 Q111.293 1385.52 110.483 1387.44 Q109.696 1389.34 107.589 1391.93 Q107.01 1392.6 103.909 1395.82 Q100.807 1399.01 95.1586 1404.78 Z\" fill=\"#000000\" fill-rule=\"evenodd\" fill-opacity=\"1\" /><path clip-path=\"url(#clip510)\" d=\"M50.9921 1174.64 L80.6679 1174.64 L80.6679 1178.58 L50.9921 1178.58 L50.9921 1174.64 Z\" fill=\"#000000\" fill-rule=\"evenodd\" fill-opacity=\"1\" /><path clip-path=\"url(#clip510)\" d=\"M91.5706 1187.54 L99.2095 1187.54 L99.2095 1161.17 L90.8993 1162.84 L90.8993 1158.58 L99.1632 1156.91 L103.839 1156.91 L103.839 1187.54 L111.478 1187.54 L111.478 1191.47 L91.5706 1191.47 L91.5706 1187.54 Z\" fill=\"#000000\" fill-rule=\"evenodd\" fill-opacity=\"1\" /><path clip-path=\"url(#clip510)\" d=\"M99.5335 942.746 Q95.9224 942.746 94.0937 946.311 Q92.2882 949.853 92.2882 956.982 Q92.2882 964.089 94.0937 967.653 Q95.9224 971.195 99.5335 971.195 Q103.168 971.195 104.973 967.653 Q106.802 964.089 106.802 956.982 Q106.802 949.853 104.973 946.311 Q103.168 942.746 99.5335 942.746 M99.5335 939.042 Q105.344 939.042 108.399 943.649 Q111.478 948.232 111.478 956.982 Q111.478 965.709 108.399 970.315 Q105.344 974.899 99.5335 974.899 Q93.7234 974.899 90.6447 970.315 Q87.5892 965.709 87.5892 956.982 Q87.5892 948.232 90.6447 943.649 Q93.7234 939.042 99.5335 939.042 Z\" fill=\"#000000\" fill-rule=\"evenodd\" fill-opacity=\"1\" /><path clip-path=\"url(#clip510)\" d=\"M91.5706 753.05 L99.2095 753.05 L99.2095 726.684 L90.8993 728.351 L90.8993 724.091 L99.1632 722.425 L103.839 722.425 L103.839 753.05 L111.478 753.05 L111.478 756.985 L91.5706 756.985 L91.5706 753.05 Z\" fill=\"#000000\" fill-rule=\"evenodd\" fill-opacity=\"1\" /><path clip-path=\"url(#clip510)\" d=\"M95.1586 535.807 L111.478 535.807 L111.478 539.742 L89.5336 539.742 L89.5336 535.807 Q92.1956 533.052 96.7789 528.422 Q101.385 523.77 102.566 522.427 Q104.811 519.904 105.691 518.168 Q106.594 516.409 106.594 514.719 Q106.594 511.964 104.649 510.228 Q102.728 508.492 99.6261 508.492 Q97.4271 508.492 94.9734 509.256 Q92.5428 510.02 89.7651 511.571 L89.7651 506.849 Q92.5891 505.714 95.0428 505.136 Q97.4965 504.557 99.5335 504.557 Q104.904 504.557 108.098 507.242 Q111.293 509.927 111.293 514.418 Q111.293 516.548 110.483 518.469 Q109.696 520.367 107.589 522.96 Q107.01 523.631 103.909 526.848 Q100.807 530.043 95.1586 535.807 Z\" fill=\"#000000\" fill-rule=\"evenodd\" fill-opacity=\"1\" /><path clip-path=\"url(#clip510)\" d=\"M104.348 303.865 Q107.705 304.583 109.58 306.851 Q111.478 309.12 111.478 312.453 Q111.478 317.569 107.959 320.369 Q104.441 323.17 97.9595 323.17 Q95.7836 323.17 93.4688 322.731 Q91.1771 322.314 88.7234 321.457 L88.7234 316.944 Q90.6678 318.078 92.9826 318.657 Q95.2974 319.235 97.8206 319.235 Q102.219 319.235 104.51 317.499 Q106.825 315.763 106.825 312.453 Q106.825 309.397 104.672 307.684 Q102.543 305.948 98.7234 305.948 L94.6956 305.948 L94.6956 302.106 L98.9085 302.106 Q102.358 302.106 104.186 300.74 Q106.015 299.351 106.015 296.758 Q106.015 294.096 104.117 292.684 Q102.242 291.249 98.7234 291.249 Q96.8021 291.249 94.603 291.666 Q92.4039 292.083 89.7651 292.962 L89.7651 288.796 Q92.4271 288.055 94.7419 287.684 Q97.0798 287.314 99.14 287.314 Q104.464 287.314 107.566 289.745 Q110.668 292.152 110.668 296.272 Q110.668 299.143 109.024 301.133 Q107.381 303.101 104.348 303.865 Z\" fill=\"#000000\" fill-rule=\"evenodd\" fill-opacity=\"1\" /><path clip-path=\"url(#clip510)\" d=\"M101.895 74.7703 L90.0891 93.2193 L101.895 93.2193 L101.895 74.7703 M100.668 70.6963 L106.547 70.6963 L106.547 93.2193 L111.478 93.2193 L111.478 97.1082 L106.547 97.1082 L106.547 105.256 L101.895 105.256 L101.895 97.1082 L86.2929 97.1082 L86.2929 92.5943 L100.668 70.6963 Z\" fill=\"#000000\" fill-rule=\"evenodd\" fill-opacity=\"1\" /><polyline clip-path=\"url(#clip512)\" style=\"stroke:#009af9; stroke-linecap:butt; stroke-linejoin:round; stroke-width:4; stroke-opacity:1; fill:none\" points=\"\n",
       "  209.891,87.9763 213.278,96.8017 216.664,105.598 220.05,114.366 223.436,123.105 254.747,202.548 286.057,279.53 317.368,354.052 348.678,426.113 386.311,509.47 \n",
       "  423.943,589.272 455.761,653.971 487.579,716.13 522.142,780.772 556.705,842.417 588.569,896.592 620.434,948.219 654.595,1000.74 688.757,1050.33 708.547,1077.72 \n",
       "  728.337,1104.12 748.127,1129.54 767.917,1153.98 803.09,1195 838.264,1232.9 869.108,1263.59 899.953,1291.89 933.581,1320.02 967.21,1345.31 1001.04,1367.9 \n",
       "  1034.87,1387.61 1072.27,1406.05 1109.67,1420.99 1145.26,1431.95 1180.84,1439.72 1217.84,1444.44 1254.85,1445.72 1285.99,1444.13 1317.14,1440.11 1336.16,1436.45 \n",
       "  1355.17,1431.9 1374.18,1426.43 1393.2,1420.06 1428.03,1406.02 1462.87,1388.95 1495.04,1370.47 1527.22,1349.4 1559.81,1325.4 1592.4,1298.74 1628.92,1265.69 \n",
       "  1665.45,1229.29 1698.55,1193.42 1731.64,1154.8 1750.59,1131.45 1769.54,1107.2 1788.49,1082.05 1807.43,1056 1842.52,1005.39 1877.61,951.678 1912.2,895.704 \n",
       "  1946.79,836.726 1980.38,776.591 2013.96,713.625 2048.39,646.139 2082.82,575.677 2101.68,535.817 2120.54,495.063 2139.4,453.417 2158.27,410.878 2185.66,347.494 \n",
       "  2213.06,282.225 2240.46,215.072 2267.86,146.036 2273.48,131.64 2279.1,117.165 2284.72,102.61 2290.34,87.9763 \n",
       "  \"/>\n",
       "<path clip-path=\"url(#clip510)\" d=\"\n",
       "M1981.79 198.898 L2279.25 198.898 L2279.25 95.2176 L1981.79 95.2176  Z\n",
       "  \" fill=\"#ffffff\" fill-rule=\"evenodd\" fill-opacity=\"1\"/>\n",
       "<polyline clip-path=\"url(#clip510)\" style=\"stroke:#000000; stroke-linecap:butt; stroke-linejoin:round; stroke-width:4; stroke-opacity:1; fill:none\" points=\"\n",
       "  1981.79,198.898 2279.25,198.898 2279.25,95.2176 1981.79,95.2176 1981.79,198.898 \n",
       "  \"/>\n",
       "<polyline clip-path=\"url(#clip510)\" style=\"stroke:#009af9; stroke-linecap:butt; stroke-linejoin:round; stroke-width:4; stroke-opacity:1; fill:none\" points=\"\n",
       "  2006.29,147.058 2153.31,147.058 \n",
       "  \"/>\n",
       "<path clip-path=\"url(#clip510)\" d=\"M2191.65 166.745 Q2189.85 171.375 2188.13 172.787 Q2186.42 174.199 2183.55 174.199 L2180.15 174.199 L2180.15 170.634 L2182.65 170.634 Q2184.41 170.634 2185.38 169.8 Q2186.35 168.967 2187.53 165.865 L2188.3 163.921 L2177.81 138.412 L2182.32 138.412 L2190.43 158.689 L2198.53 138.412 L2203.04 138.412 L2191.65 166.745 Z\" fill=\"#000000\" fill-rule=\"evenodd\" fill-opacity=\"1\" /><path clip-path=\"url(#clip510)\" d=\"M2210.33 160.402 L2217.97 160.402 L2217.97 134.037 L2209.66 135.703 L2209.66 131.444 L2217.93 129.778 L2222.6 129.778 L2222.6 160.402 L2230.24 160.402 L2230.24 164.338 L2210.33 164.338 L2210.33 160.402 Z\" fill=\"#000000\" fill-rule=\"evenodd\" fill-opacity=\"1\" /></svg>\n"
      ]
     },
     "execution_count": 25,
     "metadata": {},
     "output_type": "execute_result"
    }
   ],
   "source": [
    "plot(x ->(x-3)*x,-1,4)"
   ]
  },
  {
   "cell_type": "markdown",
   "metadata": {},
   "source": [
    "Więcej na https://docs.juliahub.com/Roots/o0Xsi/2.0.0/roots/"
   ]
  },
  {
   "cell_type": "markdown",
   "metadata": {},
   "source": [
    "Wyciąganie informacji z przebiegu działania funkcji: https://docs.juliahub.com/Roots/o0Xsi/2.0.0/reference/#Tracking-iterations"
   ]
  },
  {
   "cell_type": "markdown",
   "metadata": {},
   "source": [
    "### Zadanie:\n",
    "\n",
    "A. Wybrać trzy metody poszukiwania pierwiastków: \n",
    "\n",
    "* wykorzystującą przedział i zmianę znaku, \n",
    "* wykorzystującą pochodną, \n",
    "* wykorzystującą przybliżenie pochodnej\n",
    "\n",
    "    1. Każdą z trzech wybranych metod przetestować (ilość iteracji, ilość wywołań funkcji) na sześciu wybranych  funkcjach ze zbioru http://people.sc.fsu.edu/~jburkardt/py_src/test_zero/test_zero.html Wyniki przedstawić w formie tabelki. <b>Pamiętać o sprawdzeniu czy wynik jest poprawny poprzez obliczenie wartości funkcji dla znalezionego pierwiastka !</b> (3 pkt)\n",
    "\n",
    "    2. Zademonstrować wybrany, ciekawy przykład trudnej funkcji z p.1 i działania metod na niej. (1 pkt)\n",
    "\n",
    "    3. Dla każdej z wybranych metod zademonstrować i wyjaśnić po jednym  przykładzie, dla którego nie działają (można na podstawie p.1 lub wymyślić własny)(1 pkt)\n",
    "\n",
    "B. Narysować <a href=\"https://pl.wikipedia.org/wiki/Wst%C4%99ga_Newtona\"> wstegę Newtona </a> i objaśnić, w jaki sposób powstała i jaki jest jej związek z metodą Newtona do znajdowania pierwiastków. Sposób i język - dowolny. (1 pkt)"
   ]
  },
  {
   "cell_type": "markdown",
   "metadata": {},
   "source": [
    "### Wykorzystywane pakiety:"
   ]
  },
  {
   "cell_type": "code",
   "execution_count": 26,
   "metadata": {},
   "outputs": [],
   "source": [
    "using Roots  \n",
    "using Plots\n",
    "using ForwardDiff\n",
    "using Printf\n",
    "using DataFrames"
   ]
  },
  {
   "cell_type": "markdown",
   "metadata": {},
   "source": [
    "### Wybrane metody do przetestowania:"
   ]
  },
  {
   "cell_type": "markdown",
   "metadata": {},
   "source": [
    "- Metoda wykorzystująca przedział i zmianę znaku - **metoda bisekcji**\n",
    "- Metoda wykorzystująca pochodną                 - **metoda Newtona-Raphsona**\n",
    "- Metoda wykorzystująca przybliżenie pochodnej   - **metoda Steffensena**"
   ]
  },
  {
   "cell_type": "markdown",
   "metadata": {},
   "source": [
    "### Funkcje na których będę testować metody poszukiwania pierwiastków:"
   ]
  },
  {
   "cell_type": "markdown",
   "metadata": {},
   "source": [
    "1. $f(x) = sin ( x ) - x / 2.$\n",
    "2. $f(x) = 2 * x - exp ( - x ).$\n",
    "3. $f(x) = x * exp ( - x ).$\n",
    "4. $f(x) = x^3$\n",
    "5. $f(x) = ( x + 3 ) * ( x - 1 )^2.$\n",
    "6. $f(x) = cos(x) - x$\n",
    "<!-- 6. $f(x) = ( 16.0 - x ^ 4 ) / ( 16.0 * x ^ 4 + 0.00001 )$ Pinhead -->"
   ]
  },
  {
   "cell_type": "markdown",
   "metadata": {},
   "source": [
    "### Przygotowanie danych"
   ]
  },
  {
   "cell_type": "code",
   "execution_count": 27,
   "metadata": {},
   "outputs": [],
   "source": [
    "functions = [\n",
    "    x -> sin(x) - x / 2,\n",
    "    x -> 2 * x - exp(-x),\n",
    "    x -> x * exp(-x),\n",
    "    x -> x^3,\n",
    "    x -> (x + 3) * (x - 1)^2,\n",
    "    x -> cos(x) - x\n",
    "];\n",
    "\n",
    "f_interval = [\n",
    "    (1, 3),\n",
    "    (-0.5, 0.5),\n",
    "    (-1, 1),\n",
    "    (-1, 1),\n",
    "    (-4, 4),\n",
    "    (-1, 1)\n",
    "];\n",
    "\n",
    "df = [x -> ForwardDiff.derivative(f, float(x)) for f in functions];"
   ]
  },
  {
   "cell_type": "code",
   "execution_count": 28,
   "metadata": {},
   "outputs": [
    {
     "data": {
      "image/svg+xml": [
       "<?xml version=\"1.0\" encoding=\"utf-8\"?>\n",
       "<svg xmlns=\"http://www.w3.org/2000/svg\" xmlns:xlink=\"http://www.w3.org/1999/xlink\" width=\"600\" height=\"400\" viewBox=\"0 0 2400 1600\">\n",
       "<defs>\n",
       "  <clipPath id=\"clip550\">\n",
       "    <rect x=\"0\" y=\"0\" width=\"2400\" height=\"1600\"/>\n",
       "  </clipPath>\n",
       "</defs>\n",
       "<path clip-path=\"url(#clip550)\" d=\"\n",
       "M0 1600 L2400 1600 L2400 0 L0 0  Z\n",
       "  \" fill=\"#ffffff\" fill-rule=\"evenodd\" fill-opacity=\"1\"/>\n",
       "<defs>\n",
       "  <clipPath id=\"clip551\">\n",
       "    <rect x=\"480\" y=\"0\" width=\"1681\" height=\"1600\"/>\n",
       "  </clipPath>\n",
       "</defs>\n",
       "<path clip-path=\"url(#clip550)\" d=\"\n",
       "M209.029 419.781 L1152.76 419.781 L1152.76 47.2441 L209.029 47.2441  Z\n",
       "  \" fill=\"#ffffff\" fill-rule=\"evenodd\" fill-opacity=\"1\"/>\n",
       "<defs>\n",
       "  <clipPath id=\"clip552\">\n",
       "    <rect x=\"209\" y=\"47\" width=\"945\" height=\"374\"/>\n",
       "  </clipPath>\n",
       "</defs>\n",
       "<polyline clip-path=\"url(#clip552)\" style=\"stroke:#000000; stroke-linecap:butt; stroke-linejoin:round; stroke-width:2; stroke-opacity:0.1; fill:none\" points=\"\n",
       "  324.769,419.781 324.769,47.2441 \n",
       "  \"/>\n",
       "<polyline clip-path=\"url(#clip552)\" style=\"stroke:#000000; stroke-linecap:butt; stroke-linejoin:round; stroke-width:2; stroke-opacity:0.1; fill:none\" points=\"\n",
       "  502.83,419.781 502.83,47.2441 \n",
       "  \"/>\n",
       "<polyline clip-path=\"url(#clip552)\" style=\"stroke:#000000; stroke-linecap:butt; stroke-linejoin:round; stroke-width:2; stroke-opacity:0.1; fill:none\" points=\"\n",
       "  680.892,419.781 680.892,47.2441 \n",
       "  \"/>\n",
       "<polyline clip-path=\"url(#clip552)\" style=\"stroke:#000000; stroke-linecap:butt; stroke-linejoin:round; stroke-width:2; stroke-opacity:0.1; fill:none\" points=\"\n",
       "  858.954,419.781 858.954,47.2441 \n",
       "  \"/>\n",
       "<polyline clip-path=\"url(#clip552)\" style=\"stroke:#000000; stroke-linecap:butt; stroke-linejoin:round; stroke-width:2; stroke-opacity:0.1; fill:none\" points=\"\n",
       "  1037.02,419.781 1037.02,47.2441 \n",
       "  \"/>\n",
       "<polyline clip-path=\"url(#clip550)\" style=\"stroke:#000000; stroke-linecap:butt; stroke-linejoin:round; stroke-width:4; stroke-opacity:1; fill:none\" points=\"\n",
       "  209.029,419.781 1152.76,419.781 \n",
       "  \"/>\n",
       "<polyline clip-path=\"url(#clip550)\" style=\"stroke:#000000; stroke-linecap:butt; stroke-linejoin:round; stroke-width:4; stroke-opacity:1; fill:none\" points=\"\n",
       "  324.769,419.781 324.769,400.884 \n",
       "  \"/>\n",
       "<polyline clip-path=\"url(#clip550)\" style=\"stroke:#000000; stroke-linecap:butt; stroke-linejoin:round; stroke-width:4; stroke-opacity:1; fill:none\" points=\"\n",
       "  502.83,419.781 502.83,400.884 \n",
       "  \"/>\n",
       "<polyline clip-path=\"url(#clip550)\" style=\"stroke:#000000; stroke-linecap:butt; stroke-linejoin:round; stroke-width:4; stroke-opacity:1; fill:none\" points=\"\n",
       "  680.892,419.781 680.892,400.884 \n",
       "  \"/>\n",
       "<polyline clip-path=\"url(#clip550)\" style=\"stroke:#000000; stroke-linecap:butt; stroke-linejoin:round; stroke-width:4; stroke-opacity:1; fill:none\" points=\"\n",
       "  858.954,419.781 858.954,400.884 \n",
       "  \"/>\n",
       "<polyline clip-path=\"url(#clip550)\" style=\"stroke:#000000; stroke-linecap:butt; stroke-linejoin:round; stroke-width:4; stroke-opacity:1; fill:none\" points=\"\n",
       "  1037.02,419.781 1037.02,400.884 \n",
       "  \"/>\n",
       "<path clip-path=\"url(#clip550)\" d=\"M293.669 465.353 L323.345 465.353 L323.345 469.288 L293.669 469.288 L293.669 465.353 Z\" fill=\"#000000\" fill-rule=\"evenodd\" fill-opacity=\"1\" /><path clip-path=\"url(#clip550)\" d=\"M346.285 451.695 L334.479 470.144 L346.285 470.144 L346.285 451.695 M345.058 447.621 L350.938 447.621 L350.938 470.144 L355.868 470.144 L355.868 474.033 L350.938 474.033 L350.938 482.181 L346.285 482.181 L346.285 474.033 L330.683 474.033 L330.683 469.519 L345.058 447.621 Z\" fill=\"#000000\" fill-rule=\"evenodd\" fill-opacity=\"1\" /><path clip-path=\"url(#clip550)\" d=\"M472.773 465.353 L502.448 465.353 L502.448 469.288 L472.773 469.288 L472.773 465.353 Z\" fill=\"#000000\" fill-rule=\"evenodd\" fill-opacity=\"1\" /><path clip-path=\"url(#clip550)\" d=\"M516.569 478.246 L532.888 478.246 L532.888 482.181 L510.944 482.181 L510.944 478.246 Q513.606 475.491 518.189 470.862 Q522.796 466.209 523.976 464.866 Q526.222 462.343 527.101 460.607 Q528.004 458.848 528.004 457.158 Q528.004 454.404 526.059 452.667 Q524.138 450.931 521.036 450.931 Q518.837 450.931 516.384 451.695 Q513.953 452.459 511.175 454.01 L511.175 449.288 Q513.999 448.154 516.453 447.575 Q518.907 446.996 520.944 446.996 Q526.314 446.996 529.509 449.681 Q532.703 452.367 532.703 456.857 Q532.703 458.987 531.893 460.908 Q531.106 462.806 528.999 465.399 Q528.421 466.07 525.319 469.288 Q522.217 472.482 516.569 478.246 Z\" fill=\"#000000\" fill-rule=\"evenodd\" fill-opacity=\"1\" /><path clip-path=\"url(#clip550)\" d=\"M680.892 450.7 Q677.281 450.7 675.452 454.265 Q673.647 457.806 673.647 464.936 Q673.647 472.042 675.452 475.607 Q677.281 479.149 680.892 479.149 Q684.526 479.149 686.332 475.607 Q688.161 472.042 688.161 464.936 Q688.161 457.806 686.332 454.265 Q684.526 450.7 680.892 450.7 M680.892 446.996 Q686.702 446.996 689.758 451.603 Q692.837 456.186 692.837 464.936 Q692.837 473.663 689.758 478.269 Q686.702 482.853 680.892 482.853 Q675.082 482.853 672.003 478.269 Q668.948 473.663 668.948 464.936 Q668.948 456.186 672.003 451.603 Q675.082 446.996 680.892 446.996 Z\" fill=\"#000000\" fill-rule=\"evenodd\" fill-opacity=\"1\" /><path clip-path=\"url(#clip550)\" d=\"M853.607 478.246 L869.926 478.246 L869.926 482.181 L847.982 482.181 L847.982 478.246 Q850.644 475.491 855.227 470.862 Q859.834 466.209 861.014 464.866 Q863.26 462.343 864.139 460.607 Q865.042 458.848 865.042 457.158 Q865.042 454.404 863.097 452.667 Q861.176 450.931 858.074 450.931 Q855.875 450.931 853.422 451.695 Q850.991 452.459 848.213 454.01 L848.213 449.288 Q851.037 448.154 853.491 447.575 Q855.945 446.996 857.982 446.996 Q863.352 446.996 866.547 449.681 Q869.741 452.367 869.741 456.857 Q869.741 458.987 868.931 460.908 Q868.144 462.806 866.037 465.399 Q865.459 466.07 862.357 469.288 Q859.255 472.482 853.607 478.246 Z\" fill=\"#000000\" fill-rule=\"evenodd\" fill-opacity=\"1\" /><path clip-path=\"url(#clip550)\" d=\"M1040.02 451.695 L1028.22 470.144 L1040.02 470.144 L1040.02 451.695 M1038.8 447.621 L1044.68 447.621 L1044.68 470.144 L1049.61 470.144 L1049.61 474.033 L1044.68 474.033 L1044.68 482.181 L1040.02 482.181 L1040.02 474.033 L1024.42 474.033 L1024.42 469.519 L1038.8 447.621 Z\" fill=\"#000000\" fill-rule=\"evenodd\" fill-opacity=\"1\" /><polyline clip-path=\"url(#clip552)\" style=\"stroke:#000000; stroke-linecap:butt; stroke-linejoin:round; stroke-width:2; stroke-opacity:0.1; fill:none\" points=\"\n",
       "  209.029,385.923 1152.76,385.923 \n",
       "  \"/>\n",
       "<polyline clip-path=\"url(#clip552)\" style=\"stroke:#000000; stroke-linecap:butt; stroke-linejoin:round; stroke-width:2; stroke-opacity:0.1; fill:none\" points=\"\n",
       "  209.029,335.119 1152.76,335.119 \n",
       "  \"/>\n",
       "<polyline clip-path=\"url(#clip552)\" style=\"stroke:#000000; stroke-linecap:butt; stroke-linejoin:round; stroke-width:2; stroke-opacity:0.1; fill:none\" points=\"\n",
       "  209.029,284.316 1152.76,284.316 \n",
       "  \"/>\n",
       "<polyline clip-path=\"url(#clip552)\" style=\"stroke:#000000; stroke-linecap:butt; stroke-linejoin:round; stroke-width:2; stroke-opacity:0.1; fill:none\" points=\"\n",
       "  209.029,233.513 1152.76,233.513 \n",
       "  \"/>\n",
       "<polyline clip-path=\"url(#clip552)\" style=\"stroke:#000000; stroke-linecap:butt; stroke-linejoin:round; stroke-width:2; stroke-opacity:0.1; fill:none\" points=\"\n",
       "  209.029,182.709 1152.76,182.709 \n",
       "  \"/>\n",
       "<polyline clip-path=\"url(#clip552)\" style=\"stroke:#000000; stroke-linecap:butt; stroke-linejoin:round; stroke-width:2; stroke-opacity:0.1; fill:none\" points=\"\n",
       "  209.029,131.906 1152.76,131.906 \n",
       "  \"/>\n",
       "<polyline clip-path=\"url(#clip552)\" style=\"stroke:#000000; stroke-linecap:butt; stroke-linejoin:round; stroke-width:2; stroke-opacity:0.1; fill:none\" points=\"\n",
       "  209.029,81.1025 1152.76,81.1025 \n",
       "  \"/>\n",
       "<polyline clip-path=\"url(#clip550)\" style=\"stroke:#000000; stroke-linecap:butt; stroke-linejoin:round; stroke-width:4; stroke-opacity:1; fill:none\" points=\"\n",
       "  209.029,419.781 209.029,47.2441 \n",
       "  \"/>\n",
       "<polyline clip-path=\"url(#clip550)\" style=\"stroke:#000000; stroke-linecap:butt; stroke-linejoin:round; stroke-width:4; stroke-opacity:1; fill:none\" points=\"\n",
       "  209.029,385.923 227.926,385.923 \n",
       "  \"/>\n",
       "<polyline clip-path=\"url(#clip550)\" style=\"stroke:#000000; stroke-linecap:butt; stroke-linejoin:round; stroke-width:4; stroke-opacity:1; fill:none\" points=\"\n",
       "  209.029,335.119 227.926,335.119 \n",
       "  \"/>\n",
       "<polyline clip-path=\"url(#clip550)\" style=\"stroke:#000000; stroke-linecap:butt; stroke-linejoin:round; stroke-width:4; stroke-opacity:1; fill:none\" points=\"\n",
       "  209.029,284.316 227.926,284.316 \n",
       "  \"/>\n",
       "<polyline clip-path=\"url(#clip550)\" style=\"stroke:#000000; stroke-linecap:butt; stroke-linejoin:round; stroke-width:4; stroke-opacity:1; fill:none\" points=\"\n",
       "  209.029,233.513 227.926,233.513 \n",
       "  \"/>\n",
       "<polyline clip-path=\"url(#clip550)\" style=\"stroke:#000000; stroke-linecap:butt; stroke-linejoin:round; stroke-width:4; stroke-opacity:1; fill:none\" points=\"\n",
       "  209.029,182.709 227.926,182.709 \n",
       "  \"/>\n",
       "<polyline clip-path=\"url(#clip550)\" style=\"stroke:#000000; stroke-linecap:butt; stroke-linejoin:round; stroke-width:4; stroke-opacity:1; fill:none\" points=\"\n",
       "  209.029,131.906 227.926,131.906 \n",
       "  \"/>\n",
       "<polyline clip-path=\"url(#clip550)\" style=\"stroke:#000000; stroke-linecap:butt; stroke-linejoin:round; stroke-width:4; stroke-opacity:1; fill:none\" points=\"\n",
       "  209.029,81.1025 227.926,81.1025 \n",
       "  \"/>\n",
       "<path clip-path=\"url(#clip550)\" d=\"M111.964 386.374 L141.64 386.374 L141.64 390.309 L111.964 390.309 L111.964 386.374 Z\" fill=\"#000000\" fill-rule=\"evenodd\" fill-opacity=\"1\" /><path clip-path=\"url(#clip550)\" d=\"M165.899 384.569 Q169.255 385.286 171.13 387.555 Q173.029 389.823 173.029 393.157 Q173.029 398.272 169.51 401.073 Q165.992 403.874 159.51 403.874 Q157.334 403.874 155.019 403.434 Q152.728 403.018 150.274 402.161 L150.274 397.647 Q152.218 398.782 154.533 399.36 Q156.848 399.939 159.371 399.939 Q163.769 399.939 166.061 398.203 Q168.376 396.467 168.376 393.157 Q168.376 390.101 166.223 388.388 Q164.093 386.652 160.274 386.652 L156.246 386.652 L156.246 382.809 L160.459 382.809 Q163.908 382.809 165.737 381.444 Q167.566 380.055 167.566 377.462 Q167.566 374.8 165.667 373.388 Q163.792 371.953 160.274 371.953 Q158.353 371.953 156.154 372.37 Q153.955 372.786 151.316 373.666 L151.316 369.499 Q153.978 368.759 156.292 368.388 Q158.63 368.018 160.691 368.018 Q166.015 368.018 169.116 370.448 Q172.218 372.856 172.218 376.976 Q172.218 379.846 170.575 381.837 Q168.931 383.805 165.899 384.569 Z\" fill=\"#000000\" fill-rule=\"evenodd\" fill-opacity=\"1\" /><path clip-path=\"url(#clip550)\" d=\"M112.913 335.571 L142.589 335.571 L142.589 339.506 L112.913 339.506 L112.913 335.571 Z\" fill=\"#000000\" fill-rule=\"evenodd\" fill-opacity=\"1\" /><path clip-path=\"url(#clip550)\" d=\"M156.709 348.464 L173.029 348.464 L173.029 352.399 L151.084 352.399 L151.084 348.464 Q153.746 345.71 158.33 341.08 Q162.936 336.427 164.117 335.085 Q166.362 332.562 167.242 330.825 Q168.144 329.066 168.144 327.376 Q168.144 324.622 166.2 322.886 Q164.279 321.15 161.177 321.15 Q158.978 321.15 156.524 321.913 Q154.093 322.677 151.316 324.228 L151.316 319.506 Q154.14 318.372 156.593 317.793 Q159.047 317.214 161.084 317.214 Q166.454 317.214 169.649 319.9 Q172.843 322.585 172.843 327.075 Q172.843 329.205 172.033 331.126 Q171.246 333.025 169.14 335.617 Q168.561 336.288 165.459 339.506 Q162.357 342.7 156.709 348.464 Z\" fill=\"#000000\" fill-rule=\"evenodd\" fill-opacity=\"1\" /><path clip-path=\"url(#clip550)\" d=\"M112.543 284.767 L142.218 284.767 L142.218 288.703 L112.543 288.703 L112.543 284.767 Z\" fill=\"#000000\" fill-rule=\"evenodd\" fill-opacity=\"1\" /><path clip-path=\"url(#clip550)\" d=\"M153.121 297.661 L160.76 297.661 L160.76 271.295 L152.45 272.962 L152.45 268.703 L160.714 267.036 L165.39 267.036 L165.39 297.661 L173.029 297.661 L173.029 301.596 L153.121 301.596 L153.121 297.661 Z\" fill=\"#000000\" fill-rule=\"evenodd\" fill-opacity=\"1\" /><path clip-path=\"url(#clip550)\" d=\"M161.084 219.311 Q157.473 219.311 155.644 222.876 Q153.839 226.418 153.839 233.547 Q153.839 240.654 155.644 244.219 Q157.473 247.76 161.084 247.76 Q164.718 247.76 166.524 244.219 Q168.353 240.654 168.353 233.547 Q168.353 226.418 166.524 222.876 Q164.718 219.311 161.084 219.311 M161.084 215.608 Q166.894 215.608 169.95 220.214 Q173.029 224.797 173.029 233.547 Q173.029 242.274 169.95 246.881 Q166.894 251.464 161.084 251.464 Q155.274 251.464 152.195 246.881 Q149.14 242.274 149.14 233.547 Q149.14 224.797 152.195 220.214 Q155.274 215.608 161.084 215.608 Z\" fill=\"#000000\" fill-rule=\"evenodd\" fill-opacity=\"1\" /><path clip-path=\"url(#clip550)\" d=\"M153.121 196.054 L160.76 196.054 L160.76 169.689 L152.45 171.355 L152.45 167.096 L160.714 165.429 L165.39 165.429 L165.39 196.054 L173.029 196.054 L173.029 199.989 L153.121 199.989 L153.121 196.054 Z\" fill=\"#000000\" fill-rule=\"evenodd\" fill-opacity=\"1\" /><path clip-path=\"url(#clip550)\" d=\"M156.709 145.251 L173.029 145.251 L173.029 149.186 L151.084 149.186 L151.084 145.251 Q153.746 142.496 158.33 137.867 Q162.936 133.214 164.117 131.871 Q166.362 129.348 167.242 127.612 Q168.144 125.853 168.144 124.163 Q168.144 121.408 166.2 119.672 Q164.279 117.936 161.177 117.936 Q158.978 117.936 156.524 118.7 Q154.093 119.464 151.316 121.015 L151.316 116.293 Q154.14 115.158 156.593 114.58 Q159.047 114.001 161.084 114.001 Q166.454 114.001 169.649 116.686 Q172.843 119.371 172.843 123.862 Q172.843 125.992 172.033 127.913 Q171.246 129.811 169.14 132.404 Q168.561 133.075 165.459 136.292 Q162.357 139.487 156.709 145.251 Z\" fill=\"#000000\" fill-rule=\"evenodd\" fill-opacity=\"1\" /><path clip-path=\"url(#clip550)\" d=\"M165.899 79.7483 Q169.255 80.4659 171.13 82.7344 Q173.029 85.0029 173.029 88.3363 Q173.029 93.452 169.51 96.2529 Q165.992 99.0538 159.51 99.0538 Q157.334 99.0538 155.019 98.614 Q152.728 98.1973 150.274 97.3408 L150.274 92.827 Q152.218 93.9612 154.533 94.5399 Q156.848 95.1186 159.371 95.1186 Q163.769 95.1186 166.061 93.3825 Q168.376 91.6464 168.376 88.3363 Q168.376 85.2807 166.223 83.5678 Q164.093 81.8317 160.274 81.8317 L156.246 81.8317 L156.246 77.9891 L160.459 77.9891 Q163.908 77.9891 165.737 76.6234 Q167.566 75.2345 167.566 72.6419 Q167.566 69.9799 165.667 68.5678 Q163.792 67.1327 160.274 67.1327 Q158.353 67.1327 156.154 67.5493 Q153.955 67.966 151.316 68.8456 L151.316 64.679 Q153.978 63.9382 156.292 63.5679 Q158.63 63.1975 160.691 63.1975 Q166.015 63.1975 169.116 65.628 Q172.218 68.0354 172.218 72.1558 Q172.218 75.0261 170.575 77.0169 Q168.931 78.9845 165.899 79.7483 Z\" fill=\"#000000\" fill-rule=\"evenodd\" fill-opacity=\"1\" /><polyline clip-path=\"url(#clip552)\" style=\"stroke:#009af9; stroke-linecap:butt; stroke-linejoin:round; stroke-width:4; stroke-opacity:1; fill:none\" points=\"\n",
       "  235.738,57.7876 237.187,57.9729 238.636,58.1713 240.085,58.3826 241.534,58.607 248.234,59.8159 254.933,61.3092 261.633,63.0892 268.332,65.1569 275.032,67.5111 \n",
       "  281.731,70.1495 288.431,73.0679 295.13,76.2607 303.182,80.4508 311.235,85.0112 319.287,89.9233 327.339,95.1659 340.955,104.714 354.572,115.005 369.362,126.85 \n",
       "  384.153,139.185 397.789,150.798 411.425,162.456 426.045,174.798 440.664,186.764 449.133,193.441 457.601,199.882 466.07,206.051 474.539,211.914 482.065,216.843 \n",
       "  489.591,221.485 497.118,225.824 504.644,229.843 511.244,233.094 517.843,236.081 524.443,238.799 531.043,241.242 538.238,243.59 545.434,245.606 552.629,247.291 \n",
       "  559.825,248.648 567.063,249.685 574.301,250.401 581.539,250.804 588.778,250.906 596.781,250.683 604.783,250.128 612.786,249.263 620.789,248.115 636.018,245.245 \n",
       "  651.247,241.66 682.916,232.935 709.575,225.611 725.848,221.762 742.122,218.733 749.576,217.69 757.03,216.895 764.484,216.369 771.937,216.129 778.822,216.178 \n",
       "  785.706,216.497 792.59,217.097 799.474,217.985 806.448,219.185 813.421,220.693 820.395,222.512 827.368,224.641 835.183,227.398 842.999,230.54 850.814,234.061 \n",
       "  858.629,237.951 865.711,241.785 872.793,245.899 879.875,250.282 886.957,254.917 895.065,260.514 903.174,266.393 911.282,272.525 919.39,278.879 934.406,291.116 \n",
       "  949.421,303.77 964.224,316.423 979.027,329.02 993.4,340.976 1007.77,352.456 1015.14,358.093 1022.51,363.53 1029.87,368.745 1037.24,373.715 1045.31,378.857 \n",
       "  1053.38,383.66 1061.45,388.102 1069.53,392.166 1081.25,397.368 1092.98,401.71 1104.7,405.176 1116.43,407.763 1118.83,408.186 1121.24,408.572 1123.64,408.923 \n",
       "  1126.05,409.238 \n",
       "  \"/>\n",
       "<path clip-path=\"url(#clip550)\" d=\"\n",
       "M964.009 163.342 L1121.3 163.342 L1121.3 59.662 L964.009 59.662  Z\n",
       "  \" fill=\"#ffffff\" fill-rule=\"evenodd\" fill-opacity=\"1\"/>\n",
       "<polyline clip-path=\"url(#clip550)\" style=\"stroke:#000000; stroke-linecap:butt; stroke-linejoin:round; stroke-width:4; stroke-opacity:1; fill:none\" points=\"\n",
       "  964.009,163.342 1121.3,163.342 1121.3,59.662 964.009,59.662 964.009,163.342 \n",
       "  \"/>\n",
       "<polyline clip-path=\"url(#clip550)\" style=\"stroke:#009af9; stroke-linecap:butt; stroke-linejoin:round; stroke-width:4; stroke-opacity:1; fill:none\" points=\"\n",
       "  974.495,111.502 1037.41,111.502 \n",
       "  \"/>\n",
       "<path clip-path=\"url(#clip550)\" d=\"M1061.74 131.189 Q1059.93 135.819 1058.22 137.231 Q1056.51 138.643 1053.64 138.643 L1050.23 138.643 L1050.23 135.078 L1052.73 135.078 Q1054.49 135.078 1055.47 134.245 Q1056.44 133.412 1057.62 130.31 L1058.38 128.365 L1047.9 102.856 L1052.41 102.856 L1060.51 123.134 L1068.61 102.856 L1073.13 102.856 L1061.74 131.189 Z\" fill=\"#000000\" fill-rule=\"evenodd\" fill-opacity=\"1\" /><path clip-path=\"url(#clip550)\" d=\"M1080.42 124.847 L1088.06 124.847 L1088.06 98.4812 L1079.75 100.148 L1079.75 95.8887 L1088.01 94.222 L1092.69 94.222 L1092.69 124.847 L1100.33 124.847 L1100.33 128.782 L1080.42 128.782 L1080.42 124.847 Z\" fill=\"#000000\" fill-rule=\"evenodd\" fill-opacity=\"1\" /><path clip-path=\"url(#clip550)\" d=\"\n",
       "M1409.03 419.781 L2352.76 419.781 L2352.76 47.2441 L1409.03 47.2441  Z\n",
       "  \" fill=\"#ffffff\" fill-rule=\"evenodd\" fill-opacity=\"1\"/>\n",
       "<defs>\n",
       "  <clipPath id=\"clip553\">\n",
       "    <rect x=\"1409\" y=\"47\" width=\"945\" height=\"374\"/>\n",
       "  </clipPath>\n",
       "</defs>\n",
       "<polyline clip-path=\"url(#clip553)\" style=\"stroke:#000000; stroke-linecap:butt; stroke-linejoin:round; stroke-width:2; stroke-opacity:0.1; fill:none\" points=\"\n",
       "  1524.77,419.781 1524.77,47.2441 \n",
       "  \"/>\n",
       "<polyline clip-path=\"url(#clip553)\" style=\"stroke:#000000; stroke-linecap:butt; stroke-linejoin:round; stroke-width:2; stroke-opacity:0.1; fill:none\" points=\"\n",
       "  1702.83,419.781 1702.83,47.2441 \n",
       "  \"/>\n",
       "<polyline clip-path=\"url(#clip553)\" style=\"stroke:#000000; stroke-linecap:butt; stroke-linejoin:round; stroke-width:2; stroke-opacity:0.1; fill:none\" points=\"\n",
       "  1880.89,419.781 1880.89,47.2441 \n",
       "  \"/>\n",
       "<polyline clip-path=\"url(#clip553)\" style=\"stroke:#000000; stroke-linecap:butt; stroke-linejoin:round; stroke-width:2; stroke-opacity:0.1; fill:none\" points=\"\n",
       "  2058.95,419.781 2058.95,47.2441 \n",
       "  \"/>\n",
       "<polyline clip-path=\"url(#clip553)\" style=\"stroke:#000000; stroke-linecap:butt; stroke-linejoin:round; stroke-width:2; stroke-opacity:0.1; fill:none\" points=\"\n",
       "  2237.02,419.781 2237.02,47.2441 \n",
       "  \"/>\n",
       "<polyline clip-path=\"url(#clip550)\" style=\"stroke:#000000; stroke-linecap:butt; stroke-linejoin:round; stroke-width:4; stroke-opacity:1; fill:none\" points=\"\n",
       "  1409.03,419.781 2352.76,419.781 \n",
       "  \"/>\n",
       "<polyline clip-path=\"url(#clip550)\" style=\"stroke:#000000; stroke-linecap:butt; stroke-linejoin:round; stroke-width:4; stroke-opacity:1; fill:none\" points=\"\n",
       "  1524.77,419.781 1524.77,400.884 \n",
       "  \"/>\n",
       "<polyline clip-path=\"url(#clip550)\" style=\"stroke:#000000; stroke-linecap:butt; stroke-linejoin:round; stroke-width:4; stroke-opacity:1; fill:none\" points=\"\n",
       "  1702.83,419.781 1702.83,400.884 \n",
       "  \"/>\n",
       "<polyline clip-path=\"url(#clip550)\" style=\"stroke:#000000; stroke-linecap:butt; stroke-linejoin:round; stroke-width:4; stroke-opacity:1; fill:none\" points=\"\n",
       "  1880.89,419.781 1880.89,400.884 \n",
       "  \"/>\n",
       "<polyline clip-path=\"url(#clip550)\" style=\"stroke:#000000; stroke-linecap:butt; stroke-linejoin:round; stroke-width:4; stroke-opacity:1; fill:none\" points=\"\n",
       "  2058.95,419.781 2058.95,400.884 \n",
       "  \"/>\n",
       "<polyline clip-path=\"url(#clip550)\" style=\"stroke:#000000; stroke-linecap:butt; stroke-linejoin:round; stroke-width:4; stroke-opacity:1; fill:none\" points=\"\n",
       "  2237.02,419.781 2237.02,400.884 \n",
       "  \"/>\n",
       "<path clip-path=\"url(#clip550)\" d=\"M1493.67 465.353 L1523.35 465.353 L1523.35 469.288 L1493.67 469.288 L1493.67 465.353 Z\" fill=\"#000000\" fill-rule=\"evenodd\" fill-opacity=\"1\" /><path clip-path=\"url(#clip550)\" d=\"M1546.28 451.695 L1534.48 470.144 L1546.28 470.144 L1546.28 451.695 M1545.06 447.621 L1550.94 447.621 L1550.94 470.144 L1555.87 470.144 L1555.87 474.033 L1550.94 474.033 L1550.94 482.181 L1546.28 482.181 L1546.28 474.033 L1530.68 474.033 L1530.68 469.519 L1545.06 447.621 Z\" fill=\"#000000\" fill-rule=\"evenodd\" fill-opacity=\"1\" /><path clip-path=\"url(#clip550)\" d=\"M1672.77 465.353 L1702.45 465.353 L1702.45 469.288 L1672.77 469.288 L1672.77 465.353 Z\" fill=\"#000000\" fill-rule=\"evenodd\" fill-opacity=\"1\" /><path clip-path=\"url(#clip550)\" d=\"M1716.57 478.246 L1732.89 478.246 L1732.89 482.181 L1710.94 482.181 L1710.94 478.246 Q1713.61 475.491 1718.19 470.862 Q1722.8 466.209 1723.98 464.866 Q1726.22 462.343 1727.1 460.607 Q1728 458.848 1728 457.158 Q1728 454.404 1726.06 452.667 Q1724.14 450.931 1721.04 450.931 Q1718.84 450.931 1716.38 451.695 Q1713.95 452.459 1711.18 454.01 L1711.18 449.288 Q1714 448.154 1716.45 447.575 Q1718.91 446.996 1720.94 446.996 Q1726.31 446.996 1729.51 449.681 Q1732.7 452.367 1732.7 456.857 Q1732.7 458.987 1731.89 460.908 Q1731.11 462.806 1729 465.399 Q1728.42 466.07 1725.32 469.288 Q1722.22 472.482 1716.57 478.246 Z\" fill=\"#000000\" fill-rule=\"evenodd\" fill-opacity=\"1\" /><path clip-path=\"url(#clip550)\" d=\"M1880.89 450.7 Q1877.28 450.7 1875.45 454.265 Q1873.65 457.806 1873.65 464.936 Q1873.65 472.042 1875.45 475.607 Q1877.28 479.149 1880.89 479.149 Q1884.53 479.149 1886.33 475.607 Q1888.16 472.042 1888.16 464.936 Q1888.16 457.806 1886.33 454.265 Q1884.53 450.7 1880.89 450.7 M1880.89 446.996 Q1886.7 446.996 1889.76 451.603 Q1892.84 456.186 1892.84 464.936 Q1892.84 473.663 1889.76 478.269 Q1886.7 482.853 1880.89 482.853 Q1875.08 482.853 1872 478.269 Q1868.95 473.663 1868.95 464.936 Q1868.95 456.186 1872 451.603 Q1875.08 446.996 1880.89 446.996 Z\" fill=\"#000000\" fill-rule=\"evenodd\" fill-opacity=\"1\" /><path clip-path=\"url(#clip550)\" d=\"M2053.61 478.246 L2069.93 478.246 L2069.93 482.181 L2047.98 482.181 L2047.98 478.246 Q2050.64 475.491 2055.23 470.862 Q2059.83 466.209 2061.01 464.866 Q2063.26 462.343 2064.14 460.607 Q2065.04 458.848 2065.04 457.158 Q2065.04 454.404 2063.1 452.667 Q2061.18 450.931 2058.07 450.931 Q2055.88 450.931 2053.42 451.695 Q2050.99 452.459 2048.21 454.01 L2048.21 449.288 Q2051.04 448.154 2053.49 447.575 Q2055.94 446.996 2057.98 446.996 Q2063.35 446.996 2066.55 449.681 Q2069.74 452.367 2069.74 456.857 Q2069.74 458.987 2068.93 460.908 Q2068.14 462.806 2066.04 465.399 Q2065.46 466.07 2062.36 469.288 Q2059.25 472.482 2053.61 478.246 Z\" fill=\"#000000\" fill-rule=\"evenodd\" fill-opacity=\"1\" /><path clip-path=\"url(#clip550)\" d=\"M2240.02 451.695 L2228.22 470.144 L2240.02 470.144 L2240.02 451.695 M2238.8 447.621 L2244.68 447.621 L2244.68 470.144 L2249.61 470.144 L2249.61 474.033 L2244.68 474.033 L2244.68 482.181 L2240.02 482.181 L2240.02 474.033 L2224.42 474.033 L2224.42 469.519 L2238.8 447.621 Z\" fill=\"#000000\" fill-rule=\"evenodd\" fill-opacity=\"1\" /><polyline clip-path=\"url(#clip553)\" style=\"stroke:#000000; stroke-linecap:butt; stroke-linejoin:round; stroke-width:2; stroke-opacity:0.1; fill:none\" points=\"\n",
       "  1409.03,391.68 2352.76,391.68 \n",
       "  \"/>\n",
       "<polyline clip-path=\"url(#clip553)\" style=\"stroke:#000000; stroke-linecap:butt; stroke-linejoin:round; stroke-width:2; stroke-opacity:0.1; fill:none\" points=\"\n",
       "  1409.03,287.334 2352.76,287.334 \n",
       "  \"/>\n",
       "<polyline clip-path=\"url(#clip553)\" style=\"stroke:#000000; stroke-linecap:butt; stroke-linejoin:round; stroke-width:2; stroke-opacity:0.1; fill:none\" points=\"\n",
       "  1409.03,182.989 2352.76,182.989 \n",
       "  \"/>\n",
       "<polyline clip-path=\"url(#clip553)\" style=\"stroke:#000000; stroke-linecap:butt; stroke-linejoin:round; stroke-width:2; stroke-opacity:0.1; fill:none\" points=\"\n",
       "  1409.03,78.6427 2352.76,78.6427 \n",
       "  \"/>\n",
       "<polyline clip-path=\"url(#clip550)\" style=\"stroke:#000000; stroke-linecap:butt; stroke-linejoin:round; stroke-width:4; stroke-opacity:1; fill:none\" points=\"\n",
       "  1409.03,419.781 1409.03,47.2441 \n",
       "  \"/>\n",
       "<polyline clip-path=\"url(#clip550)\" style=\"stroke:#000000; stroke-linecap:butt; stroke-linejoin:round; stroke-width:4; stroke-opacity:1; fill:none\" points=\"\n",
       "  1409.03,391.68 1427.93,391.68 \n",
       "  \"/>\n",
       "<polyline clip-path=\"url(#clip550)\" style=\"stroke:#000000; stroke-linecap:butt; stroke-linejoin:round; stroke-width:4; stroke-opacity:1; fill:none\" points=\"\n",
       "  1409.03,287.334 1427.93,287.334 \n",
       "  \"/>\n",
       "<polyline clip-path=\"url(#clip550)\" style=\"stroke:#000000; stroke-linecap:butt; stroke-linejoin:round; stroke-width:4; stroke-opacity:1; fill:none\" points=\"\n",
       "  1409.03,182.989 1427.93,182.989 \n",
       "  \"/>\n",
       "<polyline clip-path=\"url(#clip550)\" style=\"stroke:#000000; stroke-linecap:butt; stroke-linejoin:round; stroke-width:4; stroke-opacity:1; fill:none\" points=\"\n",
       "  1409.03,78.6427 1427.93,78.6427 \n",
       "  \"/>\n",
       "<path clip-path=\"url(#clip550)\" d=\"M1250.99 392.132 L1280.67 392.132 L1280.67 396.067 L1250.99 396.067 L1250.99 392.132 Z\" fill=\"#000000\" fill-rule=\"evenodd\" fill-opacity=\"1\" /><path clip-path=\"url(#clip550)\" d=\"M1291.57 405.025 L1299.21 405.025 L1299.21 378.659 L1290.9 380.326 L1290.9 376.067 L1299.16 374.4 L1303.84 374.4 L1303.84 405.025 L1311.48 405.025 L1311.48 408.96 L1291.57 408.96 L1291.57 405.025 Z\" fill=\"#000000\" fill-rule=\"evenodd\" fill-opacity=\"1\" /><path clip-path=\"url(#clip550)\" d=\"M1320.97 374.4 L1339.32 374.4 L1339.32 378.335 L1325.25 378.335 L1325.25 386.807 Q1326.27 386.46 1327.29 386.298 Q1328.31 386.113 1329.33 386.113 Q1335.11 386.113 1338.49 389.284 Q1341.87 392.456 1341.87 397.872 Q1341.87 403.451 1338.4 406.553 Q1334.93 409.631 1328.61 409.631 Q1326.43 409.631 1324.16 409.261 Q1321.92 408.891 1319.51 408.15 L1319.51 403.451 Q1321.59 404.585 1323.82 405.141 Q1326.04 405.696 1328.51 405.696 Q1332.52 405.696 1334.86 403.59 Q1337.2 401.483 1337.2 397.872 Q1337.2 394.261 1334.86 392.155 Q1332.52 390.048 1328.51 390.048 Q1326.64 390.048 1324.76 390.465 Q1322.91 390.882 1320.97 391.761 L1320.97 374.4 Z\" fill=\"#000000\" fill-rule=\"evenodd\" fill-opacity=\"1\" /><path clip-path=\"url(#clip550)\" d=\"M1361.08 377.479 Q1357.47 377.479 1355.64 381.044 Q1353.84 384.585 1353.84 391.715 Q1353.84 398.821 1355.64 402.386 Q1357.47 405.928 1361.08 405.928 Q1364.72 405.928 1366.52 402.386 Q1368.35 398.821 1368.35 391.715 Q1368.35 384.585 1366.52 381.044 Q1364.72 377.479 1361.08 377.479 M1361.08 373.775 Q1366.89 373.775 1369.95 378.382 Q1373.03 382.965 1373.03 391.715 Q1373.03 400.442 1369.95 405.048 Q1366.89 409.631 1361.08 409.631 Q1355.27 409.631 1352.2 405.048 Q1349.14 400.442 1349.14 391.715 Q1349.14 382.965 1352.2 378.382 Q1355.27 373.775 1361.08 373.775 Z\" fill=\"#000000\" fill-rule=\"evenodd\" fill-opacity=\"1\" /><path clip-path=\"url(#clip550)\" d=\"M1250.99 287.786 L1280.67 287.786 L1280.67 291.721 L1250.99 291.721 L1250.99 287.786 Z\" fill=\"#000000\" fill-rule=\"evenodd\" fill-opacity=\"1\" /><path clip-path=\"url(#clip550)\" d=\"M1291.57 300.679 L1299.21 300.679 L1299.21 274.314 L1290.9 275.98 L1290.9 271.721 L1299.16 270.054 L1303.84 270.054 L1303.84 300.679 L1311.48 300.679 L1311.48 304.614 L1291.57 304.614 L1291.57 300.679 Z\" fill=\"#000000\" fill-rule=\"evenodd\" fill-opacity=\"1\" /><path clip-path=\"url(#clip550)\" d=\"M1330.92 273.133 Q1327.31 273.133 1325.48 276.698 Q1323.68 280.239 1323.68 287.369 Q1323.68 294.475 1325.48 298.04 Q1327.31 301.582 1330.92 301.582 Q1334.56 301.582 1336.36 298.04 Q1338.19 294.475 1338.19 287.369 Q1338.19 280.239 1336.36 276.698 Q1334.56 273.133 1330.92 273.133 M1330.92 269.429 Q1336.73 269.429 1339.79 274.036 Q1342.87 278.619 1342.87 287.369 Q1342.87 296.096 1339.79 300.702 Q1336.73 305.286 1330.92 305.286 Q1325.11 305.286 1322.03 300.702 Q1318.98 296.096 1318.98 287.369 Q1318.98 278.619 1322.03 274.036 Q1325.11 269.429 1330.92 269.429 Z\" fill=\"#000000\" fill-rule=\"evenodd\" fill-opacity=\"1\" /><path clip-path=\"url(#clip550)\" d=\"M1361.08 273.133 Q1357.47 273.133 1355.64 276.698 Q1353.84 280.239 1353.84 287.369 Q1353.84 294.475 1355.64 298.04 Q1357.47 301.582 1361.08 301.582 Q1364.72 301.582 1366.52 298.04 Q1368.35 294.475 1368.35 287.369 Q1368.35 280.239 1366.52 276.698 Q1364.72 273.133 1361.08 273.133 M1361.08 269.429 Q1366.89 269.429 1369.95 274.036 Q1373.03 278.619 1373.03 287.369 Q1373.03 296.096 1369.95 300.702 Q1366.89 305.286 1361.08 305.286 Q1355.27 305.286 1352.2 300.702 Q1349.14 296.096 1349.14 287.369 Q1349.14 278.619 1352.2 274.036 Q1355.27 269.429 1361.08 269.429 Z\" fill=\"#000000\" fill-rule=\"evenodd\" fill-opacity=\"1\" /><path clip-path=\"url(#clip550)\" d=\"M1281.15 183.44 L1310.83 183.44 L1310.83 187.375 L1281.15 187.375 L1281.15 183.44 Z\" fill=\"#000000\" fill-rule=\"evenodd\" fill-opacity=\"1\" /><path clip-path=\"url(#clip550)\" d=\"M1320.97 165.709 L1339.32 165.709 L1339.32 169.644 L1325.25 169.644 L1325.25 178.116 Q1326.27 177.769 1327.29 177.607 Q1328.31 177.421 1329.33 177.421 Q1335.11 177.421 1338.49 180.593 Q1341.87 183.764 1341.87 189.181 Q1341.87 194.759 1338.4 197.861 Q1334.93 200.94 1328.61 200.94 Q1326.43 200.94 1324.16 200.569 Q1321.92 200.199 1319.51 199.458 L1319.51 194.759 Q1321.59 195.894 1323.82 196.449 Q1326.04 197.005 1328.51 197.005 Q1332.52 197.005 1334.86 194.898 Q1337.2 192.792 1337.2 189.181 Q1337.2 185.57 1334.86 183.463 Q1332.52 181.357 1328.51 181.357 Q1326.64 181.357 1324.76 181.773 Q1322.91 182.19 1320.97 183.07 L1320.97 165.709 Z\" fill=\"#000000\" fill-rule=\"evenodd\" fill-opacity=\"1\" /><path clip-path=\"url(#clip550)\" d=\"M1361.08 168.787 Q1357.47 168.787 1355.64 172.352 Q1353.84 175.894 1353.84 183.023 Q1353.84 190.13 1355.64 193.694 Q1357.47 197.236 1361.08 197.236 Q1364.72 197.236 1366.52 193.694 Q1368.35 190.13 1368.35 183.023 Q1368.35 175.894 1366.52 172.352 Q1364.72 168.787 1361.08 168.787 M1361.08 165.084 Q1366.89 165.084 1369.95 169.69 Q1373.03 174.273 1373.03 183.023 Q1373.03 191.75 1369.95 196.356 Q1366.89 200.94 1361.08 200.94 Q1355.27 200.94 1352.2 196.356 Q1349.14 191.75 1349.14 183.023 Q1349.14 174.273 1352.2 169.69 Q1355.27 165.084 1361.08 165.084 Z\" fill=\"#000000\" fill-rule=\"evenodd\" fill-opacity=\"1\" /><path clip-path=\"url(#clip550)\" d=\"M1361.08 64.4414 Q1357.47 64.4414 1355.64 68.0062 Q1353.84 71.5478 1353.84 78.6774 Q1353.84 85.7839 1355.64 89.3487 Q1357.47 92.8903 1361.08 92.8903 Q1364.72 92.8903 1366.52 89.3487 Q1368.35 85.7839 1368.35 78.6774 Q1368.35 71.5478 1366.52 68.0062 Q1364.72 64.4414 1361.08 64.4414 M1361.08 60.7377 Q1366.89 60.7377 1369.95 65.3442 Q1373.03 69.9275 1373.03 78.6774 Q1373.03 87.4042 1369.95 92.0107 Q1366.89 96.594 1361.08 96.594 Q1355.27 96.594 1352.2 92.0107 Q1349.14 87.4042 1349.14 78.6774 Q1349.14 69.9275 1352.2 65.3442 Q1355.27 60.7377 1361.08 60.7377 Z\" fill=\"#000000\" fill-rule=\"evenodd\" fill-opacity=\"1\" /><polyline clip-path=\"url(#clip553)\" style=\"stroke:#009af9; stroke-linecap:butt; stroke-linejoin:round; stroke-width:4; stroke-opacity:1; fill:none\" points=\"\n",
       "  1435.74,409.238 1437.19,404.169 1438.64,399.182 1440.09,394.274 1441.53,389.444 1444.88,378.571 1448.23,368.093 1451.58,357.997 1454.93,348.268 1458.28,338.892 \n",
       "  1461.63,329.857 1464.98,321.149 1468.33,312.758 1471.68,304.67 1475.03,296.875 1478.38,289.362 1481.73,282.121 1485.08,275.141 1488.43,268.414 1491.78,261.929 \n",
       "  1495.13,255.677 1499.16,248.461 1503.18,241.555 1507.21,234.946 1511.23,228.621 1515.26,222.567 1519.29,216.773 1523.31,211.226 1527.34,205.917 1534.15,197.448 \n",
       "  1540.96,189.579 1547.76,182.266 1554.57,175.468 1561.97,168.623 1569.36,162.296 1576.76,156.445 1584.15,151.033 1590.97,146.403 1597.79,142.09 1604.61,138.071 \n",
       "  1611.43,134.325 1618.73,130.589 1626.04,127.121 1633.35,123.899 1640.66,120.904 1649.13,117.694 1657.6,114.739 1666.07,112.017 1674.54,109.505 1689.59,105.504 \n",
       "  1704.64,102.015 1717.84,99.3141 1731.04,96.9002 1759.82,92.4481 1788.78,88.8338 1820.79,85.5595 1851.25,82.944 1882.92,80.5878 1909.57,78.8102 1942.12,76.8213 \n",
       "  1971.94,75.125 1999.47,73.6344 2027.37,72.1785 2058.63,70.5937 2086.96,69.1884 2119.39,67.605 2149.42,66.1561 2179.03,64.7392 2207.77,63.3714 2237.24,61.975 \n",
       "  2269.53,60.4498 2316.43,58.2403 2326.05,57.7876 \n",
       "  \"/>\n",
       "<path clip-path=\"url(#clip550)\" d=\"\n",
       "M2164.38 163.342 L2321.3 163.342 L2321.3 59.662 L2164.38 59.662  Z\n",
       "  \" fill=\"#ffffff\" fill-rule=\"evenodd\" fill-opacity=\"1\"/>\n",
       "<polyline clip-path=\"url(#clip550)\" style=\"stroke:#000000; stroke-linecap:butt; stroke-linejoin:round; stroke-width:4; stroke-opacity:1; fill:none\" points=\"\n",
       "  2164.38,163.342 2321.3,163.342 2321.3,59.662 2164.38,59.662 2164.38,163.342 \n",
       "  \"/>\n",
       "<polyline clip-path=\"url(#clip550)\" style=\"stroke:#009af9; stroke-linecap:butt; stroke-linejoin:round; stroke-width:4; stroke-opacity:1; fill:none\" points=\"\n",
       "  2174.87,111.502 2237.78,111.502 \n",
       "  \"/>\n",
       "<path clip-path=\"url(#clip550)\" d=\"M2262.11 131.189 Q2260.3 135.819 2258.59 137.231 Q2256.88 138.643 2254.01 138.643 L2250.6 138.643 L2250.6 135.078 L2253.1 135.078 Q2254.86 135.078 2255.84 134.245 Q2256.81 133.412 2257.99 130.31 L2258.75 128.365 L2248.27 102.856 L2252.78 102.856 L2260.88 123.134 L2268.98 102.856 L2273.5 102.856 L2262.11 131.189 Z\" fill=\"#000000\" fill-rule=\"evenodd\" fill-opacity=\"1\" /><path clip-path=\"url(#clip550)\" d=\"M2284.01 124.847 L2300.33 124.847 L2300.33 128.782 L2278.38 128.782 L2278.38 124.847 Q2281.04 122.092 2285.63 117.463 Q2290.23 112.81 2291.41 111.467 Q2293.66 108.944 2294.54 107.208 Q2295.44 105.449 2295.44 103.759 Q2295.44 101.004 2293.5 99.2683 Q2291.58 97.5322 2288.47 97.5322 Q2286.28 97.5322 2283.82 98.2961 Q2281.39 99.0599 2278.61 100.611 L2278.61 95.8887 Q2281.44 94.7544 2283.89 94.1757 Q2286.35 93.597 2288.38 93.597 Q2293.75 93.597 2296.95 96.2822 Q2300.14 98.9673 2300.14 103.458 Q2300.14 105.588 2299.33 107.509 Q2298.54 109.407 2296.44 112 Q2295.86 112.671 2292.76 115.889 Q2289.66 119.083 2284.01 124.847 Z\" fill=\"#000000\" fill-rule=\"evenodd\" fill-opacity=\"1\" /><path clip-path=\"url(#clip550)\" d=\"\n",
       "M209.029 953.115 L1152.76 953.115 L1152.76 580.577 L209.029 580.577  Z\n",
       "  \" fill=\"#ffffff\" fill-rule=\"evenodd\" fill-opacity=\"1\"/>\n",
       "<defs>\n",
       "  <clipPath id=\"clip554\">\n",
       "    <rect x=\"209\" y=\"580\" width=\"945\" height=\"374\"/>\n",
       "  </clipPath>\n",
       "</defs>\n",
       "<polyline clip-path=\"url(#clip554)\" style=\"stroke:#000000; stroke-linecap:butt; stroke-linejoin:round; stroke-width:2; stroke-opacity:0.1; fill:none\" points=\"\n",
       "  324.769,953.115 324.769,580.577 \n",
       "  \"/>\n",
       "<polyline clip-path=\"url(#clip554)\" style=\"stroke:#000000; stroke-linecap:butt; stroke-linejoin:round; stroke-width:2; stroke-opacity:0.1; fill:none\" points=\"\n",
       "  502.83,953.115 502.83,580.577 \n",
       "  \"/>\n",
       "<polyline clip-path=\"url(#clip554)\" style=\"stroke:#000000; stroke-linecap:butt; stroke-linejoin:round; stroke-width:2; stroke-opacity:0.1; fill:none\" points=\"\n",
       "  680.892,953.115 680.892,580.577 \n",
       "  \"/>\n",
       "<polyline clip-path=\"url(#clip554)\" style=\"stroke:#000000; stroke-linecap:butt; stroke-linejoin:round; stroke-width:2; stroke-opacity:0.1; fill:none\" points=\"\n",
       "  858.954,953.115 858.954,580.577 \n",
       "  \"/>\n",
       "<polyline clip-path=\"url(#clip554)\" style=\"stroke:#000000; stroke-linecap:butt; stroke-linejoin:round; stroke-width:2; stroke-opacity:0.1; fill:none\" points=\"\n",
       "  1037.02,953.115 1037.02,580.577 \n",
       "  \"/>\n",
       "<polyline clip-path=\"url(#clip550)\" style=\"stroke:#000000; stroke-linecap:butt; stroke-linejoin:round; stroke-width:4; stroke-opacity:1; fill:none\" points=\"\n",
       "  209.029,953.115 1152.76,953.115 \n",
       "  \"/>\n",
       "<polyline clip-path=\"url(#clip550)\" style=\"stroke:#000000; stroke-linecap:butt; stroke-linejoin:round; stroke-width:4; stroke-opacity:1; fill:none\" points=\"\n",
       "  324.769,953.115 324.769,934.217 \n",
       "  \"/>\n",
       "<polyline clip-path=\"url(#clip550)\" style=\"stroke:#000000; stroke-linecap:butt; stroke-linejoin:round; stroke-width:4; stroke-opacity:1; fill:none\" points=\"\n",
       "  502.83,953.115 502.83,934.217 \n",
       "  \"/>\n",
       "<polyline clip-path=\"url(#clip550)\" style=\"stroke:#000000; stroke-linecap:butt; stroke-linejoin:round; stroke-width:4; stroke-opacity:1; fill:none\" points=\"\n",
       "  680.892,953.115 680.892,934.217 \n",
       "  \"/>\n",
       "<polyline clip-path=\"url(#clip550)\" style=\"stroke:#000000; stroke-linecap:butt; stroke-linejoin:round; stroke-width:4; stroke-opacity:1; fill:none\" points=\"\n",
       "  858.954,953.115 858.954,934.217 \n",
       "  \"/>\n",
       "<polyline clip-path=\"url(#clip550)\" style=\"stroke:#000000; stroke-linecap:butt; stroke-linejoin:round; stroke-width:4; stroke-opacity:1; fill:none\" points=\"\n",
       "  1037.02,953.115 1037.02,934.217 \n",
       "  \"/>\n",
       "<path clip-path=\"url(#clip550)\" d=\"M293.669 998.686 L323.345 998.686 L323.345 1002.62 L293.669 1002.62 L293.669 998.686 Z\" fill=\"#000000\" fill-rule=\"evenodd\" fill-opacity=\"1\" /><path clip-path=\"url(#clip550)\" d=\"M346.285 985.029 L334.479 1003.48 L346.285 1003.48 L346.285 985.029 M345.058 980.955 L350.938 980.955 L350.938 1003.48 L355.868 1003.48 L355.868 1007.37 L350.938 1007.37 L350.938 1015.51 L346.285 1015.51 L346.285 1007.37 L330.683 1007.37 L330.683 1002.85 L345.058 980.955 Z\" fill=\"#000000\" fill-rule=\"evenodd\" fill-opacity=\"1\" /><path clip-path=\"url(#clip550)\" d=\"M472.773 998.686 L502.448 998.686 L502.448 1002.62 L472.773 1002.62 L472.773 998.686 Z\" fill=\"#000000\" fill-rule=\"evenodd\" fill-opacity=\"1\" /><path clip-path=\"url(#clip550)\" d=\"M516.569 1011.58 L532.888 1011.58 L532.888 1015.51 L510.944 1015.51 L510.944 1011.58 Q513.606 1008.82 518.189 1004.2 Q522.796 999.542 523.976 998.2 Q526.222 995.677 527.101 993.941 Q528.004 992.181 528.004 990.492 Q528.004 987.737 526.059 986.001 Q524.138 984.265 521.036 984.265 Q518.837 984.265 516.384 985.029 Q513.953 985.792 511.175 987.343 L511.175 982.621 Q513.999 981.487 516.453 980.908 Q518.907 980.33 520.944 980.33 Q526.314 980.33 529.509 983.015 Q532.703 985.7 532.703 990.191 Q532.703 992.32 531.893 994.242 Q531.106 996.14 528.999 998.732 Q528.421 999.404 525.319 1002.62 Q522.217 1005.82 516.569 1011.58 Z\" fill=\"#000000\" fill-rule=\"evenodd\" fill-opacity=\"1\" /><path clip-path=\"url(#clip550)\" d=\"M680.892 984.033 Q677.281 984.033 675.452 987.598 Q673.647 991.14 673.647 998.269 Q673.647 1005.38 675.452 1008.94 Q677.281 1012.48 680.892 1012.48 Q684.526 1012.48 686.332 1008.94 Q688.161 1005.38 688.161 998.269 Q688.161 991.14 686.332 987.598 Q684.526 984.033 680.892 984.033 M680.892 980.33 Q686.702 980.33 689.758 984.936 Q692.837 989.519 692.837 998.269 Q692.837 1007 689.758 1011.6 Q686.702 1016.19 680.892 1016.19 Q675.082 1016.19 672.003 1011.6 Q668.948 1007 668.948 998.269 Q668.948 989.519 672.003 984.936 Q675.082 980.33 680.892 980.33 Z\" fill=\"#000000\" fill-rule=\"evenodd\" fill-opacity=\"1\" /><path clip-path=\"url(#clip550)\" d=\"M853.607 1011.58 L869.926 1011.58 L869.926 1015.51 L847.982 1015.51 L847.982 1011.58 Q850.644 1008.82 855.227 1004.2 Q859.834 999.542 861.014 998.2 Q863.26 995.677 864.139 993.941 Q865.042 992.181 865.042 990.492 Q865.042 987.737 863.097 986.001 Q861.176 984.265 858.074 984.265 Q855.875 984.265 853.422 985.029 Q850.991 985.792 848.213 987.343 L848.213 982.621 Q851.037 981.487 853.491 980.908 Q855.945 980.33 857.982 980.33 Q863.352 980.33 866.547 983.015 Q869.741 985.7 869.741 990.191 Q869.741 992.32 868.931 994.242 Q868.144 996.14 866.037 998.732 Q865.459 999.404 862.357 1002.62 Q859.255 1005.82 853.607 1011.58 Z\" fill=\"#000000\" fill-rule=\"evenodd\" fill-opacity=\"1\" /><path clip-path=\"url(#clip550)\" d=\"M1040.02 985.029 L1028.22 1003.48 L1040.02 1003.48 L1040.02 985.029 M1038.8 980.955 L1044.68 980.955 L1044.68 1003.48 L1049.61 1003.48 L1049.61 1007.37 L1044.68 1007.37 L1044.68 1015.51 L1040.02 1015.51 L1040.02 1007.37 L1024.42 1007.37 L1024.42 1002.85 L1038.8 980.955 Z\" fill=\"#000000\" fill-rule=\"evenodd\" fill-opacity=\"1\" /><polyline clip-path=\"url(#clip554)\" style=\"stroke:#000000; stroke-linecap:butt; stroke-linejoin:round; stroke-width:2; stroke-opacity:0.1; fill:none\" points=\"\n",
       "  209.029,875.321 1152.76,875.321 \n",
       "  \"/>\n",
       "<polyline clip-path=\"url(#clip554)\" style=\"stroke:#000000; stroke-linecap:butt; stroke-linejoin:round; stroke-width:2; stroke-opacity:0.1; fill:none\" points=\"\n",
       "  209.029,780.645 1152.76,780.645 \n",
       "  \"/>\n",
       "<polyline clip-path=\"url(#clip554)\" style=\"stroke:#000000; stroke-linecap:butt; stroke-linejoin:round; stroke-width:2; stroke-opacity:0.1; fill:none\" points=\"\n",
       "  209.029,685.97 1152.76,685.97 \n",
       "  \"/>\n",
       "<polyline clip-path=\"url(#clip554)\" style=\"stroke:#000000; stroke-linecap:butt; stroke-linejoin:round; stroke-width:2; stroke-opacity:0.1; fill:none\" points=\"\n",
       "  209.029,591.295 1152.76,591.295 \n",
       "  \"/>\n",
       "<polyline clip-path=\"url(#clip550)\" style=\"stroke:#000000; stroke-linecap:butt; stroke-linejoin:round; stroke-width:4; stroke-opacity:1; fill:none\" points=\"\n",
       "  209.029,953.115 209.029,580.577 \n",
       "  \"/>\n",
       "<polyline clip-path=\"url(#clip550)\" style=\"stroke:#000000; stroke-linecap:butt; stroke-linejoin:round; stroke-width:4; stroke-opacity:1; fill:none\" points=\"\n",
       "  209.029,875.321 227.926,875.321 \n",
       "  \"/>\n",
       "<polyline clip-path=\"url(#clip550)\" style=\"stroke:#000000; stroke-linecap:butt; stroke-linejoin:round; stroke-width:4; stroke-opacity:1; fill:none\" points=\"\n",
       "  209.029,780.645 227.926,780.645 \n",
       "  \"/>\n",
       "<polyline clip-path=\"url(#clip550)\" style=\"stroke:#000000; stroke-linecap:butt; stroke-linejoin:round; stroke-width:4; stroke-opacity:1; fill:none\" points=\"\n",
       "  209.029,685.97 227.926,685.97 \n",
       "  \"/>\n",
       "<polyline clip-path=\"url(#clip550)\" style=\"stroke:#000000; stroke-linecap:butt; stroke-linejoin:round; stroke-width:4; stroke-opacity:1; fill:none\" points=\"\n",
       "  209.029,591.295 227.926,591.295 \n",
       "  \"/>\n",
       "<path clip-path=\"url(#clip550)\" d=\"M50.9921 875.772 L80.6679 875.772 L80.6679 879.707 L50.9921 879.707 L50.9921 875.772 Z\" fill=\"#000000\" fill-rule=\"evenodd\" fill-opacity=\"1\" /><path clip-path=\"url(#clip550)\" d=\"M101.339 873.457 Q98.1909 873.457 96.3391 875.61 Q94.5104 877.763 94.5104 881.513 Q94.5104 885.239 96.3391 887.415 Q98.1909 889.568 101.339 889.568 Q104.487 889.568 106.316 887.415 Q108.168 885.239 108.168 881.513 Q108.168 877.763 106.316 875.61 Q104.487 873.457 101.339 873.457 M110.621 858.804 L110.621 863.064 Q108.862 862.23 107.057 861.791 Q105.274 861.351 103.515 861.351 Q98.8854 861.351 96.4317 864.476 Q94.0012 867.601 93.6539 873.92 Q95.0197 871.906 97.0798 870.841 Q99.14 869.753 101.617 869.753 Q106.825 869.753 109.834 872.925 Q112.867 876.073 112.867 881.513 Q112.867 886.837 109.719 890.054 Q106.571 893.272 101.339 893.272 Q95.3437 893.272 92.1725 888.689 Q89.0012 884.082 89.0012 875.355 Q89.0012 867.161 92.89 862.3 Q96.7789 857.416 103.33 857.416 Q105.089 857.416 106.871 857.763 Q108.677 858.11 110.621 858.804 Z\" fill=\"#000000\" fill-rule=\"evenodd\" fill-opacity=\"1\" /><path clip-path=\"url(#clip550)\" d=\"M130.922 861.119 Q127.311 861.119 125.482 864.684 Q123.677 868.226 123.677 875.355 Q123.677 882.462 125.482 886.026 Q127.311 889.568 130.922 889.568 Q134.556 889.568 136.362 886.026 Q138.191 882.462 138.191 875.355 Q138.191 868.226 136.362 864.684 Q134.556 861.119 130.922 861.119 M130.922 857.416 Q136.732 857.416 139.788 862.022 Q142.867 866.605 142.867 875.355 Q142.867 884.082 139.788 888.689 Q136.732 893.272 130.922 893.272 Q125.112 893.272 122.033 888.689 Q118.978 884.082 118.978 875.355 Q118.978 866.605 122.033 862.022 Q125.112 857.416 130.922 857.416 Z\" fill=\"#000000\" fill-rule=\"evenodd\" fill-opacity=\"1\" /><path clip-path=\"url(#clip550)\" d=\"M161.084 861.119 Q157.473 861.119 155.644 864.684 Q153.839 868.226 153.839 875.355 Q153.839 882.462 155.644 886.026 Q157.473 889.568 161.084 889.568 Q164.718 889.568 166.524 886.026 Q168.353 882.462 168.353 875.355 Q168.353 868.226 166.524 864.684 Q164.718 861.119 161.084 861.119 M161.084 857.416 Q166.894 857.416 169.95 862.022 Q173.029 866.605 173.029 875.355 Q173.029 884.082 169.95 888.689 Q166.894 893.272 161.084 893.272 Q155.274 893.272 152.195 888.689 Q149.14 884.082 149.14 875.355 Q149.14 866.605 152.195 862.022 Q155.274 857.416 161.084 857.416 Z\" fill=\"#000000\" fill-rule=\"evenodd\" fill-opacity=\"1\" /><path clip-path=\"url(#clip550)\" d=\"M50.9921 781.097 L80.6679 781.097 L80.6679 785.032 L50.9921 785.032 L50.9921 781.097 Z\" fill=\"#000000\" fill-rule=\"evenodd\" fill-opacity=\"1\" /><path clip-path=\"url(#clip550)\" d=\"M103.608 767.439 L91.8021 785.888 L103.608 785.888 L103.608 767.439 M102.381 763.365 L108.26 763.365 L108.26 785.888 L113.191 785.888 L113.191 789.777 L108.26 789.777 L108.26 797.925 L103.608 797.925 L103.608 789.777 L88.0058 789.777 L88.0058 785.263 L102.381 763.365 Z\" fill=\"#000000\" fill-rule=\"evenodd\" fill-opacity=\"1\" /><path clip-path=\"url(#clip550)\" d=\"M130.922 766.444 Q127.311 766.444 125.482 770.009 Q123.677 773.55 123.677 780.68 Q123.677 787.787 125.482 791.351 Q127.311 794.893 130.922 794.893 Q134.556 794.893 136.362 791.351 Q138.191 787.787 138.191 780.68 Q138.191 773.55 136.362 770.009 Q134.556 766.444 130.922 766.444 M130.922 762.74 Q136.732 762.74 139.788 767.347 Q142.867 771.93 142.867 780.68 Q142.867 789.407 139.788 794.013 Q136.732 798.597 130.922 798.597 Q125.112 798.597 122.033 794.013 Q118.978 789.407 118.978 780.68 Q118.978 771.93 122.033 767.347 Q125.112 762.74 130.922 762.74 Z\" fill=\"#000000\" fill-rule=\"evenodd\" fill-opacity=\"1\" /><path clip-path=\"url(#clip550)\" d=\"M161.084 766.444 Q157.473 766.444 155.644 770.009 Q153.839 773.55 153.839 780.68 Q153.839 787.787 155.644 791.351 Q157.473 794.893 161.084 794.893 Q164.718 794.893 166.524 791.351 Q168.353 787.787 168.353 780.68 Q168.353 773.55 166.524 770.009 Q164.718 766.444 161.084 766.444 M161.084 762.74 Q166.894 762.74 169.95 767.347 Q173.029 771.93 173.029 780.68 Q173.029 789.407 169.95 794.013 Q166.894 798.597 161.084 798.597 Q155.274 798.597 152.195 794.013 Q149.14 789.407 149.14 780.68 Q149.14 771.93 152.195 767.347 Q155.274 762.74 161.084 762.74 Z\" fill=\"#000000\" fill-rule=\"evenodd\" fill-opacity=\"1\" /><path clip-path=\"url(#clip550)\" d=\"M50.9921 686.422 L80.6679 686.422 L80.6679 690.357 L50.9921 690.357 L50.9921 686.422 Z\" fill=\"#000000\" fill-rule=\"evenodd\" fill-opacity=\"1\" /><path clip-path=\"url(#clip550)\" d=\"M94.7882 699.315 L111.108 699.315 L111.108 703.25 L89.1632 703.25 L89.1632 699.315 Q91.8252 696.56 96.4085 691.931 Q101.015 687.278 102.196 685.935 Q104.441 683.412 105.321 681.676 Q106.223 679.917 106.223 678.227 Q106.223 675.473 104.279 673.736 Q102.358 672 99.2558 672 Q97.0567 672 94.603 672.764 Q92.1725 673.528 89.3947 675.079 L89.3947 670.357 Q92.2188 669.223 94.6724 668.644 Q97.1261 668.065 99.1632 668.065 Q104.534 668.065 107.728 670.75 Q110.922 673.436 110.922 677.926 Q110.922 680.056 110.112 681.977 Q109.325 683.875 107.219 686.468 Q106.64 687.139 103.538 690.357 Q100.436 693.551 94.7882 699.315 Z\" fill=\"#000000\" fill-rule=\"evenodd\" fill-opacity=\"1\" /><path clip-path=\"url(#clip550)\" d=\"M130.922 671.769 Q127.311 671.769 125.482 675.334 Q123.677 678.875 123.677 686.005 Q123.677 693.111 125.482 696.676 Q127.311 700.218 130.922 700.218 Q134.556 700.218 136.362 696.676 Q138.191 693.111 138.191 686.005 Q138.191 678.875 136.362 675.334 Q134.556 671.769 130.922 671.769 M130.922 668.065 Q136.732 668.065 139.788 672.672 Q142.867 677.255 142.867 686.005 Q142.867 694.732 139.788 699.338 Q136.732 703.921 130.922 703.921 Q125.112 703.921 122.033 699.338 Q118.978 694.732 118.978 686.005 Q118.978 677.255 122.033 672.672 Q125.112 668.065 130.922 668.065 Z\" fill=\"#000000\" fill-rule=\"evenodd\" fill-opacity=\"1\" /><path clip-path=\"url(#clip550)\" d=\"M161.084 671.769 Q157.473 671.769 155.644 675.334 Q153.839 678.875 153.839 686.005 Q153.839 693.111 155.644 696.676 Q157.473 700.218 161.084 700.218 Q164.718 700.218 166.524 696.676 Q168.353 693.111 168.353 686.005 Q168.353 678.875 166.524 675.334 Q164.718 671.769 161.084 671.769 M161.084 668.065 Q166.894 668.065 169.95 672.672 Q173.029 677.255 173.029 686.005 Q173.029 694.732 169.95 699.338 Q166.894 703.921 161.084 703.921 Q155.274 703.921 152.195 699.338 Q149.14 694.732 149.14 686.005 Q149.14 677.255 152.195 672.672 Q155.274 668.065 161.084 668.065 Z\" fill=\"#000000\" fill-rule=\"evenodd\" fill-opacity=\"1\" /><path clip-path=\"url(#clip550)\" d=\"M161.084 577.094 Q157.473 577.094 155.644 580.659 Q153.839 584.2 153.839 591.33 Q153.839 598.436 155.644 602.001 Q157.473 605.543 161.084 605.543 Q164.718 605.543 166.524 602.001 Q168.353 598.436 168.353 591.33 Q168.353 584.2 166.524 580.659 Q164.718 577.094 161.084 577.094 M161.084 573.39 Q166.894 573.39 169.95 577.996 Q173.029 582.58 173.029 591.33 Q173.029 600.057 169.95 604.663 Q166.894 609.246 161.084 609.246 Q155.274 609.246 152.195 604.663 Q149.14 600.057 149.14 591.33 Q149.14 582.58 152.195 577.996 Q155.274 573.39 161.084 573.39 Z\" fill=\"#000000\" fill-rule=\"evenodd\" fill-opacity=\"1\" /><polyline clip-path=\"url(#clip554)\" style=\"stroke:#009af9; stroke-linecap:butt; stroke-linejoin:round; stroke-width:4; stroke-opacity:1; fill:none\" points=\"\n",
       "  235.738,942.571 237.187,935.775 238.636,929.106 240.085,922.564 241.534,916.144 244.884,901.763 248.234,888.002 251.583,874.834 254.933,862.233 258.283,850.177 \n",
       "  261.633,838.641 264.982,827.604 268.332,817.045 271.682,806.944 275.032,797.281 278.381,788.038 281.731,779.196 285.081,770.739 288.431,762.65 291.78,754.914 \n",
       "  295.13,747.516 299.156,739.051 303.182,731.028 307.209,723.426 311.235,716.224 315.261,709.399 319.287,702.935 323.313,696.81 327.339,691.01 334.147,681.89 \n",
       "  340.955,673.573 347.763,665.989 354.572,659.076 361.967,652.26 369.362,646.099 376.758,640.533 384.153,635.507 390.971,631.306 397.789,627.485 404.607,624.01 \n",
       "  411.425,620.85 418.735,617.782 426.045,615.014 433.354,612.518 440.664,610.268 449.133,607.938 457.601,605.875 466.07,604.049 474.539,602.435 489.591,600.016 \n",
       "  504.644,598.08 517.843,596.707 531.043,595.583 559.825,593.803 588.778,592.673 620.789,591.923 651.247,591.515 682.916,591.285 709.575,591.185 742.122,591.131 \n",
       "  771.937,591.121 799.474,591.129 827.368,591.145 858.629,591.167 886.957,591.187 919.39,591.208 949.421,591.225 979.027,591.239 1007.77,591.251 1037.24,591.26 \n",
       "  1069.53,591.269 1116.43,591.278 1126.05,591.279 \n",
       "  \"/>\n",
       "<path clip-path=\"url(#clip550)\" d=\"\n",
       "M963.431 696.675 L1121.3 696.675 L1121.3 592.995 L963.431 592.995  Z\n",
       "  \" fill=\"#ffffff\" fill-rule=\"evenodd\" fill-opacity=\"1\"/>\n",
       "<polyline clip-path=\"url(#clip550)\" style=\"stroke:#000000; stroke-linecap:butt; stroke-linejoin:round; stroke-width:4; stroke-opacity:1; fill:none\" points=\"\n",
       "  963.431,696.675 1121.3,696.675 1121.3,592.995 963.431,592.995 963.431,696.675 \n",
       "  \"/>\n",
       "<polyline clip-path=\"url(#clip550)\" style=\"stroke:#009af9; stroke-linecap:butt; stroke-linejoin:round; stroke-width:4; stroke-opacity:1; fill:none\" points=\"\n",
       "  973.917,644.835 1036.83,644.835 \n",
       "  \"/>\n",
       "<path clip-path=\"url(#clip550)\" d=\"M1061.16 664.523 Q1059.35 669.152 1057.64 670.564 Q1055.93 671.976 1053.06 671.976 L1049.66 671.976 L1049.66 668.412 L1052.16 668.412 Q1053.91 668.412 1054.89 667.578 Q1055.86 666.745 1057.04 663.643 L1057.8 661.699 L1047.32 636.19 L1051.83 636.19 L1059.93 656.467 L1068.04 636.19 L1072.55 636.19 L1061.16 664.523 Z\" fill=\"#000000\" fill-rule=\"evenodd\" fill-opacity=\"1\" /><path clip-path=\"url(#clip550)\" d=\"M1093.2 643.481 Q1096.55 644.199 1098.43 646.467 Q1100.33 648.736 1100.33 652.069 Q1100.33 657.185 1096.81 659.986 Q1093.29 662.787 1086.81 662.787 Q1084.63 662.787 1082.32 662.347 Q1080.03 661.93 1077.57 661.074 L1077.57 656.56 Q1079.52 657.694 1081.83 658.273 Q1084.15 658.851 1086.67 658.851 Q1091.07 658.851 1093.36 657.115 Q1095.67 655.379 1095.67 652.069 Q1095.67 649.014 1093.52 647.301 Q1091.39 645.564 1087.57 645.564 L1083.54 645.564 L1083.54 641.722 L1087.76 641.722 Q1091.21 641.722 1093.03 640.356 Q1094.86 638.967 1094.86 636.375 Q1094.86 633.713 1092.97 632.301 Q1091.09 630.865 1087.57 630.865 Q1085.65 630.865 1083.45 631.282 Q1081.25 631.699 1078.61 632.578 L1078.61 628.412 Q1081.28 627.671 1083.59 627.301 Q1085.93 626.93 1087.99 626.93 Q1093.31 626.93 1096.41 629.361 Q1099.52 631.768 1099.52 635.889 Q1099.52 638.759 1097.87 640.75 Q1096.23 642.717 1093.2 643.481 Z\" fill=\"#000000\" fill-rule=\"evenodd\" fill-opacity=\"1\" /><path clip-path=\"url(#clip550)\" d=\"\n",
       "M1409.03 953.115 L2352.76 953.115 L2352.76 580.577 L1409.03 580.577  Z\n",
       "  \" fill=\"#ffffff\" fill-rule=\"evenodd\" fill-opacity=\"1\"/>\n",
       "<defs>\n",
       "  <clipPath id=\"clip555\">\n",
       "    <rect x=\"1409\" y=\"580\" width=\"945\" height=\"374\"/>\n",
       "  </clipPath>\n",
       "</defs>\n",
       "<polyline clip-path=\"url(#clip555)\" style=\"stroke:#000000; stroke-linecap:butt; stroke-linejoin:round; stroke-width:2; stroke-opacity:0.1; fill:none\" points=\"\n",
       "  1524.77,953.115 1524.77,580.577 \n",
       "  \"/>\n",
       "<polyline clip-path=\"url(#clip555)\" style=\"stroke:#000000; stroke-linecap:butt; stroke-linejoin:round; stroke-width:2; stroke-opacity:0.1; fill:none\" points=\"\n",
       "  1702.83,953.115 1702.83,580.577 \n",
       "  \"/>\n",
       "<polyline clip-path=\"url(#clip555)\" style=\"stroke:#000000; stroke-linecap:butt; stroke-linejoin:round; stroke-width:2; stroke-opacity:0.1; fill:none\" points=\"\n",
       "  1880.89,953.115 1880.89,580.577 \n",
       "  \"/>\n",
       "<polyline clip-path=\"url(#clip555)\" style=\"stroke:#000000; stroke-linecap:butt; stroke-linejoin:round; stroke-width:2; stroke-opacity:0.1; fill:none\" points=\"\n",
       "  2058.95,953.115 2058.95,580.577 \n",
       "  \"/>\n",
       "<polyline clip-path=\"url(#clip555)\" style=\"stroke:#000000; stroke-linecap:butt; stroke-linejoin:round; stroke-width:2; stroke-opacity:0.1; fill:none\" points=\"\n",
       "  2237.02,953.115 2237.02,580.577 \n",
       "  \"/>\n",
       "<polyline clip-path=\"url(#clip550)\" style=\"stroke:#000000; stroke-linecap:butt; stroke-linejoin:round; stroke-width:4; stroke-opacity:1; fill:none\" points=\"\n",
       "  1409.03,953.115 2352.76,953.115 \n",
       "  \"/>\n",
       "<polyline clip-path=\"url(#clip550)\" style=\"stroke:#000000; stroke-linecap:butt; stroke-linejoin:round; stroke-width:4; stroke-opacity:1; fill:none\" points=\"\n",
       "  1524.77,953.115 1524.77,934.217 \n",
       "  \"/>\n",
       "<polyline clip-path=\"url(#clip550)\" style=\"stroke:#000000; stroke-linecap:butt; stroke-linejoin:round; stroke-width:4; stroke-opacity:1; fill:none\" points=\"\n",
       "  1702.83,953.115 1702.83,934.217 \n",
       "  \"/>\n",
       "<polyline clip-path=\"url(#clip550)\" style=\"stroke:#000000; stroke-linecap:butt; stroke-linejoin:round; stroke-width:4; stroke-opacity:1; fill:none\" points=\"\n",
       "  1880.89,953.115 1880.89,934.217 \n",
       "  \"/>\n",
       "<polyline clip-path=\"url(#clip550)\" style=\"stroke:#000000; stroke-linecap:butt; stroke-linejoin:round; stroke-width:4; stroke-opacity:1; fill:none\" points=\"\n",
       "  2058.95,953.115 2058.95,934.217 \n",
       "  \"/>\n",
       "<polyline clip-path=\"url(#clip550)\" style=\"stroke:#000000; stroke-linecap:butt; stroke-linejoin:round; stroke-width:4; stroke-opacity:1; fill:none\" points=\"\n",
       "  2237.02,953.115 2237.02,934.217 \n",
       "  \"/>\n",
       "<path clip-path=\"url(#clip550)\" d=\"M1493.67 998.686 L1523.35 998.686 L1523.35 1002.62 L1493.67 1002.62 L1493.67 998.686 Z\" fill=\"#000000\" fill-rule=\"evenodd\" fill-opacity=\"1\" /><path clip-path=\"url(#clip550)\" d=\"M1546.28 985.029 L1534.48 1003.48 L1546.28 1003.48 L1546.28 985.029 M1545.06 980.955 L1550.94 980.955 L1550.94 1003.48 L1555.87 1003.48 L1555.87 1007.37 L1550.94 1007.37 L1550.94 1015.51 L1546.28 1015.51 L1546.28 1007.37 L1530.68 1007.37 L1530.68 1002.85 L1545.06 980.955 Z\" fill=\"#000000\" fill-rule=\"evenodd\" fill-opacity=\"1\" /><path clip-path=\"url(#clip550)\" d=\"M1672.77 998.686 L1702.45 998.686 L1702.45 1002.62 L1672.77 1002.62 L1672.77 998.686 Z\" fill=\"#000000\" fill-rule=\"evenodd\" fill-opacity=\"1\" /><path clip-path=\"url(#clip550)\" d=\"M1716.57 1011.58 L1732.89 1011.58 L1732.89 1015.51 L1710.94 1015.51 L1710.94 1011.58 Q1713.61 1008.82 1718.19 1004.2 Q1722.8 999.542 1723.98 998.2 Q1726.22 995.677 1727.1 993.941 Q1728 992.181 1728 990.492 Q1728 987.737 1726.06 986.001 Q1724.14 984.265 1721.04 984.265 Q1718.84 984.265 1716.38 985.029 Q1713.95 985.792 1711.18 987.343 L1711.18 982.621 Q1714 981.487 1716.45 980.908 Q1718.91 980.33 1720.94 980.33 Q1726.31 980.33 1729.51 983.015 Q1732.7 985.7 1732.7 990.191 Q1732.7 992.32 1731.89 994.242 Q1731.11 996.14 1729 998.732 Q1728.42 999.404 1725.32 1002.62 Q1722.22 1005.82 1716.57 1011.58 Z\" fill=\"#000000\" fill-rule=\"evenodd\" fill-opacity=\"1\" /><path clip-path=\"url(#clip550)\" d=\"M1880.89 984.033 Q1877.28 984.033 1875.45 987.598 Q1873.65 991.14 1873.65 998.269 Q1873.65 1005.38 1875.45 1008.94 Q1877.28 1012.48 1880.89 1012.48 Q1884.53 1012.48 1886.33 1008.94 Q1888.16 1005.38 1888.16 998.269 Q1888.16 991.14 1886.33 987.598 Q1884.53 984.033 1880.89 984.033 M1880.89 980.33 Q1886.7 980.33 1889.76 984.936 Q1892.84 989.519 1892.84 998.269 Q1892.84 1007 1889.76 1011.6 Q1886.7 1016.19 1880.89 1016.19 Q1875.08 1016.19 1872 1011.6 Q1868.95 1007 1868.95 998.269 Q1868.95 989.519 1872 984.936 Q1875.08 980.33 1880.89 980.33 Z\" fill=\"#000000\" fill-rule=\"evenodd\" fill-opacity=\"1\" /><path clip-path=\"url(#clip550)\" d=\"M2053.61 1011.58 L2069.93 1011.58 L2069.93 1015.51 L2047.98 1015.51 L2047.98 1011.58 Q2050.64 1008.82 2055.23 1004.2 Q2059.83 999.542 2061.01 998.2 Q2063.26 995.677 2064.14 993.941 Q2065.04 992.181 2065.04 990.492 Q2065.04 987.737 2063.1 986.001 Q2061.18 984.265 2058.07 984.265 Q2055.88 984.265 2053.42 985.029 Q2050.99 985.792 2048.21 987.343 L2048.21 982.621 Q2051.04 981.487 2053.49 980.908 Q2055.94 980.33 2057.98 980.33 Q2063.35 980.33 2066.55 983.015 Q2069.74 985.7 2069.74 990.191 Q2069.74 992.32 2068.93 994.242 Q2068.14 996.14 2066.04 998.732 Q2065.46 999.404 2062.36 1002.62 Q2059.25 1005.82 2053.61 1011.58 Z\" fill=\"#000000\" fill-rule=\"evenodd\" fill-opacity=\"1\" /><path clip-path=\"url(#clip550)\" d=\"M2240.02 985.029 L2228.22 1003.48 L2240.02 1003.48 L2240.02 985.029 M2238.8 980.955 L2244.68 980.955 L2244.68 1003.48 L2249.61 1003.48 L2249.61 1007.37 L2244.68 1007.37 L2244.68 1015.51 L2240.02 1015.51 L2240.02 1007.37 L2224.42 1007.37 L2224.42 1002.85 L2238.8 980.955 Z\" fill=\"#000000\" fill-rule=\"evenodd\" fill-opacity=\"1\" /><polyline clip-path=\"url(#clip555)\" style=\"stroke:#000000; stroke-linecap:butt; stroke-linejoin:round; stroke-width:2; stroke-opacity:0.1; fill:none\" points=\"\n",
       "  1409.03,907.426 2352.76,907.426 \n",
       "  \"/>\n",
       "<polyline clip-path=\"url(#clip555)\" style=\"stroke:#000000; stroke-linecap:butt; stroke-linejoin:round; stroke-width:2; stroke-opacity:0.1; fill:none\" points=\"\n",
       "  1409.03,837.136 2352.76,837.136 \n",
       "  \"/>\n",
       "<polyline clip-path=\"url(#clip555)\" style=\"stroke:#000000; stroke-linecap:butt; stroke-linejoin:round; stroke-width:2; stroke-opacity:0.1; fill:none\" points=\"\n",
       "  1409.03,766.846 2352.76,766.846 \n",
       "  \"/>\n",
       "<polyline clip-path=\"url(#clip555)\" style=\"stroke:#000000; stroke-linecap:butt; stroke-linejoin:round; stroke-width:2; stroke-opacity:0.1; fill:none\" points=\"\n",
       "  1409.03,696.556 2352.76,696.556 \n",
       "  \"/>\n",
       "<polyline clip-path=\"url(#clip555)\" style=\"stroke:#000000; stroke-linecap:butt; stroke-linejoin:round; stroke-width:2; stroke-opacity:0.1; fill:none\" points=\"\n",
       "  1409.03,626.266 2352.76,626.266 \n",
       "  \"/>\n",
       "<polyline clip-path=\"url(#clip550)\" style=\"stroke:#000000; stroke-linecap:butt; stroke-linejoin:round; stroke-width:4; stroke-opacity:1; fill:none\" points=\"\n",
       "  1409.03,953.115 1409.03,580.577 \n",
       "  \"/>\n",
       "<polyline clip-path=\"url(#clip550)\" style=\"stroke:#000000; stroke-linecap:butt; stroke-linejoin:round; stroke-width:4; stroke-opacity:1; fill:none\" points=\"\n",
       "  1409.03,907.426 1427.93,907.426 \n",
       "  \"/>\n",
       "<polyline clip-path=\"url(#clip550)\" style=\"stroke:#000000; stroke-linecap:butt; stroke-linejoin:round; stroke-width:4; stroke-opacity:1; fill:none\" points=\"\n",
       "  1409.03,837.136 1427.93,837.136 \n",
       "  \"/>\n",
       "<polyline clip-path=\"url(#clip550)\" style=\"stroke:#000000; stroke-linecap:butt; stroke-linejoin:round; stroke-width:4; stroke-opacity:1; fill:none\" points=\"\n",
       "  1409.03,766.846 1427.93,766.846 \n",
       "  \"/>\n",
       "<polyline clip-path=\"url(#clip550)\" style=\"stroke:#000000; stroke-linecap:butt; stroke-linejoin:round; stroke-width:4; stroke-opacity:1; fill:none\" points=\"\n",
       "  1409.03,696.556 1427.93,696.556 \n",
       "  \"/>\n",
       "<polyline clip-path=\"url(#clip550)\" style=\"stroke:#000000; stroke-linecap:butt; stroke-linejoin:round; stroke-width:4; stroke-opacity:1; fill:none\" points=\"\n",
       "  1409.03,626.266 1427.93,626.266 \n",
       "  \"/>\n",
       "<path clip-path=\"url(#clip550)\" d=\"M1250.99 907.877 L1280.67 907.877 L1280.67 911.813 L1250.99 911.813 L1250.99 907.877 Z\" fill=\"#000000\" fill-rule=\"evenodd\" fill-opacity=\"1\" /><path clip-path=\"url(#clip550)\" d=\"M1291.57 920.771 L1299.21 920.771 L1299.21 894.405 L1290.9 896.072 L1290.9 891.813 L1299.16 890.146 L1303.84 890.146 L1303.84 920.771 L1311.48 920.771 L1311.48 924.706 L1291.57 924.706 L1291.57 920.771 Z\" fill=\"#000000\" fill-rule=\"evenodd\" fill-opacity=\"1\" /><path clip-path=\"url(#clip550)\" d=\"M1330.92 893.225 Q1327.31 893.225 1325.48 896.79 Q1323.68 900.331 1323.68 907.461 Q1323.68 914.567 1325.48 918.132 Q1327.31 921.674 1330.92 921.674 Q1334.56 921.674 1336.36 918.132 Q1338.19 914.567 1338.19 907.461 Q1338.19 900.331 1336.36 896.79 Q1334.56 893.225 1330.92 893.225 M1330.92 889.521 Q1336.73 889.521 1339.79 894.127 Q1342.87 898.711 1342.87 907.461 Q1342.87 916.188 1339.79 920.794 Q1336.73 925.377 1330.92 925.377 Q1325.11 925.377 1322.03 920.794 Q1318.98 916.188 1318.98 907.461 Q1318.98 898.711 1322.03 894.127 Q1325.11 889.521 1330.92 889.521 Z\" fill=\"#000000\" fill-rule=\"evenodd\" fill-opacity=\"1\" /><path clip-path=\"url(#clip550)\" d=\"M1361.08 893.225 Q1357.47 893.225 1355.64 896.79 Q1353.84 900.331 1353.84 907.461 Q1353.84 914.567 1355.64 918.132 Q1357.47 921.674 1361.08 921.674 Q1364.72 921.674 1366.52 918.132 Q1368.35 914.567 1368.35 907.461 Q1368.35 900.331 1366.52 896.79 Q1364.72 893.225 1361.08 893.225 M1361.08 889.521 Q1366.89 889.521 1369.95 894.127 Q1373.03 898.711 1373.03 907.461 Q1373.03 916.188 1369.95 920.794 Q1366.89 925.377 1361.08 925.377 Q1355.27 925.377 1352.2 920.794 Q1349.14 916.188 1349.14 907.461 Q1349.14 898.711 1352.2 894.127 Q1355.27 889.521 1361.08 889.521 Z\" fill=\"#000000\" fill-rule=\"evenodd\" fill-opacity=\"1\" /><path clip-path=\"url(#clip550)\" d=\"M1281.15 837.587 L1310.83 837.587 L1310.83 841.523 L1281.15 841.523 L1281.15 837.587 Z\" fill=\"#000000\" fill-rule=\"evenodd\" fill-opacity=\"1\" /><path clip-path=\"url(#clip550)\" d=\"M1320.97 819.856 L1339.32 819.856 L1339.32 823.791 L1325.25 823.791 L1325.25 832.263 Q1326.27 831.916 1327.29 831.754 Q1328.31 831.569 1329.33 831.569 Q1335.11 831.569 1338.49 834.74 Q1341.87 837.911 1341.87 843.328 Q1341.87 848.907 1338.4 852.009 Q1334.93 855.087 1328.61 855.087 Q1326.43 855.087 1324.16 854.717 Q1321.92 854.347 1319.51 853.606 L1319.51 848.907 Q1321.59 850.041 1323.82 850.597 Q1326.04 851.152 1328.51 851.152 Q1332.52 851.152 1334.86 849.046 Q1337.2 846.939 1337.2 843.328 Q1337.2 839.717 1334.86 837.611 Q1332.52 835.504 1328.51 835.504 Q1326.64 835.504 1324.76 835.921 Q1322.91 836.337 1320.97 837.217 L1320.97 819.856 Z\" fill=\"#000000\" fill-rule=\"evenodd\" fill-opacity=\"1\" /><path clip-path=\"url(#clip550)\" d=\"M1361.08 822.935 Q1357.47 822.935 1355.64 826.499 Q1353.84 830.041 1353.84 837.171 Q1353.84 844.277 1355.64 847.842 Q1357.47 851.384 1361.08 851.384 Q1364.72 851.384 1366.52 847.842 Q1368.35 844.277 1368.35 837.171 Q1368.35 830.041 1366.52 826.499 Q1364.72 822.935 1361.08 822.935 M1361.08 819.231 Q1366.89 819.231 1369.95 823.837 Q1373.03 828.421 1373.03 837.171 Q1373.03 845.898 1369.95 850.504 Q1366.89 855.087 1361.08 855.087 Q1355.27 855.087 1352.2 850.504 Q1349.14 845.898 1349.14 837.171 Q1349.14 828.421 1352.2 823.837 Q1355.27 819.231 1361.08 819.231 Z\" fill=\"#000000\" fill-rule=\"evenodd\" fill-opacity=\"1\" /><path clip-path=\"url(#clip550)\" d=\"M1361.08 752.645 Q1357.47 752.645 1355.64 756.209 Q1353.84 759.751 1353.84 766.881 Q1353.84 773.987 1355.64 777.552 Q1357.47 781.094 1361.08 781.094 Q1364.72 781.094 1366.52 777.552 Q1368.35 773.987 1368.35 766.881 Q1368.35 759.751 1366.52 756.209 Q1364.72 752.645 1361.08 752.645 M1361.08 748.941 Q1366.89 748.941 1369.95 753.547 Q1373.03 758.131 1373.03 766.881 Q1373.03 775.608 1369.95 780.214 Q1366.89 784.797 1361.08 784.797 Q1355.27 784.797 1352.2 780.214 Q1349.14 775.608 1349.14 766.881 Q1349.14 758.131 1352.2 753.547 Q1355.27 748.941 1361.08 748.941 Z\" fill=\"#000000\" fill-rule=\"evenodd\" fill-opacity=\"1\" /><path clip-path=\"url(#clip550)\" d=\"M1320.97 679.276 L1339.32 679.276 L1339.32 683.211 L1325.25 683.211 L1325.25 691.683 Q1326.27 691.336 1327.29 691.174 Q1328.31 690.989 1329.33 690.989 Q1335.11 690.989 1338.49 694.16 Q1341.87 697.331 1341.87 702.748 Q1341.87 708.327 1338.4 711.429 Q1334.93 714.507 1328.61 714.507 Q1326.43 714.507 1324.16 714.137 Q1321.92 713.767 1319.51 713.026 L1319.51 708.327 Q1321.59 709.461 1323.82 710.017 Q1326.04 710.572 1328.51 710.572 Q1332.52 710.572 1334.86 708.466 Q1337.2 706.359 1337.2 702.748 Q1337.2 699.137 1334.86 697.03 Q1332.52 694.924 1328.51 694.924 Q1326.64 694.924 1324.76 695.341 Q1322.91 695.757 1320.97 696.637 L1320.97 679.276 Z\" fill=\"#000000\" fill-rule=\"evenodd\" fill-opacity=\"1\" /><path clip-path=\"url(#clip550)\" d=\"M1361.08 682.355 Q1357.47 682.355 1355.64 685.919 Q1353.84 689.461 1353.84 696.591 Q1353.84 703.697 1355.64 707.262 Q1357.47 710.804 1361.08 710.804 Q1364.72 710.804 1366.52 707.262 Q1368.35 703.697 1368.35 696.591 Q1368.35 689.461 1366.52 685.919 Q1364.72 682.355 1361.08 682.355 M1361.08 678.651 Q1366.89 678.651 1369.95 683.257 Q1373.03 687.841 1373.03 696.591 Q1373.03 705.317 1369.95 709.924 Q1366.89 714.507 1361.08 714.507 Q1355.27 714.507 1352.2 709.924 Q1349.14 705.317 1349.14 696.591 Q1349.14 687.841 1352.2 683.257 Q1355.27 678.651 1361.08 678.651 Z\" fill=\"#000000\" fill-rule=\"evenodd\" fill-opacity=\"1\" /><path clip-path=\"url(#clip550)\" d=\"M1291.57 639.611 L1299.21 639.611 L1299.21 613.245 L1290.9 614.912 L1290.9 610.653 L1299.16 608.986 L1303.84 608.986 L1303.84 639.611 L1311.48 639.611 L1311.48 643.546 L1291.57 643.546 L1291.57 639.611 Z\" fill=\"#000000\" fill-rule=\"evenodd\" fill-opacity=\"1\" /><path clip-path=\"url(#clip550)\" d=\"M1330.92 612.065 Q1327.31 612.065 1325.48 615.629 Q1323.68 619.171 1323.68 626.301 Q1323.68 633.407 1325.48 636.972 Q1327.31 640.514 1330.92 640.514 Q1334.56 640.514 1336.36 636.972 Q1338.19 633.407 1338.19 626.301 Q1338.19 619.171 1336.36 615.629 Q1334.56 612.065 1330.92 612.065 M1330.92 608.361 Q1336.73 608.361 1339.79 612.967 Q1342.87 617.551 1342.87 626.301 Q1342.87 635.027 1339.79 639.634 Q1336.73 644.217 1330.92 644.217 Q1325.11 644.217 1322.03 639.634 Q1318.98 635.027 1318.98 626.301 Q1318.98 617.551 1322.03 612.967 Q1325.11 608.361 1330.92 608.361 Z\" fill=\"#000000\" fill-rule=\"evenodd\" fill-opacity=\"1\" /><path clip-path=\"url(#clip550)\" d=\"M1361.08 612.065 Q1357.47 612.065 1355.64 615.629 Q1353.84 619.171 1353.84 626.301 Q1353.84 633.407 1355.64 636.972 Q1357.47 640.514 1361.08 640.514 Q1364.72 640.514 1366.52 636.972 Q1368.35 633.407 1368.35 626.301 Q1368.35 619.171 1366.52 615.629 Q1364.72 612.065 1361.08 612.065 M1361.08 608.361 Q1366.89 608.361 1369.95 612.967 Q1373.03 617.551 1373.03 626.301 Q1373.03 635.027 1369.95 639.634 Q1366.89 644.217 1361.08 644.217 Q1355.27 644.217 1352.2 639.634 Q1349.14 635.027 1349.14 626.301 Q1349.14 617.551 1352.2 612.967 Q1355.27 608.361 1361.08 608.361 Z\" fill=\"#000000\" fill-rule=\"evenodd\" fill-opacity=\"1\" /><polyline clip-path=\"url(#clip555)\" style=\"stroke:#009af9; stroke-linecap:butt; stroke-linejoin:round; stroke-width:4; stroke-opacity:1; fill:none\" points=\"\n",
       "  1435.74,942.571 1437.19,940.861 1438.64,939.161 1440.09,937.473 1441.53,935.796 1454.93,920.805 1468.33,906.728 1481.73,893.537 1495.13,881.202 1503.18,874.19 \n",
       "  1511.23,867.47 1519.29,861.036 1527.34,854.883 1540.96,845.098 1554.57,836.067 1569.36,827.074 1584.15,818.896 1597.79,812.046 1611.43,805.824 1626.04,799.818 \n",
       "  1640.66,794.463 1657.6,789.024 1674.54,784.35 1689.59,780.792 1704.64,777.752 1717.84,775.481 1731.04,773.549 1745.43,771.797 1759.82,770.381 1774.3,769.258 \n",
       "  1788.78,768.403 1820.79,767.278 1851.25,766.898 1882.92,766.846 1909.57,766.799 1942.12,766.389 1971.94,765.343 1985.71,764.552 1999.47,763.524 2013.42,762.209 \n",
       "  2027.37,760.586 2043,758.36 2058.63,755.661 2072.79,752.768 2086.96,749.415 2103.17,744.968 2119.39,739.822 2134.41,734.389 2149.42,728.274 2164.22,721.537 \n",
       "  2179.03,714.057 2193.4,706.049 2207.77,697.269 2222.51,687.43 2237.24,676.705 2245.31,670.44 2253.38,663.891 2261.45,657.052 2269.53,649.917 2281.25,639.012 \n",
       "  2292.98,627.448 2304.7,615.208 2316.43,602.271 2318.83,599.529 2321.24,596.757 2323.64,593.954 2326.05,591.121 \n",
       "  \"/>\n",
       "<path clip-path=\"url(#clip550)\" d=\"\n",
       "M2162.3 696.675 L2321.3 696.675 L2321.3 592.995 L2162.3 592.995  Z\n",
       "  \" fill=\"#ffffff\" fill-rule=\"evenodd\" fill-opacity=\"1\"/>\n",
       "<polyline clip-path=\"url(#clip550)\" style=\"stroke:#000000; stroke-linecap:butt; stroke-linejoin:round; stroke-width:4; stroke-opacity:1; fill:none\" points=\"\n",
       "  2162.3,696.675 2321.3,696.675 2321.3,592.995 2162.3,592.995 2162.3,696.675 \n",
       "  \"/>\n",
       "<polyline clip-path=\"url(#clip550)\" style=\"stroke:#009af9; stroke-linecap:butt; stroke-linejoin:round; stroke-width:4; stroke-opacity:1; fill:none\" points=\"\n",
       "  2172.78,644.835 2235.7,644.835 \n",
       "  \"/>\n",
       "<path clip-path=\"url(#clip550)\" d=\"M2260.03 664.523 Q2258.22 669.152 2256.51 670.564 Q2254.79 671.976 2251.92 671.976 L2248.52 671.976 L2248.52 668.412 L2251.02 668.412 Q2252.78 668.412 2253.75 667.578 Q2254.72 666.745 2255.91 663.643 L2256.67 661.699 L2246.18 636.19 L2250.7 636.19 L2258.8 656.467 L2266.9 636.19 L2271.41 636.19 L2260.03 664.523 Z\" fill=\"#000000\" fill-rule=\"evenodd\" fill-opacity=\"1\" /><path clip-path=\"url(#clip550)\" d=\"M2290.74 631.629 L2278.94 650.078 L2290.74 650.078 L2290.74 631.629 M2289.52 627.555 L2295.4 627.555 L2295.4 650.078 L2300.33 650.078 L2300.33 653.967 L2295.4 653.967 L2295.4 662.115 L2290.74 662.115 L2290.74 653.967 L2275.14 653.967 L2275.14 649.453 L2289.52 627.555 Z\" fill=\"#000000\" fill-rule=\"evenodd\" fill-opacity=\"1\" /><path clip-path=\"url(#clip550)\" d=\"\n",
       "M209.029 1486.45 L1152.76 1486.45 L1152.76 1113.91 L209.029 1113.91  Z\n",
       "  \" fill=\"#ffffff\" fill-rule=\"evenodd\" fill-opacity=\"1\"/>\n",
       "<defs>\n",
       "  <clipPath id=\"clip556\">\n",
       "    <rect x=\"209\" y=\"1113\" width=\"945\" height=\"374\"/>\n",
       "  </clipPath>\n",
       "</defs>\n",
       "<polyline clip-path=\"url(#clip556)\" style=\"stroke:#000000; stroke-linecap:butt; stroke-linejoin:round; stroke-width:2; stroke-opacity:0.1; fill:none\" points=\"\n",
       "  324.769,1486.45 324.769,1113.91 \n",
       "  \"/>\n",
       "<polyline clip-path=\"url(#clip556)\" style=\"stroke:#000000; stroke-linecap:butt; stroke-linejoin:round; stroke-width:2; stroke-opacity:0.1; fill:none\" points=\"\n",
       "  502.83,1486.45 502.83,1113.91 \n",
       "  \"/>\n",
       "<polyline clip-path=\"url(#clip556)\" style=\"stroke:#000000; stroke-linecap:butt; stroke-linejoin:round; stroke-width:2; stroke-opacity:0.1; fill:none\" points=\"\n",
       "  680.892,1486.45 680.892,1113.91 \n",
       "  \"/>\n",
       "<polyline clip-path=\"url(#clip556)\" style=\"stroke:#000000; stroke-linecap:butt; stroke-linejoin:round; stroke-width:2; stroke-opacity:0.1; fill:none\" points=\"\n",
       "  858.954,1486.45 858.954,1113.91 \n",
       "  \"/>\n",
       "<polyline clip-path=\"url(#clip556)\" style=\"stroke:#000000; stroke-linecap:butt; stroke-linejoin:round; stroke-width:2; stroke-opacity:0.1; fill:none\" points=\"\n",
       "  1037.02,1486.45 1037.02,1113.91 \n",
       "  \"/>\n",
       "<polyline clip-path=\"url(#clip550)\" style=\"stroke:#000000; stroke-linecap:butt; stroke-linejoin:round; stroke-width:4; stroke-opacity:1; fill:none\" points=\"\n",
       "  209.029,1486.45 1152.76,1486.45 \n",
       "  \"/>\n",
       "<polyline clip-path=\"url(#clip550)\" style=\"stroke:#000000; stroke-linecap:butt; stroke-linejoin:round; stroke-width:4; stroke-opacity:1; fill:none\" points=\"\n",
       "  324.769,1486.45 324.769,1467.55 \n",
       "  \"/>\n",
       "<polyline clip-path=\"url(#clip550)\" style=\"stroke:#000000; stroke-linecap:butt; stroke-linejoin:round; stroke-width:4; stroke-opacity:1; fill:none\" points=\"\n",
       "  502.83,1486.45 502.83,1467.55 \n",
       "  \"/>\n",
       "<polyline clip-path=\"url(#clip550)\" style=\"stroke:#000000; stroke-linecap:butt; stroke-linejoin:round; stroke-width:4; stroke-opacity:1; fill:none\" points=\"\n",
       "  680.892,1486.45 680.892,1467.55 \n",
       "  \"/>\n",
       "<polyline clip-path=\"url(#clip550)\" style=\"stroke:#000000; stroke-linecap:butt; stroke-linejoin:round; stroke-width:4; stroke-opacity:1; fill:none\" points=\"\n",
       "  858.954,1486.45 858.954,1467.55 \n",
       "  \"/>\n",
       "<polyline clip-path=\"url(#clip550)\" style=\"stroke:#000000; stroke-linecap:butt; stroke-linejoin:round; stroke-width:4; stroke-opacity:1; fill:none\" points=\"\n",
       "  1037.02,1486.45 1037.02,1467.55 \n",
       "  \"/>\n",
       "<path clip-path=\"url(#clip550)\" d=\"M293.669 1532.02 L323.345 1532.02 L323.345 1535.95 L293.669 1535.95 L293.669 1532.02 Z\" fill=\"#000000\" fill-rule=\"evenodd\" fill-opacity=\"1\" /><path clip-path=\"url(#clip550)\" d=\"M346.285 1518.36 L334.479 1536.81 L346.285 1536.81 L346.285 1518.36 M345.058 1514.29 L350.938 1514.29 L350.938 1536.81 L355.868 1536.81 L355.868 1540.7 L350.938 1540.7 L350.938 1548.85 L346.285 1548.85 L346.285 1540.7 L330.683 1540.7 L330.683 1536.19 L345.058 1514.29 Z\" fill=\"#000000\" fill-rule=\"evenodd\" fill-opacity=\"1\" /><path clip-path=\"url(#clip550)\" d=\"M472.773 1532.02 L502.448 1532.02 L502.448 1535.95 L472.773 1535.95 L472.773 1532.02 Z\" fill=\"#000000\" fill-rule=\"evenodd\" fill-opacity=\"1\" /><path clip-path=\"url(#clip550)\" d=\"M516.569 1544.91 L532.888 1544.91 L532.888 1548.85 L510.944 1548.85 L510.944 1544.91 Q513.606 1542.16 518.189 1537.53 Q522.796 1532.88 523.976 1531.53 Q526.222 1529.01 527.101 1527.27 Q528.004 1525.51 528.004 1523.82 Q528.004 1521.07 526.059 1519.33 Q524.138 1517.6 521.036 1517.6 Q518.837 1517.6 516.384 1518.36 Q513.953 1519.13 511.175 1520.68 L511.175 1515.95 Q513.999 1514.82 516.453 1514.24 Q518.907 1513.66 520.944 1513.66 Q526.314 1513.66 529.509 1516.35 Q532.703 1519.03 532.703 1523.52 Q532.703 1525.65 531.893 1527.57 Q531.106 1529.47 528.999 1532.07 Q528.421 1532.74 525.319 1535.95 Q522.217 1539.15 516.569 1544.91 Z\" fill=\"#000000\" fill-rule=\"evenodd\" fill-opacity=\"1\" /><path clip-path=\"url(#clip550)\" d=\"M680.892 1517.37 Q677.281 1517.37 675.452 1520.93 Q673.647 1524.47 673.647 1531.6 Q673.647 1538.71 675.452 1542.27 Q677.281 1545.82 680.892 1545.82 Q684.526 1545.82 686.332 1542.27 Q688.161 1538.71 688.161 1531.6 Q688.161 1524.47 686.332 1520.93 Q684.526 1517.37 680.892 1517.37 M680.892 1513.66 Q686.702 1513.66 689.758 1518.27 Q692.837 1522.85 692.837 1531.6 Q692.837 1540.33 689.758 1544.94 Q686.702 1549.52 680.892 1549.52 Q675.082 1549.52 672.003 1544.94 Q668.948 1540.33 668.948 1531.6 Q668.948 1522.85 672.003 1518.27 Q675.082 1513.66 680.892 1513.66 Z\" fill=\"#000000\" fill-rule=\"evenodd\" fill-opacity=\"1\" /><path clip-path=\"url(#clip550)\" d=\"M853.607 1544.91 L869.926 1544.91 L869.926 1548.85 L847.982 1548.85 L847.982 1544.91 Q850.644 1542.16 855.227 1537.53 Q859.834 1532.88 861.014 1531.53 Q863.26 1529.01 864.139 1527.27 Q865.042 1525.51 865.042 1523.82 Q865.042 1521.07 863.097 1519.33 Q861.176 1517.6 858.074 1517.6 Q855.875 1517.6 853.422 1518.36 Q850.991 1519.13 848.213 1520.68 L848.213 1515.95 Q851.037 1514.82 853.491 1514.24 Q855.945 1513.66 857.982 1513.66 Q863.352 1513.66 866.547 1516.35 Q869.741 1519.03 869.741 1523.52 Q869.741 1525.65 868.931 1527.57 Q868.144 1529.47 866.037 1532.07 Q865.459 1532.74 862.357 1535.95 Q859.255 1539.15 853.607 1544.91 Z\" fill=\"#000000\" fill-rule=\"evenodd\" fill-opacity=\"1\" /><path clip-path=\"url(#clip550)\" d=\"M1040.02 1518.36 L1028.22 1536.81 L1040.02 1536.81 L1040.02 1518.36 M1038.8 1514.29 L1044.68 1514.29 L1044.68 1536.81 L1049.61 1536.81 L1049.61 1540.7 L1044.68 1540.7 L1044.68 1548.85 L1040.02 1548.85 L1040.02 1540.7 L1024.42 1540.7 L1024.42 1536.19 L1038.8 1514.29 Z\" fill=\"#000000\" fill-rule=\"evenodd\" fill-opacity=\"1\" /><polyline clip-path=\"url(#clip556)\" style=\"stroke:#000000; stroke-linecap:butt; stroke-linejoin:round; stroke-width:2; stroke-opacity:0.1; fill:none\" points=\"\n",
       "  209.029,1437.24 1152.76,1437.24 \n",
       "  \"/>\n",
       "<polyline clip-path=\"url(#clip556)\" style=\"stroke:#000000; stroke-linecap:butt; stroke-linejoin:round; stroke-width:2; stroke-opacity:0.1; fill:none\" points=\"\n",
       "  209.029,1349.38 1152.76,1349.38 \n",
       "  \"/>\n",
       "<polyline clip-path=\"url(#clip556)\" style=\"stroke:#000000; stroke-linecap:butt; stroke-linejoin:round; stroke-width:2; stroke-opacity:0.1; fill:none\" points=\"\n",
       "  209.029,1261.52 1152.76,1261.52 \n",
       "  \"/>\n",
       "<polyline clip-path=\"url(#clip556)\" style=\"stroke:#000000; stroke-linecap:butt; stroke-linejoin:round; stroke-width:2; stroke-opacity:0.1; fill:none\" points=\"\n",
       "  209.029,1173.66 1152.76,1173.66 \n",
       "  \"/>\n",
       "<polyline clip-path=\"url(#clip550)\" style=\"stroke:#000000; stroke-linecap:butt; stroke-linejoin:round; stroke-width:4; stroke-opacity:1; fill:none\" points=\"\n",
       "  209.029,1486.45 209.029,1113.91 \n",
       "  \"/>\n",
       "<polyline clip-path=\"url(#clip550)\" style=\"stroke:#000000; stroke-linecap:butt; stroke-linejoin:round; stroke-width:4; stroke-opacity:1; fill:none\" points=\"\n",
       "  209.029,1437.24 227.926,1437.24 \n",
       "  \"/>\n",
       "<polyline clip-path=\"url(#clip550)\" style=\"stroke:#000000; stroke-linecap:butt; stroke-linejoin:round; stroke-width:4; stroke-opacity:1; fill:none\" points=\"\n",
       "  209.029,1349.38 227.926,1349.38 \n",
       "  \"/>\n",
       "<polyline clip-path=\"url(#clip550)\" style=\"stroke:#000000; stroke-linecap:butt; stroke-linejoin:round; stroke-width:4; stroke-opacity:1; fill:none\" points=\"\n",
       "  209.029,1261.52 227.926,1261.52 \n",
       "  \"/>\n",
       "<polyline clip-path=\"url(#clip550)\" style=\"stroke:#000000; stroke-linecap:butt; stroke-linejoin:round; stroke-width:4; stroke-opacity:1; fill:none\" points=\"\n",
       "  209.029,1173.66 227.926,1173.66 \n",
       "  \"/>\n",
       "<path clip-path=\"url(#clip550)\" d=\"M81.154 1437.7 L110.83 1437.7 L110.83 1441.63 L81.154 1441.63 L81.154 1437.7 Z\" fill=\"#000000\" fill-rule=\"evenodd\" fill-opacity=\"1\" /><path clip-path=\"url(#clip550)\" d=\"M120.969 1419.96 L139.325 1419.96 L139.325 1423.9 L125.251 1423.9 L125.251 1432.37 Q126.27 1432.02 127.288 1431.86 Q128.307 1431.68 129.325 1431.68 Q135.112 1431.68 138.492 1434.85 Q141.871 1438.02 141.871 1443.44 Q141.871 1449.02 138.399 1452.12 Q134.927 1455.2 128.607 1455.2 Q126.432 1455.2 124.163 1454.83 Q121.918 1454.46 119.51 1453.71 L119.51 1449.02 Q121.594 1450.15 123.816 1450.71 Q126.038 1451.26 128.515 1451.26 Q132.519 1451.26 134.857 1449.15 Q137.195 1447.05 137.195 1443.44 Q137.195 1439.83 134.857 1437.72 Q132.519 1435.61 128.515 1435.61 Q126.64 1435.61 124.765 1436.03 Q122.913 1436.45 120.969 1437.33 L120.969 1419.96 Z\" fill=\"#000000\" fill-rule=\"evenodd\" fill-opacity=\"1\" /><path clip-path=\"url(#clip550)\" d=\"M161.084 1423.04 Q157.473 1423.04 155.644 1426.61 Q153.839 1430.15 153.839 1437.28 Q153.839 1444.39 155.644 1447.95 Q157.473 1451.49 161.084 1451.49 Q164.718 1451.49 166.524 1447.95 Q168.353 1444.39 168.353 1437.28 Q168.353 1430.15 166.524 1426.61 Q164.718 1423.04 161.084 1423.04 M161.084 1419.34 Q166.894 1419.34 169.95 1423.95 Q173.029 1428.53 173.029 1437.28 Q173.029 1446.01 169.95 1450.61 Q166.894 1455.2 161.084 1455.2 Q155.274 1455.2 152.195 1450.61 Q149.14 1446.01 149.14 1437.28 Q149.14 1428.53 152.195 1423.95 Q155.274 1419.34 161.084 1419.34 Z\" fill=\"#000000\" fill-rule=\"evenodd\" fill-opacity=\"1\" /><path clip-path=\"url(#clip550)\" d=\"M161.084 1335.18 Q157.473 1335.18 155.644 1338.75 Q153.839 1342.29 153.839 1349.42 Q153.839 1356.52 155.644 1360.09 Q157.473 1363.63 161.084 1363.63 Q164.718 1363.63 166.524 1360.09 Q168.353 1356.52 168.353 1349.42 Q168.353 1342.29 166.524 1338.75 Q164.718 1335.18 161.084 1335.18 M161.084 1331.48 Q166.894 1331.48 169.95 1336.08 Q173.029 1340.67 173.029 1349.42 Q173.029 1358.14 169.95 1362.75 Q166.894 1367.33 161.084 1367.33 Q155.274 1367.33 152.195 1362.75 Q149.14 1358.14 149.14 1349.42 Q149.14 1340.67 152.195 1336.08 Q155.274 1331.48 161.084 1331.48 Z\" fill=\"#000000\" fill-rule=\"evenodd\" fill-opacity=\"1\" /><path clip-path=\"url(#clip550)\" d=\"M120.969 1244.24 L139.325 1244.24 L139.325 1248.17 L125.251 1248.17 L125.251 1256.65 Q126.27 1256.3 127.288 1256.14 Q128.307 1255.95 129.325 1255.95 Q135.112 1255.95 138.492 1259.12 Q141.871 1262.3 141.871 1267.71 Q141.871 1273.29 138.399 1276.39 Q134.927 1279.47 128.607 1279.47 Q126.432 1279.47 124.163 1279.1 Q121.918 1278.73 119.51 1277.99 L119.51 1273.29 Q121.594 1274.42 123.816 1274.98 Q126.038 1275.54 128.515 1275.54 Q132.519 1275.54 134.857 1273.43 Q137.195 1271.32 137.195 1267.71 Q137.195 1264.1 134.857 1261.99 Q132.519 1259.89 128.515 1259.89 Q126.64 1259.89 124.765 1260.3 Q122.913 1260.72 120.969 1261.6 L120.969 1244.24 Z\" fill=\"#000000\" fill-rule=\"evenodd\" fill-opacity=\"1\" /><path clip-path=\"url(#clip550)\" d=\"M161.084 1247.32 Q157.473 1247.32 155.644 1250.88 Q153.839 1254.42 153.839 1261.55 Q153.839 1268.66 155.644 1272.23 Q157.473 1275.77 161.084 1275.77 Q164.718 1275.77 166.524 1272.23 Q168.353 1268.66 168.353 1261.55 Q168.353 1254.42 166.524 1250.88 Q164.718 1247.32 161.084 1247.32 M161.084 1243.61 Q166.894 1243.61 169.95 1248.22 Q173.029 1252.8 173.029 1261.55 Q173.029 1270.28 169.95 1274.89 Q166.894 1279.47 161.084 1279.47 Q155.274 1279.47 152.195 1274.89 Q149.14 1270.28 149.14 1261.55 Q149.14 1252.8 152.195 1248.22 Q155.274 1243.61 161.084 1243.61 Z\" fill=\"#000000\" fill-rule=\"evenodd\" fill-opacity=\"1\" /><path clip-path=\"url(#clip550)\" d=\"M91.5706 1187 L99.2095 1187 L99.2095 1160.64 L90.8993 1162.3 L90.8993 1158.04 L99.1632 1156.38 L103.839 1156.38 L103.839 1187 L111.478 1187 L111.478 1190.94 L91.5706 1190.94 L91.5706 1187 Z\" fill=\"#000000\" fill-rule=\"evenodd\" fill-opacity=\"1\" /><path clip-path=\"url(#clip550)\" d=\"M130.922 1159.46 Q127.311 1159.46 125.482 1163.02 Q123.677 1166.56 123.677 1173.69 Q123.677 1180.8 125.482 1184.36 Q127.311 1187.9 130.922 1187.9 Q134.556 1187.9 136.362 1184.36 Q138.191 1180.8 138.191 1173.69 Q138.191 1166.56 136.362 1163.02 Q134.556 1159.46 130.922 1159.46 M130.922 1155.75 Q136.732 1155.75 139.788 1160.36 Q142.867 1164.94 142.867 1173.69 Q142.867 1182.42 139.788 1187.03 Q136.732 1191.61 130.922 1191.61 Q125.112 1191.61 122.033 1187.03 Q118.978 1182.42 118.978 1173.69 Q118.978 1164.94 122.033 1160.36 Q125.112 1155.75 130.922 1155.75 Z\" fill=\"#000000\" fill-rule=\"evenodd\" fill-opacity=\"1\" /><path clip-path=\"url(#clip550)\" d=\"M161.084 1159.46 Q157.473 1159.46 155.644 1163.02 Q153.839 1166.56 153.839 1173.69 Q153.839 1180.8 155.644 1184.36 Q157.473 1187.9 161.084 1187.9 Q164.718 1187.9 166.524 1184.36 Q168.353 1180.8 168.353 1173.69 Q168.353 1166.56 166.524 1163.02 Q164.718 1159.46 161.084 1159.46 M161.084 1155.75 Q166.894 1155.75 169.95 1160.36 Q173.029 1164.94 173.029 1173.69 Q173.029 1182.42 169.95 1187.03 Q166.894 1191.61 161.084 1191.61 Q155.274 1191.61 152.195 1187.03 Q149.14 1182.42 149.14 1173.69 Q149.14 1164.94 152.195 1160.36 Q155.274 1155.75 161.084 1155.75 Z\" fill=\"#000000\" fill-rule=\"evenodd\" fill-opacity=\"1\" /><polyline clip-path=\"url(#clip556)\" style=\"stroke:#009af9; stroke-linecap:butt; stroke-linejoin:round; stroke-width:4; stroke-opacity:1; fill:none\" points=\"\n",
       "  235.738,1475.9 237.187,1474.19 238.636,1472.5 240.085,1470.81 241.534,1469.14 254.933,1454.3 268.332,1440.52 275.032,1434.01 281.731,1427.76 288.431,1421.76 \n",
       "  295.13,1416 303.182,1409.39 311.235,1403.12 319.287,1397.17 327.339,1391.55 340.955,1382.76 354.572,1374.83 361.967,1370.86 369.362,1367.14 376.758,1363.64 \n",
       "  384.153,1360.37 397.789,1354.9 411.425,1350.14 426.045,1345.78 440.664,1342.13 457.601,1338.74 474.539,1336.19 489.591,1334.55 504.644,1333.46 517.843,1332.92 \n",
       "  531.043,1332.72 545.434,1332.86 559.825,1333.33 574.301,1334.09 588.778,1335.09 620.789,1337.92 651.247,1341.06 682.916,1344.31 709.575,1346.7 725.848,1347.87 \n",
       "  742.122,1348.75 757.03,1349.24 771.937,1349.38 785.706,1349.15 799.474,1348.54 813.421,1347.5 827.368,1345.98 842.999,1343.68 858.629,1340.67 872.793,1337.29 \n",
       "  886.957,1333.24 895.065,1330.61 903.174,1327.75 911.282,1324.63 919.39,1321.26 926.898,1317.9 934.406,1314.31 941.913,1310.48 949.421,1306.41 956.822,1302.15 \n",
       "  964.224,1297.64 971.626,1292.87 979.027,1287.84 986.213,1282.7 993.4,1277.3 1000.59,1271.64 1007.77,1265.71 1015.14,1259.34 1022.51,1252.68 1029.87,1245.72 \n",
       "  1037.24,1238.45 1045.31,1230.13 1053.38,1221.42 1061.45,1212.32 1069.53,1202.82 1081.25,1188.29 1092.98,1172.88 1104.7,1156.57 1116.43,1139.32 1118.83,1135.66 \n",
       "  1121.24,1131.97 1123.64,1128.23 1126.05,1124.45 \n",
       "  \"/>\n",
       "<path clip-path=\"url(#clip550)\" d=\"\n",
       "M963.778 1230.01 L1121.3 1230.01 L1121.3 1126.33 L963.778 1126.33  Z\n",
       "  \" fill=\"#ffffff\" fill-rule=\"evenodd\" fill-opacity=\"1\"/>\n",
       "<polyline clip-path=\"url(#clip550)\" style=\"stroke:#000000; stroke-linecap:butt; stroke-linejoin:round; stroke-width:4; stroke-opacity:1; fill:none\" points=\"\n",
       "  963.778,1230.01 1121.3,1230.01 1121.3,1126.33 963.778,1126.33 963.778,1230.01 \n",
       "  \"/>\n",
       "<polyline clip-path=\"url(#clip550)\" style=\"stroke:#009af9; stroke-linecap:butt; stroke-linejoin:round; stroke-width:4; stroke-opacity:1; fill:none\" points=\"\n",
       "  974.264,1178.17 1037.18,1178.17 \n",
       "  \"/>\n",
       "<path clip-path=\"url(#clip550)\" d=\"M1061.51 1197.86 Q1059.7 1202.49 1057.99 1203.9 Q1056.28 1205.31 1053.41 1205.31 L1050 1205.31 L1050 1201.74 L1052.5 1201.74 Q1054.26 1201.74 1055.23 1200.91 Q1056.21 1200.08 1057.39 1196.98 L1058.15 1195.03 L1047.66 1169.52 L1052.18 1169.52 L1060.28 1189.8 L1068.38 1169.52 L1072.9 1169.52 L1061.51 1197.86 Z\" fill=\"#000000\" fill-rule=\"evenodd\" fill-opacity=\"1\" /><path clip-path=\"url(#clip550)\" d=\"M1079.42 1160.89 L1097.78 1160.89 L1097.78 1164.82 L1083.71 1164.82 L1083.71 1173.3 Q1084.72 1172.95 1085.74 1172.79 Q1086.76 1172.6 1087.78 1172.6 Q1093.57 1172.6 1096.95 1175.77 Q1100.33 1178.94 1100.33 1184.36 Q1100.33 1189.94 1096.85 1193.04 Q1093.38 1196.12 1087.06 1196.12 Q1084.89 1196.12 1082.62 1195.75 Q1080.37 1195.38 1077.97 1194.64 L1077.97 1189.94 Q1080.05 1191.07 1082.27 1191.63 Q1084.49 1192.18 1086.97 1192.18 Q1090.97 1192.18 1093.31 1190.08 Q1095.65 1187.97 1095.65 1184.36 Q1095.65 1180.75 1093.31 1178.64 Q1090.97 1176.54 1086.97 1176.54 Q1085.1 1176.54 1083.22 1176.95 Q1081.37 1177.37 1079.42 1178.25 L1079.42 1160.89 Z\" fill=\"#000000\" fill-rule=\"evenodd\" fill-opacity=\"1\" /><path clip-path=\"url(#clip550)\" d=\"\n",
       "M1409.03 1486.45 L2352.76 1486.45 L2352.76 1113.91 L1409.03 1113.91  Z\n",
       "  \" fill=\"#ffffff\" fill-rule=\"evenodd\" fill-opacity=\"1\"/>\n",
       "<defs>\n",
       "  <clipPath id=\"clip557\">\n",
       "    <rect x=\"1409\" y=\"1113\" width=\"945\" height=\"374\"/>\n",
       "  </clipPath>\n",
       "</defs>\n",
       "<polyline clip-path=\"url(#clip557)\" style=\"stroke:#000000; stroke-linecap:butt; stroke-linejoin:round; stroke-width:2; stroke-opacity:0.1; fill:none\" points=\"\n",
       "  1524.77,1486.45 1524.77,1113.91 \n",
       "  \"/>\n",
       "<polyline clip-path=\"url(#clip557)\" style=\"stroke:#000000; stroke-linecap:butt; stroke-linejoin:round; stroke-width:2; stroke-opacity:0.1; fill:none\" points=\"\n",
       "  1702.83,1486.45 1702.83,1113.91 \n",
       "  \"/>\n",
       "<polyline clip-path=\"url(#clip557)\" style=\"stroke:#000000; stroke-linecap:butt; stroke-linejoin:round; stroke-width:2; stroke-opacity:0.1; fill:none\" points=\"\n",
       "  1880.89,1486.45 1880.89,1113.91 \n",
       "  \"/>\n",
       "<polyline clip-path=\"url(#clip557)\" style=\"stroke:#000000; stroke-linecap:butt; stroke-linejoin:round; stroke-width:2; stroke-opacity:0.1; fill:none\" points=\"\n",
       "  2058.95,1486.45 2058.95,1113.91 \n",
       "  \"/>\n",
       "<polyline clip-path=\"url(#clip557)\" style=\"stroke:#000000; stroke-linecap:butt; stroke-linejoin:round; stroke-width:2; stroke-opacity:0.1; fill:none\" points=\"\n",
       "  2237.02,1486.45 2237.02,1113.91 \n",
       "  \"/>\n",
       "<polyline clip-path=\"url(#clip550)\" style=\"stroke:#000000; stroke-linecap:butt; stroke-linejoin:round; stroke-width:4; stroke-opacity:1; fill:none\" points=\"\n",
       "  1409.03,1486.45 2352.76,1486.45 \n",
       "  \"/>\n",
       "<polyline clip-path=\"url(#clip550)\" style=\"stroke:#000000; stroke-linecap:butt; stroke-linejoin:round; stroke-width:4; stroke-opacity:1; fill:none\" points=\"\n",
       "  1524.77,1486.45 1524.77,1467.55 \n",
       "  \"/>\n",
       "<polyline clip-path=\"url(#clip550)\" style=\"stroke:#000000; stroke-linecap:butt; stroke-linejoin:round; stroke-width:4; stroke-opacity:1; fill:none\" points=\"\n",
       "  1702.83,1486.45 1702.83,1467.55 \n",
       "  \"/>\n",
       "<polyline clip-path=\"url(#clip550)\" style=\"stroke:#000000; stroke-linecap:butt; stroke-linejoin:round; stroke-width:4; stroke-opacity:1; fill:none\" points=\"\n",
       "  1880.89,1486.45 1880.89,1467.55 \n",
       "  \"/>\n",
       "<polyline clip-path=\"url(#clip550)\" style=\"stroke:#000000; stroke-linecap:butt; stroke-linejoin:round; stroke-width:4; stroke-opacity:1; fill:none\" points=\"\n",
       "  2058.95,1486.45 2058.95,1467.55 \n",
       "  \"/>\n",
       "<polyline clip-path=\"url(#clip550)\" style=\"stroke:#000000; stroke-linecap:butt; stroke-linejoin:round; stroke-width:4; stroke-opacity:1; fill:none\" points=\"\n",
       "  2237.02,1486.45 2237.02,1467.55 \n",
       "  \"/>\n",
       "<path clip-path=\"url(#clip550)\" d=\"M1493.67 1532.02 L1523.35 1532.02 L1523.35 1535.95 L1493.67 1535.95 L1493.67 1532.02 Z\" fill=\"#000000\" fill-rule=\"evenodd\" fill-opacity=\"1\" /><path clip-path=\"url(#clip550)\" d=\"M1546.28 1518.36 L1534.48 1536.81 L1546.28 1536.81 L1546.28 1518.36 M1545.06 1514.29 L1550.94 1514.29 L1550.94 1536.81 L1555.87 1536.81 L1555.87 1540.7 L1550.94 1540.7 L1550.94 1548.85 L1546.28 1548.85 L1546.28 1540.7 L1530.68 1540.7 L1530.68 1536.19 L1545.06 1514.29 Z\" fill=\"#000000\" fill-rule=\"evenodd\" fill-opacity=\"1\" /><path clip-path=\"url(#clip550)\" d=\"M1672.77 1532.02 L1702.45 1532.02 L1702.45 1535.95 L1672.77 1535.95 L1672.77 1532.02 Z\" fill=\"#000000\" fill-rule=\"evenodd\" fill-opacity=\"1\" /><path clip-path=\"url(#clip550)\" d=\"M1716.57 1544.91 L1732.89 1544.91 L1732.89 1548.85 L1710.94 1548.85 L1710.94 1544.91 Q1713.61 1542.16 1718.19 1537.53 Q1722.8 1532.88 1723.98 1531.53 Q1726.22 1529.01 1727.1 1527.27 Q1728 1525.51 1728 1523.82 Q1728 1521.07 1726.06 1519.33 Q1724.14 1517.6 1721.04 1517.6 Q1718.84 1517.6 1716.38 1518.36 Q1713.95 1519.13 1711.18 1520.68 L1711.18 1515.95 Q1714 1514.82 1716.45 1514.24 Q1718.91 1513.66 1720.94 1513.66 Q1726.31 1513.66 1729.51 1516.35 Q1732.7 1519.03 1732.7 1523.52 Q1732.7 1525.65 1731.89 1527.57 Q1731.11 1529.47 1729 1532.07 Q1728.42 1532.74 1725.32 1535.95 Q1722.22 1539.15 1716.57 1544.91 Z\" fill=\"#000000\" fill-rule=\"evenodd\" fill-opacity=\"1\" /><path clip-path=\"url(#clip550)\" d=\"M1880.89 1517.37 Q1877.28 1517.37 1875.45 1520.93 Q1873.65 1524.47 1873.65 1531.6 Q1873.65 1538.71 1875.45 1542.27 Q1877.28 1545.82 1880.89 1545.82 Q1884.53 1545.82 1886.33 1542.27 Q1888.16 1538.71 1888.16 1531.6 Q1888.16 1524.47 1886.33 1520.93 Q1884.53 1517.37 1880.89 1517.37 M1880.89 1513.66 Q1886.7 1513.66 1889.76 1518.27 Q1892.84 1522.85 1892.84 1531.6 Q1892.84 1540.33 1889.76 1544.94 Q1886.7 1549.52 1880.89 1549.52 Q1875.08 1549.52 1872 1544.94 Q1868.95 1540.33 1868.95 1531.6 Q1868.95 1522.85 1872 1518.27 Q1875.08 1513.66 1880.89 1513.66 Z\" fill=\"#000000\" fill-rule=\"evenodd\" fill-opacity=\"1\" /><path clip-path=\"url(#clip550)\" d=\"M2053.61 1544.91 L2069.93 1544.91 L2069.93 1548.85 L2047.98 1548.85 L2047.98 1544.91 Q2050.64 1542.16 2055.23 1537.53 Q2059.83 1532.88 2061.01 1531.53 Q2063.26 1529.01 2064.14 1527.27 Q2065.04 1525.51 2065.04 1523.82 Q2065.04 1521.07 2063.1 1519.33 Q2061.18 1517.6 2058.07 1517.6 Q2055.88 1517.6 2053.42 1518.36 Q2050.99 1519.13 2048.21 1520.68 L2048.21 1515.95 Q2051.04 1514.82 2053.49 1514.24 Q2055.94 1513.66 2057.98 1513.66 Q2063.35 1513.66 2066.55 1516.35 Q2069.74 1519.03 2069.74 1523.52 Q2069.74 1525.65 2068.93 1527.57 Q2068.14 1529.47 2066.04 1532.07 Q2065.46 1532.74 2062.36 1535.95 Q2059.25 1539.15 2053.61 1544.91 Z\" fill=\"#000000\" fill-rule=\"evenodd\" fill-opacity=\"1\" /><path clip-path=\"url(#clip550)\" d=\"M2240.02 1518.36 L2228.22 1536.81 L2240.02 1536.81 L2240.02 1518.36 M2238.8 1514.29 L2244.68 1514.29 L2244.68 1536.81 L2249.61 1536.81 L2249.61 1540.7 L2244.68 1540.7 L2244.68 1548.85 L2240.02 1548.85 L2240.02 1540.7 L2224.42 1540.7 L2224.42 1536.19 L2238.8 1514.29 Z\" fill=\"#000000\" fill-rule=\"evenodd\" fill-opacity=\"1\" /><polyline clip-path=\"url(#clip557)\" style=\"stroke:#000000; stroke-linecap:butt; stroke-linejoin:round; stroke-width:2; stroke-opacity:0.1; fill:none\" points=\"\n",
       "  1409.03,1450.73 2352.76,1450.73 \n",
       "  \"/>\n",
       "<polyline clip-path=\"url(#clip557)\" style=\"stroke:#000000; stroke-linecap:butt; stroke-linejoin:round; stroke-width:2; stroke-opacity:0.1; fill:none\" points=\"\n",
       "  1409.03,1380.44 2352.76,1380.44 \n",
       "  \"/>\n",
       "<polyline clip-path=\"url(#clip557)\" style=\"stroke:#000000; stroke-linecap:butt; stroke-linejoin:round; stroke-width:2; stroke-opacity:0.1; fill:none\" points=\"\n",
       "  1409.03,1310.15 2352.76,1310.15 \n",
       "  \"/>\n",
       "<polyline clip-path=\"url(#clip557)\" style=\"stroke:#000000; stroke-linecap:butt; stroke-linejoin:round; stroke-width:2; stroke-opacity:0.1; fill:none\" points=\"\n",
       "  1409.03,1239.86 2352.76,1239.86 \n",
       "  \"/>\n",
       "<polyline clip-path=\"url(#clip557)\" style=\"stroke:#000000; stroke-linecap:butt; stroke-linejoin:round; stroke-width:2; stroke-opacity:0.1; fill:none\" points=\"\n",
       "  1409.03,1169.57 2352.76,1169.57 \n",
       "  \"/>\n",
       "<polyline clip-path=\"url(#clip550)\" style=\"stroke:#000000; stroke-linecap:butt; stroke-linejoin:round; stroke-width:4; stroke-opacity:1; fill:none\" points=\"\n",
       "  1409.03,1486.45 1409.03,1113.91 \n",
       "  \"/>\n",
       "<polyline clip-path=\"url(#clip550)\" style=\"stroke:#000000; stroke-linecap:butt; stroke-linejoin:round; stroke-width:4; stroke-opacity:1; fill:none\" points=\"\n",
       "  1409.03,1450.73 1427.93,1450.73 \n",
       "  \"/>\n",
       "<polyline clip-path=\"url(#clip550)\" style=\"stroke:#000000; stroke-linecap:butt; stroke-linejoin:round; stroke-width:4; stroke-opacity:1; fill:none\" points=\"\n",
       "  1409.03,1380.44 1427.93,1380.44 \n",
       "  \"/>\n",
       "<polyline clip-path=\"url(#clip550)\" style=\"stroke:#000000; stroke-linecap:butt; stroke-linejoin:round; stroke-width:4; stroke-opacity:1; fill:none\" points=\"\n",
       "  1409.03,1310.15 1427.93,1310.15 \n",
       "  \"/>\n",
       "<polyline clip-path=\"url(#clip550)\" style=\"stroke:#000000; stroke-linecap:butt; stroke-linejoin:round; stroke-width:4; stroke-opacity:1; fill:none\" points=\"\n",
       "  1409.03,1239.86 1427.93,1239.86 \n",
       "  \"/>\n",
       "<polyline clip-path=\"url(#clip550)\" style=\"stroke:#000000; stroke-linecap:butt; stroke-linejoin:round; stroke-width:4; stroke-opacity:1; fill:none\" points=\"\n",
       "  1409.03,1169.57 1427.93,1169.57 \n",
       "  \"/>\n",
       "<path clip-path=\"url(#clip550)\" d=\"M1310.83 1451.18 L1340.51 1451.18 L1340.51 1455.12 L1310.83 1455.12 L1310.83 1451.18 Z\" fill=\"#000000\" fill-rule=\"evenodd\" fill-opacity=\"1\" /><path clip-path=\"url(#clip550)\" d=\"M1363.45 1437.52 L1351.64 1455.97 L1363.45 1455.97 L1363.45 1437.52 M1362.22 1433.45 L1368.1 1433.45 L1368.1 1455.97 L1373.03 1455.97 L1373.03 1459.86 L1368.1 1459.86 L1368.1 1468.01 L1363.45 1468.01 L1363.45 1459.86 L1347.84 1459.86 L1347.84 1455.35 L1362.22 1433.45 Z\" fill=\"#000000\" fill-rule=\"evenodd\" fill-opacity=\"1\" /><path clip-path=\"url(#clip550)\" d=\"M1312.91 1380.89 L1342.59 1380.89 L1342.59 1384.83 L1312.91 1384.83 L1312.91 1380.89 Z\" fill=\"#000000\" fill-rule=\"evenodd\" fill-opacity=\"1\" /><path clip-path=\"url(#clip550)\" d=\"M1356.71 1393.78 L1373.03 1393.78 L1373.03 1397.72 L1351.08 1397.72 L1351.08 1393.78 Q1353.75 1391.03 1358.33 1386.4 Q1362.94 1381.75 1364.12 1380.4 Q1366.36 1377.88 1367.24 1376.14 Q1368.14 1374.39 1368.14 1372.7 Q1368.14 1369.94 1366.2 1368.2 Q1364.28 1366.47 1361.18 1366.47 Q1358.98 1366.47 1356.52 1367.23 Q1354.09 1368 1351.32 1369.55 L1351.32 1364.83 Q1354.14 1363.69 1356.59 1363.11 Q1359.05 1362.53 1361.08 1362.53 Q1366.45 1362.53 1369.65 1365.22 Q1372.84 1367.9 1372.84 1372.39 Q1372.84 1374.52 1372.03 1376.45 Q1371.25 1378.34 1369.14 1380.94 Q1368.56 1381.61 1365.46 1384.83 Q1362.36 1388.02 1356.71 1393.78 Z\" fill=\"#000000\" fill-rule=\"evenodd\" fill-opacity=\"1\" /><path clip-path=\"url(#clip550)\" d=\"M1361.08 1295.95 Q1357.47 1295.95 1355.64 1299.51 Q1353.84 1303.05 1353.84 1310.18 Q1353.84 1317.29 1355.64 1320.85 Q1357.47 1324.4 1361.08 1324.4 Q1364.72 1324.4 1366.52 1320.85 Q1368.35 1317.29 1368.35 1310.18 Q1368.35 1303.05 1366.52 1299.51 Q1364.72 1295.95 1361.08 1295.95 M1361.08 1292.24 Q1366.89 1292.24 1369.95 1296.85 Q1373.03 1301.43 1373.03 1310.18 Q1373.03 1318.91 1369.95 1323.52 Q1366.89 1328.1 1361.08 1328.1 Q1355.27 1328.1 1352.2 1323.52 Q1349.14 1318.91 1349.14 1310.18 Q1349.14 1301.43 1352.2 1296.85 Q1355.27 1292.24 1361.08 1292.24 Z\" fill=\"#000000\" fill-rule=\"evenodd\" fill-opacity=\"1\" /><path clip-path=\"url(#clip550)\" d=\"M1356.71 1253.2 L1373.03 1253.2 L1373.03 1257.14 L1351.08 1257.14 L1351.08 1253.2 Q1353.75 1250.45 1358.33 1245.82 Q1362.94 1241.17 1364.12 1239.82 Q1366.36 1237.3 1367.24 1235.56 Q1368.14 1233.81 1368.14 1232.12 Q1368.14 1229.36 1366.2 1227.62 Q1364.28 1225.89 1361.18 1225.89 Q1358.98 1225.89 1356.52 1226.65 Q1354.09 1227.42 1351.32 1228.97 L1351.32 1224.25 Q1354.14 1223.11 1356.59 1222.53 Q1359.05 1221.95 1361.08 1221.95 Q1366.45 1221.95 1369.65 1224.64 Q1372.84 1227.32 1372.84 1231.81 Q1372.84 1233.94 1372.03 1235.87 Q1371.25 1237.76 1369.14 1240.36 Q1368.56 1241.03 1365.46 1244.25 Q1362.36 1247.44 1356.71 1253.2 Z\" fill=\"#000000\" fill-rule=\"evenodd\" fill-opacity=\"1\" /><path clip-path=\"url(#clip550)\" d=\"M1363.45 1156.36 L1351.64 1174.81 L1363.45 1174.81 L1363.45 1156.36 M1362.22 1152.29 L1368.1 1152.29 L1368.1 1174.81 L1373.03 1174.81 L1373.03 1178.7 L1368.1 1178.7 L1368.1 1186.85 L1363.45 1186.85 L1363.45 1178.7 L1347.84 1178.7 L1347.84 1174.19 L1362.22 1152.29 Z\" fill=\"#000000\" fill-rule=\"evenodd\" fill-opacity=\"1\" /><polyline clip-path=\"url(#clip557)\" style=\"stroke:#009af9; stroke-linecap:butt; stroke-linejoin:round; stroke-width:4; stroke-opacity:1; fill:none\" points=\"\n",
       "  1435.74,1124.45 1438.64,1126.7 1441.53,1128.96 1468.33,1150.05 1495.13,1170.89 1511.23,1182.91 1527.34,1194.31 1540.96,1203.36 1554.57,1211.77 1561.97,1216.04 \n",
       "  1569.36,1220.09 1576.76,1223.92 1584.15,1227.51 1597.79,1233.51 1611.43,1238.69 1626.04,1243.33 1640.66,1247.07 1649.13,1248.83 1657.6,1250.33 1666.07,1251.57 \n",
       "  1674.54,1252.57 1689.59,1253.83 1704.64,1254.55 1717.84,1254.84 1731.04,1254.93 1759.82,1255 1788.78,1255.83 1804.78,1257.04 1820.79,1258.99 1836.02,1261.66 \n",
       "  1851.25,1265.23 1859.16,1267.47 1867.08,1269.97 1875,1272.75 1882.92,1275.81 1896.25,1281.59 1909.57,1288.13 1917.71,1292.5 1925.85,1297.14 1933.99,1302.03 \n",
       "  1942.12,1307.16 1957.03,1317.15 1971.94,1327.77 1999.47,1348.64 2027.37,1370.58 2043,1382.84 2058.63,1394.82 2072.79,1405.3 2086.96,1415.29 2095.07,1420.74 \n",
       "  2103.17,1425.98 2111.28,1430.99 2119.39,1435.74 2134.41,1443.86 2149.42,1451.02 2164.22,1457.11 2179.03,1462.23 2186.21,1464.37 2193.4,1466.3 2200.59,1468.01 \n",
       "  2207.77,1469.51 2222.51,1471.98 2237.24,1473.72 2253.38,1474.91 2269.53,1475.52 2292.98,1475.76 2316.43,1475.8 2321.24,1475.84 2326.05,1475.9 \n",
       "  \"/>\n",
       "<path clip-path=\"url(#clip550)\" d=\"\n",
       "M2162.62 1230.01 L2321.3 1230.01 L2321.3 1126.33 L2162.62 1126.33  Z\n",
       "  \" fill=\"#ffffff\" fill-rule=\"evenodd\" fill-opacity=\"1\"/>\n",
       "<polyline clip-path=\"url(#clip550)\" style=\"stroke:#000000; stroke-linecap:butt; stroke-linejoin:round; stroke-width:4; stroke-opacity:1; fill:none\" points=\"\n",
       "  2162.62,1230.01 2321.3,1230.01 2321.3,1126.33 2162.62,1126.33 2162.62,1230.01 \n",
       "  \"/>\n",
       "<polyline clip-path=\"url(#clip550)\" style=\"stroke:#009af9; stroke-linecap:butt; stroke-linejoin:round; stroke-width:4; stroke-opacity:1; fill:none\" points=\"\n",
       "  2173.11,1178.17 2236.02,1178.17 \n",
       "  \"/>\n",
       "<path clip-path=\"url(#clip550)\" d=\"M2260.35 1197.86 Q2258.54 1202.49 2256.83 1203.9 Q2255.12 1205.31 2252.25 1205.31 L2248.85 1205.31 L2248.85 1201.74 L2251.35 1201.74 Q2253.1 1201.74 2254.08 1200.91 Q2255.05 1200.08 2256.23 1196.98 L2256.99 1195.03 L2246.51 1169.52 L2251.02 1169.52 L2259.12 1189.8 L2267.22 1169.52 L2271.74 1169.52 L2260.35 1197.86 Z\" fill=\"#000000\" fill-rule=\"evenodd\" fill-opacity=\"1\" /><path clip-path=\"url(#clip550)\" d=\"M2288.8 1176.31 Q2285.65 1176.31 2283.8 1178.46 Q2281.97 1180.61 2281.97 1184.36 Q2281.97 1188.09 2283.8 1190.26 Q2285.65 1192.42 2288.8 1192.42 Q2291.95 1192.42 2293.78 1190.26 Q2295.63 1188.09 2295.63 1184.36 Q2295.63 1180.61 2293.78 1178.46 Q2291.95 1176.31 2288.8 1176.31 M2298.08 1161.65 L2298.08 1165.91 Q2296.32 1165.08 2294.52 1164.64 Q2292.73 1164.2 2290.97 1164.2 Q2286.35 1164.2 2283.89 1167.32 Q2281.46 1170.45 2281.11 1176.77 Q2282.48 1174.75 2284.54 1173.69 Q2286.6 1172.6 2289.08 1172.6 Q2294.28 1172.6 2297.29 1175.77 Q2300.33 1178.92 2300.33 1184.36 Q2300.33 1189.68 2297.18 1192.9 Q2294.03 1196.12 2288.8 1196.12 Q2282.8 1196.12 2279.63 1191.54 Q2276.46 1186.93 2276.46 1178.2 Q2276.46 1170.01 2280.35 1165.15 Q2284.24 1160.26 2290.79 1160.26 Q2292.55 1160.26 2294.33 1160.61 Q2296.14 1160.96 2298.08 1161.65 Z\" fill=\"#000000\" fill-rule=\"evenodd\" fill-opacity=\"1\" /></svg>\n"
      ]
     },
     "execution_count": 28,
     "metadata": {},
     "output_type": "execute_result"
    }
   ],
   "source": [
    "plot_all = plot(functions, layout=(3,2))"
   ]
  },
  {
   "cell_type": "markdown",
   "metadata": {},
   "source": [
    "### Sprawdzenie czy znaleźliśmy zero"
   ]
  },
  {
   "cell_type": "code",
   "execution_count": 29,
   "metadata": {},
   "outputs": [
    {
     "data": {
      "text/plain": [
       "verify_zero (generic function with 1 method)"
      ]
     },
     "execution_count": 29,
     "metadata": {},
     "output_type": "execute_result"
    }
   ],
   "source": [
    "function verify_zero(f, x)\n",
    "    sign(f(prevfloat(x))) * sign(f(nextfloat(x))) == -1 || iszero(f(x))\n",
    "end"
   ]
  },
  {
   "cell_type": "markdown",
   "metadata": {},
   "source": [
    "### Podpunkt 1:"
   ]
  },
  {
   "cell_type": "markdown",
   "metadata": {},
   "source": [
    "**Metoda bisekcji:**"
   ]
  },
  {
   "cell_type": "code",
   "execution_count": 30,
   "metadata": {},
   "outputs": [
    {
     "name": "stdout",
     "output_type": "stream",
     "text": [
      "Arrays for bisection results initialized"
     ]
    }
   ],
   "source": [
    "B = Array{Float64}(undef, 0)\n",
    "B_zero = Array{Bool}(undef, 0)\n",
    "B_iterations = Array{Int}(undef, 0)\n",
    "B_calls = Array{Int}(undef, 0)\n",
    "\n",
    "@printf(\"Arrays for bisection results initialized\")"
   ]
  },
  {
   "cell_type": "code",
   "execution_count": 31,
   "metadata": {},
   "outputs": [
    {
     "name": "stdout",
     "output_type": "stream",
     "text": [
      "Bisection:\n",
      "f no. 1:\tf(x_0): 0.0\t1.895494267033981\n",
      "f no. 2:\tf(x_0): 0.0\t0.35173371124919584\n",
      "f no. 3:\tf(x_0): 0.0\t0.0\n",
      "f no. 4:\tf(x_0): 0.0\t0.0\n",
      "f no. 5:\tf(x_0): 0.0\t-3.0\n",
      "f no. 6:\tf(x_0): 0.0\t0.7390851332151607\n"
     ]
    }
   ],
   "source": [
    "tracker = Roots.Tracks()\n",
    "\n",
    "for i in 1:6\n",
    "    # Bisection\n",
    "    res_i = find_zero(functions[i], f_interval[i], Bisection(), tracks=tracker)\n",
    "    append!(B, res_i)\n",
    "    append!(B_iterations, tracker.steps)\n",
    "    append!(B_calls, tracker.fncalls)\n",
    "end\n",
    "\n",
    "@printf(\"Bisection:\\n\")\n",
    "for i in 1:6\n",
    "    @printf(\"f no. %s:\\tf(x_0): %s\\t%s\\n\", i, functions[i](B[i]), B[i])\n",
    "end"
   ]
  },
  {
   "cell_type": "markdown",
   "metadata": {},
   "source": [
    "**Sprawdzenie poprawności otrzymanego wyniku:**"
   ]
  },
  {
   "cell_type": "code",
   "execution_count": 32,
   "metadata": {},
   "outputs": [],
   "source": [
    "for i in 1:6\n",
    "    result = verify_zero(functions[i], B[i])    \n",
    "    append!(B_zero, result)\n",
    "end"
   ]
  },
  {
   "cell_type": "code",
   "execution_count": 33,
   "metadata": {},
   "outputs": [
    {
     "data": {
      "text/html": [
       "<div class=\"data-frame\"><p>6 rows × 4 columns</p><table class=\"data-frame\"><thead><tr><th></th><th>x_values</th><th>is_zero</th><th>bisection_it</th><th>bisection_fev</th></tr><tr><th></th><th title=\"Float64\">Float64</th><th title=\"Bool\">Bool</th><th title=\"Int64\">Int64</th><th title=\"Int64\">Int64</th></tr></thead><tbody><tr><th>1</th><td>1.89549</td><td>1</td><td>51</td><td>54</td></tr><tr><th>2</th><td>0.351734</td><td>1</td><td>112</td><td>118</td></tr><tr><th>3</th><td>0.0</td><td>1</td><td>112</td><td>121</td></tr><tr><th>4</th><td>0.0</td><td>1</td><td>112</td><td>124</td></tr><tr><th>5</th><td>-3.0</td><td>1</td><td>173</td><td>188</td></tr><tr><th>6</th><td>0.739085</td><td>1</td><td>234</td><td>252</td></tr></tbody></table></div>"
      ],
      "text/latex": [
       "\\begin{tabular}{r|cccc}\n",
       "\t& x\\_values & is\\_zero & bisection\\_it & bisection\\_fev\\\\\n",
       "\t\\hline\n",
       "\t& Float64 & Bool & Int64 & Int64\\\\\n",
       "\t\\hline\n",
       "\t1 & 1.89549 & 1 & 51 & 54 \\\\\n",
       "\t2 & 0.351734 & 1 & 112 & 118 \\\\\n",
       "\t3 & 0.0 & 1 & 112 & 121 \\\\\n",
       "\t4 & 0.0 & 1 & 112 & 124 \\\\\n",
       "\t5 & -3.0 & 1 & 173 & 188 \\\\\n",
       "\t6 & 0.739085 & 1 & 234 & 252 \\\\\n",
       "\\end{tabular}\n"
      ],
      "text/plain": [
       "\u001b[1m6×4 DataFrame\u001b[0m\n",
       "\u001b[1m Row \u001b[0m│\u001b[1m x_values  \u001b[0m\u001b[1m is_zero \u001b[0m\u001b[1m bisection_it \u001b[0m\u001b[1m bisection_fev \u001b[0m\n",
       "\u001b[1m     \u001b[0m│\u001b[90m Float64   \u001b[0m\u001b[90m Bool    \u001b[0m\u001b[90m Int64        \u001b[0m\u001b[90m Int64         \u001b[0m\n",
       "─────┼─────────────────────────────────────────────────\n",
       "   1 │  1.89549      true            51             54\n",
       "   2 │  0.351734     true           112            118\n",
       "   3 │  0.0          true           112            121\n",
       "   4 │  0.0          true           112            124\n",
       "   5 │ -3.0          true           173            188\n",
       "   6 │  0.739085     true           234            252"
      ]
     },
     "execution_count": 33,
     "metadata": {},
     "output_type": "execute_result"
    }
   ],
   "source": [
    "data_frame = DataFrame(\n",
    "    x_values = B,\n",
    "    is_zero = B_zero,\n",
    "    bisection_it = B_iterations,\n",
    "    bisection_fev = B_calls\n",
    ")"
   ]
  },
  {
   "cell_type": "markdown",
   "metadata": {},
   "source": [
    "**Metoda Newtona-Raphsona:**"
   ]
  },
  {
   "cell_type": "code",
   "execution_count": 34,
   "metadata": {},
   "outputs": [
    {
     "name": "stdout",
     "output_type": "stream",
     "text": [
      "Newton-Raphson:\n",
      "f no. 1:\tf(x_0): 0.0\t\t\t1.895494267033981\n",
      "f no. 2:\tf(x_0): 0.0\t\t\t0.35173371124919584\n",
      "f no. 3:\tf(x_0): -8.80999858950826e-27\t\t\t-8.80999858950826e-27\n",
      "f no. 4:\tf(x_0): -4.786967314877968e-16\t\t\t-7.822642576269843e-6\n",
      "f no. 5:\tf(x_0): 0.0\t\t\t-3.0\n",
      "f no. 6:\tf(x_0): 0.0\t\t\t0.7390851332151607\n"
     ]
    }
   ],
   "source": [
    "NR = Array{Float64}(undef, 0)\n",
    "NR_zero = Array{Bool}(undef, 0)\n",
    "NR_iterations = Array{Int}(undef, 0)\n",
    "NR_calls = Array{Int}(undef, 0)\n",
    "\n",
    "tracker = Roots.Tracks()\n",
    "\n",
    "for i in 1:6\n",
    "    # Newton-Raphson    \n",
    "    res_i = find_zero((functions[i], df[i]), f_interval[i][1], Roots.Newton(), tracks=tracker)\n",
    "    append!(NR, res_i)\n",
    "    append!(NR_zero, verify_zero(functions[i], NR[i]))\n",
    "    append!(NR_iterations, tracker.steps)\n",
    "    append!(NR_calls, tracker.fncalls)\n",
    "end\n",
    "\n",
    "@printf(\"Newton-Raphson:\\n\")\n",
    "for i in 1:6\n",
    "    @printf(\"f no. %s:\\tf(x_0): %s\\t\\t\\t%s\\n\", i, functions[i](NR[i]), NR[i])\n",
    "end"
   ]
  },
  {
   "cell_type": "code",
   "execution_count": 35,
   "metadata": {},
   "outputs": [
    {
     "data": {
      "text/html": [
       "<div class=\"data-frame\"><p>6 rows × 4 columns</p><table class=\"data-frame\"><thead><tr><th></th><th>x_values</th><th>is_zero</th><th>bisection_it</th><th>bisection_fev</th></tr><tr><th></th><th title=\"Float64\">Float64</th><th title=\"Bool\">Bool</th><th title=\"Int64\">Int64</th><th title=\"Int64\">Int64</th></tr></thead><tbody><tr><th>1</th><td>1.89549</td><td>1</td><td>14</td><td>28</td></tr><tr><th>2</th><td>0.351734</td><td>1</td><td>19</td><td>38</td></tr><tr><th>3</th><td>-8.81e-27</td><td>0</td><td>26</td><td>52</td></tr><tr><th>4</th><td>-7.82264e-6</td><td>0</td><td>55</td><td>110</td></tr><tr><th>5</th><td>-3.0</td><td>1</td><td>61</td><td>122</td></tr><tr><th>6</th><td>0.739085</td><td>1</td><td>69</td><td>138</td></tr></tbody></table></div>"
      ],
      "text/latex": [
       "\\begin{tabular}{r|cccc}\n",
       "\t& x\\_values & is\\_zero & bisection\\_it & bisection\\_fev\\\\\n",
       "\t\\hline\n",
       "\t& Float64 & Bool & Int64 & Int64\\\\\n",
       "\t\\hline\n",
       "\t1 & 1.89549 & 1 & 14 & 28 \\\\\n",
       "\t2 & 0.351734 & 1 & 19 & 38 \\\\\n",
       "\t3 & -8.81e-27 & 0 & 26 & 52 \\\\\n",
       "\t4 & -7.82264e-6 & 0 & 55 & 110 \\\\\n",
       "\t5 & -3.0 & 1 & 61 & 122 \\\\\n",
       "\t6 & 0.739085 & 1 & 69 & 138 \\\\\n",
       "\\end{tabular}\n"
      ],
      "text/plain": [
       "\u001b[1m6×4 DataFrame\u001b[0m\n",
       "\u001b[1m Row \u001b[0m│\u001b[1m x_values    \u001b[0m\u001b[1m is_zero \u001b[0m\u001b[1m bisection_it \u001b[0m\u001b[1m bisection_fev \u001b[0m\n",
       "\u001b[1m     \u001b[0m│\u001b[90m Float64     \u001b[0m\u001b[90m Bool    \u001b[0m\u001b[90m Int64        \u001b[0m\u001b[90m Int64         \u001b[0m\n",
       "─────┼───────────────────────────────────────────────────\n",
       "   1 │  1.89549        true            14             28\n",
       "   2 │  0.351734       true            19             38\n",
       "   3 │ -8.81e-27      false            26             52\n",
       "   4 │ -7.82264e-6    false            55            110\n",
       "   5 │ -3.0            true            61            122\n",
       "   6 │  0.739085       true            69            138"
      ]
     },
     "execution_count": 35,
     "metadata": {},
     "output_type": "execute_result"
    }
   ],
   "source": [
    "data_frame = DataFrame(\n",
    "    x_values = NR,\n",
    "    is_zero = NR_zero,\n",
    "    bisection_it = NR_iterations,\n",
    "    bisection_fev = NR_calls\n",
    ")"
   ]
  },
  {
   "cell_type": "markdown",
   "metadata": {},
   "source": [
    "**Metoda Steffensena:**"
   ]
  },
  {
   "cell_type": "code",
   "execution_count": 36,
   "metadata": {},
   "outputs": [
    {
     "name": "stdout",
     "output_type": "stream",
     "text": [
      "Steffensen:\n",
      "f no. 1:\tf(x_0): -2.220446049250313e-16\t\t\t1.8954942670339812\n",
      "f no. 2:\tf(x_0): 2.220446049250313e-16\t\t\t0.3517337112491959\n",
      "f no. 3:\tf(x_0): 0.0\t\t\t0.0\n",
      "f no. 4:\tf(x_0): -6.134154522433141e-16\t\t\t-8.496725161716299e-6\n",
      "f no. 5:\tf(x_0): 0.0\t\t\t-3.0\n",
      "f no. 6:\tf(x_0): 0.0\t\t\t0.7390851332151607\n"
     ]
    }
   ],
   "source": [
    "S = Array{Float64}(undef, 0)\n",
    "S_zero = Array{Bool}(undef, 0)\n",
    "S_iterations = Array{Int}(undef, 0)\n",
    "S_calls = Array{Int}(undef, 0)\n",
    "\n",
    "tracker = Roots.Tracks()\n",
    "\n",
    "for i in 1:6\n",
    "    # Steffensen   \n",
    "    res_i = find_zero(functions[i], f_interval[i][1], Order2(), tracks=tracker)\n",
    "    append!(S, res_i)\n",
    "    append!(S_zero, verify_zero(functions[i], S[i]))\n",
    "    append!(S_iterations, tracker.steps)\n",
    "    append!(S_calls, tracker.fncalls)\n",
    "end\n",
    "\n",
    "@printf(\"Steffensen:\\n\")\n",
    "for i in 1:6\n",
    "    @printf(\"f no. %s:\\tf(x_0): %s\\t\\t\\t%s\\n\", i, functions[i](S[i]), S[i])\n",
    "end"
   ]
  },
  {
   "cell_type": "code",
   "execution_count": 37,
   "metadata": {},
   "outputs": [
    {
     "data": {
      "text/html": [
       "<div class=\"data-frame\"><p>6 rows × 4 columns</p><table class=\"data-frame\"><thead><tr><th></th><th>x_values</th><th>is_zero</th><th>bisection_it</th><th>bisection_fev</th></tr><tr><th></th><th title=\"Float64\">Float64</th><th title=\"Bool\">Bool</th><th title=\"Int64\">Int64</th><th title=\"Int64\">Int64</th></tr></thead><tbody><tr><th>1</th><td>1.89549</td><td>0</td><td>9</td><td>13</td></tr><tr><th>2</th><td>0.351734</td><td>0</td><td>14</td><td>22</td></tr><tr><th>3</th><td>0.0</td><td>1</td><td>22</td><td>34</td></tr><tr><th>4</th><td>-8.49673e-6</td><td>0</td><td>53</td><td>90</td></tr><tr><th>5</th><td>-3.0</td><td>1</td><td>60</td><td>101</td></tr><tr><th>6</th><td>0.739085</td><td>1</td><td>67</td><td>112</td></tr></tbody></table></div>"
      ],
      "text/latex": [
       "\\begin{tabular}{r|cccc}\n",
       "\t& x\\_values & is\\_zero & bisection\\_it & bisection\\_fev\\\\\n",
       "\t\\hline\n",
       "\t& Float64 & Bool & Int64 & Int64\\\\\n",
       "\t\\hline\n",
       "\t1 & 1.89549 & 0 & 9 & 13 \\\\\n",
       "\t2 & 0.351734 & 0 & 14 & 22 \\\\\n",
       "\t3 & 0.0 & 1 & 22 & 34 \\\\\n",
       "\t4 & -8.49673e-6 & 0 & 53 & 90 \\\\\n",
       "\t5 & -3.0 & 1 & 60 & 101 \\\\\n",
       "\t6 & 0.739085 & 1 & 67 & 112 \\\\\n",
       "\\end{tabular}\n"
      ],
      "text/plain": [
       "\u001b[1m6×4 DataFrame\u001b[0m\n",
       "\u001b[1m Row \u001b[0m│\u001b[1m x_values    \u001b[0m\u001b[1m is_zero \u001b[0m\u001b[1m bisection_it \u001b[0m\u001b[1m bisection_fev \u001b[0m\n",
       "\u001b[1m     \u001b[0m│\u001b[90m Float64     \u001b[0m\u001b[90m Bool    \u001b[0m\u001b[90m Int64        \u001b[0m\u001b[90m Int64         \u001b[0m\n",
       "─────┼───────────────────────────────────────────────────\n",
       "   1 │  1.89549       false             9             13\n",
       "   2 │  0.351734      false            14             22\n",
       "   3 │  0.0            true            22             34\n",
       "   4 │ -8.49673e-6    false            53             90\n",
       "   5 │ -3.0            true            60            101\n",
       "   6 │  0.739085       true            67            112"
      ]
     },
     "execution_count": 37,
     "metadata": {},
     "output_type": "execute_result"
    }
   ],
   "source": [
    "data_frame = DataFrame(\n",
    "    x_values = S,\n",
    "    is_zero = S_zero,\n",
    "    bisection_it = S_iterations,\n",
    "    bisection_fev = S_calls\n",
    ")"
   ]
  },
  {
   "cell_type": "markdown",
   "metadata": {},
   "source": [
    "- Order1 nie działa dla f2, f3, f4.\n",
    "- Order2 nie działa dla f1, f2, f4.\n",
    "- Order5 nie działa dla f3, f4, f6.\n",
    "- Order8 nie działa dla f3, f4.\n",
    "- Order16 nie działa dla f4."
   ]
  },
  {
   "cell_type": "markdown",
   "metadata": {},
   "source": [
    "### Podpunkt 2:"
   ]
  },
  {
   "cell_type": "markdown",
   "metadata": {},
   "source": [
    "**Zademonstrować wybrany, ciekawy przykład trudnej funkcji z p.1 i działania metod na niej:**"
   ]
  },
  {
   "cell_type": "markdown",
   "metadata": {},
   "source": [
    "$f(x) = ( 16.0 - x ^ 4 ) / ( 16.0 * x ^ 4 + 0.00001 )$ Pinhead"
   ]
  },
  {
   "cell_type": "code",
   "execution_count": 38,
   "metadata": {},
   "outputs": [
    {
     "data": {
      "text/plain": [
       "f (generic function with 1 method)"
      ]
     },
     "execution_count": 38,
     "metadata": {},
     "output_type": "execute_result"
    }
   ],
   "source": [
    "f(x) = ( 16.0 - x ^ 4 ) / ( 16.0 * x ^ 4 + 0.00001 )"
   ]
  },
  {
   "cell_type": "code",
   "execution_count": 39,
   "metadata": {},
   "outputs": [
    {
     "data": {
      "image/svg+xml": [
       "<?xml version=\"1.0\" encoding=\"utf-8\"?>\n",
       "<svg xmlns=\"http://www.w3.org/2000/svg\" xmlns:xlink=\"http://www.w3.org/1999/xlink\" width=\"600\" height=\"400\" viewBox=\"0 0 2400 1600\">\n",
       "<defs>\n",
       "  <clipPath id=\"clip590\">\n",
       "    <rect x=\"0\" y=\"0\" width=\"2400\" height=\"1600\"/>\n",
       "  </clipPath>\n",
       "</defs>\n",
       "<path clip-path=\"url(#clip590)\" d=\"\n",
       "M0 1600 L2400 1600 L2400 0 L0 0  Z\n",
       "  \" fill=\"#ffffff\" fill-rule=\"evenodd\" fill-opacity=\"1\"/>\n",
       "<defs>\n",
       "  <clipPath id=\"clip591\">\n",
       "    <rect x=\"480\" y=\"0\" width=\"1681\" height=\"1600\"/>\n",
       "  </clipPath>\n",
       "</defs>\n",
       "<path clip-path=\"url(#clip590)\" d=\"\n",
       "M303.956 1486.45 L2352.76 1486.45 L2352.76 47.2441 L303.956 47.2441  Z\n",
       "  \" fill=\"#ffffff\" fill-rule=\"evenodd\" fill-opacity=\"1\"/>\n",
       "<defs>\n",
       "  <clipPath id=\"clip592\">\n",
       "    <rect x=\"303\" y=\"47\" width=\"2050\" height=\"1440\"/>\n",
       "  </clipPath>\n",
       "</defs>\n",
       "<polyline clip-path=\"url(#clip592)\" style=\"stroke:#000000; stroke-linecap:butt; stroke-linejoin:round; stroke-width:2; stroke-opacity:0.1; fill:none\" points=\"\n",
       "  555.224,1486.45 555.224,47.2441 \n",
       "  \"/>\n",
       "<polyline clip-path=\"url(#clip592)\" style=\"stroke:#000000; stroke-linecap:butt; stroke-linejoin:round; stroke-width:2; stroke-opacity:0.1; fill:none\" points=\"\n",
       "  941.79,1486.45 941.79,47.2441 \n",
       "  \"/>\n",
       "<polyline clip-path=\"url(#clip592)\" style=\"stroke:#000000; stroke-linecap:butt; stroke-linejoin:round; stroke-width:2; stroke-opacity:0.1; fill:none\" points=\"\n",
       "  1328.36,1486.45 1328.36,47.2441 \n",
       "  \"/>\n",
       "<polyline clip-path=\"url(#clip592)\" style=\"stroke:#000000; stroke-linecap:butt; stroke-linejoin:round; stroke-width:2; stroke-opacity:0.1; fill:none\" points=\"\n",
       "  1714.92,1486.45 1714.92,47.2441 \n",
       "  \"/>\n",
       "<polyline clip-path=\"url(#clip592)\" style=\"stroke:#000000; stroke-linecap:butt; stroke-linejoin:round; stroke-width:2; stroke-opacity:0.1; fill:none\" points=\"\n",
       "  2101.49,1486.45 2101.49,47.2441 \n",
       "  \"/>\n",
       "<polyline clip-path=\"url(#clip590)\" style=\"stroke:#000000; stroke-linecap:butt; stroke-linejoin:round; stroke-width:4; stroke-opacity:1; fill:none\" points=\"\n",
       "  303.956,1486.45 2352.76,1486.45 \n",
       "  \"/>\n",
       "<polyline clip-path=\"url(#clip590)\" style=\"stroke:#000000; stroke-linecap:butt; stroke-linejoin:round; stroke-width:4; stroke-opacity:1; fill:none\" points=\"\n",
       "  555.224,1486.45 555.224,1467.55 \n",
       "  \"/>\n",
       "<polyline clip-path=\"url(#clip590)\" style=\"stroke:#000000; stroke-linecap:butt; stroke-linejoin:round; stroke-width:4; stroke-opacity:1; fill:none\" points=\"\n",
       "  941.79,1486.45 941.79,1467.55 \n",
       "  \"/>\n",
       "<polyline clip-path=\"url(#clip590)\" style=\"stroke:#000000; stroke-linecap:butt; stroke-linejoin:round; stroke-width:4; stroke-opacity:1; fill:none\" points=\"\n",
       "  1328.36,1486.45 1328.36,1467.55 \n",
       "  \"/>\n",
       "<polyline clip-path=\"url(#clip590)\" style=\"stroke:#000000; stroke-linecap:butt; stroke-linejoin:round; stroke-width:4; stroke-opacity:1; fill:none\" points=\"\n",
       "  1714.92,1486.45 1714.92,1467.55 \n",
       "  \"/>\n",
       "<polyline clip-path=\"url(#clip590)\" style=\"stroke:#000000; stroke-linecap:butt; stroke-linejoin:round; stroke-width:4; stroke-opacity:1; fill:none\" points=\"\n",
       "  2101.49,1486.45 2101.49,1467.55 \n",
       "  \"/>\n",
       "<path clip-path=\"url(#clip590)\" d=\"M524.124 1532.02 L553.8 1532.02 L553.8 1535.95 L524.124 1535.95 L524.124 1532.02 Z\" fill=\"#000000\" fill-rule=\"evenodd\" fill-opacity=\"1\" /><path clip-path=\"url(#clip590)\" d=\"M576.74 1518.36 L564.934 1536.81 L576.74 1536.81 L576.74 1518.36 M575.513 1514.29 L581.392 1514.29 L581.392 1536.81 L586.323 1536.81 L586.323 1540.7 L581.392 1540.7 L581.392 1548.85 L576.74 1548.85 L576.74 1540.7 L561.138 1540.7 L561.138 1536.19 L575.513 1514.29 Z\" fill=\"#000000\" fill-rule=\"evenodd\" fill-opacity=\"1\" /><path clip-path=\"url(#clip590)\" d=\"M911.732 1532.02 L941.408 1532.02 L941.408 1535.95 L911.732 1535.95 L911.732 1532.02 Z\" fill=\"#000000\" fill-rule=\"evenodd\" fill-opacity=\"1\" /><path clip-path=\"url(#clip590)\" d=\"M955.528 1544.91 L971.847 1544.91 L971.847 1548.85 L949.903 1548.85 L949.903 1544.91 Q952.565 1542.16 957.148 1537.53 Q961.755 1532.88 962.935 1531.53 Q965.181 1529.01 966.06 1527.27 Q966.963 1525.51 966.963 1523.82 Q966.963 1521.07 965.019 1519.33 Q963.097 1517.6 959.996 1517.6 Q957.797 1517.6 955.343 1518.36 Q952.912 1519.13 950.135 1520.68 L950.135 1515.95 Q952.959 1514.82 955.412 1514.24 Q957.866 1513.66 959.903 1513.66 Q965.273 1513.66 968.468 1516.35 Q971.662 1519.03 971.662 1523.52 Q971.662 1525.65 970.852 1527.57 Q970.065 1529.47 967.959 1532.07 Q967.38 1532.74 964.278 1535.95 Q961.176 1539.15 955.528 1544.91 Z\" fill=\"#000000\" fill-rule=\"evenodd\" fill-opacity=\"1\" /><path clip-path=\"url(#clip590)\" d=\"M1328.36 1517.37 Q1324.74 1517.37 1322.92 1520.93 Q1321.11 1524.47 1321.11 1531.6 Q1321.11 1538.71 1322.92 1542.27 Q1324.74 1545.82 1328.36 1545.82 Q1331.99 1545.82 1333.8 1542.27 Q1335.62 1538.71 1335.62 1531.6 Q1335.62 1524.47 1333.8 1520.93 Q1331.99 1517.37 1328.36 1517.37 M1328.36 1513.66 Q1334.17 1513.66 1337.22 1518.27 Q1340.3 1522.85 1340.3 1531.6 Q1340.3 1540.33 1337.22 1544.94 Q1334.17 1549.52 1328.36 1549.52 Q1322.55 1549.52 1319.47 1544.94 Q1316.41 1540.33 1316.41 1531.6 Q1316.41 1522.85 1319.47 1518.27 Q1322.55 1513.66 1328.36 1513.66 Z\" fill=\"#000000\" fill-rule=\"evenodd\" fill-opacity=\"1\" /><path clip-path=\"url(#clip590)\" d=\"M1709.57 1544.91 L1725.89 1544.91 L1725.89 1548.85 L1703.95 1548.85 L1703.95 1544.91 Q1706.61 1542.16 1711.2 1537.53 Q1715.8 1532.88 1716.98 1531.53 Q1719.23 1529.01 1720.11 1527.27 Q1721.01 1525.51 1721.01 1523.82 Q1721.01 1521.07 1719.07 1519.33 Q1717.14 1517.6 1714.04 1517.6 Q1711.84 1517.6 1709.39 1518.36 Q1706.96 1519.13 1704.18 1520.68 L1704.18 1515.95 Q1707.01 1514.82 1709.46 1514.24 Q1711.91 1513.66 1713.95 1513.66 Q1719.32 1513.66 1722.51 1516.35 Q1725.71 1519.03 1725.71 1523.52 Q1725.71 1525.65 1724.9 1527.57 Q1724.11 1529.47 1722.01 1532.07 Q1721.43 1532.74 1718.32 1535.95 Q1715.22 1539.15 1709.57 1544.91 Z\" fill=\"#000000\" fill-rule=\"evenodd\" fill-opacity=\"1\" /><path clip-path=\"url(#clip590)\" d=\"M2104.5 1518.36 L2092.69 1536.81 L2104.5 1536.81 L2104.5 1518.36 M2103.27 1514.29 L2109.15 1514.29 L2109.15 1536.81 L2114.08 1536.81 L2114.08 1540.7 L2109.15 1540.7 L2109.15 1548.85 L2104.5 1548.85 L2104.5 1540.7 L2088.9 1540.7 L2088.9 1536.19 L2103.27 1514.29 Z\" fill=\"#000000\" fill-rule=\"evenodd\" fill-opacity=\"1\" /><polyline clip-path=\"url(#clip592)\" style=\"stroke:#000000; stroke-linecap:butt; stroke-linejoin:round; stroke-width:2; stroke-opacity:0.1; fill:none\" points=\"\n",
       "  303.956,1445.72 2352.76,1445.72 \n",
       "  \"/>\n",
       "<polyline clip-path=\"url(#clip592)\" style=\"stroke:#000000; stroke-linecap:butt; stroke-linejoin:round; stroke-width:2; stroke-opacity:0.1; fill:none\" points=\"\n",
       "  303.956,1021.42 2352.76,1021.42 \n",
       "  \"/>\n",
       "<polyline clip-path=\"url(#clip592)\" style=\"stroke:#000000; stroke-linecap:butt; stroke-linejoin:round; stroke-width:2; stroke-opacity:0.1; fill:none\" points=\"\n",
       "  303.956,597.128 2352.76,597.128 \n",
       "  \"/>\n",
       "<polyline clip-path=\"url(#clip592)\" style=\"stroke:#000000; stroke-linecap:butt; stroke-linejoin:round; stroke-width:2; stroke-opacity:0.1; fill:none\" points=\"\n",
       "  303.956,172.835 2352.76,172.835 \n",
       "  \"/>\n",
       "<polyline clip-path=\"url(#clip590)\" style=\"stroke:#000000; stroke-linecap:butt; stroke-linejoin:round; stroke-width:4; stroke-opacity:1; fill:none\" points=\"\n",
       "  303.956,1486.45 303.956,47.2441 \n",
       "  \"/>\n",
       "<polyline clip-path=\"url(#clip590)\" style=\"stroke:#000000; stroke-linecap:butt; stroke-linejoin:round; stroke-width:4; stroke-opacity:1; fill:none\" points=\"\n",
       "  303.956,1445.72 322.853,1445.72 \n",
       "  \"/>\n",
       "<polyline clip-path=\"url(#clip590)\" style=\"stroke:#000000; stroke-linecap:butt; stroke-linejoin:round; stroke-width:4; stroke-opacity:1; fill:none\" points=\"\n",
       "  303.956,1021.42 322.853,1021.42 \n",
       "  \"/>\n",
       "<polyline clip-path=\"url(#clip590)\" style=\"stroke:#000000; stroke-linecap:butt; stroke-linejoin:round; stroke-width:4; stroke-opacity:1; fill:none\" points=\"\n",
       "  303.956,597.128 322.853,597.128 \n",
       "  \"/>\n",
       "<polyline clip-path=\"url(#clip590)\" style=\"stroke:#000000; stroke-linecap:butt; stroke-linejoin:round; stroke-width:4; stroke-opacity:1; fill:none\" points=\"\n",
       "  303.956,172.835 322.853,172.835 \n",
       "  \"/>\n",
       "<path clip-path=\"url(#clip590)\" d=\"M256.011 1431.51 Q252.4 1431.51 250.571 1435.08 Q248.766 1438.62 248.766 1445.75 Q248.766 1452.86 250.571 1456.42 Q252.4 1459.96 256.011 1459.96 Q259.646 1459.96 261.451 1456.42 Q263.28 1452.86 263.28 1445.75 Q263.28 1438.62 261.451 1435.08 Q259.646 1431.51 256.011 1431.51 M256.011 1427.81 Q261.821 1427.81 264.877 1432.42 Q267.956 1437 267.956 1445.75 Q267.956 1454.48 264.877 1459.08 Q261.821 1463.67 256.011 1463.67 Q250.201 1463.67 247.122 1459.08 Q244.067 1454.48 244.067 1445.75 Q244.067 1437 247.122 1432.42 Q250.201 1427.81 256.011 1427.81 Z\" fill=\"#000000\" fill-rule=\"evenodd\" fill-opacity=\"1\" /><path clip-path=\"url(#clip590)\" d=\"M52.4505 1010.59 L70.8068 1010.59 L70.8068 1014.52 L56.7328 1014.52 L56.7328 1023 Q57.7513 1022.65 58.7699 1022.49 Q59.7884 1022.3 60.8069 1022.3 Q66.5939 1022.3 69.9735 1025.47 Q73.3531 1028.65 73.3531 1034.06 Q73.3531 1039.64 69.8809 1042.74 Q66.4087 1045.82 60.0893 1045.82 Q57.9134 1045.82 55.6449 1045.45 Q53.3995 1045.08 50.9921 1044.34 L50.9921 1039.64 Q53.0754 1040.77 55.2977 1041.33 Q57.5199 1041.89 59.9967 1041.89 Q64.0013 1041.89 66.3393 1039.78 Q68.6772 1037.67 68.6772 1034.06 Q68.6772 1030.45 66.3393 1028.34 Q64.0013 1026.24 59.9967 1026.24 Q58.1217 1026.24 56.2467 1026.65 Q54.3949 1027.07 52.4505 1027.95 L52.4505 1010.59 Z\" fill=\"#000000\" fill-rule=\"evenodd\" fill-opacity=\"1\" /><path clip-path=\"url(#clip590)\" d=\"M82.566 1039.27 L87.4503 1039.27 L87.4503 1045.15 L82.566 1045.15 L82.566 1039.27 Z\" fill=\"#000000\" fill-rule=\"evenodd\" fill-opacity=\"1\" /><path clip-path=\"url(#clip590)\" d=\"M107.635 1013.67 Q104.024 1013.67 102.196 1017.23 Q100.39 1020.77 100.39 1027.9 Q100.39 1035.01 102.196 1038.58 Q104.024 1042.12 107.635 1042.12 Q111.27 1042.12 113.075 1038.58 Q114.904 1035.01 114.904 1027.9 Q114.904 1020.77 113.075 1017.23 Q111.27 1013.67 107.635 1013.67 M107.635 1009.96 Q113.445 1009.96 116.501 1014.57 Q119.58 1019.15 119.58 1027.9 Q119.58 1036.63 116.501 1041.24 Q113.445 1045.82 107.635 1045.82 Q101.825 1045.82 98.7465 1041.24 Q95.691 1036.63 95.691 1027.9 Q95.691 1019.15 98.7465 1014.57 Q101.825 1009.96 107.635 1009.96 Z\" fill=\"#000000\" fill-rule=\"evenodd\" fill-opacity=\"1\" /><path clip-path=\"url(#clip590)\" d=\"M137.797 1013.67 Q134.186 1013.67 132.357 1017.23 Q130.552 1020.77 130.552 1027.9 Q130.552 1035.01 132.357 1038.58 Q134.186 1042.12 137.797 1042.12 Q141.431 1042.12 143.237 1038.58 Q145.066 1035.01 145.066 1027.9 Q145.066 1020.77 143.237 1017.23 Q141.431 1013.67 137.797 1013.67 M137.797 1009.96 Q143.607 1009.96 146.663 1014.57 Q149.742 1019.15 149.742 1027.9 Q149.742 1036.63 146.663 1041.24 Q143.607 1045.82 137.797 1045.82 Q131.987 1045.82 128.908 1041.24 Q125.853 1036.63 125.853 1027.9 Q125.853 1019.15 128.908 1014.57 Q131.987 1009.96 137.797 1009.96 Z\" fill=\"#000000\" fill-rule=\"evenodd\" fill-opacity=\"1\" /><path clip-path=\"url(#clip590)\" d=\"M186.13 1019.69 L175.552 1030.31 L186.13 1040.89 L183.376 1043.69 L172.751 1033.07 L162.126 1043.69 L159.394 1040.89 L169.95 1030.31 L159.394 1019.69 L162.126 1016.89 L172.751 1027.51 L183.376 1016.89 L186.13 1019.69 Z\" fill=\"#000000\" fill-rule=\"evenodd\" fill-opacity=\"1\" /><path clip-path=\"url(#clip590)\" d=\"M198.491 1041.21 L206.13 1041.21 L206.13 1014.85 L197.82 1016.52 L197.82 1012.26 L206.084 1010.59 L210.76 1010.59 L210.76 1041.21 L218.399 1041.21 L218.399 1045.15 L198.491 1045.15 L198.491 1041.21 Z\" fill=\"#000000\" fill-rule=\"evenodd\" fill-opacity=\"1\" /><path clip-path=\"url(#clip590)\" d=\"M237.843 1013.67 Q234.232 1013.67 232.403 1017.23 Q230.598 1020.77 230.598 1027.9 Q230.598 1035.01 232.403 1038.58 Q234.232 1042.12 237.843 1042.12 Q241.477 1042.12 243.283 1038.58 Q245.111 1035.01 245.111 1027.9 Q245.111 1020.77 243.283 1017.23 Q241.477 1013.67 237.843 1013.67 M237.843 1009.96 Q243.653 1009.96 246.709 1014.57 Q249.787 1019.15 249.787 1027.9 Q249.787 1036.63 246.709 1041.24 Q243.653 1045.82 237.843 1045.82 Q232.033 1045.82 228.954 1041.24 Q225.899 1036.63 225.899 1027.9 Q225.899 1019.15 228.954 1014.57 Q232.033 1009.96 237.843 1009.96 Z\" fill=\"#000000\" fill-rule=\"evenodd\" fill-opacity=\"1\" /><path clip-path=\"url(#clip590)\" d=\"M250.972 989.659 L265.887 989.659 L265.887 992.857 L254.452 992.857 L254.452 999.74 Q255.279 999.458 256.107 999.326 Q256.934 999.176 257.762 999.176 Q262.464 999.176 265.21 1001.75 Q267.956 1004.33 267.956 1008.73 Q267.956 1013.26 265.134 1015.78 Q262.313 1018.28 257.179 1018.28 Q255.411 1018.28 253.568 1017.98 Q251.743 1017.68 249.787 1017.08 L249.787 1013.26 Q251.48 1014.18 253.286 1014.64 Q255.091 1015.09 257.104 1015.09 Q260.357 1015.09 262.257 1013.38 Q264.156 1011.66 264.156 1008.73 Q264.156 1005.8 262.257 1004.08 Q260.357 1002.37 257.104 1002.37 Q255.58 1002.37 254.057 1002.71 Q252.552 1003.05 250.972 1003.77 L250.972 989.659 Z\" fill=\"#000000\" fill-rule=\"evenodd\" fill-opacity=\"1\" /><path clip-path=\"url(#clip590)\" d=\"M51.9918 616.921 L59.6307 616.921 L59.6307 590.555 L51.3205 592.222 L51.3205 587.963 L59.5844 586.296 L64.2603 586.296 L64.2603 616.921 L71.8991 616.921 L71.8991 620.856 L51.9918 620.856 L51.9918 616.921 Z\" fill=\"#000000\" fill-rule=\"evenodd\" fill-opacity=\"1\" /><path clip-path=\"url(#clip590)\" d=\"M81.3435 614.976 L86.2278 614.976 L86.2278 620.856 L81.3435 620.856 L81.3435 614.976 Z\" fill=\"#000000\" fill-rule=\"evenodd\" fill-opacity=\"1\" /><path clip-path=\"url(#clip590)\" d=\"M106.413 589.375 Q102.802 589.375 100.973 592.94 Q99.1675 596.481 99.1675 603.611 Q99.1675 610.717 100.973 614.282 Q102.802 617.824 106.413 617.824 Q110.047 617.824 111.853 614.282 Q113.681 610.717 113.681 603.611 Q113.681 596.481 111.853 592.94 Q110.047 589.375 106.413 589.375 M106.413 585.671 Q112.223 585.671 115.279 590.278 Q118.357 594.861 118.357 603.611 Q118.357 612.338 115.279 616.944 Q112.223 621.527 106.413 621.527 Q100.603 621.527 97.524 616.944 Q94.4685 612.338 94.4685 603.611 Q94.4685 594.861 97.524 590.278 Q100.603 585.671 106.413 585.671 Z\" fill=\"#000000\" fill-rule=\"evenodd\" fill-opacity=\"1\" /><path clip-path=\"url(#clip590)\" d=\"M136.575 589.375 Q132.964 589.375 131.135 592.94 Q129.329 596.481 129.329 603.611 Q129.329 610.717 131.135 614.282 Q132.964 617.824 136.575 617.824 Q140.209 617.824 142.014 614.282 Q143.843 610.717 143.843 603.611 Q143.843 596.481 142.014 592.94 Q140.209 589.375 136.575 589.375 M136.575 585.671 Q142.385 585.671 145.44 590.278 Q148.519 594.861 148.519 603.611 Q148.519 612.338 145.44 616.944 Q142.385 621.527 136.575 621.527 Q130.765 621.527 127.686 616.944 Q124.63 612.338 124.63 603.611 Q124.63 594.861 127.686 590.278 Q130.765 585.671 136.575 585.671 Z\" fill=\"#000000\" fill-rule=\"evenodd\" fill-opacity=\"1\" /><path clip-path=\"url(#clip590)\" d=\"M184.908 595.393 L174.329 606.018 L184.908 616.597 L182.153 619.398 L171.528 608.773 L160.903 619.398 L158.172 616.597 L168.727 606.018 L158.172 595.393 L160.903 592.592 L171.528 603.217 L182.153 592.592 L184.908 595.393 Z\" fill=\"#000000\" fill-rule=\"evenodd\" fill-opacity=\"1\" /><path clip-path=\"url(#clip590)\" d=\"M197.269 616.921 L204.908 616.921 L204.908 590.555 L196.598 592.222 L196.598 587.963 L204.861 586.296 L209.537 586.296 L209.537 616.921 L217.176 616.921 L217.176 620.856 L197.269 620.856 L197.269 616.921 Z\" fill=\"#000000\" fill-rule=\"evenodd\" fill-opacity=\"1\" /><path clip-path=\"url(#clip590)\" d=\"M236.62 589.375 Q233.009 589.375 231.181 592.94 Q229.375 596.481 229.375 603.611 Q229.375 610.717 231.181 614.282 Q233.009 617.824 236.62 617.824 Q240.255 617.824 242.06 614.282 Q243.889 610.717 243.889 603.611 Q243.889 596.481 242.06 592.94 Q240.255 589.375 236.62 589.375 M236.62 585.671 Q242.431 585.671 245.486 590.278 Q248.565 594.861 248.565 603.611 Q248.565 612.338 245.486 616.944 Q242.431 621.527 236.62 621.527 Q230.81 621.527 227.732 616.944 Q224.676 612.338 224.676 603.611 Q224.676 594.861 227.732 590.278 Q230.81 585.671 236.62 585.671 Z\" fill=\"#000000\" fill-rule=\"evenodd\" fill-opacity=\"1\" /><path clip-path=\"url(#clip590)\" d=\"M258.589 577.892 Q256.032 577.892 254.527 579.641 Q253.041 581.39 253.041 584.437 Q253.041 587.465 254.527 589.233 Q256.032 590.982 258.589 590.982 Q261.147 590.982 262.633 589.233 Q264.138 587.465 264.138 584.437 Q264.138 581.39 262.633 579.641 Q261.147 577.892 258.589 577.892 M266.131 565.986 L266.131 569.447 Q264.702 568.77 263.235 568.413 Q261.787 568.055 260.357 568.055 Q256.596 568.055 254.602 570.594 Q252.627 573.133 252.345 578.268 Q253.455 576.632 255.129 575.766 Q256.803 574.882 258.815 574.882 Q263.047 574.882 265.492 577.459 Q267.956 580.017 267.956 584.437 Q267.956 588.763 265.398 591.377 Q262.84 593.991 258.589 593.991 Q253.718 593.991 251.142 590.267 Q248.565 586.524 248.565 579.434 Q248.565 572.776 251.725 568.826 Q254.884 564.858 260.207 564.858 Q261.636 564.858 263.084 565.14 Q264.551 565.422 266.131 565.986 Z\" fill=\"#000000\" fill-rule=\"evenodd\" fill-opacity=\"1\" /><path clip-path=\"url(#clip590)\" d=\"M51.9918 192.627 L59.6307 192.627 L59.6307 166.262 L51.3205 167.928 L51.3205 163.669 L59.5844 162.002 L64.2603 162.002 L64.2603 192.627 L71.8991 192.627 L71.8991 196.562 L51.9918 196.562 L51.9918 192.627 Z\" fill=\"#000000\" fill-rule=\"evenodd\" fill-opacity=\"1\" /><path clip-path=\"url(#clip590)\" d=\"M81.3435 190.683 L86.2278 190.683 L86.2278 196.562 L81.3435 196.562 L81.3435 190.683 Z\" fill=\"#000000\" fill-rule=\"evenodd\" fill-opacity=\"1\" /><path clip-path=\"url(#clip590)\" d=\"M96.4592 162.002 L114.816 162.002 L114.816 165.938 L100.742 165.938 L100.742 174.41 Q101.76 174.063 102.779 173.901 Q103.797 173.715 104.816 173.715 Q110.603 173.715 113.982 176.887 Q117.362 180.058 117.362 185.475 Q117.362 191.053 113.89 194.155 Q110.417 197.234 104.098 197.234 Q101.922 197.234 99.6536 196.863 Q97.4083 196.493 95.0009 195.752 L95.0009 191.053 Q97.0842 192.187 99.3064 192.743 Q101.529 193.299 104.005 193.299 Q108.01 193.299 110.348 191.192 Q112.686 189.086 112.686 185.475 Q112.686 181.863 110.348 179.757 Q108.01 177.651 104.005 177.651 Q102.13 177.651 100.255 178.067 Q98.4036 178.484 96.4592 179.363 L96.4592 162.002 Z\" fill=\"#000000\" fill-rule=\"evenodd\" fill-opacity=\"1\" /><path clip-path=\"url(#clip590)\" d=\"M136.575 165.081 Q132.964 165.081 131.135 168.646 Q129.329 172.188 129.329 179.317 Q129.329 186.424 131.135 189.988 Q132.964 193.53 136.575 193.53 Q140.209 193.53 142.014 189.988 Q143.843 186.424 143.843 179.317 Q143.843 172.188 142.014 168.646 Q140.209 165.081 136.575 165.081 M136.575 161.377 Q142.385 161.377 145.44 165.984 Q148.519 170.567 148.519 179.317 Q148.519 188.044 145.44 192.65 Q142.385 197.234 136.575 197.234 Q130.765 197.234 127.686 192.65 Q124.63 188.044 124.63 179.317 Q124.63 170.567 127.686 165.984 Q130.765 161.377 136.575 161.377 Z\" fill=\"#000000\" fill-rule=\"evenodd\" fill-opacity=\"1\" /><path clip-path=\"url(#clip590)\" d=\"M184.908 171.1 L174.329 181.725 L184.908 192.303 L182.153 195.104 L171.528 184.479 L160.903 195.104 L158.172 192.303 L168.727 181.725 L158.172 171.1 L160.903 168.299 L171.528 178.924 L182.153 168.299 L184.908 171.1 Z\" fill=\"#000000\" fill-rule=\"evenodd\" fill-opacity=\"1\" /><path clip-path=\"url(#clip590)\" d=\"M197.269 192.627 L204.908 192.627 L204.908 166.262 L196.598 167.928 L196.598 163.669 L204.861 162.002 L209.537 162.002 L209.537 192.627 L217.176 192.627 L217.176 196.562 L197.269 196.562 L197.269 192.627 Z\" fill=\"#000000\" fill-rule=\"evenodd\" fill-opacity=\"1\" /><path clip-path=\"url(#clip590)\" d=\"M236.62 165.081 Q233.009 165.081 231.181 168.646 Q229.375 172.188 229.375 179.317 Q229.375 186.424 231.181 189.988 Q233.009 193.53 236.62 193.53 Q240.255 193.53 242.06 189.988 Q243.889 186.424 243.889 179.317 Q243.889 172.188 242.06 168.646 Q240.255 165.081 236.62 165.081 M236.62 161.377 Q242.431 161.377 245.486 165.984 Q248.565 170.567 248.565 179.317 Q248.565 188.044 245.486 192.65 Q242.431 197.234 236.62 197.234 Q230.81 197.234 227.732 192.65 Q224.676 188.044 224.676 179.317 Q224.676 170.567 227.732 165.984 Q230.81 161.377 236.62 161.377 Z\" fill=\"#000000\" fill-rule=\"evenodd\" fill-opacity=\"1\" /><path clip-path=\"url(#clip590)\" d=\"M258.589 153.598 Q256.032 153.598 254.527 155.347 Q253.041 157.096 253.041 160.143 Q253.041 163.171 254.527 164.939 Q256.032 166.688 258.589 166.688 Q261.147 166.688 262.633 164.939 Q264.138 163.171 264.138 160.143 Q264.138 157.096 262.633 155.347 Q261.147 153.598 258.589 153.598 M266.131 141.693 L266.131 145.153 Q264.702 144.476 263.235 144.119 Q261.787 143.762 260.357 143.762 Q256.596 143.762 254.602 146.301 Q252.627 148.84 252.345 153.974 Q253.455 152.338 255.129 151.473 Q256.803 150.589 258.815 150.589 Q263.047 150.589 265.492 153.165 Q267.956 155.723 267.956 160.143 Q267.956 164.469 265.398 167.083 Q262.84 169.697 258.589 169.697 Q253.718 169.697 251.142 165.974 Q248.565 162.231 248.565 155.14 Q248.565 148.482 251.725 144.533 Q254.884 140.564 260.207 140.564 Q261.636 140.564 263.084 140.846 Q264.551 141.128 266.131 141.693 Z\" fill=\"#000000\" fill-rule=\"evenodd\" fill-opacity=\"1\" /><polyline clip-path=\"url(#clip592)\" style=\"stroke:#009af9; stroke-linecap:butt; stroke-linejoin:round; stroke-width:4; stroke-opacity:1; fill:none\" points=\"\n",
       "  361.941,1445.72 374.524,1445.72 490.88,1445.72 560.804,1445.72 619.925,1445.72 684.146,1445.72 743.352,1445.72 806.828,1445.72 880.37,1445.72 945.726,1445.72 \n",
       "  1003.04,1445.72 1065.52,1445.72 1128.38,1445.71 1163.13,1445.71 1197.87,1445.71 1230.94,1445.7 1264,1445.65 1272.59,1445.59 1281.19,1445.48 1289.78,1445.18 \n",
       "  1298.37,1444.25 1302.67,1443 1306.97,1440.08 1309.12,1437.13 1311.26,1431.98 1312.34,1427.96 1313.41,1422.37 1313.95,1418.76 1314.49,1414.44 1315.02,1409.23 \n",
       "  1315.56,1402.91 1316.1,1395.2 1316.64,1385.72 1317.17,1373.99 1317.71,1359.37 1318.25,1341.04 1318.78,1317.89 1319.32,1288.52 1319.86,1251.1 1320.4,1203.38 \n",
       "  1320.93,1142.69 1321.47,1066.18 1322.01,971.391 1322.54,857.376 1323.08,726.296 1323.62,584.971 1324.16,445.022 1324.69,320.274 1325.23,221.934 1325.77,154.465 \n",
       "  1326.3,115.007 1326.84,96.1171 1327.38,89.3952 1327.92,88.0346 1328.45,87.9763 1328.99,88.2276 1329.53,90.8977 1330.06,101.102 1330.6,126.421 1331.14,175.281 \n",
       "  1331.68,253.902 1332.21,362.688 1332.75,494.458 1333.2,613.899 1333.65,732.374 1334.11,843.21 1334.56,942.238 1335.01,1027.72 1335.46,1099.74 1335.91,1159.44 \n",
       "  1336.37,1208.43 1336.82,1248.41 1337.27,1281 1337.72,1307.56 1338.18,1329.27 1338.63,1347.06 1339.08,1361.71 1339.53,1373.82 1339.98,1383.89 1340.44,1392.3 \n",
       "  1340.89,1399.35 1341.34,1405.29 1341.79,1410.33 1342.7,1418.28 1343.6,1424.14 1344.51,1428.53 1345.41,1431.86 1346.31,1434.42 1347.22,1436.42 1349.03,1439.26 \n",
       "  1350.84,1441.09 1352.64,1442.32 1354.45,1443.17 1358.07,1444.2 1361.69,1444.76 1376.16,1445.49 1390.62,1445.64 1425.95,1445.7 1461.28,1445.71 1493.65,1445.71 \n",
       "  1526.01,1445.71 1585.79,1445.72 1646.35,1445.72 1714.22,1445.72 1775.72,1445.72 1846.13,1445.72 1911.32,1445.72 1975.6,1445.72 2038,1445.72 2101.98,1445.72 \n",
       "  2172.07,1445.72 2273.88,1445.72 2294.77,1445.72 \n",
       "  \"/>\n",
       "<path clip-path=\"url(#clip590)\" d=\"\n",
       "M2004.39 198.898 L2284.46 198.898 L2284.46 95.2176 L2004.39 95.2176  Z\n",
       "  \" fill=\"#ffffff\" fill-rule=\"evenodd\" fill-opacity=\"1\"/>\n",
       "<polyline clip-path=\"url(#clip590)\" style=\"stroke:#000000; stroke-linecap:butt; stroke-linejoin:round; stroke-width:4; stroke-opacity:1; fill:none\" points=\"\n",
       "  2004.39,198.898 2284.46,198.898 2284.46,95.2176 2004.39,95.2176 2004.39,198.898 \n",
       "  \"/>\n",
       "<polyline clip-path=\"url(#clip590)\" style=\"stroke:#009af9; stroke-linecap:butt; stroke-linejoin:round; stroke-width:4; stroke-opacity:1; fill:none\" points=\"\n",
       "  2027.15,147.058 2163.74,147.058 \n",
       "  \"/>\n",
       "<path clip-path=\"url(#clip590)\" d=\"M2200.35 166.745 Q2198.54 171.375 2196.83 172.787 Q2195.11 174.199 2192.24 174.199 L2188.84 174.199 L2188.84 170.634 L2191.34 170.634 Q2193.1 170.634 2194.07 169.8 Q2195.05 168.967 2196.23 165.865 L2196.99 163.921 L2186.5 138.412 L2191.02 138.412 L2199.12 158.689 L2207.22 138.412 L2211.73 138.412 L2200.35 166.745 Z\" fill=\"#000000\" fill-rule=\"evenodd\" fill-opacity=\"1\" /><path clip-path=\"url(#clip590)\" d=\"M2219.03 160.402 L2226.67 160.402 L2226.67 134.037 L2218.36 135.703 L2218.36 131.444 L2226.62 129.778 L2231.29 129.778 L2231.29 160.402 L2238.93 160.402 L2238.93 164.338 L2219.03 164.338 L2219.03 160.402 Z\" fill=\"#000000\" fill-rule=\"evenodd\" fill-opacity=\"1\" /></svg>\n"
      ]
     },
     "execution_count": 39,
     "metadata": {},
     "output_type": "execute_result"
    }
   ],
   "source": [
    "plot2 = plot(f)"
   ]
  },
  {
   "cell_type": "markdown",
   "metadata": {},
   "source": [
    "#### Przykład 1 - bisekcja"
   ]
  },
  {
   "cell_type": "code",
   "execution_count": 40,
   "metadata": {},
   "outputs": [
    {
     "data": {
      "text/plain": [
       "Results of univariate zero finding:\n",
       "\n",
       "* Converged to: -2.0\n",
       "* Algorithm: Bisection()\n",
       "* iterations: 51\n",
       "* function evaluations ≈ 54\n",
       "* stopped as x_n ≈ x_{n-1} using atol=xatol, rtol=xrtol\n",
       "\n",
       "Trace:\n",
       "(a₀, b₀) = ( -2.5, -1.625 )\n",
       "(a₁, b₁) = ( -2.5, -1.9375 )\n",
       "(a₂, b₂) = ( -2.1875, -1.9375 )\n",
       "(a₃, b₃) = ( -2.03125, -1.9375 )\n",
       "(a₄, b₄) = ( -2.03125, -1.9765625 )\n",
       "(a₅, b₅) = ( -2.03125, -1.99609375 )\n",
       "(a₆, b₆) = ( -2.01171875, -1.99609375 )\n",
       "(a₇, b₇) = ( -2.001953125, -1.99609375 )\n",
       "(a₈, b₈) = ( -2.001953125, -1.99853515625 )\n",
       "(a₉, b₉) = ( -2.001953125, -1.999755859375 )\n",
       "(a₁₀, b₁₀) = ( -2.000732421875, -1.999755859375 )\n",
       "(a₁₁, b₁₁) = ( -2.0001220703125, -1.999755859375 )\n",
       "(a₁₂, b₁₂) = ( -2.0001220703125, -1.999908447265625 )\n",
       "(a₁₃, b₁₃) = ( -2.0001220703125, -1.9999847412109375 )\n",
       "(a₁₄, b₁₄) = ( -2.0000457763671875, -1.9999847412109375 )\n",
       "(a₁₅, b₁₅) = ( -2.0000076293945312, -1.9999847412109375 )\n",
       "(a₁₆, b₁₆) = ( -2.0000076293945312, -1.9999942779541016 )\n",
       "(a₁₇, b₁₇) = ( -2.0000076293945312, -1.9999990463256836 )\n",
       "(a₁₈, b₁₈) = ( -2.0000028610229492, -1.9999990463256836 )\n",
       "(a₁₉, b₁₉) = ( -2.0000004768371582, -1.9999990463256836 )\n",
       "(a₂₀, b₂₀) = ( -2.0000004768371582, -1.9999996423721313 )\n",
       "(a₂₁, b₂₁) = ( -2.0000004768371582, -1.9999999403953552 )\n",
       "(a₂₂, b₂₂) = ( -2.0000001788139343, -1.9999999403953552 )\n",
       "(a₂₃, b₂₃) = ( -2.0000000298023224, -1.9999999403953552 )\n",
       "(a₂₄, b₂₄) = ( -2.0000000298023224, -1.9999999776482582 )\n",
       "(a₂₅, b₂₅) = ( -2.0000000298023224, -1.9999999962747097 )\n",
       "(a₂₆, b₂₆) = ( -2.0000000111758709, -1.9999999962747097 )\n",
       "(a₂₇, b₂₇) = ( -2.0000000018626451, -1.9999999962747097 )\n",
       "(a₂₈, b₂₈) = ( -2.0000000018626451, -1.9999999986030161 )\n",
       "(a₂₉, b₂₉) = ( -2.0000000018626451, -1.9999999997671694 )\n",
       "(a₃₀, b₃₀) = ( -2.0000000006984919, -1.9999999997671694 )\n",
       "(a₃₁, b₃₁) = ( -2.0000000001164153, -1.9999999997671694 )\n",
       "(a₃₂, b₃₂) = ( -2.0000000001164153, -1.9999999999126885 )\n",
       "(a₃₃, b₃₃) = ( -2.0000000001164153, -1.9999999999854481 )\n",
       "(a₃₄, b₃₄) = ( -2.0000000000436557, -1.9999999999854481 )\n",
       "(a₃₅, b₃₅) = ( -2.000000000007276, -1.9999999999854481 )\n",
       "(a₃₆, b₃₆) = ( -2.000000000007276, -1.999999999994543 )\n",
       "(a₃₇, b₃₇) = ( -2.000000000007276, -1.9999999999990905 )\n",
       "(a₃₈, b₃₈) = ( -2.0000000000027285, -1.9999999999990905 )\n",
       "(a₃₉, b₃₉) = ( -2.0000000000004547, -1.9999999999990905 )\n",
       "(a₄₀, b₄₀) = ( -2.0000000000004547, -1.9999999999996589 )\n",
       "(a₄₁, b₄₁) = ( -2.0000000000004547, -1.9999999999999432 )\n",
       "(a₄₂, b₄₂) = ( -2.0000000000001705, -1.9999999999999432 )\n",
       "(a₄₃, b₄₃) = ( -2.0000000000000284, -1.9999999999999432 )\n",
       "(a₄₄, b₄₄) = ( -2.0000000000000284, -1.9999999999999787 )\n",
       "(a₄₅, b₄₅) = ( -2.0000000000000284, -1.9999999999999964 )\n",
       "(a₄₆, b₄₆) = ( -2.0000000000000107, -1.9999999999999964 )\n",
       "(a₄₇, b₄₇) = ( -2.0000000000000018, -1.9999999999999964 )\n",
       "(a₄₈, b₄₈) = ( -2.0000000000000018, -1.9999999999999987 )\n",
       "(a₄₉, b₄₉) = ( -2.0000000000000018, -1.9999999999999998 )\n",
       "(a₅₀, b₅₀) = ( -2.0000000000000004, -1.9999999999999998 )\n",
       "(a₅₁, b₅₁) = ( -2, -1.9999999999999998 )\n",
       "\n"
      ]
     },
     "metadata": {},
     "output_type": "display_data"
    },
    {
     "name": "stdout",
     "output_type": "stream",
     "text": [
      "Results of univariate zero finding:\n",
      "\n",
      "\tArgumentError: The interval [a,b] is not a bracketing interval.\n",
      "\tYou need f(a) and f(b) to have different signs (f(a) * f(b) < 0).\n"
     ]
    }
   ],
   "source": [
    "tracker = Roots.Tracks()\n",
    "res1 = find_zero(f, (-2.5, -1), Bisection(), verbose=true, tracks=tracker) # Działa\n",
    "try\n",
    "    res2 = find_zero(f, (-3, 3), Bisection(), verbose=true, tracks=tracker)\n",
    "catch \n",
    "    println(\"Results of univariate zero finding:\\n\\n\\tArgumentError: The interval [a,b] is not a bracketing interval.\\n\\tYou need f(a) and f(b) to have different signs (f(a) * f(b) < 0).\")\n",
    "end # Nie działa ponieważ f(a) * f(b) > 0."
   ]
  },
  {
   "cell_type": "code",
   "execution_count": 41,
   "metadata": {},
   "outputs": [
    {
     "name": "stdout",
     "output_type": "stream",
     "text": [
      "-0.03689999940960001\t0.9374994140628662\n",
      "-0.050154320600661106\t-0.050154320600661106"
     ]
    }
   ],
   "source": [
    "@printf(\"%s\\t%s\\n\", f(-2.5), f(-1))\n",
    "@printf(\"%s\\t%s\", f(-3), f(3))"
   ]
  },
  {
   "cell_type": "code",
   "execution_count": 42,
   "metadata": {},
   "outputs": [
    {
     "data": {
      "text/plain": [
       "Results of univariate zero finding:\n",
       "\n",
       "* Converged to: 2.0\n",
       "* Algorithm: Roots.Newton()\n",
       "* iterations: 23\n",
       "* function evaluations ≈ 46\n",
       "* stopped as f(x_n) = 0\n",
       "\n",
       "Trace:\n",
       "x₁ = -3,\t fx₁ = -0.050154320600661106\n",
       "x₂ = 0.04687490449129017,\t fx₂ = 183387.35997246313\n",
       "x₃ = 0.060110672413299246,\t fx₃ = 73094.622275080386\n",
       "x₄ = 0.075857718494958579,\t fx₄ = 29640.068324947926\n",
       "x₅ = 0.095180055997939939,\t fx₅ = 12092.58435823605\n",
       "x₆ = 0.11915615607703881,\t fx₆ = 4945.203834683417\n",
       "x₇ = 0.14903717460528904,\t fx₇ = 2024.223045545803\n",
       "x₈ = 0.18634251578501954,\t fx₈ = 828.88520948194639\n",
       "x₉ = 0.23294877867003597,\t fx₉ = 339.4580755678295\n",
       "x₁₀ = 0.29118761115494707,\t fx₁₀ = 139.01942385786282\n",
       "x₁₁ = 0.36395812646814102,\t fx₁₁ = 56.924902911372072\n",
       "x₁₂ = 0.45485110415447139,\t fx₁₂ = 23.299857337700516\n",
       "x₁₃ = 0.56826132675817809,\t fx₁₃ = 9.5271997568540279\n",
       "x₁₄ = 0.70940160644278838,\t fx₁₄ = 3.8859830208796109\n",
       "x₁₅ = 0.88394518343840556,\t fx₁₅ = 1.5754409376136638\n",
       "x₁₆ = 1.0964993760596524,\t fx₁₆ = 0.62927724692988607\n",
       "x₁₇ = 1.3458579701805777,\t fx₁₇ = 0.24229161226898696\n",
       "x₁₈ = 1.6133277318736901,\t fx₁₈ = 0.085107892873382149\n",
       "x₁₉ = 1.845881245389031,\t fx₁₉ = 0.023636052435434325\n",
       "x₂₀ = 1.9725104181360955,\t fx₂₀ = 0.0035575977806969121\n",
       "x₂₁ = 1.9990682979691607,\t fx₂₁ = 0.00011659851149731919\n",
       "x₂₂ = 1.9999989154195956,\t fx₂₂ = 1.3557272905013042e-07\n",
       "x₂₃ = 1.9999999999985296,\t fx₂₃ = 1.8379741454764868e-13\n",
       "x₂₄ = 2,\t fx₂₄ = 0\n",
       "\n"
      ]
     },
     "metadata": {},
     "output_type": "display_data"
    },
    {
     "data": {
      "text/plain": [
       "Results of univariate zero finding:\n",
       "\n",
       "* Converged to: -2.0\n",
       "* Algorithm: Roots.Newton()\n",
       "* iterations: 23\n",
       "* function evaluations ≈ 46\n",
       "* stopped as f(x_n) = 0\n",
       "\n",
       "Trace:\n",
       "x₁ = 3,\t fx₁ = -0.050154320600661106\n",
       "x₂ = -0.04687490449129017,\t fx₂ = 183387.35997246313\n",
       "x₃ = -0.060110672413299246,\t fx₃ = 73094.622275080386\n",
       "x₄ = -0.075857718494958579,\t fx₄ = 29640.068324947926\n",
       "x₅ = -0.095180055997939939,\t fx₅ = 12092.58435823605\n",
       "x₆ = -0.11915615607703881,\t fx₆ = 4945.203834683417\n",
       "x₇ = -0.14903717460528904,\t fx₇ = 2024.223045545803\n",
       "x₈ = -0.18634251578501954,\t fx₈ = 828.88520948194639\n",
       "x₉ = -0.23294877867003597,\t fx₉ = 339.4580755678295\n",
       "x₁₀ = -0.29118761115494707,\t fx₁₀ = 139.01942385786282\n",
       "x₁₁ = -0.36395812646814102,\t fx₁₁ = 56.924902911372072\n",
       "x₁₂ = -0.45485110415447139,\t fx₁₂ = 23.299857337700516\n",
       "x₁₃ = -0.56826132675817809,\t fx₁₃ = 9.5271997568540279\n",
       "x₁₄ = -0.70940160644278838,\t fx₁₄ = 3.8859830208796109\n",
       "x₁₅ = -0.88394518343840556,\t fx₁₅ = 1.5754409376136638\n",
       "x₁₆ = -1.0964993760596524,\t fx₁₆ = 0.62927724692988607\n",
       "x₁₇ = -1.3458579701805777,\t fx₁₇ = 0.24229161226898696\n",
       "x₁₈ = -1.6133277318736901,\t fx₁₈ = 0.085107892873382149\n",
       "x₁₉ = -1.845881245389031,\t fx₁₉ = 0.023636052435434325\n",
       "x₂₀ = -1.9725104181360955,\t fx₂₀ = 0.0035575977806969121\n",
       "x₂₁ = -1.9990682979691607,\t fx₂₁ = 0.00011659851149731919\n",
       "x₂₂ = -1.9999989154195956,\t fx₂₂ = 1.3557272905013042e-07\n",
       "x₂₃ = -1.9999999999985296,\t fx₂₃ = 1.8379741454764868e-13\n",
       "x₂₄ = -2,\t fx₂₄ = 0\n",
       "\n"
      ]
     },
     "metadata": {},
     "output_type": "display_data"
    },
    {
     "data": {
      "text/plain": [
       "-2.0"
      ]
     },
     "execution_count": 42,
     "metadata": {},
     "output_type": "execute_result"
    }
   ],
   "source": [
    "D(f) = x -> ForwardDiff.derivative(f, float(x))\n",
    "\n",
    "res3 = find_zero((f, D(f)), -3, Roots.Newton(), verbose=true)\n",
    "res4 = find_zero((f, D(f)), 3, Roots.Newton(), verbose=true)"
   ]
  },
  {
   "cell_type": "code",
   "execution_count": 43,
   "metadata": {},
   "outputs": [
    {
     "name": "stdout",
     "output_type": "stream",
     "text": [
      "2.0\t-2.0\n"
     ]
    }
   ],
   "source": [
    "@printf(\"%s\\t%s\\n\", res3, res4)"
   ]
  },
  {
   "cell_type": "code",
   "execution_count": 44,
   "metadata": {},
   "outputs": [
    {
     "data": {
      "text/plain": [
       "Results of univariate zero finding:\n",
       "\n",
       "* Converged to: -2.0\n",
       "* Algorithm: Order2()\n",
       "* iterations: 9\n",
       "* function evaluations ≈ 14\n",
       "* stopped as f(x_n) = 0\n",
       "\n",
       "Trace:\n",
       "x₁ = -2.5,\t fx₁ = -0.036899999409600009\n",
       "x₂ = -1,\t fx₂ = 0.93749941406286619\n",
       "x₃ = -2.4431957795241797,\t fx₃ = -0.034434878199385011\n",
       "x₄ = -2.3920644723139879,\t fx₄ = -0.031957225527838341\n",
       "x₅ = -1.7325633506215534,\t fx₅ = 0.048479686378694854\n",
       "x₆ = -2.1300476247965525,\t fx₆ = -0.013921651206818151\n",
       "x₇ = -2.0413694387292032,\t fx₇ = -0.004914443703395833\n",
       "x₈ = -1.9929855247379173,\t fx₈ = 0.00088455157986313409\n",
       "x₉ = -1.9999464285902211,\t fx₉ = 6.6968744060076749e-06\n",
       "x₁₀ = -1.9999999968611613,\t fx₁₀ = 3.9235483019626685e-10\n",
       "x₁₁ = -2,\t fx₁₁ = 0\n",
       "\n"
      ]
     },
     "metadata": {},
     "output_type": "display_data"
    },
    {
     "data": {
      "text/plain": [
       "Results of univariate zero finding:\n",
       "\n",
       "* Convergence failed: Increment `Δx` has issues. \n",
       "* Algorithm Order2()\n",
       "\n",
       "Trace:\n",
       "x₁ = -3,\t fx₁ = -0.050154320600661106\n",
       "x₂ = 3,\t fx₂ = -0.050154320600661106\n",
       "x₃ = 3,\t fx₃ = -0.050154320600661106\n",
       "\n"
      ]
     },
     "metadata": {},
     "output_type": "display_data"
    },
    {
     "name": "stdout",
     "output_type": "stream",
     "text": [
      "Convergence failed.\n"
     ]
    }
   ],
   "source": [
    "res5 = find_zero(f, (-2.5, -1), Order2(), verbose=true) # Działa\n",
    "try\n",
    "    res6 = find_zero(f, (-3, 3), Order2(), verbose=true)\n",
    "catch e\n",
    "    println(\"Convergence failed.\")\n",
    "end # Nie działa. Algorytm wpadł rozbieżny cykl iteracji."
   ]
  },
  {
   "cell_type": "markdown",
   "metadata": {},
   "source": [
    "### Podpunkt 3:"
   ]
  },
  {
   "cell_type": "markdown",
   "metadata": {},
   "source": [
    "**Przykład gdzie nie działa metoda bisekcji:**"
   ]
  },
  {
   "cell_type": "markdown",
   "metadata": {},
   "source": [
    "Ad. Omówione w Podpunkt 2 przykład 1"
   ]
  },
  {
   "cell_type": "markdown",
   "metadata": {},
   "source": [
    "**Przykład gdzie nie działa metoda Newtona-Raphsona:**"
   ]
  },
  {
   "cell_type": "markdown",
   "metadata": {},
   "source": [
    "Jeżeli nie będziemy uważać przy wyborze przedziału dla metody Newtona-Raphsona może się okazać, że pechowo określimy punkt startowy w ekstremum lokalnym funkcji, w którym nie ma pierwiastka."
   ]
  },
  {
   "cell_type": "code",
   "execution_count": 53,
   "metadata": {},
   "outputs": [
    {
     "data": {
      "text/plain": [
       "D (generic function with 1 method)"
      ]
     },
     "execution_count": 53,
     "metadata": {},
     "output_type": "execute_result"
    }
   ],
   "source": [
    "f(x) = x^5 - x - 1\n",
    "df_(x) = 5*x^4 - 1\n",
    "\n",
    "D(f) = x -> ForwardDiff.derivative(f, float(x))"
   ]
  },
  {
   "cell_type": "code",
   "execution_count": 54,
   "metadata": {},
   "outputs": [
    {
     "data": {
      "image/svg+xml": [
       "<?xml version=\"1.0\" encoding=\"utf-8\"?>\n",
       "<svg xmlns=\"http://www.w3.org/2000/svg\" xmlns:xlink=\"http://www.w3.org/1999/xlink\" width=\"600\" height=\"400\" viewBox=\"0 0 2400 1600\">\n",
       "<defs>\n",
       "  <clipPath id=\"clip710\">\n",
       "    <rect x=\"0\" y=\"0\" width=\"2400\" height=\"1600\"/>\n",
       "  </clipPath>\n",
       "</defs>\n",
       "<path clip-path=\"url(#clip710)\" d=\"\n",
       "M0 1600 L2400 1600 L2400 0 L0 0  Z\n",
       "  \" fill=\"#ffffff\" fill-rule=\"evenodd\" fill-opacity=\"1\"/>\n",
       "<defs>\n",
       "  <clipPath id=\"clip711\">\n",
       "    <rect x=\"480\" y=\"0\" width=\"1681\" height=\"1600\"/>\n",
       "  </clipPath>\n",
       "</defs>\n",
       "<path clip-path=\"url(#clip710)\" d=\"\n",
       "M147.478 1486.45 L2352.76 1486.45 L2352.76 47.2441 L147.478 47.2441  Z\n",
       "  \" fill=\"#ffffff\" fill-rule=\"evenodd\" fill-opacity=\"1\"/>\n",
       "<defs>\n",
       "  <clipPath id=\"clip712\">\n",
       "    <rect x=\"147\" y=\"47\" width=\"2206\" height=\"1440\"/>\n",
       "  </clipPath>\n",
       "</defs>\n",
       "<polyline clip-path=\"url(#clip712)\" style=\"stroke:#000000; stroke-linecap:butt; stroke-linejoin:round; stroke-width:2; stroke-opacity:0.1; fill:none\" points=\"\n",
       "  147.478,1486.45 147.478,47.2441 \n",
       "  \"/>\n",
       "<polyline clip-path=\"url(#clip712)\" style=\"stroke:#000000; stroke-linecap:butt; stroke-linejoin:round; stroke-width:2; stroke-opacity:0.1; fill:none\" points=\"\n",
       "  698.797,1486.45 698.797,47.2441 \n",
       "  \"/>\n",
       "<polyline clip-path=\"url(#clip712)\" style=\"stroke:#000000; stroke-linecap:butt; stroke-linejoin:round; stroke-width:2; stroke-opacity:0.1; fill:none\" points=\"\n",
       "  1250.12,1486.45 1250.12,47.2441 \n",
       "  \"/>\n",
       "<polyline clip-path=\"url(#clip712)\" style=\"stroke:#000000; stroke-linecap:butt; stroke-linejoin:round; stroke-width:2; stroke-opacity:0.1; fill:none\" points=\"\n",
       "  1801.44,1486.45 1801.44,47.2441 \n",
       "  \"/>\n",
       "<polyline clip-path=\"url(#clip712)\" style=\"stroke:#000000; stroke-linecap:butt; stroke-linejoin:round; stroke-width:2; stroke-opacity:0.1; fill:none\" points=\"\n",
       "  2352.76,1486.45 2352.76,47.2441 \n",
       "  \"/>\n",
       "<polyline clip-path=\"url(#clip710)\" style=\"stroke:#000000; stroke-linecap:butt; stroke-linejoin:round; stroke-width:4; stroke-opacity:1; fill:none\" points=\"\n",
       "  147.478,1486.45 2352.76,1486.45 \n",
       "  \"/>\n",
       "<polyline clip-path=\"url(#clip710)\" style=\"stroke:#000000; stroke-linecap:butt; stroke-linejoin:round; stroke-width:4; stroke-opacity:1; fill:none\" points=\"\n",
       "  147.478,1486.45 147.478,1467.55 \n",
       "  \"/>\n",
       "<polyline clip-path=\"url(#clip710)\" style=\"stroke:#000000; stroke-linecap:butt; stroke-linejoin:round; stroke-width:4; stroke-opacity:1; fill:none\" points=\"\n",
       "  698.797,1486.45 698.797,1467.55 \n",
       "  \"/>\n",
       "<polyline clip-path=\"url(#clip710)\" style=\"stroke:#000000; stroke-linecap:butt; stroke-linejoin:round; stroke-width:4; stroke-opacity:1; fill:none\" points=\"\n",
       "  1250.12,1486.45 1250.12,1467.55 \n",
       "  \"/>\n",
       "<polyline clip-path=\"url(#clip710)\" style=\"stroke:#000000; stroke-linecap:butt; stroke-linejoin:round; stroke-width:4; stroke-opacity:1; fill:none\" points=\"\n",
       "  1801.44,1486.45 1801.44,1467.55 \n",
       "  \"/>\n",
       "<polyline clip-path=\"url(#clip710)\" style=\"stroke:#000000; stroke-linecap:butt; stroke-linejoin:round; stroke-width:4; stroke-opacity:1; fill:none\" points=\"\n",
       "  2352.76,1486.45 2352.76,1467.55 \n",
       "  \"/>\n",
       "<path clip-path=\"url(#clip710)\" d=\"M94.006 1532.02 L123.682 1532.02 L123.682 1535.95 L94.006 1535.95 L94.006 1532.02 Z\" fill=\"#000000\" fill-rule=\"evenodd\" fill-opacity=\"1\" /><path clip-path=\"url(#clip710)\" d=\"M134.584 1544.91 L142.223 1544.91 L142.223 1518.55 L133.913 1520.21 L133.913 1515.95 L142.177 1514.29 L146.853 1514.29 L146.853 1544.91 L154.492 1544.91 L154.492 1548.85 L134.584 1548.85 L134.584 1544.91 Z\" fill=\"#000000\" fill-rule=\"evenodd\" fill-opacity=\"1\" /><path clip-path=\"url(#clip710)\" d=\"M163.936 1542.97 L168.82 1542.97 L168.82 1548.85 L163.936 1548.85 L163.936 1542.97 Z\" fill=\"#000000\" fill-rule=\"evenodd\" fill-opacity=\"1\" /><path clip-path=\"url(#clip710)\" d=\"M189.005 1517.37 Q185.394 1517.37 183.566 1520.93 Q181.76 1524.47 181.76 1531.6 Q181.76 1538.71 183.566 1542.27 Q185.394 1545.82 189.005 1545.82 Q192.64 1545.82 194.445 1542.27 Q196.274 1538.71 196.274 1531.6 Q196.274 1524.47 194.445 1520.93 Q192.64 1517.37 189.005 1517.37 M189.005 1513.66 Q194.816 1513.66 197.871 1518.27 Q200.95 1522.85 200.95 1531.6 Q200.95 1540.33 197.871 1544.94 Q194.816 1549.52 189.005 1549.52 Q183.195 1549.52 180.117 1544.94 Q177.061 1540.33 177.061 1531.6 Q177.061 1522.85 180.117 1518.27 Q183.195 1513.66 189.005 1513.66 Z\" fill=\"#000000\" fill-rule=\"evenodd\" fill-opacity=\"1\" /><path clip-path=\"url(#clip710)\" d=\"M645.823 1532.02 L675.499 1532.02 L675.499 1535.95 L645.823 1535.95 L645.823 1532.02 Z\" fill=\"#000000\" fill-rule=\"evenodd\" fill-opacity=\"1\" /><path clip-path=\"url(#clip710)\" d=\"M695.591 1517.37 Q691.98 1517.37 690.152 1520.93 Q688.346 1524.47 688.346 1531.6 Q688.346 1538.71 690.152 1542.27 Q691.98 1545.82 695.591 1545.82 Q699.226 1545.82 701.031 1542.27 Q702.86 1538.71 702.86 1531.6 Q702.86 1524.47 701.031 1520.93 Q699.226 1517.37 695.591 1517.37 M695.591 1513.66 Q701.402 1513.66 704.457 1518.27 Q707.536 1522.85 707.536 1531.6 Q707.536 1540.33 704.457 1544.94 Q701.402 1549.52 695.591 1549.52 Q689.781 1549.52 686.703 1544.94 Q683.647 1540.33 683.647 1531.6 Q683.647 1522.85 686.703 1518.27 Q689.781 1513.66 695.591 1513.66 Z\" fill=\"#000000\" fill-rule=\"evenodd\" fill-opacity=\"1\" /><path clip-path=\"url(#clip710)\" d=\"M715.753 1542.97 L720.638 1542.97 L720.638 1548.85 L715.753 1548.85 L715.753 1542.97 Z\" fill=\"#000000\" fill-rule=\"evenodd\" fill-opacity=\"1\" /><path clip-path=\"url(#clip710)\" d=\"M730.869 1514.29 L749.225 1514.29 L749.225 1518.22 L735.151 1518.22 L735.151 1526.7 Q736.17 1526.35 737.188 1526.19 Q738.207 1526 739.225 1526 Q745.012 1526 748.392 1529.17 Q751.772 1532.34 751.772 1537.76 Q751.772 1543.34 748.299 1546.44 Q744.827 1549.52 738.508 1549.52 Q736.332 1549.52 734.063 1549.15 Q731.818 1548.78 729.411 1548.04 L729.411 1543.34 Q731.494 1544.47 733.716 1545.03 Q735.938 1545.58 738.415 1545.58 Q742.42 1545.58 744.758 1543.48 Q747.096 1541.37 747.096 1537.76 Q747.096 1534.15 744.758 1532.04 Q742.42 1529.94 738.415 1529.94 Q736.54 1529.94 734.665 1530.35 Q732.813 1530.77 730.869 1531.65 L730.869 1514.29 Z\" fill=\"#000000\" fill-rule=\"evenodd\" fill-opacity=\"1\" /><path clip-path=\"url(#clip710)\" d=\"M1227.5 1517.37 Q1223.89 1517.37 1222.06 1520.93 Q1220.26 1524.47 1220.26 1531.6 Q1220.26 1538.71 1222.06 1542.27 Q1223.89 1545.82 1227.5 1545.82 Q1231.14 1545.82 1232.94 1542.27 Q1234.77 1538.71 1234.77 1531.6 Q1234.77 1524.47 1232.94 1520.93 Q1231.14 1517.37 1227.5 1517.37 M1227.5 1513.66 Q1233.31 1513.66 1236.37 1518.27 Q1239.45 1522.85 1239.45 1531.6 Q1239.45 1540.33 1236.37 1544.94 Q1233.31 1549.52 1227.5 1549.52 Q1221.69 1549.52 1218.61 1544.94 Q1215.56 1540.33 1215.56 1531.6 Q1215.56 1522.85 1218.61 1518.27 Q1221.69 1513.66 1227.5 1513.66 Z\" fill=\"#000000\" fill-rule=\"evenodd\" fill-opacity=\"1\" /><path clip-path=\"url(#clip710)\" d=\"M1247.66 1542.97 L1252.55 1542.97 L1252.55 1548.85 L1247.66 1548.85 L1247.66 1542.97 Z\" fill=\"#000000\" fill-rule=\"evenodd\" fill-opacity=\"1\" /><path clip-path=\"url(#clip710)\" d=\"M1272.73 1517.37 Q1269.12 1517.37 1267.29 1520.93 Q1265.49 1524.47 1265.49 1531.6 Q1265.49 1538.71 1267.29 1542.27 Q1269.12 1545.82 1272.73 1545.82 Q1276.37 1545.82 1278.17 1542.27 Q1280 1538.71 1280 1531.6 Q1280 1524.47 1278.17 1520.93 Q1276.37 1517.37 1272.73 1517.37 M1272.73 1513.66 Q1278.54 1513.66 1281.6 1518.27 Q1284.68 1522.85 1284.68 1531.6 Q1284.68 1540.33 1281.6 1544.94 Q1278.54 1549.52 1272.73 1549.52 Q1266.92 1549.52 1263.84 1544.94 Q1260.79 1540.33 1260.79 1531.6 Q1260.79 1522.85 1263.84 1518.27 Q1266.92 1513.66 1272.73 1513.66 Z\" fill=\"#000000\" fill-rule=\"evenodd\" fill-opacity=\"1\" /><path clip-path=\"url(#clip710)\" d=\"M1779.32 1517.37 Q1775.71 1517.37 1773.88 1520.93 Q1772.07 1524.47 1772.07 1531.6 Q1772.07 1538.71 1773.88 1542.27 Q1775.71 1545.82 1779.32 1545.82 Q1782.95 1545.82 1784.76 1542.27 Q1786.59 1538.71 1786.59 1531.6 Q1786.59 1524.47 1784.76 1520.93 Q1782.95 1517.37 1779.32 1517.37 M1779.32 1513.66 Q1785.13 1513.66 1788.18 1518.27 Q1791.26 1522.85 1791.26 1531.6 Q1791.26 1540.33 1788.18 1544.94 Q1785.13 1549.52 1779.32 1549.52 Q1773.51 1549.52 1770.43 1544.94 Q1767.37 1540.33 1767.37 1531.6 Q1767.37 1522.85 1770.43 1518.27 Q1773.51 1513.66 1779.32 1513.66 Z\" fill=\"#000000\" fill-rule=\"evenodd\" fill-opacity=\"1\" /><path clip-path=\"url(#clip710)\" d=\"M1799.48 1542.97 L1804.36 1542.97 L1804.36 1548.85 L1799.48 1548.85 L1799.48 1542.97 Z\" fill=\"#000000\" fill-rule=\"evenodd\" fill-opacity=\"1\" /><path clip-path=\"url(#clip710)\" d=\"M1814.6 1514.29 L1832.95 1514.29 L1832.95 1518.22 L1818.88 1518.22 L1818.88 1526.7 Q1819.9 1526.35 1820.92 1526.19 Q1821.93 1526 1822.95 1526 Q1828.74 1526 1832.12 1529.17 Q1835.5 1532.34 1835.5 1537.76 Q1835.5 1543.34 1832.03 1546.44 Q1828.55 1549.52 1822.23 1549.52 Q1820.06 1549.52 1817.79 1549.15 Q1815.55 1548.78 1813.14 1548.04 L1813.14 1543.34 Q1815.22 1544.47 1817.44 1545.03 Q1819.67 1545.58 1822.14 1545.58 Q1826.15 1545.58 1828.48 1543.48 Q1830.82 1541.37 1830.82 1537.76 Q1830.82 1534.15 1828.48 1532.04 Q1826.15 1529.94 1822.14 1529.94 Q1820.27 1529.94 1818.39 1530.35 Q1816.54 1530.77 1814.6 1531.65 L1814.6 1514.29 Z\" fill=\"#000000\" fill-rule=\"evenodd\" fill-opacity=\"1\" /><path clip-path=\"url(#clip710)\" d=\"M2319.91 1544.91 L2327.55 1544.91 L2327.55 1518.55 L2319.24 1520.21 L2319.24 1515.95 L2327.5 1514.29 L2332.18 1514.29 L2332.18 1544.91 L2339.82 1544.91 L2339.82 1548.85 L2319.91 1548.85 L2319.91 1544.91 Z\" fill=\"#000000\" fill-rule=\"evenodd\" fill-opacity=\"1\" /><path clip-path=\"url(#clip710)\" d=\"M2349.26 1542.97 L2354.14 1542.97 L2354.14 1548.85 L2349.26 1548.85 L2349.26 1542.97 Z\" fill=\"#000000\" fill-rule=\"evenodd\" fill-opacity=\"1\" /><path clip-path=\"url(#clip710)\" d=\"M2374.33 1517.37 Q2370.72 1517.37 2368.89 1520.93 Q2367.08 1524.47 2367.08 1531.6 Q2367.08 1538.71 2368.89 1542.27 Q2370.72 1545.82 2374.33 1545.82 Q2377.96 1545.82 2379.77 1542.27 Q2381.6 1538.71 2381.6 1531.6 Q2381.6 1524.47 2379.77 1520.93 Q2377.96 1517.37 2374.33 1517.37 M2374.33 1513.66 Q2380.14 1513.66 2383.2 1518.27 Q2386.27 1522.85 2386.27 1531.6 Q2386.27 1540.33 2383.2 1544.94 Q2380.14 1549.52 2374.33 1549.52 Q2368.52 1549.52 2365.44 1544.94 Q2362.39 1540.33 2362.39 1531.6 Q2362.39 1522.85 2365.44 1518.27 Q2368.52 1513.66 2374.33 1513.66 Z\" fill=\"#000000\" fill-rule=\"evenodd\" fill-opacity=\"1\" /><polyline clip-path=\"url(#clip712)\" style=\"stroke:#000000; stroke-linecap:butt; stroke-linejoin:round; stroke-width:2; stroke-opacity:0.1; fill:none\" points=\"\n",
       "  147.478,1314.48 2352.76,1314.48 \n",
       "  \"/>\n",
       "<polyline clip-path=\"url(#clip712)\" style=\"stroke:#000000; stroke-linecap:butt; stroke-linejoin:round; stroke-width:2; stroke-opacity:0.1; fill:none\" points=\"\n",
       "  147.478,1069.18 2352.76,1069.18 \n",
       "  \"/>\n",
       "<polyline clip-path=\"url(#clip712)\" style=\"stroke:#000000; stroke-linecap:butt; stroke-linejoin:round; stroke-width:2; stroke-opacity:0.1; fill:none\" points=\"\n",
       "  147.478,823.88 2352.76,823.88 \n",
       "  \"/>\n",
       "<polyline clip-path=\"url(#clip712)\" style=\"stroke:#000000; stroke-linecap:butt; stroke-linejoin:round; stroke-width:2; stroke-opacity:0.1; fill:none\" points=\"\n",
       "  147.478,578.579 2352.76,578.579 \n",
       "  \"/>\n",
       "<polyline clip-path=\"url(#clip712)\" style=\"stroke:#000000; stroke-linecap:butt; stroke-linejoin:round; stroke-width:2; stroke-opacity:0.1; fill:none\" points=\"\n",
       "  147.478,333.277 2352.76,333.277 \n",
       "  \"/>\n",
       "<polyline clip-path=\"url(#clip712)\" style=\"stroke:#000000; stroke-linecap:butt; stroke-linejoin:round; stroke-width:2; stroke-opacity:0.1; fill:none\" points=\"\n",
       "  147.478,87.9763 2352.76,87.9763 \n",
       "  \"/>\n",
       "<polyline clip-path=\"url(#clip710)\" style=\"stroke:#000000; stroke-linecap:butt; stroke-linejoin:round; stroke-width:4; stroke-opacity:1; fill:none\" points=\"\n",
       "  147.478,1486.45 147.478,47.2441 \n",
       "  \"/>\n",
       "<polyline clip-path=\"url(#clip710)\" style=\"stroke:#000000; stroke-linecap:butt; stroke-linejoin:round; stroke-width:4; stroke-opacity:1; fill:none\" points=\"\n",
       "  147.478,1314.48 166.376,1314.48 \n",
       "  \"/>\n",
       "<polyline clip-path=\"url(#clip710)\" style=\"stroke:#000000; stroke-linecap:butt; stroke-linejoin:round; stroke-width:4; stroke-opacity:1; fill:none\" points=\"\n",
       "  147.478,1069.18 166.376,1069.18 \n",
       "  \"/>\n",
       "<polyline clip-path=\"url(#clip710)\" style=\"stroke:#000000; stroke-linecap:butt; stroke-linejoin:round; stroke-width:4; stroke-opacity:1; fill:none\" points=\"\n",
       "  147.478,823.88 166.376,823.88 \n",
       "  \"/>\n",
       "<polyline clip-path=\"url(#clip710)\" style=\"stroke:#000000; stroke-linecap:butt; stroke-linejoin:round; stroke-width:4; stroke-opacity:1; fill:none\" points=\"\n",
       "  147.478,578.579 166.376,578.579 \n",
       "  \"/>\n",
       "<polyline clip-path=\"url(#clip710)\" style=\"stroke:#000000; stroke-linecap:butt; stroke-linejoin:round; stroke-width:4; stroke-opacity:1; fill:none\" points=\"\n",
       "  147.478,333.277 166.376,333.277 \n",
       "  \"/>\n",
       "<polyline clip-path=\"url(#clip710)\" style=\"stroke:#000000; stroke-linecap:butt; stroke-linejoin:round; stroke-width:4; stroke-opacity:1; fill:none\" points=\"\n",
       "  147.478,87.9763 166.376,87.9763 \n",
       "  \"/>\n",
       "<path clip-path=\"url(#clip710)\" d=\"M50.9921 1314.93 L80.6679 1314.93 L80.6679 1318.87 L50.9921 1318.87 L50.9921 1314.93 Z\" fill=\"#000000\" fill-rule=\"evenodd\" fill-opacity=\"1\" /><path clip-path=\"url(#clip710)\" d=\"M91.5706 1327.83 L99.2095 1327.83 L99.2095 1301.46 L90.8993 1303.13 L90.8993 1298.87 L99.1632 1297.2 L103.839 1297.2 L103.839 1327.83 L111.478 1327.83 L111.478 1331.76 L91.5706 1331.76 L91.5706 1327.83 Z\" fill=\"#000000\" fill-rule=\"evenodd\" fill-opacity=\"1\" /><path clip-path=\"url(#clip710)\" d=\"M99.5335 1054.98 Q95.9224 1054.98 94.0937 1058.54 Q92.2882 1062.09 92.2882 1069.22 Q92.2882 1076.32 94.0937 1079.89 Q95.9224 1083.43 99.5335 1083.43 Q103.168 1083.43 104.973 1079.89 Q106.802 1076.32 106.802 1069.22 Q106.802 1062.09 104.973 1058.54 Q103.168 1054.98 99.5335 1054.98 M99.5335 1051.28 Q105.344 1051.28 108.399 1055.88 Q111.478 1060.47 111.478 1069.22 Q111.478 1077.94 108.399 1082.55 Q105.344 1087.13 99.5335 1087.13 Q93.7234 1087.13 90.6447 1082.55 Q87.5892 1077.94 87.5892 1069.22 Q87.5892 1060.47 90.6447 1055.88 Q93.7234 1051.28 99.5335 1051.28 Z\" fill=\"#000000\" fill-rule=\"evenodd\" fill-opacity=\"1\" /><path clip-path=\"url(#clip710)\" d=\"M91.5706 837.225 L99.2095 837.225 L99.2095 810.859 L90.8993 812.526 L90.8993 808.266 L99.1632 806.6 L103.839 806.6 L103.839 837.225 L111.478 837.225 L111.478 841.16 L91.5706 841.16 L91.5706 837.225 Z\" fill=\"#000000\" fill-rule=\"evenodd\" fill-opacity=\"1\" /><path clip-path=\"url(#clip710)\" d=\"M95.1586 591.923 L111.478 591.923 L111.478 595.859 L89.5336 595.859 L89.5336 591.923 Q92.1956 589.169 96.7789 584.539 Q101.385 579.887 102.566 578.544 Q104.811 576.021 105.691 574.285 Q106.594 572.525 106.594 570.836 Q106.594 568.081 104.649 566.345 Q102.728 564.609 99.6261 564.609 Q97.4271 564.609 94.9734 565.373 Q92.5428 566.137 89.7651 567.687 L89.7651 562.965 Q92.5891 561.831 95.0428 561.252 Q97.4965 560.674 99.5335 560.674 Q104.904 560.674 108.098 563.359 Q111.293 566.044 111.293 570.535 Q111.293 572.664 110.483 574.586 Q109.696 576.484 107.589 579.076 Q107.01 579.748 103.909 582.965 Q100.807 586.16 95.1586 591.923 Z\" fill=\"#000000\" fill-rule=\"evenodd\" fill-opacity=\"1\" /><path clip-path=\"url(#clip710)\" d=\"M104.348 331.923 Q107.705 332.641 109.58 334.909 Q111.478 337.178 111.478 340.511 Q111.478 345.627 107.959 348.428 Q104.441 351.229 97.9595 351.229 Q95.7836 351.229 93.4688 350.789 Q91.1771 350.372 88.7234 349.516 L88.7234 345.002 Q90.6678 346.136 92.9826 346.715 Q95.2974 347.294 97.8206 347.294 Q102.219 347.294 104.51 345.557 Q106.825 343.821 106.825 340.511 Q106.825 337.456 104.672 335.743 Q102.543 334.007 98.7234 334.007 L94.6956 334.007 L94.6956 330.164 L98.9085 330.164 Q102.358 330.164 104.186 328.798 Q106.015 327.409 106.015 324.817 Q106.015 322.155 104.117 320.743 Q102.242 319.308 98.7234 319.308 Q96.8021 319.308 94.603 319.724 Q92.4039 320.141 89.7651 321.021 L89.7651 316.854 Q92.4271 316.113 94.7419 315.743 Q97.0798 315.372 99.14 315.372 Q104.464 315.372 107.566 317.803 Q110.668 320.21 110.668 324.331 Q110.668 327.201 109.024 329.192 Q107.381 331.159 104.348 331.923 Z\" fill=\"#000000\" fill-rule=\"evenodd\" fill-opacity=\"1\" /><path clip-path=\"url(#clip710)\" d=\"M101.895 74.7703 L90.0891 93.2193 L101.895 93.2193 L101.895 74.7703 M100.668 70.6963 L106.547 70.6963 L106.547 93.2193 L111.478 93.2193 L111.478 97.1082 L106.547 97.1082 L106.547 105.256 L101.895 105.256 L101.895 97.1082 L86.2929 97.1082 L86.2929 92.5943 L100.668 70.6963 Z\" fill=\"#000000\" fill-rule=\"evenodd\" fill-opacity=\"1\" /><polyline clip-path=\"url(#clip712)\" style=\"stroke:#009af9; stroke-linecap:butt; stroke-linejoin:round; stroke-width:4; stroke-opacity:1; fill:none\" points=\"\n",
       "  147.478,1314.48 151.067,1311.31 154.657,1308.2 158.246,1305.13 161.835,1302.12 170.133,1295.34 178.43,1288.82 186.727,1282.55 195.025,1276.54 203.322,1270.77 \n",
       "  211.619,1265.24 219.916,1259.94 228.214,1254.86 236.511,1250.01 244.808,1245.37 253.106,1240.94 261.403,1236.72 269.7,1232.7 277.997,1228.87 286.295,1225.24 \n",
       "  294.592,1221.79 304.565,1217.88 314.537,1214.23 324.51,1210.82 334.482,1207.64 344.455,1204.7 354.428,1201.98 364.4,1199.48 374.373,1197.18 391.236,1193.75 \n",
       "  408.1,1190.86 424.963,1188.48 441.827,1186.59 460.145,1185.04 478.464,1183.99 496.782,1183.4 515.101,1183.25 531.989,1183.47 548.877,1184 565.765,1184.83 \n",
       "  582.653,1185.93 600.758,1187.4 618.864,1189.13 636.97,1191.12 655.075,1193.33 676.053,1196.15 697.03,1199.23 718.007,1202.53 738.984,1206.02 776.269,1212.66 \n",
       "  813.553,1219.75 846.248,1226.25 878.943,1232.97 950.235,1248.13 1021.95,1263.82 1101.24,1281.37 1176.69,1298.15 1255.13,1315.6 1321.16,1330.29 1401.78,1348.21 \n",
       "  1475.63,1364.56 1543.84,1379.5 1612.93,1394.25 1651.65,1402.24 1690.37,1409.93 1725.45,1416.58 1760.54,1422.82 1780.62,1426.18 1800.7,1429.35 1820.79,1432.33 \n",
       "  1840.87,1435.08 1859.47,1437.4 1878.06,1439.49 1896.66,1441.31 1915.26,1442.86 1933.59,1444.09 1951.92,1444.99 1970.26,1445.54 1988.59,1445.72 2006.39,1445.5 \n",
       "  2024.19,1444.86 2041.99,1443.79 2059.79,1442.24 2078.04,1440.12 2096.29,1437.44 2114.54,1434.15 2132.78,1430.21 2142.78,1427.77 2152.78,1425.11 2162.77,1422.22 \n",
       "  2172.77,1419.11 2182.77,1415.77 2192.76,1412.18 2202.76,1408.33 2212.75,1404.23 2227.28,1397.79 2241.8,1390.76 2256.32,1383.11 2270.84,1374.81 2278.1,1370.41 \n",
       "  2285.36,1365.83 2292.62,1361.09 2299.88,1356.16 2307.14,1351.05 2314.4,1345.75 2321.66,1340.25 2328.92,1334.57 2334.88,1329.75 2340.84,1324.8 2346.8,1319.71 \n",
       "  2352.76,1314.48 \n",
       "  \"/>\n",
       "<polyline clip-path=\"url(#clip712)\" style=\"stroke:#e26f46; stroke-linecap:butt; stroke-linejoin:round; stroke-width:4; stroke-opacity:1; fill:none\" points=\"\n",
       "  147.478,87.9763 151.067,103.869 154.657,119.607 158.246,135.19 161.835,150.621 178.43,220.002 195.025,286.234 211.619,349.413 228.214,409.635 244.808,466.993 \n",
       "  261.403,521.581 277.997,573.488 294.592,622.803 304.565,651.23 314.537,678.771 324.51,705.446 334.482,731.272 354.428,780.452 374.373,826.454 391.236,862.972 \n",
       "  408.1,897.402 424.963,929.824 441.827,960.318 460.145,991.349 478.464,1020.29 496.782,1047.25 515.101,1072.31 531.989,1093.81 548.877,1113.85 565.765,1132.49 \n",
       "  582.653,1149.8 600.758,1166.95 618.864,1182.73 636.97,1197.21 655.075,1210.46 676.053,1224.37 697.03,1236.84 718.007,1247.96 738.984,1257.85 776.269,1272.65 \n",
       "  813.553,1284.34 846.248,1292.41 878.943,1298.73 914.589,1303.97 950.235,1307.77 986.093,1310.45 1021.95,1312.23 1101.24,1314.07 1176.69,1314.46 1255.13,1314.48 \n",
       "  1321.16,1314.46 1401.78,1314.04 1475.63,1312.34 1509.74,1310.71 1543.84,1308.31 1578.39,1304.85 1612.93,1300.1 1651.65,1292.91 1690.37,1283.31 1725.45,1272.12 \n",
       "  1760.54,1258.16 1780.62,1248.76 1800.7,1238.23 1820.79,1226.48 1840.87,1213.43 1859.47,1200.09 1878.06,1185.47 1896.66,1169.5 1915.26,1152.08 1933.59,1133.42 \n",
       "  1951.92,1113.2 1970.26,1091.33 1988.59,1067.72 2006.39,1043.05 2024.19,1016.58 2041.99,988.222 2059.79,957.882 2078.04,924.632 2096.29,889.109 2114.54,851.212 \n",
       "  2132.78,810.838 2152.78,763.634 2172.77,713.187 2182.77,686.702 2192.76,659.351 2202.76,631.117 2212.75,601.98 2227.28,558.005 2241.8,512.026 2256.32,463.982 \n",
       "  2270.84,413.812 2285.36,361.455 2299.88,306.847 2314.4,249.926 2328.92,190.627 2334.88,165.593 2340.84,140.142 2346.8,114.272 2352.76,87.9763 \n",
       "  \"/>\n",
       "<path clip-path=\"url(#clip710)\" d=\"\n",
       "M1981.79 250.738 L2279.25 250.738 L2279.25 95.2176 L1981.79 95.2176  Z\n",
       "  \" fill=\"#ffffff\" fill-rule=\"evenodd\" fill-opacity=\"1\"/>\n",
       "<polyline clip-path=\"url(#clip710)\" style=\"stroke:#000000; stroke-linecap:butt; stroke-linejoin:round; stroke-width:4; stroke-opacity:1; fill:none\" points=\"\n",
       "  1981.79,250.738 2279.25,250.738 2279.25,95.2176 1981.79,95.2176 1981.79,250.738 \n",
       "  \"/>\n",
       "<polyline clip-path=\"url(#clip710)\" style=\"stroke:#009af9; stroke-linecap:butt; stroke-linejoin:round; stroke-width:4; stroke-opacity:1; fill:none\" points=\"\n",
       "  2006.29,147.058 2153.31,147.058 \n",
       "  \"/>\n",
       "<path clip-path=\"url(#clip710)\" d=\"M2191.65 166.745 Q2189.85 171.375 2188.13 172.787 Q2186.42 174.199 2183.55 174.199 L2180.15 174.199 L2180.15 170.634 L2182.65 170.634 Q2184.41 170.634 2185.38 169.8 Q2186.35 168.967 2187.53 165.865 L2188.3 163.921 L2177.81 138.412 L2182.32 138.412 L2190.43 158.689 L2198.53 138.412 L2203.04 138.412 L2191.65 166.745 Z\" fill=\"#000000\" fill-rule=\"evenodd\" fill-opacity=\"1\" /><path clip-path=\"url(#clip710)\" d=\"M2210.33 160.402 L2217.97 160.402 L2217.97 134.037 L2209.66 135.703 L2209.66 131.444 L2217.93 129.778 L2222.6 129.778 L2222.6 160.402 L2230.24 160.402 L2230.24 164.338 L2210.33 164.338 L2210.33 160.402 Z\" fill=\"#000000\" fill-rule=\"evenodd\" fill-opacity=\"1\" /><polyline clip-path=\"url(#clip710)\" style=\"stroke:#e26f46; stroke-linecap:butt; stroke-linejoin:round; stroke-width:4; stroke-opacity:1; fill:none\" points=\"\n",
       "  2006.29,198.898 2153.31,198.898 \n",
       "  \"/>\n",
       "<path clip-path=\"url(#clip710)\" d=\"M2191.65 218.585 Q2189.85 223.215 2188.13 224.627 Q2186.42 226.039 2183.55 226.039 L2180.15 226.039 L2180.15 222.474 L2182.65 222.474 Q2184.41 222.474 2185.38 221.64 Q2186.35 220.807 2187.53 217.705 L2188.3 215.761 L2177.81 190.252 L2182.32 190.252 L2190.43 210.529 L2198.53 190.252 L2203.04 190.252 L2191.65 218.585 Z\" fill=\"#000000\" fill-rule=\"evenodd\" fill-opacity=\"1\" /><path clip-path=\"url(#clip710)\" d=\"M2213.55 212.242 L2229.87 212.242 L2229.87 216.178 L2207.93 216.178 L2207.93 212.242 Q2210.59 209.488 2215.17 204.858 Q2219.78 200.205 2220.96 198.863 Q2223.2 196.34 2224.08 194.604 Q2224.99 192.844 2224.99 191.155 Q2224.99 188.4 2223.04 186.664 Q2221.12 184.928 2218.02 184.928 Q2215.82 184.928 2213.37 185.692 Q2210.94 186.455 2208.16 188.006 L2208.16 183.284 Q2210.98 182.15 2213.43 181.571 Q2215.89 180.993 2217.93 180.993 Q2223.3 180.993 2226.49 183.678 Q2229.68 186.363 2229.68 190.854 Q2229.68 192.983 2228.87 194.905 Q2228.09 196.803 2225.98 199.395 Q2225.4 200.067 2222.3 203.284 Q2219.2 206.479 2213.55 212.242 Z\" fill=\"#000000\" fill-rule=\"evenodd\" fill-opacity=\"1\" /></svg>\n"
      ]
     },
     "execution_count": 54,
     "metadata": {},
     "output_type": "execute_result"
    }
   ],
   "source": [
    "plot3 = plot(f, xlim=(-1, 1))\n",
    "plot3 = plot!(df_, xlim=(-1, 1))"
   ]
  },
  {
   "cell_type": "code",
   "execution_count": 47,
   "metadata": {},
   "outputs": [
    {
     "data": {
      "text/plain": [
       "Results of univariate zero finding:\n",
       "\n",
       "* Convergence failed: \n",
       "* Algorithm Roots.Newton()\n",
       "\n",
       "Trace:\n",
       "x₁ = 0,\t fx₁ = -1\n",
       "x₂ = -1,\t fx₂ = -1\n",
       "x₃ = -0.75,\t fx₃ = -0.4873046875\n",
       "x₄ = 0.087248322147650992,\t fx₄ = -1.0872432663996423\n",
       "x₅ = -1.0003100460739576,\t fx₅ = -1.0012411458795991\n",
       "x₆ = -0.75038737753747997,\t fx₆ = -0.48753078673077721\n",
       "x₇ = 0.082568177991163005,\t fx₇ = -1.0825643403575778\n",
       "x₈ = -1.0002477999261075,\t fx₈ = -1.0009918139046436\n",
       "x₉ = -0.75030963486865565,\t fx₉ = -0.48748530930405543\n",
       "x₁₀ = 0.08350398765431899,\t fx₁₀ = -1.0834999275604316\n",
       "x₁₁ = -1.0002594112249579,\t fx₁₁ = -1.0010383180162592\n",
       "x₁₂ = -0.75032413796362074,\t fx₁₂ = -0.4874937893604816\n",
       "x₁₃ = 0.083329279144628399,\t fx₁₃ = -1.0833252613463857\n",
       "x₁₄ = -1.0002572128248959,\t fx₁₄ = -1.0010295130541462\n",
       "x₁₅ = -0.75032139209032023,\t fx₁₅ = -0.48749218369366465\n",
       "x₁₆ = 0.083362352126728823,\t fx₁₆ = -1.0833583263489324\n",
       "x₁₇ = -1.0002576279030353,\t fx₁₇ = -1.0010311755045205\n",
       "x₁₈ = -0.75032191053782382,\t fx₁₈ = -0.4874924868542504\n",
       "x₁₉ = 0.083356107462217777,\t fx₁₉ = -1.0833520831920482\n",
       "x₂₀ = -1.0002575494913502,\t fx₂₀ = -1.0010308614536647\n",
       "x₂₁ = -0.75032181259886221,\t fx₂₁ = -0.4874924295845694\n",
       "x₂₂ = 0.083357287124394497,\t fx₂₂ = -1.083353262569458\n",
       "x₂₃ = -1.0002575643024976,\t fx₂₃ = -1.001030920774578\n",
       "x₂₄ = -0.75032183109850981,\t fx₂₄ = -0.48749244040220818\n",
       "x₂₅ = 0.083357064298312689,\t fx₂₅ = -1.0833530397971671\n",
       "x₂₆ = -1.0002575615047746,\t fx₂₆ = -1.0010309095692689\n",
       "x₂₇ = -0.75032182760405475,\t fx₂₇ = -0.48749243835883105\n",
       "x₂₈ = 0.083357106388605273,\t fx₂₈ = -1.083353081877299\n",
       "x₂₉ = -1.000257562033243,\t fx₂₉ = -1.0010309116858658\n",
       "x₃₀ = -0.75032182826413041,\t fx₃₀ = -0.48749243874480919\n",
       "x₃₁ = 0.083357098438072819,\t fx₃₁ = -1.0833530739286859\n",
       "x₃₂ = -1.0002575619334193,\t fx₃₂ = -1.0010309112860565\n",
       "x₃₃ = -0.75032182813944726,\t fx₃₃ = -0.48749243867190095\n",
       "x₃₄ = 0.083357099939866619,\t fx₃₄ = -1.0833530754301171\n",
       "x₃₅ = -1.0002575619522753,\t fx₃₅ = -1.0010309113615778\n",
       "x₃₆ = -0.75032182816299886,\t fx₃₆ = -0.48749243868567271\n",
       "x₃₇ = 0.083357099656189981,\t fx₃₇ = -1.0833530751465088\n",
       "x₃₈ = -1.0002575619487133,\t fx₃₈ = -1.0010309113473113\n",
       "x₃₉ = -0.75032182815854986,\t fx₃₉ = -0.48749243868307124\n",
       "x₄₀ = 0.083357099709778448,\t fx₄₀ = -1.0833530752000844\n",
       "x₄₁ = -1.0002575619493865,\t fx₄₁ = -1.0010309113500078\n",
       "x₄₂ = -0.75032182815939086,\t fx₄₂ = -0.48749243868356296\n",
       "\n"
      ]
     },
     "metadata": {},
     "output_type": "display_data"
    },
    {
     "name": "stdout",
     "output_type": "stream",
     "text": [
      "f'(x) = 0\n"
     ]
    }
   ],
   "source": [
    "try\n",
    "    res7 = find_zero((f, D(f)), 0, Roots.Newton(), verbose=true)\n",
    "catch\n",
    "    println(\"f'(x) = 0\")\n",
    "end"
   ]
  },
  {
   "cell_type": "markdown",
   "metadata": {},
   "source": [
    "**Przykład gdzie nie działa metoda Steffensena:**"
   ]
  },
  {
   "cell_type": "code",
   "execution_count": 48,
   "metadata": {},
   "outputs": [
    {
     "data": {
      "text/plain": [
       "f (generic function with 1 method)"
      ]
     },
     "execution_count": 48,
     "metadata": {},
     "output_type": "execute_result"
    }
   ],
   "source": [
    "f(x) = x^3"
   ]
  },
  {
   "cell_type": "code",
   "execution_count": 49,
   "metadata": {},
   "outputs": [
    {
     "data": {
      "image/svg+xml": [
       "<?xml version=\"1.0\" encoding=\"utf-8\"?>\n",
       "<svg xmlns=\"http://www.w3.org/2000/svg\" xmlns:xlink=\"http://www.w3.org/1999/xlink\" width=\"600\" height=\"400\" viewBox=\"0 0 2400 1600\">\n",
       "<defs>\n",
       "  <clipPath id=\"clip670\">\n",
       "    <rect x=\"0\" y=\"0\" width=\"2400\" height=\"1600\"/>\n",
       "  </clipPath>\n",
       "</defs>\n",
       "<path clip-path=\"url(#clip670)\" d=\"\n",
       "M0 1600 L2400 1600 L2400 0 L0 0  Z\n",
       "  \" fill=\"#ffffff\" fill-rule=\"evenodd\" fill-opacity=\"1\"/>\n",
       "<defs>\n",
       "  <clipPath id=\"clip671\">\n",
       "    <rect x=\"480\" y=\"0\" width=\"1681\" height=\"1600\"/>\n",
       "  </clipPath>\n",
       "</defs>\n",
       "<path clip-path=\"url(#clip670)\" d=\"\n",
       "M178.867 1486.45 L2352.76 1486.45 L2352.76 47.2441 L178.867 47.2441  Z\n",
       "  \" fill=\"#ffffff\" fill-rule=\"evenodd\" fill-opacity=\"1\"/>\n",
       "<defs>\n",
       "  <clipPath id=\"clip672\">\n",
       "    <rect x=\"178\" y=\"47\" width=\"2175\" height=\"1440\"/>\n",
       "  </clipPath>\n",
       "</defs>\n",
       "<polyline clip-path=\"url(#clip672)\" style=\"stroke:#000000; stroke-linecap:butt; stroke-linejoin:round; stroke-width:2; stroke-opacity:0.1; fill:none\" points=\"\n",
       "  396.256,1486.45 396.256,47.2441 \n",
       "  \"/>\n",
       "<polyline clip-path=\"url(#clip672)\" style=\"stroke:#000000; stroke-linecap:butt; stroke-linejoin:round; stroke-width:2; stroke-opacity:0.1; fill:none\" points=\"\n",
       "  831.033,1486.45 831.033,47.2441 \n",
       "  \"/>\n",
       "<polyline clip-path=\"url(#clip672)\" style=\"stroke:#000000; stroke-linecap:butt; stroke-linejoin:round; stroke-width:2; stroke-opacity:0.1; fill:none\" points=\"\n",
       "  1265.81,1486.45 1265.81,47.2441 \n",
       "  \"/>\n",
       "<polyline clip-path=\"url(#clip672)\" style=\"stroke:#000000; stroke-linecap:butt; stroke-linejoin:round; stroke-width:2; stroke-opacity:0.1; fill:none\" points=\"\n",
       "  1700.59,1486.45 1700.59,47.2441 \n",
       "  \"/>\n",
       "<polyline clip-path=\"url(#clip672)\" style=\"stroke:#000000; stroke-linecap:butt; stroke-linejoin:round; stroke-width:2; stroke-opacity:0.1; fill:none\" points=\"\n",
       "  2135.37,1486.45 2135.37,47.2441 \n",
       "  \"/>\n",
       "<polyline clip-path=\"url(#clip670)\" style=\"stroke:#000000; stroke-linecap:butt; stroke-linejoin:round; stroke-width:4; stroke-opacity:1; fill:none\" points=\"\n",
       "  178.867,1486.45 2352.76,1486.45 \n",
       "  \"/>\n",
       "<polyline clip-path=\"url(#clip670)\" style=\"stroke:#000000; stroke-linecap:butt; stroke-linejoin:round; stroke-width:4; stroke-opacity:1; fill:none\" points=\"\n",
       "  396.256,1486.45 396.256,1467.55 \n",
       "  \"/>\n",
       "<polyline clip-path=\"url(#clip670)\" style=\"stroke:#000000; stroke-linecap:butt; stroke-linejoin:round; stroke-width:4; stroke-opacity:1; fill:none\" points=\"\n",
       "  831.033,1486.45 831.033,1467.55 \n",
       "  \"/>\n",
       "<polyline clip-path=\"url(#clip670)\" style=\"stroke:#000000; stroke-linecap:butt; stroke-linejoin:round; stroke-width:4; stroke-opacity:1; fill:none\" points=\"\n",
       "  1265.81,1486.45 1265.81,1467.55 \n",
       "  \"/>\n",
       "<polyline clip-path=\"url(#clip670)\" style=\"stroke:#000000; stroke-linecap:butt; stroke-linejoin:round; stroke-width:4; stroke-opacity:1; fill:none\" points=\"\n",
       "  1700.59,1486.45 1700.59,1467.55 \n",
       "  \"/>\n",
       "<polyline clip-path=\"url(#clip670)\" style=\"stroke:#000000; stroke-linecap:butt; stroke-linejoin:round; stroke-width:4; stroke-opacity:1; fill:none\" points=\"\n",
       "  2135.37,1486.45 2135.37,1467.55 \n",
       "  \"/>\n",
       "<path clip-path=\"url(#clip670)\" d=\"M366.198 1532.02 L395.874 1532.02 L395.874 1535.95 L366.198 1535.95 L366.198 1532.02 Z\" fill=\"#000000\" fill-rule=\"evenodd\" fill-opacity=\"1\" /><path clip-path=\"url(#clip670)\" d=\"M409.994 1544.91 L426.313 1544.91 L426.313 1548.85 L404.369 1548.85 L404.369 1544.91 Q407.031 1542.16 411.614 1537.53 Q416.221 1532.88 417.401 1531.53 Q419.647 1529.01 420.526 1527.27 Q421.429 1525.51 421.429 1523.82 Q421.429 1521.07 419.485 1519.33 Q417.563 1517.6 414.461 1517.6 Q412.262 1517.6 409.809 1518.36 Q407.378 1519.13 404.6 1520.68 L404.6 1515.95 Q407.424 1514.82 409.878 1514.24 Q412.332 1513.66 414.369 1513.66 Q419.739 1513.66 422.934 1516.35 Q426.128 1519.03 426.128 1523.52 Q426.128 1525.65 425.318 1527.57 Q424.531 1529.47 422.424 1532.07 Q421.846 1532.74 418.744 1535.95 Q415.642 1539.15 409.994 1544.91 Z\" fill=\"#000000\" fill-rule=\"evenodd\" fill-opacity=\"1\" /><path clip-path=\"url(#clip670)\" d=\"M800.791 1532.02 L830.466 1532.02 L830.466 1535.95 L800.791 1535.95 L800.791 1532.02 Z\" fill=\"#000000\" fill-rule=\"evenodd\" fill-opacity=\"1\" /><path clip-path=\"url(#clip670)\" d=\"M841.369 1544.91 L849.008 1544.91 L849.008 1518.55 L840.698 1520.21 L840.698 1515.95 L848.962 1514.29 L853.637 1514.29 L853.637 1544.91 L861.276 1544.91 L861.276 1548.85 L841.369 1548.85 L841.369 1544.91 Z\" fill=\"#000000\" fill-rule=\"evenodd\" fill-opacity=\"1\" /><path clip-path=\"url(#clip670)\" d=\"M1265.81 1517.37 Q1262.2 1517.37 1260.37 1520.93 Q1258.57 1524.47 1258.57 1531.6 Q1258.57 1538.71 1260.37 1542.27 Q1262.2 1545.82 1265.81 1545.82 Q1269.45 1545.82 1271.25 1542.27 Q1273.08 1538.71 1273.08 1531.6 Q1273.08 1524.47 1271.25 1520.93 Q1269.45 1517.37 1265.81 1517.37 M1265.81 1513.66 Q1271.62 1513.66 1274.68 1518.27 Q1277.76 1522.85 1277.76 1531.6 Q1277.76 1540.33 1274.68 1544.94 Q1271.62 1549.52 1265.81 1549.52 Q1260 1549.52 1256.92 1544.94 Q1253.87 1540.33 1253.87 1531.6 Q1253.87 1522.85 1256.92 1518.27 Q1260 1513.66 1265.81 1513.66 Z\" fill=\"#000000\" fill-rule=\"evenodd\" fill-opacity=\"1\" /><path clip-path=\"url(#clip670)\" d=\"M1690.97 1544.91 L1698.61 1544.91 L1698.61 1518.55 L1690.3 1520.21 L1690.3 1515.95 L1698.56 1514.29 L1703.24 1514.29 L1703.24 1544.91 L1710.88 1544.91 L1710.88 1548.85 L1690.97 1548.85 L1690.97 1544.91 Z\" fill=\"#000000\" fill-rule=\"evenodd\" fill-opacity=\"1\" /><path clip-path=\"url(#clip670)\" d=\"M2130.02 1544.91 L2146.34 1544.91 L2146.34 1548.85 L2124.39 1548.85 L2124.39 1544.91 Q2127.06 1542.16 2131.64 1537.53 Q2136.25 1532.88 2137.43 1531.53 Q2139.67 1529.01 2140.55 1527.27 Q2141.45 1525.51 2141.45 1523.82 Q2141.45 1521.07 2139.51 1519.33 Q2137.59 1517.6 2134.49 1517.6 Q2132.29 1517.6 2129.83 1518.36 Q2127.4 1519.13 2124.63 1520.68 L2124.63 1515.95 Q2127.45 1514.82 2129.9 1514.24 Q2132.36 1513.66 2134.39 1513.66 Q2139.77 1513.66 2142.96 1516.35 Q2146.15 1519.03 2146.15 1523.52 Q2146.15 1525.65 2145.34 1527.57 Q2144.56 1529.47 2142.45 1532.07 Q2141.87 1532.74 2138.77 1535.95 Q2135.67 1539.15 2130.02 1544.91 Z\" fill=\"#000000\" fill-rule=\"evenodd\" fill-opacity=\"1\" /><polyline clip-path=\"url(#clip672)\" style=\"stroke:#000000; stroke-linecap:butt; stroke-linejoin:round; stroke-width:2; stroke-opacity:0.1; fill:none\" points=\"\n",
       "  178.867,1418.56 2352.76,1418.56 \n",
       "  \"/>\n",
       "<polyline clip-path=\"url(#clip672)\" style=\"stroke:#000000; stroke-linecap:butt; stroke-linejoin:round; stroke-width:2; stroke-opacity:0.1; fill:none\" points=\"\n",
       "  178.867,1201.32 2352.76,1201.32 \n",
       "  \"/>\n",
       "<polyline clip-path=\"url(#clip672)\" style=\"stroke:#000000; stroke-linecap:butt; stroke-linejoin:round; stroke-width:2; stroke-opacity:0.1; fill:none\" points=\"\n",
       "  178.867,984.084 2352.76,984.084 \n",
       "  \"/>\n",
       "<polyline clip-path=\"url(#clip672)\" style=\"stroke:#000000; stroke-linecap:butt; stroke-linejoin:round; stroke-width:2; stroke-opacity:0.1; fill:none\" points=\"\n",
       "  178.867,766.846 2352.76,766.846 \n",
       "  \"/>\n",
       "<polyline clip-path=\"url(#clip672)\" style=\"stroke:#000000; stroke-linecap:butt; stroke-linejoin:round; stroke-width:2; stroke-opacity:0.1; fill:none\" points=\"\n",
       "  178.867,549.608 2352.76,549.608 \n",
       "  \"/>\n",
       "<polyline clip-path=\"url(#clip672)\" style=\"stroke:#000000; stroke-linecap:butt; stroke-linejoin:round; stroke-width:2; stroke-opacity:0.1; fill:none\" points=\"\n",
       "  178.867,332.369 2352.76,332.369 \n",
       "  \"/>\n",
       "<polyline clip-path=\"url(#clip672)\" style=\"stroke:#000000; stroke-linecap:butt; stroke-linejoin:round; stroke-width:2; stroke-opacity:0.1; fill:none\" points=\"\n",
       "  178.867,115.131 2352.76,115.131 \n",
       "  \"/>\n",
       "<polyline clip-path=\"url(#clip670)\" style=\"stroke:#000000; stroke-linecap:butt; stroke-linejoin:round; stroke-width:4; stroke-opacity:1; fill:none\" points=\"\n",
       "  178.867,1486.45 178.867,47.2441 \n",
       "  \"/>\n",
       "<polyline clip-path=\"url(#clip670)\" style=\"stroke:#000000; stroke-linecap:butt; stroke-linejoin:round; stroke-width:4; stroke-opacity:1; fill:none\" points=\"\n",
       "  178.867,1418.56 197.764,1418.56 \n",
       "  \"/>\n",
       "<polyline clip-path=\"url(#clip670)\" style=\"stroke:#000000; stroke-linecap:butt; stroke-linejoin:round; stroke-width:4; stroke-opacity:1; fill:none\" points=\"\n",
       "  178.867,1201.32 197.764,1201.32 \n",
       "  \"/>\n",
       "<polyline clip-path=\"url(#clip670)\" style=\"stroke:#000000; stroke-linecap:butt; stroke-linejoin:round; stroke-width:4; stroke-opacity:1; fill:none\" points=\"\n",
       "  178.867,984.084 197.764,984.084 \n",
       "  \"/>\n",
       "<polyline clip-path=\"url(#clip670)\" style=\"stroke:#000000; stroke-linecap:butt; stroke-linejoin:round; stroke-width:4; stroke-opacity:1; fill:none\" points=\"\n",
       "  178.867,766.846 197.764,766.846 \n",
       "  \"/>\n",
       "<polyline clip-path=\"url(#clip670)\" style=\"stroke:#000000; stroke-linecap:butt; stroke-linejoin:round; stroke-width:4; stroke-opacity:1; fill:none\" points=\"\n",
       "  178.867,549.608 197.764,549.608 \n",
       "  \"/>\n",
       "<polyline clip-path=\"url(#clip670)\" style=\"stroke:#000000; stroke-linecap:butt; stroke-linejoin:round; stroke-width:4; stroke-opacity:1; fill:none\" points=\"\n",
       "  178.867,332.369 197.764,332.369 \n",
       "  \"/>\n",
       "<polyline clip-path=\"url(#clip670)\" style=\"stroke:#000000; stroke-linecap:butt; stroke-linejoin:round; stroke-width:4; stroke-opacity:1; fill:none\" points=\"\n",
       "  178.867,115.131 197.764,115.131 \n",
       "  \"/>\n",
       "<path clip-path=\"url(#clip670)\" d=\"M51.9875 1419.01 L81.6633 1419.01 L81.6633 1422.95 L51.9875 1422.95 L51.9875 1419.01 Z\" fill=\"#000000\" fill-rule=\"evenodd\" fill-opacity=\"1\" /><path clip-path=\"url(#clip670)\" d=\"M92.566 1431.91 L100.205 1431.91 L100.205 1405.54 L91.8947 1407.21 L91.8947 1402.95 L100.159 1401.28 L104.834 1401.28 L104.834 1431.91 L112.473 1431.91 L112.473 1435.84 L92.566 1435.84 L92.566 1431.91 Z\" fill=\"#000000\" fill-rule=\"evenodd\" fill-opacity=\"1\" /><path clip-path=\"url(#clip670)\" d=\"M121.964 1401.28 L140.32 1401.28 L140.32 1405.22 L126.246 1405.22 L126.246 1413.69 Q127.265 1413.34 128.283 1413.18 Q129.302 1412.99 130.32 1412.99 Q136.107 1412.99 139.487 1416.17 Q142.867 1419.34 142.867 1424.75 Q142.867 1430.33 139.394 1433.43 Q135.922 1436.51 129.603 1436.51 Q127.427 1436.51 125.158 1436.14 Q122.913 1435.77 120.506 1435.03 L120.506 1430.33 Q122.589 1431.47 124.811 1432.02 Q127.033 1432.58 129.51 1432.58 Q133.515 1432.58 135.853 1430.47 Q138.191 1428.36 138.191 1424.75 Q138.191 1421.14 135.853 1419.04 Q133.515 1416.93 129.51 1416.93 Q127.635 1416.93 125.76 1417.35 Q123.908 1417.76 121.964 1418.64 L121.964 1401.28 Z\" fill=\"#000000\" fill-rule=\"evenodd\" fill-opacity=\"1\" /><path clip-path=\"url(#clip670)\" d=\"M50.9921 1201.77 L80.6679 1201.77 L80.6679 1205.71 L50.9921 1205.71 L50.9921 1201.77 Z\" fill=\"#000000\" fill-rule=\"evenodd\" fill-opacity=\"1\" /><path clip-path=\"url(#clip670)\" d=\"M91.5706 1214.67 L99.2095 1214.67 L99.2095 1188.3 L90.8993 1189.97 L90.8993 1185.71 L99.1632 1184.04 L103.839 1184.04 L103.839 1214.67 L111.478 1214.67 L111.478 1218.6 L91.5706 1218.6 L91.5706 1214.67 Z\" fill=\"#000000\" fill-rule=\"evenodd\" fill-opacity=\"1\" /><path clip-path=\"url(#clip670)\" d=\"M130.922 1187.12 Q127.311 1187.12 125.482 1190.69 Q123.677 1194.23 123.677 1201.36 Q123.677 1208.46 125.482 1212.03 Q127.311 1215.57 130.922 1215.57 Q134.556 1215.57 136.362 1212.03 Q138.191 1208.46 138.191 1201.36 Q138.191 1194.23 136.362 1190.69 Q134.556 1187.12 130.922 1187.12 M130.922 1183.42 Q136.732 1183.42 139.788 1188.02 Q142.867 1192.61 142.867 1201.36 Q142.867 1210.08 139.788 1214.69 Q136.732 1219.27 130.922 1219.27 Q125.112 1219.27 122.033 1214.69 Q118.978 1210.08 118.978 1201.36 Q118.978 1192.61 122.033 1188.02 Q125.112 1183.42 130.922 1183.42 Z\" fill=\"#000000\" fill-rule=\"evenodd\" fill-opacity=\"1\" /><path clip-path=\"url(#clip670)\" d=\"M82.1494 984.536 L111.825 984.536 L111.825 988.471 L82.1494 988.471 L82.1494 984.536 Z\" fill=\"#000000\" fill-rule=\"evenodd\" fill-opacity=\"1\" /><path clip-path=\"url(#clip670)\" d=\"M121.964 966.804 L140.32 966.804 L140.32 970.739 L126.246 970.739 L126.246 979.212 Q127.265 978.864 128.283 978.702 Q129.302 978.517 130.32 978.517 Q136.107 978.517 139.487 981.688 Q142.867 984.86 142.867 990.276 Q142.867 995.855 139.394 998.957 Q135.922 1002.04 129.603 1002.04 Q127.427 1002.04 125.158 1001.67 Q122.913 1001.29 120.506 1000.55 L120.506 995.855 Q122.589 996.989 124.811 997.545 Q127.033 998.1 129.51 998.1 Q133.515 998.1 135.853 995.994 Q138.191 993.887 138.191 990.276 Q138.191 986.665 135.853 984.559 Q133.515 982.452 129.51 982.452 Q127.635 982.452 125.76 982.869 Q123.908 983.286 121.964 984.165 L121.964 966.804 Z\" fill=\"#000000\" fill-rule=\"evenodd\" fill-opacity=\"1\" /><path clip-path=\"url(#clip670)\" d=\"M130.922 752.645 Q127.311 752.645 125.482 756.209 Q123.677 759.751 123.677 766.881 Q123.677 773.987 125.482 777.552 Q127.311 781.094 130.922 781.094 Q134.556 781.094 136.362 777.552 Q138.191 773.987 138.191 766.881 Q138.191 759.751 136.362 756.209 Q134.556 752.645 130.922 752.645 M130.922 748.941 Q136.732 748.941 139.788 753.547 Q142.867 758.131 142.867 766.881 Q142.867 775.608 139.788 780.214 Q136.732 784.797 130.922 784.797 Q125.112 784.797 122.033 780.214 Q118.978 775.608 118.978 766.881 Q118.978 758.131 122.033 753.547 Q125.112 748.941 130.922 748.941 Z\" fill=\"#000000\" fill-rule=\"evenodd\" fill-opacity=\"1\" /><path clip-path=\"url(#clip670)\" d=\"M121.964 532.328 L140.32 532.328 L140.32 536.263 L126.246 536.263 L126.246 544.735 Q127.265 544.388 128.283 544.226 Q129.302 544.041 130.32 544.041 Q136.107 544.041 139.487 547.212 Q142.867 550.383 142.867 555.8 Q142.867 561.378 139.394 564.48 Q135.922 567.559 129.603 567.559 Q127.427 567.559 125.158 567.189 Q122.913 566.818 120.506 566.077 L120.506 561.378 Q122.589 562.513 124.811 563.068 Q127.033 563.624 129.51 563.624 Q133.515 563.624 135.853 561.517 Q138.191 559.411 138.191 555.8 Q138.191 552.189 135.853 550.082 Q133.515 547.976 129.51 547.976 Q127.635 547.976 125.76 548.392 Q123.908 548.809 121.964 549.689 L121.964 532.328 Z\" fill=\"#000000\" fill-rule=\"evenodd\" fill-opacity=\"1\" /><path clip-path=\"url(#clip670)\" d=\"M91.5706 345.714 L99.2095 345.714 L99.2095 319.349 L90.8993 321.015 L90.8993 316.756 L99.1632 315.089 L103.839 315.089 L103.839 345.714 L111.478 345.714 L111.478 349.649 L91.5706 349.649 L91.5706 345.714 Z\" fill=\"#000000\" fill-rule=\"evenodd\" fill-opacity=\"1\" /><path clip-path=\"url(#clip670)\" d=\"M130.922 318.168 Q127.311 318.168 125.482 321.733 Q123.677 325.275 123.677 332.404 Q123.677 339.511 125.482 343.075 Q127.311 346.617 130.922 346.617 Q134.556 346.617 136.362 343.075 Q138.191 339.511 138.191 332.404 Q138.191 325.275 136.362 321.733 Q134.556 318.168 130.922 318.168 M130.922 314.464 Q136.732 314.464 139.788 319.071 Q142.867 323.654 142.867 332.404 Q142.867 341.131 139.788 345.737 Q136.732 350.321 130.922 350.321 Q125.112 350.321 122.033 345.737 Q118.978 341.131 118.978 332.404 Q118.978 323.654 122.033 319.071 Q125.112 314.464 130.922 314.464 Z\" fill=\"#000000\" fill-rule=\"evenodd\" fill-opacity=\"1\" /><path clip-path=\"url(#clip670)\" d=\"M92.566 128.476 L100.205 128.476 L100.205 102.11 L91.8947 103.777 L91.8947 99.5177 L100.159 97.8511 L104.834 97.8511 L104.834 128.476 L112.473 128.476 L112.473 132.411 L92.566 132.411 L92.566 128.476 Z\" fill=\"#000000\" fill-rule=\"evenodd\" fill-opacity=\"1\" /><path clip-path=\"url(#clip670)\" d=\"M121.964 97.8511 L140.32 97.8511 L140.32 101.786 L126.246 101.786 L126.246 110.258 Q127.265 109.911 128.283 109.749 Q129.302 109.564 130.32 109.564 Q136.107 109.564 139.487 112.735 Q142.867 115.907 142.867 121.323 Q142.867 126.902 139.394 130.004 Q135.922 133.082 129.603 133.082 Q127.427 133.082 125.158 132.712 Q122.913 132.342 120.506 131.601 L120.506 126.902 Q122.589 128.036 124.811 128.592 Q127.033 129.147 129.51 129.147 Q133.515 129.147 135.853 127.041 Q138.191 124.934 138.191 121.323 Q138.191 117.712 135.853 115.606 Q133.515 113.499 129.51 113.499 Q127.635 113.499 125.76 113.916 Q123.908 114.332 121.964 115.212 L121.964 97.8511 Z\" fill=\"#000000\" fill-rule=\"evenodd\" fill-opacity=\"1\" /><polyline clip-path=\"url(#clip672)\" style=\"stroke:#009af9; stroke-linecap:butt; stroke-linejoin:round; stroke-width:4; stroke-opacity:1; fill:none\" points=\"\n",
       "  178.867,1445.72 182.405,1439.11 185.943,1432.54 189.482,1426.02 193.02,1419.54 225.737,1361.63 258.453,1307.25 291.17,1256.29 323.887,1208.63 343.548,1181.54 \n",
       "  363.209,1155.58 382.871,1130.73 402.532,1106.95 435.779,1069.15 469.026,1034.26 505.141,999.523 541.257,967.93 574.552,941.463 607.847,917.427 643.543,894.225 \n",
       "  679.239,873.537 720.597,852.523 761.954,834.468 798.708,820.723 835.461,808.98 867.691,800.205 899.92,792.741 935.059,785.974 970.198,780.502 1005.55,776.166 \n",
       "  1040.89,772.861 1119.06,768.517 1193.43,767.046 1270.75,766.846 1335.85,766.664 1415.32,765.079 1488.12,761.038 1521.74,757.984 1555.36,754.014 1589.41,748.932 \n",
       "  1623.47,742.661 1661.63,734.062 1699.8,723.636 1734.38,712.46 1768.96,699.507 1808.56,682.325 1848.16,662.444 1884.82,641.458 1921.48,617.833 1957.63,591.805 \n",
       "  1993.77,562.91 2028.87,531.971 2063.96,498.051 2099.94,460.041 2135.91,418.607 2155.62,394.404 2175.33,369.105 2195.04,342.685 2214.75,315.121 2243.38,272.99 \n",
       "  2272,228.318 2300.63,181.029 2329.26,131.051 2335.14,120.458 2341.01,109.749 2346.88,98.9218 2352.76,87.9763 \n",
       "  \"/>\n",
       "<path clip-path=\"url(#clip670)\" d=\"\n",
       "M1986.32 198.898 L2280.29 198.898 L2280.29 95.2176 L1986.32 95.2176  Z\n",
       "  \" fill=\"#ffffff\" fill-rule=\"evenodd\" fill-opacity=\"1\"/>\n",
       "<polyline clip-path=\"url(#clip670)\" style=\"stroke:#000000; stroke-linecap:butt; stroke-linejoin:round; stroke-width:4; stroke-opacity:1; fill:none\" points=\"\n",
       "  1986.32,198.898 2280.29,198.898 2280.29,95.2176 1986.32,95.2176 1986.32,198.898 \n",
       "  \"/>\n",
       "<polyline clip-path=\"url(#clip670)\" style=\"stroke:#009af9; stroke-linecap:butt; stroke-linejoin:round; stroke-width:4; stroke-opacity:1; fill:none\" points=\"\n",
       "  2010.47,147.058 2155.4,147.058 \n",
       "  \"/>\n",
       "<path clip-path=\"url(#clip670)\" d=\"M2193.4 166.745 Q2191.59 171.375 2189.88 172.787 Q2188.17 174.199 2185.29 174.199 L2181.89 174.199 L2181.89 170.634 L2184.39 170.634 Q2186.15 170.634 2187.12 169.8 Q2188.1 168.967 2189.28 165.865 L2190.04 163.921 L2179.55 138.412 L2184.07 138.412 L2192.17 158.689 L2200.27 138.412 L2204.79 138.412 L2193.4 166.745 Z\" fill=\"#000000\" fill-rule=\"evenodd\" fill-opacity=\"1\" /><path clip-path=\"url(#clip670)\" d=\"M2212.08 160.402 L2219.72 160.402 L2219.72 134.037 L2211.41 135.703 L2211.41 131.444 L2219.67 129.778 L2224.35 129.778 L2224.35 160.402 L2231.98 160.402 L2231.98 164.338 L2212.08 164.338 L2212.08 160.402 Z\" fill=\"#000000\" fill-rule=\"evenodd\" fill-opacity=\"1\" /></svg>\n"
      ]
     },
     "execution_count": 49,
     "metadata": {},
     "output_type": "execute_result"
    }
   ],
   "source": [
    "plot4 = plot(f, xlim=(-2.5, 2.5))"
   ]
  },
  {
   "cell_type": "code",
   "execution_count": 50,
   "metadata": {},
   "outputs": [
    {
     "data": {
      "text/plain": [
       "Results of univariate zero finding:\n",
       "\n",
       "* Converged to: 0.0\n",
       "* Algorithm: Order2()\n",
       "* iterations: 1\n",
       "* function evaluations ≈ 3\n",
       "* stopped as f(x_n) = 0\n",
       "\n",
       "Trace:\n",
       "x₁ = -3,\t fx₁ = -27\n",
       "x₂ = 3,\t fx₂ = 27\n",
       "x₃ = 0,\t fx₃ = 0\n",
       "\n"
      ]
     },
     "metadata": {},
     "output_type": "display_data"
    },
    {
     "data": {
      "text/plain": [
       "0.0"
      ]
     },
     "execution_count": 50,
     "metadata": {},
     "output_type": "execute_result"
    }
   ],
   "source": [
    "try\n",
    "    res8 = find_zero(f, (-3, 3), Order2(), verbose=true)\n",
    "catch\n",
    "    println(\"Perhaps bad starting point or interval:((\")\n",
    "end"
   ]
  }
 ],
 "metadata": {
  "kernelspec": {
   "display_name": "Julia 1.7.2",
   "language": "julia",
   "name": "julia-1.7"
  },
  "language_info": {
   "file_extension": ".jl",
   "mimetype": "application/julia",
   "name": "julia",
   "version": "1.7.2"
  }
 },
 "nbformat": 4,
 "nbformat_minor": 2
}
